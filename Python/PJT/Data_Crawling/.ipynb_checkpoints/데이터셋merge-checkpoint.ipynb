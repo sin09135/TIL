{
 "cells": [
  {
   "cell_type": "code",
   "execution_count": 19,
   "id": "264ec510-9f24-4555-9034-1ea0ebca008d",
   "metadata": {
    "tags": []
   },
   "outputs": [],
   "source": [
    "import pandas as pd\n",
    "\n",
    "df = pd.read_excel('과일가격(전체)_가공후_2024_15.xlsx')\n",
    "df1 = pd.read_excel('경제지표통합_201101_202406.xlsx')\n",
    "df2 = pd.read_excel('수출입실적.xlsx')"
   ]
  },
  {
   "cell_type": "code",
   "execution_count": 23,
   "id": "912685ca-fca2-4228-94b6-f62e18006fdd",
   "metadata": {
    "tags": []
   },
   "outputs": [
    {
     "data": {
      "text/plain": [
       "Index(['year', '무역수지_망고', '무역수지_사과', '무역수지_아보카도', '무역수지_오렌지', '무역수지_자몽',\n",
       "       '무역수지_파인애플', '무역수지_포도', '수출액_망고', '수출액_사과', '수출액_아보카도', '수출액_오렌지',\n",
       "       '수출액_자몽', '수출액_파인애플', '수출액_포도', '수출량_망고', '수출량_사과', '수출량_아보카도',\n",
       "       '수출량_오렌지', '수출량_자몽', '수출량_파인애플', '수출량_포도', '수입액_망고', '수입액_사과',\n",
       "       '수입액_아보카도', '수입액_오렌지', '수입액_자몽', '수입액_파인애플', '수입액_포도', '수입량_망고',\n",
       "       '수입량_사과', '수입량_아보카도', '수입량_오렌지', '수입량_자몽', '수입량_파인애플', '수입량_포도',\n",
       "       '무역수지_단감', '무역수지_바나나', '무역수지_배', '무역수지_복숭아', '수출액_단감', '수출액_바나나',\n",
       "       '수출액_배', '수출액_복숭아', '수출량_단감', '수출량_바나나', '수출량_배', '수출량_복숭아', '수입액_단감',\n",
       "       '수입액_바나나', '수입액_배', '수입액_복숭아', '수입량_단감', '수입량_바나나', '수입량_배', '수입량_복숭아',\n",
       "       '무역수지_감귤', '수출액_감귤', '수출량_감귤', '수입액_감귤', '수입량_감귤'],\n",
       "      dtype='object')"
      ]
     },
     "execution_count": 23,
     "metadata": {},
     "output_type": "execute_result"
    }
   ],
   "source": [
    "df2.columns"
   ]
  },
  {
   "cell_type": "code",
   "execution_count": 24,
   "id": "6c8407bf-70ed-4d0d-a729-4f7e7bd812b3",
   "metadata": {
    "tags": []
   },
   "outputs": [],
   "source": [
    "df2 = df2.rename(columns={'year': 'index'})\n",
    "df.set_index('index', inplace=True)\n",
    "df1.set_index('index', inplace=True)\n",
    "df2.set_index('index', inplace=True)"
   ]
  },
  {
   "cell_type": "code",
   "execution_count": 26,
   "id": "7643da6f-e8c5-4acf-be26-fd28947e4f04",
   "metadata": {
    "tags": []
   },
   "outputs": [],
   "source": [
    "# 필요한 경우, 인덱스의 형식을 '년-월'로 변환\n",
    "df.index = pd.to_datetime(df.index).strftime('%Y-%m')\n",
    "df1.index = pd.to_datetime(df1.index).strftime('%Y-%m')\n",
    "df2.index = pd.to_datetime(df2.index).strftime('%Y-%m')\n",
    "\n",
    "# 인덱스를 기준으로 outer merge\n",
    "merged_df = df.merge(df1, left_index=True, right_index=True, how='outer')\n",
    "merged_df = merged_df.merge(df2, left_index=True, right_index=True, how='outer')"
   ]
  },
  {
   "cell_type": "code",
   "execution_count": 29,
   "id": "42bb007d-733b-4b3f-bf3d-95af4c7be640",
   "metadata": {
    "tags": []
   },
   "outputs": [
    {
     "data": {
      "text/plain": [
       "Index(['감귤_소매가_상품_10개', '감귤_ 소매가_중품_10개', '감귤_중도매가_상품_1kg', '감귤_중도매가_중품_1kg',\n",
       "       '단감_소매가_상품_10개', '단감_소매가_중품_10개', '단감_중도매가_상품_1kg', '단감_중도매가_중품_1kg',\n",
       "       '망고_소매가격_수입_상품_1개', '망고_소매가_중품_1개',\n",
       "       ...\n",
       "       '수입액_복숭아', '수입량_단감', '수입량_바나나', '수입량_배', '수입량_복숭아', '무역수지_감귤', '수출액_감귤',\n",
       "       '수출량_감귤', '수입액_감귤', '수입량_감귤'],\n",
       "      dtype='object', length=132)"
      ]
     },
     "execution_count": 29,
     "metadata": {},
     "output_type": "execute_result"
    }
   ],
   "source": [
    "merged_df.columns"
   ]
  },
  {
   "cell_type": "code",
   "execution_count": 31,
   "id": "bce4123d-8cde-45ee-98de-032e3ee7aad2",
   "metadata": {
    "tags": []
   },
   "outputs": [],
   "source": [
    "merged_df.to_csv('가격_수출입_경제지표_240728.csv', encoding = 'utf-8-sig')"
   ]
  }
 ],
 "metadata": {
  "kernelspec": {
   "display_name": "Python 3 (ipykernel)",
   "language": "python",
   "name": "python3"
  },
  "language_info": {
   "codemirror_mode": {
    "name": "ipython",
    "version": 3
   },
   "file_extension": ".py",
   "mimetype": "text/x-python",
   "name": "python",
   "nbconvert_exporter": "python",
   "pygments_lexer": "ipython3",
   "version": "3.11.4"
  }
 },
 "nbformat": 4,
 "nbformat_minor": 5
}
