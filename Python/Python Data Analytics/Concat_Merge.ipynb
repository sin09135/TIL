{
 "cells": [
  {
   "cell_type": "markdown",
   "id": "cf465cb9-3bff-47d3-9ff3-ad3e9c0cbd3c",
   "metadata": {},
   "source": [
    "## 데이터 병합(concat, merge)"
   ]
  },
  {
   "cell_type": "markdown",
   "id": "6f971e28-b359-46ab-9d1f-45f2c851ad32",
   "metadata": {},
   "source": [
    "### Concat"
   ]
  },
  {
   "cell_type": "code",
   "execution_count": 1,
   "id": "df14d1a5-3c5b-4095-aaec-5ca4797e3cac",
   "metadata": {
    "tags": []
   },
   "outputs": [],
   "source": [
    "import pandas as pd"
   ]
  },
  {
   "cell_type": "code",
   "execution_count": 10,
   "id": "4c536a29-02e6-412e-9aa5-34548279242e",
   "metadata": {
    "tags": []
   },
   "outputs": [],
   "source": [
    "df1 = pd.DataFrame({'A':[1,2,3], 'B':[4,5,6]})\n",
    "df2 = pd.DataFrame({'A':[4,5,6],'B':[1,2,3]})\n",
    "df3 = pd.DataFrame({'A':[7,8,9],'B':[10,11,12],'c':[1,2,3]})"
   ]
  },
  {
   "cell_type": "code",
   "execution_count": 8,
   "id": "216e6226-d51b-4374-824f-6b3ee1166ffa",
   "metadata": {
    "tags": []
   },
   "outputs": [
    {
     "data": {
      "text/html": [
       "<div>\n",
       "<style scoped>\n",
       "    .dataframe tbody tr th:only-of-type {\n",
       "        vertical-align: middle;\n",
       "    }\n",
       "\n",
       "    .dataframe tbody tr th {\n",
       "        vertical-align: top;\n",
       "    }\n",
       "\n",
       "    .dataframe thead th {\n",
       "        text-align: right;\n",
       "    }\n",
       "</style>\n",
       "<table border=\"1\" class=\"dataframe\">\n",
       "  <thead>\n",
       "    <tr style=\"text-align: right;\">\n",
       "      <th></th>\n",
       "      <th>A</th>\n",
       "      <th>B</th>\n",
       "    </tr>\n",
       "  </thead>\n",
       "  <tbody>\n",
       "    <tr>\n",
       "      <th>0</th>\n",
       "      <td>1</td>\n",
       "      <td>4</td>\n",
       "    </tr>\n",
       "    <tr>\n",
       "      <th>1</th>\n",
       "      <td>2</td>\n",
       "      <td>5</td>\n",
       "    </tr>\n",
       "    <tr>\n",
       "      <th>2</th>\n",
       "      <td>3</td>\n",
       "      <td>6</td>\n",
       "    </tr>\n",
       "    <tr>\n",
       "      <th>3</th>\n",
       "      <td>4</td>\n",
       "      <td>1</td>\n",
       "    </tr>\n",
       "    <tr>\n",
       "      <th>4</th>\n",
       "      <td>5</td>\n",
       "      <td>2</td>\n",
       "    </tr>\n",
       "    <tr>\n",
       "      <th>5</th>\n",
       "      <td>6</td>\n",
       "      <td>3</td>\n",
       "    </tr>\n",
       "  </tbody>\n",
       "</table>\n",
       "</div>"
      ],
      "text/plain": [
       "   A  B\n",
       "0  1  4\n",
       "1  2  5\n",
       "2  3  6\n",
       "3  4  1\n",
       "4  5  2\n",
       "5  6  3"
      ]
     },
     "metadata": {},
     "output_type": "display_data"
    }
   ],
   "source": [
    "display(pd.concat([df1,df2],axis = 0, ignore_index = True)) # 인덱스 재정렬"
   ]
  },
  {
   "cell_type": "code",
   "execution_count": 11,
   "id": "7d55d924-cabf-4afb-b580-aa13ea837301",
   "metadata": {
    "tags": []
   },
   "outputs": [
    {
     "data": {
      "text/html": [
       "<div>\n",
       "<style scoped>\n",
       "    .dataframe tbody tr th:only-of-type {\n",
       "        vertical-align: middle;\n",
       "    }\n",
       "\n",
       "    .dataframe tbody tr th {\n",
       "        vertical-align: top;\n",
       "    }\n",
       "\n",
       "    .dataframe thead th {\n",
       "        text-align: right;\n",
       "    }\n",
       "</style>\n",
       "<table border=\"1\" class=\"dataframe\">\n",
       "  <thead>\n",
       "    <tr style=\"text-align: right;\">\n",
       "      <th></th>\n",
       "      <th>A</th>\n",
       "      <th>B</th>\n",
       "      <th>c</th>\n",
       "    </tr>\n",
       "  </thead>\n",
       "  <tbody>\n",
       "    <tr>\n",
       "      <th>0</th>\n",
       "      <td>1</td>\n",
       "      <td>4</td>\n",
       "      <td>NaN</td>\n",
       "    </tr>\n",
       "    <tr>\n",
       "      <th>1</th>\n",
       "      <td>2</td>\n",
       "      <td>5</td>\n",
       "      <td>NaN</td>\n",
       "    </tr>\n",
       "    <tr>\n",
       "      <th>2</th>\n",
       "      <td>3</td>\n",
       "      <td>6</td>\n",
       "      <td>NaN</td>\n",
       "    </tr>\n",
       "    <tr>\n",
       "      <th>3</th>\n",
       "      <td>7</td>\n",
       "      <td>10</td>\n",
       "      <td>1.0</td>\n",
       "    </tr>\n",
       "    <tr>\n",
       "      <th>4</th>\n",
       "      <td>8</td>\n",
       "      <td>11</td>\n",
       "      <td>2.0</td>\n",
       "    </tr>\n",
       "    <tr>\n",
       "      <th>5</th>\n",
       "      <td>9</td>\n",
       "      <td>12</td>\n",
       "      <td>3.0</td>\n",
       "    </tr>\n",
       "  </tbody>\n",
       "</table>\n",
       "</div>"
      ],
      "text/plain": [
       "   A   B    c\n",
       "0  1   4  NaN\n",
       "1  2   5  NaN\n",
       "2  3   6  NaN\n",
       "3  7  10  1.0\n",
       "4  8  11  2.0\n",
       "5  9  12  3.0"
      ]
     },
     "metadata": {},
     "output_type": "display_data"
    }
   ],
   "source": [
    "display(pd.concat([df1,df3],axis = 0, ignore_index = True))"
   ]
  },
  {
   "cell_type": "code",
   "execution_count": 13,
   "id": "71c575da-7b46-46f2-a749-2dcf65b7c3d1",
   "metadata": {
    "tags": []
   },
   "outputs": [
    {
     "data": {
      "text/plain": [
       "(3, 2)"
      ]
     },
     "execution_count": 13,
     "metadata": {},
     "output_type": "execute_result"
    }
   ],
   "source": [
    "df1.shape"
   ]
  },
  {
   "cell_type": "code",
   "execution_count": 14,
   "id": "c5c5e19c-d72d-467c-a824-73b02344ca32",
   "metadata": {
    "tags": []
   },
   "outputs": [
    {
     "data": {
      "text/plain": [
       "(3, 2)"
      ]
     },
     "execution_count": 14,
     "metadata": {},
     "output_type": "execute_result"
    }
   ],
   "source": [
    "df2.shape"
   ]
  },
  {
   "cell_type": "code",
   "execution_count": 16,
   "id": "868f423c-c886-4e67-999c-57ac00075cd7",
   "metadata": {
    "tags": []
   },
   "outputs": [
    {
     "data": {
      "text/plain": [
       "(3, 3)"
      ]
     },
     "execution_count": 16,
     "metadata": {},
     "output_type": "execute_result"
    }
   ],
   "source": [
    "df3.shape"
   ]
  },
  {
   "cell_type": "markdown",
   "id": "5221278a-0976-4308-873e-3807ce84861f",
   "metadata": {},
   "source": [
    "- 시계열 인덱스 기준, 날짜 기준으로 데이터 붙이는 경우\n",
    "- 전혀 다른데이터를 붙여야 한다면 concat 사용"
   ]
  },
  {
   "cell_type": "markdown",
   "id": "544421ee-b6f9-4cf1-9e8d-b21623c24f19",
   "metadata": {
    "tags": []
   },
   "source": [
    "### Merge\n",
    "- join 이라는 함수가 들어간다.\n",
    "- 공통컬럼이 필요하다.(pk 개념)\n",
    "\n",
    "- merge 파라미터가 있지만 주요한 것\n",
    "- left : 가장 먼저 쓴 데이터프레임, 왼쪽\n",
    "- right : 두번째로 쓴 데이터 프레임, right(2개 기준일 때, 3개 이상으로 하게되면 순서에 따라서 정렬)\n",
    "- on : join key 사용할 컬럼을 적는 것\n",
    "- left_on : 왼쪽 데이터 프레임에서 join key 로 사용할 컬럼 목록 적기\n",
    "- right_on : 오른쪽 데이터 프레임에서 join key 로 사용할 컬럼 목록 적기\n",
    "- left_index : 왼쪽 데이터프레임의 join 기준 인덱스 사용할지 여부\n",
    "- right_index : 오른쪽 데이터프레임 join 기준 인덱스 사용할지 여부\n",
    "- how : join 병합 방법"
   ]
  },
  {
   "cell_type": "code",
   "execution_count": null,
   "id": "3d95649a-311f-487f-9341-b0050665c81a",
   "metadata": {},
   "outputs": [],
   "source": []
  }
 ],
 "metadata": {
  "kernelspec": {
   "display_name": "Python 3 (ipykernel)",
   "language": "python",
   "name": "python3"
  },
  "language_info": {
   "codemirror_mode": {
    "name": "ipython",
    "version": 3
   },
   "file_extension": ".py",
   "mimetype": "text/x-python",
   "name": "python",
   "nbconvert_exporter": "python",
   "pygments_lexer": "ipython3",
   "version": "3.11.4"
  }
 },
 "nbformat": 4,
 "nbformat_minor": 5
}
