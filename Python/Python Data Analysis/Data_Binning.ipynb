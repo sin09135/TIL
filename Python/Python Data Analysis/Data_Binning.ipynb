{
 "cells": [
  {
   "cell_type": "markdown",
   "id": "969ba939-0c13-4aea-8546-b15f35e3e23a",
   "metadata": {},
   "source": [
    "## 데이터(변수) 구간화 Binning\n",
    "- 연속형 변수를 다룰 때 > 구간화로 변수를 새롭게 만든다.\n",
    "- Binning 을 통해서 해당 변수의 스케일이나 분포가 모델에 미치는 영향을 줄일 수 있다.\n",
    "- 변수구간화 > 연속형 변수를 구간 또는 범주로 나누는 것\n",
    "- 연속형 변수를 구간으로 나누는 것"
   ]
  },
  {
   "cell_type": "markdown",
   "id": "f352853b-c750-4a2b-95ea-d80fb9a033d1",
   "metadata": {},
   "source": [
    "- 1. 구간설정 : 미리 개수나 도메일 지식으로 정할 수 있다.\n",
    "- 2. 구간경계설정 : 어디까지 어떤 값으로 하겠다는 경계 필요\n",
    "- 3. 데이터 비닝 : 설정 구간에 따라 연속형 변수들을 구간 또는 범주에 할당\n",
    "- 이상형 변수로 변환 후 사용, 데이터 마이닝에도 사용할 수 있다"
   ]
  },
  {
   "cell_type": "markdown",
   "id": "b1510d71-e234-4c72-bf54-395d85d97c6a",
   "metadata": {
    "tags": []
   },
   "source": [
    "- 구간별 평균값으로 평활화\n",
    "- 중앙값으로 평활화\n",
    "- 경계값으로 평활화"
   ]
  },
  {
   "cell_type": "code",
   "execution_count": 1,
   "id": "8ba5c11f-c3b6-4db7-a6e2-ecffd94a644b",
   "metadata": {
    "tags": []
   },
   "outputs": [],
   "source": [
    "import matplotlib.pyplot as plt\n",
    "import pandas as pd\n",
    "import seaborn as sns\n",
    "from xverse.transformer import WOE"
   ]
  },
  {
   "cell_type": "code",
   "execution_count": 4,
   "id": "1459ce3c-90a0-45cd-bafb-ff1ac47e0ee8",
   "metadata": {
    "tags": []
   },
   "outputs": [],
   "source": [
    "df = pd.read_csv('data/heart_2020_cleaned.csv')"
   ]
  },
  {
   "cell_type": "code",
   "execution_count": 6,
   "id": "1ca90968-3019-47c2-95a9-7cabf9071bcb",
   "metadata": {
    "tags": []
   },
   "outputs": [
    {
     "data": {
      "text/html": [
       "<div>\n",
       "<style scoped>\n",
       "    .dataframe tbody tr th:only-of-type {\n",
       "        vertical-align: middle;\n",
       "    }\n",
       "\n",
       "    .dataframe tbody tr th {\n",
       "        vertical-align: top;\n",
       "    }\n",
       "\n",
       "    .dataframe thead th {\n",
       "        text-align: right;\n",
       "    }\n",
       "</style>\n",
       "<table border=\"1\" class=\"dataframe\">\n",
       "  <thead>\n",
       "    <tr style=\"text-align: right;\">\n",
       "      <th></th>\n",
       "      <th>BMI</th>\n",
       "      <th>PhysicalHealth</th>\n",
       "      <th>MentalHealth</th>\n",
       "      <th>SleepTime</th>\n",
       "    </tr>\n",
       "  </thead>\n",
       "  <tbody>\n",
       "    <tr>\n",
       "      <th>count</th>\n",
       "      <td>319795.000000</td>\n",
       "      <td>319795.00000</td>\n",
       "      <td>319795.000000</td>\n",
       "      <td>319795.000000</td>\n",
       "    </tr>\n",
       "    <tr>\n",
       "      <th>mean</th>\n",
       "      <td>28.325399</td>\n",
       "      <td>3.37171</td>\n",
       "      <td>3.898366</td>\n",
       "      <td>7.097075</td>\n",
       "    </tr>\n",
       "    <tr>\n",
       "      <th>std</th>\n",
       "      <td>6.356100</td>\n",
       "      <td>7.95085</td>\n",
       "      <td>7.955235</td>\n",
       "      <td>1.436007</td>\n",
       "    </tr>\n",
       "    <tr>\n",
       "      <th>min</th>\n",
       "      <td>12.020000</td>\n",
       "      <td>0.00000</td>\n",
       "      <td>0.000000</td>\n",
       "      <td>1.000000</td>\n",
       "    </tr>\n",
       "    <tr>\n",
       "      <th>25%</th>\n",
       "      <td>24.030000</td>\n",
       "      <td>0.00000</td>\n",
       "      <td>0.000000</td>\n",
       "      <td>6.000000</td>\n",
       "    </tr>\n",
       "    <tr>\n",
       "      <th>50%</th>\n",
       "      <td>27.340000</td>\n",
       "      <td>0.00000</td>\n",
       "      <td>0.000000</td>\n",
       "      <td>7.000000</td>\n",
       "    </tr>\n",
       "    <tr>\n",
       "      <th>75%</th>\n",
       "      <td>31.420000</td>\n",
       "      <td>2.00000</td>\n",
       "      <td>3.000000</td>\n",
       "      <td>8.000000</td>\n",
       "    </tr>\n",
       "    <tr>\n",
       "      <th>max</th>\n",
       "      <td>94.850000</td>\n",
       "      <td>30.00000</td>\n",
       "      <td>30.000000</td>\n",
       "      <td>24.000000</td>\n",
       "    </tr>\n",
       "  </tbody>\n",
       "</table>\n",
       "</div>"
      ],
      "text/plain": [
       "                 BMI  PhysicalHealth   MentalHealth      SleepTime\n",
       "count  319795.000000    319795.00000  319795.000000  319795.000000\n",
       "mean       28.325399         3.37171       3.898366       7.097075\n",
       "std         6.356100         7.95085       7.955235       1.436007\n",
       "min        12.020000         0.00000       0.000000       1.000000\n",
       "25%        24.030000         0.00000       0.000000       6.000000\n",
       "50%        27.340000         0.00000       0.000000       7.000000\n",
       "75%        31.420000         2.00000       3.000000       8.000000\n",
       "max        94.850000        30.00000      30.000000      24.000000"
      ]
     },
     "execution_count": 6,
     "metadata": {},
     "output_type": "execute_result"
    }
   ],
   "source": [
    "df.describe()"
   ]
  },
  {
   "cell_type": "code",
   "execution_count": 7,
   "id": "fefc4506-315a-4e6f-90af-b22e9824dbca",
   "metadata": {
    "tags": []
   },
   "outputs": [],
   "source": [
    "df1 = df.copy()"
   ]
  },
  {
   "cell_type": "code",
   "execution_count": 8,
   "id": "02699fcf-217f-482a-b61b-966a9263e917",
   "metadata": {
    "tags": []
   },
   "outputs": [],
   "source": [
    "df1.insert(2, 'BMI_bin', 0)"
   ]
  },
  {
   "cell_type": "code",
   "execution_count": 14,
   "id": "9079ab90-5ba9-41d6-bc41-a5c09271018c",
   "metadata": {
    "tags": []
   },
   "outputs": [],
   "source": [
    "# pandas 에서 제공하는 cut 함수 이용해서 가능\n",
    "df1.insert(3, 'BMI_bis3',0)\n",
    "df1['BMI_bins3'] = pd.cut(df1.BMI, bins = [0,20,30,40,50,60,70],\n",
    "                          labels = ['a','b','c','d','e','f'])"
   ]
  },
  {
   "cell_type": "code",
   "execution_count": 15,
   "id": "a7c5a5a5-76d4-405f-a1ea-07451efcfede",
   "metadata": {
    "tags": []
   },
   "outputs": [],
   "source": [
    "#pd.qcut 함수 이용하면 된다.\n",
    "df1.insert(6,'BMI_bin5',0)\n",
    "df1['BMI_bin5'] = pd.qcut(df.BMI, q = 6, labels = ['a','b','c','d','e','f'])"
   ]
  },
  {
   "cell_type": "code",
   "execution_count": 16,
   "id": "de326377-5fe8-40a4-84d7-4cbf1fea6c48",
   "metadata": {
    "tags": []
   },
   "outputs": [
    {
     "data": {
      "text/plain": [
       "0         a\n",
       "1         a\n",
       "2         c\n",
       "3         b\n",
       "4         b\n",
       "         ..\n",
       "319790    d\n",
       "319791    d\n",
       "319792    b\n",
       "319793    e\n",
       "319794    f\n",
       "Name: BMI_bin5, Length: 319795, dtype: category\n",
       "Categories (6, object): ['a' < 'b' < 'c' < 'd' < 'e' < 'f']"
      ]
     },
     "execution_count": 16,
     "metadata": {},
     "output_type": "execute_result"
    }
   ],
   "source": [
    "df1['BMI_bin5']"
   ]
  },
  {
   "cell_type": "markdown",
   "id": "e492d3fd-a4a6-47da-93c2-f45005dc1b69",
   "metadata": {
    "tags": []
   },
   "source": [
    "## Feature_selection 영역\n",
    "- 구간화 등의 범주형 변수로 만들었을 때, 이진으로 만든 경우도 있고 여러개의 피처들을 만들었음\n",
    "- 어떤 피처를 사용해야 하는가?\n",
    "----\n",
    "- WOE(Weight of Evidence), IV(Information Value)\n",
    "- 변수의 정보량과 예측력을 평가하는데 사용하는 지표\n",
    "- 변수 구간화 : 연속형 변수를 여러 구간으로 나눈다 > 범위 기반, 빈도 기반, 도메인 기반 등\n",
    "----\n",
    "- WOE : 각 구간 별로 양성, 음성 두 클래스 비율을 계산한다. > 해당 각 클래스의 구간에 대해서 공식을 사용해서 해당 WOE 를 계산한다.\n",
    "- ln(구간 내 양성 클래스 비율)/(구간 내 음성 클래스비율) 이 값의 결과로 해당 변수를 평가한다.\n",
    "\n",
    "----\n",
    "- 해당 수치가 나왔을 때 해석하는 방법?\n",
    "- WOE 양수 : 구간 값들이 양성클래스의 발생이 더 관련이 있다.\n",
    "- WOE 음수 : 구간 값들이 음성 클래스의 발생에 더 고나련이 있다.\n",
    "- WOE 큰 양수 또는 큰 음수 : 해당 구간 값이 혜측값과 강한 관계를 가지고 있다.\n",
    "- WOE 0인 값 : 클래스와 큰 관계가 없다.\n",
    "\n",
    "- 변수 선택 시 유용하거나 유용하지 않거나 등의 변수를 식별학 제외할 수 있다.\n",
    "\n",
    "----\n",
    "- IV(Information Value): 변수의 예측력을 평가하는데 사용하는 통계적 수치\n",
    "- 각 구간에 대한 WOE를 계산 했을 때\n",
    "- 위의 공식을 사용해서 {(양성클래스 비율)- (음성클래스 비율)}WOE 이 값을 통해서 해당 변수의 예측력을 평가한다.\n",
    "\n",
    "- IV 기준\n",
    "- IV < 0.02 : 유용하지 않은 변수\n",
    "- 0.02 <= IV < 0.1 : 약한 예측력\n",
    "- 0.1 <= IV < 0.3 : 중간 예측력\n",
    "- 0.3 <= IV < 0.5 : 강한 예측력\n",
    "- IV >= 0.5 : 매우 강한 예측력"
   ]
  },
  {
   "cell_type": "code",
   "execution_count": 18,
   "id": "ad3d3626-50e6-4ce4-883f-3dde7bd7f7ca",
   "metadata": {
    "tags": []
   },
   "outputs": [],
   "source": [
    "import seaborn as sns\n",
    "tt = sns.load_dataset('titanic')"
   ]
  },
  {
   "cell_type": "code",
   "execution_count": 20,
   "id": "ecbaf4f4-764b-498a-be9e-b86935c61414",
   "metadata": {
    "tags": []
   },
   "outputs": [
    {
     "data": {
      "text/html": [
       "<div>\n",
       "<style scoped>\n",
       "    .dataframe tbody tr th:only-of-type {\n",
       "        vertical-align: middle;\n",
       "    }\n",
       "\n",
       "    .dataframe tbody tr th {\n",
       "        vertical-align: top;\n",
       "    }\n",
       "\n",
       "    .dataframe thead th {\n",
       "        text-align: right;\n",
       "    }\n",
       "</style>\n",
       "<table border=\"1\" class=\"dataframe\">\n",
       "  <thead>\n",
       "    <tr style=\"text-align: right;\">\n",
       "      <th></th>\n",
       "      <th>female</th>\n",
       "      <th>male</th>\n",
       "    </tr>\n",
       "  </thead>\n",
       "  <tbody>\n",
       "    <tr>\n",
       "      <th>1</th>\n",
       "      <td>1</td>\n",
       "      <td>0</td>\n",
       "    </tr>\n",
       "    <tr>\n",
       "      <th>3</th>\n",
       "      <td>1</td>\n",
       "      <td>0</td>\n",
       "    </tr>\n",
       "    <tr>\n",
       "      <th>6</th>\n",
       "      <td>0</td>\n",
       "      <td>1</td>\n",
       "    </tr>\n",
       "    <tr>\n",
       "      <th>10</th>\n",
       "      <td>1</td>\n",
       "      <td>0</td>\n",
       "    </tr>\n",
       "    <tr>\n",
       "      <th>11</th>\n",
       "      <td>1</td>\n",
       "      <td>0</td>\n",
       "    </tr>\n",
       "    <tr>\n",
       "      <th>...</th>\n",
       "      <td>...</td>\n",
       "      <td>...</td>\n",
       "    </tr>\n",
       "    <tr>\n",
       "      <th>871</th>\n",
       "      <td>1</td>\n",
       "      <td>0</td>\n",
       "    </tr>\n",
       "    <tr>\n",
       "      <th>872</th>\n",
       "      <td>0</td>\n",
       "      <td>1</td>\n",
       "    </tr>\n",
       "    <tr>\n",
       "      <th>879</th>\n",
       "      <td>1</td>\n",
       "      <td>0</td>\n",
       "    </tr>\n",
       "    <tr>\n",
       "      <th>887</th>\n",
       "      <td>1</td>\n",
       "      <td>0</td>\n",
       "    </tr>\n",
       "    <tr>\n",
       "      <th>889</th>\n",
       "      <td>0</td>\n",
       "      <td>1</td>\n",
       "    </tr>\n",
       "  </tbody>\n",
       "</table>\n",
       "<p>182 rows × 2 columns</p>\n",
       "</div>"
      ],
      "text/plain": [
       "     female  male\n",
       "1         1     0\n",
       "3         1     0\n",
       "6         0     1\n",
       "10        1     0\n",
       "11        1     0\n",
       "..      ...   ...\n",
       "871       1     0\n",
       "872       0     1\n",
       "879       1     0\n",
       "887       1     0\n",
       "889       0     1\n",
       "\n",
       "[182 rows x 2 columns]"
      ]
     },
     "execution_count": 20,
     "metadata": {},
     "output_type": "execute_result"
    }
   ],
   "source": [
    "tt[['survived','sex','age']]\n",
    "tt = tt.dropna()\n",
    "pd.get_dummies(tt['sex']) # 원핫_성별 변수 생성"
   ]
  },
  {
   "cell_type": "code",
   "execution_count": 21,
   "id": "29d58fdb-2a09-4d34-a0c0-360ed89a8806",
   "metadata": {
    "tags": []
   },
   "outputs": [],
   "source": [
    "y = tt['survived']"
   ]
  },
  {
   "cell_type": "markdown",
   "id": "1ba36d5f-9e84-45aa-9536-c3ad648f854d",
   "metadata": {},
   "source": [
    "from xverse.transformer import WOE\n",
    "- 패키지를 이용해서 간단한 예시를 들 수 있다."
   ]
  },
  {
   "cell_type": "code",
   "execution_count": null,
   "id": "98821aab-f704-4467-9792-fbaf70423724",
   "metadata": {},
   "outputs": [],
   "source": [
    "## KbinsDiscretizer\n",
    "- scikit learn"
   ]
  }
 ],
 "metadata": {
  "kernelspec": {
   "display_name": "Python 3 (ipykernel)",
   "language": "python",
   "name": "python3"
  },
  "language_info": {
   "codemirror_mode": {
    "name": "ipython",
    "version": 3
   },
   "file_extension": ".py",
   "mimetype": "text/x-python",
   "name": "python",
   "nbconvert_exporter": "python",
   "pygments_lexer": "ipython3",
   "version": "3.11.4"
  }
 },
 "nbformat": 4,
 "nbformat_minor": 5
}
