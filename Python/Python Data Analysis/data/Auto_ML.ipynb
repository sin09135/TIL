{
 "cells": [
  {
   "cell_type": "code",
   "execution_count": 1,
   "id": "6a418ba3-da18-4c30-865f-ed43059963f9",
   "metadata": {
    "tags": []
   },
   "outputs": [
    {
     "name": "stderr",
     "output_type": "stream",
     "text": [
      "/Users/kimsinwoo/anaconda3/lib/python3.11/site-packages/tpot/builtins/__init__.py:36: UserWarning: Warning: optional dependency `torch` is not available. - skipping import of NN models.\n",
      "  warnings.warn(\"Warning: optional dependency `torch` is not available. - skipping import of NN models.\")\n"
     ]
    }
   ],
   "source": [
    "from tpot import TPOTClassifier\n",
    "from sklearn.model_selection import train_test_split\n",
    "from sklearn.datasets import load_iris"
   ]
  },
  {
   "cell_type": "code",
   "execution_count": 2,
   "id": "45fdafa0-b2d1-4043-a1a2-26e4bf322780",
   "metadata": {
    "tags": []
   },
   "outputs": [],
   "source": [
    "iris = load_iris()"
   ]
  },
  {
   "cell_type": "code",
   "execution_count": null,
   "id": "15e5d09e-2f01-4104-9c24-b2d9663abd16",
   "metadata": {},
   "outputs": [],
   "source": [
    "X_train, X_text, y_train,y_test = train_test_split(iris, test_size = 0.3, "
   ]
  },
  {
   "cell_type": "markdown",
   "id": "d8f05809-81ff-4e56-8ec2-72a1820bbdad",
   "metadata": {},
   "source": [
    "- 분류모델"
   ]
  },
  {
   "cell_type": "code",
   "execution_count": 6,
   "id": "1c4ad323-1224-40ef-b3a8-e62939ed6f78",
   "metadata": {
    "tags": []
   },
   "outputs": [],
   "source": [
    "tpot = TPOTClassifier(generations = 7, population_size = 25, random_state= 111)"
   ]
  },
  {
   "cell_type": "code",
   "execution_count": null,
   "id": "4c431dc3-22f3-4e0a-bfa6-e60985312303",
   "metadata": {},
   "outputs": [],
   "source": [
    "tpot.fit(X_train, y_train)"
   ]
  },
  {
   "cell_type": "code",
   "execution_count": null,
   "id": "a0fa5ac3-0a06-4d78-8ca9-57ca0a5ab33e",
   "metadata": {},
   "outputs": [],
   "source": [
    "print(tpot.score(X_test, y_test))"
   ]
  },
  {
   "cell_type": "code",
   "execution_count": null,
   "id": "c58b2f38-b199-4f75-9675-cd059550fd88",
   "metadata": {},
   "outputs": [],
   "source": [
    "tpot.evaluated_individuals_ # 모델과 하이퍼 하라미터를 볼 수 있는 경우"
   ]
  },
  {
   "cell_type": "code",
   "execution_count": null,
   "id": "58ff3234-dda7-4065-bb48-4dd3bee32c3a",
   "metadata": {},
   "outputs": [],
   "source": [
    "tpot.fitted_pipeline_ # 가장 성능이 좋은 모델을 무엇인가"
   ]
  },
  {
   "cell_type": "markdown",
   "id": "f523bbbf-299e-488b-ac68-8aa664f2a786",
   "metadata": {},
   "source": [
    "- 회귀모델"
   ]
  },
  {
   "cell_type": "code",
   "execution_count": null,
   "id": "ba192314-e0ea-4f54-8e54-b467c844a536",
   "metadata": {},
   "outputs": [],
   "source": [
    "from tpot import TPOTRegressor"
   ]
  }
 ],
 "metadata": {
  "kernelspec": {
   "display_name": "Python 3 (ipykernel)",
   "language": "python",
   "name": "python3"
  },
  "language_info": {
   "codemirror_mode": {
    "name": "ipython",
    "version": 3
   },
   "file_extension": ".py",
   "mimetype": "text/x-python",
   "name": "python",
   "nbconvert_exporter": "python",
   "pygments_lexer": "ipython3",
   "version": "3.11.4"
  }
 },
 "nbformat": 4,
 "nbformat_minor": 5
}
