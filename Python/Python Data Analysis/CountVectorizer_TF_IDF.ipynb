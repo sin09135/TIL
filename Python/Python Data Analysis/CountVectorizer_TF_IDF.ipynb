{
 "cells": [
  {
   "cell_type": "markdown",
   "id": "56f075a1-4c2c-4b95-9cea-14e15c9a40fb",
   "metadata": {
    "tags": []
   },
   "source": [
    "## CountVectorize, TF-IDF"
   ]
  },
  {
   "cell_type": "code",
   "execution_count": 1,
   "id": "73b46b8d-b7d3-47ed-966a-7841844b9010",
   "metadata": {
    "tags": []
   },
   "outputs": [],
   "source": [
    "import pandas as pd\n",
    "import numpy as np\n",
    "\n",
    "df = pd.read_csv('data/movie_rv.csv')"
   ]
  },
  {
   "cell_type": "code",
   "execution_count": 2,
   "id": "77497aa0-78ee-4ddb-a19d-12425d08a549",
   "metadata": {
    "tags": []
   },
   "outputs": [
    {
     "data": {
      "text/plain": [
       "Unnamed: 0    0\n",
       "id            0\n",
       "document      5\n",
       "label         0\n",
       "dtype: int64"
      ]
     },
     "execution_count": 2,
     "metadata": {},
     "output_type": "execute_result"
    }
   ],
   "source": [
    "df.isna().sum()"
   ]
  },
  {
   "cell_type": "code",
   "execution_count": 3,
   "id": "90abadf2-24f0-4616-a2b7-429d4471e747",
   "metadata": {
    "tags": []
   },
   "outputs": [],
   "source": [
    "df['document'] = df['document'].fillna(0)\n",
    "df['document'] = df['document'].astype(str)"
   ]
  },
  {
   "cell_type": "markdown",
   "id": "c3e563ad-9418-49db-b6c7-32aa71580ca8",
   "metadata": {},
   "source": [
    "### CountVectorize\n",
    "- bow 카운트 기반으로(카운팅으로 전처리 진행)\n",
    "- 학습하기 위해서 어떤 식으로 벡터를 만들어야 하는지"
   ]
  },
  {
   "cell_type": "code",
   "execution_count": 4,
   "id": "d3d48034-4fae-4cc7-8e29-75a9163a2850",
   "metadata": {
    "tags": []
   },
   "outputs": [],
   "source": [
    "from sklearn.feature_extraction.text import CountVectorizer\n",
    "# max_feature 빈도 기반으로, 우선순위로, 100개 1000개 10000개 등 본인이 원하는 피쳐에 제한을 둘 수 있다."
   ]
  },
  {
   "cell_type": "code",
   "execution_count": 5,
   "id": "d8d527a1-eb26-44d3-adc6-99f371089395",
   "metadata": {
    "tags": []
   },
   "outputs": [
    {
     "data": {
      "text/plain": [
       "0                                       아 더빙.. 진짜 짜증나네요 목소리\n",
       "1                         흠...포스터보고 초딩영화줄....오버연기조차 가볍지 않구나\n",
       "2                                         너무재밓었다그래서보는것을추천한다\n",
       "3                             교도소 이야기구먼 ..솔직히 재미는 없다..평점 조정\n",
       "4         사이몬페그의 익살스런 연기가 돋보였던 영화!스파이더맨에서 늙어보이기만 했던 커스틴 ...\n",
       "                                ...                        \n",
       "149995                                  인간이 문제지.. 소는 뭔죄인가..\n",
       "149996                                        평점이 너무 낮아서...\n",
       "149997                      이게 뭐요? 한국인은 거들먹거리고 필리핀 혼혈은 착하다?\n",
       "149998                          청춘 영화의 최고봉.방황과 우울했던 날들의 자화상\n",
       "149999                             한국 영화 최초로 수간하는 내용이 담긴 영화\n",
       "Name: document, Length: 150000, dtype: object"
      ]
     },
     "execution_count": 5,
     "metadata": {},
     "output_type": "execute_result"
    }
   ],
   "source": [
    "df['document']"
   ]
  },
  {
   "cell_type": "code",
   "execution_count": 6,
   "id": "94ffa693-4bcb-4f0e-8b23-90a6df1f6eef",
   "metadata": {
    "tags": []
   },
   "outputs": [],
   "source": [
    "re_cv = CountVectorizer(max_features = 1000) # 1000개의 피쳐만 가지고 오겠다."
   ]
  },
  {
   "cell_type": "code",
   "execution_count": 7,
   "id": "9c9cdafc-96b9-462b-9fe2-9f9677b87edf",
   "metadata": {
    "tags": []
   },
   "outputs": [],
   "source": [
    "# 리뷰데이터를 안에 넣어보자(전처리를 해야하지만, 시간관계상 패스)\n",
    "re_dtm = re_cv.fit_transform(df['document'])"
   ]
  },
  {
   "cell_type": "code",
   "execution_count": 8,
   "id": "a33d2a86-35a6-4476-8d99-c2255233611e",
   "metadata": {
    "tags": []
   },
   "outputs": [
    {
     "data": {
      "text/plain": [
       "<150000x1000 sparse matrix of type '<class 'numpy.int64'>'\n",
       "\twith 369291 stored elements in Compressed Sparse Row format>"
      ]
     },
     "execution_count": 8,
     "metadata": {},
     "output_type": "execute_result"
    }
   ],
   "source": [
    "re_dtm"
   ]
  },
  {
   "cell_type": "markdown",
   "id": "6630f215-f857-4025-938e-37dcc60e7ff3",
   "metadata": {
    "tags": []
   },
   "source": [
    "#### 행은 15만개, 열른 1000개 제한 (1000개의 컬럼은 카운트기반으로 가장 많이 나온 것으로 선정)\n",
    "- sparse 0이 얼마나 많은지에 대한 값들도 확인할 수 있다."
   ]
  },
  {
   "cell_type": "code",
   "execution_count": 9,
   "id": "2d25e2fa-3a67-4a57-815c-e577b7870f23",
   "metadata": {
    "tags": []
   },
   "outputs": [
    {
     "data": {
      "text/plain": [
       "0.040618374127720416"
      ]
     },
     "execution_count": 9,
     "metadata": {},
     "output_type": "execute_result"
    }
   ],
   "source": [
    "# sparse\n",
    "(150000/(369291*1000)*100)"
   ]
  },
  {
   "cell_type": "code",
   "execution_count": 10,
   "id": "47f4b92a-58b5-4702-818e-55175e916d59",
   "metadata": {
    "tags": []
   },
   "outputs": [
    {
     "data": {
      "text/plain": [
       "array(['0점', '0점은', '10', '10점', '1점', '1점도', '2점', '3류', '3점', '4점',\n",
       "       '80년대', '90년대', '9점', 'b급', 'good', 'oo', 'ooo', 'ooo기', 'ost',\n",
       "       'the', 'tv', 'ㄷㄷ', 'ㅅㅂ', 'ㅇㅇ', 'ㅉㅉ', 'ㅋㅋ', 'ㅋㅋㅋ', 'ㅋㅋㅋㅋ', 'ㅋㅋㅋㅋㅋ',\n",
       "       'ㅎㅎ', 'ㅎㅎㅎ', 'ㅜㅜ', 'ㅠㅠ', 'ㅠㅠㅠ', 'ㅡㅡ', '가끔', '가는', '가볍게', '가서',\n",
       "       '가슴', '가슴이', '가장', '가족', '가지고', '가진', '각본', '간만에', '갈수록', '감독',\n",
       "       '감독님', '감독은', '감독의', '감독이', '감동', '감동과', '감동도', '감동을', '감동이',\n",
       "       '감동적이고', '감동적인', '감사합니다', '감정을', '갑자기', '강추', '같네요', '같다', '같습니다',\n",
       "       '같아', '같아서', '같아요', '같은', '같은데', '같음', '같이', '개연성', '개인적으로', '거의',\n",
       "       '건지', '걸작', '겁나', '것도', '것은', '것을', '것이', '것이다', '게다가', '결국', '결말',\n",
       "       '결말도', '결말은', '결말이', '계속', '공감', '공감이', '공포', '공포영화', '과연', '괜찮은',\n",
       "       '괜히', '굉장히'], dtype=object)"
      ]
     },
     "execution_count": 10,
     "metadata": {},
     "output_type": "execute_result"
    }
   ],
   "source": [
    "re_cv.get_feature_names_out()[:100]"
   ]
  },
  {
   "cell_type": "markdown",
   "id": "2a1d60de-ce61-4c16-8176-aa250aa45ab9",
   "metadata": {
    "tags": []
   },
   "source": [
    "### okt를 이용해서 동사, 명사만 추출해보자"
   ]
  },
  {
   "cell_type": "code",
   "execution_count": 11,
   "id": "de17543c-f810-4df2-9cdc-b7314811107b",
   "metadata": {},
   "outputs": [],
   "source": [
    "#pip install konlpy"
   ]
  },
  {
   "cell_type": "code",
   "execution_count": 12,
   "id": "beb9b23f-553e-4cd8-9eea-d276d0243635",
   "metadata": {
    "tags": []
   },
   "outputs": [],
   "source": [
    "from konlpy.tag import Okt"
   ]
  },
  {
   "cell_type": "code",
   "execution_count": null,
   "id": "88a08919-21f8-4323-8d57-78da91da72ba",
   "metadata": {
    "tags": []
   },
   "outputs": [],
   "source": [
    "tw_tag = Okt()"
   ]
  },
  {
   "cell_type": "code",
   "execution_count": null,
   "id": "5b66bb98-cbf5-4a62-9e2c-ca6263daa5e1",
   "metadata": {},
   "outputs": [],
   "source": []
  }
 ],
 "metadata": {
  "kernelspec": {
   "display_name": "Python 3 (ipykernel)",
   "language": "python",
   "name": "python3"
  },
  "language_info": {
   "codemirror_mode": {
    "name": "ipython",
    "version": 3
   },
   "file_extension": ".py",
   "mimetype": "text/x-python",
   "name": "python",
   "nbconvert_exporter": "python",
   "pygments_lexer": "ipython3",
   "version": "3.9.13"
  }
 },
 "nbformat": 4,
 "nbformat_minor": 5
}
