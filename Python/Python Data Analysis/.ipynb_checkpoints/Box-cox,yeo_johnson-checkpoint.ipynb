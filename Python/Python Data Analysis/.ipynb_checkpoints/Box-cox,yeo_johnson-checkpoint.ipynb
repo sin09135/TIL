{
 "cells": [
  {
   "cell_type": "markdown",
   "id": "e0aa2b41-14d6-42a5-9451-d0d63d499cc0",
   "metadata": {},
   "source": [
    "## 정규분포로 바꿔주는 sklearn 패키지\n",
    "- power_tranform\n",
    "- 정규분포로 변환\n",
    "---\n",
    "- 정규뷴포로 변형\n",
    "- 정규분포로 만들기 위해서는 해당 데이터의 분포의 왜도, 첨도를 보고를 보고 비대칭성을 확인\n",
    "- 로그, 지수, 루트, 연수, 제곱 기타 정규분포화 만드는 방법이 존제\n",
    "---\n",
    "- 위의 패키지로 Box-cox 변환, yeo-johnson 변환으로 바꿔 정규분포화"
   ]
  },
  {
   "cell_type": "code",
   "execution_count": 5,
   "id": "f9dba3e2-31c1-4f4c-a182-6fb0e2c813d7",
   "metadata": {
    "tags": []
   },
   "outputs": [],
   "source": [
    "import pandas as pd\n",
    "import numpy as np\n",
    "import seaborn as sns\n",
    "import matplotlib.pyplot as plt"
   ]
  },
  {
   "cell_type": "code",
   "execution_count": 16,
   "id": "9edcf1bd-2370-477b-b8c4-50b30eabaae4",
   "metadata": {
    "tags": []
   },
   "outputs": [],
   "source": [
    "from sklearn.preprocessing import power_transform"
   ]
  },
  {
   "cell_type": "code",
   "execution_count": null,
   "id": "a1aebc13-44b5-40f5-a581-bd960caa7999",
   "metadata": {},
   "outputs": [],
   "source": [
    "fig, axs = plt.subplots(ncols = 3, figsize = (10,7))\n",
    "sns.distplot(df_sp['Weekly_Sales'], ax = ax[0])"
   ]
  },
  {
   "cell_type": "code",
   "execution_count": null,
   "id": "bfd430d0-d58f-4502-b37c-df23456dc62e",
   "metadata": {},
   "outputs": [],
   "source": [
    "#여존슨변환\n",
    "df_sp[['yeo-johnson']] = power_tranform(df_sp[['Weekly_Sales']], standardize = False)\n",
    "\n",
    "#Box-cox 변환\n",
    "df_sp[['box-cox']] = power_tranform(df_sp[['Weekly_Sales']], method = 'box-cox', standardize = False)"
   ]
  },
  {
   "cell_type": "markdown",
   "id": "bc17297a-1da5-4034-9777-2c26d9f71b4c",
   "metadata": {},
   "source": [
    "### 데이터의 분포 확인"
   ]
  },
  {
   "cell_type": "code",
   "execution_count": null,
   "id": "e184a8a3-b55e-41a6-b062-03fa88a1fedf",
   "metadata": {},
   "outputs": [],
   "source": [
    "fig, axs = plt.subplots(ncols = 3, figsize = (10,7))\n",
    "sns.distplot(df_sp['Weekly_Sales'], ax = ax[0])\n",
    "sns.distplot(df_sp['yeo-johnson'], ax = ax[1])\n",
    "sns.distplot(df_sp['box-cox'], ax = ax[1])"
   ]
  },
  {
   "cell_type": "markdown",
   "id": "42d09b8d-3a1b-49f7-8dae-90026d31811e",
   "metadata": {},
   "source": [
    "## bike_sharing_daily로 전처리 적용해보기"
   ]
  },
  {
   "cell_type": "code",
   "execution_count": 3,
   "id": "905daeea-6a81-436d-ac6d-130e308cfe36",
   "metadata": {
    "tags": []
   },
   "outputs": [],
   "source": [
    "df_bs = pd.read_csv('data/bike_sharing_daily.csv')"
   ]
  },
  {
   "cell_type": "code",
   "execution_count": 10,
   "id": "329c8db7-0686-4653-ac7c-dbf787d527a1",
   "metadata": {
    "tags": []
   },
   "outputs": [
    {
     "data": {
      "text/html": [
       "<div>\n",
       "<style scoped>\n",
       "    .dataframe tbody tr th:only-of-type {\n",
       "        vertical-align: middle;\n",
       "    }\n",
       "\n",
       "    .dataframe tbody tr th {\n",
       "        vertical-align: top;\n",
       "    }\n",
       "\n",
       "    .dataframe thead th {\n",
       "        text-align: right;\n",
       "    }\n",
       "</style>\n",
       "<table border=\"1\" class=\"dataframe\">\n",
       "  <thead>\n",
       "    <tr style=\"text-align: right;\">\n",
       "      <th></th>\n",
       "      <th>instant</th>\n",
       "      <th>dteday</th>\n",
       "      <th>season</th>\n",
       "      <th>yr</th>\n",
       "      <th>mnth</th>\n",
       "      <th>holiday</th>\n",
       "      <th>weekday</th>\n",
       "      <th>workingday</th>\n",
       "      <th>weathersit</th>\n",
       "      <th>temp</th>\n",
       "      <th>atemp</th>\n",
       "      <th>hum</th>\n",
       "      <th>windspeed</th>\n",
       "      <th>casual</th>\n",
       "      <th>registered</th>\n",
       "      <th>cnt</th>\n",
       "    </tr>\n",
       "  </thead>\n",
       "  <tbody>\n",
       "    <tr>\n",
       "      <th>0</th>\n",
       "      <td>1</td>\n",
       "      <td>2011-01-01</td>\n",
       "      <td>1</td>\n",
       "      <td>0</td>\n",
       "      <td>1</td>\n",
       "      <td>0</td>\n",
       "      <td>6</td>\n",
       "      <td>0</td>\n",
       "      <td>2</td>\n",
       "      <td>0.344167</td>\n",
       "      <td>0.363625</td>\n",
       "      <td>0.805833</td>\n",
       "      <td>0.160446</td>\n",
       "      <td>331.0</td>\n",
       "      <td>654.0</td>\n",
       "      <td>985</td>\n",
       "    </tr>\n",
       "    <tr>\n",
       "      <th>1</th>\n",
       "      <td>2</td>\n",
       "      <td>2011-01-02</td>\n",
       "      <td>1</td>\n",
       "      <td>0</td>\n",
       "      <td>1</td>\n",
       "      <td>0</td>\n",
       "      <td>0</td>\n",
       "      <td>0</td>\n",
       "      <td>2</td>\n",
       "      <td>0.363478</td>\n",
       "      <td>0.353739</td>\n",
       "      <td>0.696087</td>\n",
       "      <td>0.248539</td>\n",
       "      <td>131.0</td>\n",
       "      <td>670.0</td>\n",
       "      <td>801</td>\n",
       "    </tr>\n",
       "    <tr>\n",
       "      <th>2</th>\n",
       "      <td>3</td>\n",
       "      <td>2011-01-03</td>\n",
       "      <td>1</td>\n",
       "      <td>0</td>\n",
       "      <td>1</td>\n",
       "      <td>0</td>\n",
       "      <td>1</td>\n",
       "      <td>1</td>\n",
       "      <td>1</td>\n",
       "      <td>0.196364</td>\n",
       "      <td>NaN</td>\n",
       "      <td>0.437273</td>\n",
       "      <td>0.248309</td>\n",
       "      <td>120.0</td>\n",
       "      <td>1229.0</td>\n",
       "      <td>1349</td>\n",
       "    </tr>\n",
       "    <tr>\n",
       "      <th>3</th>\n",
       "      <td>4</td>\n",
       "      <td>2011-01-04</td>\n",
       "      <td>1</td>\n",
       "      <td>0</td>\n",
       "      <td>1</td>\n",
       "      <td>0</td>\n",
       "      <td>2</td>\n",
       "      <td>1</td>\n",
       "      <td>1</td>\n",
       "      <td>0.200000</td>\n",
       "      <td>0.212122</td>\n",
       "      <td>0.590435</td>\n",
       "      <td>0.160296</td>\n",
       "      <td>108.0</td>\n",
       "      <td>1454.0</td>\n",
       "      <td>1562</td>\n",
       "    </tr>\n",
       "    <tr>\n",
       "      <th>4</th>\n",
       "      <td>5</td>\n",
       "      <td>2011-01-05</td>\n",
       "      <td>1</td>\n",
       "      <td>0</td>\n",
       "      <td>1</td>\n",
       "      <td>0</td>\n",
       "      <td>3</td>\n",
       "      <td>1</td>\n",
       "      <td>1</td>\n",
       "      <td>0.226957</td>\n",
       "      <td>0.229270</td>\n",
       "      <td>0.436957</td>\n",
       "      <td>0.186900</td>\n",
       "      <td>82.0</td>\n",
       "      <td>1518.0</td>\n",
       "      <td>1600</td>\n",
       "    </tr>\n",
       "  </tbody>\n",
       "</table>\n",
       "</div>"
      ],
      "text/plain": [
       "   instant      dteday  season  yr  mnth  holiday  weekday  workingday  \\\n",
       "0        1  2011-01-01       1   0     1        0        6           0   \n",
       "1        2  2011-01-02       1   0     1        0        0           0   \n",
       "2        3  2011-01-03       1   0     1        0        1           1   \n",
       "3        4  2011-01-04       1   0     1        0        2           1   \n",
       "4        5  2011-01-05       1   0     1        0        3           1   \n",
       "\n",
       "   weathersit      temp     atemp       hum  windspeed  casual  registered  \\\n",
       "0           2  0.344167  0.363625  0.805833   0.160446   331.0       654.0   \n",
       "1           2  0.363478  0.353739  0.696087   0.248539   131.0       670.0   \n",
       "2           1  0.196364       NaN  0.437273   0.248309   120.0      1229.0   \n",
       "3           1  0.200000  0.212122  0.590435   0.160296   108.0      1454.0   \n",
       "4           1  0.226957  0.229270  0.436957   0.186900    82.0      1518.0   \n",
       "\n",
       "    cnt  \n",
       "0   985  \n",
       "1   801  \n",
       "2  1349  \n",
       "3  1562  \n",
       "4  1600  "
      ]
     },
     "execution_count": 10,
     "metadata": {},
     "output_type": "execute_result"
    }
   ],
   "source": [
    "df_bs.head()"
   ]
  },
  {
   "cell_type": "code",
   "execution_count": 13,
   "id": "4b308292-241b-43b1-8a3f-8086cb4ec5cb",
   "metadata": {
    "tags": []
   },
   "outputs": [],
   "source": [
    "df_bs_sp = df_bs[['casual','cnt']].dropna()"
   ]
  },
  {
   "cell_type": "code",
   "execution_count": 12,
   "id": "ec10c1c7-da40-4eaa-b2cd-001c87a13b7f",
   "metadata": {
    "tags": []
   },
   "outputs": [
    {
     "name": "stderr",
     "output_type": "stream",
     "text": [
      "/var/folders/nz/vk3v33x95bs4kf3ymy0z0my00000gn/T/ipykernel_13549/119877570.py:2: UserWarning: \n",
      "\n",
      "`distplot` is a deprecated function and will be removed in seaborn v0.14.0.\n",
      "\n",
      "Please adapt your code to use either `displot` (a figure-level function with\n",
      "similar flexibility) or `histplot` (an axes-level function for histograms).\n",
      "\n",
      "For a guide to updating your code to use the new functions, please see\n",
      "https://gist.github.com/mwaskom/de44147ed2974457ad6372750bbe5751\n",
      "\n",
      "  sns.distplot(df_bs['temp'], ax = axs[0])\n",
      "/var/folders/nz/vk3v33x95bs4kf3ymy0z0my00000gn/T/ipykernel_13549/119877570.py:3: UserWarning: \n",
      "\n",
      "`distplot` is a deprecated function and will be removed in seaborn v0.14.0.\n",
      "\n",
      "Please adapt your code to use either `displot` (a figure-level function with\n",
      "similar flexibility) or `histplot` (an axes-level function for histograms).\n",
      "\n",
      "For a guide to updating your code to use the new functions, please see\n",
      "https://gist.github.com/mwaskom/de44147ed2974457ad6372750bbe5751\n",
      "\n",
      "  sns.distplot(df_bs['atemp'], ax = axs[1])\n",
      "/var/folders/nz/vk3v33x95bs4kf3ymy0z0my00000gn/T/ipykernel_13549/119877570.py:4: UserWarning: \n",
      "\n",
      "`distplot` is a deprecated function and will be removed in seaborn v0.14.0.\n",
      "\n",
      "Please adapt your code to use either `displot` (a figure-level function with\n",
      "similar flexibility) or `histplot` (an axes-level function for histograms).\n",
      "\n",
      "For a guide to updating your code to use the new functions, please see\n",
      "https://gist.github.com/mwaskom/de44147ed2974457ad6372750bbe5751\n",
      "\n",
      "  sns.distplot(df_bs['hum'], ax = axs[2])\n",
      "/var/folders/nz/vk3v33x95bs4kf3ymy0z0my00000gn/T/ipykernel_13549/119877570.py:5: UserWarning: \n",
      "\n",
      "`distplot` is a deprecated function and will be removed in seaborn v0.14.0.\n",
      "\n",
      "Please adapt your code to use either `displot` (a figure-level function with\n",
      "similar flexibility) or `histplot` (an axes-level function for histograms).\n",
      "\n",
      "For a guide to updating your code to use the new functions, please see\n",
      "https://gist.github.com/mwaskom/de44147ed2974457ad6372750bbe5751\n",
      "\n",
      "  sns.distplot(df_bs['casual'], ax = axs[3])\n"
     ]
    },
    {
     "data": {
      "text/plain": [
       "<Axes: xlabel='casual', ylabel='Density'>"
      ]
     },
     "execution_count": 12,
     "metadata": {},
     "output_type": "execute_result"
    },
    {
     "data": {
      "image/png": "[encoded data removed]",
      "text/plain": [
       "<Figure size 1000x700 with 4 Axes>"
      ]
     },
     "metadata": {},
     "output_type": "display_data"
    }
   ],
   "source": [
    "fig, axs = plt.subplots(ncols = 4, figsize = (10,7))\n",
    "sns.distplot(df_bs['temp'], ax = axs[0])\n",
    "sns.distplot(df_bs['atemp'], ax = axs[1])\n",
    "sns.distplot(df_bs['hum'], ax = axs[2])\n",
    "sns.distplot(df_bs['casual'], ax = axs[3])"
   ]
  },
  {
   "cell_type": "markdown",
   "id": "1c562aca-b381-4d85-ad03-f98994fc800d",
   "metadata": {
    "tags": []
   },
   "source": [
    "- casual 변수가 정규분포인가? > qqplot 그려보고 shapiro 검정 진행해보기"
   ]
  },
  {
   "cell_type": "code",
   "execution_count": null,
   "id": "b152cd06-eeed-41a8-ba54-f3ece7a25d38",
   "metadata": {},
   "outputs": [],
   "source": []
  },
  {
   "cell_type": "code",
   "execution_count": 14,
   "id": "504ebc60-cdc7-4f9c-811c-f21b4bc8103e",
   "metadata": {
    "tags": []
   },
   "outputs": [
    {
     "name": "stdout",
     "output_type": "stream",
     "text": [
      "Fail to reject H0\n"
     ]
    }
   ],
   "source": [
    "# shapiro 검정\n",
    "from scipy.stats import shapiro\n",
    "import numpy as np\n",
    "\n",
    "stat, p = shapiro(df_bs['casual'])\n",
    "\n",
    "alpha = 0.05\n",
    "if p > alpha:\n",
    "    print('Fail to reject H0')\n",
    "else:\n",
    "    print('reject H0')"
   ]
  },
  {
   "cell_type": "markdown",
   "id": "1f223d12-76b1-4a1f-844e-9cb5c8b3dc3e",
   "metadata": {},
   "source": [
    "- 정규분포로 변환"
   ]
  },
  {
   "cell_type": "code",
   "execution_count": 18,
   "id": "23be9fc9-38fa-4473-8e26-a5696604e3dc",
   "metadata": {
    "tags": []
   },
   "outputs": [],
   "source": [
    "#여존슨변환\n",
    "df_bs_sp[['yeo-johnson']] = power_transform(df_bs_sp[['casual']], standardize = False)\n",
    "\n",
    "#Box-cox 변환\n",
    "df_bs_sp[['box-cox']] = power_transform(df_bs_sp[['casual']], method = 'box-cox', standardize = False)"
   ]
  },
  {
   "cell_type": "code",
   "execution_count": 21,
   "id": "b39217d3-73cf-46cb-98be-d0e4792ef587",
   "metadata": {
    "tags": []
   },
   "outputs": [
    {
     "name": "stderr",
     "output_type": "stream",
     "text": [
      "/var/folders/nz/vk3v33x95bs4kf3ymy0z0my00000gn/T/ipykernel_13549/3448715913.py:2: UserWarning: \n",
      "\n",
      "`distplot` is a deprecated function and will be removed in seaborn v0.14.0.\n",
      "\n",
      "Please adapt your code to use either `displot` (a figure-level function with\n",
      "similar flexibility) or `histplot` (an axes-level function for histograms).\n",
      "\n",
      "For a guide to updating your code to use the new functions, please see\n",
      "https://gist.github.com/mwaskom/de44147ed2974457ad6372750bbe5751\n",
      "\n",
      "  sns.distplot(df_bs_sp['casual'], ax = axs[0])\n",
      "/var/folders/nz/vk3v33x95bs4kf3ymy0z0my00000gn/T/ipykernel_13549/3448715913.py:3: UserWarning: \n",
      "\n",
      "`distplot` is a deprecated function and will be removed in seaborn v0.14.0.\n",
      "\n",
      "Please adapt your code to use either `displot` (a figure-level function with\n",
      "similar flexibility) or `histplot` (an axes-level function for histograms).\n",
      "\n",
      "For a guide to updating your code to use the new functions, please see\n",
      "https://gist.github.com/mwaskom/de44147ed2974457ad6372750bbe5751\n",
      "\n",
      "  sns.distplot(df_bs_sp['yeo-johnson'], ax = axs[1])\n"
     ]
    },
    {
     "data": {
      "text/plain": [
       "<Axes: xlabel='yeo-johnson', ylabel='Density'>"
      ]
     },
     "execution_count": 21,
     "metadata": {},
     "output_type": "execute_result"
    },
    {
     "data": {
      "image/png": "[encoded data removed]",
      "text/plain": [
       "<Figure size 2000x700 with 2 Axes>"
      ]
     },
     "metadata": {},
     "output_type": "display_data"
    }
   ],
   "source": [
    "fig, axs = plt.subplots(ncols = 2, figsize = (20,7))\n",
    "sns.distplot(df_bs_sp['casual'], ax = axs[0])\n",
    "sns.distplot(df_bs_sp['yeo-johnson'], ax = axs[1])"
   ]
  },
  {
   "cell_type": "markdown",
   "id": "dc4ed57e-070d-4eb1-af17-73d2b0806a0e",
   "metadata": {},
   "source": [
    "- 간단한 선형회귀를 통해서 실제 정규분포로 변환했을 때 rmse값 자체의 변화나 R2 변화가 있는지\n",
    "- 잔차에 대한 변화와 결정계수에 대한 변화"
   ]
  },
  {
   "cell_type": "markdown",
   "id": "5ca65b01-4816-49b4-8013-5a2007853afc",
   "metadata": {
    "tags": []
   },
   "source": [
    "### 정규분포로 변환한 경우/아닌 경우, 회귀분석을 통한 확인"
   ]
  },
  {
   "cell_type": "code",
   "execution_count": 24,
   "id": "8499f52f-a216-4fa0-b429-1f5a0813af3a",
   "metadata": {
    "tags": []
   },
   "outputs": [],
   "source": [
    "from sklearn.model_selection import train_test_split\n",
    "from sklearn.linear_model import LinearRegression\n",
    "import numpy as np\n",
    "\n",
    "import statsmodels.api as sm\n",
    "from sklearn.metrics import mean_squared_error\n",
    "from math import sqrt"
   ]
  },
  {
   "cell_type": "code",
   "execution_count": 25,
   "id": "1faf901b-e962-4135-a560-0b4212bae21b",
   "metadata": {
    "tags": []
   },
   "outputs": [],
   "source": [
    "df_X = np.array(df_bs_sp['casual']).reshape(-1,1) # x 피처를 따로 빼고 넘파이 어레이로 변환\n",
    "X_train, X_test, y_train,y_test = train_test_split(df_X, df_bs_sp['cnt'],test_size = 0.3,random_state = 111)"
   ]
  },
  {
   "cell_type": "code",
   "execution_count": 27,
   "id": "e32479a8-f3dc-47b7-bd80-fef67ec536d2",
   "metadata": {
    "tags": []
   },
   "outputs": [],
   "source": [
    "model = LinearRegression() # 선형회귀 모델 학습\n",
    "model.fit(X_train, y_train) # 모델 학습\n",
    "y_pred = model.predict(X_test) # X_test로 예측값 추출"
   ]
  },
  {
   "cell_type": "code",
   "execution_count": 30,
   "id": "2aa95c9f-8f64-4d4b-904a-025e3930ed47",
   "metadata": {
    "tags": []
   },
   "outputs": [
    {
     "name": "stdout",
     "output_type": "stream",
     "text": [
      "1472.0442013742409\n"
     ]
    }
   ],
   "source": [
    "rmse = sqrt(mean_squared_error(y_test, y_pred))\n",
    "print(rmse)"
   ]
  },
  {
   "cell_type": "code",
   "execution_count": 31,
   "id": "c02330db-7e97-462b-9ac1-4c8eef026470",
   "metadata": {
    "tags": []
   },
   "outputs": [
    {
     "name": "stderr",
     "output_type": "stream",
     "text": [
      "/var/folders/nz/vk3v33x95bs4kf3ymy0z0my00000gn/T/ipykernel_13549/471876391.py:1: FutureWarning: The default value of numeric_only in DataFrame.corr is deprecated. In a future version, it will default to False. Select only valid columns or specify the value of numeric_only to silence this warning.\n",
      "  df_bs.corr()\n"
     ]
    },
    {
     "data": {
      "text/html": [
       "<div>\n",
       "<style scoped>\n",
       "    .dataframe tbody tr th:only-of-type {\n",
       "        vertical-align: middle;\n",
       "    }\n",
       "\n",
       "    .dataframe tbody tr th {\n",
       "        vertical-align: top;\n",
       "    }\n",
       "\n",
       "    .dataframe thead th {\n",
       "        text-align: right;\n",
       "    }\n",
       "</style>\n",
       "<table border=\"1\" class=\"dataframe\">\n",
       "  <thead>\n",
       "    <tr style=\"text-align: right;\">\n",
       "      <th></th>\n",
       "      <th>instant</th>\n",
       "      <th>season</th>\n",
       "      <th>yr</th>\n",
       "      <th>mnth</th>\n",
       "      <th>holiday</th>\n",
       "      <th>weekday</th>\n",
       "      <th>workingday</th>\n",
       "      <th>weathersit</th>\n",
       "      <th>temp</th>\n",
       "      <th>atemp</th>\n",
       "      <th>hum</th>\n",
       "      <th>windspeed</th>\n",
       "      <th>casual</th>\n",
       "      <th>registered</th>\n",
       "      <th>cnt</th>\n",
       "    </tr>\n",
       "  </thead>\n",
       "  <tbody>\n",
       "    <tr>\n",
       "      <th>instant</th>\n",
       "      <td>1.000000</td>\n",
       "      <td>0.412224</td>\n",
       "      <td>0.866025</td>\n",
       "      <td>0.496702</td>\n",
       "      <td>0.016145</td>\n",
       "      <td>-0.000016</td>\n",
       "      <td>-0.004337</td>\n",
       "      <td>-0.021477</td>\n",
       "      <td>0.151535</td>\n",
       "      <td>0.146023</td>\n",
       "      <td>0.014272</td>\n",
       "      <td>-0.122297</td>\n",
       "      <td>0.276671</td>\n",
       "      <td>0.666552</td>\n",
       "      <td>0.628634</td>\n",
       "    </tr>\n",
       "    <tr>\n",
       "      <th>season</th>\n",
       "      <td>0.412224</td>\n",
       "      <td>1.000000</td>\n",
       "      <td>-0.001844</td>\n",
       "      <td>0.831440</td>\n",
       "      <td>-0.010537</td>\n",
       "      <td>-0.003080</td>\n",
       "      <td>0.012485</td>\n",
       "      <td>0.019211</td>\n",
       "      <td>0.332405</td>\n",
       "      <td>0.344722</td>\n",
       "      <td>0.206951</td>\n",
       "      <td>-0.232367</td>\n",
       "      <td>0.214377</td>\n",
       "      <td>0.409980</td>\n",
       "      <td>0.405829</td>\n",
       "    </tr>\n",
       "    <tr>\n",
       "      <th>yr</th>\n",
       "      <td>0.866025</td>\n",
       "      <td>-0.001844</td>\n",
       "      <td>1.000000</td>\n",
       "      <td>-0.001792</td>\n",
       "      <td>0.007954</td>\n",
       "      <td>-0.005461</td>\n",
       "      <td>-0.002013</td>\n",
       "      <td>-0.048727</td>\n",
       "      <td>0.047657</td>\n",
       "      <td>0.036090</td>\n",
       "      <td>-0.116967</td>\n",
       "      <td>-0.021714</td>\n",
       "      <td>0.246585</td>\n",
       "      <td>0.597334</td>\n",
       "      <td>0.566744</td>\n",
       "    </tr>\n",
       "    <tr>\n",
       "      <th>mnth</th>\n",
       "      <td>0.496702</td>\n",
       "      <td>0.831440</td>\n",
       "      <td>-0.001792</td>\n",
       "      <td>1.000000</td>\n",
       "      <td>0.019191</td>\n",
       "      <td>0.009509</td>\n",
       "      <td>-0.005901</td>\n",
       "      <td>0.043528</td>\n",
       "      <td>0.221545</td>\n",
       "      <td>0.230287</td>\n",
       "      <td>0.227553</td>\n",
       "      <td>-0.209379</td>\n",
       "      <td>0.127351</td>\n",
       "      <td>0.297484</td>\n",
       "      <td>0.279476</td>\n",
       "    </tr>\n",
       "    <tr>\n",
       "      <th>holiday</th>\n",
       "      <td>0.016145</td>\n",
       "      <td>-0.010537</td>\n",
       "      <td>0.007954</td>\n",
       "      <td>0.019191</td>\n",
       "      <td>1.000000</td>\n",
       "      <td>-0.101960</td>\n",
       "      <td>-0.253023</td>\n",
       "      <td>-0.034627</td>\n",
       "      <td>-0.031071</td>\n",
       "      <td>-0.037819</td>\n",
       "      <td>-0.017180</td>\n",
       "      <td>0.004915</td>\n",
       "      <td>0.054745</td>\n",
       "      <td>-0.121122</td>\n",
       "      <td>-0.068489</td>\n",
       "    </tr>\n",
       "    <tr>\n",
       "      <th>weekday</th>\n",
       "      <td>-0.000016</td>\n",
       "      <td>-0.003080</td>\n",
       "      <td>-0.005461</td>\n",
       "      <td>0.009509</td>\n",
       "      <td>-0.101960</td>\n",
       "      <td>1.000000</td>\n",
       "      <td>0.035790</td>\n",
       "      <td>0.031087</td>\n",
       "      <td>0.002694</td>\n",
       "      <td>-0.001379</td>\n",
       "      <td>-0.035548</td>\n",
       "      <td>0.027096</td>\n",
       "      <td>0.053228</td>\n",
       "      <td>0.063150</td>\n",
       "      <td>0.067504</td>\n",
       "    </tr>\n",
       "    <tr>\n",
       "      <th>workingday</th>\n",
       "      <td>-0.004337</td>\n",
       "      <td>0.012485</td>\n",
       "      <td>-0.002013</td>\n",
       "      <td>-0.005901</td>\n",
       "      <td>-0.253023</td>\n",
       "      <td>0.035790</td>\n",
       "      <td>1.000000</td>\n",
       "      <td>0.061200</td>\n",
       "      <td>0.057215</td>\n",
       "      <td>0.048059</td>\n",
       "      <td>0.038646</td>\n",
       "      <td>-0.008111</td>\n",
       "      <td>-0.513670</td>\n",
       "      <td>0.306730</td>\n",
       "      <td>0.061529</td>\n",
       "    </tr>\n",
       "    <tr>\n",
       "      <th>weathersit</th>\n",
       "      <td>-0.021477</td>\n",
       "      <td>0.019211</td>\n",
       "      <td>-0.048727</td>\n",
       "      <td>0.043528</td>\n",
       "      <td>-0.034627</td>\n",
       "      <td>0.031087</td>\n",
       "      <td>0.061200</td>\n",
       "      <td>1.000000</td>\n",
       "      <td>-0.123816</td>\n",
       "      <td>-0.118292</td>\n",
       "      <td>0.586591</td>\n",
       "      <td>0.045186</td>\n",
       "      <td>-0.256032</td>\n",
       "      <td>-0.247517</td>\n",
       "      <td>-0.296274</td>\n",
       "    </tr>\n",
       "    <tr>\n",
       "      <th>temp</th>\n",
       "      <td>0.151535</td>\n",
       "      <td>0.332405</td>\n",
       "      <td>0.047657</td>\n",
       "      <td>0.221545</td>\n",
       "      <td>-0.031071</td>\n",
       "      <td>0.002694</td>\n",
       "      <td>0.057215</td>\n",
       "      <td>-0.123816</td>\n",
       "      <td>1.000000</td>\n",
       "      <td>0.991402</td>\n",
       "      <td>0.131111</td>\n",
       "      <td>-0.168063</td>\n",
       "      <td>0.539502</td>\n",
       "      <td>0.534405</td>\n",
       "      <td>0.626051</td>\n",
       "    </tr>\n",
       "    <tr>\n",
       "      <th>atemp</th>\n",
       "      <td>0.146023</td>\n",
       "      <td>0.344722</td>\n",
       "      <td>0.036090</td>\n",
       "      <td>0.230287</td>\n",
       "      <td>-0.037819</td>\n",
       "      <td>-0.001379</td>\n",
       "      <td>0.048059</td>\n",
       "      <td>-0.118292</td>\n",
       "      <td>0.991402</td>\n",
       "      <td>1.000000</td>\n",
       "      <td>0.147784</td>\n",
       "      <td>-0.187669</td>\n",
       "      <td>0.540798</td>\n",
       "      <td>0.532457</td>\n",
       "      <td>0.626934</td>\n",
       "    </tr>\n",
       "    <tr>\n",
       "      <th>hum</th>\n",
       "      <td>0.014272</td>\n",
       "      <td>0.206951</td>\n",
       "      <td>-0.116967</td>\n",
       "      <td>0.227553</td>\n",
       "      <td>-0.017180</td>\n",
       "      <td>-0.035548</td>\n",
       "      <td>0.038646</td>\n",
       "      <td>0.586591</td>\n",
       "      <td>0.131111</td>\n",
       "      <td>0.147784</td>\n",
       "      <td>1.000000</td>\n",
       "      <td>-0.241254</td>\n",
       "      <td>-0.089279</td>\n",
       "      <td>-0.090936</td>\n",
       "      <td>-0.103552</td>\n",
       "    </tr>\n",
       "    <tr>\n",
       "      <th>windspeed</th>\n",
       "      <td>-0.122297</td>\n",
       "      <td>-0.232367</td>\n",
       "      <td>-0.021714</td>\n",
       "      <td>-0.209379</td>\n",
       "      <td>0.004915</td>\n",
       "      <td>0.027096</td>\n",
       "      <td>-0.008111</td>\n",
       "      <td>0.045186</td>\n",
       "      <td>-0.168063</td>\n",
       "      <td>-0.187669</td>\n",
       "      <td>-0.241254</td>\n",
       "      <td>1.000000</td>\n",
       "      <td>-0.182345</td>\n",
       "      <td>-0.219378</td>\n",
       "      <td>-0.241806</td>\n",
       "    </tr>\n",
       "    <tr>\n",
       "      <th>casual</th>\n",
       "      <td>0.276671</td>\n",
       "      <td>0.214377</td>\n",
       "      <td>0.246585</td>\n",
       "      <td>0.127351</td>\n",
       "      <td>0.054745</td>\n",
       "      <td>0.053228</td>\n",
       "      <td>-0.513670</td>\n",
       "      <td>-0.256032</td>\n",
       "      <td>0.539502</td>\n",
       "      <td>0.540798</td>\n",
       "      <td>-0.089279</td>\n",
       "      <td>-0.182345</td>\n",
       "      <td>1.000000</td>\n",
       "      <td>0.397757</td>\n",
       "      <td>0.674468</td>\n",
       "    </tr>\n",
       "    <tr>\n",
       "      <th>registered</th>\n",
       "      <td>0.666552</td>\n",
       "      <td>0.409980</td>\n",
       "      <td>0.597334</td>\n",
       "      <td>0.297484</td>\n",
       "      <td>-0.121122</td>\n",
       "      <td>0.063150</td>\n",
       "      <td>0.306730</td>\n",
       "      <td>-0.247517</td>\n",
       "      <td>0.534405</td>\n",
       "      <td>0.532457</td>\n",
       "      <td>-0.090936</td>\n",
       "      <td>-0.219378</td>\n",
       "      <td>0.397757</td>\n",
       "      <td>1.000000</td>\n",
       "      <td>0.945216</td>\n",
       "    </tr>\n",
       "    <tr>\n",
       "      <th>cnt</th>\n",
       "      <td>0.628634</td>\n",
       "      <td>0.405829</td>\n",
       "      <td>0.566744</td>\n",
       "      <td>0.279476</td>\n",
       "      <td>-0.068489</td>\n",
       "      <td>0.067504</td>\n",
       "      <td>0.061529</td>\n",
       "      <td>-0.296274</td>\n",
       "      <td>0.626051</td>\n",
       "      <td>0.626934</td>\n",
       "      <td>-0.103552</td>\n",
       "      <td>-0.241806</td>\n",
       "      <td>0.674468</td>\n",
       "      <td>0.945216</td>\n",
       "      <td>1.000000</td>\n",
       "    </tr>\n",
       "  </tbody>\n",
       "</table>\n",
       "</div>"
      ],
      "text/plain": [
       "             instant    season        yr      mnth   holiday   weekday  \\\n",
       "instant     1.000000  0.412224  0.866025  0.496702  0.016145 -0.000016   \n",
       "season      0.412224  1.000000 -0.001844  0.831440 -0.010537 -0.003080   \n",
       "yr          0.866025 -0.001844  1.000000 -0.001792  0.007954 -0.005461   \n",
       "mnth        0.496702  0.831440 -0.001792  1.000000  0.019191  0.009509   \n",
       "holiday     0.016145 -0.010537  0.007954  0.019191  1.000000 -0.101960   \n",
       "weekday    -0.000016 -0.003080 -0.005461  0.009509 -0.101960  1.000000   \n",
       "workingday -0.004337  0.012485 -0.002013 -0.005901 -0.253023  0.035790   \n",
       "weathersit -0.021477  0.019211 -0.048727  0.043528 -0.034627  0.031087   \n",
       "temp        0.151535  0.332405  0.047657  0.221545 -0.031071  0.002694   \n",
       "atemp       0.146023  0.344722  0.036090  0.230287 -0.037819 -0.001379   \n",
       "hum         0.014272  0.206951 -0.116967  0.227553 -0.017180 -0.035548   \n",
       "windspeed  -0.122297 -0.232367 -0.021714 -0.209379  0.004915  0.027096   \n",
       "casual      0.276671  0.214377  0.246585  0.127351  0.054745  0.053228   \n",
       "registered  0.666552  0.409980  0.597334  0.297484 -0.121122  0.063150   \n",
       "cnt         0.628634  0.405829  0.566744  0.279476 -0.068489  0.067504   \n",
       "\n",
       "            workingday  weathersit      temp     atemp       hum  windspeed  \\\n",
       "instant      -0.004337   -0.021477  0.151535  0.146023  0.014272  -0.122297   \n",
       "season        0.012485    0.019211  0.332405  0.344722  0.206951  -0.232367   \n",
       "yr           -0.002013   -0.048727  0.047657  0.036090 -0.116967  -0.021714   \n",
       "mnth         -0.005901    0.043528  0.221545  0.230287  0.227553  -0.209379   \n",
       "holiday      -0.253023   -0.034627 -0.031071 -0.037819 -0.017180   0.004915   \n",
       "weekday       0.035790    0.031087  0.002694 -0.001379 -0.035548   0.027096   \n",
       "workingday    1.000000    0.061200  0.057215  0.048059  0.038646  -0.008111   \n",
       "weathersit    0.061200    1.000000 -0.123816 -0.118292  0.586591   0.045186   \n",
       "temp          0.057215   -0.123816  1.000000  0.991402  0.131111  -0.168063   \n",
       "atemp         0.048059   -0.118292  0.991402  1.000000  0.147784  -0.187669   \n",
       "hum           0.038646    0.586591  0.131111  0.147784  1.000000  -0.241254   \n",
       "windspeed    -0.008111    0.045186 -0.168063 -0.187669 -0.241254   1.000000   \n",
       "casual       -0.513670   -0.256032  0.539502  0.540798 -0.089279  -0.182345   \n",
       "registered    0.306730   -0.247517  0.534405  0.532457 -0.090936  -0.219378   \n",
       "cnt           0.061529   -0.296274  0.626051  0.626934 -0.103552  -0.241806   \n",
       "\n",
       "              casual  registered       cnt  \n",
       "instant     0.276671    0.666552  0.628634  \n",
       "season      0.214377    0.409980  0.405829  \n",
       "yr          0.246585    0.597334  0.566744  \n",
       "mnth        0.127351    0.297484  0.279476  \n",
       "holiday     0.054745   -0.121122 -0.068489  \n",
       "weekday     0.053228    0.063150  0.067504  \n",
       "workingday -0.513670    0.306730  0.061529  \n",
       "weathersit -0.256032   -0.247517 -0.296274  \n",
       "temp        0.539502    0.534405  0.626051  \n",
       "atemp       0.540798    0.532457  0.626934  \n",
       "hum        -0.089279   -0.090936 -0.103552  \n",
       "windspeed  -0.182345   -0.219378 -0.241806  \n",
       "casual      1.000000    0.397757  0.674468  \n",
       "registered  0.397757    1.000000  0.945216  \n",
       "cnt         0.674468    0.945216  1.000000  "
      ]
     },
     "execution_count": 31,
     "metadata": {},
     "output_type": "execute_result"
    }
   ],
   "source": [
    "df_bs.corr()"
   ]
  },
  {
   "cell_type": "markdown",
   "id": "4417e674-3039-4fe7-af8f-c72eeb8c1709",
   "metadata": {},
   "source": [
    "- base RMSE : 1472\n",
    "- corr : 0.6744"
   ]
  },
  {
   "cell_type": "code",
   "execution_count": 33,
   "id": "969b1e9e-befa-46b7-ac98-50df2b6af1f4",
   "metadata": {
    "tags": []
   },
   "outputs": [],
   "source": [
    "df_X = np.array(df_bs_sp['yeo-johnson']).reshape(-1,1) # x 피처를 따로 빼고 넘파이 어레이로 변환\n",
    "X_train, X_test, y_train,y_test = train_test_split(df_X, df_bs_sp['cnt'],test_size = 0.3,random_state = 111)"
   ]
  },
  {
   "cell_type": "code",
   "execution_count": 34,
   "id": "cc6283c0-2c66-4f62-bcef-8d6d873d102d",
   "metadata": {
    "tags": []
   },
   "outputs": [],
   "source": [
    "model1 = LinearRegression() # 선형회귀 모델 학습\n",
    "model1.fit(X_train, y_train) # 모델 학습\n",
    "y_pred = model1.predict(X_test) # X_test로 예측값 추출"
   ]
  },
  {
   "cell_type": "code",
   "execution_count": 35,
   "id": "1dc9cc7b-1143-4f07-9aa1-70f630253020",
   "metadata": {
    "tags": []
   },
   "outputs": [
    {
     "name": "stdout",
     "output_type": "stream",
     "text": [
      "1286.0545832762296\n"
     ]
    }
   ],
   "source": [
    "rmse = sqrt(mean_squared_error(y_test, y_pred))\n",
    "print(rmse) # 줄어듦"
   ]
  },
  {
   "cell_type": "code",
   "execution_count": null,
   "id": "3d447c34-80de-4d6d-9581-3cf061d8f167",
   "metadata": {},
   "outputs": [],
   "source": []
  }
 ],
 "metadata": {
  "kernelspec": {
   "display_name": "Python 3 (ipykernel)",
   "language": "python",
   "name": "python3"
  },
  "language_info": {
   "codemirror_mode": {
    "name": "ipython",
    "version": 3
   },
   "file_extension": ".py",
   "mimetype": "text/x-python",
   "name": "python",
   "nbconvert_exporter": "python",
   "pygments_lexer": "ipython3",
   "version": "3.11.4"
  }
 },
 "nbformat": 4,
 "nbformat_minor": 5
}
