{
 "cells": [
  {
   "cell_type": "markdown",
   "id": "ca411918-131e-4170-97b1-fdd9ffb802c3",
   "metadata": {},
   "source": [
    "## 필수과제2\n",
    "- 명사, 동사 정도만 추출하고\n",
    "- 의미있는 단어들은 무엇인지 확인해 보기\n",
    "- 해당 단어들과 label의 관계를 살펴보자!"
   ]
  },
  {
   "cell_type": "code",
   "execution_count": 10,
   "id": "16306c8f-290e-44d6-a569-e2d348e00ae3",
   "metadata": {
    "tags": []
   },
   "outputs": [
    {
     "data": {
      "text/html": [
       "<div>\n",
       "<style scoped>\n",
       "    .dataframe tbody tr th:only-of-type {\n",
       "        vertical-align: middle;\n",
       "    }\n",
       "\n",
       "    .dataframe tbody tr th {\n",
       "        vertical-align: top;\n",
       "    }\n",
       "\n",
       "    .dataframe thead th {\n",
       "        text-align: right;\n",
       "    }\n",
       "</style>\n",
       "<table border=\"1\" class=\"dataframe\">\n",
       "  <thead>\n",
       "    <tr style=\"text-align: right;\">\n",
       "      <th></th>\n",
       "      <th>Unnamed: 0</th>\n",
       "      <th>id</th>\n",
       "      <th>document</th>\n",
       "      <th>label</th>\n",
       "    </tr>\n",
       "  </thead>\n",
       "  <tbody>\n",
       "    <tr>\n",
       "      <th>0</th>\n",
       "      <td>0</td>\n",
       "      <td>9976970</td>\n",
       "      <td>아 더빙.. 진짜 짜증나네요 목소리</td>\n",
       "      <td>0</td>\n",
       "    </tr>\n",
       "    <tr>\n",
       "      <th>1</th>\n",
       "      <td>1</td>\n",
       "      <td>3819312</td>\n",
       "      <td>흠...포스터보고 초딩영화줄....오버연기조차 가볍지 않구나</td>\n",
       "      <td>1</td>\n",
       "    </tr>\n",
       "    <tr>\n",
       "      <th>2</th>\n",
       "      <td>2</td>\n",
       "      <td>10265843</td>\n",
       "      <td>너무재밓었다그래서보는것을추천한다</td>\n",
       "      <td>0</td>\n",
       "    </tr>\n",
       "  </tbody>\n",
       "</table>\n",
       "</div>"
      ],
      "text/plain": [
       "   Unnamed: 0        id                           document  label\n",
       "0           0   9976970                아 더빙.. 진짜 짜증나네요 목소리      0\n",
       "1           1   3819312  흠...포스터보고 초딩영화줄....오버연기조차 가볍지 않구나      1\n",
       "2           2  10265843                  너무재밓었다그래서보는것을추천한다      0"
      ]
     },
     "execution_count": 10,
     "metadata": {},
     "output_type": "execute_result"
    }
   ],
   "source": [
    "import pandas as pd\n",
    "import numpy as np\n",
    "import nltk\n",
    "from konlpy.tag import Okt\n",
    "from collections import Counter\n",
    "import re\n",
    "# 문장 토큰화\n",
    "from nltk.tokenize import sent_tokenize\n",
    "# 정규표현식 토크나이즈\n",
    "from nltk.tokenize import RegexpTokenizer\n",
    "# 불용어 사전\n",
    "from nltk.corpus import stopwords\n",
    "from konlpy.tag import Okt\n",
    "from collections import Counter\n",
    "import re\n",
    "from konlpy.tag import Okt\n",
    "from collections import Counter\n",
    "import re\n",
    "\n",
    "\n",
    "df = pd.read_csv('data/movie_rv.csv')\n",
    "df.head(3)"
   ]
  },
  {
   "cell_type": "code",
   "execution_count": 11,
   "id": "3eb71fb8-bf59-402f-a048-9ff47ef3913f",
   "metadata": {
    "tags": []
   },
   "outputs": [
    {
     "name": "stderr",
     "output_type": "stream",
     "text": [
      "[nltk_data] Downloading package punkt to /Users/kimsinwoo/nltk_data...\n",
      "[nltk_data]   Package punkt is already up-to-date!\n",
      "[nltk_data] Downloading package webtext to\n",
      "[nltk_data]     /Users/kimsinwoo/nltk_data...\n",
      "[nltk_data]   Package webtext is already up-to-date!\n",
      "[nltk_data] Downloading package wordnet to\n",
      "[nltk_data]     /Users/kimsinwoo/nltk_data...\n",
      "[nltk_data]   Package wordnet is already up-to-date!\n",
      "[nltk_data] Downloading package stopwords to\n",
      "[nltk_data]     /Users/kimsinwoo/nltk_data...\n",
      "[nltk_data]   Package stopwords is already up-to-date!\n",
      "[nltk_data] Downloading package averaged_perceptron_tagger to\n",
      "[nltk_data]     /Users/kimsinwoo/nltk_data...\n",
      "[nltk_data]   Package averaged_perceptron_tagger is already up-to-\n",
      "[nltk_data]       date!\n"
     ]
    },
    {
     "data": {
      "text/plain": [
       "True"
      ]
     },
     "execution_count": 11,
     "metadata": {},
     "output_type": "execute_result"
    }
   ],
   "source": [
    "nltk.download('punkt')\n",
    "nltk.download('webtext')\n",
    "nltk.download('wordnet')\n",
    "nltk.download('stopwords')\n",
    "nltk.download('averaged_perceptron_tagger')"
   ]
  },
  {
   "cell_type": "code",
   "execution_count": 12,
   "id": "ae1a2b31-720c-4cc9-8f9b-2f71c03683bd",
   "metadata": {
    "tags": []
   },
   "outputs": [],
   "source": [
    "def Preprocess_text(text):\n",
    "  text = re.sub('[^가-힣a-zA-Z0-9\\\\s]', '', str(text))\n",
    "  return text"
   ]
  },
  {
   "cell_type": "code",
   "execution_count": 13,
   "id": "6d8143de-eb06-4e6c-829d-74072301fb47",
   "metadata": {
    "tags": []
   },
   "outputs": [],
   "source": [
    "preprocessed_texts = []\n",
    "for text in df['document']:\n",
    "  text2 = Preprocess_text(text)\n",
    "  preprocessed_texts.append(text2)"
   ]
  },
  {
   "cell_type": "code",
   "execution_count": 15,
   "id": "0c85556c-855d-4988-a11f-53d4f36344b4",
   "metadata": {
    "tags": []
   },
   "outputs": [],
   "source": [
    "#k = Okt()  #error"
   ]
  },
  {
   "cell_type": "code",
   "execution_count": 7,
   "id": "365c27d1-7215-4016-98e7-c7c5b9a83be0",
   "metadata": {
    "tags": []
   },
   "outputs": [],
   "source": [
    "def NounVerb(text):\n",
    "  pos_tags = k.pos(text, stem=True)  # stem=True로 설정하여 동사를 원형으로 추출\n",
    "  nouns = [word for word, pos in pos_tags if pos in ['Noun']]\n",
    "  verbs = [word for word, pos in pos_tags if pos in ['Verb']]\n",
    "  return nouns, verbs\n"
   ]
  }
 ],
 "metadata": {
  "kernelspec": {
   "display_name": "Python 3 (ipykernel)",
   "language": "python",
   "name": "python3"
  },
  "language_info": {
   "codemirror_mode": {
    "name": "ipython",
    "version": 3
   },
   "file_extension": ".py",
   "mimetype": "text/x-python",
   "name": "python",
   "nbconvert_exporter": "python",
   "pygments_lexer": "ipython3",
   "version": "3.11.4"
  }
 },
 "nbformat": 4,
 "nbformat_minor": 5
}
