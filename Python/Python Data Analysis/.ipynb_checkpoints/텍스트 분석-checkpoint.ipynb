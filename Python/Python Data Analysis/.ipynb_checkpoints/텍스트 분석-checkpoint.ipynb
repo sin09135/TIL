{
 "cells": [
  {
   "cell_type": "markdown",
   "id": "9ddc0409-4f05-47cd-936d-a7ab735d8edc",
   "metadata": {},
   "source": [
    "# 텍스트 분석 with 정규표현식"
   ]
  },
  {
   "cell_type": "code",
   "execution_count": 4,
   "id": "7575c090-fc6e-4094-9521-c4bc04d121d5",
   "metadata": {
    "tags": []
   },
   "outputs": [],
   "source": [
    "import numpy as np\n",
    "import pandas as pd\n",
    "\n",
    "df = pd.read_csv('data/movie_rv.csv')"
   ]
  },
  {
   "cell_type": "code",
   "execution_count": 5,
   "id": "7264131c-4b99-44da-a08c-f808c0651c97",
   "metadata": {
    "tags": []
   },
   "outputs": [
    {
     "data": {
      "text/html": [
       "<div>\n",
       "<style scoped>\n",
       "    .dataframe tbody tr th:only-of-type {\n",
       "        vertical-align: middle;\n",
       "    }\n",
       "\n",
       "    .dataframe tbody tr th {\n",
       "        vertical-align: top;\n",
       "    }\n",
       "\n",
       "    .dataframe thead th {\n",
       "        text-align: right;\n",
       "    }\n",
       "</style>\n",
       "<table border=\"1\" class=\"dataframe\">\n",
       "  <thead>\n",
       "    <tr style=\"text-align: right;\">\n",
       "      <th></th>\n",
       "      <th>Unnamed: 0</th>\n",
       "      <th>id</th>\n",
       "      <th>document</th>\n",
       "      <th>label</th>\n",
       "    </tr>\n",
       "  </thead>\n",
       "  <tbody>\n",
       "    <tr>\n",
       "      <th>0</th>\n",
       "      <td>0</td>\n",
       "      <td>9976970</td>\n",
       "      <td>아 더빙.. 진짜 짜증나네요 목소리</td>\n",
       "      <td>0</td>\n",
       "    </tr>\n",
       "    <tr>\n",
       "      <th>1</th>\n",
       "      <td>1</td>\n",
       "      <td>3819312</td>\n",
       "      <td>흠...포스터보고 초딩영화줄....오버연기조차 가볍지 않구나</td>\n",
       "      <td>1</td>\n",
       "    </tr>\n",
       "    <tr>\n",
       "      <th>2</th>\n",
       "      <td>2</td>\n",
       "      <td>10265843</td>\n",
       "      <td>너무재밓었다그래서보는것을추천한다</td>\n",
       "      <td>0</td>\n",
       "    </tr>\n",
       "    <tr>\n",
       "      <th>3</th>\n",
       "      <td>3</td>\n",
       "      <td>9045019</td>\n",
       "      <td>교도소 이야기구먼 ..솔직히 재미는 없다..평점 조정</td>\n",
       "      <td>0</td>\n",
       "    </tr>\n",
       "    <tr>\n",
       "      <th>4</th>\n",
       "      <td>4</td>\n",
       "      <td>6483659</td>\n",
       "      <td>사이몬페그의 익살스런 연기가 돋보였던 영화!스파이더맨에서 늙어보이기만 했던 커스틴 ...</td>\n",
       "      <td>1</td>\n",
       "    </tr>\n",
       "    <tr>\n",
       "      <th>...</th>\n",
       "      <td>...</td>\n",
       "      <td>...</td>\n",
       "      <td>...</td>\n",
       "      <td>...</td>\n",
       "    </tr>\n",
       "    <tr>\n",
       "      <th>149995</th>\n",
       "      <td>149995</td>\n",
       "      <td>6222902</td>\n",
       "      <td>인간이 문제지.. 소는 뭔죄인가..</td>\n",
       "      <td>0</td>\n",
       "    </tr>\n",
       "    <tr>\n",
       "      <th>149996</th>\n",
       "      <td>149996</td>\n",
       "      <td>8549745</td>\n",
       "      <td>평점이 너무 낮아서...</td>\n",
       "      <td>1</td>\n",
       "    </tr>\n",
       "    <tr>\n",
       "      <th>149997</th>\n",
       "      <td>149997</td>\n",
       "      <td>9311800</td>\n",
       "      <td>이게 뭐요? 한국인은 거들먹거리고 필리핀 혼혈은 착하다?</td>\n",
       "      <td>0</td>\n",
       "    </tr>\n",
       "    <tr>\n",
       "      <th>149998</th>\n",
       "      <td>149998</td>\n",
       "      <td>2376369</td>\n",
       "      <td>청춘 영화의 최고봉.방황과 우울했던 날들의 자화상</td>\n",
       "      <td>1</td>\n",
       "    </tr>\n",
       "    <tr>\n",
       "      <th>149999</th>\n",
       "      <td>149999</td>\n",
       "      <td>9619869</td>\n",
       "      <td>한국 영화 최초로 수간하는 내용이 담긴 영화</td>\n",
       "      <td>0</td>\n",
       "    </tr>\n",
       "  </tbody>\n",
       "</table>\n",
       "<p>150000 rows × 4 columns</p>\n",
       "</div>"
      ],
      "text/plain": [
       "        Unnamed: 0        id  \\\n",
       "0                0   9976970   \n",
       "1                1   3819312   \n",
       "2                2  10265843   \n",
       "3                3   9045019   \n",
       "4                4   6483659   \n",
       "...            ...       ...   \n",
       "149995      149995   6222902   \n",
       "149996      149996   8549745   \n",
       "149997      149997   9311800   \n",
       "149998      149998   2376369   \n",
       "149999      149999   9619869   \n",
       "\n",
       "                                                 document  label  \n",
       "0                                     아 더빙.. 진짜 짜증나네요 목소리      0  \n",
       "1                       흠...포스터보고 초딩영화줄....오버연기조차 가볍지 않구나      1  \n",
       "2                                       너무재밓었다그래서보는것을추천한다      0  \n",
       "3                           교도소 이야기구먼 ..솔직히 재미는 없다..평점 조정      0  \n",
       "4       사이몬페그의 익살스런 연기가 돋보였던 영화!스파이더맨에서 늙어보이기만 했던 커스틴 ...      1  \n",
       "...                                                   ...    ...  \n",
       "149995                                인간이 문제지.. 소는 뭔죄인가..      0  \n",
       "149996                                      평점이 너무 낮아서...      1  \n",
       "149997                    이게 뭐요? 한국인은 거들먹거리고 필리핀 혼혈은 착하다?      0  \n",
       "149998                        청춘 영화의 최고봉.방황과 우울했던 날들의 자화상      1  \n",
       "149999                           한국 영화 최초로 수간하는 내용이 담긴 영화      0  \n",
       "\n",
       "[150000 rows x 4 columns]"
      ]
     },
     "execution_count": 5,
     "metadata": {},
     "output_type": "execute_result"
    }
   ],
   "source": [
    "df"
   ]
  },
  {
   "cell_type": "markdown",
   "id": "e12584a2-1070-41bd-a954-12dcfe2f0978",
   "metadata": {},
   "source": [
    "### Pandas - str, pad\n",
    "- 시리스데이터.str.다른문법"
   ]
  },
  {
   "cell_type": "code",
   "execution_count": 7,
   "id": "b6cbb4a6-2c1d-4401-adc0-a568fcbc8005",
   "metadata": {
    "tags": []
   },
   "outputs": [
    {
     "data": {
      "text/plain": [
       "0                                       아 더빙.. 진짜 짜증나네요 목소리\n",
       "1                         흠...포스터보고 초딩영화줄....오버연기조차 가볍지 않구나\n",
       "2                                         너무재밓었다그래서보는것을추천한다\n",
       "3                             교도소 이야기구먼 ..솔직히 재미는 없다..평점 조정\n",
       "4         사이몬페그의 익살스런 연기가 돋보였던 영화!스파이더맨에서 늙어보이기만 했던 커스틴 ...\n",
       "                                ...                        \n",
       "149995                                  인간이 문제지.. 소는 뭔죄인가..\n",
       "149996                                        평점이 너무 낮아서...\n",
       "149997                      이게 뭐요? 한국인은 거들먹거리고 필리핀 혼혈은 착하다?\n",
       "149998                          청춘 영화의 최고봉.방황과 우울했던 날들의 자화상\n",
       "149999                             한국 영화 최초로 수간하는 내용이 담긴 영화\n",
       "Name: document, Length: 150000, dtype: object"
      ]
     },
     "execution_count": 7,
     "metadata": {},
     "output_type": "execute_result"
    }
   ],
   "source": [
    "df['document'].str.strip() #공백제거"
   ]
  },
  {
   "cell_type": "markdown",
   "id": "d30f736b-24d5-4bce-83da-3192646bea90",
   "metadata": {
    "tags": []
   },
   "source": [
    "- pad : 길이 맞추기, 0 패딩 맞추기"
   ]
  },
  {
   "cell_type": "code",
   "execution_count": 9,
   "id": "6c497077-1df2-44c5-bb6b-004ac03ec203",
   "metadata": {
    "tags": []
   },
   "outputs": [
    {
     "data": {
      "text/plain": [
       "0                            ***********아 더빙.. 진짜 짜증나네요 목소리\n",
       "1                         흠...포스터보고 초딩영화줄....오버연기조차 가볍지 않구나\n",
       "2                            *************너무재밓었다그래서보는것을추천한다\n",
       "3                            *교도소 이야기구먼 ..솔직히 재미는 없다..평점 조정\n",
       "4         사이몬페그의 익살스런 연기가 돋보였던 영화!스파이더맨에서 늙어보이기만 했던 커스틴 ...\n",
       "                                ...                        \n",
       "149995                       ***********인간이 문제지.. 소는 뭔죄인가..\n",
       "149996                       *****************평점이 너무 낮아서...\n",
       "149997                      이게 뭐요? 한국인은 거들먹거리고 필리핀 혼혈은 착하다?\n",
       "149998                       ***청춘 영화의 최고봉.방황과 우울했던 날들의 자화상\n",
       "149999                       ******한국 영화 최초로 수간하는 내용이 담긴 영화\n",
       "Name: document, Length: 150000, dtype: object"
      ]
     },
     "execution_count": 9,
     "metadata": {},
     "output_type": "execute_result"
    }
   ],
   "source": [
    "df['document'].str.pad(width = 30, side = 'left' , fillchar = '*')"
   ]
  },
  {
   "cell_type": "markdown",
   "id": "601e9f74-ee31-4e6a-be5e-49202544fb68",
   "metadata": {
    "tags": []
   },
   "source": [
    "- center"
   ]
  },
  {
   "cell_type": "code",
   "execution_count": 10,
   "id": "c22fd7e5-66b1-4fdc-a753-529d0bc5df87",
   "metadata": {
    "tags": []
   },
   "outputs": [
    {
     "data": {
      "text/plain": [
       "0                            /////아 더빙.. 진짜 짜증나네요 목소리//////\n",
       "1                         흠...포스터보고 초딩영화줄....오버연기조차 가볍지 않구나\n",
       "2                            //////너무재밓었다그래서보는것을추천한다///////\n",
       "3                            교도소 이야기구먼 ..솔직히 재미는 없다..평점 조정/\n",
       "4         사이몬페그의 익살스런 연기가 돋보였던 영화!스파이더맨에서 늙어보이기만 했던 커스틴 ...\n",
       "                                ...                        \n",
       "149995                       /////인간이 문제지.. 소는 뭔죄인가..//////\n",
       "149996                       ////////평점이 너무 낮아서.../////////\n",
       "149997                      이게 뭐요? 한국인은 거들먹거리고 필리핀 혼혈은 착하다?\n",
       "149998                       /청춘 영화의 최고봉.방황과 우울했던 날들의 자화상//\n",
       "149999                       ///한국 영화 최초로 수간하는 내용이 담긴 영화///\n",
       "Name: document, Length: 150000, dtype: object"
      ]
     },
     "execution_count": 10,
     "metadata": {},
     "output_type": "execute_result"
    }
   ],
   "source": [
    "df['document'].str.center(width = 30, fillchar = '/')"
   ]
  },
  {
   "cell_type": "markdown",
   "id": "846f9d9f-4840-4cd9-b1a4-8c3a296bbeaf",
   "metadata": {},
   "source": [
    "- ljust : 오른쪽에 맞춰서"
   ]
  },
  {
   "cell_type": "code",
   "execution_count": 12,
   "id": "dbfcb09d-f3eb-4e1f-9d76-7899b764ff24",
   "metadata": {
    "tags": []
   },
   "outputs": [
    {
     "data": {
      "text/plain": [
       "0                            아 더빙.. 진짜 짜증나네요 목소리///////////\n",
       "1                         흠...포스터보고 초딩영화줄....오버연기조차 가볍지 않구나\n",
       "2                            너무재밓었다그래서보는것을추천한다/////////////\n",
       "3                            교도소 이야기구먼 ..솔직히 재미는 없다..평점 조정/\n",
       "4         사이몬페그의 익살스런 연기가 돋보였던 영화!스파이더맨에서 늙어보이기만 했던 커스틴 ...\n",
       "                                ...                        \n",
       "149995                       인간이 문제지.. 소는 뭔죄인가..///////////\n",
       "149996                       평점이 너무 낮아서.../////////////////\n",
       "149997                      이게 뭐요? 한국인은 거들먹거리고 필리핀 혼혈은 착하다?\n",
       "149998                       청춘 영화의 최고봉.방황과 우울했던 날들의 자화상///\n",
       "149999                       한국 영화 최초로 수간하는 내용이 담긴 영화//////\n",
       "Name: document, Length: 150000, dtype: object"
      ]
     },
     "execution_count": 12,
     "metadata": {},
     "output_type": "execute_result"
    }
   ],
   "source": [
    "df['document'].str.ljust(width = 30, fillchar = '/')"
   ]
  },
  {
   "cell_type": "code",
   "execution_count": 13,
   "id": "4c2f7bc3-4f63-499c-ad06-d3c14a4c064f",
   "metadata": {
    "tags": []
   },
   "outputs": [
    {
     "data": {
      "text/plain": [
       "0                            00000000000아 더빙.. 진짜 짜증나네요 목소리\n",
       "1                         흠...포스터보고 초딩영화줄....오버연기조차 가볍지 않구나\n",
       "2                            0000000000000너무재밓었다그래서보는것을추천한다\n",
       "3                            0교도소 이야기구먼 ..솔직히 재미는 없다..평점 조정\n",
       "4         사이몬페그의 익살스런 연기가 돋보였던 영화!스파이더맨에서 늙어보이기만 했던 커스틴 ...\n",
       "                                ...                        \n",
       "149995                       00000000000인간이 문제지.. 소는 뭔죄인가..\n",
       "149996                       00000000000000000평점이 너무 낮아서...\n",
       "149997                      이게 뭐요? 한국인은 거들먹거리고 필리핀 혼혈은 착하다?\n",
       "149998                       000청춘 영화의 최고봉.방황과 우울했던 날들의 자화상\n",
       "149999                       000000한국 영화 최초로 수간하는 내용이 담긴 영화\n",
       "Name: document, Length: 150000, dtype: object"
      ]
     },
     "execution_count": 13,
     "metadata": {},
     "output_type": "execute_result"
    }
   ],
   "source": [
    "df['document'].str.zfill(width=30) #0값을 패딩 길이에 맞춰서 채워준다!"
   ]
  },
  {
   "cell_type": "markdown",
   "id": "0ddae641-b15f-4aea-b7a8-c7192e16d064",
   "metadata": {},
   "source": [
    "- split, partition : 문자열 나누기"
   ]
  },
  {
   "cell_type": "code",
   "execution_count": 14,
   "id": "d3528d94-628c-4851-8f31-09bf01a6e648",
   "metadata": {
    "tags": []
   },
   "outputs": [],
   "source": [
    "# split 구분자로 값 나누기, expand = True ( 여러 컬럼으로 나누기, Falsse 1개 컬럼에 나누기)\n",
    "df[['document_1','document_2']] = df['document'].str.split(' ', n = 1, expand = True)"
   ]
  },
  {
   "cell_type": "code",
   "execution_count": 15,
   "id": "12c6231f-a2f2-40e5-bcf5-f32a154e9877",
   "metadata": {
    "tags": []
   },
   "outputs": [],
   "source": [
    "#partition() : 좌측에 먼저 출현한 구분자를 나누는 것 # 3개 기준으로 해서 구분자로 나눠서 데이터를 넣는다.\n",
    "df[['document_1n','document_2n','document_3n']]=df['document'].str.partition(sep=' ')"
   ]
  },
  {
   "cell_type": "code",
   "execution_count": 16,
   "id": "b64a8c22-b294-4340-bcff-f2746abac543",
   "metadata": {
    "tags": []
   },
   "outputs": [
    {
     "data": {
      "text/html": [
       "<div>\n",
       "<style scoped>\n",
       "    .dataframe tbody tr th:only-of-type {\n",
       "        vertical-align: middle;\n",
       "    }\n",
       "\n",
       "    .dataframe tbody tr th {\n",
       "        vertical-align: top;\n",
       "    }\n",
       "\n",
       "    .dataframe thead th {\n",
       "        text-align: right;\n",
       "    }\n",
       "</style>\n",
       "<table border=\"1\" class=\"dataframe\">\n",
       "  <thead>\n",
       "    <tr style=\"text-align: right;\">\n",
       "      <th></th>\n",
       "      <th>Unnamed: 0</th>\n",
       "      <th>id</th>\n",
       "      <th>document</th>\n",
       "      <th>label</th>\n",
       "      <th>document_1</th>\n",
       "      <th>document_2</th>\n",
       "      <th>document_1n</th>\n",
       "      <th>document_2n</th>\n",
       "      <th>document_3n</th>\n",
       "    </tr>\n",
       "  </thead>\n",
       "  <tbody>\n",
       "    <tr>\n",
       "      <th>0</th>\n",
       "      <td>0</td>\n",
       "      <td>9976970</td>\n",
       "      <td>아 더빙.. 진짜 짜증나네요 목소리</td>\n",
       "      <td>0</td>\n",
       "      <td>아</td>\n",
       "      <td>더빙.. 진짜 짜증나네요 목소리</td>\n",
       "      <td>아</td>\n",
       "      <td></td>\n",
       "      <td>더빙.. 진짜 짜증나네요 목소리</td>\n",
       "    </tr>\n",
       "    <tr>\n",
       "      <th>1</th>\n",
       "      <td>1</td>\n",
       "      <td>3819312</td>\n",
       "      <td>흠...포스터보고 초딩영화줄....오버연기조차 가볍지 않구나</td>\n",
       "      <td>1</td>\n",
       "      <td>흠...포스터보고</td>\n",
       "      <td>초딩영화줄....오버연기조차 가볍지 않구나</td>\n",
       "      <td>흠...포스터보고</td>\n",
       "      <td></td>\n",
       "      <td>초딩영화줄....오버연기조차 가볍지 않구나</td>\n",
       "    </tr>\n",
       "    <tr>\n",
       "      <th>2</th>\n",
       "      <td>2</td>\n",
       "      <td>10265843</td>\n",
       "      <td>너무재밓었다그래서보는것을추천한다</td>\n",
       "      <td>0</td>\n",
       "      <td>너무재밓었다그래서보는것을추천한다</td>\n",
       "      <td>None</td>\n",
       "      <td>너무재밓었다그래서보는것을추천한다</td>\n",
       "      <td></td>\n",
       "      <td></td>\n",
       "    </tr>\n",
       "    <tr>\n",
       "      <th>3</th>\n",
       "      <td>3</td>\n",
       "      <td>9045019</td>\n",
       "      <td>교도소 이야기구먼 ..솔직히 재미는 없다..평점 조정</td>\n",
       "      <td>0</td>\n",
       "      <td>교도소</td>\n",
       "      <td>이야기구먼 ..솔직히 재미는 없다..평점 조정</td>\n",
       "      <td>교도소</td>\n",
       "      <td></td>\n",
       "      <td>이야기구먼 ..솔직히 재미는 없다..평점 조정</td>\n",
       "    </tr>\n",
       "    <tr>\n",
       "      <th>4</th>\n",
       "      <td>4</td>\n",
       "      <td>6483659</td>\n",
       "      <td>사이몬페그의 익살스런 연기가 돋보였던 영화!스파이더맨에서 늙어보이기만 했던 커스틴 ...</td>\n",
       "      <td>1</td>\n",
       "      <td>사이몬페그의</td>\n",
       "      <td>익살스런 연기가 돋보였던 영화!스파이더맨에서 늙어보이기만 했던 커스틴 던스트가 너무...</td>\n",
       "      <td>사이몬페그의</td>\n",
       "      <td></td>\n",
       "      <td>익살스런 연기가 돋보였던 영화!스파이더맨에서 늙어보이기만 했던 커스틴 던스트가 너무...</td>\n",
       "    </tr>\n",
       "    <tr>\n",
       "      <th>...</th>\n",
       "      <td>...</td>\n",
       "      <td>...</td>\n",
       "      <td>...</td>\n",
       "      <td>...</td>\n",
       "      <td>...</td>\n",
       "      <td>...</td>\n",
       "      <td>...</td>\n",
       "      <td>...</td>\n",
       "      <td>...</td>\n",
       "    </tr>\n",
       "    <tr>\n",
       "      <th>149995</th>\n",
       "      <td>149995</td>\n",
       "      <td>6222902</td>\n",
       "      <td>인간이 문제지.. 소는 뭔죄인가..</td>\n",
       "      <td>0</td>\n",
       "      <td>인간이</td>\n",
       "      <td>문제지.. 소는 뭔죄인가..</td>\n",
       "      <td>인간이</td>\n",
       "      <td></td>\n",
       "      <td>문제지.. 소는 뭔죄인가..</td>\n",
       "    </tr>\n",
       "    <tr>\n",
       "      <th>149996</th>\n",
       "      <td>149996</td>\n",
       "      <td>8549745</td>\n",
       "      <td>평점이 너무 낮아서...</td>\n",
       "      <td>1</td>\n",
       "      <td>평점이</td>\n",
       "      <td>너무 낮아서...</td>\n",
       "      <td>평점이</td>\n",
       "      <td></td>\n",
       "      <td>너무 낮아서...</td>\n",
       "    </tr>\n",
       "    <tr>\n",
       "      <th>149997</th>\n",
       "      <td>149997</td>\n",
       "      <td>9311800</td>\n",
       "      <td>이게 뭐요? 한국인은 거들먹거리고 필리핀 혼혈은 착하다?</td>\n",
       "      <td>0</td>\n",
       "      <td>이게</td>\n",
       "      <td>뭐요? 한국인은 거들먹거리고 필리핀 혼혈은 착하다?</td>\n",
       "      <td>이게</td>\n",
       "      <td></td>\n",
       "      <td>뭐요? 한국인은 거들먹거리고 필리핀 혼혈은 착하다?</td>\n",
       "    </tr>\n",
       "    <tr>\n",
       "      <th>149998</th>\n",
       "      <td>149998</td>\n",
       "      <td>2376369</td>\n",
       "      <td>청춘 영화의 최고봉.방황과 우울했던 날들의 자화상</td>\n",
       "      <td>1</td>\n",
       "      <td>청춘</td>\n",
       "      <td>영화의 최고봉.방황과 우울했던 날들의 자화상</td>\n",
       "      <td>청춘</td>\n",
       "      <td></td>\n",
       "      <td>영화의 최고봉.방황과 우울했던 날들의 자화상</td>\n",
       "    </tr>\n",
       "    <tr>\n",
       "      <th>149999</th>\n",
       "      <td>149999</td>\n",
       "      <td>9619869</td>\n",
       "      <td>한국 영화 최초로 수간하는 내용이 담긴 영화</td>\n",
       "      <td>0</td>\n",
       "      <td>한국</td>\n",
       "      <td>영화 최초로 수간하는 내용이 담긴 영화</td>\n",
       "      <td>한국</td>\n",
       "      <td></td>\n",
       "      <td>영화 최초로 수간하는 내용이 담긴 영화</td>\n",
       "    </tr>\n",
       "  </tbody>\n",
       "</table>\n",
       "<p>150000 rows × 9 columns</p>\n",
       "</div>"
      ],
      "text/plain": [
       "        Unnamed: 0        id  \\\n",
       "0                0   9976970   \n",
       "1                1   3819312   \n",
       "2                2  10265843   \n",
       "3                3   9045019   \n",
       "4                4   6483659   \n",
       "...            ...       ...   \n",
       "149995      149995   6222902   \n",
       "149996      149996   8549745   \n",
       "149997      149997   9311800   \n",
       "149998      149998   2376369   \n",
       "149999      149999   9619869   \n",
       "\n",
       "                                                 document  label  \\\n",
       "0                                     아 더빙.. 진짜 짜증나네요 목소리      0   \n",
       "1                       흠...포스터보고 초딩영화줄....오버연기조차 가볍지 않구나      1   \n",
       "2                                       너무재밓었다그래서보는것을추천한다      0   \n",
       "3                           교도소 이야기구먼 ..솔직히 재미는 없다..평점 조정      0   \n",
       "4       사이몬페그의 익살스런 연기가 돋보였던 영화!스파이더맨에서 늙어보이기만 했던 커스틴 ...      1   \n",
       "...                                                   ...    ...   \n",
       "149995                                인간이 문제지.. 소는 뭔죄인가..      0   \n",
       "149996                                      평점이 너무 낮아서...      1   \n",
       "149997                    이게 뭐요? 한국인은 거들먹거리고 필리핀 혼혈은 착하다?      0   \n",
       "149998                        청춘 영화의 최고봉.방황과 우울했던 날들의 자화상      1   \n",
       "149999                           한국 영화 최초로 수간하는 내용이 담긴 영화      0   \n",
       "\n",
       "               document_1                                         document_2  \\\n",
       "0                       아                                  더빙.. 진짜 짜증나네요 목소리   \n",
       "1               흠...포스터보고                            초딩영화줄....오버연기조차 가볍지 않구나   \n",
       "2       너무재밓었다그래서보는것을추천한다                                               None   \n",
       "3                     교도소                          이야기구먼 ..솔직히 재미는 없다..평점 조정   \n",
       "4                  사이몬페그의  익살스런 연기가 돋보였던 영화!스파이더맨에서 늙어보이기만 했던 커스틴 던스트가 너무...   \n",
       "...                   ...                                                ...   \n",
       "149995                인간이                                    문제지.. 소는 뭔죄인가..   \n",
       "149996                평점이                                          너무 낮아서...   \n",
       "149997                 이게                       뭐요? 한국인은 거들먹거리고 필리핀 혼혈은 착하다?   \n",
       "149998                 청춘                           영화의 최고봉.방황과 우울했던 날들의 자화상   \n",
       "149999                 한국                              영화 최초로 수간하는 내용이 담긴 영화   \n",
       "\n",
       "              document_1n document_2n  \\\n",
       "0                       아               \n",
       "1               흠...포스터보고               \n",
       "2       너무재밓었다그래서보는것을추천한다               \n",
       "3                     교도소               \n",
       "4                  사이몬페그의               \n",
       "...                   ...         ...   \n",
       "149995                인간이               \n",
       "149996                평점이               \n",
       "149997                 이게               \n",
       "149998                 청춘               \n",
       "149999                 한국               \n",
       "\n",
       "                                              document_3n  \n",
       "0                                       더빙.. 진짜 짜증나네요 목소리  \n",
       "1                                 초딩영화줄....오버연기조차 가볍지 않구나  \n",
       "2                                                          \n",
       "3                               이야기구먼 ..솔직히 재미는 없다..평점 조정  \n",
       "4       익살스런 연기가 돋보였던 영화!스파이더맨에서 늙어보이기만 했던 커스틴 던스트가 너무...  \n",
       "...                                                   ...  \n",
       "149995                                    문제지.. 소는 뭔죄인가..  \n",
       "149996                                          너무 낮아서...  \n",
       "149997                       뭐요? 한국인은 거들먹거리고 필리핀 혼혈은 착하다?  \n",
       "149998                           영화의 최고봉.방황과 우울했던 날들의 자화상  \n",
       "149999                              영화 최초로 수간하는 내용이 담긴 영화  \n",
       "\n",
       "[150000 rows x 9 columns]"
      ]
     },
     "execution_count": 16,
     "metadata": {},
     "output_type": "execute_result"
    }
   ],
   "source": [
    "df"
   ]
  },
  {
   "cell_type": "markdown",
   "id": "76bfd932-2e78-4ab2-b277-0235d5ecbf1a",
   "metadata": {},
   "source": [
    "### 영문 대소문자 변경"
   ]
  },
  {
   "cell_type": "markdown",
   "id": "8d1f8f90-ecd6-4242-9ad6-bb3bfbd2b21d",
   "metadata": {
    "tags": []
   },
   "source": [
    "- lower- 소문자 변경\n",
    "- upper- 대문자 변경\n",
    "- capitailize - 앞문자 대문자로 변경\n",
    "- title - 단위별 앞문자 대문자로 변경하기\n",
    "- swapcase - 소문자는 대문자, 대문자는 소문자로 변경하기!"
   ]
  },
  {
   "cell_type": "markdown",
   "id": "90a292c5-7ada-46fa-8104-6fa64e179c1a",
   "metadata": {},
   "source": [
    "- replace "
   ]
  },
  {
   "cell_type": "code",
   "execution_count": 18,
   "id": "cafbf5df-7958-463b-803a-ffd13f1a24eb",
   "metadata": {
    "tags": []
   },
   "outputs": [
    {
     "data": {
      "text/plain": [
       "0                                       아 더빙** 진짜 짜증나네요 목소리\n",
       "1                         흠***포스터보고 초딩영화줄****오버연기조차 가볍지 않구나\n",
       "2                                         너무재밓었다그래서보는것을추천한다\n",
       "3                             교도소 이야기구먼 **솔직히 재미는 없다**평점 조정\n",
       "4         사이몬페그의 익살스런 연기가 돋보였던 영화!스파이더맨에서 늙어보이기만 했던 커스틴 ...\n",
       "                                ...                        \n",
       "149995                                  인간이 문제지** 소는 뭔죄인가**\n",
       "149996                                        평점이 너무 낮아서***\n",
       "149997                      이게 뭐요? 한국인은 거들먹거리고 필리핀 혼혈은 착하다?\n",
       "149998                          청춘 영화의 최고봉*방황과 우울했던 날들의 자화상\n",
       "149999                             한국 영화 최초로 수간하는 내용이 담긴 영화\n",
       "Name: document, Length: 150000, dtype: object"
      ]
     },
     "execution_count": 18,
     "metadata": {},
     "output_type": "execute_result"
    }
   ],
   "source": [
    "df['document'].str.replace(pat='.',repl = '*', regex = False)"
   ]
  },
  {
   "cell_type": "markdown",
   "id": "97612f5a-0bfc-48ba-9d49-5f8c7fc61b24",
   "metadata": {
    "tags": []
   },
   "source": [
    "- find"
   ]
  },
  {
   "cell_type": "code",
   "execution_count": 20,
   "id": "071ee261-aff6-4213-a3fa-7d00850dfe4a",
   "metadata": {
    "tags": []
   },
   "outputs": [],
   "source": [
    "df['document_non'] = df['document'].str.find(sub = '.') # 해당 문자가 어디에 있는지 인덱스 반환"
   ]
  },
  {
   "cell_type": "code",
   "execution_count": 21,
   "id": "3d16219a-3d0b-4ba0-97fa-75a0ea4fb999",
   "metadata": {
    "tags": []
   },
   "outputs": [],
   "source": [
    "df['find_all_docu'] = df['document'].str.findall(pat = '[재미]') # 정규표현식과 함께 활용"
   ]
  },
  {
   "cell_type": "code",
   "execution_count": 22,
   "id": "11d697ae-ec28-4198-adf0-f9d953670a77",
   "metadata": {
    "tags": []
   },
   "outputs": [],
   "source": [
    "df['findall_num'] = df['document'].str.findall(pat = '[0-9]+')"
   ]
  },
  {
   "cell_type": "markdown",
   "id": "6411174a-ee29-4be3-b440-c37c1cb4424c",
   "metadata": {},
   "source": [
    "- slice : 특정 인덱스의 값을 잘라낸다."
   ]
  },
  {
   "cell_type": "markdown",
   "id": "6cae9907-9314-47cf-999c-f91f874b3736",
   "metadata": {
    "tags": []
   },
   "source": [
    "- slice_replace"
   ]
  },
  {
   "cell_type": "code",
   "execution_count": 24,
   "id": "aaf5b4d2-86cb-4ea3-99b8-53e916b7cfc3",
   "metadata": {
    "tags": []
   },
   "outputs": [
    {
     "data": {
      "text/plain": [
       "0                                          !.. 진짜 짜증나네요 목소리\n",
       "1                            !포스터보고 초딩영화줄....오버연기조차 가볍지 않구나\n",
       "2                                            !었다그래서보는것을추천한다\n",
       "3                                !이야기구먼 ..솔직히 재미는 없다..평점 조정\n",
       "4         !그의 익살스런 연기가 돋보였던 영화!스파이더맨에서 늙어보이기만 했던 커스틴 던스트...\n",
       "                                ...                        \n",
       "149995                                     !문제지.. 소는 뭔죄인가..\n",
       "149996                                           !너무 낮아서...\n",
       "149997                         !요? 한국인은 거들먹거리고 필리핀 혼혈은 착하다?\n",
       "149998                             !화의 최고봉.방황과 우울했던 날들의 자화상\n",
       "149999                                !화 최초로 수간하는 내용이 담긴 영화\n",
       "Name: document, Length: 150000, dtype: object"
      ]
     },
     "execution_count": 24,
     "metadata": {},
     "output_type": "execute_result"
    }
   ],
   "source": [
    "df['document'].str.slice_replace(start = 0,stop = 4,repl = '!') # 0부터 4까지의 전체 데이터를 날려서 삭제"
   ]
  },
  {
   "cell_type": "code",
   "execution_count": 25,
   "id": "6b1d8ca5-a213-4bcd-aff5-531e042a3554",
   "metadata": {
    "tags": []
   },
   "outputs": [],
   "source": [
    "df['documet_0_5'] = df['document'].str.slice(start = 0, stop = 5)"
   ]
  },
  {
   "cell_type": "code",
   "execution_count": 26,
   "id": "decf7887-e82c-4211-b466-6ee41ac8519d",
   "metadata": {
    "tags": []
   },
   "outputs": [
    {
     "data": {
      "text/html": [
       "<div>\n",
       "<style scoped>\n",
       "    .dataframe tbody tr th:only-of-type {\n",
       "        vertical-align: middle;\n",
       "    }\n",
       "\n",
       "    .dataframe tbody tr th {\n",
       "        vertical-align: top;\n",
       "    }\n",
       "\n",
       "    .dataframe thead th {\n",
       "        text-align: right;\n",
       "    }\n",
       "</style>\n",
       "<table border=\"1\" class=\"dataframe\">\n",
       "  <thead>\n",
       "    <tr style=\"text-align: right;\">\n",
       "      <th></th>\n",
       "      <th>Unnamed: 0</th>\n",
       "      <th>id</th>\n",
       "      <th>document</th>\n",
       "      <th>label</th>\n",
       "      <th>document_1</th>\n",
       "      <th>document_2</th>\n",
       "      <th>document_1n</th>\n",
       "      <th>document_2n</th>\n",
       "      <th>document_3n</th>\n",
       "      <th>document_non</th>\n",
       "      <th>find_all_docu</th>\n",
       "      <th>findall_num</th>\n",
       "      <th>documet_0_5</th>\n",
       "    </tr>\n",
       "  </thead>\n",
       "  <tbody>\n",
       "    <tr>\n",
       "      <th>0</th>\n",
       "      <td>0</td>\n",
       "      <td>9976970</td>\n",
       "      <td>아 더빙.. 진짜 짜증나네요 목소리</td>\n",
       "      <td>0</td>\n",
       "      <td>아</td>\n",
       "      <td>더빙.. 진짜 짜증나네요 목소리</td>\n",
       "      <td>아</td>\n",
       "      <td></td>\n",
       "      <td>더빙.. 진짜 짜증나네요 목소리</td>\n",
       "      <td>4.0</td>\n",
       "      <td>[]</td>\n",
       "      <td>[]</td>\n",
       "      <td>아 더빙.</td>\n",
       "    </tr>\n",
       "    <tr>\n",
       "      <th>1</th>\n",
       "      <td>1</td>\n",
       "      <td>3819312</td>\n",
       "      <td>흠...포스터보고 초딩영화줄....오버연기조차 가볍지 않구나</td>\n",
       "      <td>1</td>\n",
       "      <td>흠...포스터보고</td>\n",
       "      <td>초딩영화줄....오버연기조차 가볍지 않구나</td>\n",
       "      <td>흠...포스터보고</td>\n",
       "      <td></td>\n",
       "      <td>초딩영화줄....오버연기조차 가볍지 않구나</td>\n",
       "      <td>1.0</td>\n",
       "      <td>[]</td>\n",
       "      <td>[]</td>\n",
       "      <td>흠...포</td>\n",
       "    </tr>\n",
       "    <tr>\n",
       "      <th>2</th>\n",
       "      <td>2</td>\n",
       "      <td>10265843</td>\n",
       "      <td>너무재밓었다그래서보는것을추천한다</td>\n",
       "      <td>0</td>\n",
       "      <td>너무재밓었다그래서보는것을추천한다</td>\n",
       "      <td>None</td>\n",
       "      <td>너무재밓었다그래서보는것을추천한다</td>\n",
       "      <td></td>\n",
       "      <td></td>\n",
       "      <td>-1.0</td>\n",
       "      <td>[재]</td>\n",
       "      <td>[]</td>\n",
       "      <td>너무재밓었</td>\n",
       "    </tr>\n",
       "    <tr>\n",
       "      <th>3</th>\n",
       "      <td>3</td>\n",
       "      <td>9045019</td>\n",
       "      <td>교도소 이야기구먼 ..솔직히 재미는 없다..평점 조정</td>\n",
       "      <td>0</td>\n",
       "      <td>교도소</td>\n",
       "      <td>이야기구먼 ..솔직히 재미는 없다..평점 조정</td>\n",
       "      <td>교도소</td>\n",
       "      <td></td>\n",
       "      <td>이야기구먼 ..솔직히 재미는 없다..평점 조정</td>\n",
       "      <td>10.0</td>\n",
       "      <td>[재, 미]</td>\n",
       "      <td>[]</td>\n",
       "      <td>교도소 이</td>\n",
       "    </tr>\n",
       "    <tr>\n",
       "      <th>4</th>\n",
       "      <td>4</td>\n",
       "      <td>6483659</td>\n",
       "      <td>사이몬페그의 익살스런 연기가 돋보였던 영화!스파이더맨에서 늙어보이기만 했던 커스틴 ...</td>\n",
       "      <td>1</td>\n",
       "      <td>사이몬페그의</td>\n",
       "      <td>익살스런 연기가 돋보였던 영화!스파이더맨에서 늙어보이기만 했던 커스틴 던스트가 너무...</td>\n",
       "      <td>사이몬페그의</td>\n",
       "      <td></td>\n",
       "      <td>익살스런 연기가 돋보였던 영화!스파이더맨에서 늙어보이기만 했던 커스틴 던스트가 너무...</td>\n",
       "      <td>-1.0</td>\n",
       "      <td>[]</td>\n",
       "      <td>[]</td>\n",
       "      <td>사이몬페그</td>\n",
       "    </tr>\n",
       "    <tr>\n",
       "      <th>...</th>\n",
       "      <td>...</td>\n",
       "      <td>...</td>\n",
       "      <td>...</td>\n",
       "      <td>...</td>\n",
       "      <td>...</td>\n",
       "      <td>...</td>\n",
       "      <td>...</td>\n",
       "      <td>...</td>\n",
       "      <td>...</td>\n",
       "      <td>...</td>\n",
       "      <td>...</td>\n",
       "      <td>...</td>\n",
       "      <td>...</td>\n",
       "    </tr>\n",
       "    <tr>\n",
       "      <th>149995</th>\n",
       "      <td>149995</td>\n",
       "      <td>6222902</td>\n",
       "      <td>인간이 문제지.. 소는 뭔죄인가..</td>\n",
       "      <td>0</td>\n",
       "      <td>인간이</td>\n",
       "      <td>문제지.. 소는 뭔죄인가..</td>\n",
       "      <td>인간이</td>\n",
       "      <td></td>\n",
       "      <td>문제지.. 소는 뭔죄인가..</td>\n",
       "      <td>7.0</td>\n",
       "      <td>[]</td>\n",
       "      <td>[]</td>\n",
       "      <td>인간이 문</td>\n",
       "    </tr>\n",
       "    <tr>\n",
       "      <th>149996</th>\n",
       "      <td>149996</td>\n",
       "      <td>8549745</td>\n",
       "      <td>평점이 너무 낮아서...</td>\n",
       "      <td>1</td>\n",
       "      <td>평점이</td>\n",
       "      <td>너무 낮아서...</td>\n",
       "      <td>평점이</td>\n",
       "      <td></td>\n",
       "      <td>너무 낮아서...</td>\n",
       "      <td>10.0</td>\n",
       "      <td>[]</td>\n",
       "      <td>[]</td>\n",
       "      <td>평점이 너</td>\n",
       "    </tr>\n",
       "    <tr>\n",
       "      <th>149997</th>\n",
       "      <td>149997</td>\n",
       "      <td>9311800</td>\n",
       "      <td>이게 뭐요? 한국인은 거들먹거리고 필리핀 혼혈은 착하다?</td>\n",
       "      <td>0</td>\n",
       "      <td>이게</td>\n",
       "      <td>뭐요? 한국인은 거들먹거리고 필리핀 혼혈은 착하다?</td>\n",
       "      <td>이게</td>\n",
       "      <td></td>\n",
       "      <td>뭐요? 한국인은 거들먹거리고 필리핀 혼혈은 착하다?</td>\n",
       "      <td>-1.0</td>\n",
       "      <td>[]</td>\n",
       "      <td>[]</td>\n",
       "      <td>이게 뭐요</td>\n",
       "    </tr>\n",
       "    <tr>\n",
       "      <th>149998</th>\n",
       "      <td>149998</td>\n",
       "      <td>2376369</td>\n",
       "      <td>청춘 영화의 최고봉.방황과 우울했던 날들의 자화상</td>\n",
       "      <td>1</td>\n",
       "      <td>청춘</td>\n",
       "      <td>영화의 최고봉.방황과 우울했던 날들의 자화상</td>\n",
       "      <td>청춘</td>\n",
       "      <td></td>\n",
       "      <td>영화의 최고봉.방황과 우울했던 날들의 자화상</td>\n",
       "      <td>10.0</td>\n",
       "      <td>[]</td>\n",
       "      <td>[]</td>\n",
       "      <td>청춘 영화</td>\n",
       "    </tr>\n",
       "    <tr>\n",
       "      <th>149999</th>\n",
       "      <td>149999</td>\n",
       "      <td>9619869</td>\n",
       "      <td>한국 영화 최초로 수간하는 내용이 담긴 영화</td>\n",
       "      <td>0</td>\n",
       "      <td>한국</td>\n",
       "      <td>영화 최초로 수간하는 내용이 담긴 영화</td>\n",
       "      <td>한국</td>\n",
       "      <td></td>\n",
       "      <td>영화 최초로 수간하는 내용이 담긴 영화</td>\n",
       "      <td>-1.0</td>\n",
       "      <td>[]</td>\n",
       "      <td>[]</td>\n",
       "      <td>한국 영화</td>\n",
       "    </tr>\n",
       "  </tbody>\n",
       "</table>\n",
       "<p>150000 rows × 13 columns</p>\n",
       "</div>"
      ],
      "text/plain": [
       "        Unnamed: 0        id  \\\n",
       "0                0   9976970   \n",
       "1                1   3819312   \n",
       "2                2  10265843   \n",
       "3                3   9045019   \n",
       "4                4   6483659   \n",
       "...            ...       ...   \n",
       "149995      149995   6222902   \n",
       "149996      149996   8549745   \n",
       "149997      149997   9311800   \n",
       "149998      149998   2376369   \n",
       "149999      149999   9619869   \n",
       "\n",
       "                                                 document  label  \\\n",
       "0                                     아 더빙.. 진짜 짜증나네요 목소리      0   \n",
       "1                       흠...포스터보고 초딩영화줄....오버연기조차 가볍지 않구나      1   \n",
       "2                                       너무재밓었다그래서보는것을추천한다      0   \n",
       "3                           교도소 이야기구먼 ..솔직히 재미는 없다..평점 조정      0   \n",
       "4       사이몬페그의 익살스런 연기가 돋보였던 영화!스파이더맨에서 늙어보이기만 했던 커스틴 ...      1   \n",
       "...                                                   ...    ...   \n",
       "149995                                인간이 문제지.. 소는 뭔죄인가..      0   \n",
       "149996                                      평점이 너무 낮아서...      1   \n",
       "149997                    이게 뭐요? 한국인은 거들먹거리고 필리핀 혼혈은 착하다?      0   \n",
       "149998                        청춘 영화의 최고봉.방황과 우울했던 날들의 자화상      1   \n",
       "149999                           한국 영화 최초로 수간하는 내용이 담긴 영화      0   \n",
       "\n",
       "               document_1                                         document_2  \\\n",
       "0                       아                                  더빙.. 진짜 짜증나네요 목소리   \n",
       "1               흠...포스터보고                            초딩영화줄....오버연기조차 가볍지 않구나   \n",
       "2       너무재밓었다그래서보는것을추천한다                                               None   \n",
       "3                     교도소                          이야기구먼 ..솔직히 재미는 없다..평점 조정   \n",
       "4                  사이몬페그의  익살스런 연기가 돋보였던 영화!스파이더맨에서 늙어보이기만 했던 커스틴 던스트가 너무...   \n",
       "...                   ...                                                ...   \n",
       "149995                인간이                                    문제지.. 소는 뭔죄인가..   \n",
       "149996                평점이                                          너무 낮아서...   \n",
       "149997                 이게                       뭐요? 한국인은 거들먹거리고 필리핀 혼혈은 착하다?   \n",
       "149998                 청춘                           영화의 최고봉.방황과 우울했던 날들의 자화상   \n",
       "149999                 한국                              영화 최초로 수간하는 내용이 담긴 영화   \n",
       "\n",
       "              document_1n document_2n  \\\n",
       "0                       아               \n",
       "1               흠...포스터보고               \n",
       "2       너무재밓었다그래서보는것을추천한다               \n",
       "3                     교도소               \n",
       "4                  사이몬페그의               \n",
       "...                   ...         ...   \n",
       "149995                인간이               \n",
       "149996                평점이               \n",
       "149997                 이게               \n",
       "149998                 청춘               \n",
       "149999                 한국               \n",
       "\n",
       "                                              document_3n  document_non  \\\n",
       "0                                       더빙.. 진짜 짜증나네요 목소리           4.0   \n",
       "1                                 초딩영화줄....오버연기조차 가볍지 않구나           1.0   \n",
       "2                                                                  -1.0   \n",
       "3                               이야기구먼 ..솔직히 재미는 없다..평점 조정          10.0   \n",
       "4       익살스런 연기가 돋보였던 영화!스파이더맨에서 늙어보이기만 했던 커스틴 던스트가 너무...          -1.0   \n",
       "...                                                   ...           ...   \n",
       "149995                                    문제지.. 소는 뭔죄인가..           7.0   \n",
       "149996                                          너무 낮아서...          10.0   \n",
       "149997                       뭐요? 한국인은 거들먹거리고 필리핀 혼혈은 착하다?          -1.0   \n",
       "149998                           영화의 최고봉.방황과 우울했던 날들의 자화상          10.0   \n",
       "149999                              영화 최초로 수간하는 내용이 담긴 영화          -1.0   \n",
       "\n",
       "       find_all_docu findall_num documet_0_5  \n",
       "0                 []          []       아 더빙.  \n",
       "1                 []          []       흠...포  \n",
       "2                [재]          []       너무재밓었  \n",
       "3             [재, 미]          []       교도소 이  \n",
       "4                 []          []       사이몬페그  \n",
       "...              ...         ...         ...  \n",
       "149995            []          []       인간이 문  \n",
       "149996            []          []       평점이 너  \n",
       "149997            []          []       이게 뭐요  \n",
       "149998            []          []       청춘 영화  \n",
       "149999            []          []       한국 영화  \n",
       "\n",
       "[150000 rows x 13 columns]"
      ]
     },
     "execution_count": 26,
     "metadata": {},
     "output_type": "execute_result"
    }
   ],
   "source": [
    "df"
   ]
  },
  {
   "cell_type": "markdown",
   "id": "f424bfee-db12-4544-8d25-4d3652aa2fdf",
   "metadata": {
    "tags": []
   },
   "source": [
    "- len()"
   ]
  },
  {
   "cell_type": "code",
   "execution_count": 28,
   "id": "49cbe634-d6ed-47d3-ab10-0b52f2189456",
   "metadata": {
    "tags": []
   },
   "outputs": [],
   "source": [
    "# 전체 리뷰에 대한 길이 만들기\n",
    "df['document_len'] = df['document'].str.len()"
   ]
  },
  {
   "cell_type": "code",
   "execution_count": 29,
   "id": "298609f7-3b9f-4807-88a7-3c1c885e50c9",
   "metadata": {
    "tags": []
   },
   "outputs": [
    {
     "data": {
      "text/plain": [
       "(array([36766., 46098., 33551., 12015.,  6098.,  3990.,  3136.,  2231.,\n",
       "         2361.,  3749.]),\n",
       " array([  1. ,  15.5,  30. ,  44.5,  59. ,  73.5,  88. , 102.5, 117. ,\n",
       "        131.5, 146. ]),\n",
       " <BarContainer object of 10 artists>)"
      ]
     },
     "execution_count": 29,
     "metadata": {},
     "output_type": "execute_result"
    },
    {
     "data": {
      "image/png": "[encoded data removed]",
      "text/plain": [
       "<Figure size 640x480 with 1 Axes>"
      ]
     },
     "metadata": {},
     "output_type": "display_data"
    }
   ],
   "source": [
    "import matplotlib.pyplot as plt\n",
    "plt.hist(df['document_len']) # 리뷰 길이 분포 확인"
   ]
  },
  {
   "cell_type": "code",
   "execution_count": 30,
   "id": "f6edfbaf-d5eb-4e37-8afb-b30999379244",
   "metadata": {
    "tags": []
   },
   "outputs": [
    {
     "data": {
      "text/plain": [
       "0    75173\n",
       "1    74827\n",
       "Name: label, dtype: int64"
      ]
     },
     "execution_count": 30,
     "metadata": {},
     "output_type": "execute_result"
    }
   ],
   "source": [
    "df['label'].value_counts()"
   ]
  }
 ],
 "metadata": {
  "kernelspec": {
   "display_name": "Python 3 (ipykernel)",
   "language": "python",
   "name": "python3"
  },
  "language_info": {
   "codemirror_mode": {
    "name": "ipython",
    "version": 3
   },
   "file_extension": ".py",
   "mimetype": "text/x-python",
   "name": "python",
   "nbconvert_exporter": "python",
   "pygments_lexer": "ipython3",
   "version": "3.11.4"
  }
 },
 "nbformat": 4,
 "nbformat_minor": 5
}
