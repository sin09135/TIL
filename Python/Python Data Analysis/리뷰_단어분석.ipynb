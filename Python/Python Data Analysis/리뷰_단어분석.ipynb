{
 "cells": [
  {
   "cell_type": "code",
   "execution_count": 1,
   "id": "e07ae124-f269-46c2-9a10-a360651f3540",
   "metadata": {
    "tags": []
   },
   "outputs": [],
   "source": [
    "import pandas as pd\n",
    "import numpy as np"
   ]
  },
  {
   "cell_type": "code",
   "execution_count": 2,
   "id": "bd7385e4-2854-4e61-a071-df94cdcbbf49",
   "metadata": {
    "tags": []
   },
   "outputs": [],
   "source": [
    "df = pd.read_csv('data/movie_rv.csv')"
   ]
  },
  {
   "cell_type": "markdown",
   "id": "528a6fe6-d3a0-44b3-b3ff-919853e604b8",
   "metadata": {},
   "source": [
    "### 긍정 리뷰"
   ]
  },
  {
   "cell_type": "code",
   "execution_count": 3,
   "id": "c11a84db-fc23-46fa-b1e4-f8bd7c10df06",
   "metadata": {
    "tags": []
   },
   "outputs": [],
   "source": [
    "df_po = df[df['label']== 1]"
   ]
  },
  {
   "cell_type": "code",
   "execution_count": 4,
   "id": "d6631e62-919a-43e7-bee1-8a11f6b8c996",
   "metadata": {
    "tags": []
   },
   "outputs": [
    {
     "name": "stderr",
     "output_type": "stream",
     "text": [
      "/var/folders/nz/vk3v33x95bs4kf3ymy0z0my00000gn/T/ipykernel_8946/3983702611.py:1: SettingWithCopyWarning: \n",
      "A value is trying to be set on a copy of a slice from a DataFrame.\n",
      "Try using .loc[row_indexer,col_indexer] = value instead\n",
      "\n",
      "See the caveats in the documentation: https://pandas.pydata.org/pandas-docs/stable/user_guide/indexing.html#returning-a-view-versus-a-copy\n",
      "  df_po['words'] = df_po['document'].apply(lambda x: str(x).split())\n"
     ]
    }
   ],
   "source": [
    "df_po['words'] = df_po['document'].apply(lambda x: str(x).split())"
   ]
  },
  {
   "cell_type": "code",
   "execution_count": 6,
   "id": "44772bab-760a-4014-9970-4e732c6f47b9",
   "metadata": {
    "tags": []
   },
   "outputs": [
    {
     "data": {
      "text/plain": [
       "1                    [흠...포스터보고, 초딩영화줄....오버연기조차, 가볍지, 않구나]\n",
       "4         [사이몬페그의, 익살스런, 연기가, 돋보였던, 영화!스파이더맨에서, 늙어보이기만, ...\n",
       "8                             [액션이, 없는데도, 재미, 있는, 몇안되는, 영화]\n",
       "9         [왜케, 평점이, 낮은건데?, 꽤, 볼만한데.., 헐리우드식, 화려함에만, 너무, ...\n",
       "10                                       [걍인피니트가짱이다.진짜짱이다♥]\n",
       "                                ...                        \n",
       "149991    [http://blog.naver.com/oroblast/220215679580, ...\n",
       "149993           [For, Carl.칼, 세이건으로, 시작해서, 칼, 세이건으로, 끝난다.]\n",
       "149994        [디케이드, 다음에, 더블, 다음에, 오즈인데, 더블은, 조금밖에, 안나오네요.]\n",
       "149996                                    [평점이, 너무, 낮아서...]\n",
       "149998                   [청춘, 영화의, 최고봉.방황과, 우울했던, 날들의, 자화상]\n",
       "Name: words, Length: 74827, dtype: object"
      ]
     },
     "execution_count": 6,
     "metadata": {},
     "output_type": "execute_result"
    }
   ],
   "source": [
    "df_po['words'] "
   ]
  },
  {
   "cell_type": "code",
   "execution_count": null,
   "id": "d443d5bc-6e48-4b60-ad24-e2f0a58f12bf",
   "metadata": {
    "tags": []
   },
   "outputs": [],
   "source": [
    "from wordcloud import WordCloud\n",
    "import matplotlib.pyplot as plt\n",
    "\n",
    "# 띄어쓰기로 분할된 단어들을 하나의 리스트로 합치기\n",
    "all_words = [word for words in df['words'] for word in words]\n",
    "\n",
    "# 단어의 빈도수 계산\n",
    "word_freq = {}\n",
    "for word in all_words:\n",
    "    word_freq[word] = word_freq.get(word, 0) + 1\n",
    "\n",
    "# 워드 클라우드 생성\n",
    "wordcloud = WordCloud(width=800, height=400, background_color='white').generate_from_frequencies(word_freq)\n",
    "\n",
    "# 워드 클라우드를 그림으로 표시\n",
    "plt.figure(figsize=(10, 6))\n",
    "plt.imshow(wordcloud, interpolation='bilinear')\n",
    "plt.axis('off')\n",
    "plt.show()\n"
   ]
  },
  {
   "cell_type": "code",
   "execution_count": null,
   "id": "3d0eb7c7-a11c-4ea1-81c6-898832efd328",
   "metadata": {
    "tags": []
   },
   "outputs": [],
   "source": [
    "from wordcloud import WordCloud\n",
    "import matplotlib.pyplot as plt\n",
    "\n",
    "# 한글 폰트 설정\n",
    "plt.rcParams['font.family'] = 'NanumGothic'\n",
    "\n",
    "# 띄어쓰기로 분할된 단어들을 하나의 리스트로 합치기\n",
    "all_words = [word for words in df['words'] for word in words]\n",
    "\n",
    "# 단어의 빈도수 계산\n",
    "word_freq = {}\n",
    "for word in all_words:\n",
    "    word_freq[word] = word_freq.get(word, 0) + 1\n",
    "\n",
    "# 워드 클라우드 생성\n",
    "wordcloud = WordCloud(width=800, height=400, background_color='white').generate_from_frequencies(word_freq)\n",
    "\n",
    "# 워드 클라우드를 그림으로 표시\n",
    "plt.figure(figsize=(10, 6))\n",
    "plt.imshow(wordcloud, interpolation='bilinear')\n",
    "plt.axis('off')\n",
    "plt.show()\n",
    "\n"
   ]
  },
  {
   "cell_type": "code",
   "execution_count": null,
   "id": "6e968975-0a30-4de2-ac6f-46cf424ddd89",
   "metadata": {
    "tags": []
   },
   "outputs": [],
   "source": [
    "import matplotlib.font_manager as fm\n",
    "import matplotlib.pyplot as plt\n",
    "\n",
    "# 나눔폰트 다운로드\n",
    "!wget \"https://hangeul.naver.com/api/nanum/font/NanumFontSetup_TTF_ALL.zip\"\n",
    "!unzip -qq \"NanumFontSetup_TTF_ALL.zip\"\n",
    "\n",
    "# 나눔폰트 설치\n",
    "fm._rebuild()\n",
    "plt.rc('font', family='NanumGothic')\n"
   ]
  },
  {
   "cell_type": "code",
   "execution_count": null,
   "id": "985c89d7-bcbe-42a5-987e-f551801dbc70",
   "metadata": {},
   "outputs": [],
   "source": []
  }
 ],
 "metadata": {
  "kernelspec": {
   "display_name": "Python 3 (ipykernel)",
   "language": "python",
   "name": "python3"
  },
  "language_info": {
   "codemirror_mode": {
    "name": "ipython",
    "version": 3
   },
   "file_extension": ".py",
   "mimetype": "text/x-python",
   "name": "python",
   "nbconvert_exporter": "python",
   "pygments_lexer": "ipython3",
   "version": "3.11.4"
  }
 },
 "nbformat": 4,
 "nbformat_minor": 5
}
