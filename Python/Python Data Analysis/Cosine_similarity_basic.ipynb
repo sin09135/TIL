{
  "nbformat": 4,
  "nbformat_minor": 0,
  "metadata": {
    "colab": {
      "provenance": []
    },
    "kernelspec": {
      "name": "python3",
      "display_name": "Python 3"
    },
    "language_info": {
      "name": "python"
    }
  },
  "cells": [
    {
      "cell_type": "markdown",
      "source": [
        "## CountVectorize vs TF-IDF"
      ],
      "metadata": {
        "id": "r91tnyrL8kHK"
      }
    },
    {
      "cell_type": "markdown",
      "source": [
        "- 벡터화"
      ],
      "metadata": {
        "id": "gplcNMdh8qOu"
      }
    },
    {
      "cell_type": "code",
      "source": [
        "from sklearn.feature_extraction.text import CountVectorizer, TfidfVectorizer\n",
        "\n",
        "text1 = '나는 강아지를 좋아한다.'\n",
        "text2 = '나는 고양이를 좋아한다.'\n",
        "text3 = '나는 강아지를 좋아하고 고양이를 좋아한다.'\n",
        "text4 = '나는 강아지를 좋아한다 나는 강아지를 좋아한다.'\n",
        "\n",
        "sentences = [text1, text2, text3, text4]\n",
        "\n",
        "# CountVectorizer 벡터화\n",
        "count_vectorizer = CountVectorizer()\n",
        "count_vectors = count_vectorizer.fit_transform(sentences)\n",
        "\n",
        "# TF-IDF 벡터화\n",
        "tfidf_vectorizer = TfidfVectorizer()\n",
        "tfidf_vectors = tfidf_vectorizer.fit_transform(sentences)\n",
        "\n",
        "# 각각의 단어에 대한 인덱스 확인\n",
        "print(\"CountVectorizer를 사용하여 벡터화한 결과:\")\n",
        "print(count_vectors.toarray())\n",
        "print(\"CountVectorizer에서의 각 단어 인덱스:\", count_vectorizer.vocabulary_)\n",
        "print(\"\\nTF-IDF를 사용하여 벡터화한 결과:\")\n",
        "print(tfidf_vectors.toarray())\n",
        "print(\"TF-IDF에서의 각 단어 인덱스:\", tfidf_vectorizer.vocabulary_)\n"
      ],
      "metadata": {
        "colab": {
          "base_uri": "https://localhost:8080/"
        },
        "id": "FQ-glV6y75iF",
        "outputId": "34018084-ab78-4da9-d8d7-9c9fa02e5bea"
      },
      "execution_count": 11,
      "outputs": [
        {
          "output_type": "stream",
          "name": "stdout",
          "text": [
            "CountVectorizer를 사용하여 벡터화한 결과:\n",
            "[[1 0 1 0 1]\n",
            " [0 1 1 0 1]\n",
            " [1 1 1 1 1]\n",
            " [2 0 2 0 2]]\n",
            "CountVectorizer에서의 각 단어 인덱스: {'나는': 2, '강아지를': 0, '좋아한다': 4, '고양이를': 1, '좋아하고': 3}\n",
            "\n",
            "TF-IDF를 사용하여 벡터화한 결과:\n",
            "[[0.65416415 0.         0.53482206 0.         0.53482206]\n",
            " [0.         0.73006392 0.48322183 0.         0.48322183]\n",
            " [0.39787085 0.49144966 0.32528549 0.62334157 0.32528549]\n",
            " [0.65416415 0.         0.53482206 0.         0.53482206]]\n",
            "TF-IDF에서의 각 단어 인덱스: {'나는': 2, '강아지를': 0, '좋아한다': 4, '고양이를': 1, '좋아하고': 3}\n"
          ]
        }
      ]
    },
    {
      "cell_type": "code",
      "execution_count": 12,
      "metadata": {
        "colab": {
          "base_uri": "https://localhost:8080/"
        },
        "id": "EhERSjtP6mMa",
        "outputId": "beba4803-f1ad-4dd2-e88a-2cb8c9e9ada1"
      },
      "outputs": [
        {
          "output_type": "stream",
          "name": "stdout",
          "text": [
            "CountVectorizer를 사용한 코사인 유사도:\n",
            "[[1.         0.66666667 0.77459667 1.        ]\n",
            " [0.66666667 1.         0.77459667 0.66666667]\n",
            " [0.77459667 0.77459667 1.         0.77459667]\n",
            " [1.         0.66666667 0.77459667 1.        ]]\n",
            "\n",
            "TF-IDF를 사용한 코사인 유사도:\n",
            "[[1.         0.51687538 0.60821256 1.        ]\n",
            " [0.51687538 1.         0.67315976 0.51687538]\n",
            " [0.60821256 0.67315976 1.         0.60821256]\n",
            " [1.         0.51687538 0.60821256 1.        ]]\n"
          ]
        }
      ],
      "source": [
        "from sklearn.feature_extraction.text import CountVectorizer, TfidfVectorizer\n",
        "from sklearn.metrics.pairwise import cosine_similarity\n",
        "\n",
        "# CountVectorizer를 사용하여 벡터화\n",
        "count_vectorizer = CountVectorizer()\n",
        "count_vectors = count_vectorizer.fit_transform(texts)\n",
        "\n",
        "# TF-IDF 벡터화\n",
        "tfidf_vectorizer = TfidfVectorizer()\n",
        "tfidf_vectors = tfidf_vectorizer.fit_transform(texts)\n",
        "\n",
        "# 코사인 유사도 계산\n",
        "cosine_sim_count = cosine_similarity(count_vectors, count_vectors)\n",
        "cosine_sim_tfidf = cosine_similarity(tfidf_vectors, tfidf_vectors)\n",
        "\n",
        "print(\"CountVectorizer를 사용한 코사인 유사도:\")\n",
        "print(cosine_sim_count)\n",
        "print(\"\\nTF-IDF를 사용한 코사인 유사도:\")\n",
        "print(cosine_sim_tfidf)\n"
      ]
    },
    {
      "cell_type": "code",
      "source": [
        "import numpy as np\n",
        "\n",
        "# text1을 제외한 나머지 문장들\n",
        "texts_except_text1 = [text2, text3, text4]\n",
        "\n",
        "# text1과 나머지 문장들 간의 코사인 유사도 계산\n",
        "cosine_sim_text1 = cosine_similarity(tfidf_vectors[0], tfidf_vectorizer.transform(texts_except_text1)).flatten()\n",
        "\n",
        "# 가장 유사한 문장의 인덱스 찾기\n",
        "most_similar_text_index = np.argmax(cosine_sim_text1)  # 가장 높은 유사도를 가진 인덱스\n",
        "\n",
        "# 주어진 텍스트에서 가장 유사한 문장 출력\n",
        "most_similar_text_to_text1 = texts_except_text1[most_similar_text_index]\n",
        "\n",
        "print(\"text1 기준으로 가장 유사한 문장:\", most_similar_text_to_text1)\n",
        "\n",
        "# 해당 문장과 text1 간의 코사인 유사도 출력\n",
        "cosine_sim_between_texts = cosine_similarity(tfidf_vectorizer.transform([text1]), tfidf_vectorizer.transform([most_similar_text_to_text1]))\n",
        "print(\"text1과 가장 유사한 문장 간의 코사인 유사도:\", cosine_sim_between_texts)\n"
      ],
      "metadata": {
        "colab": {
          "base_uri": "https://localhost:8080/"
        },
        "id": "EBIh8ICj7Ev9",
        "outputId": "c582976d-ce1f-4036-fe5d-3875e0b75297"
      },
      "execution_count": 10,
      "outputs": [
        {
          "output_type": "stream",
          "name": "stdout",
          "text": [
            "text1 기준으로 가장 유사한 문장: 나는 강아지를 좋아한다 나는 강아지를 좋아한다.\n",
            "text1과 가장 유사한 문장 간의 코사인 유사도: [[1.]]\n"
          ]
        }
      ]
    },
    {
      "cell_type": "code",
      "source": [],
      "metadata": {
        "id": "4Aw5zCKE8fQE"
      },
      "execution_count": null,
      "outputs": []
    }
  ]
}