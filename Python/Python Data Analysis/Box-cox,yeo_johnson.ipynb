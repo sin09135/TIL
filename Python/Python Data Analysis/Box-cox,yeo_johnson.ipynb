{
 "cells": [
  {
   "cell_type": "markdown",
   "id": "e0aa2b41-14d6-42a5-9451-d0d63d499cc0",
   "metadata": {},
   "source": [
    "## 정규분포로 바꿔주는 sklearn 패키지\n",
    "- power_tranform\n",
    "- 정규분포로 변환\n",
    "---\n",
    "- 정규뷴포로 변형\n",
    "- 정규분포로 만들기 위해서는 해당 데이터의 분포의 왜도, 첨도를 보고를 보고 비대칭성을 확인\n",
    "- 로그, 지수, 루트, 연수, 제곱 기타 정규분포화 만드는 방법이 존재\n",
    "---\n",
    "- 위의 패키지로 Box-cox 변환, yeo-johnson 변환으로 바꿔 정규분포화"
   ]
  },
  {
   "cell_type": "code",
   "execution_count": 103,
   "id": "f9dba3e2-31c1-4f4c-a182-6fb0e2c813d7",
   "metadata": {
    "tags": []
   },
   "outputs": [],
   "source": [
    "import pandas as pd\n",
    "import numpy as np\n",
    "import seaborn as sns\n",
    "import matplotlib.pyplot as plt\n",
    "import warnings\n",
    "warnings.filterwarnings('ignore')"
   ]
  },
  {
   "cell_type": "code",
   "execution_count": 104,
   "id": "5f56f54f-3f53-452c-be4d-529ecffec10e",
   "metadata": {
    "tags": []
   },
   "outputs": [],
   "source": [
    "df = pd.read_csv('data/walmart_cleaned.csv')"
   ]
  },
  {
   "cell_type": "code",
   "execution_count": 105,
   "id": "48a49d26-e500-4e4f-be2a-d9784e28f45a",
   "metadata": {
    "tags": []
   },
   "outputs": [
    {
     "data": {
      "text/html": [
       "<div>\n",
       "<style scoped>\n",
       "    .dataframe tbody tr th:only-of-type {\n",
       "        vertical-align: middle;\n",
       "    }\n",
       "\n",
       "    .dataframe tbody tr th {\n",
       "        vertical-align: top;\n",
       "    }\n",
       "\n",
       "    .dataframe thead th {\n",
       "        text-align: right;\n",
       "    }\n",
       "</style>\n",
       "<table border=\"1\" class=\"dataframe\">\n",
       "  <thead>\n",
       "    <tr style=\"text-align: right;\">\n",
       "      <th></th>\n",
       "      <th>Unnamed: 0</th>\n",
       "      <th>Store</th>\n",
       "      <th>Date</th>\n",
       "      <th>IsHoliday</th>\n",
       "      <th>Dept</th>\n",
       "      <th>Weekly_Sales</th>\n",
       "      <th>Temperature</th>\n",
       "      <th>Fuel_Price</th>\n",
       "      <th>MarkDown1</th>\n",
       "      <th>MarkDown2</th>\n",
       "      <th>MarkDown3</th>\n",
       "      <th>MarkDown4</th>\n",
       "      <th>MarkDown5</th>\n",
       "      <th>CPI</th>\n",
       "      <th>Unemployment</th>\n",
       "      <th>Type</th>\n",
       "      <th>Size</th>\n",
       "    </tr>\n",
       "  </thead>\n",
       "  <tbody>\n",
       "    <tr>\n",
       "      <th>0</th>\n",
       "      <td>0</td>\n",
       "      <td>1</td>\n",
       "      <td>2010-02-05</td>\n",
       "      <td>0</td>\n",
       "      <td>1.0</td>\n",
       "      <td>24924.50</td>\n",
       "      <td>42.31</td>\n",
       "      <td>2.572</td>\n",
       "      <td>0.0</td>\n",
       "      <td>0.0</td>\n",
       "      <td>0.0</td>\n",
       "      <td>0.0</td>\n",
       "      <td>0.0</td>\n",
       "      <td>211.096358</td>\n",
       "      <td>8.106</td>\n",
       "      <td>3</td>\n",
       "      <td>151315</td>\n",
       "    </tr>\n",
       "    <tr>\n",
       "      <th>1</th>\n",
       "      <td>1</td>\n",
       "      <td>1</td>\n",
       "      <td>2010-02-05</td>\n",
       "      <td>0</td>\n",
       "      <td>26.0</td>\n",
       "      <td>11737.12</td>\n",
       "      <td>42.31</td>\n",
       "      <td>2.572</td>\n",
       "      <td>0.0</td>\n",
       "      <td>0.0</td>\n",
       "      <td>0.0</td>\n",
       "      <td>0.0</td>\n",
       "      <td>0.0</td>\n",
       "      <td>211.096358</td>\n",
       "      <td>8.106</td>\n",
       "      <td>3</td>\n",
       "      <td>151315</td>\n",
       "    </tr>\n",
       "    <tr>\n",
       "      <th>2</th>\n",
       "      <td>2</td>\n",
       "      <td>1</td>\n",
       "      <td>2010-02-05</td>\n",
       "      <td>0</td>\n",
       "      <td>17.0</td>\n",
       "      <td>13223.76</td>\n",
       "      <td>42.31</td>\n",
       "      <td>2.572</td>\n",
       "      <td>0.0</td>\n",
       "      <td>0.0</td>\n",
       "      <td>0.0</td>\n",
       "      <td>0.0</td>\n",
       "      <td>0.0</td>\n",
       "      <td>211.096358</td>\n",
       "      <td>8.106</td>\n",
       "      <td>3</td>\n",
       "      <td>151315</td>\n",
       "    </tr>\n",
       "    <tr>\n",
       "      <th>3</th>\n",
       "      <td>3</td>\n",
       "      <td>1</td>\n",
       "      <td>2010-02-05</td>\n",
       "      <td>0</td>\n",
       "      <td>45.0</td>\n",
       "      <td>37.44</td>\n",
       "      <td>42.31</td>\n",
       "      <td>2.572</td>\n",
       "      <td>0.0</td>\n",
       "      <td>0.0</td>\n",
       "      <td>0.0</td>\n",
       "      <td>0.0</td>\n",
       "      <td>0.0</td>\n",
       "      <td>211.096358</td>\n",
       "      <td>8.106</td>\n",
       "      <td>3</td>\n",
       "      <td>151315</td>\n",
       "    </tr>\n",
       "    <tr>\n",
       "      <th>4</th>\n",
       "      <td>4</td>\n",
       "      <td>1</td>\n",
       "      <td>2010-02-05</td>\n",
       "      <td>0</td>\n",
       "      <td>28.0</td>\n",
       "      <td>1085.29</td>\n",
       "      <td>42.31</td>\n",
       "      <td>2.572</td>\n",
       "      <td>0.0</td>\n",
       "      <td>0.0</td>\n",
       "      <td>0.0</td>\n",
       "      <td>0.0</td>\n",
       "      <td>0.0</td>\n",
       "      <td>211.096358</td>\n",
       "      <td>8.106</td>\n",
       "      <td>3</td>\n",
       "      <td>151315</td>\n",
       "    </tr>\n",
       "  </tbody>\n",
       "</table>\n",
       "</div>"
      ],
      "text/plain": [
       "   Unnamed: 0  Store        Date  IsHoliday  Dept  Weekly_Sales  Temperature  \\\n",
       "0           0      1  2010-02-05          0   1.0      24924.50        42.31   \n",
       "1           1      1  2010-02-05          0  26.0      11737.12        42.31   \n",
       "2           2      1  2010-02-05          0  17.0      13223.76        42.31   \n",
       "3           3      1  2010-02-05          0  45.0         37.44        42.31   \n",
       "4           4      1  2010-02-05          0  28.0       1085.29        42.31   \n",
       "\n",
       "   Fuel_Price  MarkDown1  MarkDown2  MarkDown3  MarkDown4  MarkDown5  \\\n",
       "0       2.572        0.0        0.0        0.0        0.0        0.0   \n",
       "1       2.572        0.0        0.0        0.0        0.0        0.0   \n",
       "2       2.572        0.0        0.0        0.0        0.0        0.0   \n",
       "3       2.572        0.0        0.0        0.0        0.0        0.0   \n",
       "4       2.572        0.0        0.0        0.0        0.0        0.0   \n",
       "\n",
       "          CPI  Unemployment  Type    Size  \n",
       "0  211.096358         8.106     3  151315  \n",
       "1  211.096358         8.106     3  151315  \n",
       "2  211.096358         8.106     3  151315  \n",
       "3  211.096358         8.106     3  151315  \n",
       "4  211.096358         8.106     3  151315  "
      ]
     },
     "execution_count": 105,
     "metadata": {},
     "output_type": "execute_result"
    }
   ],
   "source": [
    "df_sp = df[:15000]\n",
    "df_sp.head()"
   ]
  },
  {
   "cell_type": "markdown",
   "id": "ef2de053-05bd-4b79-8c06-c7ec52f5df56",
   "metadata": {
    "tags": []
   },
   "source": [
    "- 정규분포로 바꿔주는 패키지"
   ]
  },
  {
   "cell_type": "code",
   "execution_count": 106,
   "id": "9edcf1bd-2370-477b-b8c4-50b30eabaae4",
   "metadata": {
    "tags": []
   },
   "outputs": [],
   "source": [
    "from sklearn.preprocessing import power_transform"
   ]
  },
  {
   "cell_type": "code",
   "execution_count": 107,
   "id": "a1aebc13-44b5-40f5-a581-bd960caa7999",
   "metadata": {},
   "outputs": [
    {
     "data": {
      "text/plain": [
       "<Axes: xlabel='Weekly_Sales', ylabel='Density'>"
      ]
     },
     "execution_count": 107,
     "metadata": {},
     "output_type": "execute_result"
    },
    {
     "data": {
      "image/png": "[encoded data removed]",
      "text/plain": [
       "<Figure size 1000x700 with 1 Axes>"
      ]
     },
     "metadata": {},
     "output_type": "display_data"
    }
   ],
   "source": [
    "fig, axs = plt.subplots(figsize = (10,7))\n",
    "sns.distplot(df_sp['Weekly_Sales'], ax = axs)"
   ]
  },
  {
   "cell_type": "markdown",
   "id": "05f48dac-7858-4593-82bf-34df0887a0c7",
   "metadata": {
    "tags": []
   },
   "source": [
    "- Box-cox , yeo-johnson 변환 적용"
   ]
  },
  {
   "cell_type": "code",
   "execution_count": 108,
   "id": "cf0f7abc-7419-443f-a692-bdbd6be6f329",
   "metadata": {
    "tags": []
   },
   "outputs": [],
   "source": [
    "# 위클리 세일즈 전처리\n",
    "df_sp = df_sp[df_sp['Weekly_Sales']>0]"
   ]
  },
  {
   "cell_type": "code",
   "execution_count": 109,
   "id": "bfd430d0-d58f-4502-b37c-df23456dc62e",
   "metadata": {},
   "outputs": [],
   "source": [
    "#여존슨변환\n",
    "df_sp[['yeo-johnson']] = power_transform(df_sp[['Weekly_Sales']], standardize = False)\n",
    "\n",
    "#Box-cox 변환\n",
    "df_sp[['box-cox']] = power_transform(df_sp[['Weekly_Sales']], method = 'box-cox', standardize = False)"
   ]
  },
  {
   "cell_type": "markdown",
   "id": "bc17297a-1da5-4034-9777-2c26d9f71b4c",
   "metadata": {},
   "source": [
    "### 데이터의 분포 확인"
   ]
  },
  {
   "cell_type": "code",
   "execution_count": 110,
   "id": "e184a8a3-b55e-41a6-b062-03fa88a1fedf",
   "metadata": {},
   "outputs": [
    {
     "data": {
      "text/plain": [
       "<Axes: xlabel='box-cox', ylabel='Density'>"
      ]
     },
     "execution_count": 110,
     "metadata": {},
     "output_type": "execute_result"
    },
    {
     "data": {
      "image/png": "[encoded data removed]",
      "text/plain": [
       "<Figure size 1000x700 with 3 Axes>"
      ]
     },
     "metadata": {},
     "output_type": "display_data"
    }
   ],
   "source": [
    "fig, axs = plt.subplots(ncols = 3, figsize = (10,7))\n",
    "sns.distplot(df_sp['Weekly_Sales'], ax = axs[0])\n",
    "sns.distplot(df_sp['yeo-johnson'], ax = axs[1])\n",
    "sns.distplot(df_sp['box-cox'], ax = axs[2])"
   ]
  },
  {
   "cell_type": "markdown",
   "id": "42d09b8d-3a1b-49f7-8dae-90026d31811e",
   "metadata": {},
   "source": [
    "## bike_sharing_daily로 전처리 적용해보기"
   ]
  },
  {
   "cell_type": "code",
   "execution_count": 111,
   "id": "905daeea-6a81-436d-ac6d-130e308cfe36",
   "metadata": {
    "tags": []
   },
   "outputs": [],
   "source": [
    "df = pd.read_csv('data/bike_sharing_daily.csv')"
   ]
  },
  {
   "cell_type": "code",
   "execution_count": 112,
   "id": "329c8db7-0686-4653-ac7c-dbf787d527a1",
   "metadata": {
    "tags": []
   },
   "outputs": [
    {
     "data": {
      "text/html": [
       "<div>\n",
       "<style scoped>\n",
       "    .dataframe tbody tr th:only-of-type {\n",
       "        vertical-align: middle;\n",
       "    }\n",
       "\n",
       "    .dataframe tbody tr th {\n",
       "        vertical-align: top;\n",
       "    }\n",
       "\n",
       "    .dataframe thead th {\n",
       "        text-align: right;\n",
       "    }\n",
       "</style>\n",
       "<table border=\"1\" class=\"dataframe\">\n",
       "  <thead>\n",
       "    <tr style=\"text-align: right;\">\n",
       "      <th></th>\n",
       "      <th>instant</th>\n",
       "      <th>dteday</th>\n",
       "      <th>season</th>\n",
       "      <th>yr</th>\n",
       "      <th>mnth</th>\n",
       "      <th>holiday</th>\n",
       "      <th>weekday</th>\n",
       "      <th>workingday</th>\n",
       "      <th>weathersit</th>\n",
       "      <th>temp</th>\n",
       "      <th>atemp</th>\n",
       "      <th>hum</th>\n",
       "      <th>windspeed</th>\n",
       "      <th>casual</th>\n",
       "      <th>registered</th>\n",
       "      <th>cnt</th>\n",
       "    </tr>\n",
       "  </thead>\n",
       "  <tbody>\n",
       "    <tr>\n",
       "      <th>0</th>\n",
       "      <td>1</td>\n",
       "      <td>2011-01-01</td>\n",
       "      <td>1</td>\n",
       "      <td>0</td>\n",
       "      <td>1</td>\n",
       "      <td>0</td>\n",
       "      <td>6</td>\n",
       "      <td>0</td>\n",
       "      <td>2</td>\n",
       "      <td>0.344167</td>\n",
       "      <td>0.363625</td>\n",
       "      <td>0.805833</td>\n",
       "      <td>0.160446</td>\n",
       "      <td>331.0</td>\n",
       "      <td>654.0</td>\n",
       "      <td>985</td>\n",
       "    </tr>\n",
       "    <tr>\n",
       "      <th>1</th>\n",
       "      <td>2</td>\n",
       "      <td>2011-01-02</td>\n",
       "      <td>1</td>\n",
       "      <td>0</td>\n",
       "      <td>1</td>\n",
       "      <td>0</td>\n",
       "      <td>0</td>\n",
       "      <td>0</td>\n",
       "      <td>2</td>\n",
       "      <td>0.363478</td>\n",
       "      <td>0.353739</td>\n",
       "      <td>0.696087</td>\n",
       "      <td>0.248539</td>\n",
       "      <td>131.0</td>\n",
       "      <td>670.0</td>\n",
       "      <td>801</td>\n",
       "    </tr>\n",
       "    <tr>\n",
       "      <th>2</th>\n",
       "      <td>3</td>\n",
       "      <td>2011-01-03</td>\n",
       "      <td>1</td>\n",
       "      <td>0</td>\n",
       "      <td>1</td>\n",
       "      <td>0</td>\n",
       "      <td>1</td>\n",
       "      <td>1</td>\n",
       "      <td>1</td>\n",
       "      <td>0.196364</td>\n",
       "      <td>NaN</td>\n",
       "      <td>0.437273</td>\n",
       "      <td>0.248309</td>\n",
       "      <td>120.0</td>\n",
       "      <td>1229.0</td>\n",
       "      <td>1349</td>\n",
       "    </tr>\n",
       "    <tr>\n",
       "      <th>3</th>\n",
       "      <td>4</td>\n",
       "      <td>2011-01-04</td>\n",
       "      <td>1</td>\n",
       "      <td>0</td>\n",
       "      <td>1</td>\n",
       "      <td>0</td>\n",
       "      <td>2</td>\n",
       "      <td>1</td>\n",
       "      <td>1</td>\n",
       "      <td>0.200000</td>\n",
       "      <td>0.212122</td>\n",
       "      <td>0.590435</td>\n",
       "      <td>0.160296</td>\n",
       "      <td>108.0</td>\n",
       "      <td>1454.0</td>\n",
       "      <td>1562</td>\n",
       "    </tr>\n",
       "    <tr>\n",
       "      <th>4</th>\n",
       "      <td>5</td>\n",
       "      <td>2011-01-05</td>\n",
       "      <td>1</td>\n",
       "      <td>0</td>\n",
       "      <td>1</td>\n",
       "      <td>0</td>\n",
       "      <td>3</td>\n",
       "      <td>1</td>\n",
       "      <td>1</td>\n",
       "      <td>0.226957</td>\n",
       "      <td>0.229270</td>\n",
       "      <td>0.436957</td>\n",
       "      <td>0.186900</td>\n",
       "      <td>82.0</td>\n",
       "      <td>1518.0</td>\n",
       "      <td>1600</td>\n",
       "    </tr>\n",
       "  </tbody>\n",
       "</table>\n",
       "</div>"
      ],
      "text/plain": [
       "   instant      dteday  season  yr  mnth  holiday  weekday  workingday  \\\n",
       "0        1  2011-01-01       1   0     1        0        6           0   \n",
       "1        2  2011-01-02       1   0     1        0        0           0   \n",
       "2        3  2011-01-03       1   0     1        0        1           1   \n",
       "3        4  2011-01-04       1   0     1        0        2           1   \n",
       "4        5  2011-01-05       1   0     1        0        3           1   \n",
       "\n",
       "   weathersit      temp     atemp       hum  windspeed  casual  registered  \\\n",
       "0           2  0.344167  0.363625  0.805833   0.160446   331.0       654.0   \n",
       "1           2  0.363478  0.353739  0.696087   0.248539   131.0       670.0   \n",
       "2           1  0.196364       NaN  0.437273   0.248309   120.0      1229.0   \n",
       "3           1  0.200000  0.212122  0.590435   0.160296   108.0      1454.0   \n",
       "4           1  0.226957  0.229270  0.436957   0.186900    82.0      1518.0   \n",
       "\n",
       "    cnt  \n",
       "0   985  \n",
       "1   801  \n",
       "2  1349  \n",
       "3  1562  \n",
       "4  1600  "
      ]
     },
     "execution_count": 112,
     "metadata": {},
     "output_type": "execute_result"
    }
   ],
   "source": [
    "df.head()"
   ]
  },
  {
   "cell_type": "code",
   "execution_count": 113,
   "id": "4b308292-241b-43b1-8a3f-8086cb4ec5cb",
   "metadata": {
    "tags": []
   },
   "outputs": [],
   "source": [
    "df_bs = df[['casual','cnt']].dropna()"
   ]
  },
  {
   "cell_type": "code",
   "execution_count": 114,
   "id": "34db48e4-cc6d-4be5-a2e7-5f8060dac391",
   "metadata": {
    "tags": []
   },
   "outputs": [],
   "source": [
    "df_bs_sp=df_bs[['casual','cnt']].dropna()"
   ]
  },
  {
   "cell_type": "code",
   "execution_count": 115,
   "id": "65967809-a711-4bfa-b25d-8ca8f48c57b9",
   "metadata": {
    "tags": []
   },
   "outputs": [
    {
     "data": {
      "text/html": [
       "<div>\n",
       "<style scoped>\n",
       "    .dataframe tbody tr th:only-of-type {\n",
       "        vertical-align: middle;\n",
       "    }\n",
       "\n",
       "    .dataframe tbody tr th {\n",
       "        vertical-align: top;\n",
       "    }\n",
       "\n",
       "    .dataframe thead th {\n",
       "        text-align: right;\n",
       "    }\n",
       "</style>\n",
       "<table border=\"1\" class=\"dataframe\">\n",
       "  <thead>\n",
       "    <tr style=\"text-align: right;\">\n",
       "      <th></th>\n",
       "      <th>instant</th>\n",
       "      <th>dteday</th>\n",
       "      <th>season</th>\n",
       "      <th>yr</th>\n",
       "      <th>mnth</th>\n",
       "      <th>holiday</th>\n",
       "      <th>weekday</th>\n",
       "      <th>workingday</th>\n",
       "      <th>weathersit</th>\n",
       "      <th>temp</th>\n",
       "      <th>atemp</th>\n",
       "      <th>hum</th>\n",
       "      <th>windspeed</th>\n",
       "      <th>casual</th>\n",
       "      <th>registered</th>\n",
       "      <th>cnt</th>\n",
       "    </tr>\n",
       "  </thead>\n",
       "  <tbody>\n",
       "    <tr>\n",
       "      <th>0</th>\n",
       "      <td>1</td>\n",
       "      <td>2011-01-01</td>\n",
       "      <td>1</td>\n",
       "      <td>0</td>\n",
       "      <td>1</td>\n",
       "      <td>0</td>\n",
       "      <td>6</td>\n",
       "      <td>0</td>\n",
       "      <td>2</td>\n",
       "      <td>0.344167</td>\n",
       "      <td>0.363625</td>\n",
       "      <td>0.805833</td>\n",
       "      <td>0.160446</td>\n",
       "      <td>331.0</td>\n",
       "      <td>654.0</td>\n",
       "      <td>985</td>\n",
       "    </tr>\n",
       "    <tr>\n",
       "      <th>1</th>\n",
       "      <td>2</td>\n",
       "      <td>2011-01-02</td>\n",
       "      <td>1</td>\n",
       "      <td>0</td>\n",
       "      <td>1</td>\n",
       "      <td>0</td>\n",
       "      <td>0</td>\n",
       "      <td>0</td>\n",
       "      <td>2</td>\n",
       "      <td>0.363478</td>\n",
       "      <td>0.353739</td>\n",
       "      <td>0.696087</td>\n",
       "      <td>0.248539</td>\n",
       "      <td>131.0</td>\n",
       "      <td>670.0</td>\n",
       "      <td>801</td>\n",
       "    </tr>\n",
       "    <tr>\n",
       "      <th>2</th>\n",
       "      <td>3</td>\n",
       "      <td>2011-01-03</td>\n",
       "      <td>1</td>\n",
       "      <td>0</td>\n",
       "      <td>1</td>\n",
       "      <td>0</td>\n",
       "      <td>1</td>\n",
       "      <td>1</td>\n",
       "      <td>1</td>\n",
       "      <td>0.196364</td>\n",
       "      <td>NaN</td>\n",
       "      <td>0.437273</td>\n",
       "      <td>0.248309</td>\n",
       "      <td>120.0</td>\n",
       "      <td>1229.0</td>\n",
       "      <td>1349</td>\n",
       "    </tr>\n",
       "    <tr>\n",
       "      <th>3</th>\n",
       "      <td>4</td>\n",
       "      <td>2011-01-04</td>\n",
       "      <td>1</td>\n",
       "      <td>0</td>\n",
       "      <td>1</td>\n",
       "      <td>0</td>\n",
       "      <td>2</td>\n",
       "      <td>1</td>\n",
       "      <td>1</td>\n",
       "      <td>0.200000</td>\n",
       "      <td>0.212122</td>\n",
       "      <td>0.590435</td>\n",
       "      <td>0.160296</td>\n",
       "      <td>108.0</td>\n",
       "      <td>1454.0</td>\n",
       "      <td>1562</td>\n",
       "    </tr>\n",
       "    <tr>\n",
       "      <th>4</th>\n",
       "      <td>5</td>\n",
       "      <td>2011-01-05</td>\n",
       "      <td>1</td>\n",
       "      <td>0</td>\n",
       "      <td>1</td>\n",
       "      <td>0</td>\n",
       "      <td>3</td>\n",
       "      <td>1</td>\n",
       "      <td>1</td>\n",
       "      <td>0.226957</td>\n",
       "      <td>0.229270</td>\n",
       "      <td>0.436957</td>\n",
       "      <td>0.186900</td>\n",
       "      <td>82.0</td>\n",
       "      <td>1518.0</td>\n",
       "      <td>1600</td>\n",
       "    </tr>\n",
       "    <tr>\n",
       "      <th>...</th>\n",
       "      <td>...</td>\n",
       "      <td>...</td>\n",
       "      <td>...</td>\n",
       "      <td>...</td>\n",
       "      <td>...</td>\n",
       "      <td>...</td>\n",
       "      <td>...</td>\n",
       "      <td>...</td>\n",
       "      <td>...</td>\n",
       "      <td>...</td>\n",
       "      <td>...</td>\n",
       "      <td>...</td>\n",
       "      <td>...</td>\n",
       "      <td>...</td>\n",
       "      <td>...</td>\n",
       "      <td>...</td>\n",
       "    </tr>\n",
       "    <tr>\n",
       "      <th>726</th>\n",
       "      <td>727</td>\n",
       "      <td>2012-12-27</td>\n",
       "      <td>1</td>\n",
       "      <td>1</td>\n",
       "      <td>12</td>\n",
       "      <td>0</td>\n",
       "      <td>4</td>\n",
       "      <td>1</td>\n",
       "      <td>2</td>\n",
       "      <td>0.254167</td>\n",
       "      <td>0.226642</td>\n",
       "      <td>0.652917</td>\n",
       "      <td>0.350133</td>\n",
       "      <td>247.0</td>\n",
       "      <td>1867.0</td>\n",
       "      <td>2114</td>\n",
       "    </tr>\n",
       "    <tr>\n",
       "      <th>727</th>\n",
       "      <td>728</td>\n",
       "      <td>2012-12-28</td>\n",
       "      <td>1</td>\n",
       "      <td>1</td>\n",
       "      <td>12</td>\n",
       "      <td>0</td>\n",
       "      <td>5</td>\n",
       "      <td>1</td>\n",
       "      <td>2</td>\n",
       "      <td>0.253333</td>\n",
       "      <td>NaN</td>\n",
       "      <td>0.590000</td>\n",
       "      <td>0.155471</td>\n",
       "      <td>644.0</td>\n",
       "      <td>2451.0</td>\n",
       "      <td>3095</td>\n",
       "    </tr>\n",
       "    <tr>\n",
       "      <th>728</th>\n",
       "      <td>729</td>\n",
       "      <td>2012-12-29</td>\n",
       "      <td>1</td>\n",
       "      <td>1</td>\n",
       "      <td>12</td>\n",
       "      <td>0</td>\n",
       "      <td>6</td>\n",
       "      <td>0</td>\n",
       "      <td>2</td>\n",
       "      <td>0.253333</td>\n",
       "      <td>0.242400</td>\n",
       "      <td>0.752917</td>\n",
       "      <td>0.124383</td>\n",
       "      <td>159.0</td>\n",
       "      <td>1182.0</td>\n",
       "      <td>1341</td>\n",
       "    </tr>\n",
       "    <tr>\n",
       "      <th>729</th>\n",
       "      <td>730</td>\n",
       "      <td>2012-12-30</td>\n",
       "      <td>1</td>\n",
       "      <td>1</td>\n",
       "      <td>12</td>\n",
       "      <td>0</td>\n",
       "      <td>0</td>\n",
       "      <td>0</td>\n",
       "      <td>1</td>\n",
       "      <td>NaN</td>\n",
       "      <td>0.231700</td>\n",
       "      <td>0.483333</td>\n",
       "      <td>0.350754</td>\n",
       "      <td>364.0</td>\n",
       "      <td>1432.0</td>\n",
       "      <td>1796</td>\n",
       "    </tr>\n",
       "    <tr>\n",
       "      <th>730</th>\n",
       "      <td>731</td>\n",
       "      <td>2012-12-31</td>\n",
       "      <td>1</td>\n",
       "      <td>1</td>\n",
       "      <td>12</td>\n",
       "      <td>0</td>\n",
       "      <td>1</td>\n",
       "      <td>1</td>\n",
       "      <td>2</td>\n",
       "      <td>0.215833</td>\n",
       "      <td>0.223487</td>\n",
       "      <td>0.577500</td>\n",
       "      <td>0.154846</td>\n",
       "      <td>439.0</td>\n",
       "      <td>2290.0</td>\n",
       "      <td>2729</td>\n",
       "    </tr>\n",
       "  </tbody>\n",
       "</table>\n",
       "<p>731 rows × 16 columns</p>\n",
       "</div>"
      ],
      "text/plain": [
       "     instant      dteday  season  yr  mnth  holiday  weekday  workingday  \\\n",
       "0          1  2011-01-01       1   0     1        0        6           0   \n",
       "1          2  2011-01-02       1   0     1        0        0           0   \n",
       "2          3  2011-01-03       1   0     1        0        1           1   \n",
       "3          4  2011-01-04       1   0     1        0        2           1   \n",
       "4          5  2011-01-05       1   0     1        0        3           1   \n",
       "..       ...         ...     ...  ..   ...      ...      ...         ...   \n",
       "726      727  2012-12-27       1   1    12        0        4           1   \n",
       "727      728  2012-12-28       1   1    12        0        5           1   \n",
       "728      729  2012-12-29       1   1    12        0        6           0   \n",
       "729      730  2012-12-30       1   1    12        0        0           0   \n",
       "730      731  2012-12-31       1   1    12        0        1           1   \n",
       "\n",
       "     weathersit      temp     atemp       hum  windspeed  casual  registered  \\\n",
       "0             2  0.344167  0.363625  0.805833   0.160446   331.0       654.0   \n",
       "1             2  0.363478  0.353739  0.696087   0.248539   131.0       670.0   \n",
       "2             1  0.196364       NaN  0.437273   0.248309   120.0      1229.0   \n",
       "3             1  0.200000  0.212122  0.590435   0.160296   108.0      1454.0   \n",
       "4             1  0.226957  0.229270  0.436957   0.186900    82.0      1518.0   \n",
       "..          ...       ...       ...       ...        ...     ...         ...   \n",
       "726           2  0.254167  0.226642  0.652917   0.350133   247.0      1867.0   \n",
       "727           2  0.253333       NaN  0.590000   0.155471   644.0      2451.0   \n",
       "728           2  0.253333  0.242400  0.752917   0.124383   159.0      1182.0   \n",
       "729           1       NaN  0.231700  0.483333   0.350754   364.0      1432.0   \n",
       "730           2  0.215833  0.223487  0.577500   0.154846   439.0      2290.0   \n",
       "\n",
       "      cnt  \n",
       "0     985  \n",
       "1     801  \n",
       "2    1349  \n",
       "3    1562  \n",
       "4    1600  \n",
       "..    ...  \n",
       "726  2114  \n",
       "727  3095  \n",
       "728  1341  \n",
       "729  1796  \n",
       "730  2729  \n",
       "\n",
       "[731 rows x 16 columns]"
      ]
     },
     "execution_count": 115,
     "metadata": {},
     "output_type": "execute_result"
    }
   ],
   "source": [
    "df"
   ]
  },
  {
   "cell_type": "code",
   "execution_count": 116,
   "id": "ec10c1c7-da40-4eaa-b2cd-001c87a13b7f",
   "metadata": {
    "tags": []
   },
   "outputs": [
    {
     "data": {
      "text/plain": [
       "<Axes: xlabel='casual', ylabel='Density'>"
      ]
     },
     "execution_count": 116,
     "metadata": {},
     "output_type": "execute_result"
    },
    {
     "data": {
      "image/png": "[encoded data removed]",
      "text/plain": [
       "<Figure size 1000x700 with 4 Axes>"
      ]
     },
     "metadata": {},
     "output_type": "display_data"
    }
   ],
   "source": [
    "fig, axs = plt.subplots(ncols = 4, figsize = (10,7))\n",
    "sns.distplot(df['casual'], ax = axs[0])\n",
    "# sns.distplot(df_bs['atemp'], ax = axs[1])\n",
    "# sns.distplot(df_bs['hum'], ax = axs[2])\n",
    "# sns.distplot(df_bs['casual'], ax = axs[3])"
   ]
  },
  {
   "cell_type": "markdown",
   "id": "1c562aca-b381-4d85-ad03-f98994fc800d",
   "metadata": {
    "tags": []
   },
   "source": [
    "- casual 변수가 정규분포인가? > qqplot 그려보고 shapiro 검정 진행해보기"
   ]
  },
  {
   "cell_type": "code",
   "execution_count": 117,
   "id": "b152cd06-eeed-41a8-ba54-f3ece7a25d38",
   "metadata": {},
   "outputs": [
    {
     "data": {
      "image/png": "[encoded data removed]",
      "text/plain": [
       "<Figure size 1000x500 with 1 Axes>"
      ]
     },
     "metadata": {},
     "output_type": "display_data"
    }
   ],
   "source": [
    "import scipy.stats as stats\n",
    "\n",
    "plt.figure(figsize = (10,5))\n",
    "stats.probplot(df_bs['casual'], dist = stats.norm, plot = plt)\n",
    "plt.show() # 생각보다 정규분포로 보이지 않음"
   ]
  },
  {
   "cell_type": "code",
   "execution_count": 118,
   "id": "504ebc60-cdc7-4f9c-811c-f21b4bc8103e",
   "metadata": {
    "tags": []
   },
   "outputs": [
    {
     "name": "stdout",
     "output_type": "stream",
     "text": [
      "reject H0\n"
     ]
    }
   ],
   "source": [
    "# shapiro 검정\n",
    "from scipy.stats import shapiro\n",
    "import numpy as np\n",
    "\n",
    "stat, p = shapiro(df_bs['casual'])\n",
    "\n",
    "alpha = 0.05\n",
    "if p > alpha:\n",
    "    print('Fail to reject H0')\n",
    "else:\n",
    "    print('reject H0')"
   ]
  },
  {
   "cell_type": "markdown",
   "id": "1f223d12-76b1-4a1f-844e-9cb5c8b3dc3e",
   "metadata": {},
   "source": [
    "- 정규분포로 변환"
   ]
  },
  {
   "cell_type": "code",
   "execution_count": 119,
   "id": "23be9fc9-38fa-4473-8e26-a5696604e3dc",
   "metadata": {
    "tags": []
   },
   "outputs": [],
   "source": [
    "#여존슨변환\n",
    "df_bs_sp[['yeo-johnson']] = power_transform(df_bs_sp[['casual']], standardize = False)\n",
    "\n",
    "#Box-cox 변환\n",
    "df_bs_sp[['box-cox']] = power_transform(df_bs_sp[['casual']], method = 'box-cox', standardize = False)"
   ]
  },
  {
   "cell_type": "code",
   "execution_count": 120,
   "id": "b39217d3-73cf-46cb-98be-d0e4792ef587",
   "metadata": {
    "tags": []
   },
   "outputs": [
    {
     "data": {
      "text/plain": [
       "<Axes: xlabel='yeo-johnson', ylabel='Density'>"
      ]
     },
     "execution_count": 120,
     "metadata": {},
     "output_type": "execute_result"
    },
    {
     "data": {
      "image/png": "[encoded data removed]",
      "text/plain": [
       "<Figure size 2000x700 with 2 Axes>"
      ]
     },
     "metadata": {},
     "output_type": "display_data"
    }
   ],
   "source": [
    "fig, axs = plt.subplots(ncols = 2, figsize = (20,7))\n",
    "sns.distplot(df_bs_sp['casual'], ax = axs[0])\n",
    "sns.distplot(df_bs_sp['yeo-johnson'], ax = axs[1])"
   ]
  },
  {
   "cell_type": "code",
   "execution_count": 121,
   "id": "3f19eadb-cb7f-4849-a9a1-ae19838ff34b",
   "metadata": {
    "tags": []
   },
   "outputs": [
    {
     "data": {
      "image/png": "[encoded data removed]",
      "text/plain": [
       "<Figure size 1000x500 with 1 Axes>"
      ]
     },
     "metadata": {},
     "output_type": "display_data"
    }
   ],
   "source": [
    "import scipy.stats as stats\n",
    "\n",
    "plt.figure(figsize=(10,5))\n",
    "stats.probplot(df_bs_sp['yeo-johnson'],dist = stats.norm, plot=plt)\n",
    "plt.show()"
   ]
  },
  {
   "cell_type": "code",
   "execution_count": 122,
   "id": "17fef901-8c9d-4436-9c3f-0b170df6452c",
   "metadata": {
    "tags": []
   },
   "outputs": [
    {
     "name": "stdout",
     "output_type": "stream",
     "text": [
      "reject H0\n"
     ]
    }
   ],
   "source": [
    "# Shapiro 검정\n",
    "\n",
    "from scipy.stats import shapiro\n",
    "import numpy as np\n",
    "\n",
    "stat, p =shapiro(df_bs_sp['yeo-johnson'])\n",
    "\n",
    "alpha = 0.05\n",
    "if p>alpha:\n",
    "    print('Fail to reject H0')\n",
    "else:\n",
    "    print('reject H0')"
   ]
  },
  {
   "cell_type": "markdown",
   "id": "dc4ed57e-070d-4eb1-af17-73d2b0806a0e",
   "metadata": {},
   "source": [
    "- 간단한 선형회귀를 통해서 실제 정규분포로 변환했을 때 rmse값 자체의 변화나 R2 변화가 있는지\n",
    "- 잔차에 대한 변화와 결정계수에 대한 변화"
   ]
  },
  {
   "cell_type": "markdown",
   "id": "5ca65b01-4816-49b4-8013-5a2007853afc",
   "metadata": {
    "tags": []
   },
   "source": [
    "### 정규분포로 변환한 경우/아닌 경우, 회귀분석을 통한 확인"
   ]
  },
  {
   "cell_type": "code",
   "execution_count": 123,
   "id": "8499f52f-a216-4fa0-b429-1f5a0813af3a",
   "metadata": {
    "tags": []
   },
   "outputs": [],
   "source": [
    "from sklearn.model_selection import train_test_split\n",
    "from sklearn.linear_model import LinearRegression\n",
    "import numpy as np\n",
    "\n",
    "import statsmodels.api as sm\n",
    "from sklearn.metrics import mean_squared_error\n",
    "from math import sqrt"
   ]
  },
  {
   "cell_type": "code",
   "execution_count": 124,
   "id": "0259f944-4a7c-4f95-be88-9eb6c6c8c5d7",
   "metadata": {
    "tags": []
   },
   "outputs": [
    {
     "data": {
      "text/html": [
       "<div>\n",
       "<style scoped>\n",
       "    .dataframe tbody tr th:only-of-type {\n",
       "        vertical-align: middle;\n",
       "    }\n",
       "\n",
       "    .dataframe tbody tr th {\n",
       "        vertical-align: top;\n",
       "    }\n",
       "\n",
       "    .dataframe thead th {\n",
       "        text-align: right;\n",
       "    }\n",
       "</style>\n",
       "<table border=\"1\" class=\"dataframe\">\n",
       "  <thead>\n",
       "    <tr style=\"text-align: right;\">\n",
       "      <th></th>\n",
       "      <th>instant</th>\n",
       "      <th>dteday</th>\n",
       "      <th>season</th>\n",
       "      <th>yr</th>\n",
       "      <th>mnth</th>\n",
       "      <th>holiday</th>\n",
       "      <th>weekday</th>\n",
       "      <th>workingday</th>\n",
       "      <th>weathersit</th>\n",
       "      <th>temp</th>\n",
       "      <th>atemp</th>\n",
       "      <th>hum</th>\n",
       "      <th>windspeed</th>\n",
       "      <th>casual</th>\n",
       "      <th>registered</th>\n",
       "      <th>cnt</th>\n",
       "    </tr>\n",
       "  </thead>\n",
       "  <tbody>\n",
       "    <tr>\n",
       "      <th>0</th>\n",
       "      <td>1</td>\n",
       "      <td>2011-01-01</td>\n",
       "      <td>1</td>\n",
       "      <td>0</td>\n",
       "      <td>1</td>\n",
       "      <td>0</td>\n",
       "      <td>6</td>\n",
       "      <td>0</td>\n",
       "      <td>2</td>\n",
       "      <td>0.344167</td>\n",
       "      <td>0.363625</td>\n",
       "      <td>0.805833</td>\n",
       "      <td>0.160446</td>\n",
       "      <td>331.0</td>\n",
       "      <td>654.0</td>\n",
       "      <td>985</td>\n",
       "    </tr>\n",
       "    <tr>\n",
       "      <th>1</th>\n",
       "      <td>2</td>\n",
       "      <td>2011-01-02</td>\n",
       "      <td>1</td>\n",
       "      <td>0</td>\n",
       "      <td>1</td>\n",
       "      <td>0</td>\n",
       "      <td>0</td>\n",
       "      <td>0</td>\n",
       "      <td>2</td>\n",
       "      <td>0.363478</td>\n",
       "      <td>0.353739</td>\n",
       "      <td>0.696087</td>\n",
       "      <td>0.248539</td>\n",
       "      <td>131.0</td>\n",
       "      <td>670.0</td>\n",
       "      <td>801</td>\n",
       "    </tr>\n",
       "    <tr>\n",
       "      <th>2</th>\n",
       "      <td>3</td>\n",
       "      <td>2011-01-03</td>\n",
       "      <td>1</td>\n",
       "      <td>0</td>\n",
       "      <td>1</td>\n",
       "      <td>0</td>\n",
       "      <td>1</td>\n",
       "      <td>1</td>\n",
       "      <td>1</td>\n",
       "      <td>0.196364</td>\n",
       "      <td>NaN</td>\n",
       "      <td>0.437273</td>\n",
       "      <td>0.248309</td>\n",
       "      <td>120.0</td>\n",
       "      <td>1229.0</td>\n",
       "      <td>1349</td>\n",
       "    </tr>\n",
       "    <tr>\n",
       "      <th>3</th>\n",
       "      <td>4</td>\n",
       "      <td>2011-01-04</td>\n",
       "      <td>1</td>\n",
       "      <td>0</td>\n",
       "      <td>1</td>\n",
       "      <td>0</td>\n",
       "      <td>2</td>\n",
       "      <td>1</td>\n",
       "      <td>1</td>\n",
       "      <td>0.200000</td>\n",
       "      <td>0.212122</td>\n",
       "      <td>0.590435</td>\n",
       "      <td>0.160296</td>\n",
       "      <td>108.0</td>\n",
       "      <td>1454.0</td>\n",
       "      <td>1562</td>\n",
       "    </tr>\n",
       "    <tr>\n",
       "      <th>4</th>\n",
       "      <td>5</td>\n",
       "      <td>2011-01-05</td>\n",
       "      <td>1</td>\n",
       "      <td>0</td>\n",
       "      <td>1</td>\n",
       "      <td>0</td>\n",
       "      <td>3</td>\n",
       "      <td>1</td>\n",
       "      <td>1</td>\n",
       "      <td>0.226957</td>\n",
       "      <td>0.229270</td>\n",
       "      <td>0.436957</td>\n",
       "      <td>0.186900</td>\n",
       "      <td>82.0</td>\n",
       "      <td>1518.0</td>\n",
       "      <td>1600</td>\n",
       "    </tr>\n",
       "    <tr>\n",
       "      <th>...</th>\n",
       "      <td>...</td>\n",
       "      <td>...</td>\n",
       "      <td>...</td>\n",
       "      <td>...</td>\n",
       "      <td>...</td>\n",
       "      <td>...</td>\n",
       "      <td>...</td>\n",
       "      <td>...</td>\n",
       "      <td>...</td>\n",
       "      <td>...</td>\n",
       "      <td>...</td>\n",
       "      <td>...</td>\n",
       "      <td>...</td>\n",
       "      <td>...</td>\n",
       "      <td>...</td>\n",
       "      <td>...</td>\n",
       "    </tr>\n",
       "    <tr>\n",
       "      <th>726</th>\n",
       "      <td>727</td>\n",
       "      <td>2012-12-27</td>\n",
       "      <td>1</td>\n",
       "      <td>1</td>\n",
       "      <td>12</td>\n",
       "      <td>0</td>\n",
       "      <td>4</td>\n",
       "      <td>1</td>\n",
       "      <td>2</td>\n",
       "      <td>0.254167</td>\n",
       "      <td>0.226642</td>\n",
       "      <td>0.652917</td>\n",
       "      <td>0.350133</td>\n",
       "      <td>247.0</td>\n",
       "      <td>1867.0</td>\n",
       "      <td>2114</td>\n",
       "    </tr>\n",
       "    <tr>\n",
       "      <th>727</th>\n",
       "      <td>728</td>\n",
       "      <td>2012-12-28</td>\n",
       "      <td>1</td>\n",
       "      <td>1</td>\n",
       "      <td>12</td>\n",
       "      <td>0</td>\n",
       "      <td>5</td>\n",
       "      <td>1</td>\n",
       "      <td>2</td>\n",
       "      <td>0.253333</td>\n",
       "      <td>NaN</td>\n",
       "      <td>0.590000</td>\n",
       "      <td>0.155471</td>\n",
       "      <td>644.0</td>\n",
       "      <td>2451.0</td>\n",
       "      <td>3095</td>\n",
       "    </tr>\n",
       "    <tr>\n",
       "      <th>728</th>\n",
       "      <td>729</td>\n",
       "      <td>2012-12-29</td>\n",
       "      <td>1</td>\n",
       "      <td>1</td>\n",
       "      <td>12</td>\n",
       "      <td>0</td>\n",
       "      <td>6</td>\n",
       "      <td>0</td>\n",
       "      <td>2</td>\n",
       "      <td>0.253333</td>\n",
       "      <td>0.242400</td>\n",
       "      <td>0.752917</td>\n",
       "      <td>0.124383</td>\n",
       "      <td>159.0</td>\n",
       "      <td>1182.0</td>\n",
       "      <td>1341</td>\n",
       "    </tr>\n",
       "    <tr>\n",
       "      <th>729</th>\n",
       "      <td>730</td>\n",
       "      <td>2012-12-30</td>\n",
       "      <td>1</td>\n",
       "      <td>1</td>\n",
       "      <td>12</td>\n",
       "      <td>0</td>\n",
       "      <td>0</td>\n",
       "      <td>0</td>\n",
       "      <td>1</td>\n",
       "      <td>NaN</td>\n",
       "      <td>0.231700</td>\n",
       "      <td>0.483333</td>\n",
       "      <td>0.350754</td>\n",
       "      <td>364.0</td>\n",
       "      <td>1432.0</td>\n",
       "      <td>1796</td>\n",
       "    </tr>\n",
       "    <tr>\n",
       "      <th>730</th>\n",
       "      <td>731</td>\n",
       "      <td>2012-12-31</td>\n",
       "      <td>1</td>\n",
       "      <td>1</td>\n",
       "      <td>12</td>\n",
       "      <td>0</td>\n",
       "      <td>1</td>\n",
       "      <td>1</td>\n",
       "      <td>2</td>\n",
       "      <td>0.215833</td>\n",
       "      <td>0.223487</td>\n",
       "      <td>0.577500</td>\n",
       "      <td>0.154846</td>\n",
       "      <td>439.0</td>\n",
       "      <td>2290.0</td>\n",
       "      <td>2729</td>\n",
       "    </tr>\n",
       "  </tbody>\n",
       "</table>\n",
       "<p>731 rows × 16 columns</p>\n",
       "</div>"
      ],
      "text/plain": [
       "     instant      dteday  season  yr  mnth  holiday  weekday  workingday  \\\n",
       "0          1  2011-01-01       1   0     1        0        6           0   \n",
       "1          2  2011-01-02       1   0     1        0        0           0   \n",
       "2          3  2011-01-03       1   0     1        0        1           1   \n",
       "3          4  2011-01-04       1   0     1        0        2           1   \n",
       "4          5  2011-01-05       1   0     1        0        3           1   \n",
       "..       ...         ...     ...  ..   ...      ...      ...         ...   \n",
       "726      727  2012-12-27       1   1    12        0        4           1   \n",
       "727      728  2012-12-28       1   1    12        0        5           1   \n",
       "728      729  2012-12-29       1   1    12        0        6           0   \n",
       "729      730  2012-12-30       1   1    12        0        0           0   \n",
       "730      731  2012-12-31       1   1    12        0        1           1   \n",
       "\n",
       "     weathersit      temp     atemp       hum  windspeed  casual  registered  \\\n",
       "0             2  0.344167  0.363625  0.805833   0.160446   331.0       654.0   \n",
       "1             2  0.363478  0.353739  0.696087   0.248539   131.0       670.0   \n",
       "2             1  0.196364       NaN  0.437273   0.248309   120.0      1229.0   \n",
       "3             1  0.200000  0.212122  0.590435   0.160296   108.0      1454.0   \n",
       "4             1  0.226957  0.229270  0.436957   0.186900    82.0      1518.0   \n",
       "..          ...       ...       ...       ...        ...     ...         ...   \n",
       "726           2  0.254167  0.226642  0.652917   0.350133   247.0      1867.0   \n",
       "727           2  0.253333       NaN  0.590000   0.155471   644.0      2451.0   \n",
       "728           2  0.253333  0.242400  0.752917   0.124383   159.0      1182.0   \n",
       "729           1       NaN  0.231700  0.483333   0.350754   364.0      1432.0   \n",
       "730           2  0.215833  0.223487  0.577500   0.154846   439.0      2290.0   \n",
       "\n",
       "      cnt  \n",
       "0     985  \n",
       "1     801  \n",
       "2    1349  \n",
       "3    1562  \n",
       "4    1600  \n",
       "..    ...  \n",
       "726  2114  \n",
       "727  3095  \n",
       "728  1341  \n",
       "729  1796  \n",
       "730  2729  \n",
       "\n",
       "[731 rows x 16 columns]"
      ]
     },
     "execution_count": 124,
     "metadata": {},
     "output_type": "execute_result"
    }
   ],
   "source": [
    "df"
   ]
  },
  {
   "cell_type": "code",
   "execution_count": 125,
   "id": "7dda37a0-9108-4392-a4e1-8eb2a2111912",
   "metadata": {
    "tags": []
   },
   "outputs": [],
   "source": [
    "df_bs_2x=df[['casual','hum','cnt']].dropna()"
   ]
  },
  {
   "cell_type": "code",
   "execution_count": 126,
   "id": "1faf901b-e962-4135-a560-0b4212bae21b",
   "metadata": {
    "tags": []
   },
   "outputs": [],
   "source": [
    "df_X = np.array(df_bs_2x['casual']).reshape(-1,1) # x 피처를 따로 빼고 넘파이 어레이로 변환\n",
    "X_train, X_test, y_train,y_test = train_test_split(df_X, df_bs_2x['cnt'],test_size = 0.3,random_state = 111)"
   ]
  },
  {
   "cell_type": "code",
   "execution_count": 127,
   "id": "e32479a8-f3dc-47b7-bd80-fef67ec536d2",
   "metadata": {
    "tags": []
   },
   "outputs": [],
   "source": [
    "model = LinearRegression() # 선형회귀 모델 학습\n",
    "model.fit(X_train, y_train) # 모델 학습\n",
    "y_pred = model.predict(X_test) # X_test로 예측값 추출"
   ]
  },
  {
   "cell_type": "code",
   "execution_count": 128,
   "id": "2aa95c9f-8f64-4d4b-904a-025e3930ed47",
   "metadata": {
    "tags": []
   },
   "outputs": [
    {
     "name": "stdout",
     "output_type": "stream",
     "text": [
      "1417.747007204211\n"
     ]
    }
   ],
   "source": [
    "rmse = sqrt(mean_squared_error(y_test, y_pred))\n",
    "print(rmse)"
   ]
  },
  {
   "cell_type": "code",
   "execution_count": 129,
   "id": "c02330db-7e97-462b-9ac1-4c8eef026470",
   "metadata": {
    "tags": []
   },
   "outputs": [
    {
     "data": {
      "text/html": [
       "<div>\n",
       "<style scoped>\n",
       "    .dataframe tbody tr th:only-of-type {\n",
       "        vertical-align: middle;\n",
       "    }\n",
       "\n",
       "    .dataframe tbody tr th {\n",
       "        vertical-align: top;\n",
       "    }\n",
       "\n",
       "    .dataframe thead th {\n",
       "        text-align: right;\n",
       "    }\n",
       "</style>\n",
       "<table border=\"1\" class=\"dataframe\">\n",
       "  <thead>\n",
       "    <tr style=\"text-align: right;\">\n",
       "      <th></th>\n",
       "      <th>casual</th>\n",
       "      <th>cnt</th>\n",
       "    </tr>\n",
       "  </thead>\n",
       "  <tbody>\n",
       "    <tr>\n",
       "      <th>casual</th>\n",
       "      <td>1.000000</td>\n",
       "      <td>0.674468</td>\n",
       "    </tr>\n",
       "    <tr>\n",
       "      <th>cnt</th>\n",
       "      <td>0.674468</td>\n",
       "      <td>1.000000</td>\n",
       "    </tr>\n",
       "  </tbody>\n",
       "</table>\n",
       "</div>"
      ],
      "text/plain": [
       "          casual       cnt\n",
       "casual  1.000000  0.674468\n",
       "cnt     0.674468  1.000000"
      ]
     },
     "execution_count": 129,
     "metadata": {},
     "output_type": "execute_result"
    }
   ],
   "source": [
    "df_bs.corr()"
   ]
  },
  {
   "cell_type": "code",
   "execution_count": 131,
   "id": "812b5a5b-ef47-4924-b738-9ca0a6621b77",
   "metadata": {
    "tags": []
   },
   "outputs": [],
   "source": [
    "X = sm.add_constant(df_X)\n",
    "model_ols = sm.OLS(df_bs['cnt'], df_bs['casual']).fit()\n",
    "summary = model_ols.summary()"
   ]
  },
  {
   "cell_type": "code",
   "execution_count": 132,
   "id": "c9294721-eb68-410c-9b43-fc1597e5dede",
   "metadata": {
    "tags": []
   },
   "outputs": [
    {
     "data": {
      "text/html": [
       "<table class=\"simpletable\">\n",
       "<caption>OLS Regression Results</caption>\n",
       "<tr>\n",
       "  <th>Dep. Variable:</th>           <td>cnt</td>       <th>  R-squared (uncentered):</th>      <td>   0.778</td> \n",
       "</tr>\n",
       "<tr>\n",
       "  <th>Model:</th>                   <td>OLS</td>       <th>  Adj. R-squared (uncentered):</th> <td>   0.777</td> \n",
       "</tr>\n",
       "<tr>\n",
       "  <th>Method:</th>             <td>Least Squares</td>  <th>  F-statistic:       </th>          <td>   2516.</td> \n",
       "</tr>\n",
       "<tr>\n",
       "  <th>Date:</th>             <td>Mon, 04 Mar 2024</td> <th>  Prob (F-statistic):</th>          <td>5.09e-237</td>\n",
       "</tr>\n",
       "<tr>\n",
       "  <th>Time:</th>                 <td>18:53:50</td>     <th>  Log-Likelihood:    </th>          <td> -6597.9</td> \n",
       "</tr>\n",
       "<tr>\n",
       "  <th>No. Observations:</th>      <td>   720</td>      <th>  AIC:               </th>          <td>1.320e+04</td>\n",
       "</tr>\n",
       "<tr>\n",
       "  <th>Df Residuals:</th>          <td>   719</td>      <th>  BIC:               </th>          <td>1.320e+04</td>\n",
       "</tr>\n",
       "<tr>\n",
       "  <th>Df Model:</th>              <td>     1</td>      <th>                     </th>              <td> </td>    \n",
       "</tr>\n",
       "<tr>\n",
       "  <th>Covariance Type:</th>      <td>nonrobust</td>    <th>                     </th>              <td> </td>    \n",
       "</tr>\n",
       "</table>\n",
       "<table class=\"simpletable\">\n",
       "<tr>\n",
       "     <td></td>       <th>coef</th>     <th>std err</th>      <th>t</th>      <th>P>|t|</th>  <th>[0.025</th>    <th>0.975]</th>  \n",
       "</tr>\n",
       "<tr>\n",
       "  <th>casual</th> <td>    3.9613</td> <td>    0.079</td> <td>   50.163</td> <td> 0.000</td> <td>    3.806</td> <td>    4.116</td>\n",
       "</tr>\n",
       "</table>\n",
       "<table class=\"simpletable\">\n",
       "<tr>\n",
       "  <th>Omnibus:</th>       <td>94.146</td> <th>  Durbin-Watson:     </th> <td>   0.744</td>\n",
       "</tr>\n",
       "<tr>\n",
       "  <th>Prob(Omnibus):</th> <td> 0.000</td> <th>  Jarque-Bera (JB):  </th> <td> 129.561</td>\n",
       "</tr>\n",
       "<tr>\n",
       "  <th>Skew:</th>          <td>-0.979</td> <th>  Prob(JB):          </th> <td>7.35e-29</td>\n",
       "</tr>\n",
       "<tr>\n",
       "  <th>Kurtosis:</th>      <td> 3.698</td> <th>  Cond. No.          </th> <td>    1.00</td>\n",
       "</tr>\n",
       "</table><br/><br/>Notes:<br/>[1] R² is computed without centering (uncentered) since the model does not contain a constant.<br/>[2] Standard Errors assume that the covariance matrix of the errors is correctly specified."
      ],
      "text/latex": [
       "\\begin{center}\n",
       "\\begin{tabular}{lclc}\n",
       "\\toprule\n",
       "\\textbf{Dep. Variable:}    &       cnt        & \\textbf{  R-squared (uncentered):}      &     0.778   \\\\\n",
       "\\textbf{Model:}            &       OLS        & \\textbf{  Adj. R-squared (uncentered):} &     0.777   \\\\\n",
       "\\textbf{Method:}           &  Least Squares   & \\textbf{  F-statistic:       }          &     2516.   \\\\\n",
       "\\textbf{Date:}             & Mon, 04 Mar 2024 & \\textbf{  Prob (F-statistic):}          & 5.09e-237   \\\\\n",
       "\\textbf{Time:}             &     18:53:50     & \\textbf{  Log-Likelihood:    }          &   -6597.9   \\\\\n",
       "\\textbf{No. Observations:} &         720      & \\textbf{  AIC:               }          & 1.320e+04   \\\\\n",
       "\\textbf{Df Residuals:}     &         719      & \\textbf{  BIC:               }          & 1.320e+04   \\\\\n",
       "\\textbf{Df Model:}         &           1      & \\textbf{                     }          &             \\\\\n",
       "\\textbf{Covariance Type:}  &    nonrobust     & \\textbf{                     }          &             \\\\\n",
       "\\bottomrule\n",
       "\\end{tabular}\n",
       "\\begin{tabular}{lcccccc}\n",
       "                & \\textbf{coef} & \\textbf{std err} & \\textbf{t} & \\textbf{P$> |$t$|$} & \\textbf{[0.025} & \\textbf{0.975]}  \\\\\n",
       "\\midrule\n",
       "\\textbf{casual} &       3.9613  &        0.079     &    50.163  &         0.000        &        3.806    &        4.116     \\\\\n",
       "\\bottomrule\n",
       "\\end{tabular}\n",
       "\\begin{tabular}{lclc}\n",
       "\\textbf{Omnibus:}       & 94.146 & \\textbf{  Durbin-Watson:     } &    0.744  \\\\\n",
       "\\textbf{Prob(Omnibus):} &  0.000 & \\textbf{  Jarque-Bera (JB):  } &  129.561  \\\\\n",
       "\\textbf{Skew:}          & -0.979 & \\textbf{  Prob(JB):          } & 7.35e-29  \\\\\n",
       "\\textbf{Kurtosis:}      &  3.698 & \\textbf{  Cond. No.          } &     1.00  \\\\\n",
       "\\bottomrule\n",
       "\\end{tabular}\n",
       "%\\caption{OLS Regression Results}\n",
       "\\end{center}\n",
       "\n",
       "Notes: \\newline\n",
       " [1] R² is computed without centering (uncentered) since the model does not contain a constant. \\newline\n",
       " [2] Standard Errors assume that the covariance matrix of the errors is correctly specified."
      ],
      "text/plain": [
       "<class 'statsmodels.iolib.summary.Summary'>\n",
       "\"\"\"\n",
       "                                 OLS Regression Results                                \n",
       "=======================================================================================\n",
       "Dep. Variable:                    cnt   R-squared (uncentered):                   0.778\n",
       "Model:                            OLS   Adj. R-squared (uncentered):              0.777\n",
       "Method:                 Least Squares   F-statistic:                              2516.\n",
       "Date:                Mon, 04 Mar 2024   Prob (F-statistic):                   5.09e-237\n",
       "Time:                        18:53:50   Log-Likelihood:                         -6597.9\n",
       "No. Observations:                 720   AIC:                                  1.320e+04\n",
       "Df Residuals:                     719   BIC:                                  1.320e+04\n",
       "Df Model:                           1                                                  \n",
       "Covariance Type:            nonrobust                                                  \n",
       "==============================================================================\n",
       "                 coef    std err          t      P>|t|      [0.025      0.975]\n",
       "------------------------------------------------------------------------------\n",
       "casual         3.9613      0.079     50.163      0.000       3.806       4.116\n",
       "==============================================================================\n",
       "Omnibus:                       94.146   Durbin-Watson:                   0.744\n",
       "Prob(Omnibus):                  0.000   Jarque-Bera (JB):              129.561\n",
       "Skew:                          -0.979   Prob(JB):                     7.35e-29\n",
       "Kurtosis:                       3.698   Cond. No.                         1.00\n",
       "==============================================================================\n",
       "\n",
       "Notes:\n",
       "[1] R² is computed without centering (uncentered) since the model does not contain a constant.\n",
       "[2] Standard Errors assume that the covariance matrix of the errors is correctly specified.\n",
       "\"\"\""
      ]
     },
     "execution_count": 132,
     "metadata": {},
     "output_type": "execute_result"
    }
   ],
   "source": [
    "summary"
   ]
  },
  {
   "cell_type": "markdown",
   "id": "4417e674-3039-4fe7-af8f-c72eeb8c1709",
   "metadata": {},
   "source": [
    "- base RMSE : 1472\n",
    "- corr : 0.6744"
   ]
  },
  {
   "cell_type": "markdown",
   "id": "ae877b1c-2aa5-4d46-be75-15f68d4ff46b",
   "metadata": {},
   "source": [
    "- 정규분포로 변환"
   ]
  },
  {
   "cell_type": "code",
   "execution_count": 138,
   "id": "3986833e-3b8d-4b4d-a601-0753ee16e641",
   "metadata": {
    "tags": []
   },
   "outputs": [],
   "source": [
    "#여존슨변환\n",
    "df_bs_2x[['yeo-johnson']] = power_transform(df_bs_2x[['casual']], standardize = False)\n",
    "\n",
    "#Box-cox 변환\n",
    "df_bs_2x[['box-cox']] = power_transform(df_bs_2x[['casual']], method = 'box-cox', standardize = False)#여존슨변환\n"
   ]
  },
  {
   "cell_type": "code",
   "execution_count": 139,
   "id": "969b1e9e-befa-46b7-ac98-50df2b6af1f4",
   "metadata": {
    "tags": []
   },
   "outputs": [],
   "source": [
    "df_X = np.array(df_bs_2x['yeo-johnson']).reshape(-1,1) # x 피처를 따로 빼고 넘파이 어레이로 변환\n",
    "X_train, X_test, y_train,y_test = train_test_split(df_X, df_bs_2x['cnt'],test_size = 0.3,random_state = 111)"
   ]
  },
  {
   "cell_type": "code",
   "execution_count": 140,
   "id": "cc6283c0-2c66-4f62-bcef-8d6d873d102d",
   "metadata": {
    "tags": []
   },
   "outputs": [],
   "source": [
    "model1 = LinearRegression() # 선형회귀 모델 학습\n",
    "model1.fit(X_train, y_train) # 모델 학습\n",
    "y_pred = model1.predict(X_test) # X_test로 예측값 추출"
   ]
  },
  {
   "cell_type": "code",
   "execution_count": 141,
   "id": "1dc9cc7b-1143-4f07-9aa1-70f630253020",
   "metadata": {
    "tags": []
   },
   "outputs": [
    {
     "name": "stdout",
     "output_type": "stream",
     "text": [
      "1210.3865671901444\n"
     ]
    }
   ],
   "source": [
    "rmse = sqrt(mean_squared_error(y_test, y_pred))\n",
    "print(rmse) # 줄어듦"
   ]
  },
  {
   "cell_type": "code",
   "execution_count": 142,
   "id": "3d447c34-80de-4d6d-9581-3cf061d8f167",
   "metadata": {},
   "outputs": [
    {
     "data": {
      "text/html": [
       "<div>\n",
       "<style scoped>\n",
       "    .dataframe tbody tr th:only-of-type {\n",
       "        vertical-align: middle;\n",
       "    }\n",
       "\n",
       "    .dataframe tbody tr th {\n",
       "        vertical-align: top;\n",
       "    }\n",
       "\n",
       "    .dataframe thead th {\n",
       "        text-align: right;\n",
       "    }\n",
       "</style>\n",
       "<table border=\"1\" class=\"dataframe\">\n",
       "  <thead>\n",
       "    <tr style=\"text-align: right;\">\n",
       "      <th></th>\n",
       "      <th>casual</th>\n",
       "      <th>hum</th>\n",
       "      <th>cnt</th>\n",
       "      <th>yeo-johnson</th>\n",
       "      <th>box-cox</th>\n",
       "    </tr>\n",
       "  </thead>\n",
       "  <tbody>\n",
       "    <tr>\n",
       "      <th>casual</th>\n",
       "      <td>1.000000</td>\n",
       "      <td>-0.089279</td>\n",
       "      <td>0.676972</td>\n",
       "      <td>0.938495</td>\n",
       "      <td>0.938617</td>\n",
       "    </tr>\n",
       "    <tr>\n",
       "      <th>hum</th>\n",
       "      <td>-0.089279</td>\n",
       "      <td>1.000000</td>\n",
       "      <td>-0.105656</td>\n",
       "      <td>-0.100852</td>\n",
       "      <td>-0.101015</td>\n",
       "    </tr>\n",
       "    <tr>\n",
       "      <th>cnt</th>\n",
       "      <td>0.676972</td>\n",
       "      <td>-0.105656</td>\n",
       "      <td>1.000000</td>\n",
       "      <td>0.764566</td>\n",
       "      <td>0.764455</td>\n",
       "    </tr>\n",
       "    <tr>\n",
       "      <th>yeo-johnson</th>\n",
       "      <td>0.938495</td>\n",
       "      <td>-0.100852</td>\n",
       "      <td>0.764566</td>\n",
       "      <td>1.000000</td>\n",
       "      <td>0.999997</td>\n",
       "    </tr>\n",
       "    <tr>\n",
       "      <th>box-cox</th>\n",
       "      <td>0.938617</td>\n",
       "      <td>-0.101015</td>\n",
       "      <td>0.764455</td>\n",
       "      <td>0.999997</td>\n",
       "      <td>1.000000</td>\n",
       "    </tr>\n",
       "  </tbody>\n",
       "</table>\n",
       "</div>"
      ],
      "text/plain": [
       "               casual       hum       cnt  yeo-johnson   box-cox\n",
       "casual       1.000000 -0.089279  0.676972     0.938495  0.938617\n",
       "hum         -0.089279  1.000000 -0.105656    -0.100852 -0.101015\n",
       "cnt          0.676972 -0.105656  1.000000     0.764566  0.764455\n",
       "yeo-johnson  0.938495 -0.100852  0.764566     1.000000  0.999997\n",
       "box-cox      0.938617 -0.101015  0.764455     0.999997  1.000000"
      ]
     },
     "execution_count": 142,
     "metadata": {},
     "output_type": "execute_result"
    }
   ],
   "source": [
    "df_bs_2x.corr()"
   ]
  },
  {
   "cell_type": "code",
   "execution_count": 145,
   "id": "a1e5a3bf-0ac5-4865-93ef-6f83f18828f5",
   "metadata": {
    "tags": []
   },
   "outputs": [
    {
     "data": {
      "text/html": [
       "<table class=\"simpletable\">\n",
       "<caption>OLS Regression Results</caption>\n",
       "<tr>\n",
       "  <th>Dep. Variable:</th>           <td>cnt</td>       <th>  R-squared (uncentered):</th>      <td>   0.935</td> \n",
       "</tr>\n",
       "<tr>\n",
       "  <th>Model:</th>                   <td>OLS</td>       <th>  Adj. R-squared (uncentered):</th> <td>   0.935</td> \n",
       "</tr>\n",
       "<tr>\n",
       "  <th>Method:</th>             <td>Least Squares</td>  <th>  F-statistic:       </th>          <td>   9928.</td> \n",
       "</tr>\n",
       "<tr>\n",
       "  <th>Date:</th>             <td>Mon, 04 Mar 2024</td> <th>  Prob (F-statistic):</th>           <td>  0.00</td>  \n",
       "</tr>\n",
       "<tr>\n",
       "  <th>Time:</th>                 <td>19:01:55</td>     <th>  Log-Likelihood:    </th>          <td> -5946.4</td> \n",
       "</tr>\n",
       "<tr>\n",
       "  <th>No. Observations:</th>      <td>   695</td>      <th>  AIC:               </th>          <td>1.189e+04</td>\n",
       "</tr>\n",
       "<tr>\n",
       "  <th>Df Residuals:</th>          <td>   694</td>      <th>  BIC:               </th>          <td>1.190e+04</td>\n",
       "</tr>\n",
       "<tr>\n",
       "  <th>Df Model:</th>              <td>     1</td>      <th>                     </th>              <td> </td>    \n",
       "</tr>\n",
       "<tr>\n",
       "  <th>Covariance Type:</th>      <td>nonrobust</td>    <th>                     </th>              <td> </td>    \n",
       "</tr>\n",
       "</table>\n",
       "<table class=\"simpletable\">\n",
       "<tr>\n",
       "       <td></td>          <th>coef</th>     <th>std err</th>      <th>t</th>      <th>P>|t|</th>  <th>[0.025</th>    <th>0.975]</th>  \n",
       "</tr>\n",
       "<tr>\n",
       "  <th>yeo-johnson</th> <td>  222.1981</td> <td>    2.230</td> <td>   99.642</td> <td> 0.000</td> <td>  217.820</td> <td>  226.576</td>\n",
       "</tr>\n",
       "</table>\n",
       "<table class=\"simpletable\">\n",
       "<tr>\n",
       "  <th>Omnibus:</th>       <td>22.619</td> <th>  Durbin-Watson:     </th> <td>   0.545</td>\n",
       "</tr>\n",
       "<tr>\n",
       "  <th>Prob(Omnibus):</th> <td> 0.000</td> <th>  Jarque-Bera (JB):  </th> <td>  11.174</td>\n",
       "</tr>\n",
       "<tr>\n",
       "  <th>Skew:</th>          <td> 0.060</td> <th>  Prob(JB):          </th> <td> 0.00375</td>\n",
       "</tr>\n",
       "<tr>\n",
       "  <th>Kurtosis:</th>      <td> 2.390</td> <th>  Cond. No.          </th> <td>    1.00</td>\n",
       "</tr>\n",
       "</table><br/><br/>Notes:<br/>[1] R² is computed without centering (uncentered) since the model does not contain a constant.<br/>[2] Standard Errors assume that the covariance matrix of the errors is correctly specified."
      ],
      "text/latex": [
       "\\begin{center}\n",
       "\\begin{tabular}{lclc}\n",
       "\\toprule\n",
       "\\textbf{Dep. Variable:}    &       cnt        & \\textbf{  R-squared (uncentered):}      &     0.935   \\\\\n",
       "\\textbf{Model:}            &       OLS        & \\textbf{  Adj. R-squared (uncentered):} &     0.935   \\\\\n",
       "\\textbf{Method:}           &  Least Squares   & \\textbf{  F-statistic:       }          &     9928.   \\\\\n",
       "\\textbf{Date:}             & Mon, 04 Mar 2024 & \\textbf{  Prob (F-statistic):}          &     0.00    \\\\\n",
       "\\textbf{Time:}             &     19:01:55     & \\textbf{  Log-Likelihood:    }          &   -5946.4   \\\\\n",
       "\\textbf{No. Observations:} &         695      & \\textbf{  AIC:               }          & 1.189e+04   \\\\\n",
       "\\textbf{Df Residuals:}     &         694      & \\textbf{  BIC:               }          & 1.190e+04   \\\\\n",
       "\\textbf{Df Model:}         &           1      & \\textbf{                     }          &             \\\\\n",
       "\\textbf{Covariance Type:}  &    nonrobust     & \\textbf{                     }          &             \\\\\n",
       "\\bottomrule\n",
       "\\end{tabular}\n",
       "\\begin{tabular}{lcccccc}\n",
       "                     & \\textbf{coef} & \\textbf{std err} & \\textbf{t} & \\textbf{P$> |$t$|$} & \\textbf{[0.025} & \\textbf{0.975]}  \\\\\n",
       "\\midrule\n",
       "\\textbf{yeo-johnson} &     222.1981  &        2.230     &    99.642  &         0.000        &      217.820    &      226.576     \\\\\n",
       "\\bottomrule\n",
       "\\end{tabular}\n",
       "\\begin{tabular}{lclc}\n",
       "\\textbf{Omnibus:}       & 22.619 & \\textbf{  Durbin-Watson:     } &    0.545  \\\\\n",
       "\\textbf{Prob(Omnibus):} &  0.000 & \\textbf{  Jarque-Bera (JB):  } &   11.174  \\\\\n",
       "\\textbf{Skew:}          &  0.060 & \\textbf{  Prob(JB):          } &  0.00375  \\\\\n",
       "\\textbf{Kurtosis:}      &  2.390 & \\textbf{  Cond. No.          } &     1.00  \\\\\n",
       "\\bottomrule\n",
       "\\end{tabular}\n",
       "%\\caption{OLS Regression Results}\n",
       "\\end{center}\n",
       "\n",
       "Notes: \\newline\n",
       " [1] R² is computed without centering (uncentered) since the model does not contain a constant. \\newline\n",
       " [2] Standard Errors assume that the covariance matrix of the errors is correctly specified."
      ],
      "text/plain": [
       "<class 'statsmodels.iolib.summary.Summary'>\n",
       "\"\"\"\n",
       "                                 OLS Regression Results                                \n",
       "=======================================================================================\n",
       "Dep. Variable:                    cnt   R-squared (uncentered):                   0.935\n",
       "Model:                            OLS   Adj. R-squared (uncentered):              0.935\n",
       "Method:                 Least Squares   F-statistic:                              9928.\n",
       "Date:                Mon, 04 Mar 2024   Prob (F-statistic):                        0.00\n",
       "Time:                        19:01:55   Log-Likelihood:                         -5946.4\n",
       "No. Observations:                 695   AIC:                                  1.189e+04\n",
       "Df Residuals:                     694   BIC:                                  1.190e+04\n",
       "Df Model:                           1                                                  \n",
       "Covariance Type:            nonrobust                                                  \n",
       "===============================================================================\n",
       "                  coef    std err          t      P>|t|      [0.025      0.975]\n",
       "-------------------------------------------------------------------------------\n",
       "yeo-johnson   222.1981      2.230     99.642      0.000     217.820     226.576\n",
       "==============================================================================\n",
       "Omnibus:                       22.619   Durbin-Watson:                   0.545\n",
       "Prob(Omnibus):                  0.000   Jarque-Bera (JB):               11.174\n",
       "Skew:                           0.060   Prob(JB):                      0.00375\n",
       "Kurtosis:                       2.390   Cond. No.                         1.00\n",
       "==============================================================================\n",
       "\n",
       "Notes:\n",
       "[1] R² is computed without centering (uncentered) since the model does not contain a constant.\n",
       "[2] Standard Errors assume that the covariance matrix of the errors is correctly specified.\n",
       "\"\"\""
      ]
     },
     "execution_count": 145,
     "metadata": {},
     "output_type": "execute_result"
    }
   ],
   "source": [
    "X = sm.add_constant(df_X)\n",
    "model_ols1= sm.OLS(df_bs_2x['cnt'], df_bs_2x['yeo-johnson']).fit()\n",
    "summary1 = model_ols1.summary()\n",
    "summary1"
   ]
  },
  {
   "cell_type": "code",
   "execution_count": null,
   "id": "e74f6993-7fb5-42a1-bdeb-287e4e2cea52",
   "metadata": {},
   "outputs": [],
   "source": []
  }
 ],
 "metadata": {
  "kernelspec": {
   "display_name": "Python 3 (ipykernel)",
   "language": "python",
   "name": "python3"
  },
  "language_info": {
   "codemirror_mode": {
    "name": "ipython",
    "version": 3
   },
   "file_extension": ".py",
   "mimetype": "text/x-python",
   "name": "python",
   "nbconvert_exporter": "python",
   "pygments_lexer": "ipython3",
   "version": "3.11.4"
  }
 },
 "nbformat": 4,
 "nbformat_minor": 5
}
