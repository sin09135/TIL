{
 "cells": [
  {
   "cell_type": "code",
   "execution_count": 8,
   "id": "4ad10e2b-bdc9-47d2-ba82-adaafd2fee6c",
   "metadata": {},
   "outputs": [
    {
     "ename": "SyntaxError",
     "evalue": "invalid syntax (483525724.py, line 15)",
     "output_type": "error",
     "traceback": [
      "\u001b[0;36m  Cell \u001b[0;32mIn[8], line 15\u001b[0;36m\u001b[0m\n\u001b[0;31m    sales_{start_num} = res.json()\u001b[0m\n\u001b[0m          ^\u001b[0m\n\u001b[0;31mSyntaxError\u001b[0m\u001b[0;31m:\u001b[0m invalid syntax\n"
     ]
    }
   ],
   "source": [
    "# requests 라이브러리 임포트\n",
    "import requests \n",
    "import pandas as pd\n",
    "\n",
    "# json 파일, 1 ~ 1000 개의 데이터를 가져옴\n",
    "start_num = []\n",
    "end_num = []\n",
    "\n",
    "for i in range(1,11):\n",
    "    end_num = i*1000\n",
    "    start_num = end_num-999\n",
    "    url = 'http://openapi.seoul.go.kr:8088/7949646757736b773733414e71744d/json/VwsmTrdhlSelngQq/{start_num}/{end_num}/2022'\n",
    "    res = requests.get(url) # 정의한 URL로 GET 요청 전송\n",
    "    #res.text # 요청한 응답데이터의 본문 가져오기\n",
    "    sales_{start_num} = res.json()\n",
    "    #sales['VwsmTrdhlSelngQq']['row']\n",
    "\n",
    "    sales_df_{start_num} = pd.DataFrame(sales['VwsmTrdhlSelngQq']['row'])"
   ]
  },
  {
   "cell_type": "code",
   "execution_count": 6,
   "id": "9cd9632f-f66e-4d66-a32b-4d330c19a7a7",
   "metadata": {},
   "outputs": [
    {
     "name": "stdout",
     "output_type": "stream",
     "text": [
      "<class 'pandas.core.frame.DataFrame'>\n",
      "RangeIndex: 1000 entries, 0 to 999\n",
      "Data columns (total 80 columns):\n",
      " #   Column                     Non-Null Count  Dtype \n",
      "---  ------                     --------------  ----- \n",
      " 0   STDR_YY_CD                 1000 non-null   object\n",
      " 1   STDR_QU_CD                 1000 non-null   object\n",
      " 2   TRDAR_SE_CD                1000 non-null   object\n",
      " 3   TRDAR_SE_CD_NM             1000 non-null   object\n",
      " 4   TRDAR_CD                   1000 non-null   object\n",
      " 5   TRDAR_CD_NM                1000 non-null   object\n",
      " 6   SVC_INDUTY_CD              1000 non-null   object\n",
      " 7   SVC_INDUTY_CD_NM           1000 non-null   object\n",
      " 8   THSMON_SELNG_AMT           1000 non-null   object\n",
      " 9   THSMON_SELNG_CO            1000 non-null   object\n",
      " 10  MDWK_SELNG_RATE            1000 non-null   object\n",
      " 11  WKEND_SELNG_RATE           1000 non-null   object\n",
      " 12  MON_SELNG_RATE             1000 non-null   object\n",
      " 13  TUES_SELNG_RATE            1000 non-null   object\n",
      " 14  WED_SELNG_RATE             1000 non-null   object\n",
      " 15  THUR_SELNG_RATE            1000 non-null   object\n",
      " 16  FRI_SELNG_RATE             1000 non-null   object\n",
      " 17  SAT_SELNG_RATE             1000 non-null   object\n",
      " 18  SUN_SELNG_RATE             1000 non-null   object\n",
      " 19  TMZON_00_06_SELNG_RATE     1000 non-null   object\n",
      " 20  TMZON_06_11_SELNG_RATE     1000 non-null   object\n",
      " 21  TMZON_11_14_SELNG_RATE     1000 non-null   object\n",
      " 22  TMZON_14_17_SELNG_RATE     1000 non-null   object\n",
      " 23  TMZON_17_21_SELNG_RATE     1000 non-null   object\n",
      " 24  TMZON_21_24_SELNG_RATE     1000 non-null   object\n",
      " 25  ML_SELNG_RATE              1000 non-null   object\n",
      " 26  FML_SELNG_RATE             1000 non-null   object\n",
      " 27  AGRDE_10_SELNG_RATE        1000 non-null   object\n",
      " 28  AGRDE_20_SELNG_RATE        1000 non-null   object\n",
      " 29  AGRDE_30_SELNG_RATE        1000 non-null   object\n",
      " 30  AGRDE_40_SELNG_RATE        1000 non-null   object\n",
      " 31  AGRDE_50_SELNG_RATE        1000 non-null   object\n",
      " 32  AGRDE_60_ABOVE_SELNG_RATE  1000 non-null   object\n",
      " 33  MDWK_SELNG_AMT             1000 non-null   object\n",
      " 34  WKEND_SELNG_AMT            1000 non-null   object\n",
      " 35  MON_SELNG_AMT              1000 non-null   object\n",
      " 36  TUES_SELNG_AMT             1000 non-null   object\n",
      " 37  WED_SELNG_AMT              1000 non-null   object\n",
      " 38  THUR_SELNG_AMT             1000 non-null   object\n",
      " 39  FRI_SELNG_AMT              1000 non-null   object\n",
      " 40  SAT_SELNG_AMT              1000 non-null   object\n",
      " 41  SUN_SELNG_AMT              1000 non-null   object\n",
      " 42  TMZON_00_06_SELNG_AMT      1000 non-null   object\n",
      " 43  TMZON_06_11_SELNG_AMT      1000 non-null   object\n",
      " 44  TMZON_11_14_SELNG_AMT      1000 non-null   object\n",
      " 45  TMZON_14_17_SELNG_AMT      1000 non-null   object\n",
      " 46  TMZON_17_21_SELNG_AMT      1000 non-null   object\n",
      " 47  TMZON_21_24_SELNG_AMT      1000 non-null   object\n",
      " 48  ML_SELNG_AMT               1000 non-null   object\n",
      " 49  FML_SELNG_AMT              1000 non-null   object\n",
      " 50  AGRDE_10_SELNG_AMT         1000 non-null   object\n",
      " 51  AGRDE_20_SELNG_AMT         1000 non-null   object\n",
      " 52  AGRDE_30_SELNG_AMT         1000 non-null   object\n",
      " 53  AGRDE_40_SELNG_AMT         1000 non-null   object\n",
      " 54  AGRDE_50_SELNG_AMT         1000 non-null   object\n",
      " 55  AGRDE_60_ABOVE_SELNG_AMT   1000 non-null   object\n",
      " 56  MDWK_SELNG_CO              1000 non-null   object\n",
      " 57  WKEND_SELNG_CO             1000 non-null   object\n",
      " 58  MON_SELNG_CO               1000 non-null   object\n",
      " 59  TUES_SELNG_CO              1000 non-null   object\n",
      " 60  WED_SELNG_CO               1000 non-null   object\n",
      " 61  THUR_SELNG_CO              1000 non-null   object\n",
      " 62  FRI_SELNG_CO               1000 non-null   object\n",
      " 63  SAT_SELNG_CO               1000 non-null   object\n",
      " 64  SUN_SELNG_CO               1000 non-null   object\n",
      " 65  TMZON_00_06_SELNG_CO       1000 non-null   object\n",
      " 66  TMZON_06_11_SELNG_CO       1000 non-null   object\n",
      " 67  TMZON_11_14_SELNG_CO       1000 non-null   object\n",
      " 68  TMZON_14_17_SELNG_CO       1000 non-null   object\n",
      " 69  TMZON_17_21_SELNG_CO       1000 non-null   object\n",
      " 70  TMZON_21_24_SELNG_CO       1000 non-null   object\n",
      " 71  ML_SELNG_CO                1000 non-null   object\n",
      " 72  FML_SELNG_CO               1000 non-null   object\n",
      " 73  AGRDE_10_SELNG_CO          1000 non-null   object\n",
      " 74  AGRDE_20_SELNG_CO          1000 non-null   object\n",
      " 75  AGRDE_30_SELNG_CO          1000 non-null   object\n",
      " 76  AGRDE_40_SELNG_CO          1000 non-null   object\n",
      " 77  AGRDE_50_SELNG_CO          1000 non-null   object\n",
      " 78  AGRDE_60_ABOVE_SELNG_CO    1000 non-null   object\n",
      " 79  STOR_CO                    1000 non-null   object\n",
      "dtypes: object(80)\n",
      "memory usage: 625.1+ KB\n"
     ]
    }
   ],
   "source": [
    "sales_df.info()"
   ]
  },
  {
   "cell_type": "code",
   "execution_count": 7,
   "id": "af10704f-b0e1-472e-a674-de705562c598",
   "metadata": {},
   "outputs": [
    {
     "data": {
      "text/plain": [
       "STDR_QU_CD\n",
       "4    1000\n",
       "Name: count, dtype: int64"
      ]
     },
     "execution_count": 7,
     "metadata": {},
     "output_type": "execute_result"
    }
   ],
   "source": [
    "sales_df.STDR_QU_CD.value_counts()"
   ]
  },
  {
   "cell_type": "code",
   "execution_count": 11,
   "id": "07b2c4dd-5b8a-4391-a8bb-32e0cac27fcd",
   "metadata": {},
   "outputs": [
    {
     "ename": "AttributeError",
     "evalue": "module 'pandas' has no attribute 'to_csv'",
     "output_type": "error",
     "traceback": [
      "\u001b[0;31m---------------------------------------------------------------------------\u001b[0m",
      "\u001b[0;31mAttributeError\u001b[0m                            Traceback (most recent call last)",
      "Cell \u001b[0;32mIn[11], line 14\u001b[0m\n\u001b[1;32m     12\u001b[0m     sales_data \u001b[38;5;241m=\u001b[39m res\u001b[38;5;241m.\u001b[39mjson()\n\u001b[1;32m     13\u001b[0m     data_dict[start_num] \u001b[38;5;241m=\u001b[39m pd\u001b[38;5;241m.\u001b[39mDataFrame(sales_data[\u001b[38;5;124m'\u001b[39m\u001b[38;5;124mVwsmTrdhlSelngQq\u001b[39m\u001b[38;5;124m'\u001b[39m][\u001b[38;5;124m'\u001b[39m\u001b[38;5;124mrow\u001b[39m\u001b[38;5;124m'\u001b[39m])\n\u001b[0;32m---> 14\u001b[0m     sales_[start_num] \u001b[38;5;241m=\u001b[39m \u001b[43mpd\u001b[49m\u001b[38;5;241;43m.\u001b[39;49m\u001b[43mto_csv\u001b[49m(\u001b[38;5;124m'\u001b[39m\u001b[38;5;124m./data/\u001b[39m\u001b[38;5;132;01m{sales_[start_num]}\u001b[39;00m\u001b[38;5;124m'\u001b[39m)\n\u001b[1;32m     17\u001b[0m \u001b[38;5;66;03m# Concatenate all DataFrames in the dictionary\u001b[39;00m\n\u001b[1;32m     18\u001b[0m sales_df \u001b[38;5;241m=\u001b[39m \u001b[38;5;28mlist\u001b[39m(data_dict\u001b[38;5;241m.\u001b[39mvalues())\n",
      "\u001b[0;31mAttributeError\u001b[0m: module 'pandas' has no attribute 'to_csv'"
     ]
    }
   ],
   "source": [
    "import requests \n",
    "import pandas as pd\n",
    "\n",
    "# json 파일, 1 ~ 1000 개의 데이터를 가져옴\n",
    "data_dict = {}  # Dictionary to store data\n",
    "\n",
    "for i in range(1, 11):\n",
    "    end_num = i * 1000\n",
    "    start_num = end_num - 999\n",
    "    url = f'http://openapi.seoul.go.kr:8088/7949646757736b773733414e71744d/json/VwsmTrdhlSelngQq/{start_num}/{end_num}/2022'\n",
    "    res = requests.get(url) \n",
    "    sales_data = res.json()\n",
    "    data_dict[start_num] = pd.DataFrame(sales_data['VwsmTrdhlSelngQq']['row'])\n",
    "    sales_[start_num] = pd.to_csv('./data/{sales_[start_num]}')\n",
    "\n",
    "\n",
    "# Concatenate all DataFrames in the dictionary\n",
    "sales_df = list(data_dict.values())\n",
    "sales_df_2022 = pd.concat(sales_df, ignore_index=True)\n",
    "sales_df_2022.head(5)\n"
   ]
  },
  {
   "cell_type": "code",
   "execution_count": null,
   "id": "ac38c974-114f-49f9-8da0-8b284990f6be",
   "metadata": {},
   "outputs": [],
   "source": [
    "sales_df_info"
   ]
  },
  {
   "cell_type": "code",
   "execution_count": null,
   "id": "3c1736d2-6dfb-4801-b575-e77b2f7e4fad",
   "metadata": {},
   "outputs": [],
   "source": [
    "import requests \n",
    "import pandas as pd\n",
    "import os  # Import the os module for file operations\n",
    "\n",
    "# json 파일, 1 ~ 1000 개의 데이터를 가져옴\n",
    "data_dict = {}  # Dictionary to store data\n",
    "\n",
    "for i in range(1, 11):\n",
    "    end_num = i * 1000\n",
    "    start_num = end_num - 999\n",
    "    url = f'http://openapi.seoul.go.kr:8088/7949646757736b773733414e71744d/json/VwsmTrdhlSelngQq/{start_num}/{end_num}/2022'\n",
    "    res = requests.get(url) \n",
    "    sales_data = res.json()\n",
    "    data_dict[start_num] = pd.DataFrame(sales_data['VwsmTrdhlSelngQq']['row'])\n",
    "\n",
    "# Concatenate all DataFrames in the dictionary\n",
    "sales_df = list(data_dict.values())\n",
    "sales_df_2022 = pd.concat(sales_df, ignore_index=True)\n",
    "\n",
    "# Export the merged DataFrame to a CSV file\n",
    "sales_df_2022.to_csv('./data/sales_df_2022.csv', index=False)\n",
    "\n",
    "sales_df_2022.head(5)\n"
   ]
  },
  {
   "cell_type": "code",
   "execution_count": null,
   "id": "5cd7e043-915c-4668-8d08-59a150e98602",
   "metadata": {},
   "outputs": [],
   "source": []
  }
 ],
 "metadata": {
  "kernelspec": {
   "display_name": "Python 3 (ipykernel)",
   "language": "python",
   "name": "python3"
  },
  "language_info": {
   "codemirror_mode": {
    "name": "ipython",
    "version": 3
   },
   "file_extension": ".py",
   "mimetype": "text/x-python",
   "name": "python",
   "nbconvert_exporter": "python",
   "pygments_lexer": "ipython3",
   "version": "3.9.13"
  }
 },
 "nbformat": 4,
 "nbformat_minor": 5
}
