{
 "cells": [
  {
   "cell_type": "markdown",
   "id": "5fd7f196-42dc-4aa3-b0e2-d54e2a4ef589",
   "metadata": {},
   "source": [
    "## Timedelta"
   ]
  },
  {
   "cell_type": "markdown",
   "id": "c45a77f1-6348-4100-8e1b-ddd5b49e876e",
   "metadata": {},
   "source": [
    "1. 세션의 지속 시간을 분으로 계산하고 가장 긴 지속시간을 출력하시오(반올림 후 총 분만 출력)\n",
    "2. 가장 많이 머무른 Page를 찾고 그 페이지의 머문 평균 시간을 구하시오 (반올림 후 총 시간만 출력) \n",
    "3. 사용자들이 가장 활발히 활동하는 시간대(예: 새벽, 오전, 오후, 저녁)를 분석하세요. 이를 위해 하루를 4개의 시간대로 나누고 각 시간대별로 가장 많이 시작된 세션의 수를 계산하고, 그 중에 가장 많은 세션 수를 출력하시오\n",
    "    - 새벽: 0시 부터 6시 전\n",
    "    - 오전: 6시 부터 12시 전\n",
    "    - 오후: 12 부터 18시 전\n",
    "    - 저녁: 18시 부터 0시 전\n",
    "\n",
    "4. user가 가장 많이 접속 했던 날짜를 출력하시오. (예, 2023-02-17)"
   ]
  },
  {
   "cell_type": "code",
   "execution_count": 23,
   "id": "561ba448-1ba2-4a24-a2ba-c1344275f6af",
   "metadata": {
    "tags": []
   },
   "outputs": [
    {
     "name": "stdout",
     "output_type": "stream",
     "text": [
      "300\n"
     ]
    }
   ],
   "source": [
    "import pandas as pd\n",
    "df = pd.read_csv('data/website.csv')\n",
    "\n",
    "# 1번\n",
    "df['StartTime'] = pd.to_datetime(df['StartTime'])\n",
    "df['EndTime'] = pd.to_datetime(df['EndTime'])\n",
    "df['지속시간'] = df['EndTime']-df['StartTime']\n",
    "df['지속시간'] = df['지속시간'].dt.total_seconds()/60\n",
    "print(round(df['지속시간'].max()))"
   ]
  },
  {
   "cell_type": "code",
   "execution_count": 34,
   "id": "8daa7e22-5858-4ebc-b567-5670175d5b50",
   "metadata": {
    "tags": []
   },
   "outputs": [
    {
     "name": "stdout",
     "output_type": "stream",
     "text": [
      "0    Page5\n",
      "Name: Page, dtype: object\n"
     ]
    }
   ],
   "source": [
    "print(df['Page'].mode())\n",
    "temp = df[df['Page'] == \"Page5\"]\n",
    "print(round(temp['지속시간'].mean()/60))"
   ]
  },
  {
   "cell_type": "code",
   "execution_count": 50,
   "id": "654ac8f6-56b6-455f-a6fa-fddb8dc8f313",
   "metadata": {
    "tags": []
   },
   "outputs": [
    {
     "data": {
      "text/plain": [
       "0        8\n",
       "1       11\n",
       "2        3\n",
       "3       23\n",
       "4       11\n",
       "        ..\n",
       "9596     9\n",
       "9597     2\n",
       "9598    14\n",
       "9599     3\n",
       "9600    23\n",
       "Name: StartTime, Length: 9601, dtype: int64"
      ]
     },
     "execution_count": 50,
     "metadata": {},
     "output_type": "execute_result"
    }
   ],
   "source": [
    "df['StartTime'].dt.hour"
   ]
  },
  {
   "cell_type": "code",
   "execution_count": 52,
   "id": "bf49fc7e-49bc-4502-a06f-bed07868448d",
   "metadata": {
    "tags": []
   },
   "outputs": [],
   "source": [
    "#3번\n",
    "def hour_transform(hour):\n",
    "    if 0 <= hour < 6:\n",
    "        return \"새벽\"\n",
    "    elif 6 <= hour < 12:\n",
    "        return \"오전\"\n",
    "    elif 12 <= hour < 18:\n",
    "        return \"오후\"\n",
    "    else:\n",
    "        return \"저녁\""
   ]
  },
  {
   "cell_type": "code",
   "execution_count": 53,
   "id": "9407af0e-289c-4102-8cca-35434d399a14",
   "metadata": {
    "tags": []
   },
   "outputs": [],
   "source": [
    "df['hour'] = df['StartTime'].dt.hour.apply(hour_transform)"
   ]
  },
  {
   "cell_type": "code",
   "execution_count": 62,
   "id": "e9395830-0a7e-4e22-8c0a-1dd44cb36cc3",
   "metadata": {
    "tags": []
   },
   "outputs": [
    {
     "name": "stdout",
     "output_type": "stream",
     "text": [
      "가장 많은 세션 수: 2447\n"
     ]
    }
   ],
   "source": [
    "print(\"가장 많은 세션 수:\" , df['hour'].value_counts()[0])"
   ]
  },
  {
   "cell_type": "code",
   "execution_count": 74,
   "id": "67aa7b43-8b6f-45c7-a634-f8ab5a1586f4",
   "metadata": {
    "tags": []
   },
   "outputs": [
    {
     "name": "stdout",
     "output_type": "stream",
     "text": [
      "2023-03-28\n"
     ]
    }
   ],
   "source": [
    "# 4번. user가 가장 많이 접속 했던 날짜를 출력하시오. (예, 2023-02-17)\n",
    "result = df['StartTime'].dt.date.value_counts().index[0]\n",
    "print(result.strftime('%Y-%m-%d'))"
   ]
  }
 ],
 "metadata": {
  "kernelspec": {
   "display_name": "Python 3 (ipykernel)",
   "language": "python",
   "name": "python3"
  },
  "language_info": {
   "codemirror_mode": {
    "name": "ipython",
    "version": 3
   },
   "file_extension": ".py",
   "mimetype": "text/x-python",
   "name": "python",
   "nbconvert_exporter": "python",
   "pygments_lexer": "ipython3",
   "version": "3.11.4"
  }
 },
 "nbformat": 4,
 "nbformat_minor": 5
}
