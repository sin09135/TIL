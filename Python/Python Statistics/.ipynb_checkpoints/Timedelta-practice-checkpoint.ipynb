{
 "cells": [
  {
   "cell_type": "markdown",
   "id": "5fd7f196-42dc-4aa3-b0e2-d54e2a4ef589",
   "metadata": {},
   "source": [
    "## Timedelta"
   ]
  },
  {
   "cell_type": "markdown",
   "id": "c45a77f1-6348-4100-8e1b-ddd5b49e876e",
   "metadata": {},
   "source": [
    "1. 세션의 지속 시간을 분으로 계산하고 가장 긴 지속시간을 출력하시오(반올림 후 총 분만 출력)\n",
    "2. 가장 많이 머무른 Page를 찾고 그 페이지의 머문 평균 시간을 구하시오 (반올림 후 총 시간만 출력) \n",
    "3. 사용자들이 가장 활발히 활동하는 시간대(예: 새벽, 오전, 오후, 저녁)를 분석하세요. 이를 위해 하루를 4개의 시간대로 나누고 각 시간대별로 가장 많이 시작된 세션의 수를 계산하고, 그 중에 가장 많은 세션 수를 출력하시오\n",
    "    - 새벽: 0시 부터 6시 전\n",
    "    - 오전: 6시 부터 12시 전\n",
    "    - 오후: 12 부터 18시 전\n",
    "    - 저녁: 18시 부터 0시 전\n",
    "\n",
    "4. user가 가장 많이 접속 했던 날짜를 출력하시오. (예, 2023-02-17)"
   ]
  },
  {
   "cell_type": "code",
   "execution_count": 23,
   "id": "561ba448-1ba2-4a24-a2ba-c1344275f6af",
   "metadata": {
    "tags": []
   },
   "outputs": [
    {
     "name": "stdout",
     "output_type": "stream",
     "text": [
      "300\n"
     ]
    }
   ],
   "source": [
    "import pandas as pd\n",
    "df = pd.read_csv('data/website.csv')\n",
    "\n",
    "# 1번\n",
    "df['StartTime'] = pd.to_datetime(df['StartTime'])\n",
    "df['EndTime'] = pd.to_datetime(df['EndTime'])\n",
    "df['지속시간'] = df['EndTime']-df['StartTime']\n",
    "df['지속시간'] = df['지속시간'].dt.total_seconds()/60\n",
    "print(round(df['지속시간'].max()))"
   ]
  },
  {
   "cell_type": "code",
   "execution_count": 34,
   "id": "8daa7e22-5858-4ebc-b567-5670175d5b50",
   "metadata": {
    "tags": []
   },
   "outputs": [
    {
     "name": "stdout",
     "output_type": "stream",
     "text": [
      "0    Page5\n",
      "Name: Page, dtype: object\n"
     ]
    }
   ],
   "source": [
    "print(df['Page'].mode())\n",
    "temp = df[df['Page'] == \"Page5\"]\n",
    "print(round(temp['지속시간'].mean()/60))"
   ]
  },
  {
   "cell_type": "code",
   "execution_count": 50,
   "id": "654ac8f6-56b6-455f-a6fa-fddb8dc8f313",
   "metadata": {
    "tags": []
   },
   "outputs": [
    {
     "data": {
      "text/plain": [
       "0        8\n",
       "1       11\n",
       "2        3\n",
       "3       23\n",
       "4       11\n",
       "        ..\n",
       "9596     9\n",
       "9597     2\n",
       "9598    14\n",
       "9599     3\n",
       "9600    23\n",
       "Name: StartTime, Length: 9601, dtype: int64"
      ]
     },
     "execution_count": 50,
     "metadata": {},
     "output_type": "execute_result"
    }
   ],
   "source": [
    "df['StartTime'].dt.hour"
   ]
  },
  {
   "cell_type": "code",
   "execution_count": 52,
   "id": "bf49fc7e-49bc-4502-a06f-bed07868448d",
   "metadata": {
    "tags": []
   },
   "outputs": [],
   "source": [
    "# 3번\n",
    "def hour_transform(hour):\n",
    "    if 0 <= hour < 6:\n",
    "        return \"새벽\"\n",
    "    elif 6 <= hour < 12:\n",
    "        return \"오전\"\n",
    "    elif 12 <= hour < 18:\n",
    "        return \"오후\"\n",
    "    else:\n",
    "        return \"저녁\""
   ]
  },
  {
   "cell_type": "code",
   "execution_count": 53,
   "id": "9407af0e-289c-4102-8cca-35434d399a14",
   "metadata": {
    "tags": []
   },
   "outputs": [],
   "source": [
    "df['hour'] = df['StartTime'].dt.hour.apply(hour_transform)"
   ]
  },
  {
   "cell_type": "code",
   "execution_count": 62,
   "id": "e9395830-0a7e-4e22-8c0a-1dd44cb36cc3",
   "metadata": {
    "tags": []
   },
   "outputs": [
    {
     "name": "stdout",
     "output_type": "stream",
     "text": [
      "가장 많은 세션 수: 2447\n"
     ]
    }
   ],
   "source": [
    "print(\"가장 많은 세션 수:\",df['hour'].value_counts()[0])"
   ]
  },
  {
   "cell_type": "code",
   "execution_count": 74,
   "id": "67aa7b43-8b6f-45c7-a634-f8ab5a1586f4",
   "metadata": {
    "tags": []
   },
   "outputs": [
    {
     "name": "stdout",
     "output_type": "stream",
     "text": [
      "2023-03-28\n"
     ]
    }
   ],
   "source": [
    "# 4번 - user가 가장 많이 접속 했던 날짜를 출력하시오. \n",
    "result = df['StartTime'].dt.date.value_counts().index[0]\n",
    "print(result.strftime('%Y-%m-%d'))"
   ]
  },
  {
   "cell_type": "markdown",
   "id": "066d8307-da3f-4f50-b460-6ae9b9f3eff2",
   "metadata": {},
   "source": [
    "### T1-30\n",
    "- 12월 25일 결제 금액(price)은 12월 총 결제금액의 몇 %인가? (정수로 출력)"
   ]
  },
  {
   "cell_type": "code",
   "execution_count": 101,
   "id": "d8ca3d9b-f327-4b86-8572-ecb5b8bb5709",
   "metadata": {
    "tags": []
   },
   "outputs": [
    {
     "name": "stdout",
     "output_type": "stream",
     "text": [
      "<class 'pandas.core.frame.DataFrame'>\n",
      "RangeIndex: 13 entries, 0 to 12\n",
      "Data columns (total 4 columns):\n",
      " #   Column  Non-Null Count  Dtype \n",
      "---  ------  --------------  ----- \n",
      " 0   date    13 non-null     int64 \n",
      " 1   hour    13 non-null     int64 \n",
      " 2   menu    13 non-null     object\n",
      " 3   price   13 non-null     int64 \n",
      "dtypes: int64(3), object(1)\n",
      "memory usage: 548.0+ bytes\n",
      "None\n",
      "       date  hour   menu  price\n",
      "0  20221129    13   딸기라떼   4000\n",
      "1  20221130    12   카페라떼   3000\n",
      "2  20221201    14  바닐라라떼   3500\n",
      "3  20221201    16   초코라떼   3500\n",
      "4  20221202    17   모카라떼   3500\n"
     ]
    }
   ],
   "source": [
    "import pandas as pd\n",
    "df = pd.read_csv(\"data/payment.csv\")\n",
    "print(df.info())\n",
    "print(df.head())"
   ]
  },
  {
   "cell_type": "code",
   "execution_count": 114,
   "id": "2db6b835-4f06-4faa-9869-02fb210979fa",
   "metadata": {
    "tags": []
   },
   "outputs": [],
   "source": [
    "df['date'] = pd.to_datetime(df['date'], format = '%Y%m%d')"
   ]
  },
  {
   "cell_type": "code",
   "execution_count": 124,
   "id": "bc7ede74-587a-44c8-8929-61119da44756",
   "metadata": {
    "tags": []
   },
   "outputs": [],
   "source": [
    "december12 = df[(df['date'].dt.month == 12)]['price'].sum()"
   ]
  },
  {
   "cell_type": "code",
   "execution_count": 125,
   "id": "86ca0621-6bb1-4b4e-a4ba-062bf6dc735d",
   "metadata": {
    "tags": []
   },
   "outputs": [],
   "source": [
    "december1215 = df[(df['date'].dt.month == 12) & (df['date'].dt.day == 25)]['price'].sum()"
   ]
  },
  {
   "cell_type": "code",
   "execution_count": 128,
   "id": "92014b52-17b3-4631-a24c-14d015a8ea66",
   "metadata": {
    "tags": []
   },
   "outputs": [
    {
     "name": "stdout",
     "output_type": "stream",
     "text": [
      "26\n"
     ]
    }
   ],
   "source": [
    "decem = december1215/december12*100\n",
    "print(round(decem))"
   ]
  },
  {
   "cell_type": "markdown",
   "id": "7bc1c315-ff76-4d33-987d-f4dbdcc11baf",
   "metadata": {},
   "source": [
    "### 시계열 데이터2\n",
    "- 주어진 데이터에서 2022년 5월 주말과 평일의 sales컬럼 평균값 차이를 구하시오 (소수점 둘째자리까지 출력, 반올림)\n",
    "- 데이터셋 : basic2.csv"
   ]
  },
  {
   "cell_type": "code",
   "execution_count": 155,
   "id": "42cadca7-dc87-4270-800c-c079a4acbc1b",
   "metadata": {
    "tags": []
   },
   "outputs": [],
   "source": [
    "# 데이터 불러오기 (datatime컬럼 지정)\n",
    "df = pd.read_csv(\"data/basic2.csv\", parse_dates=['Date'])"
   ]
  },
  {
   "cell_type": "code",
   "execution_count": 156,
   "id": "95cac058-3bbe-4abb-a1be-05782ea04a7b",
   "metadata": {
    "tags": []
   },
   "outputs": [],
   "source": [
    "df['dayofweek'] = df['Date'].dt.dayofweek\n",
    "df['year'] = df['Date'].dt.year\n",
    "df['month'] = df['Date'].dt.month\n",
    "df['day'] = df['Date'].dt.day"
   ]
  },
  {
   "cell_type": "code",
   "execution_count": 157,
   "id": "55a1e271-8012-4ae5-af25-5072ac9d8063",
   "metadata": {
    "tags": []
   },
   "outputs": [],
   "source": [
    "df['weekend'] = df['dayofweek'].apply(lambda x:x>=5)"
   ]
  },
  {
   "cell_type": "code",
   "execution_count": 158,
   "id": "f58c5941-4d13-4ffe-8e70-4cea11b146aa",
   "metadata": {
    "tags": []
   },
   "outputs": [],
   "source": [
    "weekend = (df['year'] == 2022) & (df['month'] == 5) & (df['weekend'])\n",
    "weekday = (df['year'] == 2022) & (df['month'] == 5) & (~df['weekend'])"
   ]
  },
  {
   "cell_type": "code",
   "execution_count": 159,
   "id": "454fb137-194f-468e-bde7-443aef91ac84",
   "metadata": {
    "tags": []
   },
   "outputs": [],
   "source": [
    "weekend = df[weekend]['Sales'].mean()\n",
    "weekday = df[weekday]['Sales'].mean()"
   ]
  },
  {
   "cell_type": "code",
   "execution_count": 163,
   "id": "1f8f94ac-c364-43b0-bfb4-8c79381b97d3",
   "metadata": {
    "tags": []
   },
   "outputs": [
    {
     "name": "stdout",
     "output_type": "stream",
     "text": [
      "3010339.1\n"
     ]
    }
   ],
   "source": [
    "print(round(weekend - weekday,1))"
   ]
  },
  {
   "cell_type": "markdown",
   "id": "3e97f3b6-a42e-4677-a182-6ca087cf86db",
   "metadata": {},
   "source": [
    "### 시계열 데이터3\n",
    "- 주어진 데이터에서 2022년 월별 Sales 합계 중 가장 큰 금액과 2023년 월별 Sales 합계 중 가장 큰 금액의 차이를 절대값으로 구하시오. \n",
    "- 단 Events컬럼이 '1'인경우 80%의 Salse값만 반영함(최종값은 소수점 반올림 후 정수 출력)"
   ]
  },
  {
   "cell_type": "code",
   "execution_count": 194,
   "id": "ff9df207-0673-4c3d-b2d2-711b97067d51",
   "metadata": {
    "tags": []
   },
   "outputs": [],
   "source": [
    "df = pd.read_csv(\"data/basic2.csv\", parse_dates=['Date'])"
   ]
  },
  {
   "cell_type": "code",
   "execution_count": 195,
   "id": "2d85c033-b370-4161-ab9b-cbfbaf08eb18",
   "metadata": {
    "tags": []
   },
   "outputs": [
    {
     "name": "stdout",
     "output_type": "stream",
     "text": [
      "<class 'pandas.core.frame.DataFrame'>\n",
      "RangeIndex: 730 entries, 0 to 729\n",
      "Data columns (total 5 columns):\n",
      " #   Column  Non-Null Count  Dtype         \n",
      "---  ------  --------------  -----         \n",
      " 0   Date    730 non-null    datetime64[ns]\n",
      " 1   Sales   730 non-null    int64         \n",
      " 2   PV      730 non-null    int64         \n",
      " 3   UV      684 non-null    float64       \n",
      " 4   Events  730 non-null    int64         \n",
      "dtypes: datetime64[ns](1), float64(1), int64(3)\n",
      "memory usage: 28.6 KB\n",
      "None\n"
     ]
    }
   ],
   "source": [
    "print(df.info())"
   ]
  },
  {
   "cell_type": "code",
   "execution_count": 196,
   "id": "cb83cb9b-d503-4283-b79b-13c3b68b7d17",
   "metadata": {
    "tags": []
   },
   "outputs": [],
   "source": [
    "df['year'] = df['Date'].dt.year\n",
    "df['month'] = df['Date'].dt.month\n",
    "df['day'] = df['Date'].dt.day\n",
    "df['dateofweek'] = df['Date'].dt.dayofweek"
   ]
  },
  {
   "cell_type": "code",
   "execution_count": 197,
   "id": "3136683c-b0d4-408c-9acb-ff985c30a792",
   "metadata": {
    "tags": []
   },
   "outputs": [],
   "source": [
    "def new_sales(x):\n",
    "    if x['Events'] == 1:\n",
    "        x['Sales2'] = x['Sales']*0.8\n",
    "    else:\n",
    "        x['Sales2'] = x['Sales']\n",
    "    return x\n",
    "        "
   ]
  },
  {
   "cell_type": "code",
   "execution_count": 199,
   "id": "6d433875-825d-4640-b071-7e80c28f0a37",
   "metadata": {
    "tags": []
   },
   "outputs": [],
   "source": [
    "df = df.apply(lambda x: new_sales(x), axis = 1)"
   ]
  },
  {
   "cell_type": "code",
   "execution_count": 200,
   "id": "faf8a0e6-a1f7-4da9-8823-a81c7aeb8ae0",
   "metadata": {
    "tags": []
   },
   "outputs": [
    {
     "data": {
      "text/html": [
       "<div>\n",
       "<style scoped>\n",
       "    .dataframe tbody tr th:only-of-type {\n",
       "        vertical-align: middle;\n",
       "    }\n",
       "\n",
       "    .dataframe tbody tr th {\n",
       "        vertical-align: top;\n",
       "    }\n",
       "\n",
       "    .dataframe thead th {\n",
       "        text-align: right;\n",
       "    }\n",
       "</style>\n",
       "<table border=\"1\" class=\"dataframe\">\n",
       "  <thead>\n",
       "    <tr style=\"text-align: right;\">\n",
       "      <th></th>\n",
       "      <th>Date</th>\n",
       "      <th>Sales</th>\n",
       "      <th>PV</th>\n",
       "      <th>UV</th>\n",
       "      <th>Events</th>\n",
       "      <th>year</th>\n",
       "      <th>month</th>\n",
       "      <th>day</th>\n",
       "      <th>dateofweek</th>\n",
       "      <th>Sales2</th>\n",
       "    </tr>\n",
       "  </thead>\n",
       "  <tbody>\n",
       "    <tr>\n",
       "      <th>0</th>\n",
       "      <td>2022-01-01</td>\n",
       "      <td>22711525</td>\n",
       "      <td>397349</td>\n",
       "      <td>4421.0</td>\n",
       "      <td>1</td>\n",
       "      <td>2022</td>\n",
       "      <td>1</td>\n",
       "      <td>1</td>\n",
       "      <td>5</td>\n",
       "      <td>18169220.0</td>\n",
       "    </tr>\n",
       "    <tr>\n",
       "      <th>1</th>\n",
       "      <td>2022-01-02</td>\n",
       "      <td>36779</td>\n",
       "      <td>3969</td>\n",
       "      <td>2289.0</td>\n",
       "      <td>0</td>\n",
       "      <td>2022</td>\n",
       "      <td>1</td>\n",
       "      <td>2</td>\n",
       "      <td>6</td>\n",
       "      <td>36779.0</td>\n",
       "    </tr>\n",
       "    <tr>\n",
       "      <th>2</th>\n",
       "      <td>2022-01-03</td>\n",
       "      <td>13943875</td>\n",
       "      <td>373890</td>\n",
       "      <td>NaN</td>\n",
       "      <td>1</td>\n",
       "      <td>2022</td>\n",
       "      <td>1</td>\n",
       "      <td>3</td>\n",
       "      <td>0</td>\n",
       "      <td>11155100.0</td>\n",
       "    </tr>\n",
       "    <tr>\n",
       "      <th>3</th>\n",
       "      <td>2022-01-04</td>\n",
       "      <td>8088593</td>\n",
       "      <td>142054</td>\n",
       "      <td>2157.0</td>\n",
       "      <td>0</td>\n",
       "      <td>2022</td>\n",
       "      <td>1</td>\n",
       "      <td>4</td>\n",
       "      <td>1</td>\n",
       "      <td>8088593.0</td>\n",
       "    </tr>\n",
       "    <tr>\n",
       "      <th>4</th>\n",
       "      <td>2022-01-05</td>\n",
       "      <td>2395374</td>\n",
       "      <td>190684</td>\n",
       "      <td>NaN</td>\n",
       "      <td>0</td>\n",
       "      <td>2022</td>\n",
       "      <td>1</td>\n",
       "      <td>5</td>\n",
       "      <td>2</td>\n",
       "      <td>2395374.0</td>\n",
       "    </tr>\n",
       "    <tr>\n",
       "      <th>...</th>\n",
       "      <td>...</td>\n",
       "      <td>...</td>\n",
       "      <td>...</td>\n",
       "      <td>...</td>\n",
       "      <td>...</td>\n",
       "      <td>...</td>\n",
       "      <td>...</td>\n",
       "      <td>...</td>\n",
       "      <td>...</td>\n",
       "      <td>...</td>\n",
       "    </tr>\n",
       "    <tr>\n",
       "      <th>725</th>\n",
       "      <td>2023-12-27</td>\n",
       "      <td>33846609</td>\n",
       "      <td>415067</td>\n",
       "      <td>7360.0</td>\n",
       "      <td>1</td>\n",
       "      <td>2023</td>\n",
       "      <td>12</td>\n",
       "      <td>27</td>\n",
       "      <td>2</td>\n",
       "      <td>27077287.2</td>\n",
       "    </tr>\n",
       "    <tr>\n",
       "      <th>726</th>\n",
       "      <td>2023-12-28</td>\n",
       "      <td>3659566</td>\n",
       "      <td>208601</td>\n",
       "      <td>2262.0</td>\n",
       "      <td>1</td>\n",
       "      <td>2023</td>\n",
       "      <td>12</td>\n",
       "      <td>28</td>\n",
       "      <td>3</td>\n",
       "      <td>2927652.8</td>\n",
       "    </tr>\n",
       "    <tr>\n",
       "      <th>727</th>\n",
       "      <td>2023-12-29</td>\n",
       "      <td>1164008</td>\n",
       "      <td>14309</td>\n",
       "      <td>193.0</td>\n",
       "      <td>0</td>\n",
       "      <td>2023</td>\n",
       "      <td>12</td>\n",
       "      <td>29</td>\n",
       "      <td>4</td>\n",
       "      <td>1164008.0</td>\n",
       "    </tr>\n",
       "    <tr>\n",
       "      <th>728</th>\n",
       "      <td>2023-12-30</td>\n",
       "      <td>3977696</td>\n",
       "      <td>60935</td>\n",
       "      <td>NaN</td>\n",
       "      <td>0</td>\n",
       "      <td>2023</td>\n",
       "      <td>12</td>\n",
       "      <td>30</td>\n",
       "      <td>5</td>\n",
       "      <td>3977696.0</td>\n",
       "    </tr>\n",
       "    <tr>\n",
       "      <th>729</th>\n",
       "      <td>2023-12-31</td>\n",
       "      <td>3719764</td>\n",
       "      <td>60963</td>\n",
       "      <td>1507.0</td>\n",
       "      <td>0</td>\n",
       "      <td>2023</td>\n",
       "      <td>12</td>\n",
       "      <td>31</td>\n",
       "      <td>6</td>\n",
       "      <td>3719764.0</td>\n",
       "    </tr>\n",
       "  </tbody>\n",
       "</table>\n",
       "<p>730 rows × 10 columns</p>\n",
       "</div>"
      ],
      "text/plain": [
       "          Date     Sales      PV      UV  Events  year  month  day  \\\n",
       "0   2022-01-01  22711525  397349  4421.0       1  2022      1    1   \n",
       "1   2022-01-02     36779    3969  2289.0       0  2022      1    2   \n",
       "2   2022-01-03  13943875  373890     NaN       1  2022      1    3   \n",
       "3   2022-01-04   8088593  142054  2157.0       0  2022      1    4   \n",
       "4   2022-01-05   2395374  190684     NaN       0  2022      1    5   \n",
       "..         ...       ...     ...     ...     ...   ...    ...  ...   \n",
       "725 2023-12-27  33846609  415067  7360.0       1  2023     12   27   \n",
       "726 2023-12-28   3659566  208601  2262.0       1  2023     12   28   \n",
       "727 2023-12-29   1164008   14309   193.0       0  2023     12   29   \n",
       "728 2023-12-30   3977696   60935     NaN       0  2023     12   30   \n",
       "729 2023-12-31   3719764   60963  1507.0       0  2023     12   31   \n",
       "\n",
       "     dateofweek      Sales2  \n",
       "0             5  18169220.0  \n",
       "1             6     36779.0  \n",
       "2             0  11155100.0  \n",
       "3             1   8088593.0  \n",
       "4             2   2395374.0  \n",
       "..          ...         ...  \n",
       "725           2  27077287.2  \n",
       "726           3   2927652.8  \n",
       "727           4   1164008.0  \n",
       "728           5   3977696.0  \n",
       "729           6   3719764.0  \n",
       "\n",
       "[730 rows x 10 columns]"
      ]
     },
     "execution_count": 200,
     "metadata": {},
     "output_type": "execute_result"
    }
   ],
   "source": [
    "df"
   ]
  },
  {
   "cell_type": "markdown",
   "id": "37f5f697-580d-4c36-9632-413d9a390b1f",
   "metadata": {},
   "source": [
    "### 시계열 데이터 4\n",
    "- 주어진 데이터(basic2.csv)에서 주 단위 Sales의 합계를 구하고, 가장 큰 값을 가진 주와 작은 값을 가진 주의 차이를 구하시오(절대값)"
   ]
  },
  {
   "cell_type": "code",
   "execution_count": 202,
   "id": "90163136-f07b-40fb-85c0-d7e0e4f93286",
   "metadata": {
    "tags": []
   },
   "outputs": [
    {
     "name": "stdout",
     "output_type": "stream",
     "text": [
      "<class 'pandas.core.frame.DataFrame'>\n",
      "RangeIndex: 730 entries, 0 to 729\n",
      "Data columns (total 5 columns):\n",
      " #   Column  Non-Null Count  Dtype         \n",
      "---  ------  --------------  -----         \n",
      " 0   Date    730 non-null    datetime64[ns]\n",
      " 1   Sales   730 non-null    int64         \n",
      " 2   PV      730 non-null    int64         \n",
      " 3   UV      684 non-null    float64       \n",
      " 4   Events  730 non-null    int64         \n",
      "dtypes: datetime64[ns](1), float64(1), int64(3)\n",
      "memory usage: 28.6 KB\n",
      "None\n"
     ]
    }
   ],
   "source": [
    "df = pd.read_csv(\"data/basic2.csv\", parse_dates=['Date'])\n",
    "print(df.info())"
   ]
  },
  {
   "cell_type": "code",
   "execution_count": 204,
   "id": "7400f95d-0e04-4c13-bbb8-defe31896a6c",
   "metadata": {
    "tags": []
   },
   "outputs": [],
   "source": [
    "df.set_index('Date', inplace = True)"
   ]
  },
  {
   "cell_type": "code",
   "execution_count": 210,
   "id": "63f704d9-536e-468b-91c8-c9434ef102eb",
   "metadata": {
    "tags": []
   },
   "outputs": [],
   "source": [
    "dfw = df.resample('W').sum()"
   ]
  },
  {
   "cell_type": "code",
   "execution_count": 223,
   "id": "9a50d5a3-5bbd-4fc1-b179-5123503d0a4e",
   "metadata": {
    "tags": []
   },
   "outputs": [
    {
     "name": "stdout",
     "output_type": "stream",
     "text": [
      "91639050\n"
     ]
    }
   ],
   "source": [
    "print(abs(dfw['Sales'].max() - dfw['Sales'].min()))"
   ]
  },
  {
   "cell_type": "markdown",
   "id": "9de41780-394b-4614-b4ce-cddfa22ef1f2",
   "metadata": {
    "tags": []
   },
   "source": [
    "### 시계열 데이터 5\n",
    "- 주어진 데이터(basic2.csv)에서 \"pv\"컬럼으로 1일 시차(lag)가 있는 새로운 컬럼을 만들고(예: 1월 2일에는 1월 1일 pv데이터를 넣고, 1월 3일에는 1월 2일 pv데이터를 넣음),\n",
    "- 새로운 컬럼의 1월 1일은 다음날(1월 2일)데이터로 결측치를 채운 다음, \n",
    "- Events가 1이면서 Sales가 1000000이하인 조건에 맞는 새로운 컬럼 합을 구하시오"
   ]
  },
  {
   "cell_type": "code",
   "execution_count": 225,
   "id": "66bc9777-89cf-4cba-9169-2167ab992a64",
   "metadata": {
    "tags": []
   },
   "outputs": [
    {
     "name": "stdout",
     "output_type": "stream",
     "text": [
      "<class 'pandas.core.frame.DataFrame'>\n",
      "RangeIndex: 730 entries, 0 to 729\n",
      "Data columns (total 5 columns):\n",
      " #   Column  Non-Null Count  Dtype         \n",
      "---  ------  --------------  -----         \n",
      " 0   Date    730 non-null    datetime64[ns]\n",
      " 1   Sales   730 non-null    int64         \n",
      " 2   PV      730 non-null    int64         \n",
      " 3   UV      684 non-null    float64       \n",
      " 4   Events  730 non-null    int64         \n",
      "dtypes: datetime64[ns](1), float64(1), int64(3)\n",
      "memory usage: 28.6 KB\n",
      "None\n"
     ]
    }
   ],
   "source": [
    "df = pd.read_csv(\"data/basic2.csv\", parse_dates=['Date'])\n",
    "print(df.info())"
   ]
  },
  {
   "cell_type": "code",
   "execution_count": 228,
   "id": "68ea8f55-c4fd-4f39-973b-baff47605554",
   "metadata": {
    "tags": []
   },
   "outputs": [],
   "source": [
    "df['pv_1'] = df['PV'].shift(1)"
   ]
  },
  {
   "cell_type": "code",
   "execution_count": 231,
   "id": "924e3a03-38f6-4b73-a0d6-d6eca691d5ae",
   "metadata": {
    "tags": []
   },
   "outputs": [
    {
     "data": {
      "text/html": [
       "<div>\n",
       "<style scoped>\n",
       "    .dataframe tbody tr th:only-of-type {\n",
       "        vertical-align: middle;\n",
       "    }\n",
       "\n",
       "    .dataframe tbody tr th {\n",
       "        vertical-align: top;\n",
       "    }\n",
       "\n",
       "    .dataframe thead th {\n",
       "        text-align: right;\n",
       "    }\n",
       "</style>\n",
       "<table border=\"1\" class=\"dataframe\">\n",
       "  <thead>\n",
       "    <tr style=\"text-align: right;\">\n",
       "      <th></th>\n",
       "      <th>Date</th>\n",
       "      <th>Sales</th>\n",
       "      <th>PV</th>\n",
       "      <th>UV</th>\n",
       "      <th>Events</th>\n",
       "      <th>pv_1</th>\n",
       "    </tr>\n",
       "  </thead>\n",
       "  <tbody>\n",
       "    <tr>\n",
       "      <th>0</th>\n",
       "      <td>2022-01-01</td>\n",
       "      <td>22711525</td>\n",
       "      <td>397349</td>\n",
       "      <td>4421.0</td>\n",
       "      <td>1</td>\n",
       "      <td>NaN</td>\n",
       "    </tr>\n",
       "    <tr>\n",
       "      <th>1</th>\n",
       "      <td>2022-01-02</td>\n",
       "      <td>36779</td>\n",
       "      <td>3969</td>\n",
       "      <td>2289.0</td>\n",
       "      <td>0</td>\n",
       "      <td>397349.0</td>\n",
       "    </tr>\n",
       "    <tr>\n",
       "      <th>2</th>\n",
       "      <td>2022-01-03</td>\n",
       "      <td>13943875</td>\n",
       "      <td>373890</td>\n",
       "      <td>NaN</td>\n",
       "      <td>1</td>\n",
       "      <td>3969.0</td>\n",
       "    </tr>\n",
       "    <tr>\n",
       "      <th>3</th>\n",
       "      <td>2022-01-04</td>\n",
       "      <td>8088593</td>\n",
       "      <td>142054</td>\n",
       "      <td>2157.0</td>\n",
       "      <td>0</td>\n",
       "      <td>373890.0</td>\n",
       "    </tr>\n",
       "    <tr>\n",
       "      <th>4</th>\n",
       "      <td>2022-01-05</td>\n",
       "      <td>2395374</td>\n",
       "      <td>190684</td>\n",
       "      <td>NaN</td>\n",
       "      <td>0</td>\n",
       "      <td>142054.0</td>\n",
       "    </tr>\n",
       "  </tbody>\n",
       "</table>\n",
       "</div>"
      ],
      "text/plain": [
       "        Date     Sales      PV      UV  Events      pv_1\n",
       "0 2022-01-01  22711525  397349  4421.0       1       NaN\n",
       "1 2022-01-02     36779    3969  2289.0       0  397349.0\n",
       "2 2022-01-03  13943875  373890     NaN       1    3969.0\n",
       "3 2022-01-04   8088593  142054  2157.0       0  373890.0\n",
       "4 2022-01-05   2395374  190684     NaN       0  142054.0"
      ]
     },
     "execution_count": 231,
     "metadata": {},
     "output_type": "execute_result"
    }
   ],
   "source": [
    "df.head()"
   ]
  },
  {
   "cell_type": "code",
   "execution_count": 232,
   "id": "b0b5cfbe-2e88-4ad4-8989-1cf6d3749264",
   "metadata": {
    "tags": []
   },
   "outputs": [],
   "source": [
    "df['pv_1'].fillna(method = 'bfill', inplace = True)"
   ]
  },
  {
   "cell_type": "code",
   "execution_count": 233,
   "id": "4dff95c2-888f-4465-a702-42d019c2cf53",
   "metadata": {
    "tags": []
   },
   "outputs": [
    {
     "data": {
      "text/html": [
       "<div>\n",
       "<style scoped>\n",
       "    .dataframe tbody tr th:only-of-type {\n",
       "        vertical-align: middle;\n",
       "    }\n",
       "\n",
       "    .dataframe tbody tr th {\n",
       "        vertical-align: top;\n",
       "    }\n",
       "\n",
       "    .dataframe thead th {\n",
       "        text-align: right;\n",
       "    }\n",
       "</style>\n",
       "<table border=\"1\" class=\"dataframe\">\n",
       "  <thead>\n",
       "    <tr style=\"text-align: right;\">\n",
       "      <th></th>\n",
       "      <th>Date</th>\n",
       "      <th>Sales</th>\n",
       "      <th>PV</th>\n",
       "      <th>UV</th>\n",
       "      <th>Events</th>\n",
       "      <th>pv_1</th>\n",
       "    </tr>\n",
       "  </thead>\n",
       "  <tbody>\n",
       "    <tr>\n",
       "      <th>0</th>\n",
       "      <td>2022-01-01</td>\n",
       "      <td>22711525</td>\n",
       "      <td>397349</td>\n",
       "      <td>4421.0</td>\n",
       "      <td>1</td>\n",
       "      <td>397349.0</td>\n",
       "    </tr>\n",
       "    <tr>\n",
       "      <th>1</th>\n",
       "      <td>2022-01-02</td>\n",
       "      <td>36779</td>\n",
       "      <td>3969</td>\n",
       "      <td>2289.0</td>\n",
       "      <td>0</td>\n",
       "      <td>397349.0</td>\n",
       "    </tr>\n",
       "    <tr>\n",
       "      <th>2</th>\n",
       "      <td>2022-01-03</td>\n",
       "      <td>13943875</td>\n",
       "      <td>373890</td>\n",
       "      <td>NaN</td>\n",
       "      <td>1</td>\n",
       "      <td>3969.0</td>\n",
       "    </tr>\n",
       "    <tr>\n",
       "      <th>3</th>\n",
       "      <td>2022-01-04</td>\n",
       "      <td>8088593</td>\n",
       "      <td>142054</td>\n",
       "      <td>2157.0</td>\n",
       "      <td>0</td>\n",
       "      <td>373890.0</td>\n",
       "    </tr>\n",
       "    <tr>\n",
       "      <th>4</th>\n",
       "      <td>2022-01-05</td>\n",
       "      <td>2395374</td>\n",
       "      <td>190684</td>\n",
       "      <td>NaN</td>\n",
       "      <td>0</td>\n",
       "      <td>142054.0</td>\n",
       "    </tr>\n",
       "  </tbody>\n",
       "</table>\n",
       "</div>"
      ],
      "text/plain": [
       "        Date     Sales      PV      UV  Events      pv_1\n",
       "0 2022-01-01  22711525  397349  4421.0       1  397349.0\n",
       "1 2022-01-02     36779    3969  2289.0       0  397349.0\n",
       "2 2022-01-03  13943875  373890     NaN       1    3969.0\n",
       "3 2022-01-04   8088593  142054  2157.0       0  373890.0\n",
       "4 2022-01-05   2395374  190684     NaN       0  142054.0"
      ]
     },
     "execution_count": 233,
     "metadata": {},
     "output_type": "execute_result"
    }
   ],
   "source": [
    "df.head()"
   ]
  },
  {
   "cell_type": "code",
   "execution_count": null,
   "id": "48eda4ae-2b63-45f3-aa67-dc5f1fb1040b",
   "metadata": {},
   "outputs": [],
   "source": []
  }
 ],
 "metadata": {
  "kernelspec": {
   "display_name": "Python 3 (ipykernel)",
   "language": "python",
   "name": "python3"
  },
  "language_info": {
   "codemirror_mode": {
    "name": "ipython",
    "version": 3
   },
   "file_extension": ".py",
   "mimetype": "text/x-python",
   "name": "python",
   "nbconvert_exporter": "python",
   "pygments_lexer": "ipython3",
   "version": "3.11.4"
  }
 },
 "nbformat": 4,
 "nbformat_minor": 5
}
