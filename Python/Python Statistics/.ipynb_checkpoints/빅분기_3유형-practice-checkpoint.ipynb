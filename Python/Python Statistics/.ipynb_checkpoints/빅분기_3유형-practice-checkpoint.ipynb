{
 "cells": [
  {
   "cell_type": "markdown",
   "id": "ede5466c-943d-4a24-b09a-f233fee6fb2d",
   "metadata": {},
   "source": [
    "### 1. 다음은 22명의 학생들이 국어시험에서 받은 점수이다. 학생들의 평균이 75보다 크다고 할 수 있는가?"
   ]
  },
  {
   "cell_type": "markdown",
   "id": "d841bb95-2bfc-4be0-a225-acae41dfa3c3",
   "metadata": {},
   "source": [
    "- 귀무가설 : 평균 <= 65\n",
    "- 대립가설 : 평균 > 25"
   ]
  },
  {
   "cell_type": "code",
   "execution_count": 8,
   "id": "97b83709-259d-4a36-bb2c-16c1ddf99967",
   "metadata": {
    "tags": []
   },
   "outputs": [
    {
     "name": "stdout",
     "output_type": "stream",
     "text": [
      "귀무가설 기각\n"
     ]
    }
   ],
   "source": [
    "from scipy import stats\n",
    "\n",
    "alpha = 0.05\n",
    "\n",
    "# 데이터\n",
    "scores = [75, 80, 68, 72, 77, 82, 81, 79, 70, 74, 76, 78, 81, 73, 81, 78, 75, 72, 74, 79, 78, 79]\n",
    "\n",
    "results = stats.ttest_1samp(scores,alpha, alternative = 'greater')\n",
    "results.pvalue\n",
    "\n",
    "if results.pvalue < alpha:\n",
    "    print(\"귀무가설 기각\")\n",
    "else:\n",
    "    print(\"귀무가설을 기각할 수 없다.\")"
   ]
  },
  {
   "cell_type": "markdown",
   "id": "09a584dd-d943-4395-82a1-304987295569",
   "metadata": {},
   "source": [
    "### 2. 주어진 데이터는 고혈압 환자 치료 전후의 혈압니다. 해당 치료가 효과가 있는지 대응표본 t검정을 실시하시오."
   ]
  },
  {
   "cell_type": "code",
   "execution_count": 11,
   "id": "ac412f6d-ca6e-4951-82a5-de43ff5f2e28",
   "metadata": {
    "tags": []
   },
   "outputs": [
    {
     "name": "stdout",
     "output_type": "stream",
     "text": [
      "<class 'pandas.core.frame.DataFrame'>\n",
      "RangeIndex: 120 entries, 0 to 119\n",
      "Data columns (total 5 columns):\n",
      " #   Column   Non-Null Count  Dtype \n",
      "---  ------   --------------  ----- \n",
      " 0   Id       120 non-null    object\n",
      " 1   sex      120 non-null    object\n",
      " 2   age      120 non-null    int64 \n",
      " 3   bp_pre   120 non-null    int64 \n",
      " 4   bp_post  120 non-null    int64 \n",
      "dtypes: int64(3), object(2)\n",
      "memory usage: 4.8+ KB\n",
      "None\n"
     ]
    }
   ],
   "source": [
    "import pandas as pd\n",
    "from scipy import stats\n",
    "\n",
    "df = pd.read_csv(\"data/high_blood_pressure.csv\")\n",
    "print(df.info())"
   ]
  },
  {
   "cell_type": "code",
   "execution_count": 14,
   "id": "ecd59ac9-489a-4f51-8c2e-1d7a91264046",
   "metadata": {
    "tags": []
   },
   "outputs": [
    {
     "name": "stdout",
     "output_type": "stream",
     "text": [
      "-6.116666666666666 2\n"
     ]
    }
   ],
   "source": [
    "df['diff'] = df['bp_post'] - df['bp_pre']\n",
    "\n",
    "# 귀무가설 : df['diff'] >= 0\n",
    "# 대립가설 : df['diff'] < 0\n",
    "\n",
    "print(df['diff'].mean(),2)"
   ]
  },
  {
   "cell_type": "code",
   "execution_count": 17,
   "id": "f0c5f983-4770-4aad-a64c-cc7677d099e1",
   "metadata": {
    "tags": []
   },
   "outputs": [],
   "source": [
    "pv = stats.ttest_rel(df['bp_post'],df['bp_pre'],alternative = 'less').pvalue"
   ]
  },
  {
   "cell_type": "code",
   "execution_count": 18,
   "id": "4538a84e-655a-40ca-ac93-ffea5b0cf6f7",
   "metadata": {
    "tags": []
   },
   "outputs": [
    {
     "name": "stdout",
     "output_type": "stream",
     "text": [
      "귀무가설 기각\n"
     ]
    }
   ],
   "source": [
    "alpha = 0.05\n",
    "if pv < alpha:\n",
    "    print('귀무가설 기각')\n",
    "else:\n",
    "    print('귀무가설을 기각할 수 없음')"
   ]
  },
  {
   "cell_type": "markdown",
   "id": "b061ff9a-1073-4477-9335-27f54cf6739f",
   "metadata": {},
   "source": [
    "### 3. 어떤 특정 약물을 복용한 사람들의 평균 체온이 복용하지 않은 사람들의 평균 체온과 유의미하게 다른지 검정해보려고 한다\n",
    "- 귀무가설(H0) : 약물을 복용한 그룹과 복용하지 않은 그룹의 평균 체온은 유의미한 차이가 없다.\n",
    "- 대립가설(H1) : 약물을 복용한 그룹과 복용하지 않은 그룹의 평균 체온은 유의미한 차이가 있다.\n",
    "\n",
    "- 검정통계량, p-value, 검정결과를 출력하시오."
   ]
  },
  {
   "cell_type": "code",
   "execution_count": 28,
   "id": "0a373f6b-f189-4e5e-9ba2-b8e1f299c279",
   "metadata": {
    "tags": []
   },
   "outputs": [
    {
     "name": "stdout",
     "output_type": "stream",
     "text": [
      "검정통계량: 3.7964208654863336\n",
      "Pvalue: 0.001321891476703691\n",
      "기무가설 기각 > 유의미한 차이가 존재한다.\n"
     ]
    }
   ],
   "source": [
    "# 데이터 \n",
    "group1 = [36.8, 36.7, 37.1, 36.9, 37.2, 36.8, 36.9, 37.1, 36.7, 37.1] # 약물복용\n",
    "group2 = [36.5, 36.6, 36.3, 36.6, 36.9, 36.7, 36.7, 36.8, 36.5, 36.7] # 약물을 복용하지 않음\n",
    "\n",
    "import pandas as pd\n",
    "from scipy import stats\n",
    "\n",
    "result = stats.ttest_ind(group1, group2 , alternative = \"two-sided\")\n",
    "print(\"검정통계량:\",result.statistic)\n",
    "print(\"Pvalue:\", result.pvalue)\n",
    "\n",
    "if result.pvalue < 0.05:\n",
    "    print(\"기무가설 기각 > 유의미한 차이가 존재한다.\")\n",
    "else:\n",
    "    print(\"귀무가설을 기각할 수 없다.\")"
   ]
  },
  {
   "cell_type": "code",
   "execution_count": 23,
   "id": "ba4a67a8-cf68-419f-9fae-ad694637b144",
   "metadata": {
    "tags": []
   },
   "outputs": [],
   "source": [
    "from scipy import stats\n",
    "\n",
    "# print(help(stats.ttest_ind))"
   ]
  },
  {
   "cell_type": "markdown",
   "id": "7d37faf5-6ba3-4adc-80fa-8249e7165038",
   "metadata": {
    "tags": []
   },
   "source": [
    "### 4.세 가지 다른 교육 방법(A, B, C)을 사용하여 수험생들의 시험 성적을 개선시키는 효과를 평가하고자 한다. 30명의 학생들을 무작위로 세 그룹으로 배정하여 교육을 실시하였고, 시험을 보고 성적을 측정하였다.\n",
    "\n",
    "- 귀무가설(H0) : 세 그룹(A, B, C) 간의 평균 성적 차이가 없다\n",
    "- 대립가설(H1) : 세 그룹(A, B, C) 간의 평균 성적 차이가 있다.\n",
    "    - F값(소수 둘째자리), p-value(소수 여섯째자리), 검정결과를 출력하시오."
   ]
  },
  {
   "cell_type": "code",
   "execution_count": 37,
   "id": "fd1d7663-c620-4ee2-a921-93f60de44e16",
   "metadata": {
    "tags": []
   },
   "outputs": [
    {
     "name": "stdout",
     "output_type": "stream",
     "text": [
      "F통계량: 16.88\n",
      "pvalue: 1.8e-05\n",
      "귀무가설 기각\n"
     ]
    }
   ],
   "source": [
    "# 데이터\n",
    "groupA = [85, 92, 78, 88, 83, 90, 76, 84, 92, 87]\n",
    "groupB = [79, 69, 84, 78, 79, 83, 79, 81, 86, 88]\n",
    "groupC = [75, 68, 74, 65, 77, 72, 70, 73, 78, 75]\n",
    "\n",
    "import pandas as pd\n",
    "import numpy as np\n",
    "from scipy import stats\n",
    "\n",
    "result = stats.f_oneway(groupA, groupB, groupC)\n",
    "print(\"F통계량:\", round(result.statistic,2))\n",
    "print(\"pvalue:\" , round(result.pvalue,6))\n",
    "if result.pvalue < 0.05:\n",
    "    print(\"귀무가설 기각\")\n",
    "else:\n",
    "    print(\"귀무가설을 기각할 수 없다. 유의한 차이가 있다.\")"
   ]
  },
  {
   "cell_type": "markdown",
   "id": "6e4dc85b-6b1f-432e-8eb5-baee92680524",
   "metadata": {},
   "source": [
    "### 5. 정규성 검정 - Shapiro-Wilk 검정\n",
    "12명의 수험생이 빅데이터 분석기사 시험에서 받은 점수이다. Shapiro-Wilk 검정을 사용하여 데이터가 정규 분포를 따르는지 검증하시오."
   ]
  },
  {
   "cell_type": "code",
   "execution_count": 42,
   "id": "833d137c-d977-42ba-9f5d-d3a719d37b15",
   "metadata": {
    "tags": []
   },
   "outputs": [
    {
     "name": "stdout",
     "output_type": "stream",
     "text": [
      "ShapiroResult(statistic=0.9768089652061462, pvalue=0.9676492810249329)\n",
      "검정통계량: 0.9768089652061462\n",
      "Pvalue: 0.9676492810249329\n",
      "귀무가설을 기각할 수 없다. 데이터는 정규분포를 따른다.\n"
     ]
    }
   ],
   "source": [
    "data = [75, 83, 81, 92, 68, 77, 78, 80, 85, 95, 79, 89]\n",
    "from scipy import stats\n",
    "\n",
    "result = stats.shapiro(data)\n",
    "print(result)\n",
    "\n",
    "print(\"검정통계량:\",result.statistic)\n",
    "print(\"Pvalue:\",result.pvalue)\n",
    "\n",
    "if result.pvalue < 0.05:\n",
    "    print(\"귀무가설 기각\")\n",
    "else:\n",
    "    print(\"귀무가설을 기각할 수 없다. 데이터는 정규분포를 따른다.\")"
   ]
  },
  {
   "cell_type": "markdown",
   "id": "b126187b-6b69-4293-9822-a2dfcd8f4b25",
   "metadata": {},
   "source": [
    "### 6. 회귀모형(상관계수)\n",
    "iris에서 Sepal Length와 Sepal Width의 상관계수를 계산하고 소수 둘째자리까지 출력하시오."
   ]
  },
  {
   "cell_type": "code",
   "execution_count": 71,
   "id": "1fdf119e-1188-4387-9d6d-81a40c76c672",
   "metadata": {
    "tags": []
   },
   "outputs": [
    {
     "name": "stdout",
     "output_type": "stream",
     "text": [
      "-0.12\n"
     ]
    }
   ],
   "source": [
    "from sklearn.datasets import load_iris\n",
    "iris = load_iris()\n",
    "df = pd.DataFrame(iris.data, columns = iris.feature_names)\n",
    "df = df.loc[:,['sepal length (cm)','sepal width (cm)']]\n",
    "corr = df.corr()\n",
    "#print(corr)\n",
    "print(round(corr.loc['sepal length (cm)','sepal width (cm)'],2))"
   ]
  },
  {
   "cell_type": "markdown",
   "id": "90caab97-1119-486e-854a-52abe061257d",
   "metadata": {},
   "source": [
    "### 7. 카이제곱 - 독립성 검정\n",
    "- Gender, Survived 변수 간의 독립성 검정을 실시하였을 때, 카이제곱 통계량은?"
   ]
  },
  {
   "cell_type": "code",
   "execution_count": 86,
   "id": "84508b77-e5cd-4e7e-8b3c-6b536380386f",
   "metadata": {
    "tags": []
   },
   "outputs": [
    {
     "name": "stdout",
     "output_type": "stream",
     "text": [
      "260.717\n"
     ]
    }
   ],
   "source": [
    "from scipy.stats import chi2_contingency\n",
    "df = pd.read_csv('data/Titanic.csv')\n",
    "#print(df.info())\n",
    "table = pd.crosstab(df['Gender'],df['Survived'])\n",
    "result = chi2_contingency(table)\n",
    "print(round(result.statistic,3))"
   ]
  },
  {
   "cell_type": "markdown",
   "id": "41940fba-7595-4ea8-801e-7f104f827629",
   "metadata": {},
   "source": [
    "### 8. 로지스틱 회귀\n",
    "- Gender, SibSp,Parch, Fare 독립변수를 상ㅇ하여 로지스틱 회귀 모형을 실시하였을 때, Parch 변수의 계수값은?"
   ]
  },
  {
   "cell_type": "code",
   "execution_count": 94,
   "id": "a4adbf89-c9e9-45e0-a562-071a8616e6ff",
   "metadata": {
    "tags": []
   },
   "outputs": [
    {
     "name": "stdout",
     "output_type": "stream",
     "text": [
      "Optimization terminated successfully.\n",
      "         Current function value: 0.482065\n",
      "         Iterations 6\n",
      "                           Logit Regression Results                           \n",
      "==============================================================================\n",
      "Dep. Variable:               Survived   No. Observations:                  891\n",
      "Model:                          Logit   Df Residuals:                      886\n",
      "Method:                           MLE   Df Model:                            4\n",
      "Date:                Wed, 19 Jun 2024   Pseudo R-squ.:                  0.2761\n",
      "Time:                        16:35:41   Log-Likelihood:                -429.52\n",
      "converged:                       True   LL-Null:                       -593.33\n",
      "Covariance Type:            nonrobust   LLR p-value:                 1.192e-69\n",
      "==================================================================================\n",
      "                     coef    std err          z      P>|z|      [0.025      0.975]\n",
      "----------------------------------------------------------------------------------\n",
      "Intercept          0.9466      0.169      5.590      0.000       0.615       1.279\n",
      "Gender[T.male]    -2.6422      0.186    -14.197      0.000      -3.007      -2.277\n",
      "SibSp             -0.3539      0.098     -3.604      0.000      -0.546      -0.161\n",
      "Parch             -0.2007      0.112     -1.792      0.073      -0.420       0.019\n",
      "Fare               0.0147      0.003      5.553      0.000       0.010       0.020\n",
      "==================================================================================\n"
     ]
    }
   ],
   "source": [
    "from statsmodels.formula.api import logit\n",
    "\n",
    "result = logit(\"Survived ~ Gender + SibSp + Parch + Fare\", data = df).fit().summary()\n",
    "print(result)"
   ]
  },
  {
   "cell_type": "code",
   "execution_count": 93,
   "id": "3c730310-7110-405c-a3f4-19421c7cce89",
   "metadata": {
    "tags": []
   },
   "outputs": [
    {
     "name": "stdout",
     "output_type": "stream",
     "text": [
      "0.201\n"
     ]
    }
   ],
   "source": [
    "print(round(0.2007,3))"
   ]
  },
  {
   "cell_type": "markdown",
   "id": "042ea441-4dac-474c-aa33-fb46b8d5eab4",
   "metadata": {
    "tags": []
   },
   "source": [
    "- 오즈비 값은?"
   ]
  },
  {
   "cell_type": "code",
   "execution_count": 96,
   "id": "1630e7ca-6113-4da8-b633-8c6d18bf464c",
   "metadata": {
    "tags": []
   },
   "outputs": [
    {
     "name": "stdout",
     "output_type": "stream",
     "text": [
      "Optimization terminated successfully.\n",
      "         Current function value: 0.482065\n",
      "         Iterations 6\n"
     ]
    }
   ],
   "source": [
    "result1 = logit(\"Survived ~ Gender + SibSp + Parch + Fare\", data = df).fit().params"
   ]
  },
  {
   "cell_type": "code",
   "execution_count": 97,
   "id": "9cbf8b6a-9fed-469d-9848-aaf281462ce8",
   "metadata": {
    "tags": []
   },
   "outputs": [
    {
     "data": {
      "text/plain": [
       "Intercept         2.577024\n",
       "Gender[T.male]    0.071203\n",
       "SibSp             0.701951\n",
       "Parch             0.818139\n",
       "Fare              1.014794\n",
       "dtype: float64"
      ]
     },
     "execution_count": 97,
     "metadata": {},
     "output_type": "execute_result"
    }
   ],
   "source": [
    "np.exp(result1)"
   ]
  },
  {
   "cell_type": "code",
   "execution_count": 98,
   "id": "228ebf58-c9ef-45a9-a479-1db07e6cd09d",
   "metadata": {
    "tags": []
   },
   "outputs": [
    {
     "name": "stdout",
     "output_type": "stream",
     "text": [
      "0.702\n"
     ]
    }
   ],
   "source": [
    "print(0.702)"
   ]
  }
 ],
 "metadata": {
  "kernelspec": {
   "display_name": "Python 3 (ipykernel)",
   "language": "python",
   "name": "python3"
  },
  "language_info": {
   "codemirror_mode": {
    "name": "ipython",
    "version": 3
   },
   "file_extension": ".py",
   "mimetype": "text/x-python",
   "name": "python",
   "nbconvert_exporter": "python",
   "pygments_lexer": "ipython3",
   "version": "3.11.4"
  }
 },
 "nbformat": 4,
 "nbformat_minor": 5
}
