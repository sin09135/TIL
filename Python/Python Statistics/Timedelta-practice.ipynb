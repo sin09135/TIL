{
 "cells": [
  {
   "cell_type": "markdown",
   "id": "5fd7f196-42dc-4aa3-b0e2-d54e2a4ef589",
   "metadata": {},
   "source": [
    "## Timedelta"
   ]
  },
  {
   "cell_type": "markdown",
   "id": "c45a77f1-6348-4100-8e1b-ddd5b49e876e",
   "metadata": {},
   "source": [
    "1. 세션의 지속 시간을 분으로 계산하고 가장 긴 지속시간을 출력하시오(반올림 후 총 분만 출력)\n",
    "2. 가장 많이 머무른 Page를 찾고 그 페이지의 머문 평균 시간을 구하시오 (반올림 후 총 시간만 출력) \n",
    "3. 사용자들이 가장 활발히 활동하는 시간대(예: 새벽, 오전, 오후, 저녁)를 분석하세요. 이를 위해 하루를 4개의 시간대로 나누고 각 시간대별로 가장 많이 시작된 세션의 수를 계산하고, 그 중에 가장 많은 세션 수를 출력하시오\n",
    "    - 새벽: 0시 부터 6시 전\n",
    "    - 오전: 6시 부터 12시 전\n",
    "    - 오후: 12 부터 18시 전\n",
    "    - 저녁: 18시 부터 0시 전\n",
    "\n",
    "4. user가 가장 많이 접속 했던 날짜를 출력하시오. (예, 2023-02-17)"
   ]
  },
  {
   "cell_type": "code",
   "execution_count": 90,
   "id": "561ba448-1ba2-4a24-a2ba-c1344275f6af",
   "metadata": {
    "tags": []
   },
   "outputs": [
    {
     "name": "stdout",
     "output_type": "stream",
     "text": [
      "세션의 평균 지속시간: 300\n",
      "가장 많이 머무른 페이지: Page5\n",
      "페이지에 머문 평균시간 : 3\n",
      "가장 많은 세션 수: 2447\n",
      "가장많이 접속했던 날짜: 2023-03-28\n"
     ]
    }
   ],
   "source": [
    "import pandas as pd\n",
    "df = pd.read_csv('data/website.csv')\n",
    "#print(df.info())\n",
    "\n",
    "# 1번\n",
    "df['StartTime'] = pd.to_datetime(df['StartTime'])\n",
    "df['EndTime'] = pd.to_datetime(df['EndTime'])\n",
    "df['Duration'] = df['EndTime'] - df['StartTime']\n",
    "df['Duration_m'] = df['Duration'].dt.seconds/60\n",
    "print(\"세션의 평균 지속시간:\" , round(df['Duration_m'].max()))\n",
    "\n",
    "# 2번\n",
    "print(\"가장 많이 머무른 페이지:\",df['Page'].max())\n",
    "df['Duration_h'] = df[df['Page'] == 'Page5']['Duration_m']/60\n",
    "mean_d = df['Duration_h'].mean()\n",
    "print(\"페이지에 머문 평균시간 :\", round(mean_d))\n",
    "\n",
    "# 3번\n",
    "def time_binning(hour):\n",
    "    if 0 <= hour < 6:\n",
    "        return \"새벽\"\n",
    "    elif 6 <= hour < 12:\n",
    "        return \"오전\"\n",
    "    elif 12 <= hour < 18:\n",
    "        return \"오후\"\n",
    "    else:\n",
    "        return \"저녁\"\n",
    "    \n",
    "df['구분'] = df['StartTime'].dt.hour.apply(time_binning)\n",
    "print(\"가장 많은 세션 수:\",df['구분'].value_counts()[0])\n",
    "\n",
    "# 4번 . user가 가장 많이 접속했던 날짜를 구하시오.\n",
    "print(\"가장많이 접속했던 날짜:\", df['StartTime'].dt.date.value_counts().index[0])"
   ]
  },
  {
   "cell_type": "markdown",
   "id": "066d8307-da3f-4f50-b460-6ae9b9f3eff2",
   "metadata": {},
   "source": [
    "### T1-30\n",
    "- 12월 25일 결제 금액(price)은 12월 총 결제금액의 몇 %인가? (정수로 출력)"
   ]
  },
  {
   "cell_type": "code",
   "execution_count": 62,
   "id": "d8ca3d9b-f327-4b86-8572-ecb5b8bb5709",
   "metadata": {
    "tags": []
   },
   "outputs": [
    {
     "name": "stdout",
     "output_type": "stream",
     "text": [
      "26\n"
     ]
    }
   ],
   "source": [
    "import pandas as pd\n",
    "df = pd.read_csv(\"data/payment.csv\")\n",
    "#print(df.info())\n",
    "#print(df.head())\n",
    "df['date'] = pd.to_datetime(df['date'],format = '%Y%m%d')\n",
    "sum_12 = df[df['date'].dt.month == 12]['price'].sum()\n",
    "sum_1225 = df[(df['date'].dt.month == 12) & (df['date'].dt.day == 25)]['price'].sum()\n",
    "print(round(sum_1225/sum_12*100))"
   ]
  },
  {
   "cell_type": "markdown",
   "id": "7bc1c315-ff76-4d33-987d-f4dbdcc11baf",
   "metadata": {},
   "source": [
    "### 시계열 데이터2\n",
    "- 주어진 데이터에서 2022년 5월 주말과 평일의 sales컬럼 평균값 차이를 구하시오 (소수점 둘째자리까지 출력, 반올림)\n",
    "- 데이터셋 : basic2.csv"
   ]
  },
  {
   "cell_type": "code",
   "execution_count": 130,
   "id": "42cadca7-dc87-4270-800c-c079a4acbc1b",
   "metadata": {
    "tags": []
   },
   "outputs": [
    {
     "name": "stdout",
     "output_type": "stream",
     "text": [
      "3010339.1\n"
     ]
    }
   ],
   "source": [
    "# 데이터 불러오기 (datatime컬럼 지정)\n",
    "df = pd.read_csv(\"data/basic2.csv\", parse_dates=['Date'])\n",
    "#print(df.info())\n",
    "df['Date_num'] = df['Date'].dt.dayofweek\n",
    "df = df[(df['Date'].dt.year == 2022) & (df['Date'].dt.month == 5)]\n",
    "#print(df['Weekend'].value_counts())\n",
    "df['Weekend'] = df['Date_num'].apply(lambda x: x>= 5)\n",
    "\n",
    "weekend_sales = df[df['Weekend'] == True]['Sales'].mean()\n",
    "weekday_sales = df[df['Weekend'] == False]['Sales'].mean()\n",
    "print(round(weekend_sales - weekday_sales,2))"
   ]
  },
  {
   "cell_type": "markdown",
   "id": "3e97f3b6-a42e-4677-a182-6ca087cf86db",
   "metadata": {},
   "source": [
    "### 시계열 데이터3\n",
    "- 주어진 데이터에서 2022년 월별 Sales 합계 중 가장 큰 금액과 2023년 월별 Sales 합계 중 가장 큰 금액의 차이를 절대값으로 구하시오. \n",
    "- 단 Events컬럼이 '1'인경우 80%의 Salse값만 반영함(최종값은 소수점 반올림 후 정수 출력)"
   ]
  },
  {
   "cell_type": "code",
   "execution_count": 156,
   "id": "ff9df207-0673-4c3d-b2d2-711b97067d51",
   "metadata": {
    "tags": []
   },
   "outputs": [
    {
     "name": "stdout",
     "output_type": "stream",
     "text": [
      "<class 'pandas.core.frame.DataFrame'>\n",
      "RangeIndex: 730 entries, 0 to 729\n",
      "Data columns (total 8 columns):\n",
      " #   Column  Non-Null Count  Dtype         \n",
      "---  ------  --------------  -----         \n",
      " 0   Date    730 non-null    datetime64[ns]\n",
      " 1   Sales   730 non-null    int64         \n",
      " 2   PV      730 non-null    int64         \n",
      " 3   UV      684 non-null    float64       \n",
      " 4   Events  730 non-null    int64         \n",
      " 5   year    730 non-null    int64         \n",
      " 6   month   730 non-null    int64         \n",
      " 7   Sales2  730 non-null    float64       \n",
      "dtypes: datetime64[ns](1), float64(2), int64(5)\n",
      "memory usage: 45.8 KB\n",
      "None\n"
     ]
    }
   ],
   "source": [
    "df = pd.read_csv(\"data/basic2.csv\", parse_dates=['Date'])\n",
    "#print(df.head())\n",
    "#print(df.info())\n",
    "\n",
    "df['year'] = df['Date'].dt.year\n",
    "df['month'] = df['Date'].dt.month\n",
    "\n",
    "\n",
    "def sales_transform(x):\n",
    "    if x['Events'] == 1:\n",
    "        x['Sales2'] = x['Sales']\n",
    "    else:\n",
    "        x['Sales2'] = x['Sales']*0.8\n",
    "    return x\n",
    "df = df.apply(lambda x:sales_transform(x), axis = 1)\n",
    "print(df.info())"
   ]
  },
  {
   "cell_type": "code",
   "execution_count": null,
   "id": "2d85c033-b370-4161-ab9b-cbfbaf08eb18",
   "metadata": {
    "tags": []
   },
   "outputs": [],
   "source": []
  },
  {
   "cell_type": "code",
   "execution_count": null,
   "id": "cb83cb9b-d503-4283-b79b-13c3b68b7d17",
   "metadata": {
    "tags": []
   },
   "outputs": [],
   "source": []
  },
  {
   "cell_type": "code",
   "execution_count": null,
   "id": "3136683c-b0d4-408c-9acb-ff985c30a792",
   "metadata": {
    "tags": []
   },
   "outputs": [],
   "source": []
  },
  {
   "cell_type": "code",
   "execution_count": null,
   "id": "6d433875-825d-4640-b071-7e80c28f0a37",
   "metadata": {
    "tags": []
   },
   "outputs": [],
   "source": []
  },
  {
   "cell_type": "code",
   "execution_count": null,
   "id": "faf8a0e6-a1f7-4da9-8823-a81c7aeb8ae0",
   "metadata": {
    "tags": []
   },
   "outputs": [],
   "source": []
  },
  {
   "cell_type": "markdown",
   "id": "37f5f697-580d-4c36-9632-413d9a390b1f",
   "metadata": {},
   "source": [
    "### 시계열 데이터 4\n",
    "- 주어진 데이터(basic2.csv)에서 주 단위 Sales의 합계를 구하고, 가장 큰 값을 가진 주와 작은 값을 가진 주의 차이를 구하시오(절대값)"
   ]
  },
  {
   "cell_type": "code",
   "execution_count": 5,
   "id": "90163136-f07b-40fb-85c0-d7e0e4f93286",
   "metadata": {
    "tags": []
   },
   "outputs": [
    {
     "name": "stdout",
     "output_type": "stream",
     "text": [
      "<class 'pandas.core.frame.DataFrame'>\n",
      "RangeIndex: 730 entries, 0 to 729\n",
      "Data columns (total 5 columns):\n",
      " #   Column  Non-Null Count  Dtype         \n",
      "---  ------  --------------  -----         \n",
      " 0   Date    730 non-null    datetime64[ns]\n",
      " 1   Sales   730 non-null    int64         \n",
      " 2   PV      730 non-null    int64         \n",
      " 3   UV      684 non-null    float64       \n",
      " 4   Events  730 non-null    int64         \n",
      "dtypes: datetime64[ns](1), float64(1), int64(3)\n",
      "memory usage: 28.6 KB\n",
      "None\n"
     ]
    }
   ],
   "source": [
    "df = pd.read_csv(\"data/basic2.csv\", parse_dates=['Date'])\n",
    "print(df.info())"
   ]
  },
  {
   "cell_type": "code",
   "execution_count": null,
   "id": "7400f95d-0e04-4c13-bbb8-defe31896a6c",
   "metadata": {
    "tags": []
   },
   "outputs": [],
   "source": []
  },
  {
   "cell_type": "code",
   "execution_count": null,
   "id": "63f704d9-536e-468b-91c8-c9434ef102eb",
   "metadata": {
    "tags": []
   },
   "outputs": [],
   "source": []
  },
  {
   "cell_type": "code",
   "execution_count": null,
   "id": "9a50d5a3-5bbd-4fc1-b179-5123503d0a4e",
   "metadata": {
    "tags": []
   },
   "outputs": [],
   "source": []
  },
  {
   "cell_type": "markdown",
   "id": "9de41780-394b-4614-b4ce-cddfa22ef1f2",
   "metadata": {
    "tags": []
   },
   "source": [
    "### 시계열 데이터 5\n",
    "- 주어진 데이터(basic2.csv)에서 \"pv\"컬럼으로 1일 시차(lag)가 있는 새로운 컬럼을 만들고(예: 1월 2일에는 1월 1일 pv데이터를 넣고, 1월 3일에는 1월 2일 pv데이터를 넣음),\n",
    "- 새로운 컬럼의 1월 1일은 다음날(1월 2일)데이터로 결측치를 채운 다음, \n",
    "- Events가 1이면서 Sales가 1000000이하인 조건에 맞는 새로운 컬럼 합을 구하시오"
   ]
  },
  {
   "cell_type": "code",
   "execution_count": 6,
   "id": "66bc9777-89cf-4cba-9169-2167ab992a64",
   "metadata": {
    "tags": []
   },
   "outputs": [
    {
     "name": "stdout",
     "output_type": "stream",
     "text": [
      "<class 'pandas.core.frame.DataFrame'>\n",
      "RangeIndex: 730 entries, 0 to 729\n",
      "Data columns (total 5 columns):\n",
      " #   Column  Non-Null Count  Dtype         \n",
      "---  ------  --------------  -----         \n",
      " 0   Date    730 non-null    datetime64[ns]\n",
      " 1   Sales   730 non-null    int64         \n",
      " 2   PV      730 non-null    int64         \n",
      " 3   UV      684 non-null    float64       \n",
      " 4   Events  730 non-null    int64         \n",
      "dtypes: datetime64[ns](1), float64(1), int64(3)\n",
      "memory usage: 28.6 KB\n",
      "None\n"
     ]
    }
   ],
   "source": [
    "df = pd.read_csv(\"data/basic2.csv\", parse_dates=['Date'])\n",
    "print(df.info())"
   ]
  },
  {
   "cell_type": "code",
   "execution_count": null,
   "id": "68ea8f55-c4fd-4f39-973b-baff47605554",
   "metadata": {
    "tags": []
   },
   "outputs": [],
   "source": []
  },
  {
   "cell_type": "code",
   "execution_count": null,
   "id": "924e3a03-38f6-4b73-a0d6-d6eca691d5ae",
   "metadata": {
    "tags": []
   },
   "outputs": [],
   "source": []
  },
  {
   "cell_type": "code",
   "execution_count": null,
   "id": "b0b5cfbe-2e88-4ad4-8989-1cf6d3749264",
   "metadata": {
    "tags": []
   },
   "outputs": [],
   "source": []
  },
  {
   "cell_type": "code",
   "execution_count": null,
   "id": "4dff95c2-888f-4465-a702-42d019c2cf53",
   "metadata": {
    "tags": []
   },
   "outputs": [],
   "source": []
  },
  {
   "cell_type": "code",
   "execution_count": null,
   "id": "48eda4ae-2b63-45f3-aa67-dc5f1fb1040b",
   "metadata": {},
   "outputs": [],
   "source": []
  }
 ],
 "metadata": {
  "kernelspec": {
   "display_name": "Python 3 (ipykernel)",
   "language": "python",
   "name": "python3"
  },
  "language_info": {
   "codemirror_mode": {
    "name": "ipython",
    "version": 3
   },
   "file_extension": ".py",
   "mimetype": "text/x-python",
   "name": "python",
   "nbconvert_exporter": "python",
   "pygments_lexer": "ipython3",
   "version": "3.11.4"
  }
 },
 "nbformat": 4,
 "nbformat_minor": 5
}
