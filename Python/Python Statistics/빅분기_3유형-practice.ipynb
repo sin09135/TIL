{
 "cells": [
  {
   "cell_type": "markdown",
   "id": "ede5466c-943d-4a24-b09a-f233fee6fb2d",
   "metadata": {},
   "source": [
    "### 1. 다음은 22명의 학생들이 국어시험에서 받은 점수이다. 학생들의 평균이 75보다 크다고 할 수 있는가?"
   ]
  },
  {
   "cell_type": "markdown",
   "id": "d841bb95-2bfc-4be0-a225-acae41dfa3c3",
   "metadata": {},
   "source": [
    "- 귀무가설 : 평균 <= 75\n",
    "- 대립가설 : 평균 > 75"
   ]
  },
  {
   "cell_type": "code",
   "execution_count": 48,
   "id": "97b83709-259d-4a36-bb2c-16c1ddf99967",
   "metadata": {
    "tags": []
   },
   "outputs": [
    {
     "name": "stdout",
     "output_type": "stream",
     "text": [
      "0.04597614747709146\n",
      "귀무가설 기각, 학생들의 평균은 75점보다 크다고 할 수 있음\n"
     ]
    }
   ],
   "source": [
    "# 데이터\n",
    "scores = [75, 80, 68, 72, 77, 82, 81, 79, 70, 74, 76, 78, 81, 73, 81, 78, 75, 72, 74, 79, 78, 79]\n",
    "\n",
    "from scipy import stats\n",
    "\n",
    "exp = 75\n",
    "#print(help(stats.ttest_1samp))\n",
    "result = stats.ttest_1samp(scores, exp, alternative = 'greater')\n",
    "print(result.pvalue)\n",
    "\n",
    "if result.pvalue < 0.05:\n",
    "    print(\"귀무가설 기각, 학생들의 평균은 75점보다 크다고 할 수 있음\")\n",
    "else:\n",
    "    print(\"귀무가설 기각할 수 없음\")"
   ]
  },
  {
   "cell_type": "markdown",
   "id": "09a584dd-d943-4395-82a1-304987295569",
   "metadata": {},
   "source": [
    "### 2. 주어진 데이터는 고혈압 환자 치료 전후의 혈압니다. 해당 치료가 효과가 있는지 대응표본 t검정을 실시하시오."
   ]
  },
  {
   "cell_type": "code",
   "execution_count": 55,
   "id": "ac412f6d-ca6e-4951-82a5-de43ff5f2e28",
   "metadata": {
    "tags": []
   },
   "outputs": [
    {
     "name": "stdout",
     "output_type": "stream",
     "text": [
      "0.0016434474228511028\n",
      "귀무가설 기각,효과 있음\n"
     ]
    }
   ],
   "source": [
    "import pandas as pd\n",
    "df = pd.read_csv(\"data/high_blood_pressure.csv\")\n",
    "\n",
    "#가설설정\n",
    "# 귀무 : diff >= 0\n",
    "# 대립 : diff < 0\n",
    "#print(df.info())\n",
    "df['diff'] = df['bp_post'] - df['bp_pre']\n",
    "\n",
    "from scipy import stats\n",
    "result = stats.ttest_rel(df['bp_post'], df['bp_pre'], alternative = 'less')\n",
    "print(result.pvalue)\n",
    "\n",
    "if result.pvalue < 0.05:\n",
    "    print(\"귀무가설 기각,효과 있음\")\n",
    "else:\n",
    "    print(\"귀무가설 기각할 수 없음\")"
   ]
  },
  {
   "cell_type": "markdown",
   "id": "b061ff9a-1073-4477-9335-27f54cf6739f",
   "metadata": {},
   "source": [
    "### 3. 어떤 특정 약물을 복용한 사람들의 평균 체온이 복용하지 않은 사람들의 평균 체온과 유의미하게 다른지 검정해보려고 한다\n",
    "- 귀무가설(H0) : 약물을 복용한 그룹과 복용하지 않은 그룹의 평균 체온은 유의미한 차이가 없다.\n",
    "- 대립가설(H1) : 약물을 복용한 그룹과 복용하지 않은 그룹의 평균 체온은 유의미한 차이가 있다.\n",
    "\n",
    "- 검정통계량, p-value, 검정결과를 출력하시오."
   ]
  },
  {
   "cell_type": "code",
   "execution_count": 60,
   "id": "0a373f6b-f189-4e5e-9ba2-b8e1f299c279",
   "metadata": {
    "tags": []
   },
   "outputs": [
    {
     "name": "stdout",
     "output_type": "stream",
     "text": [
      "3.7964208654863336\n",
      "귀무가설 기각,두 집단의 평균체온이 유의미하게 다름\n"
     ]
    }
   ],
   "source": [
    "# 데이터 \n",
    "group1 = [36.8, 36.7, 37.1, 36.9, 37.2, 36.8, 36.9, 37.1, 36.7, 37.1] # 약물복용\n",
    "group2 = [36.5, 36.6, 36.3, 36.6, 36.9, 36.7, 36.7, 36.8, 36.5, 36.7] # 약물을 복용하지 않음\n",
    "\n",
    "import pandas as pd\n",
    "from scipy import stats\n",
    "result = stats.ttest_ind(group1, group2)\n",
    "print(result.statistic)\n",
    "\n",
    "if result.pvalue < 0.05:\n",
    "    print(\"귀무가설 기각,두 집단의 평균체온이 유의미하게 다름\")\n",
    "else:\n",
    "    print(\"귀무가설 기각할 수 없음\")"
   ]
  },
  {
   "cell_type": "markdown",
   "id": "7d37faf5-6ba3-4adc-80fa-8249e7165038",
   "metadata": {
    "tags": []
   },
   "source": [
    "### 4.세 가지 다른 교육 방법(A, B, C)을 사용하여 수험생들의 시험 성적을 개선시키는 효과를 평가하고자 한다. 30명의 학생들을 무작위로 세 그룹으로 배정하여 교육을 실시하였고, 시험을 보고 성적을 측정하였다.\n",
    "\n",
    "- 귀무가설(H0) : 세 그룹(A, B, C) 간의 평균 성적 차이가 없다\n",
    "- 대립가설(H1) : 세 그룹(A, B, C) 간의 평균 성적 차이가 있다.\n",
    "    - F값(소수 둘째자리), p-value(소수 여섯째자리), 검정결과를 출력하시오."
   ]
  },
  {
   "cell_type": "code",
   "execution_count": 63,
   "id": "fd1d7663-c620-4ee2-a921-93f60de44e16",
   "metadata": {
    "tags": []
   },
   "outputs": [
    {
     "name": "stdout",
     "output_type": "stream",
     "text": [
      "16.88\n",
      "1.8e-05\n",
      "귀무가설 기각,평균 성적에 차이가 있아.\n"
     ]
    }
   ],
   "source": [
    "# 데이터\n",
    "groupA = [85, 92, 78, 88, 83, 90, 76, 84, 92, 87]\n",
    "groupB = [79, 69, 84, 78, 79, 83, 79, 81, 86, 88]\n",
    "groupC = [75, 68, 74, 65, 77, 72, 70, 73, 78, 75]\n",
    "\n",
    "from scipy import stats\n",
    "result = stats.f_oneway(groupA, groupB, groupC)\n",
    "print(round(result.statistic,2))\n",
    "print(round(result.pvalue,6))\n",
    "if result.pvalue < 0.05:\n",
    "    print(\"귀무가설 기각,평균 성적에 차이가 있아.\")\n",
    "else:\n",
    "    print(\"귀무가설 기각할 수 없음\")"
   ]
  },
  {
   "cell_type": "markdown",
   "id": "6e4dc85b-6b1f-432e-8eb5-baee92680524",
   "metadata": {},
   "source": [
    "### 5. 정규성 검정 - Shapiro-Wilk 검정\n",
    "12명의 수험생이 빅데이터 분석기사 시험에서 받은 점수이다. Shapiro-Wilk 검정을 사용하여 데이터가 정규 분포를 따르는지 검증하시오."
   ]
  },
  {
   "cell_type": "code",
   "execution_count": 65,
   "id": "833d137c-d977-42ba-9f5d-d3a719d37b15",
   "metadata": {
    "tags": []
   },
   "outputs": [
    {
     "name": "stdout",
     "output_type": "stream",
     "text": [
      "ShapiroResult(statistic=0.9768089652061462, pvalue=0.9676492810249329)\n"
     ]
    }
   ],
   "source": [
    "data = [75, 83, 81, 92, 68, 77, 78, 80, 85, 95, 79, 89]\n",
    "\n",
    "from scipy import stats\n",
    "\n",
    "result = stats.shapiro(data)\n",
    "print(result)"
   ]
  },
  {
   "cell_type": "markdown",
   "id": "b126187b-6b69-4293-9822-a2dfcd8f4b25",
   "metadata": {},
   "source": [
    "### 6. 회귀모형(상관계수)\n",
    "iris에서 Sepal Length와 Sepal Width의 상관계수를 계산하고 소수 둘째자리까지 출력하시오."
   ]
  },
  {
   "cell_type": "code",
   "execution_count": 22,
   "id": "1fdf119e-1188-4387-9d6d-81a40c76c672",
   "metadata": {
    "tags": []
   },
   "outputs": [
    {
     "name": "stdout",
     "output_type": "stream",
     "text": [
      "-0.12\n"
     ]
    }
   ],
   "source": [
    "import pandas as pd\n",
    "from sklearn.datasets import load_iris\n",
    "\n",
    "iris = load_iris()\n",
    "df = pd.DataFrame(iris.data, columns = iris.feature_names)\n",
    "df = df[['sepal length (cm)','sepal width (cm)']]\n",
    "\n",
    "corr = df.corr()\n",
    "print(round(corr.loc['sepal length (cm)','sepal width (cm)'],2))"
   ]
  },
  {
   "cell_type": "markdown",
   "id": "90caab97-1119-486e-854a-52abe061257d",
   "metadata": {},
   "source": [
    "### 7. 카이제곱 - 독립성 검정\n",
    "- Gender, Survived 변수 간의 독립성 검정을 실시하였을 때, 카이제곱 통계량은?"
   ]
  },
  {
   "cell_type": "code",
   "execution_count": 25,
   "id": "84508b77-e5cd-4e7e-8b3c-6b536380386f",
   "metadata": {
    "tags": []
   },
   "outputs": [
    {
     "name": "stdout",
     "output_type": "stream",
     "text": [
      "260.71702016732104\n"
     ]
    }
   ],
   "source": [
    "df = pd.read_csv('data/Titanic.csv')\n",
    "\n",
    "from scipy.stats import chi2_contingency\n",
    "table = pd.crosstab(df.Gender, df.Survived)\n",
    "result = chi2_contingency(table)\n",
    "print(result.statistic)"
   ]
  },
  {
   "cell_type": "markdown",
   "id": "41940fba-7595-4ea8-801e-7f104f827629",
   "metadata": {},
   "source": [
    "### 8. 로지스틱 회귀\n",
    "- Gender, SibSp,Parch, Fare 독립변수를 상ㅇ하여 로지스틱 회귀 모형을 실시하였을 때, Parch 변수의 계수값은?"
   ]
  },
  {
   "cell_type": "code",
   "execution_count": 35,
   "id": "a4adbf89-c9e9-45e0-a562-071a8616e6ff",
   "metadata": {
    "tags": []
   },
   "outputs": [
    {
     "name": "stdout",
     "output_type": "stream",
     "text": [
      "Optimization terminated successfully.\n",
      "         Current function value: 0.482065\n",
      "         Iterations 6\n",
      "                           Logit Regression Results                           \n",
      "==============================================================================\n",
      "Dep. Variable:               Survived   No. Observations:                  891\n",
      "Model:                          Logit   Df Residuals:                      886\n",
      "Method:                           MLE   Df Model:                            4\n",
      "Date:                Thu, 20 Jun 2024   Pseudo R-squ.:                  0.2761\n",
      "Time:                        20:15:19   Log-Likelihood:                -429.52\n",
      "converged:                       True   LL-Null:                       -593.33\n",
      "Covariance Type:            nonrobust   LLR p-value:                 1.192e-69\n",
      "==================================================================================\n",
      "                     coef    std err          z      P>|z|      [0.025      0.975]\n",
      "----------------------------------------------------------------------------------\n",
      "Intercept          0.9466      0.169      5.590      0.000       0.615       1.279\n",
      "Gender[T.male]    -2.6422      0.186    -14.197      0.000      -3.007      -2.277\n",
      "SibSp             -0.3539      0.098     -3.604      0.000      -0.546      -0.161\n",
      "Parch             -0.2007      0.112     -1.792      0.073      -0.420       0.019\n",
      "Fare               0.0147      0.003      5.553      0.000       0.010       0.020\n",
      "==================================================================================\n"
     ]
    }
   ],
   "source": [
    "from statsmodels.formula.api import logit\n",
    "df = pd.read_csv('data/Titanic.csv')\n",
    "#print(df.info())\n",
    "\n",
    "result = logit('Survived~Gender+SibSp+Parch+Fare',data = df).fit().summary()\n",
    "print(result) #0.207"
   ]
  },
  {
   "cell_type": "markdown",
   "id": "042ea441-4dac-474c-aa33-fb46b8d5eab4",
   "metadata": {
    "tags": []
   },
   "source": [
    "- 오즈비 값은?"
   ]
  },
  {
   "cell_type": "code",
   "execution_count": 38,
   "id": "1630e7ca-6113-4da8-b633-8c6d18bf464c",
   "metadata": {
    "tags": []
   },
   "outputs": [
    {
     "name": "stdout",
     "output_type": "stream",
     "text": [
      "Optimization terminated successfully.\n",
      "         Current function value: 0.482065\n",
      "         Iterations 6\n",
      "Intercept         2.577024\n",
      "Gender[T.male]    0.071203\n",
      "SibSp             0.701951\n",
      "Parch             0.818139\n",
      "Fare              1.014794\n",
      "dtype: float64\n"
     ]
    }
   ],
   "source": [
    "import numpy as np\n",
    "result1 = logit('Survived~Gender+SibSp+Parch+Fare',data = df).fit().params\n",
    "print(np.exp(result1))"
   ]
  },
  {
   "cell_type": "markdown",
   "id": "368d4b53-166b-4ba7-95cc-35b4b3bbd48c",
   "metadata": {
    "tags": []
   },
   "source": [
    "### **카이제곱 적합도 검정[¶](https://www.kaggle.com/code/agileteam/t3-chisquare-py#%EC%B9%B4%EC%9D%B4%EC%A0%9C%EA%B3%B1-%EC%A0%81%ED%95%A9%EB%8F%84-%EA%B2%80%EC%A0%95)**\n",
    "\n",
    "고등학교에서는 졸업생들이 선택하는 대학 전공 분야의 선호도가 시간이 지남에 따라 변하지 않는다고 가정합니다. 학교 측은 최근 졸업생들의 전공 선택이 과거와 같은 패턴을 따르는지 알아보기 위해 적합도 검정을 실시하기로 결정했습니다.\n",
    "\n",
    "과거 자료에 따르면 졸업생들이 선택하는 전공의 분포는 다음과 같습니다:\n",
    "\n",
    "인문학: 20% 사회과학: 30% 자연과학: 25% 공학: 15% 기타: 10% 올해 졸업한 학생 200명의 전공 선택 분포는 다음과 같았습니다:\n",
    "\n",
    "인문학: 30명 사회과학: 60명 자연과학: 50명 공학: 40명 기타: 20명 이 데이터를 바탕으로, 졸업생들의 전공 선택 패턴이 과거와 유사한지를 알아보기 위해 카이제곱 적합도 검정을 실시해야 합니다. 유의 수준은 0.05로 설정합니다.\n",
    "\n",
    "1. 검정 통계량?\n",
    "2. p-value?\n",
    "3. 유의수준 하 귀무가설 기각 또는 채택?\n",
    "    1. 귀무가설 : 차이가 없다\n",
    "    2. 대립가설 : 차이가 있다."
   ]
  },
  {
   "cell_type": "code",
   "execution_count": 73,
   "id": "228ebf58-c9ef-45a9-a479-1db07e6cd09d",
   "metadata": {
    "tags": []
   },
   "outputs": [],
   "source": [
    "observed = [30,60,50,40,20]\n",
    "expected = [200*0.2, 200*0.3, 200*0.25, 200*0.15, 200*0.1]\n",
    "\n",
    "from scipy import stats\n",
    "result = stats.chisquare(f_obs = observed, f_exp = expected)"
   ]
  },
  {
   "cell_type": "markdown",
   "id": "269bbd43-43cb-4fc6-b2b8-b5fa18450183",
   "metadata": {},
   "source": [
    "### 지지도, 신뢰도, 향상도"
   ]
  },
  {
   "cell_type": "code",
   "execution_count": 74,
   "id": "681e4a7d-b6a9-4b8a-9983-3dd9536021e6",
   "metadata": {
    "tags": []
   },
   "outputs": [
    {
     "data": {
      "text/html": [
       "<div>\n",
       "<style scoped>\n",
       "    .dataframe tbody tr th:only-of-type {\n",
       "        vertical-align: middle;\n",
       "    }\n",
       "\n",
       "    .dataframe tbody tr th {\n",
       "        vertical-align: top;\n",
       "    }\n",
       "\n",
       "    .dataframe thead th {\n",
       "        text-align: right;\n",
       "    }\n",
       "</style>\n",
       "<table border=\"1\" class=\"dataframe\">\n",
       "  <thead>\n",
       "    <tr style=\"text-align: right;\">\n",
       "      <th></th>\n",
       "      <th>transaction</th>\n",
       "      <th>빼빼로</th>\n",
       "      <th>딴짓초코</th>\n",
       "      <th>양조위빵</th>\n",
       "      <th>오징어칩</th>\n",
       "      <th>초코파이</th>\n",
       "    </tr>\n",
       "  </thead>\n",
       "  <tbody>\n",
       "    <tr>\n",
       "      <th>0</th>\n",
       "      <td>1</td>\n",
       "      <td>1</td>\n",
       "      <td>0</td>\n",
       "      <td>1</td>\n",
       "      <td>0</td>\n",
       "      <td>1</td>\n",
       "    </tr>\n",
       "    <tr>\n",
       "      <th>1</th>\n",
       "      <td>2</td>\n",
       "      <td>0</td>\n",
       "      <td>1</td>\n",
       "      <td>0</td>\n",
       "      <td>1</td>\n",
       "      <td>1</td>\n",
       "    </tr>\n",
       "    <tr>\n",
       "      <th>2</th>\n",
       "      <td>3</td>\n",
       "      <td>1</td>\n",
       "      <td>1</td>\n",
       "      <td>0</td>\n",
       "      <td>1</td>\n",
       "      <td>0</td>\n",
       "    </tr>\n",
       "    <tr>\n",
       "      <th>3</th>\n",
       "      <td>4</td>\n",
       "      <td>1</td>\n",
       "      <td>0</td>\n",
       "      <td>1</td>\n",
       "      <td>0</td>\n",
       "      <td>0</td>\n",
       "    </tr>\n",
       "    <tr>\n",
       "      <th>4</th>\n",
       "      <td>5</td>\n",
       "      <td>0</td>\n",
       "      <td>1</td>\n",
       "      <td>1</td>\n",
       "      <td>0</td>\n",
       "      <td>1</td>\n",
       "    </tr>\n",
       "    <tr>\n",
       "      <th>5</th>\n",
       "      <td>6</td>\n",
       "      <td>1</td>\n",
       "      <td>0</td>\n",
       "      <td>1</td>\n",
       "      <td>1</td>\n",
       "      <td>0</td>\n",
       "    </tr>\n",
       "    <tr>\n",
       "      <th>6</th>\n",
       "      <td>7</td>\n",
       "      <td>1</td>\n",
       "      <td>1</td>\n",
       "      <td>0</td>\n",
       "      <td>0</td>\n",
       "      <td>1</td>\n",
       "    </tr>\n",
       "    <tr>\n",
       "      <th>7</th>\n",
       "      <td>8</td>\n",
       "      <td>0</td>\n",
       "      <td>1</td>\n",
       "      <td>0</td>\n",
       "      <td>1</td>\n",
       "      <td>1</td>\n",
       "    </tr>\n",
       "    <tr>\n",
       "      <th>8</th>\n",
       "      <td>9</td>\n",
       "      <td>1</td>\n",
       "      <td>0</td>\n",
       "      <td>1</td>\n",
       "      <td>1</td>\n",
       "      <td>0</td>\n",
       "    </tr>\n",
       "    <tr>\n",
       "      <th>9</th>\n",
       "      <td>10</td>\n",
       "      <td>1</td>\n",
       "      <td>0</td>\n",
       "      <td>0</td>\n",
       "      <td>1</td>\n",
       "      <td>0</td>\n",
       "    </tr>\n",
       "  </tbody>\n",
       "</table>\n",
       "</div>"
      ],
      "text/plain": [
       "   transaction  빼빼로  딴짓초코  양조위빵  오징어칩  초코파이\n",
       "0            1    1     0     1     0     1\n",
       "1            2    0     1     0     1     1\n",
       "2            3    1     1     0     1     0\n",
       "3            4    1     0     1     0     0\n",
       "4            5    0     1     1     0     1\n",
       "5            6    1     0     1     1     0\n",
       "6            7    1     1     0     0     1\n",
       "7            8    0     1     0     1     1\n",
       "8            9    1     0     1     1     0\n",
       "9           10    1     0     0     1     0"
      ]
     },
     "execution_count": 74,
     "metadata": {},
     "output_type": "execute_result"
    }
   ],
   "source": [
    "import pandas as pd\n",
    "# 데이터\n",
    "df = pd.DataFrame({\n",
    "    'transaction': [1, 2, 3, 4, 5, 6, 7, 8, 9, 10],\n",
    "    '빼빼로': [1, 0, 1, 1, 0, 1, 1, 0, 1, 1],\n",
    "    '딴짓초코': [0, 1, 1, 0, 1, 0, 1, 1, 0, 0],\n",
    "    '양조위빵': [1, 0, 0, 1, 1, 1, 0, 0, 1, 0],\n",
    "    '오징어칩': [0, 1, 1, 0, 0, 1, 0, 1, 1, 1],\n",
    "    '초코파이': [1, 1, 0, 0, 1, 0, 1, 1, 0, 0]\n",
    "})\n",
    "df"
   ]
  },
  {
   "cell_type": "code",
   "execution_count": 75,
   "id": "a4590814-17b2-4806-915b-f944a0d26f2c",
   "metadata": {
    "tags": []
   },
   "outputs": [
    {
     "name": "stdout",
     "output_type": "stream",
     "text": [
      "0.7\n",
      "0.5714285714285714\n",
      "1.1428571428571428\n"
     ]
    }
   ],
   "source": [
    "# 공통\n",
    "total = df.shape[0]\n",
    "pepero = df['빼빼로'].sum()\n",
    "\n",
    "#1. '빼빼로'와 '딴짓초코'가 함께 팔린 거래의 지지도를 계산하세요.\n",
    "pepero_and_choco = len(df[(df['빼빼로'] == 1) & (df['딴짓초코'] == 1)])\n",
    "print(pepero/total)\n",
    "                       \n",
    "#2. '빼빼로'가 팔린 거래 중에서 '빼빼로'와 '오징어칩'이 함께 팔린 거래의 신뢰도를 계산하세요.\n",
    "pepero_and_o = len(df[(df['빼빼로'] == 1) & (df['오징어칩'] == 1)])\n",
    "print(pepero_and_o/pepero)\n",
    "                   \n",
    "#3. '빼빼로'와 '양조위빵'의 향상도를 계산하세요.\n",
    "pepero_and_bread = len(df[(df['빼빼로'] == 1) & (df['양조위빵'] == 1)])\n",
    "bread = len(df[df['양조위빵'] == 1])\n",
    "print((pepero_and_bread/pepero) / (bread / total))\n"
   ]
  },
  {
   "cell_type": "markdown",
   "id": "8ba010f2-72c8-496e-a2e4-d700919f4ced",
   "metadata": {
    "tags": []
   },
   "source": [
    "### 베르누이, 이항 분포\n",
    "- 1. 베르누이 분포: 각 시도의 성공 확률 계산\n",
    "- 2. 이항 분포: 100번의 시도 중 정확히 60번 성공할 확률 계산"
   ]
  },
  {
   "cell_type": "code",
   "execution_count": 92,
   "id": "2719d1e6-7ebe-4a70-85ec-e9e7fde7ad06",
   "metadata": {
    "tags": []
   },
   "outputs": [
    {
     "name": "stdout",
     "output_type": "stream",
     "text": [
      "0.62\n",
      "0.07464985555860272\n"
     ]
    }
   ],
   "source": [
    "from scipy import stats\n",
    "\n",
    "df = pd.read_csv(\"data/t3_success.csv\")\n",
    "# 배르누이 분포\n",
    "total = df.shape[0]\n",
    "sucess = sum(df['Success'] == 1)\n",
    "success_prob = sucess/total\n",
    "print(success_prob)\n",
    "\n",
    "# 이항분포\n",
    "n = 100\n",
    "k = 60\n",
    "\n",
    "result = stats.binom.pmf(k, n, success_prob)\n",
    "print(result)"
   ]
  },
  {
   "cell_type": "markdown",
   "id": "fcdb1c50-ee8d-4365-b18e-66ad7ffea6c1",
   "metadata": {},
   "source": [
    "### 점추정, 구간추정"
   ]
  },
  {
   "cell_type": "code",
   "execution_count": 104,
   "id": "a38c7c96-c223-4796-b1a9-abf8e5a2b231",
   "metadata": {
    "tags": []
   },
   "outputs": [
    {
     "name": "stdout",
     "output_type": "stream",
     "text": [
      "19.937577543978538\n",
      "(19.427887094620406, 20.44726799333667)\n"
     ]
    }
   ],
   "source": [
    "import pandas as pd\n",
    "temperature_data = pd.read_csv(\"data/daily_temperatures.csv\")\n",
    "\n",
    "\n",
    "# 1. 평균온도 점추정\n",
    "sample_mean = temperature_data['Daily Average Temperature'].mean()\n",
    "print(sample_mean)\n",
    "\n",
    "# 2. 구간추정 -- t\n",
    "confidence_level = 0.95\n",
    "sample_std = temperature_data['Daily Average Temperature'].std()\n",
    "n_samples = len(temperature_data)\n",
    "\n",
    "interval = stats.t.interval(confidence_level,df = n_samples -1,loc = sample_mean, scale = sample_std/n_samples**0.5)\n",
    "print(interval)"
   ]
  },
  {
   "cell_type": "code",
   "execution_count": null,
   "id": "2f73f711-41bf-41a2-8dea-0347334cd50e",
   "metadata": {},
   "outputs": [],
   "source": []
  }
 ],
 "metadata": {
  "kernelspec": {
   "display_name": "Python 3 (ipykernel)",
   "language": "python",
   "name": "python3"
  },
  "language_info": {
   "codemirror_mode": {
    "name": "ipython",
    "version": 3
   },
   "file_extension": ".py",
   "mimetype": "text/x-python",
   "name": "python",
   "nbconvert_exporter": "python",
   "pygments_lexer": "ipython3",
   "version": "3.11.4"
  }
 },
 "nbformat": 4,
 "nbformat_minor": 5
}
