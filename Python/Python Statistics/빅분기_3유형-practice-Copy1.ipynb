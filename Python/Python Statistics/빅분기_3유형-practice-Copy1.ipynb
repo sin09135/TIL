{
 "cells": [
  {
   "cell_type": "markdown",
   "id": "ede5466c-943d-4a24-b09a-f233fee6fb2d",
   "metadata": {},
   "source": [
    "### 1. 다음은 22명의 학생들이 국어시험에서 받은 점수이다. 학생들의 평균이 75보다 크다고 할 수 있는가?"
   ]
  },
  {
   "cell_type": "markdown",
   "id": "d841bb95-2bfc-4be0-a225-acae41dfa3c3",
   "metadata": {},
   "source": [
    "- 귀무가설 : 평균 <= 65\n",
    "- 대립가설 : 평균 > 25"
   ]
  },
  {
   "cell_type": "code",
   "execution_count": 1,
   "id": "97b83709-259d-4a36-bb2c-16c1ddf99967",
   "metadata": {
    "tags": []
   },
   "outputs": [],
   "source": [
    "# 데이터\n",
    "scores = [75, 80, 68, 72, 77, 82, 81, 79, 70, 74, 76, 78, 81, 73, 81, 78, 75, 72, 74, 79, 78, 79]\n"
   ]
  },
  {
   "cell_type": "markdown",
   "id": "09a584dd-d943-4395-82a1-304987295569",
   "metadata": {},
   "source": [
    "### 2. 주어진 데이터는 고혈압 환자 치료 전후의 혈압니다. 해당 치료가 효과가 있는지 대응표본 t검정을 실시하시오."
   ]
  },
  {
   "cell_type": "code",
   "execution_count": 2,
   "id": "ac412f6d-ca6e-4951-82a5-de43ff5f2e28",
   "metadata": {
    "tags": []
   },
   "outputs": [
    {
     "name": "stdout",
     "output_type": "stream",
     "text": [
      "<class 'pandas.core.frame.DataFrame'>\n",
      "RangeIndex: 120 entries, 0 to 119\n",
      "Data columns (total 5 columns):\n",
      " #   Column   Non-Null Count  Dtype \n",
      "---  ------   --------------  ----- \n",
      " 0   Id       120 non-null    object\n",
      " 1   sex      120 non-null    object\n",
      " 2   age      120 non-null    int64 \n",
      " 3   bp_pre   120 non-null    int64 \n",
      " 4   bp_post  120 non-null    int64 \n",
      "dtypes: int64(3), object(2)\n",
      "memory usage: 4.8+ KB\n",
      "None\n"
     ]
    }
   ],
   "source": [
    "import pandas as pd\n",
    "df = pd.read_csv(\"data/high_blood_pressure.csv\")\n",
    "print(df.info())"
   ]
  },
  {
   "cell_type": "code",
   "execution_count": null,
   "id": "ecd59ac9-489a-4f51-8c2e-1d7a91264046",
   "metadata": {
    "tags": []
   },
   "outputs": [],
   "source": []
  },
  {
   "cell_type": "code",
   "execution_count": null,
   "id": "f0c5f983-4770-4aad-a64c-cc7677d099e1",
   "metadata": {
    "tags": []
   },
   "outputs": [],
   "source": []
  },
  {
   "cell_type": "code",
   "execution_count": null,
   "id": "4538a84e-655a-40ca-ac93-ffea5b0cf6f7",
   "metadata": {
    "tags": []
   },
   "outputs": [],
   "source": []
  },
  {
   "cell_type": "markdown",
   "id": "b061ff9a-1073-4477-9335-27f54cf6739f",
   "metadata": {},
   "source": [
    "### 3. 어떤 특정 약물을 복용한 사람들의 평균 체온이 복용하지 않은 사람들의 평균 체온과 유의미하게 다른지 검정해보려고 한다\n",
    "- 귀무가설(H0) : 약물을 복용한 그룹과 복용하지 않은 그룹의 평균 체온은 유의미한 차이가 없다.\n",
    "- 대립가설(H1) : 약물을 복용한 그룹과 복용하지 않은 그룹의 평균 체온은 유의미한 차이가 있다.\n",
    "\n",
    "- 검정통계량, p-value, 검정결과를 출력하시오."
   ]
  },
  {
   "cell_type": "code",
   "execution_count": 3,
   "id": "0a373f6b-f189-4e5e-9ba2-b8e1f299c279",
   "metadata": {
    "tags": []
   },
   "outputs": [],
   "source": [
    "# 데이터 \n",
    "group1 = [36.8, 36.7, 37.1, 36.9, 37.2, 36.8, 36.9, 37.1, 36.7, 37.1] # 약물복용\n",
    "group2 = [36.5, 36.6, 36.3, 36.6, 36.9, 36.7, 36.7, 36.8, 36.5, 36.7] # 약물을 복용하지 않음\n",
    "\n",
    "import pandas as pd"
   ]
  },
  {
   "cell_type": "code",
   "execution_count": null,
   "id": "ba4a67a8-cf68-419f-9fae-ad694637b144",
   "metadata": {
    "tags": []
   },
   "outputs": [],
   "source": []
  },
  {
   "cell_type": "markdown",
   "id": "7d37faf5-6ba3-4adc-80fa-8249e7165038",
   "metadata": {
    "tags": []
   },
   "source": [
    "### 4.세 가지 다른 교육 방법(A, B, C)을 사용하여 수험생들의 시험 성적을 개선시키는 효과를 평가하고자 한다. 30명의 학생들을 무작위로 세 그룹으로 배정하여 교육을 실시하였고, 시험을 보고 성적을 측정하였다.\n",
    "\n",
    "- 귀무가설(H0) : 세 그룹(A, B, C) 간의 평균 성적 차이가 없다\n",
    "- 대립가설(H1) : 세 그룹(A, B, C) 간의 평균 성적 차이가 있다.\n",
    "    - F값(소수 둘째자리), p-value(소수 여섯째자리), 검정결과를 출력하시오."
   ]
  },
  {
   "cell_type": "code",
   "execution_count": 4,
   "id": "fd1d7663-c620-4ee2-a921-93f60de44e16",
   "metadata": {
    "tags": []
   },
   "outputs": [],
   "source": [
    "# 데이터\n",
    "groupA = [85, 92, 78, 88, 83, 90, 76, 84, 92, 87]\n",
    "groupB = [79, 69, 84, 78, 79, 83, 79, 81, 86, 88]\n",
    "groupC = [75, 68, 74, 65, 77, 72, 70, 73, 78, 75]"
   ]
  },
  {
   "cell_type": "markdown",
   "id": "6e4dc85b-6b1f-432e-8eb5-baee92680524",
   "metadata": {},
   "source": [
    "### 5. 정규성 검정 - Shapiro-Wilk 검정\n",
    "12명의 수험생이 빅데이터 분석기사 시험에서 받은 점수이다. Shapiro-Wilk 검정을 사용하여 데이터가 정규 분포를 따르는지 검증하시오."
   ]
  },
  {
   "cell_type": "code",
   "execution_count": 5,
   "id": "833d137c-d977-42ba-9f5d-d3a719d37b15",
   "metadata": {
    "tags": []
   },
   "outputs": [],
   "source": [
    "data = [75, 83, 81, 92, 68, 77, 78, 80, 85, 95, 79, 89]"
   ]
  },
  {
   "cell_type": "markdown",
   "id": "b126187b-6b69-4293-9822-a2dfcd8f4b25",
   "metadata": {},
   "source": [
    "### 6. 회귀모형(상관계수)\n",
    "iris에서 Sepal Length와 Sepal Width의 상관계수를 계산하고 소수 둘째자리까지 출력하시오."
   ]
  },
  {
   "cell_type": "code",
   "execution_count": 22,
   "id": "1fdf119e-1188-4387-9d6d-81a40c76c672",
   "metadata": {
    "tags": []
   },
   "outputs": [
    {
     "name": "stdout",
     "output_type": "stream",
     "text": [
      "-0.12\n"
     ]
    }
   ],
   "source": [
    "import pandas as pd\n",
    "from sklearn.datasets import load_iris\n",
    "\n",
    "iris = load_iris()\n",
    "df = pd.DataFrame(iris.data, columns = iris.feature_names)\n",
    "df = df[['sepal length (cm)','sepal width (cm)']]\n",
    "\n",
    "corr = df.corr()\n",
    "print(round(corr.loc['sepal length (cm)','sepal width (cm)'],2))"
   ]
  },
  {
   "cell_type": "markdown",
   "id": "90caab97-1119-486e-854a-52abe061257d",
   "metadata": {},
   "source": [
    "### 7. 카이제곱 - 독립성 검정\n",
    "- Gender, Survived 변수 간의 독립성 검정을 실시하였을 때, 카이제곱 통계량은?"
   ]
  },
  {
   "cell_type": "code",
   "execution_count": 25,
   "id": "84508b77-e5cd-4e7e-8b3c-6b536380386f",
   "metadata": {
    "tags": []
   },
   "outputs": [
    {
     "name": "stdout",
     "output_type": "stream",
     "text": [
      "260.71702016732104\n"
     ]
    }
   ],
   "source": [
    "df = pd.read_csv('data/Titanic.csv')\n",
    "\n",
    "from scipy.stats import chi2_contingency\n",
    "table = pd.crosstab(df.Gender, df.Survived)\n",
    "result = chi2_contingency(table)\n",
    "print(result.statistic)"
   ]
  },
  {
   "cell_type": "markdown",
   "id": "41940fba-7595-4ea8-801e-7f104f827629",
   "metadata": {},
   "source": [
    "### 8. 로지스틱 회귀\n",
    "- Gender, SibSp,Parch, Fare 독립변수를 상ㅇ하여 로지스틱 회귀 모형을 실시하였을 때, Parch 변수의 계수값은?"
   ]
  },
  {
   "cell_type": "code",
   "execution_count": 33,
   "id": "a4adbf89-c9e9-45e0-a562-071a8616e6ff",
   "metadata": {
    "tags": []
   },
   "outputs": [
    {
     "name": "stdout",
     "output_type": "stream",
     "text": [
      "<statsmodels.discrete.discrete_model.Logit object at 0x14656c2d0>\n"
     ]
    }
   ],
   "source": [
    "from statsmodels.formula.api import logit\n",
    "df = pd.read_csv('data/Titanic.csv')\n",
    "#print(df.info())\n",
    "\n",
    "result = logit('Survived~Gender+SibSp+Parch+Fare',data = df).fit.summar\n",
    "print(result)"
   ]
  },
  {
   "cell_type": "code",
   "execution_count": null,
   "id": "3c730310-7110-405c-a3f4-19421c7cce89",
   "metadata": {
    "tags": []
   },
   "outputs": [],
   "source": []
  },
  {
   "cell_type": "markdown",
   "id": "042ea441-4dac-474c-aa33-fb46b8d5eab4",
   "metadata": {
    "tags": []
   },
   "source": [
    "- 오즈비 값은?"
   ]
  },
  {
   "cell_type": "code",
   "execution_count": null,
   "id": "1630e7ca-6113-4da8-b633-8c6d18bf464c",
   "metadata": {
    "tags": []
   },
   "outputs": [],
   "source": []
  },
  {
   "cell_type": "code",
   "execution_count": null,
   "id": "9cbf8b6a-9fed-469d-9848-aaf281462ce8",
   "metadata": {
    "tags": []
   },
   "outputs": [],
   "source": []
  },
  {
   "cell_type": "code",
   "execution_count": null,
   "id": "228ebf58-c9ef-45a9-a479-1db07e6cd09d",
   "metadata": {
    "tags": []
   },
   "outputs": [],
   "source": []
  }
 ],
 "metadata": {
  "kernelspec": {
   "display_name": "Python 3 (ipykernel)",
   "language": "python",
   "name": "python3"
  },
  "language_info": {
   "codemirror_mode": {
    "name": "ipython",
    "version": 3
   },
   "file_extension": ".py",
   "mimetype": "text/x-python",
   "name": "python",
   "nbconvert_exporter": "python",
   "pygments_lexer": "ipython3",
   "version": "3.11.4"
  }
 },
 "nbformat": 4,
 "nbformat_minor": 5
}
