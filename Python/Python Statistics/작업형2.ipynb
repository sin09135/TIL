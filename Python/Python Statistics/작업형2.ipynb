{
 "cells": [
  {
   "cell_type": "markdown",
   "id": "969dd269-075d-4737-9524-84dbd21a9b33",
   "metadata": {},
   "source": [
    "### 자전거 수요 예측"
   ]
  },
  {
   "cell_type": "code",
   "execution_count": 49,
   "id": "d0e6005c-50be-4569-9368-9bfcc7abc3d0",
   "metadata": {
    "tags": []
   },
   "outputs": [
    {
     "name": "stdout",
     "output_type": "stream",
     "text": [
      "{'max_depth': 400, 'n_estimators': 5}\n",
      "7210.73785641401\n",
      "27158.257804442102\n"
     ]
    }
   ],
   "source": [
    "import pandas as pd\n",
    "\n",
    "train = pd.read_csv(\"data/bike-sharing-demand/train.csv\")\n",
    "test = pd.read_csv(\"data/bike-sharing-demand/test.csv\")\n",
    "\n",
    "from sklearn.ensemble import RandomForestRegressor\n",
    "from sklearn.model_selection import train_test_split, GridSearchCV\n",
    "from sklearn.metrics import mean_squared_error\n",
    "\n",
    "# 결측치 없음\n",
    "train = train.drop(columns = 'datetime')\n",
    "test = test.drop(columns = 'datetime')\n",
    "\n",
    "X = train.drop(columns =['count','casual','registered'])\n",
    "y = train['count']\n",
    "\n",
    "# print(X.info())\n",
    "# print(test.info())\n",
    "\n",
    "X_train, X_val, y_train, y_val = train_test_split(X,y,test_size = 0.3,random_state = 42)\n",
    "\n",
    "rf = RandomForestRegressor()\n",
    "params = ({\n",
    "    'max_depth': [100,200,300,400,500],\n",
    "    'n_estimators' : [1,2,3,4,5]})\n",
    "\n",
    "clf = GridSearchCV(rf, param_grid = params, cv = 5)\n",
    "clf.fit(X_train, y_train)\n",
    "print(clf.best_params_)\n",
    "\n",
    "rf = RandomForestRegressor(max_depth = 400, n_estimators = 5)\n",
    "rf.fit(X_train, y_train)\n",
    "X_train_pred = rf.predict(X_train)\n",
    "X_val_pred = rf.predict(X_val)\n",
    "test_pred = rf.predict(test)\n",
    "\n",
    "print(mean_squared_error(y_train,X_train_pred))\n",
    "print(mean_squared_error(y_val, X_val_pred))"
   ]
  },
  {
   "cell_type": "code",
   "execution_count": null,
   "id": "66d176ae-a625-4415-a718-65157cf665f3",
   "metadata": {},
   "outputs": [],
   "source": []
  }
 ],
 "metadata": {
  "kernelspec": {
   "display_name": "Python 3 (ipykernel)",
   "language": "python",
   "name": "python3"
  },
  "language_info": {
   "codemirror_mode": {
    "name": "ipython",
    "version": 3
   },
   "file_extension": ".py",
   "mimetype": "text/x-python",
   "name": "python",
   "nbconvert_exporter": "python",
   "pygments_lexer": "ipython3",
   "version": "3.11.4"
  }
 },
 "nbformat": 4,
 "nbformat_minor": 5
}
