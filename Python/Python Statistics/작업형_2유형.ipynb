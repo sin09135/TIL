{
 "cells": [
  {
   "cell_type": "markdown",
   "id": "969dd269-075d-4737-9524-84dbd21a9b33",
   "metadata": {},
   "source": [
    "### 자전거 수요 예측"
   ]
  },
  {
   "cell_type": "code",
   "execution_count": 5,
   "id": "d0e6005c-50be-4569-9368-9bfcc7abc3d0",
   "metadata": {
    "tags": []
   },
   "outputs": [
    {
     "name": "stdout",
     "output_type": "stream",
     "text": [
      "{'max_depth': 200, 'n_estimators': 5}\n",
      "84.28477746711943\n",
      "164.75641038531\n"
     ]
    }
   ],
   "source": [
    "import pandas as pd\n",
    "\n",
    "train = pd.read_csv(\"data/bike-sharing-demand/train.csv\")\n",
    "test = pd.read_csv(\"data/bike-sharing-demand/test.csv\")\n",
    "\n",
    "from sklearn.ensemble import RandomForestRegressor\n",
    "from sklearn.model_selection import train_test_split, GridSearchCV\n",
    "from sklearn.metrics import mean_squared_error\n",
    "\n",
    "# 결측치 없음\n",
    "train = train.drop(columns = 'datetime')\n",
    "test = test.drop(columns = 'datetime')\n",
    "\n",
    "X = train.drop(columns =['count','casual','registered'])\n",
    "y = train['count']\n",
    "\n",
    "# print(X.info())\n",
    "# print(test.info())\n",
    "\n",
    "X_train, X_val, y_train, y_val = train_test_split(X,y,test_size = 0.3,random_state = 42)\n",
    "\n",
    "rf = RandomForestRegressor()\n",
    "params = ({\n",
    "    'max_depth': [100,200,300,400,500],\n",
    "    'n_estimators' : [1,2,3,4,5]})\n",
    "\n",
    "clf = GridSearchCV(rf, param_grid = params, cv = 5)\n",
    "clf.fit(X_train, y_train)\n",
    "print(clf.best_params_)\n",
    "\n",
    "rf = RandomForestRegressor(max_depth = 400, n_estimators = 5)\n",
    "rf.fit(X_train, y_train)\n",
    "X_train_pred = rf.predict(X_train)\n",
    "X_val_pred = rf.predict(X_val)\n",
    "test_pred = rf.predict(test)\n",
    "\n",
    "import numpy as np\n",
    "print(np.sqrt(mean_squared_error(y_train,X_train_pred)))\n",
    "print(np.sqrt(mean_squared_error(y_val, X_val_pred)))"
   ]
  },
  {
   "cell_type": "markdown",
   "id": "4a9e656e-9eab-47e3-99da-e1ef45e7b8a3",
   "metadata": {},
   "source": [
    "### customer 구매 여부 예측"
   ]
  },
  {
   "cell_type": "code",
   "execution_count": null,
   "id": "32d348f5-71b4-4169-8e20-e62c5478a0da",
   "metadata": {},
   "outputs": [],
   "source": [
    "# 출력을 원하실 경우 print() 함수 활용\n",
    "# 예시) print(df.head())\n",
    "\n",
    "# getcwd(), chdir() 등 작업 폴더 설정 불필요\n",
    "# 파일 경로 상 내부 드라이브 경로(C: 등) 접근 불가\n",
    "\n",
    "import pandas as pd\n",
    "\n",
    "train = pd.read_csv(\"data/customer_train.csv\")\n",
    "test = pd.read_csv(\"data/customer_test.csv\")\n",
    "\n",
    "# 사용자 코딩\n",
    "#print(train.info())\n",
    "# print(test.info())\n",
    "# print(train.isnull().sum())\n",
    "# print(test.isnull().sum())\n",
    "# '주구매상품','주구매지점' > object 컬럼\n",
    "# '환불금액' > object\n",
    "train.drop(columns = '환불금액', inplace = True)\n",
    "test.drop(columns = '환불금액', inplace = True)\n",
    "\n",
    "from sklearn.model_selection import train_test_split, GridSearchCV\n",
    "from sklearn.preprocessing import LabelEncoder # 라벨인코더에서 이중으로 괄호 씌우지마\n",
    "from sklearn.ensemble import RandomForestClassifier\n",
    "from sklearn.metrics import roc_auc_score\n",
    "\n",
    "\n",
    "encoder = LabelEncoder()\n",
    "train['주구매상품'] = encoder.fit_transform(train['주구매상품'])\n",
    "test['주구매상품'] = encoder.transform(test['주구매상품'])\n",
    "\n",
    "encoder = LabelEncoder()\n",
    "train['주구매지점'] = encoder.fit_transform(train['주구매지점'])\n",
    "test['주구매지점'] = encoder.transform(test['주구매지점'])\n",
    "\n",
    "X = train.drop(columns = '성별')\n",
    "y = train['성별']\n",
    "\n",
    "print(train.isnull().sum())\n",
    "print(test.isnull().sum())\n",
    "X_train, X_val, y_train, y_val = train_test_split(X,y,test_size = 0.2,random_state = 42)\n",
    "\n",
    "# rf = RandomForestClassifier()\n",
    "# #print(help(GridSearchCV))\n",
    "# params = ({\n",
    "# \t'max_depth' : [100,200,300,400,500],\n",
    "# \t'n_estimators' : [1,2,3,4,5]\n",
    "# })\n",
    "# clf = GridSearchCV(rf, param_grid = params, cv = 5)\n",
    "# clf.fit(X_train,y_train)\n",
    "# print(clf.best_params_) #200,4\n",
    "\n",
    "rf = RandomForestClassifier(max_depth = 200, n_estimators = 4)\n",
    "rf.fit(X_train,y_train)\n",
    "X_train_pred = rf.predict(X_train)\n",
    "X_val_pred = rf.predict(X_val)\n",
    "pred = rf.predict(test)\n",
    "\n",
    "print(roc_auc_score(y_train, X_train_pred))\n",
    "print(roc_auc_score(y_val, X_val_pred))\n",
    "\n",
    "result = pd.DataFrame({'pred':pred})\n",
    "result.to_csv('result.csv', index = False)\n",
    "\n",
    "df = pd.read_csv('result.csv')\n",
    "print(df.info())\n",
    "# print(train.isnull().sum())\n",
    "# print(test.isnull().sum())\n",
    "\n",
    "# 답안 제출 참고\n",
    "# 아래 코드는 예시이며 변수명 등 개인별로 변경하여 활용\n",
    "# pd.DataFrame변수.to_csv(\"result.csv\", index=False)\n"
   ]
  }
 ],
 "metadata": {
  "kernelspec": {
   "display_name": "Python 3 (ipykernel)",
   "language": "python",
   "name": "python3"
  },
  "language_info": {
   "codemirror_mode": {
    "name": "ipython",
    "version": 3
   },
   "file_extension": ".py",
   "mimetype": "text/x-python",
   "name": "python",
   "nbconvert_exporter": "python",
   "pygments_lexer": "ipython3",
   "version": "3.11.4"
  }
 },
 "nbformat": 4,
 "nbformat_minor": 5
}
