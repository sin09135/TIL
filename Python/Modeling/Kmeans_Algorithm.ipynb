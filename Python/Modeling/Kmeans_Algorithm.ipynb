{
 "cells": [
  {
   "cell_type": "markdown",
   "id": "5c6e42b1-10e9-4e58-a475-1e6bffd0fd50",
   "metadata": {},
   "source": [
    "# Kmeans Algorithm"
   ]
  },
  {
   "cell_type": "code",
   "execution_count": 1,
   "id": "99ace239-39ac-4411-b7f0-598550a25d5c",
   "metadata": {
    "tags": []
   },
   "outputs": [],
   "source": [
    "import numpy as np\n",
    "import pandas as pd"
   ]
  },
  {
   "cell_type": "markdown",
   "id": "1ab23702-46dd-43e0-974c-b0d83671e53c",
   "metadata": {
    "tags": []
   },
   "source": [
    "## 샘플링 함수"
   ]
  },
  {
   "cell_type": "markdown",
   "id": "2935d5e9-f8a0-4e45-8a09-5d70e897335f",
   "metadata": {
    "tags": []
   },
   "source": [
    "### np.random.choice(a, size=None, replace=True, p=None)"
   ]
  },
  {
   "cell_type": "markdown",
   "id": "c68fd89b-f0eb-408d-9334-b45898b8961b",
   "metadata": {},
   "source": [
    "- a: 배열 혹은 정수 범위로, 샘플링 대상\n",
    "- size: 생성하려는 샘플의 크기를 지정 , 기본값은 None으로, 하나의 샘플을 반환\n",
    "- replace: 중복 샘플링을 허용할지 여부를 지정. 기본값은 True로, 중복 샘플링을 허용\n",
    "- p: 각 요소가 선택될 확률을 나타내는 배열. 이 매개변수는 선택 사항, 주어지지 않으면 동일한 확률"
   ]
  },
  {
   "cell_type": "code",
   "execution_count": 8,
   "id": "5a4bd67a-8c7e-4371-a420-06908dbf1680",
   "metadata": {
    "tags": []
   },
   "outputs": [
    {
     "name": "stdout",
     "output_type": "stream",
     "text": [
      "[0 5 7]\n"
     ]
    }
   ],
   "source": [
    "samples = np.random.choice(10, 3, replace=False) # 0~9까지의 정수 중 랜덤으로 3개 출력, 중복샘플링 미허용\n",
    "print(samples)"
   ]
  },
  {
   "cell_type": "markdown",
   "id": "3ba12ae5-2d23-45d1-b148-1d97eec0dc43",
   "metadata": {
    "tags": []
   },
   "source": [
    "## 유클리드 거리 계산 함수"
   ]
  },
  {
   "cell_type": "markdown",
   "id": "09a19675-f9c1-494d-adf4-ad2980c7f35e",
   "metadata": {
    "tags": []
   },
   "source": [
    "### np.linalg.norm(point1 - point2)"
   ]
  },
  {
   "cell_type": "code",
   "execution_count": 28,
   "id": "bbe59de3-22f8-467b-bfa7-573fdc277cc8",
   "metadata": {
    "tags": []
   },
   "outputs": [],
   "source": [
    "# 두 점의 좌표 - 벡터를 계산\n",
    "point1 = np.array([1, 2, 3])\n",
    "point2 = np.array([4, 5, 6])"
   ]
  },
  {
   "cell_type": "code",
   "execution_count": 23,
   "id": "377d56b5-7031-4508-ba55-5bd7483435f3",
   "metadata": {
    "tags": []
   },
   "outputs": [
    {
     "data": {
      "text/plain": [
       "array([1, 2, 3])"
      ]
     },
     "execution_count": 23,
     "metadata": {},
     "output_type": "execute_result"
    }
   ],
   "source": [
    "point1"
   ]
  },
  {
   "cell_type": "code",
   "execution_count": 24,
   "id": "8e3276ce-4035-44ca-9ddb-99a7bb53c6e8",
   "metadata": {
    "tags": []
   },
   "outputs": [
    {
     "name": "stdout",
     "output_type": "stream",
     "text": [
      "두 점 사이의 거리: 5.196152422706632\n"
     ]
    }
   ],
   "source": [
    "# 유클리드 거리 계산\n",
    "distance = np.linalg.norm(point1 - point2)\n",
    "\n",
    "print(\"두 점 사이의 거리:\", distance)"
   ]
  },
  {
   "cell_type": "markdown",
   "id": "902c66dc-2166-49a1-9914-de36d54c0969",
   "metadata": {},
   "source": [
    "## 가장 작은 값 반환 함수"
   ]
  },
  {
   "cell_type": "markdown",
   "id": "1fd52a88-5768-43df-a4db-fe2f7654b2e6",
   "metadata": {},
   "source": [
    "### np.argmin()"
   ]
  },
  {
   "cell_type": "code",
   "execution_count": 26,
   "id": "70a3c074-3385-497c-8283-66b957a2d03f",
   "metadata": {
    "tags": []
   },
   "outputs": [],
   "source": [
    "arr = np.array([3, 7, 1, 9, 2])"
   ]
  },
  {
   "cell_type": "code",
   "execution_count": 30,
   "id": "6fc6a434-04e9-4114-88ff-b1b1d265fb4a",
   "metadata": {
    "tags": []
   },
   "outputs": [
    {
     "name": "stdout",
     "output_type": "stream",
     "text": [
      "가장 작은 값의 인덱스: 2\n"
     ]
    }
   ],
   "source": [
    "min_index = np.argmin(arr)\n",
    "print(\"가장 작은 값의 인덱스:\", min_index)"
   ]
  },
  {
   "cell_type": "markdown",
   "id": "67d0a15c-760f-4512-8169-2165baa89e80",
   "metadata": {
    "tags": []
   },
   "source": [
    "## 두 배열이 거의 동일한지 확인 함수"
   ]
  },
  {
   "cell_type": "markdown",
   "id": "e8f9947f-41a5-4a3b-b8a3-0b9d77c18e45",
   "metadata": {},
   "source": [
    "### np.allclose(array1, array2)\n",
    "기준 : 1e-05 (0.00001) - 혀용오차"
   ]
  },
  {
   "cell_type": "code",
   "execution_count": 42,
   "id": "010b1cf0-ff78-41f3-a822-2928a3844b02",
   "metadata": {
    "tags": []
   },
   "outputs": [
    {
     "name": "stdout",
     "output_type": "stream",
     "text": [
      "False\n"
     ]
    }
   ],
   "source": [
    "import numpy as np\n",
    "\n",
    "# 두 배열 생성\n",
    "array1 = np.array([1.0, 2.0, 3.0])\n",
    "array2 = np.array([1.001, 2.002, 3.003])\n",
    "\n",
    "# 두 배열이 거의 동일한지 확인\n",
    "result = np.allclose(array1, array2)\n",
    "\n",
    "print(result)  "
   ]
  },
  {
   "cell_type": "markdown",
   "id": "39db3115-7360-4ee4-90a0-b67b2ba9b177",
   "metadata": {},
   "source": [
    "## Algorithm 설계"
   ]
  },
  {
   "cell_type": "markdown",
   "id": "cc320067-c627-4a16-b53f-6bd4c1861854",
   "metadata": {
    "tags": []
   },
   "source": [
    "- 초기화 단계(Initialization)\n",
    "    - centroids: 초기 중심을 설정 > np.random.choice() 함수를 사용하여 임의의 k개의 데이터 포인트를 중심으로 선택\n",
    "- 할당 단계(Assignment):\n",
    "    - 각 데이터 포인트를 가장 가까운 중심에 할당\n",
    "    - clusters: 클러스터 할당을 저장할 리스트 초기화\n",
    "    - 각 데이터 포인트에 대해 모든 중심까지의 거리를 계산하고, 가장 가까운 중심의 인덱스를 찾아 해당 클러스터에 데이터 포인트를 추가\n",
    "\n",
    "- 업데이트 단계(Update):\n",
    "    - 각 클러스터에 속한 데이터 포인트들의 평균을 계산하여 새로운 중심을 계산\n",
    "    - 각 클러스터에 대해 데이터 포인트들의 평균을 계산하여 새로운 중심을 구하고 > new_centroids 리스트에 저장\n",
    "\n",
    "- 중심점 갱신 & 반복(Iteration):\n",
    "    - 이전 중심과 새로운 중심이 거의 같으면 알고리즘이 수렴 > break 반복문 탈출 종료합니다\n",
    "    - 그렇지 않으면 새로운 중심을 이전 중심으로 갱신하고, 새로운 할당 및 업데이트를 수행하여 다음 반복을 진행\n",
    "\n",
    "- 최대 반복 횟수(max_iterations)에 도달하면 알고리즘을 종료"
   ]
  },
  {
   "cell_type": "code",
   "execution_count": 37,
   "id": "f1476682-6eca-4146-8734-eaf673cd4998",
   "metadata": {
    "tags": []
   },
   "outputs": [],
   "source": [
    "def k_means_clustering(data, k, max_iterations=100):\n",
    "    # 초기 중심 설정\n",
    "    centroids = data[np.random.choice(data.shape[0], k, replace=False)]  # 임의의 k개 데이터 포인트를 중심으로 선택\n",
    "    \n",
    "    for _ in range(max_iterations):\n",
    "        # 할당 단계: 각 데이터 포인트를 가장 가까운 중심에 할당\n",
    "        clusters = [[] for _ in range(k)]  # 클러스터 할당을 저장할 리스트 초기화\n",
    "        for point in data:\n",
    "            distances = [np.linalg.norm(point - centroid) for centroid in centroids]  # 모든 중심까지의 거리 계산 - 유클리드\n",
    "            cluster_index = np.argmin(distances)  # 가장 가까운 중심의 인덱스를 찾음\n",
    "            clusters[cluster_index].append(point)  # 해당 클러스터에 데이터 포인트 추가\n",
    "        \n",
    "        # 업데이트 단계: 각 클러스터에 속한 데이터 포인트들의 평균을 계산하여 새로운 중심을 구함\n",
    "        new_centroids = []\n",
    "        for cluster in clusters:\n",
    "            new_centroid = np.mean(cluster, axis=0)  # 클러스터 내 데이터 포인트들의 평균을 계산하여 새로운 중심 구함\n",
    "            new_centroids.append(new_centroid)\n",
    "        \n",
    "        # 중심이 수렴하면 종료\n",
    "        if np.allclose(centroids, new_centroids):  # 이전 중심과 새로운 중심이 거의 같으면\n",
    "            break\n",
    "        \n",
    "        centroids = np.array(new_centroids)  # 새로운 중심으로 갱신\n",
    "    \n",
    "    return centroids, clusters"
   ]
  },
  {
   "cell_type": "code",
   "execution_count": 38,
   "id": "ad2c265e-cfff-4aeb-8b2b-678f7647edb6",
   "metadata": {
    "tags": []
   },
   "outputs": [],
   "source": [
    "# 예시 데이터 생성 - 배열\n",
    "data = np.random.rand(100, 2)"
   ]
  },
  {
   "cell_type": "code",
   "execution_count": 39,
   "id": "63fc80bc-0f0e-48fe-b5f0-1b5711ae7e40",
   "metadata": {
    "tags": []
   },
   "outputs": [
    {
     "name": "stdout",
     "output_type": "stream",
     "text": [
      "Cluster 1 has 27 points.\n",
      "Cluster 2 has 39 points.\n",
      "Cluster 3 has 34 points.\n"
     ]
    }
   ],
   "source": [
    "# k-means 클러스터링 적용\n",
    "k = 3\n",
    "centroids, clusters = k_means_clustering(data, k)\n",
    "\n",
    "# 결과 출력\n",
    "for i, cluster in enumerate(clusters):\n",
    "    print(f\"Cluster {i+1} has {len(cluster)} points.\")"
   ]
  },
  {
   "cell_type": "code",
   "execution_count": null,
   "id": "04e84aa4-706e-49b2-a9b4-dfd191568097",
   "metadata": {},
   "outputs": [],
   "source": [
    "\\"
   ]
  }
 ],
 "metadata": {
  "kernelspec": {
   "display_name": "Python 3 (ipykernel)",
   "language": "python",
   "name": "python3"
  },
  "language_info": {
   "codemirror_mode": {
    "name": "ipython",
    "version": 3
   },
   "file_extension": ".py",
   "mimetype": "text/x-python",
   "name": "python",
   "nbconvert_exporter": "python",
   "pygments_lexer": "ipython3",
   "version": "3.11.4"
  }
 },
 "nbformat": 4,
 "nbformat_minor": 5
}
