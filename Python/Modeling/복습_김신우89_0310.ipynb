{
 "cells": [
  {
   "cell_type": "code",
   "execution_count": null,
   "id": "26373b81",
   "metadata": {
    "id": "26373b81"
   },
   "outputs": [],
   "source": [
    "from sklearn.datasets import load_iris\n",
    "from sklearn.tree import DecisionTreeClassifier\n",
    "from sklearn.model_selection import train_test_split\n",
    "import pandas as pd\n",
    "import numpy as np"
   ]
  },
  {
   "cell_type": "code",
   "execution_count": null,
   "id": "69ed30f7",
   "metadata": {
    "id": "69ed30f7"
   },
   "outputs": [],
   "source": [
    "# iris data 불러오기\n",
    "iris = load_iris()\n",
    "iris_data =iris.data\n",
    "iris_label = iris.target\n",
    "iris_df = pd.DataFrame(data=iris.data, columns = iris.feature_names)\n",
    "## 데이터셋 정의\n",
    "\n",
    "iris_df['y']= iris_label"
   ]
  },
  {
   "cell_type": "code",
   "execution_count": null,
   "id": "e4cb7e4d",
   "metadata": {
    "id": "e4cb7e4d",
    "outputId": "7d0adb9e-318b-41eb-ea3a-24ec8678dcbb"
   },
   "outputs": [
    {
     "data": {
      "text/plain": [
       "0    50\n",
       "1    50\n",
       "2    50\n",
       "Name: y, dtype: int64"
      ]
     },
     "execution_count": 3,
     "metadata": {},
     "output_type": "execute_result"
    }
   ],
   "source": [
    "iris_df.y.value_counts() # 클래스 다중분류, 균등하게 50개씩"
   ]
  },
  {
   "cell_type": "markdown",
   "id": "65076758",
   "metadata": {
    "id": "65076758"
   },
   "source": [
    "## train_test_split을 통해 데이터를 나눈다."
   ]
  },
  {
   "cell_type": "code",
   "execution_count": null,
   "id": "3652562a",
   "metadata": {
    "id": "3652562a"
   },
   "outputs": [],
   "source": [
    "#데이터 분리\n",
    "from sklearn.model_selection import train_test_split\n",
    "\n",
    "#train_test 데이터셋 분리\n",
    "X_train, X_test, y_train, y_test = train_test_split(iris_data, iris_label, test_size=0.3, random_state=111)"
   ]
  },
  {
   "cell_type": "markdown",
   "id": "7289239c",
   "metadata": {
    "id": "7289239c"
   },
   "source": [
    "- test_size : train,test 나누는 비중\n",
    "- random_state : 카드게임 포커 ( 포커 자체를 섞는다 ) 1번 섞고 2번 섞고 (처음 시작하는 포커의 순서는 동일,  섞는 것도 동일하게 섞는다 )\n",
    "- random_seed의 개념과 같은 난수 지정"
   ]
  },
  {
   "cell_type": "code",
   "execution_count": null,
   "id": "a6b5ba19",
   "metadata": {
    "id": "a6b5ba19",
    "outputId": "d9f12cbf-42f6-4dbf-acbc-1650a5bd9061"
   },
   "outputs": [
    {
     "data": {
      "text/plain": [
       "array([0, 0, 2, 2, 1, 0, 0, 2, 2, 1, 2, 0, 2, 2, 2, 0, 2, 1, 0, 2, 1, 2,\n",
       "       1, 1, 2, 0, 0, 1, 0, 2, 0, 1, 0, 0, 1, 2, 2, 1, 0, 1, 1, 1, 1, 1,\n",
       "       2])"
      ]
     },
     "execution_count": 5,
     "metadata": {},
     "output_type": "execute_result"
    }
   ],
   "source": [
    "y_test"
   ]
  },
  {
   "cell_type": "code",
   "execution_count": null,
   "id": "1344c29c",
   "metadata": {
    "id": "1344c29c",
    "outputId": "91444462-02cc-4a1c-f68e-2fdbcf971316"
   },
   "outputs": [
    {
     "data": {
      "text/plain": [
       "array([1, 1, 0, 0, 1, 1, 1, 1, 0, 1, 0, 0, 2, 0, 0, 2, 1, 1, 2, 0, 1, 2,\n",
       "       2, 0, 2, 0, 1, 2, 1, 2, 2, 1, 1, 2, 1, 2, 0, 2, 2, 0, 0, 1, 1, 2,\n",
       "       2, 0, 2, 2, 0, 1, 1, 1, 1, 2, 2, 0, 1, 0, 1, 2, 2, 2, 2, 0, 0, 2,\n",
       "       1, 0, 0, 2, 2, 1, 0, 1, 2, 0, 0, 2, 0, 1, 1, 2, 2, 1, 0, 1, 0, 1,\n",
       "       2, 0, 1, 0, 0, 0, 2, 0, 0, 0, 0, 2, 1, 0, 1, 2, 1])"
      ]
     },
     "execution_count": 6,
     "metadata": {},
     "output_type": "execute_result"
    }
   ],
   "source": [
    "y_train"
   ]
  },
  {
   "cell_type": "markdown",
   "id": "645ae962",
   "metadata": {
    "id": "645ae962"
   },
   "source": [
    "## DT를 통해서 모델에 학습해 보자!"
   ]
  },
  {
   "cell_type": "code",
   "execution_count": null,
   "id": "519b03e1",
   "metadata": {
    "id": "519b03e1"
   },
   "outputs": [],
   "source": [
    "#모델링은 불러오기만 하면 된다.\n",
    "df_clf = DecisionTreeClassifier(random_state=111)\n",
    "# dt 모델을 불러옴"
   ]
  },
  {
   "cell_type": "code",
   "execution_count": null,
   "id": "be3b4986",
   "metadata": {
    "id": "be3b4986",
    "outputId": "06e1b9f3-3f59-4838-de73-72ae73748072"
   },
   "outputs": [
    {
     "data": {
      "text/html": [
       "<style>#sk-container-id-1 {color: black;}#sk-container-id-1 pre{padding: 0;}#sk-container-id-1 div.sk-toggleable {background-color: white;}#sk-container-id-1 label.sk-toggleable__label {cursor: pointer;display: block;width: 100%;margin-bottom: 0;padding: 0.3em;box-sizing: border-box;text-align: center;}#sk-container-id-1 label.sk-toggleable__label-arrow:before {content: \"▸\";float: left;margin-right: 0.25em;color: #696969;}#sk-container-id-1 label.sk-toggleable__label-arrow:hover:before {color: black;}#sk-container-id-1 div.sk-estimator:hover label.sk-toggleable__label-arrow:before {color: black;}#sk-container-id-1 div.sk-toggleable__content {max-height: 0;max-width: 0;overflow: hidden;text-align: left;background-color: #f0f8ff;}#sk-container-id-1 div.sk-toggleable__content pre {margin: 0.2em;color: black;border-radius: 0.25em;background-color: #f0f8ff;}#sk-container-id-1 input.sk-toggleable__control:checked~div.sk-toggleable__content {max-height: 200px;max-width: 100%;overflow: auto;}#sk-container-id-1 input.sk-toggleable__control:checked~label.sk-toggleable__label-arrow:before {content: \"▾\";}#sk-container-id-1 div.sk-estimator input.sk-toggleable__control:checked~label.sk-toggleable__label {background-color: #d4ebff;}#sk-container-id-1 div.sk-label input.sk-toggleable__control:checked~label.sk-toggleable__label {background-color: #d4ebff;}#sk-container-id-1 input.sk-hidden--visually {border: 0;clip: rect(1px 1px 1px 1px);clip: rect(1px, 1px, 1px, 1px);height: 1px;margin: -1px;overflow: hidden;padding: 0;position: absolute;width: 1px;}#sk-container-id-1 div.sk-estimator {font-family: monospace;background-color: #f0f8ff;border: 1px dotted black;border-radius: 0.25em;box-sizing: border-box;margin-bottom: 0.5em;}#sk-container-id-1 div.sk-estimator:hover {background-color: #d4ebff;}#sk-container-id-1 div.sk-parallel-item::after {content: \"\";width: 100%;border-bottom: 1px solid gray;flex-grow: 1;}#sk-container-id-1 div.sk-label:hover label.sk-toggleable__label {background-color: #d4ebff;}#sk-container-id-1 div.sk-serial::before {content: \"\";position: absolute;border-left: 1px solid gray;box-sizing: border-box;top: 0;bottom: 0;left: 50%;z-index: 0;}#sk-container-id-1 div.sk-serial {display: flex;flex-direction: column;align-items: center;background-color: white;padding-right: 0.2em;padding-left: 0.2em;position: relative;}#sk-container-id-1 div.sk-item {position: relative;z-index: 1;}#sk-container-id-1 div.sk-parallel {display: flex;align-items: stretch;justify-content: center;background-color: white;position: relative;}#sk-container-id-1 div.sk-item::before, #sk-container-id-1 div.sk-parallel-item::before {content: \"\";position: absolute;border-left: 1px solid gray;box-sizing: border-box;top: 0;bottom: 0;left: 50%;z-index: -1;}#sk-container-id-1 div.sk-parallel-item {display: flex;flex-direction: column;z-index: 1;position: relative;background-color: white;}#sk-container-id-1 div.sk-parallel-item:first-child::after {align-self: flex-end;width: 50%;}#sk-container-id-1 div.sk-parallel-item:last-child::after {align-self: flex-start;width: 50%;}#sk-container-id-1 div.sk-parallel-item:only-child::after {width: 0;}#sk-container-id-1 div.sk-dashed-wrapped {border: 1px dashed gray;margin: 0 0.4em 0.5em 0.4em;box-sizing: border-box;padding-bottom: 0.4em;background-color: white;}#sk-container-id-1 div.sk-label label {font-family: monospace;font-weight: bold;display: inline-block;line-height: 1.2em;}#sk-container-id-1 div.sk-label-container {text-align: center;}#sk-container-id-1 div.sk-container {/* jupyter's `normalize.less` sets `[hidden] { display: none; }` but bootstrap.min.css set `[hidden] { display: none !important; }` so we also need the `!important` here to be able to override the default hidden behavior on the sphinx rendered scikit-learn.org. See: https://github.com/scikit-learn/scikit-learn/issues/21755 */display: inline-block !important;position: relative;}#sk-container-id-1 div.sk-text-repr-fallback {display: none;}</style><div id=\"sk-container-id-1\" class=\"sk-top-container\"><div class=\"sk-text-repr-fallback\"><pre>DecisionTreeClassifier(random_state=111)</pre><b>In a Jupyter environment, please rerun this cell to show the HTML representation or trust the notebook. <br />On GitHub, the HTML representation is unable to render, please try loading this page with nbviewer.org.</b></div><div class=\"sk-container\" hidden><div class=\"sk-item\"><div class=\"sk-estimator sk-toggleable\"><input class=\"sk-toggleable__control sk-hidden--visually\" id=\"sk-estimator-id-1\" type=\"checkbox\" checked><label for=\"sk-estimator-id-1\" class=\"sk-toggleable__label sk-toggleable__label-arrow\">DecisionTreeClassifier</label><div class=\"sk-toggleable__content\"><pre>DecisionTreeClassifier(random_state=111)</pre></div></div></div></div></div>"
      ],
      "text/plain": [
       "DecisionTreeClassifier(random_state=111)"
      ]
     },
     "execution_count": 8,
     "metadata": {},
     "output_type": "execute_result"
    }
   ],
   "source": [
    "df_clf"
   ]
  },
  {
   "cell_type": "markdown",
   "id": "bc600758",
   "metadata": {
    "id": "bc600758"
   },
   "source": [
    "### 모델을 불러왔으니 ->학습을 하면 된다.\n",
    "- train 데이터로 학습하고 -> test 데이터로 검증한다."
   ]
  },
  {
   "cell_type": "markdown",
   "id": "de717fb4",
   "metadata": {
    "id": "de717fb4"
   },
   "source": [
    "- 학습시킬 때 사용하는 함수는 fit"
   ]
  },
  {
   "cell_type": "code",
   "execution_count": null,
   "id": "a90638fe",
   "metadata": {
    "id": "a90638fe",
    "outputId": "40b8bbda-b868-4d0e-b04d-09e44ef19b0d"
   },
   "outputs": [
    {
     "data": {
      "text/html": [
       "<style>#sk-container-id-2 {color: black;}#sk-container-id-2 pre{padding: 0;}#sk-container-id-2 div.sk-toggleable {background-color: white;}#sk-container-id-2 label.sk-toggleable__label {cursor: pointer;display: block;width: 100%;margin-bottom: 0;padding: 0.3em;box-sizing: border-box;text-align: center;}#sk-container-id-2 label.sk-toggleable__label-arrow:before {content: \"▸\";float: left;margin-right: 0.25em;color: #696969;}#sk-container-id-2 label.sk-toggleable__label-arrow:hover:before {color: black;}#sk-container-id-2 div.sk-estimator:hover label.sk-toggleable__label-arrow:before {color: black;}#sk-container-id-2 div.sk-toggleable__content {max-height: 0;max-width: 0;overflow: hidden;text-align: left;background-color: #f0f8ff;}#sk-container-id-2 div.sk-toggleable__content pre {margin: 0.2em;color: black;border-radius: 0.25em;background-color: #f0f8ff;}#sk-container-id-2 input.sk-toggleable__control:checked~div.sk-toggleable__content {max-height: 200px;max-width: 100%;overflow: auto;}#sk-container-id-2 input.sk-toggleable__control:checked~label.sk-toggleable__label-arrow:before {content: \"▾\";}#sk-container-id-2 div.sk-estimator input.sk-toggleable__control:checked~label.sk-toggleable__label {background-color: #d4ebff;}#sk-container-id-2 div.sk-label input.sk-toggleable__control:checked~label.sk-toggleable__label {background-color: #d4ebff;}#sk-container-id-2 input.sk-hidden--visually {border: 0;clip: rect(1px 1px 1px 1px);clip: rect(1px, 1px, 1px, 1px);height: 1px;margin: -1px;overflow: hidden;padding: 0;position: absolute;width: 1px;}#sk-container-id-2 div.sk-estimator {font-family: monospace;background-color: #f0f8ff;border: 1px dotted black;border-radius: 0.25em;box-sizing: border-box;margin-bottom: 0.5em;}#sk-container-id-2 div.sk-estimator:hover {background-color: #d4ebff;}#sk-container-id-2 div.sk-parallel-item::after {content: \"\";width: 100%;border-bottom: 1px solid gray;flex-grow: 1;}#sk-container-id-2 div.sk-label:hover label.sk-toggleable__label {background-color: #d4ebff;}#sk-container-id-2 div.sk-serial::before {content: \"\";position: absolute;border-left: 1px solid gray;box-sizing: border-box;top: 0;bottom: 0;left: 50%;z-index: 0;}#sk-container-id-2 div.sk-serial {display: flex;flex-direction: column;align-items: center;background-color: white;padding-right: 0.2em;padding-left: 0.2em;position: relative;}#sk-container-id-2 div.sk-item {position: relative;z-index: 1;}#sk-container-id-2 div.sk-parallel {display: flex;align-items: stretch;justify-content: center;background-color: white;position: relative;}#sk-container-id-2 div.sk-item::before, #sk-container-id-2 div.sk-parallel-item::before {content: \"\";position: absolute;border-left: 1px solid gray;box-sizing: border-box;top: 0;bottom: 0;left: 50%;z-index: -1;}#sk-container-id-2 div.sk-parallel-item {display: flex;flex-direction: column;z-index: 1;position: relative;background-color: white;}#sk-container-id-2 div.sk-parallel-item:first-child::after {align-self: flex-end;width: 50%;}#sk-container-id-2 div.sk-parallel-item:last-child::after {align-self: flex-start;width: 50%;}#sk-container-id-2 div.sk-parallel-item:only-child::after {width: 0;}#sk-container-id-2 div.sk-dashed-wrapped {border: 1px dashed gray;margin: 0 0.4em 0.5em 0.4em;box-sizing: border-box;padding-bottom: 0.4em;background-color: white;}#sk-container-id-2 div.sk-label label {font-family: monospace;font-weight: bold;display: inline-block;line-height: 1.2em;}#sk-container-id-2 div.sk-label-container {text-align: center;}#sk-container-id-2 div.sk-container {/* jupyter's `normalize.less` sets `[hidden] { display: none; }` but bootstrap.min.css set `[hidden] { display: none !important; }` so we also need the `!important` here to be able to override the default hidden behavior on the sphinx rendered scikit-learn.org. See: https://github.com/scikit-learn/scikit-learn/issues/21755 */display: inline-block !important;position: relative;}#sk-container-id-2 div.sk-text-repr-fallback {display: none;}</style><div id=\"sk-container-id-2\" class=\"sk-top-container\"><div class=\"sk-text-repr-fallback\"><pre>DecisionTreeClassifier(random_state=111)</pre><b>In a Jupyter environment, please rerun this cell to show the HTML representation or trust the notebook. <br />On GitHub, the HTML representation is unable to render, please try loading this page with nbviewer.org.</b></div><div class=\"sk-container\" hidden><div class=\"sk-item\"><div class=\"sk-estimator sk-toggleable\"><input class=\"sk-toggleable__control sk-hidden--visually\" id=\"sk-estimator-id-2\" type=\"checkbox\" checked><label for=\"sk-estimator-id-2\" class=\"sk-toggleable__label sk-toggleable__label-arrow\">DecisionTreeClassifier</label><div class=\"sk-toggleable__content\"><pre>DecisionTreeClassifier(random_state=111)</pre></div></div></div></div></div>"
      ],
      "text/plain": [
       "DecisionTreeClassifier(random_state=111)"
      ]
     },
     "execution_count": 9,
     "metadata": {},
     "output_type": "execute_result"
    }
   ],
   "source": [
    "df_clf.fit(X_train, y_train) # 모델에 train 데이터를 학습한다."
   ]
  },
  {
   "cell_type": "markdown",
   "id": "a8d93a24",
   "metadata": {
    "id": "a8d93a24"
   },
   "source": [
    "- test를 검증해야 한다.\n",
    "- test와 어떤 걸 가지고 검증해야 할까?\n",
    "- 머신에게 예측을 해봐! 예측값을 가지고 실제값과 예측값의 차이로 비교하는 것! 성능 평가\n",
    "\n",
    "- X_train, y_train -> 학습을 위해 사용하는 데이터 셋\n",
    "- X_test, y_test -> 검증을 위해 사용하는 데이터셋\n",
    "- y_test , ????? -> 누구랑 비교를 할 것인가?\n",
    "---\n",
    "- ???? -> 머신이 train 예측한 값을 y_test 비교한다!\n",
    "---\n",
    "- y_test, 예측값을 머신을 통해 출력(y_pred) -> 정확도, 정밀도, 재현율, F1스코어, Roc 등등 비교를 하는 것"
   ]
  },
  {
   "cell_type": "markdown",
   "id": "a8a86b47",
   "metadata": {
    "id": "a8a86b47"
   },
   "source": [
    "- 예측을 위해서 predict  예측값을 출력 할 예정"
   ]
  },
  {
   "cell_type": "code",
   "execution_count": null,
   "id": "53e45c73",
   "metadata": {
    "id": "53e45c73"
   },
   "outputs": [],
   "source": [
    "train_pred =df_clf.predict(X_train)"
   ]
  },
  {
   "cell_type": "code",
   "execution_count": null,
   "id": "242a4232",
   "metadata": {
    "id": "242a4232",
    "outputId": "e8e17c05-5bc0-448d-d1cf-eee0f6c61d47"
   },
   "outputs": [
    {
     "data": {
      "text/plain": [
       "array([1, 1, 0, 0, 1, 1, 1, 1, 0, 1, 0, 0, 2, 0, 0, 2, 1, 1, 2, 0, 1, 2,\n",
       "       2, 0, 2, 0, 1, 2, 1, 2, 2, 1, 1, 2, 1, 2, 0, 2, 2, 0, 0, 1, 1, 2,\n",
       "       2, 0, 2, 2, 0, 1, 1, 1, 1, 2, 2, 0, 1, 0, 1, 2, 2, 2, 2, 0, 0, 2,\n",
       "       1, 0, 0, 2, 2, 1, 0, 1, 2, 0, 0, 2, 0, 1, 1, 2, 2, 1, 0, 1, 0, 1,\n",
       "       2, 0, 1, 0, 0, 0, 2, 0, 0, 0, 0, 2, 1, 0, 1, 2, 1])"
      ]
     },
     "execution_count": 11,
     "metadata": {},
     "output_type": "execute_result"
    }
   ],
   "source": [
    "train_pred"
   ]
  },
  {
   "cell_type": "code",
   "execution_count": null,
   "id": "f56a0c78",
   "metadata": {
    "id": "f56a0c78",
    "outputId": "4fe7c2dd-a3d0-4708-fdac-f455ff4059a4"
   },
   "outputs": [
    {
     "name": "stdout",
     "output_type": "stream",
     "text": [
      "DT train 정확도 : 1.0000\n"
     ]
    }
   ],
   "source": [
    "from sklearn.metrics import accuracy_score #사이킷런패키지에서 불러오는 정확도 평가 메트릭스\n",
    "\n",
    "print('DT train 정확도 : {0:.4f}'.format(accuracy_score(y_train, train_pred))) # accuracy_score(실제값, 예측값 )"
   ]
  },
  {
   "cell_type": "markdown",
   "id": "4d743033",
   "metadata": {
    "id": "4d743033"
   },
   "source": [
    "- train 100% 나왔다.\n",
    "- 과적합이네?"
   ]
  },
  {
   "cell_type": "markdown",
   "id": "8923c540",
   "metadata": {
    "id": "8923c540"
   },
   "source": [
    "- test를 가지고 실제 진행해 보자!"
   ]
  },
  {
   "cell_type": "code",
   "execution_count": null,
   "id": "0b53dbcf",
   "metadata": {
    "id": "0b53dbcf"
   },
   "outputs": [],
   "source": [
    "test_pred = df_clf.predict(X_test) # test 데이터로 실제 값을 예측"
   ]
  },
  {
   "cell_type": "code",
   "execution_count": null,
   "id": "65ac41fa",
   "metadata": {
    "id": "65ac41fa",
    "outputId": "15d244e3-3205-4d6c-8cea-27b47feff3f7"
   },
   "outputs": [
    {
     "data": {
      "text/plain": [
       "array([0, 0, 2, 2, 2, 0, 0, 2, 2, 1, 2, 0, 1, 2, 2, 0, 2, 1, 0, 2, 1, 2,\n",
       "       1, 1, 2, 0, 0, 2, 0, 2, 0, 1, 0, 0, 1, 2, 2, 1, 0, 1, 1, 1, 1, 1,\n",
       "       2])"
      ]
     },
     "execution_count": 14,
     "metadata": {},
     "output_type": "execute_result"
    }
   ],
   "source": [
    "test_pred"
   ]
  },
  {
   "cell_type": "code",
   "execution_count": null,
   "id": "87312f22",
   "metadata": {
    "id": "87312f22",
    "outputId": "fc6d2954-4484-4a30-f200-f3de92686e8d"
   },
   "outputs": [
    {
     "name": "stdout",
     "output_type": "stream",
     "text": [
      "DT train 정확도 : 1.0000\n",
      "DT test 정확도 : 0.9333\n"
     ]
    }
   ],
   "source": [
    "print('DT train 정확도 : {0:.4f}'.format(accuracy_score(y_train, train_pred))) # accuracy_score(실제값, 예측값 )\n",
    "print('DT test 정확도 : {0:.4f}'.format(accuracy_score(y_test, test_pred))) # accuracy_score(실제값, 예측값 )"
   ]
  },
  {
   "cell_type": "markdown",
   "id": "f8ccda22",
   "metadata": {
    "id": "f8ccda22"
   },
   "source": [
    "- train 100% , test 93%\n",
    "- base 모델"
   ]
  },
  {
   "cell_type": "markdown",
   "id": "f18484d8",
   "metadata": {
    "id": "f18484d8"
   },
   "source": [
    "- 100% train의 과적합 -> 문제가 있다. train 너무 핏한 모델\n",
    "- 다양한 방법으로 해당 내용들을 과적합 되지 않게 진행해야 한다."
   ]
  },
  {
   "cell_type": "markdown",
   "id": "e878b430",
   "metadata": {
    "id": "e878b430"
   },
   "source": [
    "## Dt의 하이퍼파라미터를  조정하여 오버피팅을 막아보자!"
   ]
  },
  {
   "cell_type": "code",
   "execution_count": null,
   "id": "b0853931",
   "metadata": {
    "id": "b0853931"
   },
   "outputs": [],
   "source": [
    "df_clf1 = DecisionTreeClassifier(max_depth =2 ,random_state=111)"
   ]
  },
  {
   "cell_type": "code",
   "execution_count": null,
   "id": "0688de4c",
   "metadata": {
    "id": "0688de4c",
    "outputId": "69940b14-d48d-488c-bb2b-3cd1201edc8f"
   },
   "outputs": [
    {
     "data": {
      "text/html": [
       "<style>#sk-container-id-3 {color: black;}#sk-container-id-3 pre{padding: 0;}#sk-container-id-3 div.sk-toggleable {background-color: white;}#sk-container-id-3 label.sk-toggleable__label {cursor: pointer;display: block;width: 100%;margin-bottom: 0;padding: 0.3em;box-sizing: border-box;text-align: center;}#sk-container-id-3 label.sk-toggleable__label-arrow:before {content: \"▸\";float: left;margin-right: 0.25em;color: #696969;}#sk-container-id-3 label.sk-toggleable__label-arrow:hover:before {color: black;}#sk-container-id-3 div.sk-estimator:hover label.sk-toggleable__label-arrow:before {color: black;}#sk-container-id-3 div.sk-toggleable__content {max-height: 0;max-width: 0;overflow: hidden;text-align: left;background-color: #f0f8ff;}#sk-container-id-3 div.sk-toggleable__content pre {margin: 0.2em;color: black;border-radius: 0.25em;background-color: #f0f8ff;}#sk-container-id-3 input.sk-toggleable__control:checked~div.sk-toggleable__content {max-height: 200px;max-width: 100%;overflow: auto;}#sk-container-id-3 input.sk-toggleable__control:checked~label.sk-toggleable__label-arrow:before {content: \"▾\";}#sk-container-id-3 div.sk-estimator input.sk-toggleable__control:checked~label.sk-toggleable__label {background-color: #d4ebff;}#sk-container-id-3 div.sk-label input.sk-toggleable__control:checked~label.sk-toggleable__label {background-color: #d4ebff;}#sk-container-id-3 input.sk-hidden--visually {border: 0;clip: rect(1px 1px 1px 1px);clip: rect(1px, 1px, 1px, 1px);height: 1px;margin: -1px;overflow: hidden;padding: 0;position: absolute;width: 1px;}#sk-container-id-3 div.sk-estimator {font-family: monospace;background-color: #f0f8ff;border: 1px dotted black;border-radius: 0.25em;box-sizing: border-box;margin-bottom: 0.5em;}#sk-container-id-3 div.sk-estimator:hover {background-color: #d4ebff;}#sk-container-id-3 div.sk-parallel-item::after {content: \"\";width: 100%;border-bottom: 1px solid gray;flex-grow: 1;}#sk-container-id-3 div.sk-label:hover label.sk-toggleable__label {background-color: #d4ebff;}#sk-container-id-3 div.sk-serial::before {content: \"\";position: absolute;border-left: 1px solid gray;box-sizing: border-box;top: 0;bottom: 0;left: 50%;z-index: 0;}#sk-container-id-3 div.sk-serial {display: flex;flex-direction: column;align-items: center;background-color: white;padding-right: 0.2em;padding-left: 0.2em;position: relative;}#sk-container-id-3 div.sk-item {position: relative;z-index: 1;}#sk-container-id-3 div.sk-parallel {display: flex;align-items: stretch;justify-content: center;background-color: white;position: relative;}#sk-container-id-3 div.sk-item::before, #sk-container-id-3 div.sk-parallel-item::before {content: \"\";position: absolute;border-left: 1px solid gray;box-sizing: border-box;top: 0;bottom: 0;left: 50%;z-index: -1;}#sk-container-id-3 div.sk-parallel-item {display: flex;flex-direction: column;z-index: 1;position: relative;background-color: white;}#sk-container-id-3 div.sk-parallel-item:first-child::after {align-self: flex-end;width: 50%;}#sk-container-id-3 div.sk-parallel-item:last-child::after {align-self: flex-start;width: 50%;}#sk-container-id-3 div.sk-parallel-item:only-child::after {width: 0;}#sk-container-id-3 div.sk-dashed-wrapped {border: 1px dashed gray;margin: 0 0.4em 0.5em 0.4em;box-sizing: border-box;padding-bottom: 0.4em;background-color: white;}#sk-container-id-3 div.sk-label label {font-family: monospace;font-weight: bold;display: inline-block;line-height: 1.2em;}#sk-container-id-3 div.sk-label-container {text-align: center;}#sk-container-id-3 div.sk-container {/* jupyter's `normalize.less` sets `[hidden] { display: none; }` but bootstrap.min.css set `[hidden] { display: none !important; }` so we also need the `!important` here to be able to override the default hidden behavior on the sphinx rendered scikit-learn.org. See: https://github.com/scikit-learn/scikit-learn/issues/21755 */display: inline-block !important;position: relative;}#sk-container-id-3 div.sk-text-repr-fallback {display: none;}</style><div id=\"sk-container-id-3\" class=\"sk-top-container\"><div class=\"sk-text-repr-fallback\"><pre>DecisionTreeClassifier(max_depth=2, random_state=111)</pre><b>In a Jupyter environment, please rerun this cell to show the HTML representation or trust the notebook. <br />On GitHub, the HTML representation is unable to render, please try loading this page with nbviewer.org.</b></div><div class=\"sk-container\" hidden><div class=\"sk-item\"><div class=\"sk-estimator sk-toggleable\"><input class=\"sk-toggleable__control sk-hidden--visually\" id=\"sk-estimator-id-3\" type=\"checkbox\" checked><label for=\"sk-estimator-id-3\" class=\"sk-toggleable__label sk-toggleable__label-arrow\">DecisionTreeClassifier</label><div class=\"sk-toggleable__content\"><pre>DecisionTreeClassifier(max_depth=2, random_state=111)</pre></div></div></div></div></div>"
      ],
      "text/plain": [
       "DecisionTreeClassifier(max_depth=2, random_state=111)"
      ]
     },
     "execution_count": 17,
     "metadata": {},
     "output_type": "execute_result"
    }
   ],
   "source": [
    "df_clf1.fit(X_train, y_train)"
   ]
  },
  {
   "cell_type": "code",
   "execution_count": null,
   "id": "1051264e",
   "metadata": {
    "id": "1051264e"
   },
   "outputs": [],
   "source": [
    "train_pred1 =df_clf1.predict(X_train)"
   ]
  },
  {
   "cell_type": "code",
   "execution_count": null,
   "id": "1d428def",
   "metadata": {
    "id": "1d428def",
    "outputId": "f56c5355-3d40-4712-f828-1eff98aa0a6a"
   },
   "outputs": [
    {
     "name": "stdout",
     "output_type": "stream",
     "text": [
      "DT train 정확도 : 0.9714\n"
     ]
    }
   ],
   "source": [
    "print('DT train 정확도 : {0:.4f}'.format(accuracy_score(y_train, train_pred1))) # accuracy_score(실제값, 예측값 )"
   ]
  },
  {
   "cell_type": "markdown",
   "id": "e330ad69",
   "metadata": {
    "id": "e330ad69"
   },
   "source": [
    "- 과적합을 막기위해서 -> 모델링에 하이퍼파라미터를 튜닝하게 되어서 100% -> 97% 정도로 잡았다.\n",
    "\n",
    "- 이렇게 하는 이유는? 100%가 더 좋은 성능인데 왜 97%로 만들어서 진행하는가?\n",
    "\n",
    "- 모델링에 대한 일반화를 하기 위해서 이런 작업을 하는 것"
   ]
  },
  {
   "cell_type": "code",
   "execution_count": null,
   "id": "ce3c50f3",
   "metadata": {
    "id": "ce3c50f3"
   },
   "outputs": [],
   "source": [
    "from sklearn.datasets import load_iris\n",
    "from sklearn.tree import DecisionTreeClassifier\n",
    "from sklearn.model_selection import train_test_split\n",
    "from sklearn.metrics import accuracy_score, precision_score, recall_score #Confusion matrix 수업 때 진행할 예정\n",
    "from sklearn.model_selection import KFold\n",
    "from sklearn.metrics import classification_report\n",
    "from sklearn.metrics import accuracy_score#임포트\n",
    "import numpy as np\n",
    "import pandas as pd"
   ]
  },
  {
   "cell_type": "markdown",
   "id": "5b75ee50",
   "metadata": {
    "id": "5b75ee50"
   },
   "source": [
    "- kfold의 문제점을 간단히 살펴보고 코드로\n",
    "- 다양한 교차검증 코드를 진행할 예정"
   ]
  },
  {
   "cell_type": "code",
   "execution_count": null,
   "id": "c79b0848",
   "metadata": {
    "id": "c79b0848"
   },
   "outputs": [],
   "source": [
    "fold_iris = load_iris()\n",
    "features = fold_iris.data\n",
    "\n",
    "label = fold_iris.target"
   ]
  },
  {
   "cell_type": "code",
   "execution_count": null,
   "id": "4509e2ad",
   "metadata": {
    "id": "4509e2ad",
    "outputId": "2e9512e4-aaf4-4b4c-f82f-3624b07b1de1"
   },
   "outputs": [
    {
     "data": {
      "text/plain": [
       "array([[5.1, 3.5, 1.4, 0.2],\n",
       "       [4.9, 3. , 1.4, 0.2],\n",
       "       [4.7, 3.2, 1.3, 0.2],\n",
       "       [4.6, 3.1, 1.5, 0.2],\n",
       "       [5. , 3.6, 1.4, 0.2],\n",
       "       [5.4, 3.9, 1.7, 0.4],\n",
       "       [4.6, 3.4, 1.4, 0.3],\n",
       "       [5. , 3.4, 1.5, 0.2],\n",
       "       [4.4, 2.9, 1.4, 0.2],\n",
       "       [4.9, 3.1, 1.5, 0.1],\n",
       "       [5.4, 3.7, 1.5, 0.2],\n",
       "       [4.8, 3.4, 1.6, 0.2],\n",
       "       [4.8, 3. , 1.4, 0.1],\n",
       "       [4.3, 3. , 1.1, 0.1],\n",
       "       [5.8, 4. , 1.2, 0.2],\n",
       "       [5.7, 4.4, 1.5, 0.4],\n",
       "       [5.4, 3.9, 1.3, 0.4],\n",
       "       [5.1, 3.5, 1.4, 0.3],\n",
       "       [5.7, 3.8, 1.7, 0.3],\n",
       "       [5.1, 3.8, 1.5, 0.3],\n",
       "       [5.4, 3.4, 1.7, 0.2],\n",
       "       [5.1, 3.7, 1.5, 0.4],\n",
       "       [4.6, 3.6, 1. , 0.2],\n",
       "       [5.1, 3.3, 1.7, 0.5],\n",
       "       [4.8, 3.4, 1.9, 0.2],\n",
       "       [5. , 3. , 1.6, 0.2],\n",
       "       [5. , 3.4, 1.6, 0.4],\n",
       "       [5.2, 3.5, 1.5, 0.2],\n",
       "       [5.2, 3.4, 1.4, 0.2],\n",
       "       [4.7, 3.2, 1.6, 0.2],\n",
       "       [4.8, 3.1, 1.6, 0.2],\n",
       "       [5.4, 3.4, 1.5, 0.4],\n",
       "       [5.2, 4.1, 1.5, 0.1],\n",
       "       [5.5, 4.2, 1.4, 0.2],\n",
       "       [4.9, 3.1, 1.5, 0.2],\n",
       "       [5. , 3.2, 1.2, 0.2],\n",
       "       [5.5, 3.5, 1.3, 0.2],\n",
       "       [4.9, 3.6, 1.4, 0.1],\n",
       "       [4.4, 3. , 1.3, 0.2],\n",
       "       [5.1, 3.4, 1.5, 0.2],\n",
       "       [5. , 3.5, 1.3, 0.3],\n",
       "       [4.5, 2.3, 1.3, 0.3],\n",
       "       [4.4, 3.2, 1.3, 0.2],\n",
       "       [5. , 3.5, 1.6, 0.6],\n",
       "       [5.1, 3.8, 1.9, 0.4],\n",
       "       [4.8, 3. , 1.4, 0.3],\n",
       "       [5.1, 3.8, 1.6, 0.2],\n",
       "       [4.6, 3.2, 1.4, 0.2],\n",
       "       [5.3, 3.7, 1.5, 0.2],\n",
       "       [5. , 3.3, 1.4, 0.2],\n",
       "       [7. , 3.2, 4.7, 1.4],\n",
       "       [6.4, 3.2, 4.5, 1.5],\n",
       "       [6.9, 3.1, 4.9, 1.5],\n",
       "       [5.5, 2.3, 4. , 1.3],\n",
       "       [6.5, 2.8, 4.6, 1.5],\n",
       "       [5.7, 2.8, 4.5, 1.3],\n",
       "       [6.3, 3.3, 4.7, 1.6],\n",
       "       [4.9, 2.4, 3.3, 1. ],\n",
       "       [6.6, 2.9, 4.6, 1.3],\n",
       "       [5.2, 2.7, 3.9, 1.4],\n",
       "       [5. , 2. , 3.5, 1. ],\n",
       "       [5.9, 3. , 4.2, 1.5],\n",
       "       [6. , 2.2, 4. , 1. ],\n",
       "       [6.1, 2.9, 4.7, 1.4],\n",
       "       [5.6, 2.9, 3.6, 1.3],\n",
       "       [6.7, 3.1, 4.4, 1.4],\n",
       "       [5.6, 3. , 4.5, 1.5],\n",
       "       [5.8, 2.7, 4.1, 1. ],\n",
       "       [6.2, 2.2, 4.5, 1.5],\n",
       "       [5.6, 2.5, 3.9, 1.1],\n",
       "       [5.9, 3.2, 4.8, 1.8],\n",
       "       [6.1, 2.8, 4. , 1.3],\n",
       "       [6.3, 2.5, 4.9, 1.5],\n",
       "       [6.1, 2.8, 4.7, 1.2],\n",
       "       [6.4, 2.9, 4.3, 1.3],\n",
       "       [6.6, 3. , 4.4, 1.4],\n",
       "       [6.8, 2.8, 4.8, 1.4],\n",
       "       [6.7, 3. , 5. , 1.7],\n",
       "       [6. , 2.9, 4.5, 1.5],\n",
       "       [5.7, 2.6, 3.5, 1. ],\n",
       "       [5.5, 2.4, 3.8, 1.1],\n",
       "       [5.5, 2.4, 3.7, 1. ],\n",
       "       [5.8, 2.7, 3.9, 1.2],\n",
       "       [6. , 2.7, 5.1, 1.6],\n",
       "       [5.4, 3. , 4.5, 1.5],\n",
       "       [6. , 3.4, 4.5, 1.6],\n",
       "       [6.7, 3.1, 4.7, 1.5],\n",
       "       [6.3, 2.3, 4.4, 1.3],\n",
       "       [5.6, 3. , 4.1, 1.3],\n",
       "       [5.5, 2.5, 4. , 1.3],\n",
       "       [5.5, 2.6, 4.4, 1.2],\n",
       "       [6.1, 3. , 4.6, 1.4],\n",
       "       [5.8, 2.6, 4. , 1.2],\n",
       "       [5. , 2.3, 3.3, 1. ],\n",
       "       [5.6, 2.7, 4.2, 1.3],\n",
       "       [5.7, 3. , 4.2, 1.2],\n",
       "       [5.7, 2.9, 4.2, 1.3],\n",
       "       [6.2, 2.9, 4.3, 1.3],\n",
       "       [5.1, 2.5, 3. , 1.1],\n",
       "       [5.7, 2.8, 4.1, 1.3],\n",
       "       [6.3, 3.3, 6. , 2.5],\n",
       "       [5.8, 2.7, 5.1, 1.9],\n",
       "       [7.1, 3. , 5.9, 2.1],\n",
       "       [6.3, 2.9, 5.6, 1.8],\n",
       "       [6.5, 3. , 5.8, 2.2],\n",
       "       [7.6, 3. , 6.6, 2.1],\n",
       "       [4.9, 2.5, 4.5, 1.7],\n",
       "       [7.3, 2.9, 6.3, 1.8],\n",
       "       [6.7, 2.5, 5.8, 1.8],\n",
       "       [7.2, 3.6, 6.1, 2.5],\n",
       "       [6.5, 3.2, 5.1, 2. ],\n",
       "       [6.4, 2.7, 5.3, 1.9],\n",
       "       [6.8, 3. , 5.5, 2.1],\n",
       "       [5.7, 2.5, 5. , 2. ],\n",
       "       [5.8, 2.8, 5.1, 2.4],\n",
       "       [6.4, 3.2, 5.3, 2.3],\n",
       "       [6.5, 3. , 5.5, 1.8],\n",
       "       [7.7, 3.8, 6.7, 2.2],\n",
       "       [7.7, 2.6, 6.9, 2.3],\n",
       "       [6. , 2.2, 5. , 1.5],\n",
       "       [6.9, 3.2, 5.7, 2.3],\n",
       "       [5.6, 2.8, 4.9, 2. ],\n",
       "       [7.7, 2.8, 6.7, 2. ],\n",
       "       [6.3, 2.7, 4.9, 1.8],\n",
       "       [6.7, 3.3, 5.7, 2.1],\n",
       "       [7.2, 3.2, 6. , 1.8],\n",
       "       [6.2, 2.8, 4.8, 1.8],\n",
       "       [6.1, 3. , 4.9, 1.8],\n",
       "       [6.4, 2.8, 5.6, 2.1],\n",
       "       [7.2, 3. , 5.8, 1.6],\n",
       "       [7.4, 2.8, 6.1, 1.9],\n",
       "       [7.9, 3.8, 6.4, 2. ],\n",
       "       [6.4, 2.8, 5.6, 2.2],\n",
       "       [6.3, 2.8, 5.1, 1.5],\n",
       "       [6.1, 2.6, 5.6, 1.4],\n",
       "       [7.7, 3. , 6.1, 2.3],\n",
       "       [6.3, 3.4, 5.6, 2.4],\n",
       "       [6.4, 3.1, 5.5, 1.8],\n",
       "       [6. , 3. , 4.8, 1.8],\n",
       "       [6.9, 3.1, 5.4, 2.1],\n",
       "       [6.7, 3.1, 5.6, 2.4],\n",
       "       [6.9, 3.1, 5.1, 2.3],\n",
       "       [5.8, 2.7, 5.1, 1.9],\n",
       "       [6.8, 3.2, 5.9, 2.3],\n",
       "       [6.7, 3.3, 5.7, 2.5],\n",
       "       [6.7, 3. , 5.2, 2.3],\n",
       "       [6.3, 2.5, 5. , 1.9],\n",
       "       [6.5, 3. , 5.2, 2. ],\n",
       "       [6.2, 3.4, 5.4, 2.3],\n",
       "       [5.9, 3. , 5.1, 1.8]])"
      ]
     },
     "execution_count": 25,
     "metadata": {},
     "output_type": "execute_result"
    }
   ],
   "source": [
    "features"
   ]
  },
  {
   "cell_type": "code",
   "execution_count": null,
   "id": "3d5ab98c",
   "metadata": {
    "id": "3d5ab98c",
    "outputId": "082e2e15-1d02-4998-874d-71870740245b"
   },
   "outputs": [
    {
     "data": {
      "text/plain": [
       "array([0, 0, 0, 0, 0, 0, 0, 0, 0, 0, 0, 0, 0, 0, 0, 0, 0, 0, 0, 0, 0, 0,\n",
       "       0, 0, 0, 0, 0, 0, 0, 0, 0, 0, 0, 0, 0, 0, 0, 0, 0, 0, 0, 0, 0, 0,\n",
       "       0, 0, 0, 0, 0, 0, 1, 1, 1, 1, 1, 1, 1, 1, 1, 1, 1, 1, 1, 1, 1, 1,\n",
       "       1, 1, 1, 1, 1, 1, 1, 1, 1, 1, 1, 1, 1, 1, 1, 1, 1, 1, 1, 1, 1, 1,\n",
       "       1, 1, 1, 1, 1, 1, 1, 1, 1, 1, 1, 1, 2, 2, 2, 2, 2, 2, 2, 2, 2, 2,\n",
       "       2, 2, 2, 2, 2, 2, 2, 2, 2, 2, 2, 2, 2, 2, 2, 2, 2, 2, 2, 2, 2, 2,\n",
       "       2, 2, 2, 2, 2, 2, 2, 2, 2, 2, 2, 2, 2, 2, 2, 2, 2, 2])"
      ]
     },
     "execution_count": 26,
     "metadata": {},
     "output_type": "execute_result"
    }
   ],
   "source": [
    "label"
   ]
  },
  {
   "cell_type": "markdown",
   "id": "d771f249",
   "metadata": {
    "id": "d771f249"
   },
   "source": [
    "- 교차검증을 통해서 나눠보자!"
   ]
  },
  {
   "cell_type": "code",
   "execution_count": null,
   "id": "83f6ee14",
   "metadata": {
    "id": "83f6ee14"
   },
   "outputs": [],
   "source": [
    "from sklearn.model_selection import KFold\n",
    "\n",
    "kfold = KFold(n_splits=5)\n",
    "\n",
    "cv_acc_train=[]\n",
    "cv_acc_test=[]\n",
    "kf_ml = DecisionTreeClassifier(random_state=111,max_depth=3)"
   ]
  },
  {
   "cell_type": "code",
   "execution_count": null,
   "id": "d2287d2f",
   "metadata": {
    "id": "d2287d2f",
    "outputId": "0a20d37f-1d0d-497e-8c4e-5fbf45063cd3"
   },
   "outputs": [
    {
     "data": {
      "text/plain": [
       "KFold(n_splits=5, random_state=None, shuffle=False)"
      ]
     },
     "execution_count": 36,
     "metadata": {},
     "output_type": "execute_result"
    }
   ],
   "source": [
    "kfold"
   ]
  },
  {
   "cell_type": "code",
   "execution_count": null,
   "id": "996ba8cb",
   "metadata": {
    "id": "996ba8cb",
    "outputId": "416821b4-54e5-41d0-a8fe-573bf62275bc"
   },
   "outputs": [
    {
     "name": "stdout",
     "output_type": "stream",
     "text": [
      "\n",
      " 1 번 train 교차 검증 정확도 :0.975, test의 교차검증 정확도 :1.0\n",
      "\n",
      " 2 번 train 교차 검증 정확도 :0.975, test의 교차검증 정확도 :0.9667\n",
      "\n",
      " 3 번 train 교차 검증 정확도 :0.9917, test의 교차검증 정확도 :0.8333\n",
      "\n",
      " 4 번 train 교차 검증 정확도 :0.9833, test의 교차검증 정확도 :0.9333\n",
      "\n",
      " 5 번 train 교차 검증 정확도 :0.975, test의 교차검증 정확도 :0.7\n",
      "train 평균 정확도 0.9799999999999999\n",
      "test 평균 정확도 0.88666\n"
     ]
    }
   ],
   "source": [
    "n_iter = 0\n",
    "\n",
    "for train_idx, test_idx in kfold.split(features):\n",
    "    X_train, X_test = features[train_idx], features[test_idx]\n",
    "    y_train, y_test = label[train_idx], label[test_idx]\n",
    "\n",
    "    #dt모델 학습하기\n",
    "    kf_ml.fit(X_train, y_train)\n",
    "\n",
    "    #예측\n",
    "    kf_pred_train =kf_ml.predict(X_train)\n",
    "    kf_pred_test =kf_ml.predict(X_test)\n",
    "\n",
    "    # 정확도를 5번 측정할 것\n",
    "\n",
    "    n_iter +=1\n",
    "    acc_train = np.round(accuracy_score(y_train, kf_pred_train),4)\n",
    "    acc_test = np.round(accuracy_score(y_test, kf_pred_test),4)\n",
    "\n",
    "    #교차검증 train, test 정확도 확인\n",
    "    print('\\n {} 번 train 교차 검증 정확도 :{}, test의 교차검증 정확도 :{}'.format(n_iter, acc_train, acc_test))\n",
    "\n",
    "    cv_acc_train.append(acc_train)\n",
    "    cv_acc_test.append(acc_test)\n",
    "\n",
    "\n",
    "print('train 평균 정확도', np.mean(cv_acc_train))\n",
    "print('test 평균 정확도', np.mean(cv_acc_test))"
   ]
  },
  {
   "cell_type": "markdown",
   "id": "6c35095e",
   "metadata": {
    "id": "6c35095e"
   },
   "source": [
    "- skf 모델을 통해서 kfold 문제 해결해 보자!"
   ]
  },
  {
   "cell_type": "code",
   "execution_count": null,
   "id": "c2f03916",
   "metadata": {
    "id": "c2f03916"
   },
   "outputs": [],
   "source": [
    "from sklearn.model_selection import StratifiedKFold"
   ]
  },
  {
   "cell_type": "code",
   "execution_count": null,
   "id": "448607d9",
   "metadata": {
    "id": "448607d9"
   },
   "outputs": [],
   "source": [
    "skf_iris = StratifiedKFold(n_splits=5)\n",
    "cnt_iter = 0"
   ]
  },
  {
   "cell_type": "code",
   "execution_count": null,
   "id": "7eb5ec49",
   "metadata": {
    "id": "7eb5ec49",
    "outputId": "ac574da8-f646-41b7-fef8-31a431d580c2"
   },
   "outputs": [
    {
     "data": {
      "text/plain": [
       "StratifiedKFold(n_splits=5, random_state=None, shuffle=False)"
      ]
     },
     "execution_count": 47,
     "metadata": {},
     "output_type": "execute_result"
    }
   ],
   "source": [
    "skf_iris"
   ]
  },
  {
   "cell_type": "code",
   "execution_count": null,
   "id": "1fd52aa1",
   "metadata": {
    "id": "1fd52aa1",
    "outputId": "196369dc-c7ed-4f49-e99c-8dd31e16ecbf"
   },
   "outputs": [
    {
     "name": "stdout",
     "output_type": "stream",
     "text": [
      "\n",
      " 1 번 train 교차 검증 정확도 :0.9583, test의 교차검증 정확도 :0.9667\n",
      "\n",
      " 2 번 train 교차 검증 정확도 :0.975, test의 교차검증 정확도 :0.9667\n",
      "\n",
      " 3 번 train 교차 검증 정확도 :0.9917, test의 교차검증 정확도 :0.9333\n",
      "\n",
      " 4 번 train 교차 검증 정확도 :0.975, test의 교차검증 정확도 :0.9333\n",
      "\n",
      " 5 번 train 교차 검증 정확도 :0.9667, test의 교차검증 정확도 :1.0\n",
      "train 평균 정확도 0.97334\n",
      "test 평균 정확도 0.96\n"
     ]
    }
   ],
   "source": [
    "n_iter = 0\n",
    "\n",
    "skf_cv_acc_train=[]\n",
    "skf_cv_acc_test=[]\n",
    "skf_ml = DecisionTreeClassifier(random_state=111,max_depth=3)\n",
    "\n",
    "#skf 사용한 교차검증\n",
    "for train_idx, test_idx in skf_iris.split(features,label): #skf split 안에 label\n",
    "    X_train, X_test = features[train_idx], features[test_idx]\n",
    "    y_train, y_test = label[train_idx], label[test_idx]\n",
    "\n",
    "    #skf_dt모델 학습하기\n",
    "    skf_ml.fit(X_train, y_train)\n",
    "\n",
    "    #예측 (skf, split을 통해 진행)\n",
    "    skf_pred_train =skf_ml.predict(X_train)\n",
    "    skf_pred_test =skf_ml.predict(X_test)\n",
    "\n",
    "    # 정확도를 5번 측정할 것\n",
    "\n",
    "    n_iter +=1\n",
    "    acc_train = np.round(accuracy_score(y_train, skf_pred_train),4)\n",
    "    acc_test = np.round(accuracy_score(y_test, skf_pred_test),4)\n",
    "\n",
    "    #교차검증 train, test 정확도 확인\n",
    "    print('\\n {} 번 train 교차 검증 정확도 :{}, test의 교차검증 정확도 :{}'.format(n_iter, acc_train, acc_test))\n",
    "\n",
    "    skf_cv_acc_train.append(acc_train)\n",
    "    skf_cv_acc_test.append(acc_test)\n",
    "\n",
    "\n",
    "print('train 평균 정확도', np.mean(skf_cv_acc_train))\n",
    "print('test 평균 정확도', np.mean(skf_cv_acc_test))"
   ]
  },
  {
   "cell_type": "code",
   "execution_count": null,
   "id": "0cf71ac8",
   "metadata": {
    "id": "0cf71ac8",
    "outputId": "6bbdbcc8-2511-4569-add2-51d38f32a466"
   },
   "outputs": [
    {
     "data": {
      "text/plain": [
       "150"
      ]
     },
     "execution_count": 50,
     "metadata": {},
     "output_type": "execute_result"
    }
   ],
   "source": [
    "len(features)"
   ]
  },
  {
   "cell_type": "code",
   "execution_count": null,
   "id": "31a82dcb",
   "metadata": {
    "id": "31a82dcb"
   },
   "outputs": [],
   "source": [
    "import pandas as pd\n",
    "iris = load_iris()\n",
    "iris_df = pd.DataFrame(data=iris.data, columns = iris.feature_names)\n",
    "iris_df['label'] = iris.target"
   ]
  },
  {
   "cell_type": "code",
   "execution_count": null,
   "id": "d205b6c4",
   "metadata": {
    "id": "d205b6c4",
    "outputId": "87e0cb7a-144a-411b-d055-cf430d4cb929"
   },
   "outputs": [
    {
     "data": {
      "text/html": [
       "<div>\n",
       "<style scoped>\n",
       "    .dataframe tbody tr th:only-of-type {\n",
       "        vertical-align: middle;\n",
       "    }\n",
       "\n",
       "    .dataframe tbody tr th {\n",
       "        vertical-align: top;\n",
       "    }\n",
       "\n",
       "    .dataframe thead th {\n",
       "        text-align: right;\n",
       "    }\n",
       "</style>\n",
       "<table border=\"1\" class=\"dataframe\">\n",
       "  <thead>\n",
       "    <tr style=\"text-align: right;\">\n",
       "      <th></th>\n",
       "      <th>sepal length (cm)</th>\n",
       "      <th>sepal width (cm)</th>\n",
       "      <th>petal length (cm)</th>\n",
       "      <th>petal width (cm)</th>\n",
       "      <th>label</th>\n",
       "    </tr>\n",
       "  </thead>\n",
       "  <tbody>\n",
       "    <tr>\n",
       "      <th>0</th>\n",
       "      <td>5.1</td>\n",
       "      <td>3.5</td>\n",
       "      <td>1.4</td>\n",
       "      <td>0.2</td>\n",
       "      <td>0</td>\n",
       "    </tr>\n",
       "    <tr>\n",
       "      <th>1</th>\n",
       "      <td>4.9</td>\n",
       "      <td>3.0</td>\n",
       "      <td>1.4</td>\n",
       "      <td>0.2</td>\n",
       "      <td>0</td>\n",
       "    </tr>\n",
       "    <tr>\n",
       "      <th>2</th>\n",
       "      <td>4.7</td>\n",
       "      <td>3.2</td>\n",
       "      <td>1.3</td>\n",
       "      <td>0.2</td>\n",
       "      <td>0</td>\n",
       "    </tr>\n",
       "    <tr>\n",
       "      <th>3</th>\n",
       "      <td>4.6</td>\n",
       "      <td>3.1</td>\n",
       "      <td>1.5</td>\n",
       "      <td>0.2</td>\n",
       "      <td>0</td>\n",
       "    </tr>\n",
       "    <tr>\n",
       "      <th>4</th>\n",
       "      <td>5.0</td>\n",
       "      <td>3.6</td>\n",
       "      <td>1.4</td>\n",
       "      <td>0.2</td>\n",
       "      <td>0</td>\n",
       "    </tr>\n",
       "    <tr>\n",
       "      <th>...</th>\n",
       "      <td>...</td>\n",
       "      <td>...</td>\n",
       "      <td>...</td>\n",
       "      <td>...</td>\n",
       "      <td>...</td>\n",
       "    </tr>\n",
       "    <tr>\n",
       "      <th>145</th>\n",
       "      <td>6.7</td>\n",
       "      <td>3.0</td>\n",
       "      <td>5.2</td>\n",
       "      <td>2.3</td>\n",
       "      <td>2</td>\n",
       "    </tr>\n",
       "    <tr>\n",
       "      <th>146</th>\n",
       "      <td>6.3</td>\n",
       "      <td>2.5</td>\n",
       "      <td>5.0</td>\n",
       "      <td>1.9</td>\n",
       "      <td>2</td>\n",
       "    </tr>\n",
       "    <tr>\n",
       "      <th>147</th>\n",
       "      <td>6.5</td>\n",
       "      <td>3.0</td>\n",
       "      <td>5.2</td>\n",
       "      <td>2.0</td>\n",
       "      <td>2</td>\n",
       "    </tr>\n",
       "    <tr>\n",
       "      <th>148</th>\n",
       "      <td>6.2</td>\n",
       "      <td>3.4</td>\n",
       "      <td>5.4</td>\n",
       "      <td>2.3</td>\n",
       "      <td>2</td>\n",
       "    </tr>\n",
       "    <tr>\n",
       "      <th>149</th>\n",
       "      <td>5.9</td>\n",
       "      <td>3.0</td>\n",
       "      <td>5.1</td>\n",
       "      <td>1.8</td>\n",
       "      <td>2</td>\n",
       "    </tr>\n",
       "  </tbody>\n",
       "</table>\n",
       "<p>150 rows × 5 columns</p>\n",
       "</div>"
      ],
      "text/plain": [
       "     sepal length (cm)  sepal width (cm)  petal length (cm)  petal width (cm)  \\\n",
       "0                  5.1               3.5                1.4               0.2   \n",
       "1                  4.9               3.0                1.4               0.2   \n",
       "2                  4.7               3.2                1.3               0.2   \n",
       "3                  4.6               3.1                1.5               0.2   \n",
       "4                  5.0               3.6                1.4               0.2   \n",
       "..                 ...               ...                ...               ...   \n",
       "145                6.7               3.0                5.2               2.3   \n",
       "146                6.3               2.5                5.0               1.9   \n",
       "147                6.5               3.0                5.2               2.0   \n",
       "148                6.2               3.4                5.4               2.3   \n",
       "149                5.9               3.0                5.1               1.8   \n",
       "\n",
       "     label  \n",
       "0        0  \n",
       "1        0  \n",
       "2        0  \n",
       "3        0  \n",
       "4        0  \n",
       "..     ...  \n",
       "145      2  \n",
       "146      2  \n",
       "147      2  \n",
       "148      2  \n",
       "149      2  \n",
       "\n",
       "[150 rows x 5 columns]"
      ]
     },
     "execution_count": 54,
     "metadata": {},
     "output_type": "execute_result"
    }
   ],
   "source": [
    "iris_df"
   ]
  },
  {
   "cell_type": "code",
   "execution_count": null,
   "id": "d6ee855a",
   "metadata": {
    "id": "d6ee855a",
    "outputId": "f251e398-8922-422a-d77f-aa52912d6416"
   },
   "outputs": [
    {
     "name": "stdout",
     "output_type": "stream",
     "text": [
      "학습 정답 레이블 1    50\n",
      "2    50\n",
      "0    20\n",
      "Name: label, dtype: int64\n",
      "테스트 정답 레이블 0    30\n",
      "Name: label, dtype: int64\n",
      "학습 정답 레이블 2    50\n",
      "1    40\n",
      "0    30\n",
      "Name: label, dtype: int64\n",
      "테스트 정답 레이블 0    20\n",
      "1    10\n",
      "Name: label, dtype: int64\n",
      "학습 정답 레이블 0    50\n",
      "2    50\n",
      "1    20\n",
      "Name: label, dtype: int64\n",
      "테스트 정답 레이블 1    30\n",
      "Name: label, dtype: int64\n",
      "학습 정답 레이블 0    50\n",
      "1    40\n",
      "2    30\n",
      "Name: label, dtype: int64\n",
      "테스트 정답 레이블 2    20\n",
      "1    10\n",
      "Name: label, dtype: int64\n",
      "학습 정답 레이블 0    50\n",
      "1    50\n",
      "2    20\n",
      "Name: label, dtype: int64\n",
      "테스트 정답 레이블 2    30\n",
      "Name: label, dtype: int64\n"
     ]
    }
   ],
   "source": [
    "kfold = KFold(n_splits=5)\n",
    "n_iter = 0\n",
    "\n",
    "for train_idx, test_idx in kfold.split(iris_df):\n",
    "    n_iter +=1\n",
    "    lb_train = iris_df['label'].iloc[train_idx]\n",
    "    lb_test = iris_df['label'].iloc[test_idx]\n",
    "    print('학습 정답 레이블', lb_train.value_counts())\n",
    "    print('테스트 정답 레이블', lb_test.value_counts())"
   ]
  },
  {
   "cell_type": "code",
   "execution_count": null,
   "id": "eb7074f0",
   "metadata": {
    "id": "eb7074f0",
    "outputId": "ec1cc41c-4c46-4d72-e261-042594122a7d"
   },
   "outputs": [
    {
     "name": "stdout",
     "output_type": "stream",
     "text": [
      "학습 정답 레이블 0    40\n",
      "1    40\n",
      "2    40\n",
      "Name: label, dtype: int64\n",
      "테스트 정답 레이블 0    10\n",
      "1    10\n",
      "2    10\n",
      "Name: label, dtype: int64\n",
      "학습 정답 레이블 0    40\n",
      "1    40\n",
      "2    40\n",
      "Name: label, dtype: int64\n",
      "테스트 정답 레이블 0    10\n",
      "1    10\n",
      "2    10\n",
      "Name: label, dtype: int64\n",
      "학습 정답 레이블 0    40\n",
      "1    40\n",
      "2    40\n",
      "Name: label, dtype: int64\n",
      "테스트 정답 레이블 0    10\n",
      "1    10\n",
      "2    10\n",
      "Name: label, dtype: int64\n",
      "학습 정답 레이블 0    40\n",
      "1    40\n",
      "2    40\n",
      "Name: label, dtype: int64\n",
      "테스트 정답 레이블 0    10\n",
      "1    10\n",
      "2    10\n",
      "Name: label, dtype: int64\n",
      "학습 정답 레이블 0    40\n",
      "1    40\n",
      "2    40\n",
      "Name: label, dtype: int64\n",
      "테스트 정답 레이블 0    10\n",
      "1    10\n",
      "2    10\n",
      "Name: label, dtype: int64\n"
     ]
    }
   ],
   "source": [
    "skfold = StratifiedKFold(n_splits=5)\n",
    "n_iter = 0\n",
    "\n",
    "for train_idx, test_idx in skfold.split(iris_df, iris_df['label']):\n",
    "    n_iter +=1\n",
    "    lb_train = iris_df['label'].iloc[train_idx]\n",
    "    lb_test = iris_df['label'].iloc[test_idx]\n",
    "    print('학습 정답 레이블', lb_train.value_counts())\n",
    "    print('테스트 정답 레이블', lb_test.value_counts())"
   ]
  },
  {
   "cell_type": "markdown",
   "id": "22274b37",
   "metadata": {
    "id": "22274b37"
   },
   "source": [
    "# 복습과제 데이터셋은 타이타닉  데이터셋으로 진행해 주세요.\n",
    "\n",
    "- 오늘배운 수업 코드를 복습하는 경우는 타이타닉으로 진행!\n",
    "- seaborn 에서 제공하는 타이타닉 데이터 셋 사용\n",
    "- 패키지에서 가지고 왹!"
   ]
  },
  {
   "cell_type": "code",
   "execution_count": null,
   "id": "ea1829ca",
   "metadata": {
    "id": "ea1829ca"
   },
   "outputs": [],
   "source": []
  }
 ],
 "metadata": {
  "colab": {
   "provenance": []
  },
  "kernelspec": {
   "display_name": "Python 3 (ipykernel)",
   "language": "python",
   "name": "python3"
  },
  "language_info": {
   "codemirror_mode": {
    "name": "ipython",
    "version": 3
   },
   "file_extension": ".py",
   "mimetype": "text/x-python",
   "name": "python",
   "nbconvert_exporter": "python",
   "pygments_lexer": "ipython3",
   "version": "3.11.4"
  }
 },
 "nbformat": 4,
 "nbformat_minor": 5
}
