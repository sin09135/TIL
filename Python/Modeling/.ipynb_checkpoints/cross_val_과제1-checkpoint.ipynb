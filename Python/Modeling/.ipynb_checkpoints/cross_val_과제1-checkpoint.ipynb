{
 "cells": [
  {
   "cell_type": "markdown",
   "id": "c9900306-f753-4721-9298-c067c84d0759",
   "metadata": {},
   "source": [
    "## 필수과제1\n",
    "- 타이타닉 다양한 교차검증 사용_score"
   ]
  },
  {
   "cell_type": "code",
   "execution_count": 2,
   "id": "8f822948-0f8b-4727-9f81-3a3b75722010",
   "metadata": {
    "tags": []
   },
   "outputs": [],
   "source": [
    "from sklearn.tree import DecisionTreeClassifier\n",
    "from sklearn.ensemble import RandomForestClassifier\n",
    "from sklearn.linear_model import LogisticRegression\n",
    "from sklearn.model_selection import cross_val_score, cross_validate\n",
    "from sklearn.datasets import load_iris\n",
    "import numpy as np\n",
    "import warnings\n",
    "warnings.filterwarnings('ignore')"
   ]
  },
  {
   "cell_type": "code",
   "execution_count": 3,
   "id": "0b561869-debd-4595-af1f-2107065eadaa",
   "metadata": {
    "tags": []
   },
   "outputs": [],
   "source": [
    "import seaborn as sns\n",
    "df = sns.load_dataset('titanic')"
   ]
  },
  {
   "cell_type": "code",
   "execution_count": 4,
   "id": "fac8439c-8fcd-4f50-adc2-a226af1b9312",
   "metadata": {
    "tags": []
   },
   "outputs": [],
   "source": [
    "df_tt=df[['survived','pclass','fare','age']]"
   ]
  },
  {
   "cell_type": "code",
   "execution_count": 5,
   "id": "051a4311-d164-46bd-838b-70fafba5be2b",
   "metadata": {
    "tags": []
   },
   "outputs": [],
   "source": [
    "df_tt=df_tt.dropna()"
   ]
  },
  {
   "cell_type": "code",
   "execution_count": 6,
   "id": "7752aaf0-e312-45e3-af9d-1835bd0130e1",
   "metadata": {
    "tags": []
   },
   "outputs": [],
   "source": [
    "df_tt_x= df_tt[['pclass','fare','age']]\n",
    "df_tt_y= df_tt['survived']"
   ]
  },
  {
   "cell_type": "markdown",
   "id": "130ed08d-e300-4b28-bee5-8ee811784f5f",
   "metadata": {},
   "source": [
    "### 교차검증"
   ]
  },
  {
   "cell_type": "code",
   "execution_count": 7,
   "id": "19686813-d54c-47e7-b8ac-ae0d544003c0",
   "metadata": {
    "tags": []
   },
   "outputs": [
    {
     "name": "stdout",
     "output_type": "stream",
     "text": [
      "Cross Validation Method: KFold\n",
      "Accuracy: 0.6694671525657441\n",
      "Precision: 0.6017411691373777\n",
      "Recall: 0.5479701430644827\n",
      "F1 Score: 0.5727554702845461\n",
      "\n",
      "Cross Validation Method: StratifiedKFold\n",
      "Accuracy: 0.6933024721757116\n",
      "Precision: 0.6319556217916873\n",
      "Recall: 0.6\n",
      "F1 Score: 0.6127417091665408\n",
      "\n",
      "Cross Validation Method: LeaveOneOut\n",
      "Accuracy: 0.6750700280112045\n",
      "Precision: 0.23109243697478993\n",
      "Recall: 0.23109243697478993\n",
      "F1 Score: 0.23109243697478993\n",
      "\n",
      "Cross Validation Method: ShuffleSplit\n",
      "Accuracy: 0.6517482517482517\n",
      "Precision: 0.5698116979732905\n",
      "Recall: 0.5246653892555532\n",
      "F1 Score: 0.5454543793388928\n",
      "\n"
     ]
    }
   ],
   "source": [
    "from sklearn.model_selection import cross_validate, KFold, StratifiedKFold, LeaveOneOut, ShuffleSplit\n",
    "from sklearn.metrics import accuracy_score, precision_score, recall_score, f1_score\n",
    "import numpy as np\n",
    "\n",
    "# 모델 정의_랜덤포레스트분류모델\n",
    "model = RandomForestClassifier()\n",
    "\n",
    "# 교차 검증 기법 리스트\n",
    "cv_methods = [\n",
    "    KFold(n_splits=5, shuffle=True, random_state=42), # kfold\n",
    "    StratifiedKFold(n_splits=5, shuffle=True, random_state=42), #stratifiedKFold\n",
    "    LeaveOneOut(),\n",
    "    ShuffleSplit(n_splits=5, test_size=0.2, random_state=42)\n",
    "]\n",
    "\n",
    "# 평가 지표 리스트\n",
    "scoring = ['accuracy', 'precision', 'recall', 'f1']\n",
    "\n",
    "# 교차검증\n",
    "for cv_method in cv_methods:\n",
    "    cv_results = cross_validate(model, df_tt_x, df_tt_y, scoring=scoring, cv=cv_method)\n",
    "    accuracy_mean = np.mean(cv_results['test_accuracy'])\n",
    "    precision_mean = np.mean(cv_results['test_precision'])\n",
    "    recall_mean = np.mean(cv_results['test_recall'])\n",
    "    f1_mean = np.mean(cv_results['test_f1'])\n",
    "    \n",
    "    print(f\"Cross Validation Method: {type(cv_method).__name__}\")\n",
    "    print(f\"Accuracy: {accuracy_mean}\")\n",
    "    print(f\"Precision: {precision_mean}\")\n",
    "    print(f\"Recall: {recall_mean}\")\n",
    "    print(f\"F1 Score: {f1_mean}\")\n",
    "    print()"
   ]
  }
 ],
 "metadata": {
  "kernelspec": {
   "display_name": "Python 3 (ipykernel)",
   "language": "python",
   "name": "python3"
  },
  "language_info": {
   "codemirror_mode": {
    "name": "ipython",
    "version": 3
   },
   "file_extension": ".py",
   "mimetype": "text/x-python",
   "name": "python",
   "nbconvert_exporter": "python",
   "pygments_lexer": "ipython3",
   "version": "3.11.4"
  }
 },
 "nbformat": 4,
 "nbformat_minor": 5
}
