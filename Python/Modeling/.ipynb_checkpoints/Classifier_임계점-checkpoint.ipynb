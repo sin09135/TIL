{
 "cells": [
  {
   "cell_type": "markdown",
   "id": "e957b261",
   "metadata": {},
   "source": [
    "## 클래스를 예측할 때 임계값을 0.5로 기준을 디폴트 값인데,\n",
    "- 만약 이 부분을 점점 낮추거나 높이면 어떤 식으로 변화하는가?\n",
    "- 정밀도, 재현율이 어떤 식으로 변경이 되고 왜 우리는 이 두 지표를 같이 봐야하는지?"
   ]
  },
  {
   "cell_type": "code",
   "execution_count": 1,
   "id": "97ff862d",
   "metadata": {},
   "outputs": [],
   "source": [
    "import pandas as pd\n",
    "from sklearn.model_selection import train_test_split\n",
    "from sklearn.metrics import accuracy_score\n",
    "import seaborn as sns\n",
    "import numpy as np\n",
    "from sklearn.linear_model import LogisticRegression\n",
    "from sklearn.metrics import accuracy_score, precision_score, recall_score, confusion_matrix"
   ]
  },
  {
   "cell_type": "code",
   "execution_count": 2,
   "id": "20832bef",
   "metadata": {},
   "outputs": [],
   "source": [
    "df =sns.load_dataset('titanic')"
   ]
  },
  {
   "cell_type": "code",
   "execution_count": 3,
   "id": "325fd900",
   "metadata": {},
   "outputs": [
    {
     "name": "stderr",
     "output_type": "stream",
     "text": [
      "/var/folders/nz/vk3v33x95bs4kf3ymy0z0my00000gn/T/ipykernel_30701/3409050712.py:2: SettingWithCopyWarning: \n",
      "A value is trying to be set on a copy of a slice from a DataFrame\n",
      "\n",
      "See the caveats in the documentation: https://pandas.pydata.org/pandas-docs/stable/user_guide/indexing.html#returning-a-view-versus-a-copy\n",
      "  df_sp.dropna(inplace=True)\n"
     ]
    }
   ],
   "source": [
    "df_sp=df[['survived','pclass','age','sibsp','parch','fare']]\n",
    "df_sp.dropna(inplace=True)"
   ]
  },
  {
   "cell_type": "code",
   "execution_count": 4,
   "id": "0f469f6a",
   "metadata": {},
   "outputs": [
    {
     "data": {
      "text/html": [
       "<div>\n",
       "<style scoped>\n",
       "    .dataframe tbody tr th:only-of-type {\n",
       "        vertical-align: middle;\n",
       "    }\n",
       "\n",
       "    .dataframe tbody tr th {\n",
       "        vertical-align: top;\n",
       "    }\n",
       "\n",
       "    .dataframe thead th {\n",
       "        text-align: right;\n",
       "    }\n",
       "</style>\n",
       "<table border=\"1\" class=\"dataframe\">\n",
       "  <thead>\n",
       "    <tr style=\"text-align: right;\">\n",
       "      <th></th>\n",
       "      <th>survived</th>\n",
       "      <th>pclass</th>\n",
       "      <th>age</th>\n",
       "      <th>sibsp</th>\n",
       "      <th>parch</th>\n",
       "      <th>fare</th>\n",
       "    </tr>\n",
       "  </thead>\n",
       "  <tbody>\n",
       "    <tr>\n",
       "      <th>0</th>\n",
       "      <td>0</td>\n",
       "      <td>3</td>\n",
       "      <td>22.0</td>\n",
       "      <td>1</td>\n",
       "      <td>0</td>\n",
       "      <td>7.2500</td>\n",
       "    </tr>\n",
       "    <tr>\n",
       "      <th>1</th>\n",
       "      <td>1</td>\n",
       "      <td>1</td>\n",
       "      <td>38.0</td>\n",
       "      <td>1</td>\n",
       "      <td>0</td>\n",
       "      <td>71.2833</td>\n",
       "    </tr>\n",
       "    <tr>\n",
       "      <th>2</th>\n",
       "      <td>1</td>\n",
       "      <td>3</td>\n",
       "      <td>26.0</td>\n",
       "      <td>0</td>\n",
       "      <td>0</td>\n",
       "      <td>7.9250</td>\n",
       "    </tr>\n",
       "    <tr>\n",
       "      <th>3</th>\n",
       "      <td>1</td>\n",
       "      <td>1</td>\n",
       "      <td>35.0</td>\n",
       "      <td>1</td>\n",
       "      <td>0</td>\n",
       "      <td>53.1000</td>\n",
       "    </tr>\n",
       "    <tr>\n",
       "      <th>4</th>\n",
       "      <td>0</td>\n",
       "      <td>3</td>\n",
       "      <td>35.0</td>\n",
       "      <td>0</td>\n",
       "      <td>0</td>\n",
       "      <td>8.0500</td>\n",
       "    </tr>\n",
       "    <tr>\n",
       "      <th>...</th>\n",
       "      <td>...</td>\n",
       "      <td>...</td>\n",
       "      <td>...</td>\n",
       "      <td>...</td>\n",
       "      <td>...</td>\n",
       "      <td>...</td>\n",
       "    </tr>\n",
       "    <tr>\n",
       "      <th>885</th>\n",
       "      <td>0</td>\n",
       "      <td>3</td>\n",
       "      <td>39.0</td>\n",
       "      <td>0</td>\n",
       "      <td>5</td>\n",
       "      <td>29.1250</td>\n",
       "    </tr>\n",
       "    <tr>\n",
       "      <th>886</th>\n",
       "      <td>0</td>\n",
       "      <td>2</td>\n",
       "      <td>27.0</td>\n",
       "      <td>0</td>\n",
       "      <td>0</td>\n",
       "      <td>13.0000</td>\n",
       "    </tr>\n",
       "    <tr>\n",
       "      <th>887</th>\n",
       "      <td>1</td>\n",
       "      <td>1</td>\n",
       "      <td>19.0</td>\n",
       "      <td>0</td>\n",
       "      <td>0</td>\n",
       "      <td>30.0000</td>\n",
       "    </tr>\n",
       "    <tr>\n",
       "      <th>889</th>\n",
       "      <td>1</td>\n",
       "      <td>1</td>\n",
       "      <td>26.0</td>\n",
       "      <td>0</td>\n",
       "      <td>0</td>\n",
       "      <td>30.0000</td>\n",
       "    </tr>\n",
       "    <tr>\n",
       "      <th>890</th>\n",
       "      <td>0</td>\n",
       "      <td>3</td>\n",
       "      <td>32.0</td>\n",
       "      <td>0</td>\n",
       "      <td>0</td>\n",
       "      <td>7.7500</td>\n",
       "    </tr>\n",
       "  </tbody>\n",
       "</table>\n",
       "<p>714 rows × 6 columns</p>\n",
       "</div>"
      ],
      "text/plain": [
       "     survived  pclass   age  sibsp  parch     fare\n",
       "0           0       3  22.0      1      0   7.2500\n",
       "1           1       1  38.0      1      0  71.2833\n",
       "2           1       3  26.0      0      0   7.9250\n",
       "3           1       1  35.0      1      0  53.1000\n",
       "4           0       3  35.0      0      0   8.0500\n",
       "..        ...     ...   ...    ...    ...      ...\n",
       "885         0       3  39.0      0      5  29.1250\n",
       "886         0       2  27.0      0      0  13.0000\n",
       "887         1       1  19.0      0      0  30.0000\n",
       "889         1       1  26.0      0      0  30.0000\n",
       "890         0       3  32.0      0      0   7.7500\n",
       "\n",
       "[714 rows x 6 columns]"
      ]
     },
     "execution_count": 4,
     "metadata": {},
     "output_type": "execute_result"
    }
   ],
   "source": [
    "df_sp"
   ]
  },
  {
   "cell_type": "code",
   "execution_count": 5,
   "id": "8864b081",
   "metadata": {},
   "outputs": [],
   "source": [
    "X_train, X_test, y_train, y_test = train_test_split(df_sp.drop('survived',axis=1), df_sp['survived'], test_size=0.3, random_state=111)"
   ]
  },
  {
   "cell_type": "code",
   "execution_count": 6,
   "id": "1e5c2f9f",
   "metadata": {},
   "outputs": [],
   "source": [
    "#평가지표 함수\n",
    "def get_clf_eval(y_test, pred):\n",
    "    confusion = confusion_matrix(y_test, pred)\n",
    "    accuracy = accuracy_score(y_test, pred)\n",
    "    precision = precision_score(y_test, pred)\n",
    "    recall = recall_score(y_test, pred)\n",
    "    print('오차 행렬')\n",
    "    print(confusion)\n",
    "    print('정확도: {0:.4f}, 정밀도:{1:.4f}, 재현율:{2:.4f}'.format(accuracy, precision, recall))"
   ]
  },
  {
   "cell_type": "code",
   "execution_count": 7,
   "id": "1aa41101",
   "metadata": {},
   "outputs": [],
   "source": [
    "lr_clf = LogisticRegression(solver='liblinear')#데이터양이 적은 경우 사용하는 solver"
   ]
  },
  {
   "cell_type": "code",
   "execution_count": 8,
   "id": "9733209f",
   "metadata": {},
   "outputs": [
    {
     "ename": "NameError",
     "evalue": "name 'pred' is not defined",
     "output_type": "error",
     "traceback": [
      "\u001b[0;31m---------------------------------------------------------------------------\u001b[0m",
      "\u001b[0;31mNameError\u001b[0m                                 Traceback (most recent call last)",
      "Cell \u001b[0;32mIn[8], line 1\u001b[0m\n\u001b[0;32m----> 1\u001b[0m pred\n",
      "\u001b[0;31mNameError\u001b[0m: name 'pred' is not defined"
     ]
    }
   ],
   "source": [
    "pred"
   ]
  },
  {
   "cell_type": "code",
   "execution_count": null,
   "id": "b3199eaf",
   "metadata": {
    "scrolled": true
   },
   "outputs": [],
   "source": [
    "lr_clf.fit(X_train,y_train)\n",
    "pred = lr_clf.predict(X_test)\n",
    "get_clf_eval(y_test, pred)"
   ]
  },
  {
   "cell_type": "code",
   "execution_count": null,
   "id": "a26f1cc7",
   "metadata": {},
   "outputs": [],
   "source": [
    "#predict proba 에서 확인하면 \n",
    "pred_proba = lr_clf.predict_proba(X_test)"
   ]
  },
  {
   "cell_type": "code",
   "execution_count": null,
   "id": "f5e911e2",
   "metadata": {
    "scrolled": true
   },
   "outputs": [],
   "source": [
    "pred_proba"
   ]
  },
  {
   "cell_type": "code",
   "execution_count": null,
   "id": "1a0aea7a",
   "metadata": {},
   "outputs": [],
   "source": [
    "# binarizer 얘를 통해 0과 1로 변환해서 반환할 예정\n",
    "# theshold 지정하여 지정값보다 작거나 크면 0또는 1로 반환을 해준다.\n",
    "\n",
    "from sklearn.preprocessing import Binarizer"
   ]
  },
  {
   "cell_type": "code",
   "execution_count": null,
   "id": "419bf683",
   "metadata": {},
   "outputs": [],
   "source": [
    "X= [[1,0,-1],\n",
    "   [2,0,0],\n",
    "   [0,1.3,1.5]]\n",
    "\n",
    "binarizer=Binarizer(threshold=1.3)\n",
    "# 1.3 기준으로 보면 2개 빼고 다 0"
   ]
  },
  {
   "cell_type": "code",
   "execution_count": null,
   "id": "3cd9ce3d",
   "metadata": {},
   "outputs": [],
   "source": [
    "print(binarizer.fit_transform(X))"
   ]
  },
  {
   "cell_type": "code",
   "execution_count": null,
   "id": "976c4f0b",
   "metadata": {},
   "outputs": [],
   "source": [
    "pred_proba[:,1].reshape(-1,1)"
   ]
  },
  {
   "cell_type": "code",
   "execution_count": null,
   "id": "7f9a8260",
   "metadata": {},
   "outputs": [],
   "source": [
    "tt_threshold = 0.5 # 임계값을 기준 0.5\n",
    "\n",
    "pred_proba_1 =pred_proba[:,1].reshape(-1,1)\n",
    "binarizer_tt=Binarizer(threshold=tt_threshold).fit(pred_proba_1)\n",
    "tt_pred =binarizer_tt.transform(pred_proba_1)\n",
    "\n"
   ]
  },
  {
   "cell_type": "code",
   "execution_count": null,
   "id": "c30267cf",
   "metadata": {},
   "outputs": [],
   "source": [
    "get_clf_eval(y_test, tt_pred)"
   ]
  },
  {
   "cell_type": "markdown",
   "id": "2239c599",
   "metadata": {},
   "source": [
    "오차 행렬\n",
    "[[110  25]\n",
    " [ 43  37]]\n",
    "정확도: 0.6837, 정밀도:0.5968, 재현율:0.4625"
   ]
  },
  {
   "cell_type": "code",
   "execution_count": null,
   "id": "36a8584c",
   "metadata": {},
   "outputs": [],
   "source": [
    "tt_threshold = 0.4 # 임계값을 기준 0.4 기존 디폴트 0.5 -> 0.4로 변환\n",
    "\n",
    "pred_proba_2 =pred_proba[:,1].reshape(-1,1)\n",
    "binarizer_tt_1=Binarizer(threshold=tt_threshold).fit(pred_proba_2)\n",
    "tt_pred_1 =binarizer_tt_1.transform(pred_proba_2)\n",
    "\n",
    "get_clf_eval(y_test, tt_pred_1)"
   ]
  },
  {
   "cell_type": "code",
   "execution_count": null,
   "id": "bedcf86a",
   "metadata": {},
   "outputs": [],
   "source": [
    "tt_threshold = 0.6 # 임계값을 기준 0.4 기존 디폴트 0.5 -> 0.4로 변환\n",
    "\n",
    "pred_proba_3 =pred_proba[:,1].reshape(-1,1)\n",
    "binarizer_tt_2=Binarizer(threshold=tt_threshold).fit(pred_proba_3)\n",
    "tt_pred_2 =binarizer_tt_2.transform(pred_proba_3)\n",
    "\n",
    "get_clf_eval(y_test, tt_pred_2)"
   ]
  },
  {
   "cell_type": "markdown",
   "id": "7a41fd31",
   "metadata": {},
   "source": [
    "- 0.4로 낮아지면서 -> 재현율:0.6250 재현율이 올라간 이유가 위의 FN, FP 값들의 변화가 잇으면서 발생한 것이 있다.\n",
    "- 줄어든 이유가 있다.\n",
    "\n",
    "- 0.5-> 0.4 예측값이 많아지게 되다보니 -> 양성, 생존예측을 많이 하게 된다. 실제 양성을 음성 ( 실제 생존을 ,생존하지 않음) 예측하는 상대적으로 줄어드니깐."
   ]
  },
  {
   "cell_type": "code",
   "execution_count": null,
   "id": "3a4a3426",
   "metadata": {},
   "outputs": [],
   "source": [
    "df_sp.survived.value_counts()"
   ]
  },
  {
   "cell_type": "code",
   "execution_count": null,
   "id": "813e0b4d",
   "metadata": {},
   "outputs": [],
   "source": [
    "## 임계값을 여러 가지 바꿔가면서 변화를 보자\n",
    "\n",
    "thresholds= [0.3,0.4, 0.5, 0.6, 0.7, 0.8]\n",
    "\n",
    "def get_eval_threshold(y_test, pred_proba_1, thresholds):\n",
    "    for i in thresholds:\n",
    "        binarizer=Binarizer(threshold=i).fit(pred_proba_1)\n",
    "        pred =binarizer.transform(pred_proba_1)\n",
    "        print('임계값의 따른 평가지표', i)\n",
    "        get_clf_eval(y_test,pred)\n",
    "        \n",
    "get_eval_threshold(y_test,pred_proba[:,1].reshape(-1,1),thresholds )"
   ]
  },
  {
   "cell_type": "code",
   "execution_count": null,
   "id": "dc0212f5-a78b-4d55-9090-aa8bcaf2dac1",
   "metadata": {},
   "outputs": [],
   "source": [
    "from sklearn.metrics import precision_recall_curve\n",
    "\n",
    "#레이블 값이 1일때 예측확률을 추출\n",
    "pred_proba_class1 = lr_clf.predict_proba(X_test)[:,1]\n",
    "\n",
    "# 실제값 데이터 세트와 레이블 값이 1일 때의 예측확률을 precision_recall_curve 인자로 입력 \n",
    "precisions, recalls, thresholds = precision_recall_curve(y_test, pred_proba_class1)\n",
    "print('반환된 분류 결정 임곗값 배열의 shape:', thresholds.shape)\n",
    "\n",
    "#반환된 임계값 배열 로우가 147건이므로 샘플로 10건만 추출하되, 임곗값을 15 step으로 추출\n",
    "thr_index = np.arange(0,thresholds.shape[0],15)\n",
    "print('샘플 추출을 위한 임계값 배열의 index 10개:', thr_index)\n",
    "print('샘플용 10개의 임곗값:', np.round(thresholds[thr_index],2))\n",
    "\n",
    "#15 step 단위로 추출된 임계값에 따른 정밀도와 재현율 값\n",
    "print('샘플 임계값별 정밀도:', np.round(precisions[thr_index],3))\n",
    "print('샘플 임계값별 재현율:', np.round(recalls[thr_index],3))"
   ]
  },
  {
   "cell_type": "code",
   "execution_count": null,
   "id": "bf450d73",
   "metadata": {},
   "outputs": [],
   "source": [
    "import matplotlib.pyplot as plt\n",
    "import matplotlib.ticker as ticker\n",
    "%matplotlib inline\n",
    "\n",
    "def precision_recall_curve_plot(y_test, pred_proba_c1):\n",
    "    # thredshold ndarray와 이 threshold에 따른 정밀도, 재현율 ndarray 추출 \n",
    "    precision, recalls, thresholds = precision_recall_curve(y_test, pred_proba_c1)\n",
    "    \n",
    "    #X축을 thredshold 값으로, Y축은 정밀도, 재현율 값으로 각각 plot 수행. 정밀도는 점선으로 표시 \n",
    "    plt.figure(figsize=(8,6))\n",
    "    threshold_boundary = thresholds.shape[0]\n",
    "    plt.plot(thresholds, precision[0:threshold_boundary], linestyle='--', label='precision')\n",
    "    plt.plot(thresholds, recalls[0:threshold_boundary], label ='recall')\n",
    "    \n",
    "    #thredshold 값 X축 Scale을 0.1단위로 변경\n",
    "    start, end = plt.xlim()\n",
    "    plt.xticks(np.round(np.arange(start, end, 0.1),2))\n",
    "    \n",
    "    #X축, y축, label과 legend, 그리고 grid 설정\n",
    "    plt.xlabel('Threshold value'); plt.ylabel('Precision and Recall value')\n",
    "    plt.legend();plt.grid()\n",
    "    plt.show()\n",
    "    \n",
    "precision_recall_curve_plot(y_test, lr_clf.predict_proba(X_test)[:,1])"
   ]
  },
  {
   "cell_type": "markdown",
   "id": "72a95ddd",
   "metadata": {},
   "source": [
    "###  정밀도 재현율에 대한 관계 \n",
    "- 생존에 대한 예측의 임계값이 변경에 따라서 정밀도, 재현율 수치가 변경이 된다. trade-off가 된다.\n",
    "- 단순하게 정확도나, 정밀도, 재현율, f1 하나만 보는 게 아니라 다 같이 종합적으로 바라봐야 한다.\n",
    "- 도메인이나, 어떤 비즈니스에 따라서 두 개 중 어떤 것을 좀 더 봐야 하는지 다를 수 있다. \n",
    "- 정밀도나 재현율이 높아지는 경우\n",
    "\n",
    "--- \n",
    "- 정밀도가 높은 경우? 정밀도가 100%인 경우\n",
    "- 확실한 기준이 되는 경우만 생존으로 에측하고 나머지는 생존이 아닌 것으로 예측한다.\n",
    "- 예를 들어 여성이고, 1클래스에 있고 이런 것들의 사람들만 생존이라고 예측하고 나머지는 다 생존이 아니다라고 예측하는 것\n",
    "- 여기서 바라볼 수 있는 맹점\n",
    "- 정밀도 TP /(TP+FP)  확실한 생존한 사람만 생존이라고 예측하는 것이니 예측하는 절대치에 상관없이 1명만 제대로 예측하고 나머지는 생존하지 않았다 해도\n",
    "- 이 값은 100%가 나올 수 있다.\n",
    "- 1/(1+0)\n",
    "\n",
    "--- \n",
    "- 재현율로 바라보면? 재현율만 높은 경우 재현율 100%\n",
    "- TP /(TP+FN) 타이타닉데이터 기준으로 보면 전체를 다 생존으로 예측하는 것 실제 생존으로 예측한 사람 중에서 생존한 사람이 10명이라 해도 \n",
    "- 10/(10+0) 100%가 나올 수 있다.\n",
    "- 이 둘의 수치가 이러한 맹점이 있기 때문에 두 가지를 같이 잘 봐야하는 경우가 있고"
   ]
  },
  {
   "cell_type": "markdown",
   "id": "e584ea20",
   "metadata": {},
   "source": [
    "- F1스코어라는 것을 보는 이유도 이런 이슈가 있어서도 있다.\n",
    "- 재현율, 정밀도를 결합한 지표 "
   ]
  },
  {
   "cell_type": "code",
   "execution_count": null,
   "id": "1de37953",
   "metadata": {},
   "outputs": [],
   "source": [
    "from sklearn.metrics import f1_score"
   ]
  },
  {
   "cell_type": "code",
   "execution_count": null,
   "id": "55138604",
   "metadata": {},
   "outputs": [],
   "source": [
    "#평가지표 함수\n",
    "def get_clf_eval(y_test, pred):\n",
    "    confusion = confusion_matrix(y_test, pred)\n",
    "    accuracy = accuracy_score(y_test, pred)\n",
    "    precision = precision_score(y_test, pred)\n",
    "    recall = recall_score(y_test, pred)\n",
    "    f1 = f1_score(y_test, pred)\n",
    "    print('오차 행렬')\n",
    "    print(confusion)\n",
    "    print('정확도: {0:.4f}, 정밀도:{1:.4f}, 재현율:{2:.4f}, f1:{2:.4f}'.format(accuracy, precision, recall, f1))"
   ]
  },
  {
   "cell_type": "code",
   "execution_count": null,
   "id": "9add1084",
   "metadata": {},
   "outputs": [],
   "source": [
    "get_clf_eval(y_test, tt_pred_2)"
   ]
  },
  {
   "cell_type": "code",
   "execution_count": null,
   "id": "1d721081",
   "metadata": {},
   "outputs": [],
   "source": [
    "from sklearn.metrics import roc_curve\n",
    "\n",
    "#레이블 값이 1일때의 예측 확률을 추출\n",
    "pred_proba_class1 = lr_clf.predict_proba(X_test)[:,1]\n",
    "\n",
    "fprs, tprs, thresholds = roc_curve(y_test, pred_proba_class1)\n",
    "#반환된 임곗값 배열에서 샘플로 데이터를 추출하되, 임곗값을 5 step으로 추출\n",
    "#thresholds[0]은 max(예측확률)+1로 임의 설정됨. 이를 제외하기 위해 np.arange는 1부터 시작 \n",
    "thr_index = np.arange(1, thresholds.shape[0],5)\n",
    "\n",
    "print('샘플 추출을 위한 임곗값 배열의 index:', thr_index)\n",
    "print('샘플 index로 추출한 임곗값:', np.round(thresholds[thr_index],2))\n",
    "\n",
    "# 5step 단위로 추출된 임계값에 따른 TPR, FPR 값\n",
    "print('샘플 임곗값별 FPR:', np.round(fprs[thr_index], 3))\n",
    "print('샘플 임곗값별 TPR:', np.round(tprs[thr_index], 3))"
   ]
  },
  {
   "cell_type": "code",
   "execution_count": null,
   "id": "c7fcd2c0",
   "metadata": {},
   "outputs": [],
   "source": [
    "def roc_curve_plot(y_test, pred_proba_c1):\n",
    "    #임곗값에 따른 FPR, TPR값을 반환받음.\n",
    "    fprs, tprs, thresholds = roc_curve(y_test, pred_proba_c1)\n",
    "    #ROC 곡선을 그래프 곡선으로 그림\n",
    "    plt.plot(fprs, tprs, label='ROC')\n",
    "    #가운데 대각선 직선을 그림\n",
    "    plt.plot([0,1], [0,1], 'k--', label='Random')\n",
    "    \n",
    "    #FPR X축의 Scale을 0.1 단위로 변경, X,Y축 명 설정 등\n",
    "    start, end = plt.xlim()\n",
    "    plt.xticks(np.round(np.arange(start,end,0.1),2))\n",
    "    plt.xlim(0,1);plt.ylim(0,1)\n",
    "    plt.xlabel('FPR(1-Specificity)');plt.ylabel('TPR(Recall)')\n",
    "    plt.legend()\n",
    "    \n",
    "roc_curve_plot(y_test, pred_proba[:,1])"
   ]
  },
  {
   "cell_type": "code",
   "execution_count": null,
   "id": "d16f5945",
   "metadata": {
    "tags": []
   },
   "outputs": [],
   "source": [
    "from sklearn.metrics import roc_auc_score\n",
    "\n",
    "pred_proba = lr_clf.predict_proba(X_test)[:,1]\n",
    "roc_score = roc_auc_score(y_test, pred_proba)\n",
    "print('ROC AUC 값:{0:.4f}'.format(roc_score))"
   ]
  }
 ],
 "metadata": {
  "kernelspec": {
   "display_name": "Python 3 (ipykernel)",
   "language": "python",
   "name": "python3"
  },
  "language_info": {
   "codemirror_mode": {
    "name": "ipython",
    "version": 3
   },
   "file_extension": ".py",
   "mimetype": "text/x-python",
   "name": "python",
   "nbconvert_exporter": "python",
   "pygments_lexer": "ipython3",
   "version": "3.11.4"
  }
 },
 "nbformat": 4,
 "nbformat_minor": 5
}
