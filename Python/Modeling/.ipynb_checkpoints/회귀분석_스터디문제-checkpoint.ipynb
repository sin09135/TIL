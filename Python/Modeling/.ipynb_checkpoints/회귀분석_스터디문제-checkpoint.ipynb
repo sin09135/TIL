{
 "cells": [
  {
   "cell_type": "markdown",
   "id": "79a8541d-6b45-4130-ad95-6e8ea2969080",
   "metadata": {
    "tags": []
   },
   "source": [
    "## 다중회귀분석\n",
    "---\n",
    "- 아래 데이터를 가지고 charges를 종속변수로 하는 **의료비 예측 휘귀모델 만들기**\n",
    "- 조건) statsmodels 활용\n",
    "- 단계\n",
    "    - 1) 데이터 로드, 라이브러리 임포트\n",
    "    - 2) EDA\n",
    "    - 3) 인코딩\n",
    "    - 4) 모델링\n",
    "        - 모델1. 모든 변수 사용\n",
    "        - 모델2. 유의하지 않은 변수 제거\n",
    "        - 모델3. 스케일링 적용\n",
    "    - 5) 모델 결과 비교\n",
    "    - 6) 모델 선택"
   ]
  },
  {
   "cell_type": "markdown",
   "id": "3dcb9134-d281-4e7f-873d-5a79b21ef32c",
   "metadata": {
    "tags": []
   },
   "source": [
    "#### **데이터셋 소개**\n",
    "- age: 수익자 연령\n",
    "- sex : 계약자 성별\n",
    "- bmi : 몸무게를 키의 제곱으로 나눈 값, 정상범위 18.5 ~ 24.9\n",
    "- children : 의료 보험이 적용되는 자녀 수/부양가족 수\n",
    "- smoker : 피보험자의 흡연 여부\n",
    "- region : 수익자의 거주 지역(4)\n",
    "- charges : 의료비 "
   ]
  },
  {
   "cell_type": "markdown",
   "id": "919085f1-e8f5-407f-81da-078bb60f28d9",
   "metadata": {
    "tags": []
   },
   "source": [
    "#### OLS 해석\n",
    "---"
   ]
  },
  {
   "cell_type": "markdown",
   "id": "1d450f25-55c3-4c0d-a106-e287cfdcb1a2",
   "metadata": {
    "tags": []
   },
   "source": [
    "![olssummary.png](data/olssummary.png)"
   ]
  },
  {
   "cell_type": "markdown",
   "id": "80eb20a2-580d-4a25-8ff5-3622f89e56e0",
   "metadata": {},
   "source": [
    "### 1. 데이터 불러오기 & 라이브러리 임포트"
   ]
  },
  {
   "cell_type": "code",
   "execution_count": 1,
   "id": "cc8cf305-9e70-4dbc-94dc-b6d36a4972bf",
   "metadata": {
    "tags": []
   },
   "outputs": [],
   "source": [
    "import pandas as pd\n",
    "import statsmodels.api as sm\n",
    "import statsmodels.formula.api as smf\n",
    "import matplotlib.pyplot as plt\n",
    "import seaborn as sns\n",
    "from statsmodels.stats.stattools import durbin_watson"
   ]
  },
  {
   "cell_type": "code",
   "execution_count": 2,
   "id": "d7d2a1a7-7d45-48f4-b2b4-62a53963ccf1",
   "metadata": {
    "tags": []
   },
   "outputs": [
    {
     "name": "stdout",
     "output_type": "stream",
     "text": [
      "<class 'pandas.core.frame.DataFrame'>\n",
      "RangeIndex: 1338 entries, 0 to 1337\n",
      "Data columns (total 7 columns):\n",
      " #   Column    Non-Null Count  Dtype  \n",
      "---  ------    --------------  -----  \n",
      " 0   age       1338 non-null   int64  \n",
      " 1   sex       1338 non-null   object \n",
      " 2   bmi       1338 non-null   float64\n",
      " 3   children  1338 non-null   int64  \n",
      " 4   smoker    1338 non-null   object \n",
      " 5   region    1338 non-null   object \n",
      " 6   charges   1338 non-null   float64\n",
      "dtypes: float64(2), int64(2), object(3)\n",
      "memory usage: 73.3+ KB\n"
     ]
    }
   ],
   "source": [
    "df = pd.read_csv('data/insurance.csv')\n",
    "df.info()"
   ]
  },
  {
   "cell_type": "markdown",
   "id": "f44432b9-ba5d-4c7c-b1f5-187390140dea",
   "metadata": {
    "tags": []
   },
   "source": [
    "### 2. EDA"
   ]
  },
  {
   "cell_type": "code",
   "execution_count": null,
   "id": "76ea643a-4942-42fd-a6dc-d0ffc77c63ea",
   "metadata": {
    "tags": []
   },
   "outputs": [],
   "source": []
  },
  {
   "cell_type": "code",
   "execution_count": null,
   "id": "fd1b3bcb-99cc-4713-b47f-faf8c03d39ec",
   "metadata": {
    "tags": []
   },
   "outputs": [],
   "source": []
  },
  {
   "cell_type": "markdown",
   "id": "2d352766-e284-454f-8945-dea8f49c892d",
   "metadata": {},
   "source": [
    "### 3. 인코딩(pd.get_dummies)"
   ]
  },
  {
   "cell_type": "code",
   "execution_count": null,
   "id": "7417e329-62a2-4a7d-b7f0-274d6b04ccc7",
   "metadata": {
    "tags": []
   },
   "outputs": [],
   "source": []
  },
  {
   "cell_type": "markdown",
   "id": "6d2c16db-d14e-47f3-9d2d-51509cae4c9d",
   "metadata": {},
   "source": [
    "- 상관관계 시각화"
   ]
  },
  {
   "cell_type": "code",
   "execution_count": null,
   "id": "d9cb6707-68ef-4be1-8fb9-1037a26889fb",
   "metadata": {
    "tags": []
   },
   "outputs": [],
   "source": []
  },
  {
   "cell_type": "markdown",
   "id": "ce828146-0239-4e39-9dfc-a298f1256998",
   "metadata": {},
   "source": [
    "### 4. 모델링"
   ]
  },
  {
   "cell_type": "markdown",
   "id": "dcdfc8d8-3799-4920-88b3-ede6229cb38b",
   "metadata": {},
   "source": [
    "#### 모델_1.모든 변수 사용"
   ]
  },
  {
   "cell_type": "code",
   "execution_count": null,
   "id": "5d862b08-84a5-4acd-b463-7699b6014977",
   "metadata": {
    "tags": []
   },
   "outputs": [],
   "source": []
  },
  {
   "cell_type": "markdown",
   "id": "1ba43981-7ad2-435f-8a6a-87e280e5da1e",
   "metadata": {},
   "source": [
    "- 유의하지 않은 변수를 찾고, pvalue의 의미를 설명하시오."
   ]
  },
  {
   "cell_type": "markdown",
   "id": "8e2181b8-d8aa-456f-ac19-3a3575cc99c9",
   "metadata": {},
   "source": [
    "#### 모델_2.유의하지 않은 변수 제거"
   ]
  },
  {
   "cell_type": "code",
   "execution_count": null,
   "id": "aa87ec06-9f44-4576-806f-6d964b52d724",
   "metadata": {
    "tags": []
   },
   "outputs": [],
   "source": []
  },
  {
   "cell_type": "markdown",
   "id": "964cf62d-a4f1-4ecf-a408-4690884325be",
   "metadata": {},
   "source": [
    "#### 모델_3.스케일링 적용(Min_Max)"
   ]
  },
  {
   "cell_type": "code",
   "execution_count": null,
   "id": "2ae9b753-9335-4755-8209-aab0a5695185",
   "metadata": {
    "tags": []
   },
   "outputs": [],
   "source": []
  },
  {
   "cell_type": "markdown",
   "id": "c56f7e19-047e-47c2-ac62-444ef8f62e8a",
   "metadata": {
    "tags": []
   },
   "source": [
    "### 5. 모델 결과 비교\n",
    "- 최적의 모델을 선택(근거)"
   ]
  },
  {
   "cell_type": "code",
   "execution_count": null,
   "id": "1fc7a76a-b6c7-45d8-a423-0e38f482d0dd",
   "metadata": {},
   "outputs": [],
   "source": []
  }
 ],
 "metadata": {
  "kernelspec": {
   "display_name": "Python 3 (ipykernel)",
   "language": "python",
   "name": "python3"
  },
  "language_info": {
   "codemirror_mode": {
    "name": "ipython",
    "version": 3
   },
   "file_extension": ".py",
   "mimetype": "text/x-python",
   "name": "python",
   "nbconvert_exporter": "python",
   "pygments_lexer": "ipython3",
   "version": "3.11.4"
  }
 },
 "nbformat": 4,
 "nbformat_minor": 5
}
