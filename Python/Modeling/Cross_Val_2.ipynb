{
 "cells": [
  {
   "cell_type": "code",
   "execution_count": 10,
   "id": "4cd4c8be-2866-4053-b036-95c1f6c54b37",
   "metadata": {
    "tags": []
   },
   "outputs": [],
   "source": [
    "from sklearn.tree import DecisionTreeClassifier\n",
    "from sklearn.ensemble import RandomForestClassifier\n",
    "from sklearn.linear_model import LogisticRegression\n",
    "from sklearn.model_selection import cross_val_score, cross_validate\n",
    "from sklearn.datasets import load_iris\n",
    "import numpy as np\n",
    "import warnings\n",
    "warnings.filterwarnings('ignore')"
   ]
  },
  {
   "cell_type": "markdown",
   "id": "e87ecdbd-852d-4dc8-acb5-54b321b516cd",
   "metadata": {
    "tags": []
   },
   "source": [
    "- cross_val_score \n",
    "- 교차검증을 사용할 수 있는 여러 방법들 중 하나\n",
    "- cross_val_score : 교차검증 간단하게 수행할 수 있는 함수\n",
    "    - k-fold 교차검증을 사용하고, k는 분석가 지정할 수 있다.\n",
    "    - 클래스의 불균형 상관없이 알아서 잘 확인하고 하니 너무 편하게 사용할 수 있다.\n",
    "- cross_validate - 교차검증 실행할 수 있음 \n",
    "    - 여러가지 추가 정보들을 확인할 수 있다. 테스트 훈련시간이나, 테스트 시간 등, 정밀도 재현율, 다른 평가지표 한 번에 볼 수 있음\n",
    "    - 기능적으로 좀 더 세부적으로 볼 수 있다."
   ]
  },
  {
   "cell_type": "code",
   "execution_count": 3,
   "id": "af0a1c9e-3ce4-4b72-9468-e6ca5949bc35",
   "metadata": {
    "tags": []
   },
   "outputs": [],
   "source": [
    "iris = load_iris()\n",
    "X,y = iris.data, iris.target"
   ]
  },
  {
   "cell_type": "code",
   "execution_count": 4,
   "id": "6f4fba25-9634-45bb-8daa-42482b724d59",
   "metadata": {
    "tags": []
   },
   "outputs": [],
   "source": [
    "clf = RandomForestClassifier(random_state = 111)"
   ]
  },
  {
   "cell_type": "code",
   "execution_count": 5,
   "id": "603676f9-8b26-4cf0-869e-1c49b970236a",
   "metadata": {
    "tags": []
   },
   "outputs": [],
   "source": [
    "# Cross_val_score 로 교차검증 진행\n",
    "scores = cross_val_score(clf,X,y, cv = 5, scoring = 'accuracy')"
   ]
  },
  {
   "cell_type": "code",
   "execution_count": 6,
   "id": "8b84138d-1156-4095-8787-e2733c33a980",
   "metadata": {
    "tags": []
   },
   "outputs": [
    {
     "data": {
      "text/plain": [
       "array([0.96666667, 0.96666667, 0.93333333, 0.93333333, 1.        ])"
      ]
     },
     "execution_count": 6,
     "metadata": {},
     "output_type": "execute_result"
    }
   ],
   "source": [
    "scores"
   ]
  },
  {
   "cell_type": "code",
   "execution_count": 7,
   "id": "ab1a6cd9-2561-4511-9786-3cedf41a3e2c",
   "metadata": {
    "tags": []
   },
   "outputs": [
    {
     "data": {
      "text/plain": [
       "0.96"
      ]
     },
     "execution_count": 7,
     "metadata": {},
     "output_type": "execute_result"
    }
   ],
   "source": [
    "scores.mean()"
   ]
  },
  {
   "cell_type": "code",
   "execution_count": 11,
   "id": "47e48feb-31e0-45f9-8841-9fb0b80711bc",
   "metadata": {
    "tags": []
   },
   "outputs": [],
   "source": [
    "# cross_validate 사용\n",
    "# cross_validate(모델, x,y, cv=?, scroing=?, return_train_score=True?) \n",
    "scoring=['accuracy','precision','recall','f1']\n",
    "\n",
    "results= cross_validate(clf, X,y, cv=5, scoring=scoring, return_train_score=True)"
   ]
  },
  {
   "cell_type": "code",
   "execution_count": 12,
   "id": "2a6fc5dd-e19a-41a5-9c2f-0317d3cc9f53",
   "metadata": {
    "tags": []
   },
   "outputs": [],
   "source": [
    "scoring=['accuracy','precision_micro','recall_micro','f1_micro']\n",
    "\n",
    "results_mic= cross_validate(clf, X,y, cv=5, scoring=scoring, return_train_score=True)"
   ]
  },
  {
   "cell_type": "code",
   "execution_count": 13,
   "id": "33897609-2634-4496-8fab-be10710397e4",
   "metadata": {
    "tags": []
   },
   "outputs": [
    {
     "data": {
      "text/plain": [
       "{'fit_time': array([0.11952806, 0.09782887, 0.09544611, 0.09598517, 0.1036768 ]),\n",
       " 'score_time': array([0.01042414, 0.00955486, 0.00954604, 0.01133609, 0.00954413]),\n",
       " 'test_accuracy': array([0.96666667, 0.96666667, 0.93333333, 0.93333333, 1.        ]),\n",
       " 'train_accuracy': array([1., 1., 1., 1., 1.]),\n",
       " 'test_precision_micro': array([0.96666667, 0.96666667, 0.93333333, 0.93333333, 1.        ]),\n",
       " 'train_precision_micro': array([1., 1., 1., 1., 1.]),\n",
       " 'test_recall_micro': array([0.96666667, 0.96666667, 0.93333333, 0.93333333, 1.        ]),\n",
       " 'train_recall_micro': array([1., 1., 1., 1., 1.]),\n",
       " 'test_f1_micro': array([0.96666667, 0.96666667, 0.93333333, 0.93333333, 1.        ]),\n",
       " 'train_f1_micro': array([1., 1., 1., 1., 1.])}"
      ]
     },
     "execution_count": 13,
     "metadata": {},
     "output_type": "execute_result"
    }
   ],
   "source": [
    "results_mic"
   ]
  },
  {
   "cell_type": "markdown",
   "id": "54473413-7859-467c-9e5b-2909781f2f75",
   "metadata": {},
   "source": [
    "### 다중 클래스 분류문제\n",
    "- micro \n",
    "    - 가중치간의 weight는 무시하고 전체 샘플 수로 계산한다. 모든 클래스가 동등하게 중요한 경우 사용\n",
    "- macro \n",
    "    - 클래스간의 불균형이 큰 경우에 사용한다.\n",
    "- weighted \n",
    "    - 클래스간의 불균형인 경우 가중치를 어디에 더 두는 것에 따라서 다르게 계산되는 것"
   ]
  },
  {
   "cell_type": "markdown",
   "id": "09ca1a27-6f08-4146-bd2b-42d31d3374e7",
   "metadata": {
    "tags": []
   },
   "source": [
    "### precision\n",
    "- Class A : 1 TP & 1 FP = 0.5\n",
    "- Class B : 10 TP & 90 FP = 0.1\n",
    "- Class C : 1TP & 1FP = 0.5\n",
    "- Class D : 1TP & 1FP = 0.5\n",
    "\n",
    "- precision을 만든다 하면? \n",
    "- Macro -Precision : 평균의 평균을 낸다. ( 0.5+0.1+0.5+0.5 )/4  =0.4\n",
    "\n",
    "\n",
    "- Micro- Precision : 기존 평균을 내는 방식돠 동일하게 진행  (1+10+1+1)/(2+100+2+2)= 0.123\n",
    "\n",
    "----\n",
    "- 클래스의 불균형, 다중분류 등일 때 평가지표를 어떤 것으로 사용해야 하는가?\n",
    "- 이런 방식이 다르기 때문에 도메인에 맞게 사용하면 된다.\n",
    "- 클래스의 불균형이 있는 데이터셋이나 케이스의 경우에는 Micro 좀더 효과적인 평가지표"
   ]
  },
  {
   "cell_type": "markdown",
   "id": "995e5ccd-d67c-466e-82a3-b9558b8a8823",
   "metadata": {},
   "source": [
    "### 이진분류"
   ]
  },
  {
   "cell_type": "code",
   "execution_count": 15,
   "id": "4b1ae4d9-441e-4f98-9f8a-ab5e7f1347e8",
   "metadata": {
    "tags": []
   },
   "outputs": [],
   "source": [
    "import seaborn as sns\n",
    "df = sns.load_dataset('titanic')"
   ]
  },
  {
   "cell_type": "code",
   "execution_count": 16,
   "id": "78665c04-25c4-4c1b-914a-2bca0a314bca",
   "metadata": {
    "tags": []
   },
   "outputs": [
    {
     "data": {
      "text/plain": [
       "0    549\n",
       "1    342\n",
       "Name: survived, dtype: int64"
      ]
     },
     "execution_count": 16,
     "metadata": {},
     "output_type": "execute_result"
    }
   ],
   "source": [
    "df['survived'].value_counts()"
   ]
  },
  {
   "cell_type": "code",
   "execution_count": 18,
   "id": "8c07bde9-fce7-4633-80e5-b6b0451b40b4",
   "metadata": {
    "tags": []
   },
   "outputs": [],
   "source": [
    "df_tt=df[['survived','pclass','fare','age']]\n",
    "df_tt = df_tt.dropna()"
   ]
  },
  {
   "cell_type": "code",
   "execution_count": 19,
   "id": "2c7e2ec9-8e52-435f-b0b7-132e5fffa1b3",
   "metadata": {
    "tags": []
   },
   "outputs": [],
   "source": [
    "df_tt_x= df_tt[['pclass','fare','age']]\n",
    "df_tt_y= df_tt['survived']"
   ]
  },
  {
   "cell_type": "code",
   "execution_count": 20,
   "id": "24b9000e-bf73-43f4-9bd9-1c8d632eefeb",
   "metadata": {
    "tags": []
   },
   "outputs": [
    {
     "data": {
      "text/plain": [
       "array([0.58741259, 0.68531469, 0.63636364, 0.66433566, 0.6971831 ])"
      ]
     },
     "execution_count": 20,
     "metadata": {},
     "output_type": "execute_result"
    }
   ],
   "source": [
    "cross_val_score(clf, df_tt_x,df_tt_y, cv=5, scoring='accuracy') #na값이 있는 경우는 에러 "
   ]
  },
  {
   "cell_type": "code",
   "execution_count": 21,
   "id": "6945eff3-0688-4f87-b6d2-b92f30842e7e",
   "metadata": {
    "tags": []
   },
   "outputs": [],
   "source": [
    "scoring=['accuracy','precision','recall','f1']\n",
    "results= cross_validate(clf, df_tt_x,df_tt_y, cv=5, scoring=scoring, return_train_score=True)"
   ]
  },
  {
   "cell_type": "code",
   "execution_count": 22,
   "id": "19902b6f-9df7-480f-a359-ca9817370319",
   "metadata": {
    "tags": []
   },
   "outputs": [
    {
     "data": {
      "text/plain": [
       "{'fit_time': array([0.15544391, 0.13413787, 0.12042594, 0.1199801 , 0.12040973]),\n",
       " 'score_time': array([0.01458001, 0.01298904, 0.01280308, 0.01255178, 0.01280522]),\n",
       " 'test_accuracy': array([0.58741259, 0.68531469, 0.63636364, 0.66433566, 0.6971831 ]),\n",
       " 'train_accuracy': array([0.97022767, 0.98073555, 0.97197898, 0.9737303 , 0.97202797]),\n",
       " 'test_precision': array([0.49152542, 0.61016949, 0.55555556, 0.6       , 0.64150943]),\n",
       " 'train_precision': array([0.98206278, 0.97835498, 0.96956522, 0.97379913, 0.97787611]),\n",
       " 'test_recall': array([0.5       , 0.62068966, 0.51724138, 0.51724138, 0.5862069 ]),\n",
       " 'train_recall': array([0.94396552, 0.97413793, 0.9612069 , 0.9612069 , 0.95258621]),\n",
       " 'test_f1': array([0.4957265 , 0.61538462, 0.53571429, 0.55555556, 0.61261261]),\n",
       " 'train_f1': array([0.96263736, 0.9762419 , 0.96536797, 0.96746204, 0.9650655 ])}"
      ]
     },
     "execution_count": 22,
     "metadata": {},
     "output_type": "execute_result"
    }
   ],
   "source": [
    "results"
   ]
  },
  {
   "cell_type": "markdown",
   "id": "eaeba9ef-3312-449b-973a-33016219f3ba",
   "metadata": {},
   "source": [
    "#### 모델 3개 이상 교차검증 시행"
   ]
  },
  {
   "cell_type": "code",
   "execution_count": 23,
   "id": "5e634176-c961-4994-a5fe-f5cb728fae75",
   "metadata": {
    "tags": []
   },
   "outputs": [
    {
     "name": "stdout",
     "output_type": "stream",
     "text": [
      "### 사용할 알고리즘 DT ###\n",
      "accuracy\n",
      "-----\n",
      "[0.6013986  0.67132867 0.59440559 0.63636364 0.62676056]\n",
      "precision\n",
      "-----\n",
      "[0.50943396 0.59649123 0.5        0.57692308 0.53125   ]\n",
      "recall\n",
      "-----\n",
      "[0.44827586 0.5862069  0.48275862 0.51724138 0.60344828]\n",
      "f1\n",
      "-----\n",
      "[0.48695652 0.5982906  0.52173913 0.56637168 0.56910569]\n",
      "### 사용할 알고리즘 RF ###\n",
      "accuracy\n",
      "-----\n",
      "[0.58741259 0.69230769 0.64335664 0.69230769 0.71126761]\n",
      "precision\n",
      "-----\n",
      "[0.5        0.61666667 0.54716981 0.62745098 0.66666667]\n",
      "recall\n",
      "-----\n",
      "[0.51724138 0.60344828 0.51724138 0.56896552 0.56896552]\n",
      "f1\n",
      "-----\n",
      "[0.49122807 0.62608696 0.54054054 0.58490566 0.64285714]\n",
      "### 사용할 알고리즘 LR ###\n",
      "accuracy\n",
      "-----\n",
      "[0.60839161 0.70629371 0.70629371 0.79020979 0.68309859]\n",
      "precision\n",
      "-----\n",
      "[0.525      0.66       0.7        0.85       0.64444444]\n",
      "recall\n",
      "-----\n",
      "[0.36206897 0.56896552 0.48275862 0.5862069  0.5       ]\n",
      "f1\n",
      "-----\n",
      "[0.42857143 0.61111111 0.57142857 0.69387755 0.5631068 ]\n"
     ]
    }
   ],
   "source": [
    "model=[DecisionTreeClassifier(),RandomForestClassifier(),LogisticRegression()]\n",
    "name = ['DT','RF','LR']\n",
    "\n",
    "for model, name in zip(model,name):\n",
    "    print(\"### 사용할 알고리즘\",name,'###')\n",
    "    for score in ['accuracy','precision','recall','f1']:\n",
    "        print(score)\n",
    "        print('-----')\n",
    "        print(cross_val_score(model,df_tt_x, df_tt_y, scoring=score, cv=5))"
   ]
  },
  {
   "cell_type": "code",
   "execution_count": 24,
   "id": "2e9671a9-37a8-41fd-b632-1dfaebeaa6cb",
   "metadata": {
    "tags": []
   },
   "outputs": [],
   "source": [
    "# #추가 교차검증 내용 LeaveOneOut\n",
    "# #시간이 꽤 오래 걸린다.\n",
    "\n",
    "# from sklearn.model_selection import LeaveOneOut\n",
    "# clf = RandomForestClassifier(random_state=111)\n",
    "\n",
    "# loo = LeaveOneOut()\n",
    "\n",
    "# scores = cross_val_score(clf, df_tt_x, df_tt_y, cv=loo) #cv를 LeaveOneOut 넣어서 진행하면"
   ]
  },
  {
   "cell_type": "markdown",
   "id": "3d7f4adc-236f-4ade-bb51-7916a6102115",
   "metadata": {
    "tags": []
   },
   "source": [
    "### 임계값에 따라서 모든 지표의 값이 다 달라질 수 있다.\n",
    "- 통상적으로 생각하는 것은 임계값이 0.5 이진분류시 0.5 기준으로 0.5보다 초과면 1, 0.5미만이면 0 이런 식으로 이진분류로 들어간다.\n",
    "- 도메인, 상황이나 따라서 임계값을 변경해야 하는 경우가 있다. 0.6 0.4 , 0.7 ,0.3 값들이 달라지게 된다. 0.3, 0.7 값이 완전히 달라진다."
   ]
  },
  {
   "cell_type": "code",
   "execution_count": null,
   "id": "2b536377-6a1d-41e1-8875-914629c70cec",
   "metadata": {},
   "outputs": [],
   "source": []
  }
 ],
 "metadata": {
  "kernelspec": {
   "display_name": "Python 3 (ipykernel)",
   "language": "python",
   "name": "python3"
  },
  "language_info": {
   "codemirror_mode": {
    "name": "ipython",
    "version": 3
   },
   "file_extension": ".py",
   "mimetype": "text/x-python",
   "name": "python",
   "nbconvert_exporter": "python",
   "pygments_lexer": "ipython3",
   "version": "3.11.4"
  }
 },
 "nbformat": 4,
 "nbformat_minor": 5
}
