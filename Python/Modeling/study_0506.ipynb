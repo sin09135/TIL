{
 "cells": [
  {
   "cell_type": "code",
   "execution_count": 1,
   "metadata": {
    "id": "Hysymz9hG2sZ",
    "tags": []
   },
   "outputs": [],
   "source": [
    "from sklearn.datasets import load_iris\n",
    "from sklearn.tree import DecisionTreeClassifier\n",
    "from sklearn.model_selection import train_test_split, cross_val_score, cross_validate\n",
    "from sklearn.datasets import fetch_california_housing\n",
    "from sklearn.ensemble import RandomForestClassifier\n",
    "from sklearn.neighbors import KNeighborsRegressor\n",
    "import pandas as pd\n",
    "import numpy as np\n",
    "import seaborn as sns\n",
    "from sklearn.metrics import accuracy_score, precision_score, recall_score, confusion_matrix\n",
    "from sklearn.linear_model import LogisticRegression\n",
    "\n",
    "import warnings\n",
    "warnings.filterwarnings('ignore')"
   ]
  },
  {
   "cell_type": "markdown",
   "metadata": {
    "id": "CZVYo2k-bC3L"
   },
   "source": [
    "# 1. KFold와 StratifiedKFold 의 차이점에 대해 밝히고, 아래 데이터셋을 시각화 혹은 분석 후 어떤 교차검증방식이 더 올바를지 서술하시오.\n",
    "\n",
    "- 타겟변수 : class\n",
    "- 단, 10 이상의 차이도 매우 큰 것으로 간주\n"
   ]
  },
  {
   "cell_type": "code",
   "execution_count": 2,
   "metadata": {
    "colab": {
     "base_uri": "https://localhost:8080/",
     "height": 226
    },
    "executionInfo": {
     "elapsed": 383,
     "status": "ok",
     "timestamp": 1714991427949,
     "user": {
      "displayName": "정제나",
      "userId": "09947149440098977556"
     },
     "user_tz": -540
    },
    "id": "vQ_3uIWNbwon",
    "outputId": "504226c3-335a-48e6-bb5e-88aa0e9c448e",
    "tags": []
   },
   "outputs": [
    {
     "data": {
      "text/html": [
       "<div>\n",
       "<style scoped>\n",
       "    .dataframe tbody tr th:only-of-type {\n",
       "        vertical-align: middle;\n",
       "    }\n",
       "\n",
       "    .dataframe tbody tr th {\n",
       "        vertical-align: top;\n",
       "    }\n",
       "\n",
       "    .dataframe thead th {\n",
       "        text-align: right;\n",
       "    }\n",
       "</style>\n",
       "<table border=\"1\" class=\"dataframe\">\n",
       "  <thead>\n",
       "    <tr style=\"text-align: right;\">\n",
       "      <th></th>\n",
       "      <th>alcohol</th>\n",
       "      <th>malic_acid</th>\n",
       "      <th>ash</th>\n",
       "      <th>alcalinity_of_ash</th>\n",
       "      <th>magnesium</th>\n",
       "      <th>total_phenols</th>\n",
       "      <th>flavanoids</th>\n",
       "      <th>nonflavanoid_phenols</th>\n",
       "      <th>proanthocyanins</th>\n",
       "      <th>color_intensity</th>\n",
       "      <th>hue</th>\n",
       "      <th>od280/od315_of_diluted_wines</th>\n",
       "      <th>proline</th>\n",
       "      <th>class</th>\n",
       "    </tr>\n",
       "  </thead>\n",
       "  <tbody>\n",
       "    <tr>\n",
       "      <th>0</th>\n",
       "      <td>14.23</td>\n",
       "      <td>1.71</td>\n",
       "      <td>2.43</td>\n",
       "      <td>15.6</td>\n",
       "      <td>127.0</td>\n",
       "      <td>2.80</td>\n",
       "      <td>3.06</td>\n",
       "      <td>0.28</td>\n",
       "      <td>2.29</td>\n",
       "      <td>5.64</td>\n",
       "      <td>1.04</td>\n",
       "      <td>3.92</td>\n",
       "      <td>1065.0</td>\n",
       "      <td>class_0</td>\n",
       "    </tr>\n",
       "    <tr>\n",
       "      <th>1</th>\n",
       "      <td>13.20</td>\n",
       "      <td>1.78</td>\n",
       "      <td>2.14</td>\n",
       "      <td>11.2</td>\n",
       "      <td>100.0</td>\n",
       "      <td>2.65</td>\n",
       "      <td>2.76</td>\n",
       "      <td>0.26</td>\n",
       "      <td>1.28</td>\n",
       "      <td>4.38</td>\n",
       "      <td>1.05</td>\n",
       "      <td>3.40</td>\n",
       "      <td>1050.0</td>\n",
       "      <td>class_0</td>\n",
       "    </tr>\n",
       "    <tr>\n",
       "      <th>2</th>\n",
       "      <td>13.16</td>\n",
       "      <td>2.36</td>\n",
       "      <td>2.67</td>\n",
       "      <td>18.6</td>\n",
       "      <td>101.0</td>\n",
       "      <td>2.80</td>\n",
       "      <td>3.24</td>\n",
       "      <td>0.30</td>\n",
       "      <td>2.81</td>\n",
       "      <td>5.68</td>\n",
       "      <td>1.03</td>\n",
       "      <td>3.17</td>\n",
       "      <td>1185.0</td>\n",
       "      <td>class_0</td>\n",
       "    </tr>\n",
       "    <tr>\n",
       "      <th>3</th>\n",
       "      <td>14.37</td>\n",
       "      <td>1.95</td>\n",
       "      <td>2.50</td>\n",
       "      <td>16.8</td>\n",
       "      <td>113.0</td>\n",
       "      <td>3.85</td>\n",
       "      <td>3.49</td>\n",
       "      <td>0.24</td>\n",
       "      <td>2.18</td>\n",
       "      <td>7.80</td>\n",
       "      <td>0.86</td>\n",
       "      <td>3.45</td>\n",
       "      <td>1480.0</td>\n",
       "      <td>class_0</td>\n",
       "    </tr>\n",
       "    <tr>\n",
       "      <th>4</th>\n",
       "      <td>13.24</td>\n",
       "      <td>2.59</td>\n",
       "      <td>2.87</td>\n",
       "      <td>21.0</td>\n",
       "      <td>118.0</td>\n",
       "      <td>2.80</td>\n",
       "      <td>2.69</td>\n",
       "      <td>0.39</td>\n",
       "      <td>1.82</td>\n",
       "      <td>4.32</td>\n",
       "      <td>1.04</td>\n",
       "      <td>2.93</td>\n",
       "      <td>735.0</td>\n",
       "      <td>class_0</td>\n",
       "    </tr>\n",
       "  </tbody>\n",
       "</table>\n",
       "</div>"
      ],
      "text/plain": [
       "   alcohol  malic_acid   ash  alcalinity_of_ash  magnesium  total_phenols  \\\n",
       "0    14.23        1.71  2.43               15.6      127.0           2.80   \n",
       "1    13.20        1.78  2.14               11.2      100.0           2.65   \n",
       "2    13.16        2.36  2.67               18.6      101.0           2.80   \n",
       "3    14.37        1.95  2.50               16.8      113.0           3.85   \n",
       "4    13.24        2.59  2.87               21.0      118.0           2.80   \n",
       "\n",
       "   flavanoids  nonflavanoid_phenols  proanthocyanins  color_intensity   hue  \\\n",
       "0        3.06                  0.28             2.29             5.64  1.04   \n",
       "1        2.76                  0.26             1.28             4.38  1.05   \n",
       "2        3.24                  0.30             2.81             5.68  1.03   \n",
       "3        3.49                  0.24             2.18             7.80  0.86   \n",
       "4        2.69                  0.39             1.82             4.32  1.04   \n",
       "\n",
       "   od280/od315_of_diluted_wines  proline    class  \n",
       "0                          3.92   1065.0  class_0  \n",
       "1                          3.40   1050.0  class_0  \n",
       "2                          3.17   1185.0  class_0  \n",
       "3                          3.45   1480.0  class_0  \n",
       "4                          2.93    735.0  class_0  "
      ]
     },
     "execution_count": 2,
     "metadata": {},
     "output_type": "execute_result"
    }
   ],
   "source": [
    "# 데이터준비\n",
    "\n",
    "from sklearn.datasets import load_wine\n",
    "wine = load_wine()\n",
    "df = pd.DataFrame(wine.data, columns=wine.feature_names)\n",
    "sy = pd.Series(wine.target, dtype=\"category\")\n",
    "sy = sy.cat.rename_categories(wine.target_names)\n",
    "df['class'] = sy\n",
    "df.head()"
   ]
  },
  {
   "cell_type": "code",
   "execution_count": 3,
   "metadata": {
    "id": "LoVL1VFPfMzM",
    "tags": []
   },
   "outputs": [
    {
     "data": {
      "text/plain": [
       "class_1    71\n",
       "class_0    59\n",
       "class_2    48\n",
       "Name: class, dtype: int64"
      ]
     },
     "execution_count": 3,
     "metadata": {},
     "output_type": "execute_result"
    }
   ],
   "source": [
    "class_count = df['class'].value_counts()\n",
    "class_count"
   ]
  },
  {
   "cell_type": "code",
   "execution_count": 4,
   "metadata": {
    "tags": []
   },
   "outputs": [
    {
     "data": {
      "image/png": "[encoded data removed]",
      "text/plain": [
       "<Figure size 640x480 with 1 Axes>"
      ]
     },
     "metadata": {},
     "output_type": "display_data"
    }
   ],
   "source": [
    "import matplotlib.pyplot as plt\n",
    "\n",
    "fig, ax = plt.subplots()\n",
    "class_count.plot(kind='bar', ax=ax)\n",
    "ax.set_title('Distribution of y')\n",
    "ax.set_xlabel('Class')\n",
    "ax.set_ylabel('Frequency')\n",
    "plt.show()"
   ]
  },
  {
   "cell_type": "markdown",
   "metadata": {
    "tags": []
   },
   "source": [
    "클래스가 비교적 불균형적이라고 판단 > Stratified kfold 써도 될 것 같다."
   ]
  },
  {
   "cell_type": "markdown",
   "metadata": {
    "id": "kk4OGFFbZQDJ"
   },
   "source": [
    "# 2번 results의 값에 nan이 나오는 이유에 대해 서술하고, 이를 해결하는 방법과 예시코드를 구현해보시오."
   ]
  },
  {
   "cell_type": "code",
   "execution_count": 5,
   "metadata": {
    "id": "4wJBZKBSZihO",
    "tags": []
   },
   "outputs": [],
   "source": [
    "# 데이터 준비\n",
    "iris= load_iris()\n",
    "X,y = iris.data, iris.target\n",
    "\n",
    "clf = RandomForestClassifier(random_state=111)\n",
    "\n",
    "scoring=['accuracy','precision','recall','f1']\n",
    "results= cross_validate(clf, X,y, cv=5, scoring=scoring, return_train_score=True)"
   ]
  },
  {
   "cell_type": "code",
   "execution_count": 6,
   "metadata": {
    "colab": {
     "base_uri": "https://localhost:8080/"
    },
    "executionInfo": {
     "elapsed": 3,
     "status": "ok",
     "timestamp": 1714990613446,
     "user": {
      "displayName": "정제나",
      "userId": "09947149440098977556"
     },
     "user_tz": -540
    },
    "id": "NRG5ytpKZsJJ",
    "outputId": "1bd57924-aa60-4169-d7e1-e883f596a5fa",
    "tags": []
   },
   "outputs": [
    {
     "data": {
      "text/plain": [
       "{'fit_time': array([0.11088181, 0.10808396, 0.11429   , 0.11844897, 0.12556791]),\n",
       " 'score_time': array([0.0136261 , 0.00935602, 0.01050401, 0.01139307, 0.01031613]),\n",
       " 'test_accuracy': array([0.96666667, 0.96666667, 0.93333333, 0.93333333, 1.        ]),\n",
       " 'train_accuracy': array([1., 1., 1., 1., 1.]),\n",
       " 'test_precision': array([nan, nan, nan, nan, nan]),\n",
       " 'train_precision': array([nan, nan, nan, nan, nan]),\n",
       " 'test_recall': array([nan, nan, nan, nan, nan]),\n",
       " 'train_recall': array([nan, nan, nan, nan, nan]),\n",
       " 'test_f1': array([nan, nan, nan, nan, nan]),\n",
       " 'train_f1': array([nan, nan, nan, nan, nan])}"
      ]
     },
     "execution_count": 6,
     "metadata": {},
     "output_type": "execute_result"
    }
   ],
   "source": [
    "results"
   ]
  },
  {
   "cell_type": "markdown",
   "metadata": {
    "tags": []
   },
   "source": [
    "- 이유 : 타겟변수가 다중클래스를 가짐\n",
    "- 해결방법: 각 클래스를 개별적으로 계산 후 평균값으로 나타내는 Macro 사용"
   ]
  },
  {
   "cell_type": "code",
   "execution_count": 7,
   "metadata": {
    "executionInfo": {
     "elapsed": 434,
     "status": "ok",
     "timestamp": 1714991957299,
     "user": {
      "displayName": "정제나",
      "userId": "09947149440098977556"
     },
     "user_tz": -540
    },
    "id": "eb3NpD19aoDE",
    "tags": []
   },
   "outputs": [],
   "source": [
    "from sklearn.model_selection import train_test_split\n",
    "\n",
    "# 데이터 분리\n",
    "X_train, X_test, y_train, y_test = train_test_split(X, y, test_size=0.2, random_state=42)\n",
    "\n",
    "# RandomForestClassifier 초기화\n",
    "clf = RandomForestClassifier(random_state=111)\n",
    "\n",
    "# 교차 검증 수행\n",
    "scoring=['accuracy','precision','recall','f1']\n",
    "results = cross_validate(clf, X_train, y_train, cv=5, scoring=scoring, return_train_score=True)"
   ]
  },
  {
   "cell_type": "code",
   "execution_count": 8,
   "metadata": {
    "tags": []
   },
   "outputs": [
    {
     "data": {
      "text/plain": [
       "{'fit_time': array([0.12561798, 0.14271092, 0.12040305, 0.11626601, 0.10448909]),\n",
       " 'score_time': array([0.01193404, 0.0111239 , 0.01117897, 0.01040268, 0.00972486]),\n",
       " 'test_accuracy': array([0.95833333, 0.95833333, 0.83333333, 1.        , 0.95833333]),\n",
       " 'train_accuracy': array([1., 1., 1., 1., 1.]),\n",
       " 'test_precision': array([nan, nan, nan, nan, nan]),\n",
       " 'train_precision': array([nan, nan, nan, nan, nan]),\n",
       " 'test_recall': array([nan, nan, nan, nan, nan]),\n",
       " 'train_recall': array([nan, nan, nan, nan, nan]),\n",
       " 'test_f1': array([nan, nan, nan, nan, nan]),\n",
       " 'train_f1': array([nan, nan, nan, nan, nan])}"
      ]
     },
     "execution_count": 8,
     "metadata": {},
     "output_type": "execute_result"
    }
   ],
   "source": [
    "results"
   ]
  },
  {
   "cell_type": "code",
   "execution_count": 9,
   "metadata": {
    "tags": []
   },
   "outputs": [],
   "source": [
    "from sklearn.model_selection import train_test_split\n",
    "from sklearn.ensemble import RandomForestClassifier\n",
    "from sklearn.model_selection import cross_validate\n",
    "\n",
    "# 데이터 분리\n",
    "X_train, X_test, y_train, y_test = train_test_split(X, y, test_size=0.2, random_state=42)\n",
    "\n",
    "# RandomForestClassifier 초기화\n",
    "clf = RandomForestClassifier(random_state=111)\n",
    "\n",
    "# 교차 검증 수행\n",
    "scoring=['accuracy','precision_macro','recall_macro','f1_macro'] # 다중클래스로 지정\n",
    "results = cross_validate(clf, X_train, y_train, cv=5, scoring=scoring, return_train_score=True)"
   ]
  },
  {
   "cell_type": "code",
   "execution_count": 10,
   "metadata": {
    "tags": []
   },
   "outputs": [
    {
     "data": {
      "text/plain": [
       "{'fit_time': array([0.14178801, 0.11087012, 0.12933612, 0.10758018, 0.12796903]),\n",
       " 'score_time': array([0.01108193, 0.01089096, 0.00973582, 0.01147771, 0.01901793]),\n",
       " 'test_accuracy': array([0.95833333, 0.95833333, 0.83333333, 1.        , 0.95833333]),\n",
       " 'train_accuracy': array([1., 1., 1., 1., 1.]),\n",
       " 'test_precision_macro': array([0.96666667, 0.96296296, 0.84444444, 1.        , 0.96296296]),\n",
       " 'train_precision_macro': array([1., 1., 1., 1., 1.]),\n",
       " 'test_recall_macro': array([0.95238095, 0.95833333, 0.83333333, 1.        , 0.95833333]),\n",
       " 'train_recall_macro': array([1., 1., 1., 1., 1.]),\n",
       " 'test_f1_macro': array([0.95681511, 0.95816993, 0.83068783, 1.        , 0.95816993]),\n",
       " 'train_f1_macro': array([1., 1., 1., 1., 1.])}"
      ]
     },
     "execution_count": 10,
     "metadata": {},
     "output_type": "execute_result"
    }
   ],
   "source": [
    "results"
   ]
  },
  {
   "cell_type": "markdown",
   "metadata": {
    "id": "PhkDvyXANwBn"
   },
   "source": [
    "# 3번 : 빈칸에 알맞은 단어들을 넣어서 결과를 보이시오.\n",
    "\n",
    "- 오차행렬, 정확도, 정밀도, 재현율을 구하는 코드"
   ]
  },
  {
   "cell_type": "code",
   "execution_count": 11,
   "metadata": {
    "id": "IBe31fC8fWqA"
   },
   "outputs": [],
   "source": [
    "df =sns.load_dataset('titanic')\n",
    "\n",
    "df_sp=df[['survived','pclass','age','sibsp','parch','fare']]\n",
    "df_sp.dropna(inplace=True)\n",
    "\n",
    "X_train, X_test, y_train, y_test = train_test_split(df_sp.drop('survived',axis=1), df_sp['survived'], test_size=0.3, random_state=111)"
   ]
  },
  {
   "cell_type": "code",
   "execution_count": 12,
   "metadata": {
    "colab": {
     "base_uri": "https://localhost:8080/"
    },
    "executionInfo": {
     "elapsed": 340,
     "status": "ok",
     "timestamp": 1714987517546,
     "user": {
      "displayName": "정제나",
      "userId": "09947149440098977556"
     },
     "user_tz": -540
    },
    "id": "vPYhf0EpNvUK",
    "outputId": "a342cc08-61a1-4e17-d2b2-8853008e9c39"
   },
   "outputs": [
    {
     "ename": "SyntaxError",
     "evalue": "invalid syntax (119172498.py, line 3)",
     "output_type": "error",
     "traceback": [
      "\u001b[0;36m  Cell \u001b[0;32mIn[12], line 3\u001b[0;36m\u001b[0m\n\u001b[0;31m    ---- = ---- (y_test, pred)\u001b[0m\n\u001b[0m         ^\u001b[0m\n\u001b[0;31mSyntaxError\u001b[0m\u001b[0;31m:\u001b[0m invalid syntax\n"
     ]
    }
   ],
   "source": [
    "#### 문제 ####\n",
    "def get_clf_eval(y_test, pred):\n",
    "    ---- = ---- (y_test, pred)\n",
    "    ---- = ---- (y_test, pred)\n",
    "    ---- = ---- (y_test, pred)\n",
    "    ---- = ---- (y_test, pred)\n",
    "    print('오차 행렬')\n",
    "    print( ---- )\n",
    "    print('정확도: {0:.4f}, 정밀도:{1:.4f}, 재현율:{2:.4f}'.format(----, ----, ----))\n",
    "\n",
    "lr_clf = LogisticRegression(solver='liblinear')\n",
    "\n",
    "lr_clf.fit(X_train,y_train)\n",
    "pred = lr_clf.predict(X_test)\n",
    "get_clf_eval(y_test, pred)"
   ]
  },
  {
   "cell_type": "code",
   "execution_count": 13,
   "metadata": {
    "tags": []
   },
   "outputs": [],
   "source": [
    "from sklearn.metrics import confusion_matrix, accuracy_score, precision_score, recall_score\n",
    "\n",
    "def get_clf_eval(y_test, pred):\n",
    "    # 오차 행렬\n",
    "    confusion = confusion_matrix(y_test, pred)\n",
    "    accuracy = accuracy_score(y_test, pred)\n",
    "    precision = precision_score(y_test, pred)\n",
    "    recall = recall_score(y_test, pred)\n",
    "    print('오차 행렬')\n",
    "    print(confusion)\n",
    "    print('정확도: {0:.4f}, 정밀도:{1:.4f}, 재현율:{2:.4f}'.format(accuracy, precision, recall))"
   ]
  },
  {
   "cell_type": "code",
   "execution_count": 14,
   "metadata": {
    "tags": []
   },
   "outputs": [
    {
     "name": "stdout",
     "output_type": "stream",
     "text": [
      "오차 행렬\n",
      "[[110  25]\n",
      " [ 43  37]]\n",
      "정확도: 0.6837, 정밀도:0.5968, 재현율:0.4625\n"
     ]
    }
   ],
   "source": [
    "lr_clf = LogisticRegression(solver='liblinear')\n",
    "\n",
    "lr_clf.fit(X_train,y_train)\n",
    "pred = lr_clf.predict(X_test)\n",
    "get_clf_eval(y_test, pred)"
   ]
  },
  {
   "cell_type": "markdown",
   "metadata": {
    "id": "frLafOtJIazF"
   },
   "source": [
    "# 4번 : 빈칸에 알맞은 단어들을 넣어서 결과를 보이시오.\n",
    "\n",
    "- 교차 검증을 사용하여 mse를 최소로 하는 최적의 k를 찾는 코드\n",
    "- scoring 매개변수에는 클수록 좋은 효용 함수를 사용함 (mse의 경우, 작으면 작을수록 좋은 비용함수)"
   ]
  },
  {
   "cell_type": "code",
   "execution_count": 20,
   "metadata": {
    "id": "SCP_0HADG_69",
    "tags": []
   },
   "outputs": [],
   "source": [
    "X,y = fetch_california_housing(return_X_y=True)\n",
    "\n",
    "X_train, X_test, y_train, y_test = train_test_split(X,y, test_size=0.3, random_state=111)"
   ]
  },
  {
   "cell_type": "code",
   "execution_count": 23,
   "metadata": {
    "tags": []
   },
   "outputs": [
    {
     "name": "stdout",
     "output_type": "stream",
     "text": [
      "Optimal K: 1\n"
     ]
    }
   ],
   "source": [
    "from sklearn.neighbors import KNeighborsRegressor\n",
    "from sklearn.model_selection import cross_val_score\n",
    "\n",
    "k_values = range(1, 20)\n",
    "scores = []\n",
    "\n",
    "for k in k_values:\n",
    "    knn = KNeighborsRegressor(n_neighbors=k)\n",
    "    score = cross_val_score(knn, X_train, y_train, cv=3, scoring='neg_mean_squared_error')\n",
    "    scores.append(-score.mean())\n",
    "\n",
    "optimal_k = k_values[scores.index(max(scores))]\n",
    "print(f'Optimal K: {optimal_k}')\n"
   ]
  },
  {
   "cell_type": "code",
   "execution_count": 22,
   "metadata": {
    "tags": []
   },
   "outputs": [
    {
     "data": {
      "text/plain": [
       "[1.7052816667158428,\n",
       " 1.3684309674195374,\n",
       " 1.2716640455831056,\n",
       " 1.225108112130881,\n",
       " 1.2074929788579556,\n",
       " 1.200944188861086,\n",
       " 1.194642216296615,\n",
       " 1.1893235655117664,\n",
       " 1.1890285590959737,\n",
       " 1.190243262621957,\n",
       " 1.195135142956049,\n",
       " 1.2004987688592974,\n",
       " 1.2045726253377238,\n",
       " 1.2068808839248497,\n",
       " 1.2114161279164835,\n",
       " 1.2162388210390154,\n",
       " 1.220868792274132,\n",
       " 1.2221701975578163,\n",
       " 1.2233110915421397]"
      ]
     },
     "execution_count": 22,
     "metadata": {},
     "output_type": "execute_result"
    }
   ],
   "source": [
    "scores"
   ]
  },
  {
   "cell_type": "code",
   "execution_count": null,
   "metadata": {},
   "outputs": [],
   "source": []
  }
 ],
 "metadata": {
  "colab": {
   "authorship_tag": "ABX9TyPU6wPtRL5nTw5ioQuIua2S",
   "provenance": []
  },
  "kernelspec": {
   "display_name": "Python 3 (ipykernel)",
   "language": "python",
   "name": "python3"
  },
  "language_info": {
   "codemirror_mode": {
    "name": "ipython",
    "version": 3
   },
   "file_extension": ".py",
   "mimetype": "text/x-python",
   "name": "python",
   "nbconvert_exporter": "python",
   "pygments_lexer": "ipython3",
   "version": "3.11.4"
  }
 },
 "nbformat": 4,
 "nbformat_minor": 4
}
