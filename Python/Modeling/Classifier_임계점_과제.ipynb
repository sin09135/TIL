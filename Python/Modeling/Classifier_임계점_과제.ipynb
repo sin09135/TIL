{
 "cells": [
  {
   "cell_type": "markdown",
   "id": "bf25a067-a689-4e68-a3bf-8b1569dc961f",
   "metadata": {},
   "source": [
    "## 임계점 변화에 따른 평가지표&ROC 변화"
   ]
  },
  {
   "cell_type": "code",
   "execution_count": 1,
   "id": "a3904b82-0523-4493-a465-9b8c2d27d0c9",
   "metadata": {
    "tags": []
   },
   "outputs": [],
   "source": [
    "import pandas as pd\n",
    "import numpy as np\n",
    "import matplotlib.pyplot as plt\n",
    "import seaborn as sns\n",
    "from sklearn.model_selection import train_test_split\n",
    "from sklearn.linear_model import LogisticRegression\n",
    "from sklearn.metrics import confusion_matrix, accuracy_score, precision_score, recall_score, f1_score\n",
    "\n",
    "import warnings\n",
    "warnings.filterwarnings('ignore')"
   ]
  },
  {
   "cell_type": "code",
   "execution_count": 2,
   "id": "6b9970aa-38f2-46a2-868e-6081f7b3b161",
   "metadata": {
    "tags": []
   },
   "outputs": [],
   "source": [
    "df =sns.load_dataset('titanic')"
   ]
  },
  {
   "cell_type": "code",
   "execution_count": 3,
   "id": "7f8bc5e2-23ac-4af1-81e0-f8e4386b13cc",
   "metadata": {
    "tags": []
   },
   "outputs": [],
   "source": [
    "df_sp=df[['survived','pclass','age','sibsp','parch','fare']]\n",
    "df_sp.dropna(inplace=True) # 임의로 제거"
   ]
  },
  {
   "cell_type": "markdown",
   "id": "7278ada9-62f9-4db8-ae51-ad99a5b7a014",
   "metadata": {},
   "source": [
    "### 모델 학습&예측"
   ]
  },
  {
   "cell_type": "markdown",
   "id": "e543a713-da96-4a80-88fe-332c2866ec9f",
   "metadata": {},
   "source": [
    "- 학습/평가 데이터 분리"
   ]
  },
  {
   "cell_type": "code",
   "execution_count": 4,
   "id": "de928345-c6a3-4783-96b0-2e2fde4ea502",
   "metadata": {
    "tags": []
   },
   "outputs": [],
   "source": [
    "X_train, X_test, y_train, y_test = train_test_split(df_sp.drop('survived',axis=1), df_sp['survived'], test_size=0.3, random_state=111)"
   ]
  },
  {
   "cell_type": "code",
   "execution_count": 5,
   "id": "7a6657b6-3e67-4b2f-a3e4-f6c6124cc7f7",
   "metadata": {
    "tags": []
   },
   "outputs": [],
   "source": [
    "#평가지표 함수\n",
    "def get_clf_eval(y_test, pred):\n",
    "    confusion = confusion_matrix(y_test, pred)\n",
    "    accuracy = accuracy_score(y_test, pred)\n",
    "    precision = precision_score(y_test, pred)\n",
    "    recall = recall_score(y_test, pred)\n",
    "    f1 = f1_score(y_test, pred)\n",
    "    print('오차 행렬')\n",
    "    print(confusion)\n",
    "    print('정확도: {0:.4f}, 정밀도:{1:.4f}, 재현율:{2:.4f}, f1_score:{3:.4f}'.format(accuracy, precision, recall,f1))"
   ]
  },
  {
   "cell_type": "code",
   "execution_count": 6,
   "id": "7bd49a41-27d8-48b2-ba6f-35d229e10721",
   "metadata": {
    "tags": []
   },
   "outputs": [],
   "source": [
    "lr_clf = LogisticRegression(solver='liblinear') #데이터양이 적은 경우 사용하는 solver"
   ]
  },
  {
   "cell_type": "code",
   "execution_count": 7,
   "id": "793e0769-692e-41ed-b1b0-73b0ce78cccb",
   "metadata": {
    "tags": []
   },
   "outputs": [
    {
     "name": "stdout",
     "output_type": "stream",
     "text": [
      "오차 행렬\n",
      "[[110  25]\n",
      " [ 43  37]]\n",
      "정확도: 0.6837, 정밀도:0.5968, 재현율:0.4625, f1_score:0.5211\n"
     ]
    }
   ],
   "source": [
    "lr_clf.fit(X_train,y_train) # 학습\n",
    "pred = lr_clf.predict(X_test) # 예측\n",
    "get_clf_eval(y_test, pred) "
   ]
  },
  {
   "cell_type": "code",
   "execution_count": 8,
   "id": "13d237d5-b3c0-4405-bf94-6480cc47e725",
   "metadata": {
    "tags": []
   },
   "outputs": [],
   "source": [
    "#predict proba 에서 확인하면 \n",
    "pred_proba = lr_clf.predict_proba(X_test)"
   ]
  },
  {
   "cell_type": "markdown",
   "id": "4c8bbd02-3985-42cb-8209-6da70d5f8245",
   "metadata": {},
   "source": [
    "#### 임계값에 따라 이진 값으로 데이터 변환"
   ]
  },
  {
   "cell_type": "code",
   "execution_count": 9,
   "id": "60b6a4ec-9cf5-4faa-a379-49e2e3441ea2",
   "metadata": {
    "tags": []
   },
   "outputs": [],
   "source": [
    "from sklearn.preprocessing import Binarizer #임계값에 따라 데이터를 이진 값으로 변환하는 클래스"
   ]
  },
  {
   "cell_type": "code",
   "execution_count": 10,
   "id": "384f2ee3-28dd-467b-8836-78751d01a61d",
   "metadata": {
    "tags": []
   },
   "outputs": [
    {
     "name": "stdout",
     "output_type": "stream",
     "text": [
      "[[0. 0. 0.]\n",
      " [1. 0. 0.]\n",
      " [0. 0. 1.]]\n"
     ]
    }
   ],
   "source": [
    "# 기본 사용\n",
    "X= [[1,0,-1],\n",
    "   [2,0,0],\n",
    "   [0,1.3,1.5]]\n",
    "\n",
    "binarizer=Binarizer(threshold=1.3)\n",
    "# 1.3 기준으로 보면 2개 빼고 다 0\n",
    "\n",
    "print(binarizer.fit_transform(X))"
   ]
  },
  {
   "cell_type": "markdown",
   "id": "f45e57dc-0ca6-4427-aeca-c135c6d69204",
   "metadata": {
    "tags": []
   },
   "source": [
    "### 임계값 = 0.5(default)"
   ]
  },
  {
   "cell_type": "code",
   "execution_count": 11,
   "id": "7b6ecfcf-fa00-44b0-83b3-f3aa8793d455",
   "metadata": {
    "tags": []
   },
   "outputs": [],
   "source": [
    "tt_threshold = 0.5 # 임계값을 기준 0.5\n",
    "\n",
    "pred_proba_1 =pred_proba[:,1].reshape(-1,1)\n",
    "binarizer_tt=Binarizer(threshold=tt_threshold).fit(pred_proba_1)\n",
    "tt_pred =binarizer_tt.transform(pred_proba_1)"
   ]
  },
  {
   "cell_type": "code",
   "execution_count": 12,
   "id": "542e6bab-61db-4649-b786-cadb115d4a4c",
   "metadata": {
    "tags": []
   },
   "outputs": [
    {
     "name": "stdout",
     "output_type": "stream",
     "text": [
      "오차 행렬\n",
      "[[110  25]\n",
      " [ 43  37]]\n",
      "정확도: 0.6837, 정밀도:0.5968, 재현율:0.4625, f1_score:0.5211\n"
     ]
    }
   ],
   "source": [
    "get_clf_eval(y_test, tt_pred)"
   ]
  },
  {
   "cell_type": "markdown",
   "id": "14f87945-769f-4127-8fb2-0825a6be8a10",
   "metadata": {},
   "source": [
    "### 임계값 = 0.6"
   ]
  },
  {
   "cell_type": "code",
   "execution_count": 13,
   "id": "4de279a2-a49c-4071-a626-7ee170cf0ceb",
   "metadata": {
    "tags": []
   },
   "outputs": [],
   "source": [
    "tt_threshold = 0.6\n",
    "pred_proba_2 = pred_proba[:,1].reshape(-1,1)\n",
    "binarizer_tt = Binarizer(threshold = tt_threshold).fit(pred_proba_2)\n",
    "tt_pred_2 = binarizer_tt.transform(pred_proba_2)"
   ]
  },
  {
   "cell_type": "code",
   "execution_count": 14,
   "id": "f90611be-c689-4489-98bb-ba859fd78e9b",
   "metadata": {
    "tags": []
   },
   "outputs": [
    {
     "name": "stdout",
     "output_type": "stream",
     "text": [
      "오차 행렬\n",
      "[[123  12]\n",
      " [ 50  30]]\n",
      "정확도: 0.7116, 정밀도:0.7143, 재현율:0.3750, f1_score:0.4918\n"
     ]
    }
   ],
   "source": [
    "get_clf_eval(y_test, tt_pred_2)"
   ]
  },
  {
   "cell_type": "markdown",
   "id": "02ac1545-2f3c-442e-ba6f-5ebe75950185",
   "metadata": {
    "tags": []
   },
   "source": [
    "임계값 0.5로 설정했을 때 보다 - 정확도 증가, 정밀도 증가, 재현율 감소, f1_score 감소"
   ]
  },
  {
   "cell_type": "markdown",
   "id": "5b88eeaa-f00d-40f3-a98b-3b32483f881f",
   "metadata": {},
   "source": [
    "### 임계값 = 0.4"
   ]
  },
  {
   "cell_type": "code",
   "execution_count": 15,
   "id": "e966f4f3-442d-4659-9393-30979a73df29",
   "metadata": {
    "tags": []
   },
   "outputs": [],
   "source": [
    "tt_threshold = 0.4\n",
    "pred_proba_3 = pred_proba[:,1].reshape(-1,1)\n",
    "binarizer_tt = Binarizer(threshold = tt_threshold).fit(pred_proba_3)\n",
    "tt_pred_3 = binarizer_tt.transform(pred_proba_3)"
   ]
  },
  {
   "cell_type": "code",
   "execution_count": 16,
   "id": "9febe71b-902b-4353-8567-fb32daef4f89",
   "metadata": {
    "tags": []
   },
   "outputs": [
    {
     "name": "stdout",
     "output_type": "stream",
     "text": [
      "오차 행렬\n",
      "[[94 41]\n",
      " [30 50]]\n",
      "정확도: 0.6698, 정밀도:0.5495, 재현율:0.6250, f1_score:0.5848\n"
     ]
    }
   ],
   "source": [
    "get_clf_eval(y_test, tt_pred_3)"
   ]
  },
  {
   "cell_type": "markdown",
   "id": "8bb9a6e3-5577-4d84-a145-913f2be8478a",
   "metadata": {
    "tags": []
   },
   "source": [
    "임계값 0.5 설정했을 때보다 - 정확도 감소, 정밀도 감소, 재현율 증가, f1_score 증가"
   ]
  },
  {
   "cell_type": "markdown",
   "id": "1ffef8da-9b9f-4ab9-a701-1fda915a906a",
   "metadata": {},
   "source": [
    "### 임계값에 따라 평가지표 변동이 일어나는 이유"
   ]
  },
  {
   "cell_type": "markdown",
   "id": "3452b0a3-1e8d-444e-a033-7fd709117ccd",
   "metadata": {
    "tags": []
   },
   "source": [
    "1. 정밀도와 재현율\n",
    "    - 재현율 : 실제 True인 값들 중 모델이 True로 예측한 비율\n",
    "    - 정밀도(Precision) : True로 예측한 값들 중 실제 True 인 비율\n",
    "\n",
    "    - 임계값을 높이면 - 모델이 True 라고 예측하는 비율이 낮아짐 > 정밀도 증가, 재현율 감소\n",
    "    - 임계값을 낮추면 - 모델이 True 라고 예측하는 비율이 높아짐 > 정밀도 감소, 재현율 증가\n",
    "\n",
    "2. 정확도\n",
    "    - 임계값 변화에 직접적인 영향을 받지 않음 - 전체 예측 중에서 올바르게 예측한 비율이기 떄문에, 하지만 클래스 불균형이 있을 경우에는 변동이 생길 수 있음"
   ]
  },
  {
   "cell_type": "code",
   "execution_count": 25,
   "id": "e4493b80-7ecf-43bd-9277-9ed163f117af",
   "metadata": {
    "tags": []
   },
   "outputs": [
    {
     "data": {
      "text/plain": [
       "0    424\n",
       "1    290\n",
       "Name: survived, dtype: int64"
      ]
     },
     "execution_count": 25,
     "metadata": {},
     "output_type": "execute_result"
    }
   ],
   "source": [
    "df_sp['survived'].value_counts()"
   ]
  },
  {
   "cell_type": "code",
   "execution_count": 19,
   "id": "47fef8db-215c-4c88-aeb9-1cdb821c401d",
   "metadata": {
    "tags": []
   },
   "outputs": [
    {
     "name": "stdout",
     "output_type": "stream",
     "text": [
      "샘플 추출을 위한 임곗값 배열의 index: [ 1  6 11 16 21 26 31 36 41 46 51 56 61 66 71 76 81 86 91]\n",
      "샘플 index로 추출한 임곗값: [1.   0.97 0.86 0.71 0.64 0.55 0.5  0.48 0.46 0.43 0.4  0.37 0.36 0.33\n",
      " 0.31 0.3  0.28 0.25 0.2 ]\n",
      "샘플 임곗값별 FPR: [0.    0.022 0.044 0.059 0.081 0.119 0.185 0.215 0.259 0.274 0.304 0.341\n",
      " 0.356 0.415 0.452 0.489 0.556 0.711 0.844]\n",
      "샘플 임곗값별 TPR: [0.012 0.062 0.125 0.212 0.338 0.438 0.462 0.5   0.525 0.575 0.65  0.675\n",
      " 0.738 0.788 0.825 0.862 0.9   0.938 0.975]\n"
     ]
    }
   ],
   "source": [
    "from sklearn.metrics import roc_curve\n",
    "\n",
    "#레이블 값이 1일때의 예측 확률을 추출\n",
    "pred_proba_class1 = lr_clf.predict_proba(X_test)[:,1]\n",
    "\n",
    "fprs, tprs, thresholds = roc_curve(y_test, pred_proba_class1)\n",
    "#반환된 임곗값 배열에서 샘플로 데이터를 추출하되, 임곗값을 5 step으로 추출\n",
    "#thresholds[0]은 max(예측확률)+1로 임의 설정됨. 이를 제외하기 위해 np.arange는 1부터 시작 \n",
    "thr_index = np.arange(1, thresholds.shape[0],5)\n",
    "\n",
    "print('샘플 추출을 위한 임곗값 배열의 index:', thr_index)\n",
    "print('샘플 index로 추출한 임곗값:', np.round(thresholds[thr_index],2))\n",
    "\n",
    "# 5step 단위로 추출된 임계값에 따른 TPR, FPR 값\n",
    "print('샘플 임곗값별 FPR:', np.round(fprs[thr_index], 3))\n",
    "print('샘플 임곗값별 TPR:', np.round(tprs[thr_index], 3))"
   ]
  },
  {
   "cell_type": "code",
   "execution_count": 20,
   "id": "72d237cf-49a3-49c4-bc1b-c8f91d291e4d",
   "metadata": {
    "tags": []
   },
   "outputs": [
    {
     "data": {
      "image/png": "[encoded data removed]",
      "text/plain": [
       "<Figure size 640x480 with 1 Axes>"
      ]
     },
     "metadata": {},
     "output_type": "display_data"
    }
   ],
   "source": [
    "def roc_curve_plot(y_test, pred_proba_c1):\n",
    "    #임곗값에 따른 FPR, TPR값을 반환받음.\n",
    "    fprs, tprs, thresholds = roc_curve(y_test, pred_proba_c1)\n",
    "    #ROC 곡선을 그래프 곡선으로 그림\n",
    "    plt.plot(fprs, tprs, label='ROC')\n",
    "    #가운데 대각선 직선을 그림\n",
    "    plt.plot([0,1], [0,1], 'k--', label='Random')\n",
    "    \n",
    "    #FPR X축의 Scale을 0.1 단위로 변경, X,Y축 명 설정 등\n",
    "    start, end = plt.xlim()\n",
    "    plt.xticks(np.round(np.arange(start,end,0.1),2))\n",
    "    plt.xlim(0,1);plt.ylim(0,1)\n",
    "    plt.xlabel('FPR(1-Specificity)');plt.ylabel('TPR(Recall)')\n",
    "    plt.legend()\n",
    "    \n",
    "roc_curve_plot(y_test, pred_proba[:,1])"
   ]
  },
  {
   "cell_type": "code",
   "execution_count": 21,
   "id": "819018c7-bb07-42a0-b3c9-413ccb000d2b",
   "metadata": {
    "tags": []
   },
   "outputs": [
    {
     "name": "stdout",
     "output_type": "stream",
     "text": [
      "ROC AUC 값:0.7425\n"
     ]
    }
   ],
   "source": [
    "from sklearn.metrics import roc_auc_score\n",
    "\n",
    "pred_proba = lr_clf.predict_proba(X_test)[:,1]\n",
    "roc_score = roc_auc_score(y_test, pred_proba)\n",
    "print('ROC AUC 값:{0:.4f}'.format(roc_score))"
   ]
  },
  {
   "cell_type": "markdown",
   "id": "9b9a4805-f0a2-46a5-ab33-de65687f88dd",
   "metadata": {},
   "source": [
    "### 임계값 변화에 따른 ROC 곡선 변화\n",
    "- x축 : TPR (재현율(Recall) : 실제 True인 것들 중 True 예측한 비율))\n",
    "- y축 : FPR( 실제 False 중 True로 예측한 비율)\n",
    "\n",
    "따라서, 임계값이 높아지면 재현율이 낮아지고, FPR이 낮아진다 > ROC 곡선이 좌상단에서 우하단으로 이동한다."
   ]
  },
  {
   "cell_type": "code",
   "execution_count": 23,
   "id": "44ba4e4c-0ece-48f6-8ab2-2ddcf4784c25",
   "metadata": {
    "tags": []
   },
   "outputs": [
    {
     "data": {
      "image/png": "[encoded data removed]",
      "text/plain": [
       "<Figure size 640x480 with 1 Axes>"
      ]
     },
     "metadata": {},
     "output_type": "display_data"
    }
   ],
   "source": [
    "import matplotlib.pyplot as plt\n",
    "\n",
    "def roc_curve_plot_with_threshold(y_test, pred_proba_c1, thresholds):\n",
    "    for threshold in thresholds:\n",
    "        # 임계값에 따른 예측 결과 계산\n",
    "        binarized_predictions = [1 if prob >= threshold else 0 for prob in pred_proba_c1]\n",
    "        # 임계값에 따른 FPR, TPR 계산\n",
    "        fpr, tpr, _ = roc_curve(y_test, binarized_predictions)\n",
    "        # ROC 곡선을 그래프로 그림\n",
    "        plt.plot(fpr, tpr, label=f'Threshold: {threshold:.2f}')\n",
    "\n",
    "    # 가운데 대각선 직선 그리기\n",
    "    plt.plot([0, 1], [0, 1], 'k--', label='Random')\n",
    "    # 그래프 스타일 설정\n",
    "    plt.xlabel('FPR(1-Specificity)')\n",
    "    plt.ylabel('TPR(Recall)')\n",
    "    plt.title('ROC Curve for Different Thresholds')\n",
    "    plt.legend()\n",
    "    plt.grid(True)\n",
    "    plt.show()\n",
    "\n",
    "# 임계값 설정\n",
    "thresholds = [0.4, 0.5, 0.6]\n",
    "# ROC 곡선 그리기\n",
    "roc_curve_plot_with_threshold(y_test, pred_proba_class1, thresholds)\n"
   ]
  },
  {
   "cell_type": "code",
   "execution_count": null,
   "id": "fe47eac3-40d5-4151-a879-e1c758644f7a",
   "metadata": {},
   "outputs": [],
   "source": []
  }
 ],
 "metadata": {
  "kernelspec": {
   "display_name": "Python 3 (ipykernel)",
   "language": "python",
   "name": "python3"
  },
  "language_info": {
   "codemirror_mode": {
    "name": "ipython",
    "version": 3
   },
   "file_extension": ".py",
   "mimetype": "text/x-python",
   "name": "python",
   "nbconvert_exporter": "python",
   "pygments_lexer": "ipython3",
   "version": "3.11.4"
  }
 },
 "nbformat": 4,
 "nbformat_minor": 5
}
