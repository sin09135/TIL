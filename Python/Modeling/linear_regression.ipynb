{
 "cells": [
  {
   "cell_type": "code",
   "execution_count": 1,
   "id": "61f58359-0df6-4c1d-b546-ab45193f3f50",
   "metadata": {
    "tags": []
   },
   "outputs": [],
   "source": [
    "import numpy as np\n",
    "import matplotlib.pyplot as plt\n",
    "from sklearn.linear_model import LinearRegression\n",
    "import numpy as np\n",
    "import statsmodels.api as sm\n",
    "import matplotlib.pyplot as plt\n",
    "from scipy.stats import shapiro\n",
    "\n",
    "\n",
    "import numpy as np\n",
    "import pandas as pd\n",
    "import statsmodels.api as sm\n",
    "import matplotlib.pyplot as plt\n",
    "import seaborn as sns\n",
    "from scipy import stats\n",
    "from sklearn.datasets import fetch_california_housing\n",
    "from scipy.stats import shapiro\n",
    "from statsmodels.stats.stattools import durbin_watson\n",
    "\n",
    "# 데이터 포인트 수\n",
    "n_points = 100\n",
    "\n",
    "# 임의의 데이터 생성\n",
    "np.random.seed(42)\n",
    "x = np.random.rand(n_points, 1) * 10\n",
    "true_slope = 2\n",
    "true_intercept = 5\n",
    "noise = np.random.randn(n_points, 1)\n",
    "y = true_slope * x + true_intercept + noise"
   ]
  },
  {
   "cell_type": "markdown",
   "id": "8c98738f-7e39-4b07-aaba-08f70d001807",
   "metadata": {},
   "source": [
    "### 비선형 데이터"
   ]
  },
  {
   "cell_type": "code",
   "execution_count": 3,
   "id": "98bb9877-d66d-456e-9f5c-1b69459f05f5",
   "metadata": {
    "tags": []
   },
   "outputs": [],
   "source": [
    "# 데이터셋 생성\n",
    "np.random.seed(0)\n",
    "x = np.linspace(-10,10,100)\n",
    "y = 1.5*x**2 - 2.5*x + 0.5 + np.random.normal(0,20, size = x.shape)"
   ]
  },
  {
   "cell_type": "markdown",
   "id": "75e4dff9-0684-4c46-82b5-515f75324696",
   "metadata": {
    "tags": []
   },
   "source": [
    "### 선형회귀 가정들\n",
    "- 잔차 가정들\n",
    "- 잔차 플롯을 통해\n",
    "- 정규성 shapiro-wilk Test\n",
    "- 더빈 왓슨 테스트\n",
    "- 잔차의 선형성 및 독립성 검정\n",
    "- 정규성 검정에서 Q-Q플롯\n",
    "- 등분산성의 검정 플롯\n",
    "- 시각화, test 통계치로 확인을 하자ㅡ"
   ]
  },
  {
   "cell_type": "code",
   "execution_count": 9,
   "id": "dfef67e2-f903-4e85-aa96-1aebc5bb4f26",
   "metadata": {
    "tags": []
   },
   "outputs": [],
   "source": [
    "import statsmodels.api as sm\n",
    "\n",
    "np.random.seed(0)\n",
    "x = np.random.normal(0,1,100)\n",
    "y =2+2*x+np.random.normal(0,2,100)"
   ]
  },
  {
   "cell_type": "code",
   "execution_count": null,
   "id": "d29f69e1-cce0-4152-a2e0-3f36e351043e",
   "metadata": {},
   "outputs": [],
   "source": [
    "model = sm.OLS(y, sm.add_constant(x)).fit()\n",
    "\n",
    "#잔차의 플롯\n",
    "residuals = model.resid\n",
    "fitted = modelfitted"
   ]
  }
 ],
 "metadata": {
  "kernelspec": {
   "display_name": "Python 3 (ipykernel)",
   "language": "python",
   "name": "python3"
  },
  "language_info": {
   "codemirror_mode": {
    "name": "ipython",
    "version": 3
   },
   "file_extension": ".py",
   "mimetype": "text/x-python",
   "name": "python",
   "nbconvert_exporter": "python",
   "pygments_lexer": "ipython3",
   "version": "3.11.4"
  }
 },
 "nbformat": 4,
 "nbformat_minor": 5
}
