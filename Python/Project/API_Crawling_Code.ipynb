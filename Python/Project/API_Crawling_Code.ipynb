{
  "nbformat": 4,
  "nbformat_minor": 0,
  "metadata": {
    "colab": {
      "provenance": []
    },
    "kernelspec": {
      "name": "python3",
      "display_name": "Python 3"
    },
    "language_info": {
      "name": "python"
    }
  },
  "cells": [
    {
      "cell_type": "markdown",
      "source": [
        "## 서울열린데이터 광장 데이터 크롤링 코드\n",
        "- 데이터는 최대 1000개 단위로 추출 가능 > while 문으로 데이터 존재하는지 확인 후 크롤링\n",
        "- 년도별로 추출 > for문으로 구현\n",
        "- 예시 데이터 : 상권 - 상주인구 데이터"
      ],
      "metadata": {
        "id": "fk7JO2h2Loz3"
      }
    },
    {
      "cell_type": "code",
      "execution_count": null,
      "metadata": {
        "id": "BTTpih2QLiTu"
      },
      "outputs": [],
      "source": [
        "import requests\n",
        "import pandas as pd\n",
        "\n",
        "# Define the years you want to crawl data for\n",
        "years = [2020, 2021, 2022]\n",
        "\n",
        "data_dict = {}\n",
        "\n",
        "for year in years:\n",
        "    page = 1  # 초기식\n",
        "\n",
        "    while True:\n",
        "        end_num = page * 1000\n",
        "        start_num = end_num - 999\n",
        "        url = f'http://openapi.seoul.go.kr:8088/인증키/json/VwsmTrdarRepopQq/{start_num}/{end_num}/{year}'\n",
        "        res = requests.get(url)\n",
        "        sales_data = res.json()\n",
        "\n",
        "        # 데이터가 있는지 확인\n",
        "        if 'VwsmTrdarRepopQq' in sales_data and 'row' in sales_data['VwsmTrdarRepopQq']:\n",
        "            if year not in data_dict:\n",
        "                data_dict[year] = []  # Create a list for the year if it doesn't exist\n",
        "            data_dict[year].append(pd.DataFrame(sales_data['VwsmTrdarRepopQq']['row']))\n",
        "            page += 1\n",
        "        else:\n",
        "            break  # 데이터가 없으면 종료\n",
        "\n",
        "# Concatenate all DataFrames in the dictionary for each year\n",
        "combined_data = pd.concat([pd.concat(df_list, ignore_index=True) for df_list in data_dict.values()], ignore_index=True)\n",
        "\n",
        "# Save the combined data to a CSV file\n",
        "combined_data.to_csv('/Users/kimsinwoo/Desktop/multicampus/Project/상권 raw data/상주인구_combined.csv', index=False, encoding = 'utf-8-sig')\n"
      ]
    }
  ]
}