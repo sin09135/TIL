{
 "cells": [
  {
   "cell_type": "markdown",
   "id": "c86fd3d2",
   "metadata": {},
   "source": [
    "# 인덱스"
   ]
  },
  {
   "cell_type": "code",
   "execution_count": 1,
   "id": "744106da",
   "metadata": {},
   "outputs": [],
   "source": [
    "b = [1,2,3,4,5]"
   ]
  },
  {
   "cell_type": "code",
   "execution_count": 2,
   "id": "aa0c34e8",
   "metadata": {},
   "outputs": [
    {
     "data": {
      "text/plain": [
       "1"
      ]
     },
     "execution_count": 2,
     "metadata": {},
     "output_type": "execute_result"
    }
   ],
   "source": [
    "b[0] #시퀀스 객체에 대한 순서"
   ]
  },
  {
   "cell_type": "markdown",
   "id": "8941fd24",
   "metadata": {},
   "source": [
    "## 인덱스 조절하는 법"
   ]
  },
  {
   "cell_type": "code",
   "execution_count": 3,
   "id": "6920c327",
   "metadata": {},
   "outputs": [
    {
     "data": {
      "text/plain": [
       "5"
      ]
     },
     "execution_count": 3,
     "metadata": {},
     "output_type": "execute_result"
    }
   ],
   "source": [
    "b[-1]#마이너스 인덱스 -1 맨끝"
   ]
  },
  {
   "cell_type": "code",
   "execution_count": 4,
   "id": "451326e9",
   "metadata": {},
   "outputs": [
    {
     "data": {
      "text/plain": [
       "4"
      ]
     },
     "execution_count": 4,
     "metadata": {},
     "output_type": "execute_result"
    }
   ],
   "source": [
    "b[-2] #맨 끝에서 두번째"
   ]
  },
  {
   "cell_type": "code",
   "execution_count": 5,
   "id": "211224c3",
   "metadata": {},
   "outputs": [
    {
     "ename": "IndexError",
     "evalue": "list index out of range",
     "output_type": "error",
     "traceback": [
      "\u001b[0;31m---------------------------------------------------------------------------\u001b[0m",
      "\u001b[0;31mIndexError\u001b[0m                                Traceback (most recent call last)",
      "\u001b[0;32m/var/folders/nz/vk3v33x95bs4kf3ymy0z0my00000gn/T/ipykernel_1752/2555143761.py\u001b[0m in \u001b[0;36m<module>\u001b[0;34m\u001b[0m\n\u001b[0;32m----> 1\u001b[0;31m \u001b[0mb\u001b[0m\u001b[0;34m[\u001b[0m\u001b[0;36m10\u001b[0m\u001b[0;34m]\u001b[0m\u001b[0;34m\u001b[0m\u001b[0;34m\u001b[0m\u001b[0m\n\u001b[0m",
      "\u001b[0;31mIndexError\u001b[0m: list index out of range"
     ]
    }
   ],
   "source": [
    "b[10] # 값이 없음"
   ]
  },
  {
   "cell_type": "markdown",
   "id": "7ac541b4",
   "metadata": {},
   "source": [
    "## 마지막 요소에 접근하기\n",
    "- len 함수를 이용한다."
   ]
  },
  {
   "cell_type": "code",
   "execution_count": 6,
   "id": "24d9eb93",
   "metadata": {},
   "outputs": [
    {
     "data": {
      "text/plain": [
       "5"
      ]
     },
     "execution_count": 6,
     "metadata": {},
     "output_type": "execute_result"
    }
   ],
   "source": [
    "len(b) #길이를 구하는 것, 개수의 개념\n",
    "# 인덱스는 0부터 시작이라 우리가 끝값이 개수랑 동일하지 않다."
   ]
  },
  {
   "cell_type": "code",
   "execution_count": 7,
   "id": "4f3ebc8e",
   "metadata": {},
   "outputs": [
    {
     "data": {
      "text/plain": [
       "5"
      ]
     },
     "execution_count": 7,
     "metadata": {},
     "output_type": "execute_result"
    }
   ],
   "source": [
    "b[4] #len 길이가 5니까, 마지막 인덱스는 -1, 4"
   ]
  },
  {
   "cell_type": "code",
   "execution_count": 8,
   "id": "02c8b426",
   "metadata": {},
   "outputs": [
    {
     "data": {
      "text/plain": [
       "[1, 2, 3, 4, 5]"
      ]
     },
     "execution_count": 8,
     "metadata": {},
     "output_type": "execute_result"
    }
   ],
   "source": [
    "b"
   ]
  },
  {
   "cell_type": "code",
   "execution_count": 9,
   "id": "12107e40",
   "metadata": {},
   "outputs": [
    {
     "data": {
      "text/plain": [
       "5"
      ]
     },
     "execution_count": 9,
     "metadata": {},
     "output_type": "execute_result"
    }
   ],
   "source": [
    "b[4]"
   ]
  },
  {
   "cell_type": "code",
   "execution_count": 10,
   "id": "fa974044",
   "metadata": {},
   "outputs": [
    {
     "ename": "IndexError",
     "evalue": "list index out of range",
     "output_type": "error",
     "traceback": [
      "\u001b[0;31m---------------------------------------------------------------------------\u001b[0m",
      "\u001b[0;31mIndexError\u001b[0m                                Traceback (most recent call last)",
      "\u001b[0;32m/var/folders/nz/vk3v33x95bs4kf3ymy0z0my00000gn/T/ipykernel_1752/1857186341.py\u001b[0m in \u001b[0;36m<module>\u001b[0;34m\u001b[0m\n\u001b[0;32m----> 1\u001b[0;31m \u001b[0mb\u001b[0m\u001b[0;34m[\u001b[0m\u001b[0mlen\u001b[0m\u001b[0;34m(\u001b[0m\u001b[0mb\u001b[0m\u001b[0;34m)\u001b[0m\u001b[0;34m]\u001b[0m\u001b[0;34m\u001b[0m\u001b[0;34m\u001b[0m\u001b[0m\n\u001b[0m",
      "\u001b[0;31mIndexError\u001b[0m: list index out of range"
     ]
    }
   ],
   "source": [
    "b[len(b)] "
   ]
  },
  {
   "cell_type": "code",
   "execution_count": 11,
   "id": "fe4948ef",
   "metadata": {},
   "outputs": [
    {
     "data": {
      "text/plain": [
       "5"
      ]
     },
     "execution_count": 11,
     "metadata": {},
     "output_type": "execute_result"
    }
   ],
   "source": [
    "b[len(b)-1]"
   ]
  },
  {
   "cell_type": "markdown",
   "id": "8c5ee941",
   "metadata": {},
   "source": [
    "## 인덱스 기준으로 값을 할당 가능\n",
    "- 값을 할당할 수 있는 방법을 아는 것은, 결국 내가 값을 자유자재로 넣을 수 있다는 뜻, 접근도 가능\n",
    "- 이 원리를 정확히 이해해야 반복문을 통한 전처리 작업을 쉽게 할 수 있다.\n",
    "- 시퀀스 객체[인덱스]= 값"
   ]
  },
  {
   "cell_type": "code",
   "execution_count": 13,
   "id": "59633d9d",
   "metadata": {},
   "outputs": [],
   "source": [
    "b[0]= 100 #100을 b[0]값에 할당"
   ]
  },
  {
   "cell_type": "code",
   "execution_count": 14,
   "id": "a787aae9",
   "metadata": {},
   "outputs": [
    {
     "data": {
      "text/plain": [
       "[100, 2, 3, 4, 5]"
      ]
     },
     "execution_count": 14,
     "metadata": {},
     "output_type": "execute_result"
    }
   ],
   "source": [
    "b #인덱스를 기준으로 시퀀스 객체들의 값을 접근하고 할당할 수 있다."
   ]
  },
  {
   "cell_type": "code",
   "execution_count": 15,
   "id": "5e25b67b",
   "metadata": {},
   "outputs": [],
   "source": [
    "b[1] = 200"
   ]
  },
  {
   "cell_type": "code",
   "execution_count": 16,
   "id": "5726e28a",
   "metadata": {},
   "outputs": [
    {
     "data": {
      "text/plain": [
       "[100, 200, 3, 4, 5]"
      ]
     },
     "execution_count": 16,
     "metadata": {},
     "output_type": "execute_result"
    }
   ],
   "source": [
    "b"
   ]
  },
  {
   "cell_type": "code",
   "execution_count": 17,
   "id": "188cf6ef",
   "metadata": {},
   "outputs": [
    {
     "ename": "IndexError",
     "evalue": "list assignment index out of range",
     "output_type": "error",
     "traceback": [
      "\u001b[0;31m---------------------------------------------------------------------------\u001b[0m",
      "\u001b[0;31mIndexError\u001b[0m                                Traceback (most recent call last)",
      "\u001b[0;32m/var/folders/nz/vk3v33x95bs4kf3ymy0z0my00000gn/T/ipykernel_1752/1830872582.py\u001b[0m in \u001b[0;36m<module>\u001b[0;34m\u001b[0m\n\u001b[0;32m----> 1\u001b[0;31m \u001b[0mb\u001b[0m\u001b[0;34m[\u001b[0m\u001b[0;36m6\u001b[0m\u001b[0;34m]\u001b[0m\u001b[0;34m=\u001b[0m\u001b[0;36m100\u001b[0m\u001b[0;34m\u001b[0m\u001b[0;34m\u001b[0m\u001b[0m\n\u001b[0m",
      "\u001b[0;31mIndexError\u001b[0m: list assignment index out of range"
     ]
    }
   ],
   "source": [
    "b[6]=100 "
   ]
  },
  {
   "cell_type": "markdown",
   "id": "2f47a134",
   "metadata": {},
   "source": [
    "## 인덱스를 삭제할 수 있다.\n",
    "- 인덱스를 삭제하는 건 결국 값이 삭제된다는 뜻\n",
    "- 그 인덱스에 할당된 값을 삭제한다.\n",
    "- des 시퀀스객체[인덱스]"
   ]
  },
  {
   "cell_type": "code",
   "execution_count": 18,
   "id": "29733181",
   "metadata": {},
   "outputs": [],
   "source": [
    "del b[0] #b[0]에 할당된 100을 삭제"
   ]
  },
  {
   "cell_type": "code",
   "execution_count": 19,
   "id": "c5a746f4",
   "metadata": {},
   "outputs": [
    {
     "data": {
      "text/plain": [
       "[200, 3, 4, 5]"
      ]
     },
     "execution_count": 19,
     "metadata": {},
     "output_type": "execute_result"
    }
   ],
   "source": [
    "b"
   ]
  },
  {
   "cell_type": "code",
   "execution_count": 20,
   "id": "71fea554",
   "metadata": {},
   "outputs": [
    {
     "data": {
      "text/plain": [
       "200"
      ]
     },
     "execution_count": 20,
     "metadata": {},
     "output_type": "execute_result"
    }
   ],
   "source": [
    "b[0]"
   ]
  },
  {
   "cell_type": "markdown",
   "id": "16e249c5",
   "metadata": {},
   "source": [
    "## 슬라이스 사용하기\n",
    "- 100% 사용\n",
    "- 시권스객체[시작인덱스:끝인덱스]"
   ]
  },
  {
   "cell_type": "code",
   "execution_count": 21,
   "id": "331222fe",
   "metadata": {},
   "outputs": [],
   "source": [
    "a = [1,2,3,4,5,6]"
   ]
  },
  {
   "cell_type": "code",
   "execution_count": 22,
   "id": "4b136248",
   "metadata": {},
   "outputs": [
    {
     "data": {
      "text/plain": [
       "[1, 2, 3]"
      ]
     },
     "execution_count": 22,
     "metadata": {},
     "output_type": "execute_result"
    }
   ],
   "source": [
    "a[0:3] #0,1,2"
   ]
  },
  {
   "cell_type": "code",
   "execution_count": 23,
   "id": "2df3e424",
   "metadata": {},
   "outputs": [
    {
     "data": {
      "text/plain": [
       "4"
      ]
     },
     "execution_count": 23,
     "metadata": {},
     "output_type": "execute_result"
    }
   ],
   "source": [
    "a[3]"
   ]
  },
  {
   "cell_type": "code",
   "execution_count": 24,
   "id": "356b727d",
   "metadata": {},
   "outputs": [
    {
     "data": {
      "text/plain": [
       "[1, 2, 3, 4, 5, 6]"
      ]
     },
     "execution_count": 24,
     "metadata": {},
     "output_type": "execute_result"
    }
   ],
   "source": [
    "a"
   ]
  },
  {
   "cell_type": "code",
   "execution_count": 25,
   "id": "0c0bc862",
   "metadata": {},
   "outputs": [],
   "source": [
    "a = ['a','b','c','안녕','e','j','1,2,3',2,3,4]"
   ]
  },
  {
   "cell_type": "code",
   "execution_count": 26,
   "id": "de5d55c1",
   "metadata": {},
   "outputs": [
    {
     "data": {
      "text/plain": [
       "['a', 'b', 'c', '안녕', 'e', 'j', '1,2,3', 2, 3, 4]"
      ]
     },
     "execution_count": 26,
     "metadata": {},
     "output_type": "execute_result"
    }
   ],
   "source": [
    "a"
   ]
  },
  {
   "cell_type": "code",
   "execution_count": 27,
   "id": "471838fc",
   "metadata": {},
   "outputs": [
    {
     "data": {
      "text/plain": [
       "['a', 'b', 'c']"
      ]
     },
     "execution_count": 27,
     "metadata": {},
     "output_type": "execute_result"
    }
   ],
   "source": [
    "a[0:3]"
   ]
  },
  {
   "cell_type": "code",
   "execution_count": 28,
   "id": "251f2e01",
   "metadata": {},
   "outputs": [
    {
     "data": {
      "text/plain": [
       "['j', '1,2,3']"
      ]
     },
     "execution_count": 28,
     "metadata": {},
     "output_type": "execute_result"
    }
   ],
   "source": [
    "a[5:7]"
   ]
  },
  {
   "cell_type": "code",
   "execution_count": 29,
   "id": "7e25cde8",
   "metadata": {},
   "outputs": [
    {
     "data": {
      "text/plain": [
       "['e', 'j', '1,2,3', 2, 3]"
      ]
     },
     "execution_count": 29,
     "metadata": {},
     "output_type": "execute_result"
    }
   ],
   "source": [
    "#음수 인덱스 사용\n",
    "a[4:-1]"
   ]
  },
  {
   "cell_type": "code",
   "execution_count": 30,
   "id": "4edb4977",
   "metadata": {},
   "outputs": [
    {
     "data": {
      "text/plain": [
       "['e', 'j', '1,2,3', 2]"
      ]
     },
     "execution_count": 30,
     "metadata": {},
     "output_type": "execute_result"
    }
   ],
   "source": [
    "a[4:-2]"
   ]
  },
  {
   "cell_type": "markdown",
   "id": "55a03301",
   "metadata": {},
   "source": [
    "- 시퀀스객체[시작 인덱스:끝인덱스:인덱스증가폭]"
   ]
  },
  {
   "cell_type": "markdown",
   "id": "eacf3b03",
   "metadata": {},
   "source": [
    "## 인덱스 생략하기\n",
    "- 슬라이싱을 할 때 인덱스를 생략하고도 표현할 수 있다.\n",
    "- 공백이라는 것은 전체 다를 가지고 오라는 뜻\n",
    "- 앞에 공백은 맨 처음부터 시작, 뒤에 공백은 맨 끝까지"
   ]
  },
  {
   "cell_type": "code",
   "execution_count": 31,
   "id": "6168449b",
   "metadata": {},
   "outputs": [
    {
     "data": {
      "text/plain": [
       "['a', 'b', 'c', '안녕', 'e', 'j', '1,2,3', 2, 3, 4]"
      ]
     },
     "execution_count": 31,
     "metadata": {},
     "output_type": "execute_result"
    }
   ],
   "source": [
    "a[:] #아무것도 넣지 않는다. 전체 값이 나온다"
   ]
  },
  {
   "cell_type": "code",
   "execution_count": 32,
   "id": "2c0f7111",
   "metadata": {},
   "outputs": [
    {
     "data": {
      "text/plain": [
       "['a', 'b', 'c', '안녕', 'e']"
      ]
     },
     "execution_count": 32,
     "metadata": {},
     "output_type": "execute_result"
    }
   ],
   "source": [
    "a[:5]"
   ]
  },
  {
   "cell_type": "code",
   "execution_count": 33,
   "id": "491c9d02",
   "metadata": {},
   "outputs": [
    {
     "data": {
      "text/plain": [
       "['j', '1,2,3', 2, 3, 4]"
      ]
     },
     "execution_count": 33,
     "metadata": {},
     "output_type": "execute_result"
    }
   ],
   "source": [
    "a[5:]"
   ]
  },
  {
   "cell_type": "code",
   "execution_count": 34,
   "id": "b6901ed7",
   "metadata": {},
   "outputs": [
    {
     "data": {
      "text/plain": [
       "['a', 'c', 'e', '1,2,3', 3]"
      ]
     },
     "execution_count": 34,
     "metadata": {},
     "output_type": "execute_result"
    }
   ],
   "source": [
    "a[::2]"
   ]
  },
  {
   "cell_type": "code",
   "execution_count": 35,
   "id": "78d2759f",
   "metadata": {},
   "outputs": [
    {
     "data": {
      "text/plain": [
       "['a', 'c', 'e', '1,2,3']"
      ]
     },
     "execution_count": 35,
     "metadata": {},
     "output_type": "execute_result"
    }
   ],
   "source": [
    "a[:7:2]"
   ]
  },
  {
   "cell_type": "code",
   "execution_count": 36,
   "id": "e918d92c",
   "metadata": {},
   "outputs": [
    {
     "data": {
      "text/plain": [
       "['a', 'b', 'c', '안녕', 'e', 'j', '1,2,3', 2, 3, 4]"
      ]
     },
     "execution_count": 36,
     "metadata": {},
     "output_type": "execute_result"
    }
   ],
   "source": [
    "a[::] #증가폭 디폴트값은 1"
   ]
  },
  {
   "cell_type": "markdown",
   "id": "2c5f88d7",
   "metadata": {},
   "source": [
    "- len응용\n",
    "- 슬라이싱을 이용하게 되면 len함수를 끝 인덱스 지정이 가능하다."
   ]
  },
  {
   "cell_type": "code",
   "execution_count": 37,
   "id": "c25db2cd",
   "metadata": {},
   "outputs": [
    {
     "data": {
      "text/plain": [
       "['a', 'b', 'c', '안녕', 'e', 'j', '1,2,3', 2, 3, 4]"
      ]
     },
     "execution_count": 37,
     "metadata": {},
     "output_type": "execute_result"
    }
   ],
   "source": [
    "a"
   ]
  },
  {
   "cell_type": "code",
   "execution_count": 38,
   "id": "a67ee76e",
   "metadata": {},
   "outputs": [
    {
     "data": {
      "text/plain": [
       "10"
      ]
     },
     "execution_count": 38,
     "metadata": {},
     "output_type": "execute_result"
    }
   ],
   "source": [
    "len(a)"
   ]
  },
  {
   "cell_type": "code",
   "execution_count": 39,
   "id": "0b3ce521",
   "metadata": {},
   "outputs": [
    {
     "ename": "IndexError",
     "evalue": "list index out of range",
     "output_type": "error",
     "traceback": [
      "\u001b[0;31m---------------------------------------------------------------------------\u001b[0m",
      "\u001b[0;31mIndexError\u001b[0m                                Traceback (most recent call last)",
      "\u001b[0;32m/var/folders/nz/vk3v33x95bs4kf3ymy0z0my00000gn/T/ipykernel_1752/1512579110.py\u001b[0m in \u001b[0;36m<module>\u001b[0;34m\u001b[0m\n\u001b[0;32m----> 1\u001b[0;31m \u001b[0ma\u001b[0m\u001b[0;34m[\u001b[0m\u001b[0;36m10\u001b[0m\u001b[0;34m]\u001b[0m \u001b[0;31m#에러, -1해야함\u001b[0m\u001b[0;34m\u001b[0m\u001b[0;34m\u001b[0m\u001b[0m\n\u001b[0m",
      "\u001b[0;31mIndexError\u001b[0m: list index out of range"
     ]
    }
   ],
   "source": [
    "a[10] #에러, -1해야함"
   ]
  },
  {
   "cell_type": "code",
   "execution_count": 40,
   "id": "906cba3b",
   "metadata": {},
   "outputs": [
    {
     "data": {
      "text/plain": [
       "4"
      ]
     },
     "execution_count": 40,
     "metadata": {},
     "output_type": "execute_result"
    }
   ],
   "source": [
    "a[len(a)-1]"
   ]
  },
  {
   "cell_type": "code",
   "execution_count": 42,
   "id": "1973635f",
   "metadata": {},
   "outputs": [
    {
     "data": {
      "text/plain": [
       "['a', 'b', 'c', '안녕', 'e', 'j', '1,2,3', 2, 3]"
      ]
     },
     "execution_count": 42,
     "metadata": {},
     "output_type": "execute_result"
    }
   ],
   "source": [
    "a[:len(a)-1]"
   ]
  },
  {
   "cell_type": "markdown",
   "id": "120051a4",
   "metadata": {},
   "source": [
    "## 튜플도 동일 \n",
    "- 다만 튜플 인덱스 접근시도 대괄호를 이용\n",
    "- 인덱스 접근시 대괄호!"
   ]
  },
  {
   "cell_type": "code",
   "execution_count": 43,
   "id": "72127c13",
   "metadata": {},
   "outputs": [],
   "source": [
    "b = 1,2,3"
   ]
  },
  {
   "cell_type": "code",
   "execution_count": 44,
   "id": "48c45754",
   "metadata": {},
   "outputs": [
    {
     "data": {
      "text/plain": [
       "(1, 2, 3)"
      ]
     },
     "execution_count": 44,
     "metadata": {},
     "output_type": "execute_result"
    }
   ],
   "source": [
    "b"
   ]
  },
  {
   "cell_type": "code",
   "execution_count": 45,
   "id": "f35b3bfc",
   "metadata": {},
   "outputs": [
    {
     "data": {
      "text/plain": [
       "1"
      ]
     },
     "execution_count": 45,
     "metadata": {},
     "output_type": "execute_result"
    }
   ],
   "source": [
    "b[0]"
   ]
  },
  {
   "cell_type": "code",
   "execution_count": 46,
   "id": "f845474e",
   "metadata": {},
   "outputs": [],
   "source": [
    "a = '여러분 복습과제를 꼭 잘 해주셔야 합니다. 필수과제 도요!'"
   ]
  },
  {
   "cell_type": "code",
   "execution_count": 47,
   "id": "139500e3",
   "metadata": {},
   "outputs": [
    {
     "data": {
      "text/plain": [
       "'여'"
      ]
     },
     "execution_count": 47,
     "metadata": {},
     "output_type": "execute_result"
    }
   ],
   "source": [
    "a[0] # 문자열도 슬라이싱 가능"
   ]
  },
  {
   "cell_type": "markdown",
   "id": "8ebbbcf6",
   "metadata": {},
   "source": [
    "## 슬라이스로 값을 할당하기\n",
    "- 원하는 범위만큼 값 할당"
   ]
  },
  {
   "cell_type": "code",
   "execution_count": 48,
   "id": "de549eb5",
   "metadata": {},
   "outputs": [],
   "source": [
    "a = [1,2,3,4,5]"
   ]
  },
  {
   "cell_type": "code",
   "execution_count": 49,
   "id": "b19af3be",
   "metadata": {},
   "outputs": [],
   "source": [
    "a[0] = 100"
   ]
  },
  {
   "cell_type": "code",
   "execution_count": 50,
   "id": "68ae6999",
   "metadata": {},
   "outputs": [
    {
     "data": {
      "text/plain": [
       "[100, 2, 3, 4, 5]"
      ]
     },
     "execution_count": 50,
     "metadata": {},
     "output_type": "execute_result"
    }
   ],
   "source": [
    "a"
   ]
  },
  {
   "cell_type": "code",
   "execution_count": 52,
   "id": "d0fdc088",
   "metadata": {},
   "outputs": [],
   "source": [
    "a[2:4]=10,20"
   ]
  },
  {
   "cell_type": "code",
   "execution_count": 53,
   "id": "9ca01a59",
   "metadata": {},
   "outputs": [
    {
     "data": {
      "text/plain": [
       "[100, 2, 10, 20, 5]"
      ]
     },
     "execution_count": 53,
     "metadata": {},
     "output_type": "execute_result"
    }
   ],
   "source": [
    "a"
   ]
  },
  {
   "cell_type": "markdown",
   "id": "6f911061",
   "metadata": {},
   "source": [
    "- 슬라이싱으로 값을 할당할 때 범위를 기존 리스트보다 더 넓게 가지고 가면 알아서 범위를 넘는 인덱스 값에 자동으로 할당해 준다."
   ]
  },
  {
   "cell_type": "code",
   "execution_count": 54,
   "id": "eb94a440",
   "metadata": {},
   "outputs": [],
   "source": [
    "a = [1,2,3,4,5]"
   ]
  },
  {
   "cell_type": "code",
   "execution_count": 55,
   "id": "61dd227a",
   "metadata": {},
   "outputs": [],
   "source": [
    "a[1:4]=['a','b','c','d','e'] #슬라이싱 값보다 범위를 늘린 경우"
   ]
  },
  {
   "cell_type": "code",
   "execution_count": 56,
   "id": "37c36df9",
   "metadata": {},
   "outputs": [
    {
     "data": {
      "text/plain": [
       "[1, 'a', 'b', 'c', 'd', 'e', 5]"
      ]
     },
     "execution_count": 56,
     "metadata": {},
     "output_type": "execute_result"
    }
   ],
   "source": [
    "a #슬라이싱 값보다 더 많은 값을 할당하는 경우는 인덱스가 재조정 되는 기준이\n",
    "# 지정한 인덱스 위치 슬라이싱 값만 새로운 값이 들어가고 기존의 슬라이싱하지 않은 인덱스 값은 바뀌지 않음"
   ]
  },
  {
   "cell_type": "code",
   "execution_count": 57,
   "id": "b049eabb",
   "metadata": {},
   "outputs": [
    {
     "data": {
      "text/plain": [
       "'e'"
      ]
     },
     "execution_count": 57,
     "metadata": {},
     "output_type": "execute_result"
    }
   ],
   "source": [
    "a[5]"
   ]
  },
  {
   "cell_type": "markdown",
   "id": "179592a9",
   "metadata": {},
   "source": [
    "- del 을 이용해서 슬라이싱 삭제하기"
   ]
  },
  {
   "cell_type": "code",
   "execution_count": 58,
   "id": "71f37fb9",
   "metadata": {},
   "outputs": [],
   "source": [
    "del a[1:3]"
   ]
  },
  {
   "cell_type": "code",
   "execution_count": 59,
   "id": "b48e0192",
   "metadata": {},
   "outputs": [
    {
     "data": {
      "text/plain": [
       "[1, 'c', 'd', 'e', 5]"
      ]
     },
     "execution_count": 59,
     "metadata": {},
     "output_type": "execute_result"
    }
   ],
   "source": [
    "a"
   ]
  },
  {
   "cell_type": "code",
   "execution_count": 61,
   "id": "6e0b5a79",
   "metadata": {},
   "outputs": [],
   "source": [
    "del a[1:3]"
   ]
  },
  {
   "cell_type": "code",
   "execution_count": 62,
   "id": "0041e928",
   "metadata": {},
   "outputs": [
    {
     "data": {
      "text/plain": [
       "[1]"
      ]
     },
     "execution_count": 62,
     "metadata": {},
     "output_type": "execute_result"
    }
   ],
   "source": [
    "a"
   ]
  },
  {
   "cell_type": "markdown",
   "id": "1c766d50",
   "metadata": {},
   "source": [
    "## 딕셔너리\n",
    "- 리스트, 튜플, 딕셔너리\n",
    "- 딕셔너리도 결국 주머니의 개념, 기준의 리스트와 튜플과는 다른 형태를 가지고 있음\n",
    "- 키와 값(key,value)두 가지 인자를 이해하고 있으면 된다.\n",
    "- 딕셔너리{}중괄호를 이용해서 사용\n",
    "- 딕셔너리 변수 = {키1:값1,키2:값2}"
   ]
  },
  {
   "cell_type": "code",
   "execution_count": 63,
   "id": "49a5e6b4",
   "metadata": {},
   "outputs": [],
   "source": [
    "dc = {'이름':'김영희','성적':100,'등급':'A+'}"
   ]
  },
  {
   "cell_type": "code",
   "execution_count": 64,
   "id": "9ff435a5",
   "metadata": {},
   "outputs": [
    {
     "data": {
      "text/plain": [
       "{'이름': '김영희', '성적': 100, '등급': 'A+'}"
      ]
     },
     "execution_count": 64,
     "metadata": {},
     "output_type": "execute_result"
    }
   ],
   "source": [
    "dc"
   ]
  },
  {
   "cell_type": "code",
   "execution_count": 67,
   "id": "1a51b4a3",
   "metadata": {},
   "outputs": [],
   "source": [
    "dc= {'이름':'김영희','이름':'김철수','성적':100,'등급':'A+'}\n",
    "#만약 중복된 키 값을 사용한다면 가장 마지막에 업데이트한 키 값이 작동된다."
   ]
  },
  {
   "cell_type": "code",
   "execution_count": 70,
   "id": "7cf00957",
   "metadata": {},
   "outputs": [],
   "source": [
    "dc = {'이름':'김영희','이름':'김영희','성적':100,'등급':'A+'}\n",
    "#중복 제거 됨"
   ]
  },
  {
   "cell_type": "markdown",
   "id": "e0b1dcd7",
   "metadata": {},
   "source": [
    "## 딕셔너리는 키, 값\n",
    "- 키값으로 값에 대한 정의를 내린다.\n",
    "- 이름이라면 값들은 str자료형이구나 성적 int, float 점수겠구나\n",
    "- 자료형을 다 담을 수 있나? 딕셔너리도?"
   ]
  },
  {
   "cell_type": "code",
   "execution_count": 72,
   "id": "367e3eff",
   "metadata": {},
   "outputs": [],
   "source": [
    "dc = {100:'A','이름':False, 1.1:[1,2,3], True:5}"
   ]
  },
  {
   "cell_type": "code",
   "execution_count": 73,
   "id": "b69985f8",
   "metadata": {},
   "outputs": [
    {
     "data": {
      "text/plain": [
       "{100: 'A', '이름': False, 1.1: [1, 2, 3], True: 5}"
      ]
     },
     "execution_count": 73,
     "metadata": {},
     "output_type": "execute_result"
    }
   ],
   "source": [
    "dc # 모든 자료형을 키 값으로 사용할 수 있다. #키에 의미가 정의되면 값은 어느것이던 사용 가능"
   ]
  },
  {
   "cell_type": "markdown",
   "id": "3fe481f9",
   "metadata": {},
   "source": [
    "- 빈딕셔너리를 만드는 방법!\n",
    "- {}\n",
    "- dict()"
   ]
  },
  {
   "cell_type": "code",
   "execution_count": 74,
   "id": "8558f235",
   "metadata": {},
   "outputs": [],
   "source": [
    "dc = {}"
   ]
  },
  {
   "cell_type": "code",
   "execution_count": 75,
   "id": "1cfaed49",
   "metadata": {},
   "outputs": [
    {
     "data": {
      "text/plain": [
       "{}"
      ]
     },
     "execution_count": 75,
     "metadata": {},
     "output_type": "execute_result"
    }
   ],
   "source": [
    "dc"
   ]
  },
  {
   "cell_type": "markdown",
   "id": "d814a444",
   "metadata": {},
   "source": [
    "## 딕셔너리를 만드는 방법\n",
    "- 4가지 이상 방법이 있다.\n",
    "- 1. 딕셔너리 = dict(키1 = 값1,키2 = 값2..)\n",
    "- 이 밖에 문자열 그대로, 문자열 제외 등등 방법이 있다."
   ]
  },
  {
   "cell_type": "code",
   "execution_count": 76,
   "id": "899b8661",
   "metadata": {},
   "outputs": [
    {
     "ename": "SyntaxError",
     "evalue": "expression cannot contain assignment, perhaps you meant \"==\"? (312431534.py, line 1)",
     "output_type": "error",
     "traceback": [
      "\u001b[0;36m  File \u001b[0;32m\"/var/folders/nz/vk3v33x95bs4kf3ymy0z0my00000gn/T/ipykernel_1752/312431534.py\"\u001b[0;36m, line \u001b[0;32m1\u001b[0m\n\u001b[0;31m    dc = dict('이름'='김영희','나이'=15,'영어'=100)\u001b[0m\n\u001b[0m              ^\u001b[0m\n\u001b[0;31mSyntaxError\u001b[0m\u001b[0;31m:\u001b[0m expression cannot contain assignment, perhaps you meant \"==\"?\n"
     ]
    }
   ],
   "source": [
    "dc = dict('이름'='김영희','나이'=15,'영어'=100)"
   ]
  },
  {
   "cell_type": "code",
   "execution_count": 77,
   "id": "efcb47e7",
   "metadata": {},
   "outputs": [],
   "source": [
    "dc = dict(이름 = '김영희', 나이 = 15, 영어 = 100)\n",
    "#이름, 나이, 영어 문자열이 아님"
   ]
  },
  {
   "cell_type": "code",
   "execution_count": 78,
   "id": "3cbbf08f",
   "metadata": {},
   "outputs": [
    {
     "data": {
      "text/plain": [
       "{'이름': '김영희', '나이': 15, '영어': 100}"
      ]
     },
     "execution_count": 78,
     "metadata": {},
     "output_type": "execute_result"
    }
   ],
   "source": [
    "dc"
   ]
  },
  {
   "cell_type": "markdown",
   "id": "52d051d9",
   "metadata": {},
   "source": [
    "## 딕셔너리는 키와 값으로 이루어져 있는데\n",
    "- 주머니를 접근하는 방법\n",
    "- 주머니를 접근하는 방법을 알면 주머니를 다양하게 다룰 수 있다.\n",
    "- 딕셔너리는 값에 키로 접근한다.\n",
    "- 딕셔너리 키로 값 접근하는 방법\n",
    "- 딕셔너리변수[키] 대괄호 써야하고, 결국 인덱스와 동일한 개념으로 생각해보기"
   ]
  },
  {
   "cell_type": "code",
   "execution_count": 79,
   "id": "a39b33bf",
   "metadata": {},
   "outputs": [
    {
     "ename": "NameError",
     "evalue": "name '이름' is not defined",
     "output_type": "error",
     "traceback": [
      "\u001b[0;31m---------------------------------------------------------------------------\u001b[0m",
      "\u001b[0;31mNameError\u001b[0m                                 Traceback (most recent call last)",
      "\u001b[0;32m/var/folders/nz/vk3v33x95bs4kf3ymy0z0my00000gn/T/ipykernel_1752/42663106.py\u001b[0m in \u001b[0;36m<module>\u001b[0;34m\u001b[0m\n\u001b[0;32m----> 1\u001b[0;31m \u001b[0mdc\u001b[0m\u001b[0;34m[\u001b[0m\u001b[0m이름\u001b[0m\u001b[0;34m]\u001b[0m\u001b[0;34m\u001b[0m\u001b[0;34m\u001b[0m\u001b[0m\n\u001b[0m",
      "\u001b[0;31mNameError\u001b[0m: name '이름' is not defined"
     ]
    }
   ],
   "source": [
    "dc[이름]"
   ]
  },
  {
   "cell_type": "code",
   "execution_count": 80,
   "id": "d4722c00",
   "metadata": {},
   "outputs": [
    {
     "data": {
      "text/plain": [
       "'김영희'"
      ]
     },
     "execution_count": 80,
     "metadata": {},
     "output_type": "execute_result"
    }
   ],
   "source": [
    "dc['이름']"
   ]
  },
  {
   "cell_type": "markdown",
   "id": "b2fad2b1",
   "metadata": {},
   "source": [
    "## 딕셔너리에 값을 바꾸거나 할당할 경우는?\n",
    "- 키로 접근해야 한다.\n",
    "- 키를 불러서 값을 할당"
   ]
  },
  {
   "cell_type": "code",
   "execution_count": 81,
   "id": "ad32c8fb",
   "metadata": {},
   "outputs": [],
   "source": [
    "dc['이름'] = '김철수'"
   ]
  },
  {
   "cell_type": "code",
   "execution_count": 82,
   "id": "8fcd2547",
   "metadata": {},
   "outputs": [
    {
     "data": {
      "text/plain": [
       "{'이름': '김철수', '나이': 15, '영어': 100}"
      ]
     },
     "execution_count": 82,
     "metadata": {},
     "output_type": "execute_result"
    }
   ],
   "source": [
    "dc"
   ]
  },
  {
   "cell_type": "code",
   "execution_count": null,
   "id": "16223583",
   "metadata": {},
   "outputs": [],
   "source": []
  }
 ],
 "metadata": {
  "kernelspec": {
   "display_name": "Python 3 (ipykernel)",
   "language": "python",
   "name": "python3"
  },
  "language_info": {
   "codemirror_mode": {
    "name": "ipython",
    "version": 3
   },
   "file_extension": ".py",
   "mimetype": "text/x-python",
   "name": "python",
   "nbconvert_exporter": "python",
   "pygments_lexer": "ipython3",
   "version": "3.9.13"
  }
 },
 "nbformat": 4,
 "nbformat_minor": 5
}
