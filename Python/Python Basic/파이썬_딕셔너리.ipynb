{
 "cells": [
  {
   "cell_type": "markdown",
   "id": "06e22c24",
   "metadata": {},
   "source": [
    "### 딕셔너리\n",
    "- 키, 값"
   ]
  },
  {
   "cell_type": "markdown",
   "id": "31bebf38",
   "metadata": {},
   "source": [
    "#### 딕셔너리 키를 기준으로 값을 할당"
   ]
  },
  {
   "cell_type": "code",
   "execution_count": 60,
   "id": "17ca1343",
   "metadata": {},
   "outputs": [],
   "source": [
    "abc = {'a':100, 'b':50, 'c':'안녕'}"
   ]
  },
  {
   "cell_type": "code",
   "execution_count": 61,
   "id": "505c4205",
   "metadata": {},
   "outputs": [
    {
     "data": {
      "text/plain": [
       "{'a': 100, 'b': 50, 'c': '안녕'}"
      ]
     },
     "execution_count": 61,
     "metadata": {},
     "output_type": "execute_result"
    }
   ],
   "source": [
    "abc"
   ]
  },
  {
   "cell_type": "code",
   "execution_count": 62,
   "id": "2d229f91",
   "metadata": {},
   "outputs": [],
   "source": [
    "abc['a'] = 1000"
   ]
  },
  {
   "cell_type": "code",
   "execution_count": 63,
   "id": "66fa9c93",
   "metadata": {},
   "outputs": [
    {
     "data": {
      "text/plain": [
       "{'a': 1000, 'b': 50, 'c': '안녕'}"
      ]
     },
     "execution_count": 63,
     "metadata": {},
     "output_type": "execute_result"
    }
   ],
   "source": [
    "abc"
   ]
  },
  {
   "cell_type": "markdown",
   "id": "a10e412d",
   "metadata": {},
   "source": [
    "#### 딕셔너리 안에 내가 찾고자 하는 키가 있는가 없는가?\n",
    "- in\n",
    "- in 함수를 이용해서 키를 찾는 것"
   ]
  },
  {
   "cell_type": "code",
   "execution_count": 64,
   "id": "b5c124b9",
   "metadata": {},
   "outputs": [
    {
     "data": {
      "text/plain": [
       "True"
      ]
     },
     "execution_count": 64,
     "metadata": {},
     "output_type": "execute_result"
    }
   ],
   "source": [
    "'c' in abc #키가 있나 없나를 확인"
   ]
  },
  {
   "cell_type": "code",
   "execution_count": 65,
   "id": "28687944",
   "metadata": {},
   "outputs": [
    {
     "data": {
      "text/plain": [
       "False"
      ]
     },
     "execution_count": 65,
     "metadata": {},
     "output_type": "execute_result"
    }
   ],
   "source": [
    "'c' not in abc#키가 있나 없나를 확인"
   ]
  },
  {
   "cell_type": "code",
   "execution_count": 66,
   "id": "a4d97319",
   "metadata": {},
   "outputs": [],
   "source": [
    "a = [1,2,3,4,5,6]"
   ]
  },
  {
   "cell_type": "code",
   "execution_count": 67,
   "id": "1e20b0d6",
   "metadata": {},
   "outputs": [
    {
     "data": {
      "text/plain": [
       "6"
      ]
     },
     "execution_count": 67,
     "metadata": {},
     "output_type": "execute_result"
    }
   ],
   "source": [
    "len(a)"
   ]
  },
  {
   "cell_type": "code",
   "execution_count": 68,
   "id": "3f322009",
   "metadata": {},
   "outputs": [
    {
     "data": {
      "text/plain": [
       "3"
      ]
     },
     "execution_count": 68,
     "metadata": {},
     "output_type": "execute_result"
    }
   ],
   "source": [
    "len(abc) #딕셔너리에 len 함수를 이용하면? #키를 기준으로 값이 계산된다."
   ]
  },
  {
   "cell_type": "markdown",
   "id": "76d5cc1b",
   "metadata": {},
   "source": [
    "## if 조건문 정복하기!\n",
    "- 조건이라는 건 결국 내가 원하는 어떤 상황이 있다.\n",
    "- 내가 원하는 상황 -> 내가 원하는 조건\n",
    "- 내가 원하는 조건을 만들어서 해당 조건일 때 내가 원하는 값을 추출한다.\n",
    "- 내가 원하는 조건을 만들어야 한다.\n",
    "- 그 조건을 if문을 이효해서 만든다.\n",
    "\n",
    "- 만약 비가 온다면\n",
    "    -우산을 가지고 가거라\n",
    "- if 비가 온다면\n",
    "    -우산을 가지고 가거라\n",
    "- if 안의 조건식이 핵심\n",
    "- 조건식이 참일 경우에 조건식 작동\n",
    "- 조건식을 참으로 만들어야 함"
   ]
  },
  {
   "cell_type": "code",
   "execution_count": 69,
   "id": "a39895a2",
   "metadata": {},
   "outputs": [],
   "source": [
    "## 비가 온다면 비가 온다라는 것을 컴퓨터에게 이해시키려면\n",
    "# x 가 10 이면 비가 온다라는 것\n",
    "# x 가 10 이 아니면 비가 오지 않는다.\n",
    "\n",
    "x = 10"
   ]
  },
  {
   "cell_type": "code",
   "execution_count": 70,
   "id": "6f0fc101",
   "metadata": {},
   "outputs": [
    {
     "data": {
      "text/plain": [
       "10"
      ]
     },
     "execution_count": 70,
     "metadata": {},
     "output_type": "execute_result"
    }
   ],
   "source": [
    "x"
   ]
  },
  {
   "cell_type": "code",
   "execution_count": 71,
   "id": "26a0da31",
   "metadata": {},
   "outputs": [
    {
     "name": "stdout",
     "output_type": "stream",
     "text": [
      "우산을 가지고 가거라!\n"
     ]
    }
   ],
   "source": [
    "if x == 10:\n",
    "    print('우산을 가지고 가거라!')"
   ]
  },
  {
   "cell_type": "markdown",
   "id": "37ffa6a4",
   "metadata": {},
   "source": [
    "- 조건문이 작동하는 원리는 조건식의 참/거짓 이다.\n",
    "- if 조건식:\n",
    "    - 코드"
   ]
  },
  {
   "cell_type": "code",
   "execution_count": 72,
   "id": "56987344",
   "metadata": {},
   "outputs": [
    {
     "name": "stdout",
     "output_type": "stream",
     "text": [
      "안녕\n"
     ]
    }
   ],
   "source": [
    "if x == 10:\n",
    "    print('안녕') #들여쓰기"
   ]
  },
  {
   "cell_type": "markdown",
   "id": "9388b83f",
   "metadata": {},
   "source": [
    "- 들여쓰기 라는 건 스페이스바 4번"
   ]
  },
  {
   "cell_type": "markdown",
   "id": "581a2672",
   "metadata": {},
   "source": [
    "## if문 여러개 쓸 경우\n",
    "- if 문 만을 이용해서 여러 개 사용해보자!\n",
    "- 여러 조건문을 이용해서 내가 해결해야 하는 과제 또는 상황을 풀어야 한다.\n",
    "- ex) 주사위 눈 6가지 나오는 방법"
   ]
  },
  {
   "cell_type": "code",
   "execution_count": 73,
   "id": "5636d381",
   "metadata": {},
   "outputs": [
    {
     "name": "stdout",
     "output_type": "stream",
     "text": [
      "x는 20이 아닙니다.\n"
     ]
    }
   ],
   "source": [
    "# if문 두개 사용\n",
    "\n",
    "x = 8\n",
    "if x == 20:\n",
    "    print('x는 20 입니다.')\n",
    "if x != 20:\n",
    "    print('x는 20이 아닙니다.')"
   ]
  },
  {
   "cell_type": "code",
   "execution_count": 74,
   "id": "91a4a2dd",
   "metadata": {},
   "outputs": [
    {
     "name": "stdout",
     "output_type": "stream",
     "text": [
      "20입니다.\n",
      "20이 아닙니다.\n"
     ]
    }
   ],
   "source": [
    "x = 21\n",
    "\n",
    "if x>20:\n",
    "    print('20입니다.')\n",
    "if x!=20:\n",
    "    print('20이 아닙니다.')\n",
    "if x<20:\n",
    "    print('20보다 작습니다.')\n"
   ]
  },
  {
   "cell_type": "code",
   "execution_count": 75,
   "id": "8827fc84",
   "metadata": {},
   "outputs": [
    {
     "name": "stdout",
     "output_type": "stream",
     "text": [
      "10이 아닙니다.\n",
      "10보다 작습니다.\n"
     ]
    }
   ],
   "source": [
    "x = 9\n",
    "\n",
    "if x>10:\n",
    "    print('10입니다.')\n",
    "if x!=10:\n",
    "    print('10이 아닙니다.')\n",
    "if x<10:\n",
    "    print('10보다 작습니다.')"
   ]
  },
  {
   "cell_type": "markdown",
   "id": "b8f805c3",
   "metadata": {},
   "source": [
    "- 중첩 if문\n",
    "- if문 안에 if 문이 들어간다."
   ]
  },
  {
   "cell_type": "code",
   "execution_count": 76,
   "id": "572da70c",
   "metadata": {},
   "outputs": [
    {
     "name": "stdout",
     "output_type": "stream",
     "text": [
      "10입니다.\n",
      "10이 아닙니다.\n"
     ]
    }
   ],
   "source": [
    "x = 11\n",
    "if x>10:\n",
    "    print('10입니다.')\n",
    "    if x!=10:\n",
    "        print('10이 아닙니다.')"
   ]
  },
  {
   "cell_type": "markdown",
   "id": "aae855ff",
   "metadata": {},
   "source": [
    "- if문의 코드 라인을 잘 봐야 한다. 조건문도 마찬가지다.\n",
    "- if문의 코드 라인이 안쪽으로 들어간 순간 (if문 안에 if문이 있다면, 가장 맨 위에 있는 if문에 종속되어 아래 안쪽 if문들은 움직인다.)"
   ]
  },
  {
   "cell_type": "code",
   "execution_count": 77,
   "id": "4b768334",
   "metadata": {},
   "outputs": [
    {
     "name": "stdout",
     "output_type": "stream",
     "text": [
      "10입니다.\n",
      "10이 아닙니다.\n"
     ]
    }
   ],
   "source": [
    "x = 11\n",
    "if x>10:\n",
    "    print('10입니다.')\n",
    "if x!=10:\n",
    "    print('10이 아닙니다.')\n",
    "# if문이 같은 라인에 있다. if문의 영향력이 같다."
   ]
  },
  {
   "cell_type": "code",
   "execution_count": 78,
   "id": "93c303e6",
   "metadata": {},
   "outputs": [
    {
     "name": "stdout",
     "output_type": "stream",
     "text": [
      "10입니다.\n",
      "10이 아닙니다.\n"
     ]
    }
   ],
   "source": [
    "x = 11\n",
    "if x>10:\n",
    "    print('10입니다.')\n",
    "    if x!=10:\n",
    "        print('10이 아닙니다.')\n",
    "        \n",
    "# if x!=10 조건식은 if x>10 의 종속이 된다. if x>10이 참이 아니면 아래 코드도 작동이 안 된다.\n"
   ]
  },
  {
   "cell_type": "code",
   "execution_count": 79,
   "id": "f6ad8b9b",
   "metadata": {},
   "outputs": [],
   "source": [
    "x = 11\n",
    "if x<11:\n",
    "    print('10입니다.')\n",
    "    if x!=11:\n",
    "        print('10이 아닙니다.')"
   ]
  },
  {
   "cell_type": "code",
   "execution_count": 80,
   "id": "0b81f568",
   "metadata": {},
   "outputs": [
    {
     "name": "stdout",
     "output_type": "stream",
     "text": [
      "10입니다.\n"
     ]
    }
   ],
   "source": [
    "x = 11\n",
    "if x<=11:\n",
    "    print('10입니다.')\n",
    "    if x!=11:\n",
    "        print('10이 아닙니다.')"
   ]
  },
  {
   "cell_type": "code",
   "execution_count": 81,
   "id": "d37367ea",
   "metadata": {},
   "outputs": [],
   "source": [
    "x = 11\n",
    "if x<11:\n",
    "    print('10입니다.')\n",
    "    if x!=11:\n",
    "        print('10이 아닙니다.')\n",
    "        if x==11:\n",
    "            print('9입니다.')\n"
   ]
  },
  {
   "cell_type": "code",
   "execution_count": 82,
   "id": "82a4025c",
   "metadata": {},
   "outputs": [
    {
     "name": "stdout",
     "output_type": "stream",
     "text": [
      "10입니다.\n",
      "10이 아닙니다.\n"
     ]
    }
   ],
   "source": [
    "x = 8\n",
    "if x<10: #1순위 가장 큰 영향력\n",
    "    print('10입니다.')\n",
    "    if x!=10:\n",
    "        print('10이 아닙니다.')\n",
    "    if x==9:\n",
    "        print('9입니다.')"
   ]
  },
  {
   "cell_type": "code",
   "execution_count": 83,
   "id": "20a797e0",
   "metadata": {},
   "outputs": [],
   "source": [
    "x = 10\n",
    "if x<10: #1순위 가장 큰 영향력\n",
    "    print('10입니다.')\n",
    "    if x!=10:\n",
    "        print('10이 아닙니다.')\n",
    "    if x==9:\n",
    "        print('9입니다.')\n"
   ]
  },
  {
   "cell_type": "markdown",
   "id": "59e72b55",
   "metadata": {},
   "source": [
    "### else 문 사용하기\n",
    "- if 문을 기본적으로 if, elif, else 3가지 구성으로 이루어진다.\n",
    "- else문의 경우는 우리가 조건식을 한 가지로만 표현하기 어렵다.\n",
    "- if문을 두개 이상 사용하는데\n",
    "- else는 마무리 형태로 사용하고, if 조건식 외에 다른 것 모두 다를 말한다."
   ]
  },
  {
   "cell_type": "code",
   "execution_count": 84,
   "id": "f23e6db0",
   "metadata": {},
   "outputs": [
    {
     "name": "stdout",
     "output_type": "stream",
     "text": [
      "10이 아닙니다.\n"
     ]
    }
   ],
   "source": [
    "x = 6\n",
    "if x == 7:\n",
    "    print('10입니다.')\n",
    "else:\n",
    "    print('10이 아닙니다.')"
   ]
  },
  {
   "cell_type": "code",
   "execution_count": 85,
   "id": "f4b399ac",
   "metadata": {},
   "outputs": [
    {
     "ename": "SyntaxError",
     "evalue": "invalid syntax (2016200492.py, line 4)",
     "output_type": "error",
     "traceback": [
      "\u001b[0;36m  File \u001b[0;32m\"/var/folders/nz/vk3v33x95bs4kf3ymy0z0my00000gn/T/ipykernel_1046/2016200492.py\"\u001b[0;36m, line \u001b[0;32m4\u001b[0m\n\u001b[0;31m    else:\u001b[0m\n\u001b[0m    ^\u001b[0m\n\u001b[0;31mSyntaxError\u001b[0m\u001b[0;31m:\u001b[0m invalid syntax\n"
     ]
    }
   ],
   "source": [
    "x = 5\n",
    "if x ==10:\n",
    "    print('10입니다.')\n",
    "    else:\n",
    "        print('10이 아닙니다.')"
   ]
  },
  {
   "cell_type": "markdown",
   "id": "af935327",
   "metadata": {},
   "source": [
    "- else 문은 if 문과 같은 동일선상의 코드라인에 적어야 한다."
   ]
  },
  {
   "cell_type": "code",
   "execution_count": 86,
   "id": "153c5f59",
   "metadata": {},
   "outputs": [
    {
     "name": "stdout",
     "output_type": "stream",
     "text": [
      "10도 20도 아닙니다.\n"
     ]
    }
   ],
   "source": [
    "x = 40\n",
    "if x==10:\n",
    "    print('10입니다.')\n",
    "if x==20:\n",
    "    print('20입니다.')\n",
    "else:\n",
    "    print('10도 20도 아닙니다.')"
   ]
  },
  {
   "cell_type": "code",
   "execution_count": 87,
   "id": "5c294bc4",
   "metadata": {},
   "outputs": [
    {
     "name": "stdout",
     "output_type": "stream",
     "text": [
      "10도 20도 아닙니다.\n"
     ]
    }
   ],
   "source": [
    "x = 40\n",
    "if x==10:\n",
    "    print('10입니다.')\n",
    "if x==20:\n",
    "    print('20입니다.')\n",
    "else:\n",
    "    print('10도 20도 아닙니다.') \n",
    "# 조건문을 마무리할 때 끝에 사용한다."
   ]
  },
  {
   "cell_type": "markdown",
   "id": "609d4848",
   "metadata": {},
   "source": [
    "### 조건식이 여러가지인 경우!\n",
    "- 지금까지는 항상 x는 10, x는 20\n",
    "- 조건식 여러 개\n",
    "- 변수도 여러 개"
   ]
  },
  {
   "cell_type": "code",
   "execution_count": 88,
   "id": "cf432ec9",
   "metadata": {},
   "outputs": [],
   "source": [
    "x = 10\n",
    "y = 30"
   ]
  },
  {
   "cell_type": "code",
   "execution_count": 89,
   "id": "8cc91106",
   "metadata": {},
   "outputs": [
    {
     "data": {
      "text/plain": [
       "10"
      ]
     },
     "execution_count": 89,
     "metadata": {},
     "output_type": "execute_result"
    }
   ],
   "source": [
    "x"
   ]
  },
  {
   "cell_type": "code",
   "execution_count": 90,
   "id": "76152ede",
   "metadata": {},
   "outputs": [
    {
     "data": {
      "text/plain": [
       "30"
      ]
     },
     "execution_count": 90,
     "metadata": {},
     "output_type": "execute_result"
    }
   ],
   "source": [
    "y"
   ]
  },
  {
   "cell_type": "code",
   "execution_count": 91,
   "id": "18758bcf",
   "metadata": {},
   "outputs": [],
   "source": [
    "# 조건식 두가지 이상 사용 가능"
   ]
  },
  {
   "cell_type": "code",
   "execution_count": 92,
   "id": "393dc5eb",
   "metadata": {},
   "outputs": [
    {
     "name": "stdout",
     "output_type": "stream",
     "text": [
      "참입니다.\n"
     ]
    }
   ],
   "source": [
    "if x ==10 and y ==30:\n",
    "    print('참입니다.')\n",
    "else:\n",
    "    print('거짓입니다.')"
   ]
  },
  {
   "cell_type": "code",
   "execution_count": 93,
   "id": "03d7e87b",
   "metadata": {},
   "outputs": [
    {
     "name": "stdout",
     "output_type": "stream",
     "text": [
      "참입니다.\n"
     ]
    }
   ],
   "source": [
    "if x ==10 or y ==20:\n",
    "    print('참입니다.')\n",
    "else:\n",
    "    print('거짓입니다.')\n"
   ]
  },
  {
   "cell_type": "markdown",
   "id": "00dbc3c0",
   "metadata": {},
   "source": [
    "- else 조건식을 안 쓴다.\n",
    "- else 는 if문 조건식 외에 나머지는 다 출력"
   ]
  }
 ],
 "metadata": {
  "kernelspec": {
   "display_name": "Python 3 (ipykernel)",
   "language": "python",
   "name": "python3"
  },
  "language_info": {
   "codemirror_mode": {
    "name": "ipython",
    "version": 3
   },
   "file_extension": ".py",
   "mimetype": "text/x-python",
   "name": "python",
   "nbconvert_exporter": "python",
   "pygments_lexer": "ipython3",
   "version": "3.9.13"
  }
 },
 "nbformat": 4,
 "nbformat_minor": 5
}
