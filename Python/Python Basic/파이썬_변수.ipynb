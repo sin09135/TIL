{
 "cells": [
  {
   "cell_type": "markdown",
   "id": "93a0bc03",
   "metadata": {},
   "source": [
    "변수와 변수 입력이란?\n",
    "- 할당\n",
    "- x = 10\n",
    "- x라는 변수에 10이라는 값이 할당 된다.\n",
    "- x <- 10이 들어간다."
   ]
  },
  {
   "cell_type": "code",
   "execution_count": 1,
   "id": "02856c2b",
   "metadata": {},
   "outputs": [],
   "source": [
    "x = 10"
   ]
  },
  {
   "cell_type": "code",
   "execution_count": 2,
   "id": "c9919237",
   "metadata": {},
   "outputs": [
    {
     "data": {
      "text/plain": [
       "10"
      ]
     },
     "execution_count": 2,
     "metadata": {},
     "output_type": "execute_result"
    }
   ],
   "source": [
    "x"
   ]
  },
  {
   "cell_type": "code",
   "execution_count": 3,
   "id": "fbd78856",
   "metadata": {},
   "outputs": [
    {
     "ename": "NameError",
     "evalue": "name 'y' is not defined",
     "output_type": "error",
     "traceback": [
      "\u001b[0;31m---------------------------------------------------------------------------\u001b[0m",
      "\u001b[0;31mNameError\u001b[0m                                 Traceback (most recent call last)",
      "\u001b[0;32m/var/folders/nz/vk3v33x95bs4kf3ymy0z0my00000gn/T/ipykernel_2977/3563912222.py\u001b[0m in \u001b[0;36m<module>\u001b[0;34m\u001b[0m\n\u001b[0;32m----> 1\u001b[0;31m \u001b[0my\u001b[0m\u001b[0;34m\u001b[0m\u001b[0;34m\u001b[0m\u001b[0m\n\u001b[0m",
      "\u001b[0;31mNameError\u001b[0m: name 'y' is not defined"
     ]
    }
   ],
   "source": [
    "y"
   ]
  },
  {
   "cell_type": "code",
   "execution_count": 4,
   "id": "35173e0e",
   "metadata": {},
   "outputs": [
    {
     "data": {
      "text/plain": [
       "'y'"
      ]
     },
     "execution_count": 4,
     "metadata": {},
     "output_type": "execute_result"
    }
   ],
   "source": [
    "'y'"
   ]
  },
  {
   "cell_type": "code",
   "execution_count": 5,
   "id": "47f37efa",
   "metadata": {},
   "outputs": [
    {
     "data": {
      "text/plain": [
       "int"
      ]
     },
     "execution_count": 5,
     "metadata": {},
     "output_type": "execute_result"
    }
   ],
   "source": [
    "type(x)"
   ]
  },
  {
   "cell_type": "markdown",
   "id": "5857b17b",
   "metadata": {},
   "source": [
    "- 변수는 다양한 값을 넣을 수 있다."
   ]
  },
  {
   "cell_type": "code",
   "execution_count": 7,
   "id": "edffea52",
   "metadata": {},
   "outputs": [],
   "source": [
    "x,y,z = 100,200,300"
   ]
  },
  {
   "cell_type": "code",
   "execution_count": 8,
   "id": "b701c684",
   "metadata": {},
   "outputs": [
    {
     "name": "stdout",
     "output_type": "stream",
     "text": [
      "100\n",
      "200\n",
      "300\n"
     ]
    }
   ],
   "source": [
    "print(x)\n",
    "print(y)\n",
    "print(z)"
   ]
  },
  {
   "cell_type": "code",
   "execution_count": 9,
   "id": "b9d3b6ca",
   "metadata": {},
   "outputs": [],
   "source": [
    "x=y=z=10\n",
    "x=y=10\n",
    "#y가 10이 되고, x가 10이 됨"
   ]
  },
  {
   "cell_type": "raw",
   "id": "4ae8cd25",
   "metadata": {},
   "source": [
    "변수를 가지고 계산할 수 있다."
   ]
  },
  {
   "cell_type": "code",
   "execution_count": 10,
   "id": "ce08453e",
   "metadata": {},
   "outputs": [],
   "source": [
    "a = 10\n",
    "b = 20"
   ]
  },
  {
   "cell_type": "code",
   "execution_count": 11,
   "id": "7fe63c9a",
   "metadata": {},
   "outputs": [],
   "source": [
    "c = a+b"
   ]
  },
  {
   "cell_type": "code",
   "execution_count": 12,
   "id": "2f4a4f6d",
   "metadata": {},
   "outputs": [
    {
     "data": {
      "text/plain": [
       "30"
      ]
     },
     "execution_count": 12,
     "metadata": {},
     "output_type": "execute_result"
    }
   ],
   "source": [
    "10+20"
   ]
  },
  {
   "cell_type": "code",
   "execution_count": 13,
   "id": "f9212427",
   "metadata": {},
   "outputs": [
    {
     "data": {
      "text/plain": [
       "30"
      ]
     },
     "execution_count": 13,
     "metadata": {},
     "output_type": "execute_result"
    }
   ],
   "source": [
    "a+20"
   ]
  },
  {
   "cell_type": "raw",
   "id": "3e4f43b7",
   "metadata": {},
   "source": [
    "산출 연산 후 할당 연산자\n",
    "a = a+20과 같이 a에 20을 더한 값을 다시 a에 할당해주면 계산 결과가 계속 유지가 된다."
   ]
  },
  {
   "cell_type": "code",
   "execution_count": 14,
   "id": "4eab902a",
   "metadata": {},
   "outputs": [],
   "source": [
    "a = 10"
   ]
  },
  {
   "cell_type": "code",
   "execution_count": 15,
   "id": "a2fe28e9",
   "metadata": {},
   "outputs": [],
   "source": [
    "a = a+10"
   ]
  },
  {
   "cell_type": "code",
   "execution_count": 16,
   "id": "e14195f7",
   "metadata": {},
   "outputs": [],
   "source": [
    "a += 10 #귀찮아서 이렇게 표현"
   ]
  },
  {
   "cell_type": "code",
   "execution_count": 17,
   "id": "be591e5f",
   "metadata": {},
   "outputs": [
    {
     "ename": "NameError",
     "evalue": "name 'd' is not defined",
     "output_type": "error",
     "traceback": [
      "\u001b[0;31m---------------------------------------------------------------------------\u001b[0m",
      "\u001b[0;31mNameError\u001b[0m                                 Traceback (most recent call last)",
      "\u001b[0;32m/var/folders/nz/vk3v33x95bs4kf3ymy0z0my00000gn/T/ipykernel_2977/3161387801.py\u001b[0m in \u001b[0;36m<module>\u001b[0;34m\u001b[0m\n\u001b[0;32m----> 1\u001b[0;31m \u001b[0md\u001b[0m\u001b[0;34m\u001b[0m\u001b[0;34m\u001b[0m\u001b[0m\n\u001b[0m",
      "\u001b[0;31mNameError\u001b[0m: name 'd' is not defined"
     ]
    }
   ],
   "source": [
    "d"
   ]
  },
  {
   "cell_type": "code",
   "execution_count": null,
   "id": "6785866d",
   "metadata": {},
   "outputs": [],
   "source": [
    "# 선언이 안 되어 있으면 에러가 남"
   ]
  },
  {
   "cell_type": "raw",
   "id": "10430109",
   "metadata": {},
   "source": [
    "값을 입력받는 경우 해당 값을 변수에 저장할 수 있다.\n",
    "input()"
   ]
  },
  {
   "cell_type": "code",
   "execution_count": 18,
   "id": "a507e183",
   "metadata": {},
   "outputs": [
    {
     "name": "stdout",
     "output_type": "stream",
     "text": [
      "안녕?\n"
     ]
    },
    {
     "data": {
      "text/plain": [
       "'안녕?'"
      ]
     },
     "execution_count": 18,
     "metadata": {},
     "output_type": "execute_result"
    }
   ],
   "source": [
    "input()"
   ]
  },
  {
   "cell_type": "code",
   "execution_count": 19,
   "id": "1fb60313",
   "metadata": {},
   "outputs": [
    {
     "name": "stdout",
     "output_type": "stream",
     "text": [
      "문자를 입력하세요:문자\n"
     ]
    }
   ],
   "source": [
    "x = input('문자를 입력하세요:')"
   ]
  },
  {
   "cell_type": "code",
   "execution_count": 20,
   "id": "63192a84",
   "metadata": {},
   "outputs": [
    {
     "data": {
      "text/plain": [
       "'문자'"
      ]
     },
     "execution_count": 20,
     "metadata": {},
     "output_type": "execute_result"
    }
   ],
   "source": [
    "x"
   ]
  },
  {
   "cell_type": "code",
   "execution_count": null,
   "id": "dc78b62f",
   "metadata": {},
   "outputs": [],
   "source": [
    "a = input('첫 번째 수를 입력하세요 : ')\n",
    "b = input('두 번째 수를 입력하세요 : ')"
   ]
  },
  {
   "cell_type": "code",
   "execution_count": 22,
   "id": "4dc356b8",
   "metadata": {},
   "outputs": [
    {
     "name": "stdout",
     "output_type": "stream",
     "text": [
      "100\n"
     ]
    }
   ],
   "source": [
    "print(a)"
   ]
  },
  {
   "cell_type": "code",
   "execution_count": 23,
   "id": "e8092fe9",
   "metadata": {},
   "outputs": [
    {
     "name": "stdout",
     "output_type": "stream",
     "text": [
      "200\n"
     ]
    }
   ],
   "source": [
    "print(b)"
   ]
  },
  {
   "cell_type": "code",
   "execution_count": 24,
   "id": "7595478c",
   "metadata": {},
   "outputs": [
    {
     "name": "stdout",
     "output_type": "stream",
     "text": [
      "100200\n"
     ]
    }
   ],
   "source": [
    "print(a+b)"
   ]
  },
  {
   "cell_type": "code",
   "execution_count": 1,
   "id": "25b68cfe",
   "metadata": {},
   "outputs": [
    {
     "name": "stdout",
     "output_type": "stream",
     "text": [
      "첫 번째 수를 입력하세요 : 100\n",
      "두 번째 수를 입력하세요 : 20\n"
     ]
    }
   ],
   "source": [
    "a = int(input('첫 번째 수를 입력하세요 : '))\n",
    "b = int(input('두 번째 수를 입력하세요 : '))"
   ]
  },
  {
   "cell_type": "code",
   "execution_count": 2,
   "id": "b0641bda",
   "metadata": {},
   "outputs": [
    {
     "name": "stdout",
     "output_type": "stream",
     "text": [
      "120\n"
     ]
    }
   ],
   "source": [
    "print(a+b)"
   ]
  },
  {
   "cell_type": "code",
   "execution_count": 3,
   "id": "1f106da1",
   "metadata": {},
   "outputs": [
    {
     "name": "stdout",
     "output_type": "stream",
     "text": [
      "문자열 두개 입력:10 20\n"
     ]
    }
   ],
   "source": [
    "a,b = input('문자열 두개 입력:').split() #아무것도 없으면 기본 공백에 따라"
   ]
  },
  {
   "cell_type": "code",
   "execution_count": 4,
   "id": "917caa46",
   "metadata": {},
   "outputs": [
    {
     "name": "stdout",
     "output_type": "stream",
     "text": [
      "10\n"
     ]
    }
   ],
   "source": [
    "print(a)"
   ]
  },
  {
   "cell_type": "code",
   "execution_count": 5,
   "id": "7b9d33cf",
   "metadata": {},
   "outputs": [
    {
     "name": "stdout",
     "output_type": "stream",
     "text": [
      "20\n"
     ]
    }
   ],
   "source": [
    "print(b)"
   ]
  },
  {
   "cell_type": "raw",
   "id": "6935154a",
   "metadata": {},
   "source": [
    "map\n",
    "내가 원하는 기능 두가지를 함께 묶어서 사용할 수 있다.\n",
    "변수1, 변수2 = map(int,input().split())"
   ]
  },
  {
   "cell_type": "code",
   "execution_count": 1,
   "id": "2dcc13aa",
   "metadata": {},
   "outputs": [
    {
     "name": "stdout",
     "output_type": "stream",
     "text": [
      "안녕? 과제는 필수란다!\n"
     ]
    }
   ],
   "source": [
    "print('안녕?','과제는','필수란다!')"
   ]
  },
  {
   "cell_type": "raw",
   "id": "2def7628",
   "metadata": {},
   "source": [
    "sep 값 사이에 문자 넣기\n",
    "구분자라는 뜻\n",
    "print(값1, 값2, sep = '문자 또는 문자열')"
   ]
  },
  {
   "cell_type": "code",
   "execution_count": 2,
   "id": "54462b89",
   "metadata": {},
   "outputs": [
    {
     "name": "stdout",
     "output_type": "stream",
     "text": [
      "1,2,3\n"
     ]
    }
   ],
   "source": [
    "print(1,2,3,sep=',')"
   ]
  },
  {
   "cell_type": "code",
   "execution_count": 3,
   "id": "0bba3e62",
   "metadata": {},
   "outputs": [
    {
     "name": "stdout",
     "output_type": "stream",
     "text": [
      "1 2 3\n"
     ]
    }
   ],
   "source": [
    "print(1,2,3,)"
   ]
  },
  {
   "cell_type": "code",
   "execution_count": 4,
   "id": "777d92bd",
   "metadata": {},
   "outputs": [
    {
     "name": "stdout",
     "output_type": "stream",
     "text": [
      "1     2     3\n"
     ]
    }
   ],
   "source": [
    "print(1,2,3,sep = '     ')"
   ]
  },
  {
   "cell_type": "raw",
   "id": "131a033f",
   "metadata": {},
   "source": [
    "줄바꿈\n",
    "end \n",
    "end를 이용하면 빈 문자열을 지정하면 다음번 출력이 바로 뒤에 오게 된다.\n",
    "값이 붙게 된다."
   ]
  },
  {
   "cell_type": "code",
   "execution_count": 5,
   "id": "2bc24cb5",
   "metadata": {},
   "outputs": [
    {
     "name": "stdout",
     "output_type": "stream",
     "text": [
      "1/2/3\n"
     ]
    }
   ],
   "source": [
    "print(1,end='/')\n",
    "print(2,end='/')\n",
    "print(3)"
   ]
  },
  {
   "cell_type": "raw",
   "id": "c49cd95b",
   "metadata": {},
   "source": [
    "불린값"
   ]
  },
  {
   "cell_type": "code",
   "execution_count": 6,
   "id": "4b428637",
   "metadata": {},
   "outputs": [],
   "source": [
    "x = 10"
   ]
  },
  {
   "cell_type": "code",
   "execution_count": 7,
   "id": "b1633ee2",
   "metadata": {},
   "outputs": [
    {
     "data": {
      "text/plain": [
       "True"
      ]
     },
     "execution_count": 7,
     "metadata": {},
     "output_type": "execute_result"
    }
   ],
   "source": [
    "x>5"
   ]
  },
  {
   "cell_type": "code",
   "execution_count": 8,
   "id": "488f34a9",
   "metadata": {},
   "outputs": [],
   "source": [
    "## 숫자가 같은지 다른지 확인방법\n",
    "## 같다 ==, 다르다 !="
   ]
  },
  {
   "cell_type": "code",
   "execution_count": 9,
   "id": "8abf7ab2",
   "metadata": {},
   "outputs": [
    {
     "data": {
      "text/plain": [
       "True"
      ]
     },
     "execution_count": 9,
     "metadata": {},
     "output_type": "execute_result"
    }
   ],
   "source": [
    "10 == 10"
   ]
  },
  {
   "cell_type": "code",
   "execution_count": 10,
   "id": "73679781",
   "metadata": {},
   "outputs": [
    {
     "data": {
      "text/plain": [
       "False"
      ]
     },
     "execution_count": 10,
     "metadata": {},
     "output_type": "execute_result"
    }
   ],
   "source": [
    "'python' == 'Python'"
   ]
  },
  {
   "cell_type": "code",
   "execution_count": 11,
   "id": "ae851291",
   "metadata": {},
   "outputs": [],
   "source": [
    "#is is not 비교 가능"
   ]
  },
  {
   "cell_type": "code",
   "execution_count": 12,
   "id": "0b660b51",
   "metadata": {},
   "outputs": [
    {
     "name": "stderr",
     "output_type": "stream",
     "text": [
      "<>:1: SyntaxWarning: \"is\" with a literal. Did you mean \"==\"?\n",
      "<>:1: SyntaxWarning: \"is\" with a literal. Did you mean \"==\"?\n",
      "/var/folders/nz/vk3v33x95bs4kf3ymy0z0my00000gn/T/ipykernel_3211/3938569512.py:1: SyntaxWarning: \"is\" with a literal. Did you mean \"==\"?\n",
      "  10 is 10\n"
     ]
    },
    {
     "data": {
      "text/plain": [
       "True"
      ]
     },
     "execution_count": 12,
     "metadata": {},
     "output_type": "execute_result"
    }
   ],
   "source": [
    "10 is 10"
   ]
  },
  {
   "cell_type": "code",
   "execution_count": 13,
   "id": "2682c31c",
   "metadata": {},
   "outputs": [
    {
     "data": {
      "text/plain": [
       "True"
      ]
     },
     "execution_count": 13,
     "metadata": {},
     "output_type": "execute_result"
    }
   ],
   "source": [
    "1 == 1.0"
   ]
  },
  {
   "cell_type": "code",
   "execution_count": 14,
   "id": "6e4ff891",
   "metadata": {},
   "outputs": [
    {
     "name": "stderr",
     "output_type": "stream",
     "text": [
      "<>:1: SyntaxWarning: \"is\" with a literal. Did you mean \"==\"?\n",
      "<>:1: SyntaxWarning: \"is\" with a literal. Did you mean \"==\"?\n",
      "/var/folders/nz/vk3v33x95bs4kf3ymy0z0my00000gn/T/ipykernel_3211/3336455986.py:1: SyntaxWarning: \"is\" with a literal. Did you mean \"==\"?\n",
      "  1 is 1.0\n"
     ]
    },
    {
     "data": {
      "text/plain": [
       "False"
      ]
     },
     "execution_count": 14,
     "metadata": {},
     "output_type": "execute_result"
    }
   ],
   "source": [
    "1 is 1.0"
   ]
  },
  {
   "cell_type": "code",
   "execution_count": null,
   "id": "5e30d3fc",
   "metadata": {},
   "outputs": [],
   "source": [
    "# ==는 값 자체 비교, is 는 자료형 객체 비교 1은 int, 1.0은 float"
   ]
  },
  {
   "cell_type": "raw",
   "id": "0cbf9d4b",
   "metadata": {},
   "source": [
    "논리 연산자 <>,>= 등\n",
    "and or not"
   ]
  },
  {
   "cell_type": "code",
   "execution_count": 15,
   "id": "9d01db3c",
   "metadata": {},
   "outputs": [
    {
     "data": {
      "text/plain": [
       "(True, False)"
      ]
     },
     "execution_count": 15,
     "metadata": {},
     "output_type": "execute_result"
    }
   ],
   "source": [
    "True, False"
   ]
  },
  {
   "cell_type": "code",
   "execution_count": 16,
   "id": "d20fc4c6",
   "metadata": {},
   "outputs": [
    {
     "data": {
      "text/plain": [
       "True"
      ]
     },
     "execution_count": 16,
     "metadata": {},
     "output_type": "execute_result"
    }
   ],
   "source": [
    "True and True"
   ]
  },
  {
   "cell_type": "code",
   "execution_count": 17,
   "id": "7ab57f18",
   "metadata": {},
   "outputs": [
    {
     "data": {
      "text/plain": [
       "False"
      ]
     },
     "execution_count": 17,
     "metadata": {},
     "output_type": "execute_result"
    }
   ],
   "source": [
    "True and False"
   ]
  },
  {
   "cell_type": "code",
   "execution_count": 18,
   "id": "6438355b",
   "metadata": {},
   "outputs": [
    {
     "data": {
      "text/plain": [
       "False"
      ]
     },
     "execution_count": 18,
     "metadata": {},
     "output_type": "execute_result"
    }
   ],
   "source": [
    "False and True"
   ]
  },
  {
   "cell_type": "code",
   "execution_count": 19,
   "id": "7782985f",
   "metadata": {},
   "outputs": [
    {
     "data": {
      "text/plain": [
       "False"
      ]
     },
     "execution_count": 19,
     "metadata": {},
     "output_type": "execute_result"
    }
   ],
   "source": [
    "False and False"
   ]
  },
  {
   "cell_type": "code",
   "execution_count": 20,
   "id": "f4fdb4ae",
   "metadata": {},
   "outputs": [],
   "source": [
    "# and 다 참이어야 참"
   ]
  },
  {
   "cell_type": "code",
   "execution_count": 21,
   "id": "157f0e4c",
   "metadata": {},
   "outputs": [
    {
     "data": {
      "text/plain": [
       "True"
      ]
     },
     "execution_count": 21,
     "metadata": {},
     "output_type": "execute_result"
    }
   ],
   "source": [
    "True or True"
   ]
  },
  {
   "cell_type": "code",
   "execution_count": 22,
   "id": "c64f8348",
   "metadata": {},
   "outputs": [
    {
     "data": {
      "text/plain": [
       "True"
      ]
     },
     "execution_count": 22,
     "metadata": {},
     "output_type": "execute_result"
    }
   ],
   "source": [
    "True or False"
   ]
  },
  {
   "cell_type": "code",
   "execution_count": 23,
   "id": "bf3d92df",
   "metadata": {},
   "outputs": [
    {
     "data": {
      "text/plain": [
       "True"
      ]
     },
     "execution_count": 23,
     "metadata": {},
     "output_type": "execute_result"
    }
   ],
   "source": [
    "False or True"
   ]
  },
  {
   "cell_type": "code",
   "execution_count": 24,
   "id": "ca41273a",
   "metadata": {},
   "outputs": [
    {
     "data": {
      "text/plain": [
       "False"
      ]
     },
     "execution_count": 24,
     "metadata": {},
     "output_type": "execute_result"
    }
   ],
   "source": [
    "False or False"
   ]
  },
  {
   "cell_type": "code",
   "execution_count": null,
   "id": "c88507b2",
   "metadata": {},
   "outputs": [],
   "source": [
    "# or 하나라도 참이면 참"
   ]
  },
  {
   "cell_type": "raw",
   "id": "69100ced",
   "metadata": {},
   "source": [
    "not: 부정의 개념"
   ]
  },
  {
   "cell_type": "code",
   "execution_count": 25,
   "id": "54ae358f",
   "metadata": {},
   "outputs": [
    {
     "data": {
      "text/plain": [
       "False"
      ]
     },
     "execution_count": 25,
     "metadata": {},
     "output_type": "execute_result"
    }
   ],
   "source": [
    "not True"
   ]
  },
  {
   "cell_type": "code",
   "execution_count": 26,
   "id": "052449ac",
   "metadata": {},
   "outputs": [
    {
     "data": {
      "text/plain": [
       "True"
      ]
     },
     "execution_count": 26,
     "metadata": {},
     "output_type": "execute_result"
    }
   ],
   "source": [
    "not False"
   ]
  },
  {
   "cell_type": "code",
   "execution_count": 27,
   "id": "d6d80a84",
   "metadata": {},
   "outputs": [],
   "source": [
    "#논리 연산자 순서는 and or not 식이 있으면 not and or 순으로 해석"
   ]
  },
  {
   "cell_type": "code",
   "execution_count": 28,
   "id": "e1956109",
   "metadata": {},
   "outputs": [
    {
     "data": {
      "text/plain": [
       "False"
      ]
     },
     "execution_count": 28,
     "metadata": {},
     "output_type": "execute_result"
    }
   ],
   "source": [
    "not True and False and True or not True and False"
   ]
  },
  {
   "cell_type": "code",
   "execution_count": 29,
   "id": "a9453679",
   "metadata": {},
   "outputs": [
    {
     "data": {
      "text/plain": [
       "True"
      ]
     },
     "execution_count": 29,
     "metadata": {},
     "output_type": "execute_result"
    }
   ],
   "source": [
    "((not True) and False) or (not False) # 괄호 우선순위 개념 "
   ]
  },
  {
   "cell_type": "code",
   "execution_count": 30,
   "id": "3cbd5d8b",
   "metadata": {},
   "outputs": [
    {
     "name": "stdout",
     "output_type": "stream",
     "text": [
      "10입니다.\n"
     ]
    }
   ],
   "source": [
    "#확장\n",
    "a = 10\n",
    "if a == 10:\n",
    "    print('10입니다.')"
   ]
  },
  {
   "cell_type": "code",
   "execution_count": null,
   "id": "e44f9005",
   "metadata": {},
   "outputs": [],
   "source": []
  }
 ],
 "metadata": {
  "kernelspec": {
   "display_name": "Python 3 (ipykernel)",
   "language": "python",
   "name": "python3"
  },
  "language_info": {
   "codemirror_mode": {
    "name": "ipython",
    "version": 3
   },
   "file_extension": ".py",
   "mimetype": "text/x-python",
   "name": "python",
   "nbconvert_exporter": "python",
   "pygments_lexer": "ipython3",
   "version": "3.9.13"
  }
 },
 "nbformat": 4,
 "nbformat_minor": 5
}
