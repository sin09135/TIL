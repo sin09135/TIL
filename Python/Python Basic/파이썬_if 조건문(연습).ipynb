{
 "cells": [
  {
   "cell_type": "markdown",
   "id": "ad947321",
   "metadata": {},
   "source": [
    "### 필수과제\n",
    "- 해당 if조건문의 순서를 10개 이상 바꿔\n",
    "- 작동되는 코드를 주석으로 원리를 설명해주세요\n",
    "- x = 10인데 나온 결과에 대해서 왜 이 결과가 나왔는지?"
   ]
  },
  {
   "cell_type": "code",
   "execution_count": 2,
   "id": "a5a37ac3",
   "metadata": {},
   "outputs": [
    {
     "name": "stdout",
     "output_type": "stream",
     "text": [
      "x는 10이다\n"
     ]
    }
   ],
   "source": [
    "#1.if 문 두개 사용\n",
    "\n",
    "x = 10\n",
    "if x == 10:\n",
    "    print('x는 10이다')\n",
    "if x != 10:  \n",
    "    print('x는 10이 아니다')\n",
    "\n",
    "#if조건식이 동일 선상에 있으므로, 두 조건식을 모두 실행한 후, 참인 것만 출력"
   ]
  },
  {
   "cell_type": "code",
   "execution_count": 3,
   "id": "f33f227b",
   "metadata": {},
   "outputs": [
    {
     "name": "stdout",
     "output_type": "stream",
     "text": [
      "x는 10이다\n"
     ]
    }
   ],
   "source": [
    "#2. if, else 사용 -> if문 만족\n",
    "\n",
    "x = 10\n",
    "if x == 10:  \n",
    "    print('x는 10이다')\n",
    "else:  \n",
    "    print('x는 10이 아니다')\n",
    "    \n",
    "#if 조건식에서 참이기 때문에, x는 10이다를 출력하고, else는 건너뜀."
   ]
  },
  {
   "cell_type": "code",
   "execution_count": 5,
   "id": "893e6fc1",
   "metadata": {},
   "outputs": [
    {
     "name": "stdout",
     "output_type": "stream",
     "text": [
      "x는 10이다\n",
      "x는 9보다 크다\n"
     ]
    }
   ],
   "source": [
    "#3. 중첩 if 사용\n",
    "x = 10\n",
    "if x == 10:  \n",
    "    print('x는 10이다')\n",
    "    if x > 9:  \n",
    "        print('x는 9보다 크다')\n",
    "#x = 10이므로, 첫번째 조건식을 만족해서 'x는 10이다' 출력, \n",
    "#이후에 첫번째 조건식을 만족하기 떄문에 중첩 if문을 실행하고, 참이라서 출력\n"
   ]
  },
  {
   "cell_type": "code",
   "execution_count": 6,
   "id": "c4def008",
   "metadata": {},
   "outputs": [
    {
     "name": "stdout",
     "output_type": "stream",
     "text": [
      "x는 11이 아니다\n"
     ]
    }
   ],
   "source": [
    "#4. if, else 사용 -> else문 만족\n",
    "\n",
    "x = 10\n",
    "if x == 11:  \n",
    "    print('x는 11이다')\n",
    "else:  \n",
    "    print('x는 11이 아니다')\n",
    "\n",
    "#x는 11이 아니므로 첫번째 조건식 만족하지 않음. 따라서 else문을 실행"
   ]
  },
  {
   "cell_type": "code",
   "execution_count": 9,
   "id": "ad7c5ccc",
   "metadata": {},
   "outputs": [
    {
     "name": "stdout",
     "output_type": "stream",
     "text": [
      "x는 10,y는 10이다.\n"
     ]
    }
   ],
   "source": [
    "#5. if, and 사용\n",
    "\n",
    "x = 10\n",
    "y = 10\n",
    "\n",
    "if x > 10 and y > 10:\n",
    "    print('x가 10보다 크고, y가 10보다 크다')\n",
    "if x < 10 and y > 10:\n",
    "    print('x가 10보다 작고, y가 10보다 크다')\n",
    "if x > 10 and y < 10:\n",
    "    print('x가 10보다 크고, y가 10보다 작다')   \n",
    "else:\n",
    "    print('x는 10,y는 10이다.')\n",
    "\n",
    "# 첫번째, 두번째, 세번째 if 문 모두 참이 아니므로, else문 프린트"
   ]
  },
  {
   "cell_type": "code",
   "execution_count": 10,
   "id": "9917788c",
   "metadata": {},
   "outputs": [
    {
     "name": "stdout",
     "output_type": "stream",
     "text": [
      "x는 10보다 작거나 같고,y는 10보다 작거나 같다.\n"
     ]
    }
   ],
   "source": [
    "#6. if, or 사용\n",
    "x = 10\n",
    "y = 10\n",
    "\n",
    "if x > 10 or y > 10:\n",
    "    print('x가 10보다 크고, y가 10보다 크다') \n",
    "else:\n",
    "    print('x는 10보다 작거나 같고,y는 10보다 작거나 같다.')\n",
    "\n",
    "#첫번째 if문이 참이 아니므로,else문 프린트"
   ]
  },
  {
   "cell_type": "code",
   "execution_count": 11,
   "id": "c67942a9",
   "metadata": {},
   "outputs": [
    {
     "name": "stdout",
     "output_type": "stream",
     "text": [
      "x와 y는 10이다.\n"
     ]
    }
   ],
   "source": [
    "#7.중첩 if문,and 사용 -> 중첩 if문 참인 경우\n",
    "x = 10\n",
    "y = 10\n",
    "\n",
    "if x >9 and x>9:\n",
    "    if x<11 and y<11:\n",
    "        print('x와 y는 10이다.')\n",
    "else: \n",
    "    print('x,y는 9보다 작거나 같다')\n",
    "    \n",
    "#첫번째 if 조건식을 만족, 중첩 if만족, 프린트문 실행"
   ]
  },
  {
   "cell_type": "code",
   "execution_count": 13,
   "id": "e3b94dd7",
   "metadata": {},
   "outputs": [
    {
     "name": "stdout",
     "output_type": "stream",
     "text": [
      "x,y는 9보다 작거나 같다\n"
     ]
    }
   ],
   "source": [
    "#8.중첩 if문,and 사용 -> else 실행\n",
    "x = 9\n",
    "y = 9\n",
    "\n",
    "if x >9 and x>9:\n",
    "    if x<11 and y<11:\n",
    "        print('x와 y는 10이다.')\n",
    "else: \n",
    "    print('x,y는 9보다 작거나 같다')\n",
    "\n",
    "#x가 if 조건식을 만족하지 않아, 동일선상 else 실행"
   ]
  },
  {
   "cell_type": "code",
   "execution_count": 14,
   "id": "e4bd8099",
   "metadata": {},
   "outputs": [
    {
     "name": "stdout",
     "output_type": "stream",
     "text": [
      "x는 10~14사이에 있다.\n"
     ]
    }
   ],
   "source": [
    "#9. 중첩 if문\n",
    "\n",
    "x = 10\n",
    "if x<20:\n",
    "    if x>=10:\n",
    "        if x<15:\n",
    "            print('x는 10~14사이에 있다.')\n",
    "    else:\n",
    "        print('x는 10보다 작다')\n",
    "else:\n",
    "    print('x는 20보다 크다.')\n",
    "    \n",
    "#x가 10이므로 첫번째 if문이 참이 되고, 중첩 if 문이 모두 참이 됨."
   ]
  },
  {
   "cell_type": "code",
   "execution_count": 15,
   "id": "1c5c6a32",
   "metadata": {},
   "outputs": [
    {
     "name": "stdout",
     "output_type": "stream",
     "text": [
      "x는 20보다 크다.\n"
     ]
    }
   ],
   "source": [
    "#10. 중첩 if문\n",
    "\n",
    "x = 21\n",
    "if x<20:\n",
    "    if x>=10:\n",
    "        if x<15:\n",
    "            print('x는 10~14사이에 있다.')\n",
    "    else:\n",
    "        print('x는 10보다 작다')\n",
    "else:\n",
    "    print('x는 20보다 크다.')\n",
    "\n",
    "#if 문이 참이 아니기 때문에, 바로 동일선상 else 프린트 실행"
   ]
  }
 ],
 "metadata": {
  "kernelspec": {
   "display_name": "Python 3 (ipykernel)",
   "language": "python",
   "name": "python3"
  },
  "language_info": {
   "codemirror_mode": {
    "name": "ipython",
    "version": 3
   },
   "file_extension": ".py",
   "mimetype": "text/x-python",
   "name": "python",
   "nbconvert_exporter": "python",
   "pygments_lexer": "ipython3",
   "version": "3.9.13"
  }
 },
 "nbformat": 4,
 "nbformat_minor": 5
}
