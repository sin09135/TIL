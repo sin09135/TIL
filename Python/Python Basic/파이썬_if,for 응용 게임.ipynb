{
  "nbformat": 4,
  "nbformat_minor": 0,
  "metadata": {
    "colab": {
      "provenance": []
    },
    "kernelspec": {
      "name": "python3",
      "display_name": "Python 3"
    },
    "language_info": {
      "name": "python"
    }
  },
  "cells": [
    {
      "cell_type": "markdown",
      "source": [
        "## 필수과제1\n",
        "- 대문자로만 모두 다 정답을 인식하는 코드를 작성해주세요\n"
      ],
      "metadata": {
        "id": "_Unf3mxu1pft"
      }
    },
    {
      "cell_type": "code",
      "execution_count": null,
      "metadata": {
        "colab": {
          "base_uri": "https://localhost:8080/"
        },
        "id": "IMsUjFOczyqH",
        "outputId": "0883228a-ab5f-470b-aa63-36ca4e40efc1"
      },
      "outputs": [
        {
          "output_type": "stream",
          "name": "stdout",
          "text": [
            "본인이 소속된 BDA 반은 무엇입니까 ? :python문법기초반\n",
            "정답입니다.\n"
          ]
        }
      ],
      "source": [
        "answer = input('본인이 소속된 BDA 반은 무엇입니까 ? :')\n",
        "\n",
        "if answer.upper() ==  'PYTHON문법기초반':\n",
        "  print('정답입니다.')\n",
        "else :\n",
        "  print('오답입니다.')"
      ]
    },
    {
      "cell_type": "markdown",
      "source": [
        "## 필수과제 2\n",
        "- 소문자로만 모두 다 정답을 인식하는 코드를 작성해주세요\n"
      ],
      "metadata": {
        "id": "Ms0xdRod2R37"
      }
    },
    {
      "cell_type": "code",
      "source": [
        "answer = input('본인이 소속된 BDA 반은 무엇입니까 ? :')\n",
        "\n",
        "if answer.lower() ==  'python문법기초반':\n",
        "  print('정답입니다.')\n",
        "else :\n",
        "  print('오답입니다.')"
      ],
      "metadata": {
        "colab": {
          "base_uri": "https://localhost:8080/"
        },
        "id": "zzTeO1SY2IqL",
        "outputId": "c189e39f-c753-45d0-ec69-e14afbfe7965"
      },
      "execution_count": null,
      "outputs": [
        {
          "output_type": "stream",
          "name": "stdout",
          "text": [
            "본인이 소속된 BDA 반은 무엇입니까 ? :PYthon문법기초반\n",
            "정답입니다.\n"
          ]
        }
      ]
    },
    {
      "cell_type": "markdown",
      "source": [
        "## 필수과제3\n",
        "- input 예시 Python  문법 기초 반 -> 정답 : Python문법기초반 정답을 인식해 주는 코드"
      ],
      "metadata": {
        "id": "fQBOkdYE2q3o"
      }
    },
    {
      "cell_type": "code",
      "source": [
        "answer = input('본인이 소속된 BDA 반은 무엇입니까 ? :')\n",
        "\n",
        "if answer.replace(' ','').lower() ==  'python문법기초반':\n",
        "  print('정답입니다.')\n",
        "else :\n",
        "  print('오답입니다.')"
      ],
      "metadata": {
        "colab": {
          "base_uri": "https://localhost:8080/"
        },
        "id": "HPpN0xnO2vWq",
        "outputId": "bf290e2f-d52a-4604-a95f-79c6f63ad46b"
      },
      "execution_count": null,
      "outputs": [
        {
          "output_type": "stream",
          "name": "stdout",
          "text": [
            "본인이 소속된 BDA 반은 무엇입니까 ? :Python 문법 기초 반\n",
            "정답입니다.\n"
          ]
        }
      ]
    },
    {
      "cell_type": "markdown",
      "source": [
        "## 필수과제4\n",
        "- for i in range(4):\n",
        "    print(q1[i])\n",
        "    ans = input()\n",
        "    if ans ==a1[i]:\n",
        "        print('정답입니다.')\n",
        "    else:\n",
        "        print('틀렸습니다.')\n",
        "    #print(a1[i])\n",
        "- 위의 코드를 추가 수정하여서\n",
        "- 여러분들이 다양한 정답을 만들어 보시고 복수 정답을 선택했을 때 동일하게 정답이라고 나오는 코드를 만들어 주세요!\n"
      ],
      "metadata": {
        "id": "kKKIPJcf284_"
      }
    },
    {
      "cell_type": "code",
      "source": [
        "q1 = ['당신의 bda 6기 반은 무슨 반입니까?',\n",
        "     '당신은 벌점이 몇 점 입니까?',\n",
        "     '당신은 이번 Google 컨퍼런스에 참석하십니까?(yes/no)',\n",
        "     '오늘 수업 즐겁네요.']\n",
        "a1 = ['파문기','0','yes','yes']\n",
        "\n",
        "for i in range(4):\n",
        "  print(q1[i])\n",
        "  ans = input()\n",
        "  if ans.replace(' ','').lower() ==a1[i]:\n",
        "    print('정답입니다.')\n",
        "  else: print('틀렸습니다.')"
      ],
      "metadata": {
        "colab": {
          "base_uri": "https://localhost:8080/"
        },
        "id": "XQFYqCKB3fOi",
        "outputId": "0b591068-c7a7-492a-86a2-2c4766032f59"
      },
      "execution_count": 1,
      "outputs": [
        {
          "output_type": "stream",
          "name": "stdout",
          "text": [
            "당신의 bda 6기 반은 무슨 반입니까?\n",
            "파 문 기\n",
            "정답입니다.\n",
            "당신은 벌점이 몇 점 입니까?\n",
            "0\n",
            "정답입니다.\n",
            "당신은 이번 Google 컨퍼런스에 참석하십니까?(yes/no)\n",
            "yes\n",
            "정답입니다.\n",
            "오늘 수업 즐겁네요.\n",
            "y e s\n",
            "정답입니다.\n"
          ]
        }
      ]
    }
  ]
}