{
 "cells": [
  {
   "cell_type": "markdown",
   "id": "f45ddb72",
   "metadata": {},
   "source": [
    "## 코딩테스트 과제"
   ]
  },
  {
   "cell_type": "markdown",
   "id": "66e20fdd",
   "metadata": {},
   "source": [
    "### 1. 동전이 앞면인지, 뒷면인지에 따라서 앞면이면 '용돈', 뒷면이면 '용돈없음'을 풀력하는 코드를 만들어주세요.\n",
    "- 동전 앞 뒷면은 랜덤으로 출력"
   ]
  },
  {
   "cell_type": "code",
   "execution_count": 7,
   "id": "ef62cca7",
   "metadata": {},
   "outputs": [],
   "source": [
    "from random import *"
   ]
  },
  {
   "cell_type": "code",
   "execution_count": 13,
   "id": "d798648c",
   "metadata": {},
   "outputs": [
    {
     "name": "stdout",
     "output_type": "stream",
     "text": [
      "용돈없음\n"
     ]
    }
   ],
   "source": [
    "# 0을 앞면, 1을 뒷면으로 가정\n",
    "\n",
    "a = randrange(0,2)\n",
    "if a == 0:\n",
    "    print(\"용돈\")\n",
    "else:\n",
    "    print(\"용돈없음\")"
   ]
  },
  {
   "cell_type": "markdown",
   "id": "7336f58a",
   "metadata": {},
   "source": [
    "### 2. BDA 회원가입 ID 확인 코드\n",
    "- 회원가입할 아이디를 리스트 안에 여러개 만들어 두고 유저가 아이디 입력 시 잘목 입력하게 되면 아이디를 찾을 수 없습니다. 아이디가 맞으면 반갑습니다! 라고 출력하는 코드를 작성해주세요. ( 아이디는 5개 이상 )"
   ]
  },
  {
   "cell_type": "code",
   "execution_count": 54,
   "id": "e4459d50",
   "metadata": {},
   "outputs": [
    {
     "name": "stdout",
     "output_type": "stream",
     "text": [
      "아이디를 입력하세요: aaaa\n",
      "아이디를 찾을 수 없습니다.\n"
     ]
    }
   ],
   "source": [
    "def check_id(userid):\n",
    "    id = ['ab1234', 'ac1234', 'ad1234', 'ae1234', 'af1234']\n",
    "\n",
    "    if userid in id:\n",
    "        print('반갑습니다!')\n",
    "    else:\n",
    "        print('아이디를 찾을 수 없습니다.')\n",
    "\n",
    "\n",
    "username_input = input('아이디를 입력하세요: ')\n",
    "check_id(username_input)"
   ]
  },
  {
   "cell_type": "markdown",
   "id": "63e9da3a",
   "metadata": {},
   "source": [
    "### 3. 1부터 숫자를 하나씩 증가시키면서 몇을 더할 때 2537을 넘는지 구해주세요. 그리고 그때의 값도 출력해주세요 \n",
    "- ex) 000을 더할 때 2537을 넘으며 그때의 값은 0000입니다."
   ]
  },
  {
   "cell_type": "code",
   "execution_count": 36,
   "id": "f026f65b",
   "metadata": {},
   "outputs": [
    {
     "name": "stdout",
     "output_type": "stream",
     "text": [
      "71 를 더할 때 2537을 넘으며 그때의 값은  2556 입니다.\n"
     ]
    }
   ],
   "source": [
    "i = 0\n",
    "j = 0\n",
    "while True:\n",
    "    if j > 2537:\n",
    "        print(i,'를 더할 때 2537을 넘으며 그때의 값은 ',j,'입니다.')\n",
    "        break\n",
    "    i += 1\n",
    "    j += i"
   ]
  }
 ],
 "metadata": {
  "kernelspec": {
   "display_name": "Python 3 (ipykernel)",
   "language": "python",
   "name": "python3"
  },
  "language_info": {
   "codemirror_mode": {
    "name": "ipython",
    "version": 3
   },
   "file_extension": ".py",
   "mimetype": "text/x-python",
   "name": "python",
   "nbconvert_exporter": "python",
   "pygments_lexer": "ipython3",
   "version": "3.9.13"
  }
 },
 "nbformat": 4,
 "nbformat_minor": 5
}
