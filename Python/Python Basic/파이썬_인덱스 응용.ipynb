{
 "cells": [
  {
   "cell_type": "markdown",
   "id": "1ca97946",
   "metadata": {},
   "source": [
    "## 필수과제1. 인덱스 응용 튜플에 적용하기\n",
    "- 에러 확인\n",
    "- 에러 이유 확인"
   ]
  },
  {
   "cell_type": "code",
   "execution_count": 2,
   "id": "831fd748",
   "metadata": {},
   "outputs": [],
   "source": [
    "#1. 인덱스 할당, 순서 확인\n",
    "a = 1,2,3,4,5"
   ]
  },
  {
   "cell_type": "code",
   "execution_count": 3,
   "id": "c630cad2",
   "metadata": {},
   "outputs": [
    {
     "data": {
      "text/plain": [
       "1"
      ]
     },
     "execution_count": 3,
     "metadata": {},
     "output_type": "execute_result"
    }
   ],
   "source": [
    "a[0]"
   ]
  },
  {
   "cell_type": "code",
   "execution_count": 4,
   "id": "d7daa8a9",
   "metadata": {},
   "outputs": [
    {
     "data": {
      "text/plain": [
       "5"
      ]
     },
     "execution_count": 4,
     "metadata": {},
     "output_type": "execute_result"
    }
   ],
   "source": [
    "#2. 인덱스 조절\n",
    "a[-1]"
   ]
  },
  {
   "cell_type": "code",
   "execution_count": 5,
   "id": "7e887a76",
   "metadata": {},
   "outputs": [
    {
     "data": {
      "text/plain": [
       "5"
      ]
     },
     "execution_count": 5,
     "metadata": {},
     "output_type": "execute_result"
    }
   ],
   "source": [
    "#3. len 함수로 마지막 요소에 접근\n",
    "len(a)"
   ]
  },
  {
   "cell_type": "code",
   "execution_count": 6,
   "id": "bce11efb",
   "metadata": {},
   "outputs": [
    {
     "data": {
      "text/plain": [
       "5"
      ]
     },
     "execution_count": 6,
     "metadata": {},
     "output_type": "execute_result"
    }
   ],
   "source": [
    "a[len(a)-1]"
   ]
  },
  {
   "cell_type": "code",
   "execution_count": 7,
   "id": "258ced4b",
   "metadata": {},
   "outputs": [
    {
     "ename": "TypeError",
     "evalue": "'tuple' object does not support item assignment",
     "output_type": "error",
     "traceback": [
      "\u001b[0;31m---------------------------------------------------------------------------\u001b[0m",
      "\u001b[0;31mTypeError\u001b[0m                                 Traceback (most recent call last)",
      "\u001b[0;32m/var/folders/nz/vk3v33x95bs4kf3ymy0z0my00000gn/T/ipykernel_848/2670390266.py\u001b[0m in \u001b[0;36m<module>\u001b[0;34m\u001b[0m\n\u001b[1;32m      1\u001b[0m \u001b[0;31m#4. 인덱스 기준으로 값 할당 - > 에러남\u001b[0m\u001b[0;34m\u001b[0m\u001b[0;34m\u001b[0m\u001b[0m\n\u001b[0;32m----> 2\u001b[0;31m \u001b[0ma\u001b[0m\u001b[0;34m[\u001b[0m\u001b[0;36m2\u001b[0m\u001b[0;34m]\u001b[0m \u001b[0;34m=\u001b[0m \u001b[0;36m30\u001b[0m\u001b[0;34m\u001b[0m\u001b[0;34m\u001b[0m\u001b[0m\n\u001b[0m",
      "\u001b[0;31mTypeError\u001b[0m: 'tuple' object does not support item assignment"
     ]
    }
   ],
   "source": [
    "#4. 인덱스 기준으로 값 할당 - > 에러남\n",
    "a[2] = 30"
   ]
  },
  {
   "cell_type": "code",
   "execution_count": 8,
   "id": "2c0b3c6a",
   "metadata": {},
   "outputs": [],
   "source": [
    "# 에러 이유 : 튜플은 읽기전용 자료, 값을 변경할 수 없음"
   ]
  },
  {
   "cell_type": "code",
   "execution_count": 9,
   "id": "6c135776",
   "metadata": {},
   "outputs": [
    {
     "ename": "TypeError",
     "evalue": "'tuple' object doesn't support item deletion",
     "output_type": "error",
     "traceback": [
      "\u001b[0;31m---------------------------------------------------------------------------\u001b[0m",
      "\u001b[0;31mTypeError\u001b[0m                                 Traceback (most recent call last)",
      "\u001b[0;32m/var/folders/nz/vk3v33x95bs4kf3ymy0z0my00000gn/T/ipykernel_848/1105283863.py\u001b[0m in \u001b[0;36m<module>\u001b[0;34m\u001b[0m\n\u001b[1;32m      1\u001b[0m \u001b[0;31m#5. 인덱스 삭제 -> 에러\u001b[0m\u001b[0;34m\u001b[0m\u001b[0;34m\u001b[0m\u001b[0m\n\u001b[0;32m----> 2\u001b[0;31m \u001b[0;32mdel\u001b[0m \u001b[0ma\u001b[0m\u001b[0;34m[\u001b[0m\u001b[0;36m3\u001b[0m\u001b[0;34m]\u001b[0m\u001b[0;34m\u001b[0m\u001b[0;34m\u001b[0m\u001b[0m\n\u001b[0m",
      "\u001b[0;31mTypeError\u001b[0m: 'tuple' object doesn't support item deletion"
     ]
    }
   ],
   "source": [
    "#5. 인덱스 삭제 -> 에러\n",
    "del a[3]"
   ]
  },
  {
   "cell_type": "code",
   "execution_count": 10,
   "id": "043e5d30",
   "metadata": {},
   "outputs": [],
   "source": [
    "# 에러 이유 : 튜플은 읽기전용 자료, 값을 변경할 수 없음"
   ]
  },
  {
   "cell_type": "code",
   "execution_count": 11,
   "id": "22dfacb2",
   "metadata": {},
   "outputs": [
    {
     "data": {
      "text/plain": [
       "(1, 2, 3)"
      ]
     },
     "execution_count": 11,
     "metadata": {},
     "output_type": "execute_result"
    }
   ],
   "source": [
    "#6. 슬라이스 사용\n",
    "a[0:3]"
   ]
  },
  {
   "cell_type": "code",
   "execution_count": 12,
   "id": "cd357917",
   "metadata": {},
   "outputs": [
    {
     "data": {
      "text/plain": [
       "(3, 4)"
      ]
     },
     "execution_count": 12,
     "metadata": {},
     "output_type": "execute_result"
    }
   ],
   "source": [
    "a[2:-1]"
   ]
  },
  {
   "cell_type": "code",
   "execution_count": 13,
   "id": "a3484705",
   "metadata": {},
   "outputs": [
    {
     "data": {
      "text/plain": [
       "(1, 2, 3, 4, 5)"
      ]
     },
     "execution_count": 13,
     "metadata": {},
     "output_type": "execute_result"
    }
   ],
   "source": [
    "a[::]"
   ]
  }
 ],
 "metadata": {
  "kernelspec": {
   "display_name": "Python 3 (ipykernel)",
   "language": "python",
   "name": "python3"
  },
  "language_info": {
   "codemirror_mode": {
    "name": "ipython",
    "version": 3
   },
   "file_extension": ".py",
   "mimetype": "text/x-python",
   "name": "python",
   "nbconvert_exporter": "python",
   "pygments_lexer": "ipython3",
   "version": "3.9.13"
  }
 },
 "nbformat": 4,
 "nbformat_minor": 5
}
