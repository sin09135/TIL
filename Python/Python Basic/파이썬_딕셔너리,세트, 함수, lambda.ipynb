{
 "cells": [
  {
   "cell_type": "markdown",
   "id": "2e7d552d",
   "metadata": {},
   "source": [
    "## 딕셔너리 반복문"
   ]
  },
  {
   "cell_type": "code",
   "execution_count": 1,
   "id": "9ff38024",
   "metadata": {},
   "outputs": [],
   "source": [
    "x = {'a': '사과', 'b':'딱딱한 복숭아', 'c':'딸기'}"
   ]
  },
  {
   "cell_type": "code",
   "execution_count": 3,
   "id": "8c54cae5",
   "metadata": {},
   "outputs": [
    {
     "data": {
      "text/plain": [
       "{'a': '사과', 'b': '딱딱한 복숭아', 'c': '딸기'}"
      ]
     },
     "execution_count": 3,
     "metadata": {},
     "output_type": "execute_result"
    }
   ],
   "source": [
    "x"
   ]
  },
  {
   "cell_type": "code",
   "execution_count": 5,
   "id": "f12f0667",
   "metadata": {},
   "outputs": [
    {
     "name": "stdout",
     "output_type": "stream",
     "text": [
      "a\n",
      "b\n",
      "c\n"
     ]
    }
   ],
   "source": [
    "# key 만 나옴\n",
    "for i in x:\n",
    "    print(i)"
   ]
  },
  {
   "cell_type": "code",
   "execution_count": 8,
   "id": "99d455f9",
   "metadata": {},
   "outputs": [
    {
     "name": "stdout",
     "output_type": "stream",
     "text": [
      "a 사과\n",
      "b 딱딱한 복숭아\n",
      "c 딸기\n"
     ]
    }
   ],
   "source": [
    "#.items 이용해서 key, value 출력\n",
    "\n",
    "for key, value in x.items():\n",
    "    print(key,value)\n"
   ]
  },
  {
   "cell_type": "code",
   "execution_count": 9,
   "id": "e94f6cf1",
   "metadata": {},
   "outputs": [
    {
     "name": "stdout",
     "output_type": "stream",
     "text": [
      "a\n",
      "b\n",
      "c\n"
     ]
    }
   ],
   "source": [
    "# .keys 이용해서 키값 출력\n",
    "for key in x.keys():\n",
    "    print(key)"
   ]
  },
  {
   "cell_type": "code",
   "execution_count": 10,
   "id": "15d2ddc4",
   "metadata": {},
   "outputs": [
    {
     "name": "stdout",
     "output_type": "stream",
     "text": [
      "사과\n",
      "딱딱한 복숭아\n",
      "딸기\n"
     ]
    }
   ],
   "source": [
    "# values 이용해서 값만 출력\n",
    "for value in x.values():\n",
    "    print(value)"
   ]
  },
  {
   "cell_type": "code",
   "execution_count": 12,
   "id": "d12eb550",
   "metadata": {},
   "outputs": [
    {
     "name": "stdout",
     "output_type": "stream",
     "text": [
      "c\n"
     ]
    }
   ],
   "source": [
    "# 조건문 : value 값이 딸기의 키값 출력\n",
    "for key,value in x.items():\n",
    "    if value == '딸기':\n",
    "        print(key)"
   ]
  },
  {
   "cell_type": "code",
   "execution_count": 13,
   "id": "7bb747cf",
   "metadata": {},
   "outputs": [
    {
     "data": {
      "text/plain": [
       "{'a': '사과', 'b': '딱딱한 복숭아', 'c': '딸기'}"
      ]
     },
     "execution_count": 13,
     "metadata": {},
     "output_type": "execute_result"
    }
   ],
   "source": [
    "x"
   ]
  },
  {
   "cell_type": "code",
   "execution_count": 14,
   "id": "87afb4eb",
   "metadata": {},
   "outputs": [],
   "source": [
    "# value 값이 딸기가 아닌 key, value 값만 남기기\n",
    "x = {key : value for key,value in x.items() if value != '딸기'}"
   ]
  },
  {
   "cell_type": "code",
   "execution_count": 16,
   "id": "1ce13d1a",
   "metadata": {},
   "outputs": [
    {
     "data": {
      "text/plain": [
       "{'a': '사과', 'b': '딱딱한 복숭아'}"
      ]
     },
     "execution_count": 16,
     "metadata": {},
     "output_type": "execute_result"
    }
   ],
   "source": [
    "x"
   ]
  },
  {
   "cell_type": "markdown",
   "id": "67ef7b32",
   "metadata": {},
   "source": [
    "## 세트 set\n",
    "- 세트 = 집합,세트의 성질은 중복을 제거한다"
   ]
  },
  {
   "cell_type": "code",
   "execution_count": 17,
   "id": "1c789a81",
   "metadata": {},
   "outputs": [
    {
     "data": {
      "text/plain": [
       "{'말티즈', '비숑', '진돗개', '프렌치불독'}"
      ]
     },
     "execution_count": 17,
     "metadata": {},
     "output_type": "execute_result"
    }
   ],
   "source": [
    "dog = {'프렌치불독','말티즈','비숑', '진돗개','프렌치불독'}\n",
    "dog"
   ]
  },
  {
   "cell_type": "code",
   "execution_count": 18,
   "id": "b69d29e7",
   "metadata": {},
   "outputs": [],
   "source": [
    "add_dog = []\n",
    "for i in dog:\n",
    "    add_dog.append(i)"
   ]
  },
  {
   "cell_type": "code",
   "execution_count": 19,
   "id": "59b6db27",
   "metadata": {},
   "outputs": [
    {
     "data": {
      "text/plain": [
       "['프렌치불독', '비숑', '진돗개', '말티즈']"
      ]
     },
     "execution_count": 19,
     "metadata": {},
     "output_type": "execute_result"
    }
   ],
   "source": [
    "add_dog # 리스트"
   ]
  },
  {
   "cell_type": "code",
   "execution_count": 20,
   "id": "45d4fbb5",
   "metadata": {},
   "outputs": [
    {
     "data": {
      "text/plain": [
       "{'말티즈', '비숑', '진돗개', '프렌치불독'}"
      ]
     },
     "execution_count": 20,
     "metadata": {},
     "output_type": "execute_result"
    }
   ],
   "source": [
    "set(add_dog) #중복값 제거"
   ]
  },
  {
   "cell_type": "code",
   "execution_count": 21,
   "id": "93741599",
   "metadata": {},
   "outputs": [],
   "source": [
    "shop1 = {'말티즈', '비숑', '진돗개', '프렌치불독'}\n",
    "shop2 = {'프렌치불독', '잉글리시 불독', '아메리칸 쉽독', '보스턴 테리어'}"
   ]
  },
  {
   "cell_type": "code",
   "execution_count": 22,
   "id": "a249af30",
   "metadata": {},
   "outputs": [
    {
     "data": {
      "text/plain": [
       "{'말티즈', '보스턴 테리어', '비숑', '아메리칸 쉽독', '잉글리시 불독', '진돗개', '프렌치불독'}"
      ]
     },
     "execution_count": 22,
     "metadata": {},
     "output_type": "execute_result"
    }
   ],
   "source": [
    "shop1 | shop2 #합집합"
   ]
  },
  {
   "cell_type": "code",
   "execution_count": 23,
   "id": "f5400b36",
   "metadata": {},
   "outputs": [
    {
     "data": {
      "text/plain": [
       "{'프렌치불독'}"
      ]
     },
     "execution_count": 23,
     "metadata": {},
     "output_type": "execute_result"
    }
   ],
   "source": [
    "shop1 & shop2 #교집합"
   ]
  },
  {
   "cell_type": "markdown",
   "id": "1383df2f",
   "metadata": {},
   "source": [
    "## 함수 def\n",
    "- 반복되는 경우나, 길어지는 경우 계속 동일한 하나의 코드를 사용하기에는 에러날 확룰이 높다.\n",
    "- 한번 만들어 놓고 계속 쓰는 구조가 함수\n",
    "- def 함수 이름(매개변수):\n",
    "    - 코드"
   ]
  },
  {
   "cell_type": "code",
   "execution_count": 26,
   "id": "4cf96b33",
   "metadata": {},
   "outputs": [],
   "source": [
    "def Cal(a,b):\n",
    "    return a + b"
   ]
  },
  {
   "cell_type": "code",
   "execution_count": 27,
   "id": "c6962485",
   "metadata": {},
   "outputs": [
    {
     "data": {
      "text/plain": [
       "5"
      ]
     },
     "execution_count": 27,
     "metadata": {},
     "output_type": "execute_result"
    }
   ],
   "source": [
    "Cal(2,3)"
   ]
  },
  {
   "cell_type": "code",
   "execution_count": 28,
   "id": "71176a5f",
   "metadata": {},
   "outputs": [],
   "source": [
    "def hello():\n",
    "    print('안녕하세요')\n",
    "    print('니하오')\n",
    "    print('헬로')\n"
   ]
  },
  {
   "cell_type": "code",
   "execution_count": 29,
   "id": "3c2d8175",
   "metadata": {},
   "outputs": [
    {
     "name": "stdout",
     "output_type": "stream",
     "text": [
      "안녕하세요\n",
      "니하오\n",
      "헬로\n"
     ]
    }
   ],
   "source": [
    "hello()"
   ]
  },
  {
   "cell_type": "code",
   "execution_count": 30,
   "id": "7d566368",
   "metadata": {},
   "outputs": [],
   "source": [
    "# 반환값을 꺼내오고 싶은 경우 return\n",
    "def cal(a,b):\n",
    "    return a*b"
   ]
  },
  {
   "cell_type": "code",
   "execution_count": 31,
   "id": "ebbe4083",
   "metadata": {},
   "outputs": [
    {
     "data": {
      "text/plain": [
       "4"
      ]
     },
     "execution_count": 31,
     "metadata": {},
     "output_type": "execute_result"
    }
   ],
   "source": [
    "cal(1,4)"
   ]
  },
  {
   "cell_type": "code",
   "execution_count": 32,
   "id": "2a754d3c",
   "metadata": {},
   "outputs": [],
   "source": [
    "# 반환값 여려개 가능\n",
    "def cal(a,b):\n",
    "    return a + b, a - b, a * b"
   ]
  },
  {
   "cell_type": "code",
   "execution_count": 33,
   "id": "0b55e5ab",
   "metadata": {},
   "outputs": [
    {
     "data": {
      "text/plain": [
       "(7, -3, 10)"
      ]
     },
     "execution_count": 33,
     "metadata": {},
     "output_type": "execute_result"
    }
   ],
   "source": [
    "cal(2,5)"
   ]
  },
  {
   "cell_type": "markdown",
   "id": "f4cd0e5d",
   "metadata": {},
   "source": [
    "## lambda\n",
    "- 함수를 간편하게 작성\n",
    "- 간결하게 만들 수 있음"
   ]
  },
  {
   "cell_type": "code",
   "execution_count": 36,
   "id": "adf737d2",
   "metadata": {},
   "outputs": [],
   "source": [
    "def mul(a,b):\n",
    "    return a**b"
   ]
  },
  {
   "cell_type": "code",
   "execution_count": 37,
   "id": "807748a6",
   "metadata": {},
   "outputs": [
    {
     "data": {
      "text/plain": [
       "8"
      ]
     },
     "execution_count": 37,
     "metadata": {},
     "output_type": "execute_result"
    }
   ],
   "source": [
    "mul(2,3) #2의 세제곱 = 8"
   ]
  },
  {
   "cell_type": "code",
   "execution_count": 38,
   "id": "5ba69b85",
   "metadata": {},
   "outputs": [],
   "source": [
    "# 람다로 만들기 lambda 매개변수들 : 식\n",
    "\n",
    "mul_lam = lambda a , b : a**b"
   ]
  },
  {
   "cell_type": "code",
   "execution_count": 39,
   "id": "40c83dac",
   "metadata": {},
   "outputs": [
    {
     "data": {
      "text/plain": [
       "8"
      ]
     },
     "execution_count": 39,
     "metadata": {},
     "output_type": "execute_result"
    }
   ],
   "source": [
    "mul_lam(2,3)"
   ]
  },
  {
   "cell_type": "markdown",
   "id": "b894d152",
   "metadata": {},
   "source": [
    "### lambda 표현식 자체로 출력하기"
   ]
  },
  {
   "cell_type": "code",
   "execution_count": 41,
   "id": "39bccff3",
   "metadata": {},
   "outputs": [
    {
     "data": {
      "text/plain": [
       "8"
      ]
     },
     "execution_count": 41,
     "metadata": {},
     "output_type": "execute_result"
    }
   ],
   "source": [
    "(lambda a: a - 2)(10)"
   ]
  },
  {
   "cell_type": "code",
   "execution_count": 44,
   "id": "04b561aa",
   "metadata": {},
   "outputs": [],
   "source": [
    "# map, list 활용\n",
    "a = set(map((lambda a: a*2),[1,2,3]))"
   ]
  },
  {
   "cell_type": "code",
   "execution_count": 45,
   "id": "cea43461",
   "metadata": {},
   "outputs": [
    {
     "data": {
      "text/plain": [
       "{2, 4, 6}"
      ]
     },
     "execution_count": 45,
     "metadata": {},
     "output_type": "execute_result"
    }
   ],
   "source": [
    "a"
   ]
  }
 ],
 "metadata": {
  "kernelspec": {
   "display_name": "Python 3 (ipykernel)",
   "language": "python",
   "name": "python3"
  },
  "language_info": {
   "codemirror_mode": {
    "name": "ipython",
    "version": 3
   },
   "file_extension": ".py",
   "mimetype": "text/x-python",
   "name": "python",
   "nbconvert_exporter": "python",
   "pygments_lexer": "ipython3",
   "version": "3.9.13"
  }
 },
 "nbformat": 4,
 "nbformat_minor": 5
}
