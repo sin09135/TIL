{
  "nbformat": 4,
  "nbformat_minor": 0,
  "metadata": {
    "colab": {
      "provenance": []
    },
    "kernelspec": {
      "name": "python3",
      "display_name": "Python 3"
    },
    "language_info": {
      "name": "python"
    }
  },
  "cells": [
    {
      "cell_type": "markdown",
      "source": [
        "## 리스트와 튜플 응용\n",
        "- append : 요소 추가\n",
        "- extend : 리스트 연결 확장\n",
        "- insert : 특정 인덱스 요소 추가\n",
        "- pop : 마지막 요소 또는 특정 인덱스 요소 삭제\n",
        "- remove: 특정 값 찾아서 삭제\n",
        "- del : 전체 삭제\n",
        "- index : 특정 값의 인덱스 구하기\n",
        "- count : 특정 값의 개수 구하기\n",
        "- reverse : 순서 뒤집기\n",
        "- sort : 정렬 (reverse=False) 오름차순,sort(reverse=True) 내림차순\n",
        "- clear : 리스트 모든 요소 삭제\n",
        "- copy : 복사 (다른 메모리 사용)"
      ],
      "metadata": {
        "id": "l4UvpGQRvh9l"
      }
    },
    {
      "cell_type": "code",
      "source": [
        "a = [1,2,3,4,5]"
      ],
      "metadata": {
        "id": "vJSYoFbZvwHx"
      },
      "execution_count": 1,
      "outputs": []
    },
    {
      "cell_type": "code",
      "source": [
        "#append : 맨 뒤에 인덱스값 추가\n",
        "a.append(6)\n",
        "a"
      ],
      "metadata": {
        "colab": {
          "base_uri": "https://localhost:8080/"
        },
        "id": "N0T2749Uv1FS",
        "outputId": "853dc5d9-c5a9-4bc2-b86d-a05eccd06ca6"
      },
      "execution_count": 2,
      "outputs": [
        {
          "output_type": "execute_result",
          "data": {
            "text/plain": [
              "[1, 2, 3, 4, 5, 6]"
            ]
          },
          "metadata": {},
          "execution_count": 2
        }
      ]
    },
    {
      "cell_type": "code",
      "source": [
        "#extend : 리스트 연결 확장(평탄화)\n",
        "a.extend([10,20])\n",
        "a"
      ],
      "metadata": {
        "colab": {
          "base_uri": "https://localhost:8080/"
        },
        "id": "IXwE5tkqv4xf",
        "outputId": "67fa5211-7f05-432b-82a4-388dffaebb1b"
      },
      "execution_count": 3,
      "outputs": [
        {
          "output_type": "execute_result",
          "data": {
            "text/plain": [
              "[1, 2, 3, 4, 5, 6, 10, 20]"
            ]
          },
          "metadata": {},
          "execution_count": 3
        }
      ]
    },
    {
      "cell_type": "code",
      "source": [
        "#insert : 원하는 인덱스에 값 넣기\n",
        "a.insert(0,0)\n",
        "a"
      ],
      "metadata": {
        "colab": {
          "base_uri": "https://localhost:8080/"
        },
        "id": "_sMjtC4lv6ai",
        "outputId": "2925434f-d54f-40d9-efba-4932fc6f11f6"
      },
      "execution_count": 4,
      "outputs": [
        {
          "output_type": "execute_result",
          "data": {
            "text/plain": [
              "[0, 1, 2, 3, 4, 5, 6, 10, 20]"
            ]
          },
          "metadata": {},
          "execution_count": 4
        }
      ]
    },
    {
      "cell_type": "code",
      "source": [
        "#pop : 마지막 요소 또는 특정 인덱스 삭제\n",
        "a.pop(1)\n",
        "a"
      ],
      "metadata": {
        "colab": {
          "base_uri": "https://localhost:8080/"
        },
        "id": "fPIm5uvcwgXx",
        "outputId": "8d15aa99-c5df-4f99-f886-6ad955948ca9"
      },
      "execution_count": 5,
      "outputs": [
        {
          "output_type": "execute_result",
          "data": {
            "text/plain": [
              "[0, 2, 3, 4, 5, 6, 10, 20]"
            ]
          },
          "metadata": {},
          "execution_count": 5
        }
      ]
    },
    {
      "cell_type": "code",
      "source": [
        "#remove : 특정 값 삭제\n",
        "a.remove(0)\n",
        "a"
      ],
      "metadata": {
        "colab": {
          "base_uri": "https://localhost:8080/"
        },
        "id": "TqhBFccwwpVa",
        "outputId": "52417764-7d5b-44ab-be8c-0a1d1117b545"
      },
      "execution_count": 6,
      "outputs": [
        {
          "output_type": "execute_result",
          "data": {
            "text/plain": [
              "[2, 3, 4, 5, 6, 10, 20]"
            ]
          },
          "metadata": {},
          "execution_count": 6
        }
      ]
    },
    {
      "cell_type": "code",
      "source": [
        "#del : 전체 삭제 (슬라이싱 가능)\n",
        "del a"
      ],
      "metadata": {
        "id": "8DVWzKiNxAQ0"
      },
      "execution_count": 7,
      "outputs": []
    },
    {
      "cell_type": "code",
      "source": [
        "a = [1,2,3,4,5]"
      ],
      "metadata": {
        "id": "BEWeAKw5xLVe"
      },
      "execution_count": 8,
      "outputs": []
    },
    {
      "cell_type": "code",
      "source": [
        "#index : 특정 값의 인덱스 구하기\n",
        "a.index(1)"
      ],
      "metadata": {
        "colab": {
          "base_uri": "https://localhost:8080/"
        },
        "id": "qSNEIxU3x5VR",
        "outputId": "69a8fd75-7c48-435c-a63d-c80f9680ea85"
      },
      "execution_count": 9,
      "outputs": [
        {
          "output_type": "execute_result",
          "data": {
            "text/plain": [
              "0"
            ]
          },
          "metadata": {},
          "execution_count": 9
        }
      ]
    },
    {
      "cell_type": "code",
      "source": [
        "#count : 특정 값의 개수\n",
        "a.count(1)"
      ],
      "metadata": {
        "colab": {
          "base_uri": "https://localhost:8080/"
        },
        "id": "mHSh_gAcx9ry",
        "outputId": "c5391a68-96ba-494f-803f-912c339ae6ce"
      },
      "execution_count": 10,
      "outputs": [
        {
          "output_type": "execute_result",
          "data": {
            "text/plain": [
              "1"
            ]
          },
          "metadata": {},
          "execution_count": 10
        }
      ]
    },
    {
      "cell_type": "code",
      "source": [
        "#reverse : 순서 뒤집기\n",
        "a.reverse()"
      ],
      "metadata": {
        "id": "qmmq42WByFX5"
      },
      "execution_count": 11,
      "outputs": []
    },
    {
      "cell_type": "code",
      "source": [
        "#sort : 정렬\n",
        "a.sort(reverse = True) #오름차순\n",
        "a"
      ],
      "metadata": {
        "colab": {
          "base_uri": "https://localhost:8080/"
        },
        "id": "FnpsSAd_yLSb",
        "outputId": "b8bcb0e9-4bb1-4994-d932-8892d94dbf29"
      },
      "execution_count": 12,
      "outputs": [
        {
          "output_type": "execute_result",
          "data": {
            "text/plain": [
              "[5, 4, 3, 2, 1]"
            ]
          },
          "metadata": {},
          "execution_count": 12
        }
      ]
    },
    {
      "cell_type": "code",
      "source": [
        "#clear : 리스트 모든 요소 삭제\n",
        "a.clear()"
      ],
      "metadata": {
        "id": "bKriN7IayQWp"
      },
      "execution_count": 13,
      "outputs": []
    },
    {
      "cell_type": "code",
      "source": [
        "a"
      ],
      "metadata": {
        "colab": {
          "base_uri": "https://localhost:8080/"
        },
        "id": "7gKv0tfayZDr",
        "outputId": "6579db31-3698-4622-9f77-76414020d3f5"
      },
      "execution_count": 14,
      "outputs": [
        {
          "output_type": "execute_result",
          "data": {
            "text/plain": [
              "[]"
            ]
          },
          "metadata": {},
          "execution_count": 14
        }
      ]
    },
    {
      "cell_type": "code",
      "source": [
        "#copy : 다른 메모리 사용 복사\n",
        "a = [1,2,3,4,5]\n",
        "b = a.copy()"
      ],
      "metadata": {
        "id": "IExVb4sUyamJ"
      },
      "execution_count": 15,
      "outputs": []
    },
    {
      "cell_type": "code",
      "source": [
        "b"
      ],
      "metadata": {
        "colab": {
          "base_uri": "https://localhost:8080/"
        },
        "id": "yL1__zahynvm",
        "outputId": "83f35c2c-7484-4151-da72-3556252ee58e"
      },
      "execution_count": 16,
      "outputs": [
        {
          "output_type": "execute_result",
          "data": {
            "text/plain": [
              "[1, 2, 3, 4, 5]"
            ]
          },
          "metadata": {},
          "execution_count": 16
        }
      ]
    },
    {
      "cell_type": "markdown",
      "source": [
        "## 반복문으로 리스트 출력하기\n",
        "- len 사용\n",
        "- 시퀀스객체 사용\n",
        "- 인덱스 요소와 값을 같이 출력"
      ],
      "metadata": {
        "id": "aJx6gaTFyyv5"
      }
    },
    {
      "cell_type": "code",
      "source": [
        "#len\n",
        "for i in range(len(a)):\n",
        "  print(i)"
      ],
      "metadata": {
        "colab": {
          "base_uri": "https://localhost:8080/"
        },
        "id": "3QsJILsBypBW",
        "outputId": "6b033ab2-9310-4c90-b33f-7c223ba94df4"
      },
      "execution_count": 17,
      "outputs": [
        {
          "output_type": "stream",
          "name": "stdout",
          "text": [
            "0\n",
            "1\n",
            "2\n",
            "3\n",
            "4\n"
          ]
        }
      ]
    },
    {
      "cell_type": "code",
      "source": [
        "# 리스트 사용\n",
        "for i in a:\n",
        "    print(i)"
      ],
      "metadata": {
        "colab": {
          "base_uri": "https://localhost:8080/"
        },
        "id": "E43Qmgcoy3qy",
        "outputId": "61dde463-bad6-419d-e2fc-93d8851cdb32"
      },
      "execution_count": 18,
      "outputs": [
        {
          "output_type": "stream",
          "name": "stdout",
          "text": [
            "1\n",
            "2\n",
            "3\n",
            "4\n",
            "5\n"
          ]
        }
      ]
    },
    {
      "cell_type": "code",
      "source": [
        "# 인덱스, 요소 같이 출력\n",
        "for index, value in enumerate(a):\n",
        "    print(index, value)"
      ],
      "metadata": {
        "colab": {
          "base_uri": "https://localhost:8080/"
        },
        "id": "tVk9v6YXy5bT",
        "outputId": "e87a04f0-2a21-4981-a292-a88a40ec179d"
      },
      "execution_count": 19,
      "outputs": [
        {
          "output_type": "stream",
          "name": "stdout",
          "text": [
            "0 1\n",
            "1 2\n",
            "2 3\n",
            "3 4\n",
            "4 5\n"
          ]
        }
      ]
    },
    {
      "cell_type": "code",
      "source": [
        "# len 사용\n",
        "i=0\n",
        "while i<len(a):\n",
        "    print(a[i])\n",
        "    i+=1"
      ],
      "metadata": {
        "colab": {
          "base_uri": "https://localhost:8080/"
        },
        "id": "Djf8iVbOzKcO",
        "outputId": "8ea91b9f-9ef1-4112-cf87-9d6204f8180d"
      },
      "execution_count": 20,
      "outputs": [
        {
          "output_type": "stream",
          "name": "stdout",
          "text": [
            "1\n",
            "2\n",
            "3\n",
            "4\n",
            "5\n"
          ]
        }
      ]
    },
    {
      "cell_type": "markdown",
      "source": [
        "## 반복문 이용하기\n",
        "- 요소들의 합 구하기"
      ],
      "metadata": {
        "id": "8IazFJ4HzlIy"
      }
    },
    {
      "cell_type": "code",
      "source": [
        "a = [1,2,3,4,5]"
      ],
      "metadata": {
        "id": "TCDTMou6zOZH"
      },
      "execution_count": 21,
      "outputs": []
    },
    {
      "cell_type": "code",
      "source": [
        "sum = 0\n",
        "for i in a:\n",
        "  sum += i\n",
        "\n",
        "print(sum)"
      ],
      "metadata": {
        "colab": {
          "base_uri": "https://localhost:8080/"
        },
        "id": "BYB_kmXLzzwr",
        "outputId": "eff25f2c-9b81-4e24-c003-a98c2f4b302f"
      },
      "execution_count": 22,
      "outputs": [
        {
          "output_type": "stream",
          "name": "stdout",
          "text": [
            "15\n"
          ]
        }
      ]
    },
    {
      "cell_type": "markdown",
      "source": [
        "## 리스트 표현식 사용\n",
        "- 리스트 컴프리헨션 : 간결하게 한줄로 작성\n"
      ],
      "metadata": {
        "id": "4DjuMlEEz99T"
      }
    },
    {
      "cell_type": "code",
      "source": [
        "a = [i for i in range(1,10)]"
      ],
      "metadata": {
        "id": "_2kVEYkMz5OK"
      },
      "execution_count": 23,
      "outputs": []
    },
    {
      "cell_type": "code",
      "source": [
        "#if문 사용 : 2의 배수만 출력\n",
        "a = [i for i in range(1,10) if i % 2 == 0]\n"
      ],
      "metadata": {
        "id": "LV07j6kl0ebF"
      },
      "execution_count": 24,
      "outputs": []
    },
    {
      "cell_type": "code",
      "source": [
        "a"
      ],
      "metadata": {
        "colab": {
          "base_uri": "https://localhost:8080/"
        },
        "id": "oa8_VgGJ0qpq",
        "outputId": "ea53c385-8231-4261-c71c-08fdb3b98165"
      },
      "execution_count": 25,
      "outputs": [
        {
          "output_type": "execute_result",
          "data": {
            "text/plain": [
              "[2, 4, 6, 8]"
            ]
          },
          "metadata": {},
          "execution_count": 25
        }
      ]
    },
    {
      "cell_type": "code",
      "source": [
        "#for 문이 여러개인 경우\n",
        "b = [i*j for j in range(1,5) for i in range(2,4) ]\n",
        "b"
      ],
      "metadata": {
        "colab": {
          "base_uri": "https://localhost:8080/"
        },
        "id": "jlXbWeFK0rP1",
        "outputId": "5ccce3fc-178b-4e0f-d9f1-13ffa3503fe2"
      },
      "execution_count": 26,
      "outputs": [
        {
          "output_type": "execute_result",
          "data": {
            "text/plain": [
              "[2, 3, 4, 6, 6, 9, 8, 12]"
            ]
          },
          "metadata": {},
          "execution_count": 26
        }
      ]
    },
    {
      "cell_type": "code",
      "source": [
        "for i in range(2,4):\n",
        "    for j in range(1,5):\n",
        "        print(i*j, end='')\n",
        ""
      ],
      "metadata": {
        "colab": {
          "base_uri": "https://localhost:8080/"
        },
        "id": "YeDjEZ_I0zRY",
        "outputId": "ed6343a3-46e0-4cdc-9028-621558e3eac3"
      },
      "execution_count": 27,
      "outputs": [
        {
          "output_type": "stream",
          "name": "stdout",
          "text": [
            "246836912"
          ]
        }
      ]
    },
    {
      "cell_type": "markdown",
      "source": [
        "## 2차원 리스트\n",
        "- 행(인덱스), 열 (컬럼)"
      ],
      "metadata": {
        "id": "c9MsAS7c1Y-B"
      }
    },
    {
      "cell_type": "code",
      "source": [
        "a = [[10,20],[30,40],[50,60]] #리스트 두개"
      ],
      "metadata": {
        "id": "Cyj6kqR40_5c"
      },
      "execution_count": 28,
      "outputs": []
    },
    {
      "cell_type": "code",
      "source": [
        "a[0][0] #인덱스로 접근"
      ],
      "metadata": {
        "colab": {
          "base_uri": "https://localhost:8080/"
        },
        "id": "hcw7nfZU1pJ5",
        "outputId": "ada7100b-a0f4-4e13-ac3e-e811d9d16b16"
      },
      "execution_count": 29,
      "outputs": [
        {
          "output_type": "execute_result",
          "data": {
            "text/plain": [
              "10"
            ]
          },
          "metadata": {},
          "execution_count": 29
        }
      ]
    },
    {
      "cell_type": "markdown",
      "source": [
        "## 2차원 리스트 반복문"
      ],
      "metadata": {
        "id": "rBXd1d7s3bWi"
      }
    },
    {
      "cell_type": "code",
      "source": [
        "#2차원 리스트 반복문\n",
        "for i in a:\n",
        "  print(i)"
      ],
      "metadata": {
        "colab": {
          "base_uri": "https://localhost:8080/"
        },
        "id": "CsT2_6R-1rN6",
        "outputId": "b7e05d2d-5d09-4622-d781-0158a7b94957"
      },
      "execution_count": 30,
      "outputs": [
        {
          "output_type": "stream",
          "name": "stdout",
          "text": [
            "[10, 20]\n",
            "[30, 40]\n",
            "[50, 60]\n"
          ]
        }
      ]
    },
    {
      "cell_type": "code",
      "source": [
        "# 루프인덱스 두개 사용(루프인덱스의 개수와 리스트 개수 같아야함)\n",
        "for i,j in a:\n",
        "  print(i,j)"
      ],
      "metadata": {
        "colab": {
          "base_uri": "https://localhost:8080/"
        },
        "id": "uCPc_MPH15DN",
        "outputId": "ed47e819-7d83-412e-d86e-f43752b28e2e"
      },
      "execution_count": 31,
      "outputs": [
        {
          "output_type": "stream",
          "name": "stdout",
          "text": [
            "10 20\n",
            "30 40\n",
            "50 60\n"
          ]
        }
      ]
    },
    {
      "cell_type": "code",
      "source": [
        "# 반복분 두개로 출력 - 1\n",
        "for i in a:\n",
        "  for j in i:\n",
        "    print(j, end = ' ')\n",
        "  print()"
      ],
      "metadata": {
        "colab": {
          "base_uri": "https://localhost:8080/"
        },
        "id": "ri0ZqoDW2D5K",
        "outputId": "0dc840d5-8991-4222-8cc1-541b7431b3a3"
      },
      "execution_count": 32,
      "outputs": [
        {
          "output_type": "stream",
          "name": "stdout",
          "text": [
            "10 20 \n",
            "30 40 \n",
            "50 60 \n"
          ]
        }
      ]
    },
    {
      "cell_type": "code",
      "source": [
        "#반복문 두개로 출력 - 2\n",
        "for i in range(len(a)):\n",
        "  for j in range(len(a[i])):\n",
        "    print(a[i][j], end = ' ')\n",
        "  print()"
      ],
      "metadata": {
        "colab": {
          "base_uri": "https://localhost:8080/"
        },
        "id": "vGlBB4sP2Ti-",
        "outputId": "0d2afcee-cbe7-454b-aaf3-94b566945c87"
      },
      "execution_count": 33,
      "outputs": [
        {
          "output_type": "stream",
          "name": "stdout",
          "text": [
            "10 20 \n",
            "30 40 \n",
            "50 60 \n"
          ]
        }
      ]
    },
    {
      "cell_type": "code",
      "source": [
        "#반복문 두개로 출력 - 3\n",
        "i = 0\n",
        "while i < len(a):\n",
        "  j = 0\n",
        "  while j < len(a[i]):\n",
        "    print(a[i][j], end = ' ')\n",
        "    j += 1\n",
        "  print()\n",
        "  i += 1"
      ],
      "metadata": {
        "colab": {
          "base_uri": "https://localhost:8080/"
        },
        "id": "jk2Mh6fe2pJG",
        "outputId": "daab5776-1e4f-4764-b6dc-8b658eee91a2"
      },
      "execution_count": 34,
      "outputs": [
        {
          "output_type": "stream",
          "name": "stdout",
          "text": [
            "10 20 \n",
            "30 40 \n",
            "50 60 \n"
          ]
        }
      ]
    },
    {
      "cell_type": "code",
      "source": [
        "#apppend 사용\n",
        "a = []\n",
        "for i in range(3):\n",
        "    b= []\n",
        "    for j in range(4):\n",
        "        b.append(j)\n",
        "    a.append(b)\n"
      ],
      "metadata": {
        "id": "bVVINPu53SGT"
      },
      "execution_count": 35,
      "outputs": []
    },
    {
      "cell_type": "code",
      "source": [
        "a"
      ],
      "metadata": {
        "colab": {
          "base_uri": "https://localhost:8080/"
        },
        "id": "TlBmldJu34ix",
        "outputId": "78196cb2-947b-4c6b-bf67-61b0c396c24b"
      },
      "execution_count": 36,
      "outputs": [
        {
          "output_type": "execute_result",
          "data": {
            "text/plain": [
              "[[0, 1, 2, 3], [0, 1, 2, 3], [0, 1, 2, 3]]"
            ]
          },
          "metadata": {},
          "execution_count": 36
        }
      ]
    }
  ]
}