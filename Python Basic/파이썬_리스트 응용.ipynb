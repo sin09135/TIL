{
 "cells": [
  {
   "cell_type": "markdown",
   "id": "6164d51a",
   "metadata": {},
   "source": [
    "## 코테 3번 문제\n",
    "- 1부터 숫자가 하나씩 증가해서 더하는 경우"
   ]
  },
  {
   "cell_type": "code",
   "execution_count": 13,
   "id": "b2cb3cab",
   "metadata": {},
   "outputs": [
    {
     "name": "stdout",
     "output_type": "stream",
     "text": [
      "69값일 때,2357을 넘으며, 그때의 값은 2415이다.\n"
     ]
    }
   ],
   "source": [
    "# 기존 풀이\n",
    "i = 1\n",
    "j = 1\n",
    "\n",
    "while True:\n",
    "    if j > 2357:\n",
    "        print('{0}값일 때,2357을 넘으며, 그때의 값은 {1}이다.'.format(i,j))\n",
    "        break\n",
    "    i += 1\n",
    "    j += i"
   ]
  },
  {
   "cell_type": "code",
   "execution_count": 16,
   "id": "87a61a78",
   "metadata": {},
   "outputs": [
    {
     "name": "stdout",
     "output_type": "stream",
     "text": [
      "70값일 때, 2357을 넘으며, 그때의 값은 2415이다.\n"
     ]
    }
   ],
   "source": [
    "# 수업 풀이\n",
    "limit = 2357\n",
    "i = 1\n",
    "\n",
    "sum_v = 0\n",
    "while sum_v < limit:\n",
    "    sum_v += i\n",
    "    i += 1\n",
    "    \n",
    "print('{}값일 때, {}을 넘으며, 그때의 값은 {}이다.'.format(i,limit,sum_v))"
   ]
  },
  {
   "cell_type": "code",
   "execution_count": 20,
   "id": "45e8d3a0",
   "metadata": {},
   "outputs": [
    {
     "name": "stdout",
     "output_type": "stream",
     "text": [
      "69를 더할 때 2357을 넘으며 그때의 값은 2415입니다\n"
     ]
    }
   ],
   "source": [
    "#다른 풀이\n",
    "limit = 2357\n",
    "i = 1\n",
    "sum_value = 0\n",
    "\n",
    "while sum_value < limit :\n",
    "    sum_value += i\n",
    "    i += 1\n",
    "    \n",
    "print(\"{}를 더할 때 {}을 넘으며 그때의 값은 {}입니다\".format(i-1, limit, sum_value))"
   ]
  },
  {
   "cell_type": "code",
   "execution_count": 23,
   "id": "685b87e1",
   "metadata": {},
   "outputs": [
    {
     "name": "stdout",
     "output_type": "stream",
     "text": [
      "69를 더할 때 2357을 넘으며 그때의 값은 2414입니다\n"
     ]
    }
   ],
   "source": [
    "#다른풀이\n",
    "limit = 2357\n",
    "i = 1\n",
    "sum_value = 0\n",
    "\n",
    "while sum_value < limit :\n",
    "    i += 1\n",
    "    sum_value += i\n",
    "    \n",
    "print(\"{}를 더할 때 {}을 넘으며 그때의 값은 {}입니다\".format(i, limit, sum_value))"
   ]
  },
  {
   "cell_type": "markdown",
   "id": "4d8885f5",
   "metadata": {},
   "source": [
    "### 중첩 반복문"
   ]
  },
  {
   "cell_type": "code",
   "execution_count": 25,
   "id": "c1da5240",
   "metadata": {},
   "outputs": [
    {
     "name": "stdout",
     "output_type": "stream",
     "text": [
      "*    \n",
      " *   \n",
      "  *  \n",
      "   * \n",
      "    *\n"
     ]
    }
   ],
   "source": [
    "for i in range(5):\n",
    "    for j in range(5):\n",
    "        if i == j:\n",
    "            print('*',end = '')\n",
    "        else:\n",
    "            print(' ',end = '')\n",
    "    print()\n",
    "            "
   ]
  },
  {
   "cell_type": "markdown",
   "id": "0a08e943",
   "metadata": {},
   "source": [
    "### 공배수 문제 풀기\n",
    "- 1에서 100까지 출력 - 1\n",
    "- 3의 배수 Fizz - 2\n",
    "- 5의 배수 Buzz - 3\n",
    "- 3과 5의 공배수 FizzBuzz -4"
   ]
  },
  {
   "cell_type": "code",
   "execution_count": 26,
   "id": "7b9beb05",
   "metadata": {},
   "outputs": [
    {
     "name": "stdout",
     "output_type": "stream",
     "text": [
      "FizzBuzz\n",
      "1\n",
      "2\n",
      "Fizz\n",
      "4\n",
      "Buzz\n",
      "Fizz\n",
      "7\n",
      "8\n",
      "Fizz\n",
      "Buzz\n",
      "11\n",
      "Fizz\n",
      "13\n",
      "14\n",
      "FizzBuzz\n",
      "16\n",
      "17\n",
      "Fizz\n",
      "19\n",
      "Buzz\n",
      "Fizz\n",
      "22\n",
      "23\n",
      "Fizz\n",
      "Buzz\n",
      "26\n",
      "Fizz\n",
      "28\n",
      "29\n",
      "FizzBuzz\n",
      "31\n",
      "32\n",
      "Fizz\n",
      "34\n",
      "Buzz\n",
      "Fizz\n",
      "37\n",
      "38\n",
      "Fizz\n",
      "Buzz\n",
      "41\n",
      "Fizz\n",
      "43\n",
      "44\n",
      "FizzBuzz\n",
      "46\n",
      "47\n",
      "Fizz\n",
      "49\n",
      "Buzz\n",
      "Fizz\n",
      "52\n",
      "53\n",
      "Fizz\n",
      "Buzz\n",
      "56\n",
      "Fizz\n",
      "58\n",
      "59\n",
      "FizzBuzz\n",
      "61\n",
      "62\n",
      "Fizz\n",
      "64\n",
      "Buzz\n",
      "Fizz\n",
      "67\n",
      "68\n",
      "Fizz\n",
      "Buzz\n",
      "71\n",
      "Fizz\n",
      "73\n",
      "74\n",
      "FizzBuzz\n",
      "76\n",
      "77\n",
      "Fizz\n",
      "79\n",
      "Buzz\n",
      "Fizz\n",
      "82\n",
      "83\n",
      "Fizz\n",
      "Buzz\n",
      "86\n",
      "Fizz\n",
      "88\n",
      "89\n",
      "FizzBuzz\n",
      "91\n",
      "92\n",
      "Fizz\n",
      "94\n",
      "Buzz\n",
      "Fizz\n",
      "97\n",
      "98\n",
      "Fizz\n",
      "Buzz\n"
     ]
    }
   ],
   "source": [
    "for i in range(101):\n",
    "    if i % 15 == 0:\n",
    "        print('FizzBuzz')\n",
    "    elif i % 3 == 0:\n",
    "        print('Fizz')\n",
    "    elif i % 5 == 0:\n",
    "        print('Buzz')\n",
    "    else:\n",
    "        print(i)"
   ]
  },
  {
   "cell_type": "markdown",
   "id": "d1629cbe",
   "metadata": {},
   "source": [
    "## 리스트와 튜플 응용!\n",
    "- 리스트를 가지고 값을 추가하거나 삭제하거나 응용할 줄 알아야 한다!"
   ]
  },
  {
   "cell_type": "code",
   "execution_count": 27,
   "id": "a53ceae0",
   "metadata": {},
   "outputs": [],
   "source": [
    "a = [1,2,3,4,5]"
   ]
  },
  {
   "cell_type": "code",
   "execution_count": 28,
   "id": "6be44b6c",
   "metadata": {},
   "outputs": [
    {
     "data": {
      "text/plain": [
       "[1, 2, 3, 4, 5]"
      ]
     },
     "execution_count": 28,
     "metadata": {},
     "output_type": "execute_result"
    }
   ],
   "source": [
    "a #벡터 방향성"
   ]
  },
  {
   "cell_type": "code",
   "execution_count": 29,
   "id": "8c2ead4e",
   "metadata": {},
   "outputs": [],
   "source": [
    "b = 1"
   ]
  },
  {
   "cell_type": "code",
   "execution_count": 30,
   "id": "b55bfe2e",
   "metadata": {},
   "outputs": [
    {
     "data": {
      "text/plain": [
       "1"
      ]
     },
     "execution_count": 30,
     "metadata": {},
     "output_type": "execute_result"
    }
   ],
   "source": [
    "b #스칼라"
   ]
  },
  {
   "cell_type": "code",
   "execution_count": 31,
   "id": "4be17c04",
   "metadata": {},
   "outputs": [],
   "source": [
    "#행렬\n",
    "a = [[1,2],[3,4]]"
   ]
  },
  {
   "cell_type": "code",
   "execution_count": 32,
   "id": "47d190c0",
   "metadata": {},
   "outputs": [
    {
     "data": {
      "text/plain": [
       "[[1, 2], [3, 4]]"
      ]
     },
     "execution_count": 32,
     "metadata": {},
     "output_type": "execute_result"
    }
   ],
   "source": [
    "a"
   ]
  },
  {
   "cell_type": "markdown",
   "id": "77fb5be3",
   "metadata": {},
   "source": [
    "### 리스트 응용 하기\n",
    "- append: 요소를 하나씩 추가\n",
    "- extend: 리스트 연결 확장\n",
    "- insert: 특정 인덱스 요소 추가"
   ]
  },
  {
   "cell_type": "code",
   "execution_count": 33,
   "id": "c97c2411",
   "metadata": {},
   "outputs": [],
   "source": [
    "a = [1,2,3]"
   ]
  },
  {
   "cell_type": "code",
   "execution_count": 34,
   "id": "4161499e",
   "metadata": {},
   "outputs": [],
   "source": [
    "#리스트에 값을 추가하고 싶다!\n",
    "a.append(100)"
   ]
  },
  {
   "cell_type": "code",
   "execution_count": 36,
   "id": "2df9b4ed",
   "metadata": {},
   "outputs": [
    {
     "data": {
      "text/plain": [
       "[1, 2, 3, 100]"
      ]
     },
     "execution_count": 36,
     "metadata": {},
     "output_type": "execute_result"
    }
   ],
   "source": [
    "a #맨 뒤에 인덱스 값이 추가됨"
   ]
  },
  {
   "cell_type": "code",
   "execution_count": 37,
   "id": "cb4df6fd",
   "metadata": {},
   "outputs": [],
   "source": [
    "#리스트 안에 리스트 값을 추가하고 싶다.\n",
    "a.append([10,20])"
   ]
  },
  {
   "cell_type": "code",
   "execution_count": 38,
   "id": "1016e2b4",
   "metadata": {},
   "outputs": [
    {
     "data": {
      "text/plain": [
       "[1, 2, 3, 100, [10, 20]]"
      ]
     },
     "execution_count": 38,
     "metadata": {},
     "output_type": "execute_result"
    }
   ],
   "source": [
    "a"
   ]
  },
  {
   "cell_type": "code",
   "execution_count": 44,
   "id": "e868ef03",
   "metadata": {},
   "outputs": [
    {
     "data": {
      "text/plain": [
       "5"
      ]
     },
     "execution_count": 44,
     "metadata": {},
     "output_type": "execute_result"
    }
   ],
   "source": [
    "len(a)"
   ]
  },
  {
   "cell_type": "code",
   "execution_count": 40,
   "id": "6ced35a2",
   "metadata": {},
   "outputs": [],
   "source": [
    "#리스트를 평탄화 1차원으로 다 넣고 싶다."
   ]
  },
  {
   "cell_type": "markdown",
   "id": "8c7abe1b",
   "metadata": {},
   "source": [
    "- extend : 리스트 연결 확장"
   ]
  },
  {
   "cell_type": "code",
   "execution_count": 41,
   "id": "76144b20",
   "metadata": {},
   "outputs": [],
   "source": [
    "b = [1,2,3]"
   ]
  },
  {
   "cell_type": "code",
   "execution_count": 42,
   "id": "ea3b5e9b",
   "metadata": {},
   "outputs": [],
   "source": [
    "b.extend([10,20])"
   ]
  },
  {
   "cell_type": "code",
   "execution_count": 43,
   "id": "6639a414",
   "metadata": {},
   "outputs": [
    {
     "data": {
      "text/plain": [
       "[1, 2, 3, 10, 20]"
      ]
     },
     "execution_count": 43,
     "metadata": {},
     "output_type": "execute_result"
    }
   ],
   "source": [
    "b"
   ]
  },
  {
   "cell_type": "markdown",
   "id": "2616b2e0",
   "metadata": {},
   "source": [
    "- insert: 특정 인덱스 추가"
   ]
  },
  {
   "cell_type": "code",
   "execution_count": 45,
   "id": "92ddfc99",
   "metadata": {},
   "outputs": [],
   "source": [
    "a = [1,2,3]\n",
    "a.insert(1,500)"
   ]
  },
  {
   "cell_type": "code",
   "execution_count": 46,
   "id": "b536b2bf",
   "metadata": {},
   "outputs": [
    {
     "data": {
      "text/plain": [
       "[1, 500, 2, 3]"
      ]
     },
     "execution_count": 46,
     "metadata": {},
     "output_type": "execute_result"
    }
   ],
   "source": [
    "a"
   ]
  },
  {
   "cell_type": "markdown",
   "id": "cb526ebb",
   "metadata": {},
   "source": [
    "## 리스트에서 요소 삭제하는 법\n",
    "- pop : 마지막 요소 또는 특정 인덱스 요소 삭제해준다.\n",
    "- remove : 특정 값 찾아서 삭제\n",
    "- del: 전체 삭제"
   ]
  },
  {
   "cell_type": "code",
   "execution_count": 49,
   "id": "64f95590",
   "metadata": {},
   "outputs": [],
   "source": [
    "a = [1,2,3, ]"
   ]
  },
  {
   "cell_type": "code",
   "execution_count": 51,
   "id": "4f21ffc2",
   "metadata": {},
   "outputs": [
    {
     "data": {
      "text/plain": [
       "3"
      ]
     },
     "execution_count": 51,
     "metadata": {},
     "output_type": "execute_result"
    }
   ],
   "source": [
    "a.pop()"
   ]
  },
  {
   "cell_type": "code",
   "execution_count": 52,
   "id": "807d0f61",
   "metadata": {},
   "outputs": [
    {
     "data": {
      "text/plain": [
       "[1, 2]"
      ]
     },
     "execution_count": 52,
     "metadata": {},
     "output_type": "execute_result"
    }
   ],
   "source": [
    "a"
   ]
  },
  {
   "cell_type": "code",
   "execution_count": 53,
   "id": "332a1926",
   "metadata": {},
   "outputs": [
    {
     "data": {
      "text/plain": [
       "2"
      ]
     },
     "execution_count": 53,
     "metadata": {},
     "output_type": "execute_result"
    }
   ],
   "source": [
    "a.pop(1)"
   ]
  },
  {
   "cell_type": "code",
   "execution_count": 54,
   "id": "7aff043a",
   "metadata": {},
   "outputs": [
    {
     "data": {
      "text/plain": [
       "[1]"
      ]
     },
     "execution_count": 54,
     "metadata": {},
     "output_type": "execute_result"
    }
   ],
   "source": [
    "a"
   ]
  },
  {
   "cell_type": "code",
   "execution_count": 55,
   "id": "b4334f29",
   "metadata": {},
   "outputs": [],
   "source": [
    "del a"
   ]
  },
  {
   "cell_type": "markdown",
   "id": "6e5d69d6",
   "metadata": {},
   "source": [
    "- 리스트에서 특정 값의 인덱스 구하기"
   ]
  },
  {
   "cell_type": "code",
   "execution_count": 57,
   "id": "f7d8400e",
   "metadata": {},
   "outputs": [],
   "source": [
    "a = [1,2,3,4]"
   ]
  },
  {
   "cell_type": "code",
   "execution_count": 58,
   "id": "cbc46c8a",
   "metadata": {},
   "outputs": [
    {
     "data": {
      "text/plain": [
       "2"
      ]
     },
     "execution_count": 58,
     "metadata": {},
     "output_type": "execute_result"
    }
   ],
   "source": [
    "a.index(3)"
   ]
  },
  {
   "cell_type": "markdown",
   "id": "15c2b460",
   "metadata": {},
   "source": [
    "- 특정 값의 개수 셀 수 있음"
   ]
  },
  {
   "cell_type": "code",
   "execution_count": 59,
   "id": "45b10405",
   "metadata": {},
   "outputs": [],
   "source": [
    "a = [1,1,1,1,2,3,4,5]"
   ]
  },
  {
   "cell_type": "code",
   "execution_count": 60,
   "id": "4826d872",
   "metadata": {},
   "outputs": [
    {
     "data": {
      "text/plain": [
       "4"
      ]
     },
     "execution_count": 60,
     "metadata": {},
     "output_type": "execute_result"
    }
   ],
   "source": [
    "a.count(1)"
   ]
  },
  {
   "cell_type": "markdown",
   "id": "d0f0c510",
   "metadata": {},
   "source": [
    "- 리스트 순서 뒤집기"
   ]
  },
  {
   "cell_type": "code",
   "execution_count": 61,
   "id": "7a0160da",
   "metadata": {},
   "outputs": [],
   "source": [
    "a.reverse()"
   ]
  },
  {
   "cell_type": "code",
   "execution_count": 62,
   "id": "bad41e67",
   "metadata": {},
   "outputs": [
    {
     "data": {
      "text/plain": [
       "[5, 4, 3, 2, 1, 1, 1, 1]"
      ]
     },
     "execution_count": 62,
     "metadata": {},
     "output_type": "execute_result"
    }
   ],
   "source": [
    "a"
   ]
  },
  {
   "cell_type": "markdown",
   "id": "1537160b",
   "metadata": {},
   "source": [
    "- 정렬\n",
    "- sort(),sort(reverse = False) 오름차순, sort(reverse = True)내림차순"
   ]
  },
  {
   "cell_type": "code",
   "execution_count": 77,
   "id": "c55f6b82",
   "metadata": {},
   "outputs": [],
   "source": [
    "a = [1,2,3,4,5,7,8]"
   ]
  },
  {
   "cell_type": "code",
   "execution_count": 64,
   "id": "f7761333",
   "metadata": {},
   "outputs": [],
   "source": [
    "a.sort()"
   ]
  },
  {
   "cell_type": "code",
   "execution_count": 65,
   "id": "1dbc5b86",
   "metadata": {},
   "outputs": [
    {
     "data": {
      "text/plain": [
       "[1, 2, 3, 4, 5, 7, 8]"
      ]
     },
     "execution_count": 65,
     "metadata": {},
     "output_type": "execute_result"
    }
   ],
   "source": [
    "a"
   ]
  },
  {
   "cell_type": "code",
   "execution_count": 66,
   "id": "795a8327",
   "metadata": {},
   "outputs": [],
   "source": [
    "a.sort(reverse = True)"
   ]
  },
  {
   "cell_type": "code",
   "execution_count": 78,
   "id": "5b1ba466",
   "metadata": {},
   "outputs": [
    {
     "data": {
      "text/plain": [
       "[1, 2, 3, 4, 5, 7, 8]"
      ]
     },
     "execution_count": 78,
     "metadata": {},
     "output_type": "execute_result"
    }
   ],
   "source": [
    "a"
   ]
  },
  {
   "cell_type": "markdown",
   "id": "630327a1",
   "metadata": {},
   "source": [
    "- 리스트 모든 요소 삭제하기"
   ]
  },
  {
   "cell_type": "code",
   "execution_count": 68,
   "id": "5f315135",
   "metadata": {},
   "outputs": [],
   "source": [
    "a.clear()"
   ]
  },
  {
   "cell_type": "code",
   "execution_count": 69,
   "id": "96971b99",
   "metadata": {},
   "outputs": [
    {
     "data": {
      "text/plain": [
       "[]"
      ]
     },
     "execution_count": 69,
     "metadata": {},
     "output_type": "execute_result"
    }
   ],
   "source": [
    "a"
   ]
  },
  {
   "cell_type": "code",
   "execution_count": 71,
   "id": "56174a01",
   "metadata": {},
   "outputs": [],
   "source": [
    "del a[:]"
   ]
  },
  {
   "cell_type": "code",
   "execution_count": 72,
   "id": "bbe7d0d7",
   "metadata": {},
   "outputs": [
    {
     "data": {
      "text/plain": [
       "[]"
      ]
     },
     "execution_count": 72,
     "metadata": {},
     "output_type": "execute_result"
    }
   ],
   "source": [
    "a"
   ]
  },
  {
   "cell_type": "code",
   "execution_count": 73,
   "id": "c8fbc692",
   "metadata": {},
   "outputs": [],
   "source": [
    "#인덱스 슬라이싱 할 수 있다.\n",
    "#지우거나 기타 응용에서 조절할 수 있다."
   ]
  },
  {
   "cell_type": "code",
   "execution_count": 79,
   "id": "12962c0a",
   "metadata": {},
   "outputs": [],
   "source": [
    "del a [2:6]"
   ]
  },
  {
   "cell_type": "code",
   "execution_count": 80,
   "id": "c2be6eca",
   "metadata": {},
   "outputs": [
    {
     "data": {
      "text/plain": [
       "[1, 2, 8]"
      ]
     },
     "execution_count": 80,
     "metadata": {},
     "output_type": "execute_result"
    }
   ],
   "source": [
    "a"
   ]
  },
  {
   "cell_type": "markdown",
   "id": "d375c2a7",
   "metadata": {},
   "source": [
    "## 할당, 복사"
   ]
  },
  {
   "cell_type": "markdown",
   "id": "243fda69",
   "metadata": {},
   "source": [
    "- 할당 : 두 변수가 하나의 메모리를 읽는다"
   ]
  },
  {
   "cell_type": "code",
   "execution_count": 82,
   "id": "d165daba",
   "metadata": {},
   "outputs": [],
   "source": [
    "a = [1,2,3,100,5]"
   ]
  },
  {
   "cell_type": "code",
   "execution_count": 83,
   "id": "7bc30515",
   "metadata": {},
   "outputs": [],
   "source": [
    "c = a"
   ]
  },
  {
   "cell_type": "code",
   "execution_count": 84,
   "id": "d4a405e8",
   "metadata": {},
   "outputs": [],
   "source": [
    "a.insert(0,200)"
   ]
  },
  {
   "cell_type": "code",
   "execution_count": 85,
   "id": "bd0e5f65",
   "metadata": {},
   "outputs": [
    {
     "data": {
      "text/plain": [
       "[200, 1, 2, 3, 100, 5]"
      ]
     },
     "execution_count": 85,
     "metadata": {},
     "output_type": "execute_result"
    }
   ],
   "source": [
    "c"
   ]
  },
  {
   "cell_type": "markdown",
   "id": "eb1836bc",
   "metadata": {},
   "source": [
    "- 복사: 다른 메모리 사용"
   ]
  },
  {
   "cell_type": "code",
   "execution_count": 86,
   "id": "875ed706",
   "metadata": {},
   "outputs": [],
   "source": [
    "a = [1,2,3,4]\n",
    "d = a.copy()"
   ]
  },
  {
   "cell_type": "code",
   "execution_count": 87,
   "id": "0b71f333",
   "metadata": {},
   "outputs": [
    {
     "data": {
      "text/plain": [
       "[1, 2, 3, 4]"
      ]
     },
     "execution_count": 87,
     "metadata": {},
     "output_type": "execute_result"
    }
   ],
   "source": [
    "d"
   ]
  },
  {
   "cell_type": "code",
   "execution_count": 88,
   "id": "7bb8f232",
   "metadata": {},
   "outputs": [],
   "source": [
    "a[3] = 100"
   ]
  },
  {
   "cell_type": "code",
   "execution_count": 89,
   "id": "f9de0b91",
   "metadata": {},
   "outputs": [
    {
     "data": {
      "text/plain": [
       "[1, 2, 3, 100]"
      ]
     },
     "execution_count": 89,
     "metadata": {},
     "output_type": "execute_result"
    }
   ],
   "source": [
    "a"
   ]
  },
  {
   "cell_type": "code",
   "execution_count": 90,
   "id": "1cd7434e",
   "metadata": {},
   "outputs": [
    {
     "data": {
      "text/plain": [
       "[1, 2, 3, 4]"
      ]
     },
     "execution_count": 90,
     "metadata": {},
     "output_type": "execute_result"
    }
   ],
   "source": [
    "d"
   ]
  },
  {
   "cell_type": "markdown",
   "id": "c3fb87f8",
   "metadata": {},
   "source": [
    "## 반복문과 리스트를 합쳐보자"
   ]
  },
  {
   "cell_type": "code",
   "execution_count": 91,
   "id": "e80c6968",
   "metadata": {},
   "outputs": [
    {
     "name": "stdout",
     "output_type": "stream",
     "text": [
      "0\n",
      "1\n",
      "2\n",
      "3\n"
     ]
    }
   ],
   "source": [
    "for i in range(len(a)):\n",
    "    print(i)"
   ]
  },
  {
   "cell_type": "code",
   "execution_count": 92,
   "id": "22adde46",
   "metadata": {},
   "outputs": [
    {
     "name": "stdout",
     "output_type": "stream",
     "text": [
      "1\n",
      "2\n",
      "3\n",
      "100\n"
     ]
    }
   ],
   "source": [
    "for i in a:\n",
    "    print(i)\n",
    "    "
   ]
  },
  {
   "cell_type": "markdown",
   "id": "9476ed33",
   "metadata": {},
   "source": [
    "- 반복문을 출력할 때 시퀀스객체인 경우는 인덱스 번호를 알 수 없다.\n",
    "- 인덱스와 값을 같이 출력 하고 싶은 경우"
   ]
  },
  {
   "cell_type": "markdown",
   "id": "f49188c0",
   "metadata": {},
   "source": [
    "- for 인덱스, 요소 in enumerate(리스트):"
   ]
  },
  {
   "cell_type": "code",
   "execution_count": 93,
   "id": "48e28c21",
   "metadata": {},
   "outputs": [
    {
     "name": "stdout",
     "output_type": "stream",
     "text": [
      "0 1\n",
      "1 2\n",
      "2 3\n",
      "3 100\n"
     ]
    }
   ],
   "source": [
    "for index, value in enumerate(a):\n",
    "    print(index,value)"
   ]
  },
  {
   "cell_type": "code",
   "execution_count": 94,
   "id": "6240e6a9",
   "metadata": {},
   "outputs": [
    {
     "data": {
      "text/plain": [
       "[1, 2, 3, 100]"
      ]
     },
     "execution_count": 94,
     "metadata": {},
     "output_type": "execute_result"
    }
   ],
   "source": [
    "a"
   ]
  },
  {
   "cell_type": "markdown",
   "id": "a383d745",
   "metadata": {},
   "source": [
    "- a의 요소를 출력하는 while 문을 작성해 주세요"
   ]
  },
  {
   "cell_type": "code",
   "execution_count": 95,
   "id": "53b35579",
   "metadata": {},
   "outputs": [
    {
     "data": {
      "text/plain": [
       "[1, 2, 3, 100]"
      ]
     },
     "execution_count": 95,
     "metadata": {},
     "output_type": "execute_result"
    }
   ],
   "source": [
    "a"
   ]
  },
  {
   "cell_type": "code",
   "execution_count": 96,
   "id": "7993f686",
   "metadata": {},
   "outputs": [
    {
     "data": {
      "text/plain": [
       "4"
      ]
     },
     "execution_count": 96,
     "metadata": {},
     "output_type": "execute_result"
    }
   ],
   "source": [
    "len(a)"
   ]
  },
  {
   "cell_type": "code",
   "execution_count": 97,
   "id": "8dc2658a",
   "metadata": {},
   "outputs": [
    {
     "name": "stdout",
     "output_type": "stream",
     "text": [
      "1\n",
      "2\n",
      "3\n",
      "100\n"
     ]
    }
   ],
   "source": [
    "i = 0\n",
    "while i < len(a):\n",
    "    print(a[i])\n",
    "    i += 1"
   ]
  },
  {
   "cell_type": "code",
   "execution_count": null,
   "id": "d0bc7f35",
   "metadata": {},
   "outputs": [],
   "source": []
  }
 ],
 "metadata": {
  "kernelspec": {
   "display_name": "Python 3 (ipykernel)",
   "language": "python",
   "name": "python3"
  },
  "language_info": {
   "codemirror_mode": {
    "name": "ipython",
    "version": 3
   },
   "file_extension": ".py",
   "mimetype": "text/x-python",
   "name": "python",
   "nbconvert_exporter": "python",
   "pygments_lexer": "ipython3",
   "version": "3.9.13"
  }
 },
 "nbformat": 4,
 "nbformat_minor": 5
}
