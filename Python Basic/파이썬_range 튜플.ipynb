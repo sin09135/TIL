{
 "cells": [
  {
   "cell_type": "markdown",
   "id": "28df83ea",
   "metadata": {},
   "source": [
    "# 필수과제\n",
    "- range 튜플에 적용"
   ]
  },
  {
   "cell_type": "code",
   "execution_count": 11,
   "id": "67ef03a8",
   "metadata": {},
   "outputs": [],
   "source": [
    "x = tuple(range(15))"
   ]
  },
  {
   "cell_type": "code",
   "execution_count": 12,
   "id": "f10fcd5e",
   "metadata": {},
   "outputs": [
    {
     "data": {
      "text/plain": [
       "(0, 1, 2, 3, 4, 5, 6, 7, 8, 9, 10, 11, 12, 13, 14)"
      ]
     },
     "execution_count": 12,
     "metadata": {},
     "output_type": "execute_result"
    }
   ],
   "source": [
    "x"
   ]
  },
  {
   "cell_type": "code",
   "execution_count": 13,
   "id": "436878c1",
   "metadata": {},
   "outputs": [],
   "source": [
    "a = tuple(range(1,10))"
   ]
  },
  {
   "cell_type": "code",
   "execution_count": 14,
   "id": "ece903a9",
   "metadata": {},
   "outputs": [
    {
     "data": {
      "text/plain": [
       "(1, 2, 3, 4, 5, 6, 7, 8, 9)"
      ]
     },
     "execution_count": 14,
     "metadata": {},
     "output_type": "execute_result"
    }
   ],
   "source": [
    "a"
   ]
  },
  {
   "cell_type": "code",
   "execution_count": 15,
   "id": "62716f1f",
   "metadata": {},
   "outputs": [],
   "source": [
    "b = tuple(range(1,10,2))"
   ]
  },
  {
   "cell_type": "code",
   "execution_count": 16,
   "id": "5478db6d",
   "metadata": {},
   "outputs": [
    {
     "data": {
      "text/plain": [
       "(1, 3, 5, 7, 9)"
      ]
     },
     "execution_count": 16,
     "metadata": {},
     "output_type": "execute_result"
    }
   ],
   "source": [
    "b"
   ]
  },
  {
   "cell_type": "code",
   "execution_count": 17,
   "id": "80f30287",
   "metadata": {},
   "outputs": [],
   "source": [
    "c = tuple(range(10,1,-1))"
   ]
  },
  {
   "cell_type": "code",
   "execution_count": 18,
   "id": "78c84a2a",
   "metadata": {},
   "outputs": [
    {
     "data": {
      "text/plain": [
       "(10, 9, 8, 7, 6, 5, 4, 3, 2)"
      ]
     },
     "execution_count": 18,
     "metadata": {},
     "output_type": "execute_result"
    }
   ],
   "source": [
    "c"
   ]
  }
 ],
 "metadata": {
  "kernelspec": {
   "display_name": "Python 3 (ipykernel)",
   "language": "python",
   "name": "python3"
  },
  "language_info": {
   "codemirror_mode": {
    "name": "ipython",
    "version": 3
   },
   "file_extension": ".py",
   "mimetype": "text/x-python",
   "name": "python",
   "nbconvert_exporter": "python",
   "pygments_lexer": "ipython3",
   "version": "3.9.13"
  }
 },
 "nbformat": 4,
 "nbformat_minor": 5
}
