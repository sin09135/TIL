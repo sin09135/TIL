{
 "cells": [
  {
   "cell_type": "markdown",
   "id": "925f8ca7",
   "metadata": {},
   "source": [
    "## 문자열 데이터 응용하는 법\n",
    "- 텍스트 분석의 기초, 딥려님에 확장되는 부분"
   ]
  },
  {
   "cell_type": "markdown",
   "id": "655d5e72",
   "metadata": {},
   "source": [
    "### 함수 정리\n",
    "- replace('바꿀문자열','새문자열')\n",
    "- split() # 공백을 기준으로 리스트안에 넣음(기준점 바꾸기 가능)\n",
    "- '-'.join(df): '-'구분자 지정해서 연결\n",
    "- upper() : 대문자로 변경\n",
    "- lower() : 소문자로 변경\n",
    "- strip(): 공백 제거(lstrip: 왼쪽만, rstrip : 오른쪽만)\n",
    "- import string\n",
    "  .strip(string.punctuation) #특수문자 지우는 모듈\n",
    "- center(20): 20칸 만들고 가운데로 정렬(ljust: 왼쪽, rjust:오른쪽)\n",
    "- find('찾을 문자열') : 특정문자열 찾아서 인덱스 반환\n",
    "- count('개수 셀 문자열') : 특정 문자열 개수 세는 함수\n",
    "\n",
    "  \n",
    "\n"
   ]
  },
  {
   "cell_type": "markdown",
   "id": "1d1cea0d",
   "metadata": {},
   "source": [
    "- `replace`"
   ]
  },
  {
   "cell_type": "code",
   "execution_count": 42,
   "id": "cee4f8f6",
   "metadata": {},
   "outputs": [
    {
     "data": {
      "text/plain": [
       "'pythonhi'"
      ]
     },
     "execution_count": 42,
     "metadata": {},
     "output_type": "execute_result"
    }
   ],
   "source": [
    "'pythonhello'.replace('hello','hi')"
   ]
  },
  {
   "cell_type": "markdown",
   "id": "5acc0929",
   "metadata": {},
   "source": [
    "- `split`"
   ]
  },
  {
   "cell_type": "code",
   "execution_count": 43,
   "id": "61e82dba",
   "metadata": {},
   "outputs": [
    {
     "data": {
      "text/plain": [
       "['python', 'java', 'c++']"
      ]
     },
     "execution_count": 43,
     "metadata": {},
     "output_type": "execute_result"
    }
   ],
   "source": [
    "'python,java,c++'.split(',')"
   ]
  },
  {
   "cell_type": "markdown",
   "id": "fa102837",
   "metadata": {},
   "source": [
    "- `join`"
   ]
  },
  {
   "cell_type": "code",
   "execution_count": 44,
   "id": "bdbd29b4",
   "metadata": {},
   "outputs": [
    {
     "data": {
      "text/plain": [
       "'[-p-y-t-h-o-n- -h-e-l-l-o-]'"
      ]
     },
     "execution_count": 44,
     "metadata": {},
     "output_type": "execute_result"
    }
   ],
   "source": [
    "'-'.join('[python hello]') #()안에 리스트"
   ]
  },
  {
   "cell_type": "markdown",
   "id": "84b97f7c",
   "metadata": {},
   "source": [
    "- `strip` "
   ]
  },
  {
   "cell_type": "code",
   "execution_count": 45,
   "id": "644c8c19",
   "metadata": {},
   "outputs": [
    {
     "data": {
      "text/plain": [
       "'hi'"
      ]
     },
     "execution_count": 45,
     "metadata": {},
     "output_type": "execute_result"
    }
   ],
   "source": [
    "'   hi   '.strip()"
   ]
  },
  {
   "cell_type": "code",
   "execution_count": 46,
   "id": "a94fe6a0",
   "metadata": {},
   "outputs": [
    {
     "data": {
      "text/plain": [
       "'hi   '"
      ]
     },
     "execution_count": 46,
     "metadata": {},
     "output_type": "execute_result"
    }
   ],
   "source": [
    "'   hi   '.lstrip()"
   ]
  },
  {
   "cell_type": "code",
   "execution_count": 47,
   "id": "0bdba043",
   "metadata": {},
   "outputs": [
    {
     "data": {
      "text/plain": [
       "'   hi'"
      ]
     },
     "execution_count": 47,
     "metadata": {},
     "output_type": "execute_result"
    }
   ],
   "source": [
    "'   hi   '.rstrip()"
   ]
  },
  {
   "cell_type": "markdown",
   "id": "40420303",
   "metadata": {},
   "source": [
    "- 특수문자 지우는 모듈"
   ]
  },
  {
   "cell_type": "code",
   "execution_count": 48,
   "id": "2b945274",
   "metadata": {},
   "outputs": [
    {
     "data": {
      "text/plain": [
       "'!\"#$%&\\'()*+,-./:;<=>?@[\\\\]^_`{|}~'"
      ]
     },
     "execution_count": 48,
     "metadata": {},
     "output_type": "execute_result"
    }
   ],
   "source": [
    "import string\n",
    "string.punctuation"
   ]
  },
  {
   "cell_type": "code",
   "execution_count": 49,
   "id": "14ac4b80",
   "metadata": {},
   "outputs": [
    {
     "data": {
      "text/plain": [
       "'string'"
      ]
     },
     "execution_count": 49,
     "metadata": {},
     "output_type": "execute_result"
    }
   ],
   "source": [
    "'!@string'.strip(string.punctuation)"
   ]
  },
  {
   "cell_type": "markdown",
   "id": "69e11d29",
   "metadata": {},
   "source": [
    "- `center` ,`ljust`, `rjust`"
   ]
  },
  {
   "cell_type": "code",
   "execution_count": 50,
   "id": "bd1bd2bd",
   "metadata": {},
   "outputs": [
    {
     "data": {
      "text/plain": [
       "'  center  '"
      ]
     },
     "execution_count": 50,
     "metadata": {},
     "output_type": "execute_result"
    }
   ],
   "source": [
    "'center'.center(10)"
   ]
  },
  {
   "cell_type": "code",
   "execution_count": 51,
   "id": "ff83d0c1",
   "metadata": {},
   "outputs": [
    {
     "data": {
      "text/plain": [
       "'left      '"
      ]
     },
     "execution_count": 51,
     "metadata": {},
     "output_type": "execute_result"
    }
   ],
   "source": [
    "'left'.ljust(10)"
   ]
  },
  {
   "cell_type": "code",
   "execution_count": 52,
   "id": "500b68cd",
   "metadata": {},
   "outputs": [
    {
     "data": {
      "text/plain": [
       "'     right'"
      ]
     },
     "execution_count": 52,
     "metadata": {},
     "output_type": "execute_result"
    }
   ],
   "source": [
    "'right'.rjust(10)"
   ]
  },
  {
   "cell_type": "markdown",
   "id": "fad91619",
   "metadata": {},
   "source": [
    "- `find`\n"
   ]
  },
  {
   "cell_type": "code",
   "execution_count": 53,
   "id": "5b8b34a8",
   "metadata": {},
   "outputs": [
    {
     "data": {
      "text/plain": [
       "0"
      ]
     },
     "execution_count": 53,
     "metadata": {},
     "output_type": "execute_result"
    }
   ],
   "source": [
    "'python'.find('p')"
   ]
  },
  {
   "cell_type": "markdown",
   "id": "ca5ea36b",
   "metadata": {},
   "source": [
    "- `count` "
   ]
  },
  {
   "cell_type": "code",
   "execution_count": 54,
   "id": "05e35e86",
   "metadata": {},
   "outputs": [
    {
     "data": {
      "text/plain": [
       "1"
      ]
     },
     "execution_count": 54,
     "metadata": {},
     "output_type": "execute_result"
    }
   ],
   "source": [
    "'python'.count('p')"
   ]
  },
  {
   "cell_type": "markdown",
   "id": "ed1f1f07",
   "metadata": {},
   "source": [
    "### 문자열 서식 지정자, 포메팅"
   ]
  },
  {
   "cell_type": "markdown",
   "id": "4fa623f3",
   "metadata": {},
   "source": [
    "- `format`"
   ]
  },
  {
   "cell_type": "code",
   "execution_count": 55,
   "id": "a16f8e45",
   "metadata": {},
   "outputs": [],
   "source": [
    "food = '초밥'"
   ]
  },
  {
   "cell_type": "code",
   "execution_count": 56,
   "id": "94fc6bec",
   "metadata": {},
   "outputs": [
    {
     "data": {
      "text/plain": [
       "'오늘 저녁은 초밥이다.'"
      ]
     },
     "execution_count": 56,
     "metadata": {},
     "output_type": "execute_result"
    }
   ],
   "source": [
    "'오늘 저녁은 {}이다.'.format(food)"
   ]
  },
  {
   "cell_type": "code",
   "execution_count": 57,
   "id": "fa83c6e5",
   "metadata": {},
   "outputs": [
    {
     "data": {
      "text/plain": [
       "'초밥의 밥알은 320개이다.'"
      ]
     },
     "execution_count": 57,
     "metadata": {},
     "output_type": "execute_result"
    }
   ],
   "source": [
    "'초밥의 밥알은 {rm}개이다.'.format(rm = 320)"
   ]
  },
  {
   "cell_type": "code",
   "execution_count": 58,
   "id": "89638ac1",
   "metadata": {},
   "outputs": [
    {
     "data": {
      "text/plain": [
       "'오늘 저녁은 초밥이고, 초밥의 밥알의 개수는 320개이다.'"
      ]
     },
     "execution_count": 58,
     "metadata": {},
     "output_type": "execute_result"
    }
   ],
   "source": [
    "'오늘 저녁은 {0}이고, {0}의 밥알의 개수는 {1}개이다.'.format(food,320)"
   ]
  },
  {
   "cell_type": "markdown",
   "id": "51833063",
   "metadata": {},
   "source": [
    "- `%s`,`%f`,`%d`"
   ]
  },
  {
   "cell_type": "code",
   "execution_count": 59,
   "id": "4e52406d",
   "metadata": {},
   "outputs": [
    {
     "data": {
      "text/plain": [
       "'오늘 저녁은 초밥이다.'"
      ]
     },
     "execution_count": 59,
     "metadata": {},
     "output_type": "execute_result"
    }
   ],
   "source": [
    "'오늘 저녁은 %s이다.' % '초밥' #문자 %s"
   ]
  },
  {
   "cell_type": "code",
   "execution_count": 60,
   "id": "5633c15f",
   "metadata": {},
   "outputs": [
    {
     "data": {
      "text/plain": [
       "'오늘 저녁은 초밥이고, 초밥의 밥알의 개수는 320 개이다.'"
      ]
     },
     "execution_count": 60,
     "metadata": {},
     "output_type": "execute_result"
    }
   ],
   "source": [
    "'오늘 저녁은 %s이고, %s의 밥알의 개수는 %d 개이다.' %('초밥','초밥', 320)"
   ]
  },
  {
   "cell_type": "code",
   "execution_count": 61,
   "id": "b4c004ca",
   "metadata": {},
   "outputs": [
    {
     "data": {
      "text/plain": [
       "'이번학기 학점은 4.50 이다.'"
      ]
     },
     "execution_count": 61,
     "metadata": {},
     "output_type": "execute_result"
    }
   ],
   "source": [
    "'이번학기 학점은 %.2f 이다.' % 4.5 # 소숫점 자릿수 지정가능, %f : 소수"
   ]
  },
  {
   "cell_type": "markdown",
   "id": "87b53c35",
   "metadata": {},
   "source": [
    "### 딕셔너리 응용하기\n",
    "- key, value\n",
    "- setdefault(키,값) : 키-값 쌍 추가\n",
    "- update(키,값) : 키-값 수정, 없으면 추가\n",
    "- pop(키): 키-값 삭제\n",
    "- del 딕셔너리[키]: 키-값 삭제\n",
    "- get(키) : 특정 키의 값 불러옴\n",
    "- items : 키-값 모두 불러옴\n",
    "- keys : 키만 불러옴\n",
    "- values : 값을 모두 가져옴"
   ]
  },
  {
   "cell_type": "markdown",
   "id": "64b1601d",
   "metadata": {},
   "source": [
    "- `setdefault`"
   ]
  },
  {
   "cell_type": "code",
   "execution_count": 62,
   "id": "d2e92e1e",
   "metadata": {},
   "outputs": [],
   "source": [
    "dc = {'a': '사과','b' :'딸기', 'c' : '복숭아'}"
   ]
  },
  {
   "cell_type": "code",
   "execution_count": 63,
   "id": "b08c3bef",
   "metadata": {},
   "outputs": [
    {
     "data": {
      "text/plain": [
       "'배'"
      ]
     },
     "execution_count": 63,
     "metadata": {},
     "output_type": "execute_result"
    }
   ],
   "source": [
    "dc.setdefault('d','배')"
   ]
  },
  {
   "cell_type": "code",
   "execution_count": 64,
   "id": "4e33fa84",
   "metadata": {},
   "outputs": [
    {
     "data": {
      "text/plain": [
       "{'a': '사과', 'b': '딸기', 'c': '복숭아', 'd': '배'}"
      ]
     },
     "execution_count": 64,
     "metadata": {},
     "output_type": "execute_result"
    }
   ],
   "source": [
    "dc"
   ]
  },
  {
   "cell_type": "markdown",
   "id": "e1268c69",
   "metadata": {},
   "source": [
    "- `update`"
   ]
  },
  {
   "cell_type": "code",
   "execution_count": 65,
   "id": "fed82c5b",
   "metadata": {},
   "outputs": [
    {
     "data": {
      "text/plain": [
       "{'a': '적사과', 'b': '딸기', 'c': '복숭아', 'd': '배'}"
      ]
     },
     "execution_count": 65,
     "metadata": {},
     "output_type": "execute_result"
    }
   ],
   "source": [
    "dc.update(a = '적사과')\n",
    "dc"
   ]
  },
  {
   "cell_type": "markdown",
   "id": "a137eba0",
   "metadata": {},
   "source": [
    "- `pop`"
   ]
  },
  {
   "cell_type": "code",
   "execution_count": 66,
   "id": "5163b90b",
   "metadata": {},
   "outputs": [
    {
     "data": {
      "text/plain": [
       "'배'"
      ]
     },
     "execution_count": 66,
     "metadata": {},
     "output_type": "execute_result"
    }
   ],
   "source": [
    "dc.pop('d')"
   ]
  },
  {
   "cell_type": "markdown",
   "id": "a8249f86",
   "metadata": {},
   "source": [
    "- `del`"
   ]
  },
  {
   "cell_type": "code",
   "execution_count": 68,
   "id": "78f3b548",
   "metadata": {},
   "outputs": [],
   "source": [
    "del dc['a']"
   ]
  },
  {
   "cell_type": "code",
   "execution_count": 69,
   "id": "5b50df60",
   "metadata": {},
   "outputs": [
    {
     "data": {
      "text/plain": [
       "{'b': '딸기', 'c': '복숭아'}"
      ]
     },
     "execution_count": 69,
     "metadata": {},
     "output_type": "execute_result"
    }
   ],
   "source": [
    "dc"
   ]
  },
  {
   "cell_type": "markdown",
   "id": "2d26e1fa",
   "metadata": {},
   "source": [
    "- `get`"
   ]
  },
  {
   "cell_type": "code",
   "execution_count": 70,
   "id": "ff78af49",
   "metadata": {},
   "outputs": [
    {
     "data": {
      "text/plain": [
       "'딸기'"
      ]
     },
     "execution_count": 70,
     "metadata": {},
     "output_type": "execute_result"
    }
   ],
   "source": [
    "dc.get('b')"
   ]
  },
  {
   "cell_type": "markdown",
   "id": "754dfb8b",
   "metadata": {},
   "source": [
    "- `items`"
   ]
  },
  {
   "cell_type": "code",
   "execution_count": 71,
   "id": "e04fb4c0",
   "metadata": {},
   "outputs": [
    {
     "data": {
      "text/plain": [
       "dict_items([('b', '딸기'), ('c', '복숭아')])"
      ]
     },
     "execution_count": 71,
     "metadata": {},
     "output_type": "execute_result"
    }
   ],
   "source": [
    "dc.items()"
   ]
  },
  {
   "cell_type": "markdown",
   "id": "7425c9a2",
   "metadata": {},
   "source": [
    "- `keys`"
   ]
  },
  {
   "cell_type": "code",
   "execution_count": 72,
   "id": "16ed3882",
   "metadata": {},
   "outputs": [
    {
     "data": {
      "text/plain": [
       "dict_keys(['b', 'c'])"
      ]
     },
     "execution_count": 72,
     "metadata": {},
     "output_type": "execute_result"
    }
   ],
   "source": [
    "dc.keys()"
   ]
  },
  {
   "cell_type": "markdown",
   "id": "dce480c0",
   "metadata": {},
   "source": [
    "- `values`"
   ]
  },
  {
   "cell_type": "code",
   "execution_count": 73,
   "id": "e6765793",
   "metadata": {},
   "outputs": [
    {
     "data": {
      "text/plain": [
       "dict_values(['딸기', '복숭아'])"
      ]
     },
     "execution_count": 73,
     "metadata": {},
     "output_type": "execute_result"
    }
   ],
   "source": [
    "dc.values()"
   ]
  }
 ],
 "metadata": {
  "kernelspec": {
   "display_name": "Python 3 (ipykernel)",
   "language": "python",
   "name": "python3"
  },
  "language_info": {
   "codemirror_mode": {
    "name": "ipython",
    "version": 3
   },
   "file_extension": ".py",
   "mimetype": "text/x-python",
   "name": "python",
   "nbconvert_exporter": "python",
   "pygments_lexer": "ipython3",
   "version": "3.9.13"
  }
 },
 "nbformat": 4,
 "nbformat_minor": 5
}
