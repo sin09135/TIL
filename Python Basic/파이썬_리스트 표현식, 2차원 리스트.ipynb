{
 "cells": [
  {
   "cell_type": "code",
   "execution_count": 1,
   "id": "a37069c9",
   "metadata": {},
   "outputs": [
    {
     "name": "stdout",
     "output_type": "stream",
     "text": [
      "0\n",
      "1\n",
      "2\n",
      "3\n",
      "4\n",
      "5\n",
      "6\n",
      "7\n",
      "8\n"
     ]
    }
   ],
   "source": [
    "for i in range(9):\n",
    "    print(i)"
   ]
  },
  {
   "cell_type": "markdown",
   "id": "5a6038d5",
   "metadata": {},
   "source": [
    "## 요소들의 합 구하기"
   ]
  },
  {
   "cell_type": "code",
   "execution_count": 11,
   "id": "260e684a",
   "metadata": {},
   "outputs": [
    {
     "name": "stdout",
     "output_type": "stream",
     "text": [
      "15\n"
     ]
    }
   ],
   "source": [
    "a = [1,2,3,4,5]\n",
    "sum = 0\n",
    "\n",
    "for i in a:\n",
    "    sum += i\n",
    "\n",
    "print(sum)"
   ]
  },
  {
   "cell_type": "markdown",
   "id": "03182fef",
   "metadata": {},
   "source": [
    "## 리스트 표현식 사용하기\n",
    "- 리스트 컴프리헨션"
   ]
  },
  {
   "cell_type": "code",
   "execution_count": 13,
   "id": "cacbffca",
   "metadata": {},
   "outputs": [
    {
     "name": "stdout",
     "output_type": "stream",
     "text": [
      "0\n",
      "10\n",
      "20\n",
      "30\n",
      "40\n",
      "50\n",
      "60\n",
      "70\n",
      "80\n"
     ]
    }
   ],
   "source": [
    "for i in range(9):\n",
    "    print(i*10)"
   ]
  },
  {
   "cell_type": "markdown",
   "id": "833bb17d",
   "metadata": {},
   "source": [
    "- 리스트 안에 한 주를 표현하는 것 조금 더 간결하게 코드를 줄여서 작성하는 것\n",
    "- [식 for 변수 in 리스트]\n",
    "- list(식 for 변수 in 리스트)"
   ]
  },
  {
   "cell_type": "code",
   "execution_count": 15,
   "id": "a8ef54cc",
   "metadata": {},
   "outputs": [],
   "source": [
    "a = [i for i in range(9)] #print(i) for i in range(9):\n",
    "a = [i*10 for i in range(9)]"
   ]
  },
  {
   "cell_type": "code",
   "execution_count": 16,
   "id": "dfa52358",
   "metadata": {},
   "outputs": [
    {
     "data": {
      "text/plain": [
       "[0, 10, 20, 30, 40, 50, 60, 70, 80]"
      ]
     },
     "execution_count": 16,
     "metadata": {},
     "output_type": "execute_result"
    }
   ],
   "source": [
    "a"
   ]
  },
  {
   "cell_type": "code",
   "execution_count": 18,
   "id": "a4a92e42",
   "metadata": {},
   "outputs": [],
   "source": [
    "b = [(i*i)/2 for i in range(10)]"
   ]
  },
  {
   "cell_type": "code",
   "execution_count": 19,
   "id": "58fe0348",
   "metadata": {},
   "outputs": [
    {
     "data": {
      "text/plain": [
       "[0.0, 0.5, 2.0, 4.5, 8.0, 12.5, 18.0, 24.5, 32.0, 40.5]"
      ]
     },
     "execution_count": 19,
     "metadata": {},
     "output_type": "execute_result"
    }
   ],
   "source": [
    "b"
   ]
  },
  {
   "cell_type": "markdown",
   "id": "a9139388",
   "metadata": {},
   "source": [
    "- if 문을 만날 수 있다\n",
    "- [식 for 변수 in 리스트 if 조건식]\n",
    "- list(식 for 변수 in 리스트 if 조건식)"
   ]
  },
  {
   "cell_type": "code",
   "execution_count": 20,
   "id": "5dea288f",
   "metadata": {},
   "outputs": [],
   "source": [
    "a = [i for i in range(10) if i % 2 == 0]"
   ]
  },
  {
   "cell_type": "code",
   "execution_count": 23,
   "id": "b9d6aa4f",
   "metadata": {},
   "outputs": [
    {
     "name": "stdout",
     "output_type": "stream",
     "text": [
      "[0, 2, 4, 6, 8]\n"
     ]
    }
   ],
   "source": [
    "print(a)"
   ]
  },
  {
   "cell_type": "markdown",
   "id": "566b0bf9",
   "metadata": {},
   "source": [
    "- 조건식이 여러 개 있는 경우\n",
    "- for 변수1 in 리스트1 if 조건식1\n",
    "- for 변수2 in 리스트2 if 조건식2\n"
   ]
  },
  {
   "cell_type": "code",
   "execution_count": 28,
   "id": "31acd803",
   "metadata": {},
   "outputs": [],
   "source": [
    "a = [i*j for j in range(1,5) for i in range(1,3)]"
   ]
  },
  {
   "cell_type": "code",
   "execution_count": 29,
   "id": "0ea08434",
   "metadata": {},
   "outputs": [
    {
     "data": {
      "text/plain": [
       "[1, 2, 2, 4, 3, 6, 4, 8]"
      ]
     },
     "execution_count": 29,
     "metadata": {},
     "output_type": "execute_result"
    }
   ],
   "source": [
    "a"
   ]
  },
  {
   "cell_type": "markdown",
   "id": "8e57e3cc",
   "metadata": {},
   "source": [
    "## 리스트 표현식에서 for 문이 여러개 일 때는 처리 순서 뒤에서 앞으로 순으로 진행된다."
   ]
  },
  {
   "cell_type": "code",
   "execution_count": 39,
   "id": "52b8a780",
   "metadata": {},
   "outputs": [
    {
     "name": "stdout",
     "output_type": "stream",
     "text": [
      "12342468"
     ]
    }
   ],
   "source": [
    "for i in range(1,3):\n",
    "    for j in range(1,5):\n",
    "        print(i*j,end = '')"
   ]
  },
  {
   "cell_type": "code",
   "execution_count": 34,
   "id": "991ee17f",
   "metadata": {},
   "outputs": [],
   "source": [
    "a = [i*j for j in range(1,5) for i in range(1,3)]"
   ]
  },
  {
   "cell_type": "code",
   "execution_count": 35,
   "id": "ecc56999",
   "metadata": {},
   "outputs": [
    {
     "data": {
      "text/plain": [
       "[1, 2, 2, 4, 3, 6, 4, 8]"
      ]
     },
     "execution_count": 35,
     "metadata": {},
     "output_type": "execute_result"
    }
   ],
   "source": [
    "a"
   ]
  },
  {
   "cell_type": "markdown",
   "id": "8fead3a0",
   "metadata": {},
   "source": [
    "## 2차원 리스트\n",
    "- 2차원이라는 것은 결국 평면구조가 아니라 행과 열을 가지게 되는 \n",
    "- 가로 x 세로 형태의 개념\n",
    "- 행(인덱스), 열(컬럼)\n",
    "-        - 컬럼, 컬럼, 컬럼\n",
    "- 인덱스\n",
    "- 인덱스\n",
    "- 인덱스"
   ]
  },
  {
   "cell_type": "code",
   "execution_count": 40,
   "id": "36056c06",
   "metadata": {},
   "outputs": [],
   "source": [
    "b = [1,2,3,4,5,6]"
   ]
  },
  {
   "cell_type": "code",
   "execution_count": 41,
   "id": "350e78fb",
   "metadata": {},
   "outputs": [
    {
     "data": {
      "text/plain": [
       "[1, 2, 3, 4, 5, 6]"
      ]
     },
     "execution_count": 41,
     "metadata": {},
     "output_type": "execute_result"
    }
   ],
   "source": [
    "b #1차원의 개념 # 스칼라 벡터 행렬 텐서"
   ]
  },
  {
   "cell_type": "code",
   "execution_count": 42,
   "id": "216a6d0e",
   "metadata": {},
   "outputs": [],
   "source": [
    "# 2차원은 리스트 2개라는 뜻\n",
    "a = [[1,2],[3,4],[5,6]]"
   ]
  },
  {
   "cell_type": "code",
   "execution_count": 43,
   "id": "d9835d42",
   "metadata": {},
   "outputs": [
    {
     "data": {
      "text/plain": [
       "[[1, 2], [3, 4], [5, 6]]"
      ]
     },
     "execution_count": 43,
     "metadata": {},
     "output_type": "execute_result"
    }
   ],
   "source": [
    "a"
   ]
  },
  {
   "cell_type": "markdown",
   "id": "af76f5c7",
   "metadata": {},
   "source": [
    "- 리스트는 인덱스 기준으로 접근한다.\n",
    "- 리스트[세로인덱스][가로인덱스]"
   ]
  },
  {
   "cell_type": "code",
   "execution_count": 44,
   "id": "4bcd7441",
   "metadata": {},
   "outputs": [
    {
     "data": {
      "text/plain": [
       "1"
      ]
     },
     "execution_count": 44,
     "metadata": {},
     "output_type": "execute_result"
    }
   ],
   "source": [
    "a[0][0]"
   ]
  },
  {
   "cell_type": "code",
   "execution_count": null,
   "id": "2f3208d8",
   "metadata": {},
   "outputs": [],
   "source": []
  }
 ],
 "metadata": {
  "kernelspec": {
   "display_name": "Python 3 (ipykernel)",
   "language": "python",
   "name": "python3"
  },
  "language_info": {
   "codemirror_mode": {
    "name": "ipython",
    "version": 3
   },
   "file_extension": ".py",
   "mimetype": "text/x-python",
   "name": "python",
   "nbconvert_exporter": "python",
   "pygments_lexer": "ipython3",
   "version": "3.9.13"
  }
 },
 "nbformat": 4,
 "nbformat_minor": 5
}
