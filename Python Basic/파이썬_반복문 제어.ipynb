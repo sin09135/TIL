{
 "cells": [
  {
   "cell_type": "markdown",
   "id": "1546b44e",
   "metadata": {},
   "source": [
    "## break, continue \n",
    "- 반복문 for, while 문을 제어하는 방법\n",
    "- 흐름을 제어하는 개념\n",
    "\n",
    "- break : 흐름 중단 \n",
    "- continue : 전체 반복문 흐름 유지, 조건에 해당하는 코드를 실행하지 않고 건너뛴다."
   ]
  },
  {
   "cell_type": "markdown",
   "id": "d03194ad",
   "metadata": {},
   "source": [
    "### break 문"
   ]
  },
  {
   "cell_type": "code",
   "execution_count": 1,
   "id": "7d4959be",
   "metadata": {},
   "outputs": [
    {
     "name": "stdout",
     "output_type": "stream",
     "text": [
      "0\n",
      "1\n",
      "2\n",
      "3\n",
      "4\n",
      "5\n",
      "6\n",
      "7\n",
      "8\n",
      "9\n"
     ]
    }
   ],
   "source": [
    "#while문\n",
    "\n",
    "i = 0\n",
    "while True:\n",
    "    print(i)\n",
    "    i += 1\n",
    "    if i == 10:\n",
    "        break"
   ]
  },
  {
   "cell_type": "code",
   "execution_count": 2,
   "id": "8224251a",
   "metadata": {},
   "outputs": [
    {
     "name": "stdout",
     "output_type": "stream",
     "text": [
      "0\n",
      "1\n",
      "2\n",
      "3\n",
      "4\n",
      "5\n",
      "6\n",
      "7\n",
      "8\n",
      "9\n",
      "10\n",
      "11\n",
      "12\n",
      "13\n",
      "14\n",
      "15\n"
     ]
    }
   ],
   "source": [
    "# for 문\n",
    "for i in range(100):\n",
    "    print(i)\n",
    "    if i == 15:\n",
    "        break"
   ]
  },
  {
   "cell_type": "markdown",
   "id": "51241340",
   "metadata": {},
   "source": [
    "- break 문의 for, while 의 공통점은\n",
    "- break 할 수 있는 근거가 필요하다. i를 이용한 조건식으로 해당 조건힉이 참일 때 break를 만드는 형식으로 나타낸다."
   ]
  },
  {
   "cell_type": "markdown",
   "id": "22a4f16f",
   "metadata": {},
   "source": [
    "- continue 코드 실행\n",
    "- continue 문도 동일하게 조건이 필요하다\n",
    "- 제어하기 위한 조건이 필요하다"
   ]
  },
  {
   "cell_type": "code",
   "execution_count": 3,
   "id": "c5b39d5e",
   "metadata": {},
   "outputs": [
    {
     "name": "stdout",
     "output_type": "stream",
     "text": [
      "딸기\n",
      "0\n",
      "반복문은 쉽죠\n",
      "딸기\n",
      "1\n",
      "반복문은 쉽죠\n",
      "딸기\n",
      "2\n",
      "반복문은 쉽죠\n",
      "딸기\n",
      "3\n",
      "반복문은 쉽죠\n",
      "딸기\n",
      "4\n",
      "반복문은 쉽죠\n",
      "딸기\n",
      "5\n",
      "반복문은 쉽죠\n",
      "딸기\n",
      "6\n",
      "반복문은 쉽죠\n",
      "딸기\n",
      "7\n",
      "반복문은 쉽죠\n",
      "딸기\n",
      "8\n",
      "반복문은 쉽죠\n",
      "딸기\n",
      "9\n",
      "반복문은 쉽죠\n"
     ]
    }
   ],
   "source": [
    "for i in range(10):\n",
    "    print('딸기')\n",
    "    print(i)\n",
    "    print('반복문은 쉽죠')"
   ]
  },
  {
   "cell_type": "code",
   "execution_count": 4,
   "id": "79605a75",
   "metadata": {},
   "outputs": [
    {
     "name": "stdout",
     "output_type": "stream",
     "text": [
      "딸기\n",
      "딸기\n",
      "1\n",
      "반복문 쉽죠\n",
      "딸기\n",
      "딸기\n",
      "3\n",
      "반복문 쉽죠\n",
      "딸기\n",
      "딸기\n",
      "5\n",
      "반복문 쉽죠\n",
      "딸기\n",
      "딸기\n",
      "7\n",
      "반복문 쉽죠\n",
      "딸기\n",
      "딸기\n",
      "9\n",
      "반복문 쉽죠\n"
     ]
    }
   ],
   "source": [
    "#for문\n",
    "for i in range(10):\n",
    "    print('딸기')\n",
    "    if i % 2 ==0:\n",
    "        continue\n",
    "    print(i)\n",
    "    print('반복문 쉽죠')"
   ]
  },
  {
   "cell_type": "code",
   "execution_count": 5,
   "id": "100005c0",
   "metadata": {},
   "outputs": [
    {
     "name": "stdout",
     "output_type": "stream",
     "text": [
      "딸기\n",
      "1\n",
      "반복문 쉽죠\n",
      "딸기\n",
      "딸기\n",
      "3\n",
      "반복문 쉽죠\n",
      "딸기\n",
      "딸기\n",
      "5\n",
      "반복문 쉽죠\n",
      "딸기\n",
      "딸기\n",
      "7\n",
      "반복문 쉽죠\n",
      "딸기\n",
      "딸기\n",
      "9\n",
      "반복문 쉽죠\n",
      "딸기\n"
     ]
    }
   ],
   "source": [
    "#while 문으로 해보자\n",
    "i = 0\n",
    "while i<10:\n",
    "    i += 1\n",
    "    print('딸기')\n",
    "    if i % 2 == 0:\n",
    "        continue\n",
    "    print(i)\n",
    "    print('반복문 쉽죠')"
   ]
  },
  {
   "cell_type": "code",
   "execution_count": 7,
   "id": "be51607d",
   "metadata": {},
   "outputs": [
    {
     "name": "stdout",
     "output_type": "stream",
     "text": [
      "1\n",
      "1\n",
      "3\n",
      "3\n",
      "5\n",
      "5\n",
      "7\n",
      "7\n",
      "9\n",
      "9\n"
     ]
    }
   ],
   "source": [
    "for i in range(10):\n",
    "    if i % 2 == 0:\n",
    "        continue\n",
    "    else:\n",
    "        print(i)\n",
    "    print(i)"
   ]
  },
  {
   "cell_type": "code",
   "execution_count": 9,
   "id": "7fe6027c",
   "metadata": {},
   "outputs": [
    {
     "name": "stdout",
     "output_type": "stream",
     "text": [
      "2\n",
      "4\n",
      "6\n",
      "8\n",
      "10\n"
     ]
    }
   ],
   "source": [
    "#for 문으로 짝수만 출력하는 1~10중 continue\n",
    "for i in range(1,11):\n",
    "    if i % 2 == 1:\n",
    "        continue\n",
    "    else:\n",
    "        print(i)"
   ]
  },
  {
   "cell_type": "markdown",
   "id": "1e9a038f",
   "metadata": {},
   "source": [
    "### 0부터 73의 숫자 중 3으로 끝나는 숫자만 출력하는 코드를 만들어보자"
   ]
  },
  {
   "cell_type": "code",
   "execution_count": 10,
   "id": "f21ab4cf",
   "metadata": {},
   "outputs": [
    {
     "name": "stdout",
     "output_type": "stream",
     "text": [
      "3\n",
      "13\n",
      "23\n",
      "33\n",
      "43\n",
      "53\n",
      "63\n",
      "73\n"
     ]
    }
   ],
   "source": [
    "for i in range(74):\n",
    "    if i % 10 == 3:\n",
    "        print(i)"
   ]
  },
  {
   "cell_type": "code",
   "execution_count": 11,
   "id": "9051dbfd",
   "metadata": {},
   "outputs": [
    {
     "name": "stdout",
     "output_type": "stream",
     "text": [
      "3\n",
      "13\n",
      "23\n",
      "33\n",
      "43\n",
      "53\n",
      "63\n",
      "73\n"
     ]
    }
   ],
   "source": [
    "for i in range(74):\n",
    "    if i % 10 != 3:\n",
    "        continue\n",
    "    else:\n",
    "        print(i)"
   ]
  },
  {
   "cell_type": "markdown",
   "id": "217919bf",
   "metadata": {},
   "source": [
    "## 중첩루프\n",
    "- 루프 2개\n",
    "- 반복문 2개\n",
    "- 반복문 2개의 작동원리를 이해하면 어떤 n차 중첩루프도 이해할 수 있다."
   ]
  },
  {
   "cell_type": "markdown",
   "id": "74de3fcc",
   "metadata": {},
   "source": [
    "- 문법\n",
    "- 1차 반복문\n",
    "- for i in range(횟수):\n",
    "    - 반복할 코드\n",
    "\n",
    "- 2차 반복분\n",
    "- for i in range(횟수):\n",
    "    - for j in range(횟수):\n",
    "        - 안쪽 루프 코드\n",
    "    - 바깥쪽 루프 코드"
   ]
  },
  {
   "cell_type": "code",
   "execution_count": 12,
   "id": "e5e4ad85",
   "metadata": {},
   "outputs": [
    {
     "name": "stdout",
     "output_type": "stream",
     "text": [
      "0\n",
      "1\n",
      "2\n",
      "3\n"
     ]
    }
   ],
   "source": [
    "for i in range(4):\n",
    "    print(i)"
   ]
  },
  {
   "cell_type": "code",
   "execution_count": 13,
   "id": "411e1c0d",
   "metadata": {},
   "outputs": [
    {
     "name": "stdout",
     "output_type": "stream",
     "text": [
      "0\n",
      "1\n",
      "2\n"
     ]
    }
   ],
   "source": [
    "for i in range(3):\n",
    "    print(i)"
   ]
  },
  {
   "cell_type": "code",
   "execution_count": 14,
   "id": "8bbf428f",
   "metadata": {},
   "outputs": [
    {
     "name": "stdout",
     "output_type": "stream",
     "text": [
      "j는 안쪽 루프0j는 안쪽 루프1j는 안쪽 루프2i는 바깥쪽 루프0\n",
      "j는 안쪽 루프0j는 안쪽 루프1j는 안쪽 루프2i는 바깥쪽 루프1\n",
      "j는 안쪽 루프0j는 안쪽 루프1j는 안쪽 루프2i는 바깥쪽 루프2\n",
      "j는 안쪽 루프0j는 안쪽 루프1j는 안쪽 루프2i는 바깥쪽 루프3\n"
     ]
    }
   ],
   "source": [
    "#중첩루프는\n",
    "for i in range(4):\n",
    "    for j in range(3):\n",
    "        print('j는 안쪽 루프',j,sep = '', end = '')\n",
    "    print('i는 바깥쪽 루프',i,sep='')"
   ]
  },
  {
   "cell_type": "markdown",
   "id": "1298e1b5",
   "metadata": {},
   "source": [
    "- 반복문 시작되는 원리\n",
    "i = 0 \n",
    "j 코드로 가면 j = 0\n",
    " j=0, j=1, j=2 , ,i=0\n",
    " \n",
    "i = 1\n",
    " j =0, j=1, j=2, i=1\n",
    " \n",
    "i = 2\n",
    "j =0, j=1, j=2 i=2\n",
    "\n",
    "i =3 \n",
    "j =0, j=1, j=2, i =3\n",
    "\n",
    "끝나는 것"
   ]
  },
  {
   "cell_type": "code",
   "execution_count": 15,
   "id": "e48470d3",
   "metadata": {},
   "outputs": [
    {
     "name": "stdout",
     "output_type": "stream",
     "text": [
      "k는0 k는1 k는2 k는3 j는0\n",
      "k는0 k는1 k는2 k는3 j는1\n",
      "i는0\n",
      "k는0 k는1 k는2 k는3 j는0\n",
      "k는0 k는1 k는2 k는3 j는1\n",
      "i는1\n",
      "k는0 k는1 k는2 k는3 j는0\n",
      "k는0 k는1 k는2 k는3 j는1\n",
      "i는2\n"
     ]
    }
   ],
   "source": [
    "for i in range(3):\n",
    "    for j in range(2):\n",
    "        for k in range(4):\n",
    "            print('k는',k,sep='',end=' ')\n",
    "        print('j는',j,sep='')\n",
    "    print('i는',i,sep='')"
   ]
  },
  {
   "cell_type": "markdown",
   "id": "82418246",
   "metadata": {},
   "source": [
    "### 중첩루프 이용해서 계단식 별 만들기"
   ]
  },
  {
   "cell_type": "code",
   "execution_count": 17,
   "id": "a31eefce",
   "metadata": {},
   "outputs": [
    {
     "name": "stdout",
     "output_type": "stream",
     "text": [
      "******\n",
      "******\n",
      "******\n",
      "******\n",
      "******\n"
     ]
    }
   ],
   "source": [
    "for i in range(5):\n",
    "    for j in range(5):\n",
    "        print('*', end = '')\n",
    "    print('*')"
   ]
  },
  {
   "cell_type": "code",
   "execution_count": 18,
   "id": "9e35d614",
   "metadata": {},
   "outputs": [
    {
     "name": "stdout",
     "output_type": "stream",
     "text": [
      "5\n",
      "4\n",
      "3\n",
      "2\n",
      "1\n"
     ]
    }
   ],
   "source": [
    "for i in range(5,0,-1):\n",
    "    print(i)"
   ]
  },
  {
   "cell_type": "code",
   "execution_count": 20,
   "id": "0b225af1",
   "metadata": {},
   "outputs": [
    {
     "name": "stdout",
     "output_type": "stream",
     "text": [
      "*****\n",
      "****\n",
      "***\n",
      "**\n",
      "*\n"
     ]
    }
   ],
   "source": [
    "for i in range(5,0,-1):\n",
    "    for j in range(i):\n",
    "        print('*',end = '')\n",
    "    print()"
   ]
  },
  {
   "cell_type": "code",
   "execution_count": 21,
   "id": "a82759f9",
   "metadata": {},
   "outputs": [
    {
     "name": "stdout",
     "output_type": "stream",
     "text": [
      "*\n",
      "**\n",
      "***\n",
      "****\n",
      "*****\n"
     ]
    }
   ],
   "source": [
    "for i in range(5):\n",
    "    for j in range(5):\n",
    "        if j<=i:\n",
    "            print('*',end = '')\n",
    "    print()"
   ]
  },
  {
   "cell_type": "code",
   "execution_count": 23,
   "id": "9a46a0af",
   "metadata": {},
   "outputs": [
    {
     "name": "stdout",
     "output_type": "stream",
     "text": [
      "*****\n",
      "****\n",
      "***\n",
      "**\n",
      "*\n"
     ]
    }
   ],
   "source": [
    "for i in range(5,0,-1):\n",
    "    for j in range(5):\n",
    "        if j <i:\n",
    "            print('*',end = '')\n",
    "    print()\n",
    "            "
   ]
  },
  {
   "cell_type": "code",
   "execution_count": 24,
   "id": "16092844",
   "metadata": {},
   "outputs": [
    {
     "name": "stdout",
     "output_type": "stream",
     "text": [
      "j는0j는1j는2j는3j는4i는0\n",
      "j는0j는1j는2j는3j는4i는1\n",
      "j는0j는1j는2j는3j는4i는2\n",
      "j는0j는1j는2j는3j는4i는3\n",
      "j는0j는1j는2j는3j는4i는4\n"
     ]
    }
   ],
   "source": [
    "#중첩루프는\n",
    "for i in range(5):\n",
    "    for j in range(5):\n",
    "        print('j는',j, sep = '', end='')\n",
    "    print('i는',i, sep ='')"
   ]
  }
 ],
 "metadata": {
  "kernelspec": {
   "display_name": "Python 3 (ipykernel)",
   "language": "python",
   "name": "python3"
  },
  "language_info": {
   "codemirror_mode": {
    "name": "ipython",
    "version": 3
   },
   "file_extension": ".py",
   "mimetype": "text/x-python",
   "name": "python",
   "nbconvert_exporter": "python",
   "pygments_lexer": "ipython3",
   "version": "3.9.13"
  }
 },
 "nbformat": 4,
 "nbformat_minor": 5
}
