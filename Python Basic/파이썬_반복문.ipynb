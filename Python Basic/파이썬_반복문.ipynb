{
 "cells": [
  {
   "cell_type": "markdown",
   "metadata": {},
   "source": [
    "## 반복문 \n",
    "\n",
    "- 반복적인 작업을 단순한 코드 하나로 효율적으로 진행할 수 있다.\n",
    "- 대부분 for 반복문을 사용하고, while도 있음\n",
    "- 기본적으로는 for를 많이 사용하며, 반복문은 절대로 대충 이해하고 넘어가면 평생 당신의 머리를 괴롭힐 것\n",
    "- 반복문 원리라도 정확하게 이해하시고 꼭 넘어가야 합니다."
   ]
  },
  {
   "cell_type": "code",
   "execution_count": 1,
   "metadata": {},
   "outputs": [
    {
     "name": "stdout",
     "output_type": "stream",
     "text": [
      "돌아왔어요!\n",
      "돌아왔어요!\n",
      "돌아왔어요!\n",
      "돌아왔어요!\n"
     ]
    }
   ],
   "source": [
    "print('돌아왔어요!')\n",
    "print('돌아왔어요!')\n",
    "print('돌아왔어요!')\n",
    "print('돌아왔어요!')"
   ]
  },
  {
   "cell_type": "markdown",
   "metadata": {},
   "source": [
    "- 반복문 구조 \n",
    "- for문에서 range 함수를 많이 사용한다.\n",
    "- for 변수 in range(횟수):\n",
    "    - 반복할 코드 \n",
    "    \n",
    "    \n",
    "- for 반복문 문법, \n",
    "- i 루프인덱스 ( 실제로 업무를 진행하는 친구, 반복문을 실행하는 친구, 일을 한다.),반복문 횟수를 알려준다.\n",
    "- range() - range 함수 동일"
   ]
  },
  {
   "cell_type": "code",
   "execution_count": 2,
   "metadata": {
    "scrolled": true
   },
   "outputs": [
    {
     "name": "stdout",
     "output_type": "stream",
     "text": [
      "돌아왔어요!\n",
      "돌아왔어요!\n",
      "돌아왔어요!\n",
      "돌아왔어요!\n",
      "돌아왔어요!\n",
      "돌아왔어요!\n",
      "돌아왔어요!\n",
      "돌아왔어요!\n",
      "돌아왔어요!\n",
      "돌아왔어요!\n"
     ]
    }
   ],
   "source": [
    "for i in range(10):\n",
    "    print('돌아왔어요!')"
   ]
  },
  {
   "cell_type": "markdown",
   "metadata": {},
   "source": [
    "- 반복문은 몇 번 반복할꺼야?\n",
    "- 몇 번의 반복을 range 함수로 정하는 것\n",
    "- 10번 반복할 것이고 반복할 코드에 내가 원하는 코드를 적는다."
   ]
  },
  {
   "cell_type": "code",
   "execution_count": 3,
   "metadata": {
    "scrolled": true
   },
   "outputs": [
    {
     "name": "stdout",
     "output_type": "stream",
     "text": [
      "돌아왔어요!\n",
      "기말고사가 또 올텐데..\n",
      "기말고사 끝나고도 올거죠..?\n",
      "돌아왔어요!\n",
      "기말고사가 또 올텐데..\n",
      "기말고사 끝나고도 올거죠..?\n",
      "돌아왔어요!\n",
      "기말고사가 또 올텐데..\n",
      "기말고사 끝나고도 올거죠..?\n",
      "돌아왔어요!\n",
      "기말고사가 또 올텐데..\n",
      "기말고사 끝나고도 올거죠..?\n",
      "돌아왔어요!\n",
      "기말고사가 또 올텐데..\n",
      "기말고사 끝나고도 올거죠..?\n",
      "돌아왔어요!\n",
      "기말고사가 또 올텐데..\n",
      "기말고사 끝나고도 올거죠..?\n",
      "돌아왔어요!\n",
      "기말고사가 또 올텐데..\n",
      "기말고사 끝나고도 올거죠..?\n",
      "돌아왔어요!\n",
      "기말고사가 또 올텐데..\n",
      "기말고사 끝나고도 올거죠..?\n",
      "돌아왔어요!\n",
      "기말고사가 또 올텐데..\n",
      "기말고사 끝나고도 올거죠..?\n",
      "돌아왔어요!\n",
      "기말고사가 또 올텐데..\n",
      "기말고사 끝나고도 올거죠..?\n"
     ]
    }
   ],
   "source": [
    "for i in range(10):\n",
    "    print('돌아왔어요!')\n",
    "    print('기말고사가 또 올텐데..')\n",
    "    print('기말고사 끝나고도 올거죠..?')"
   ]
  },
  {
   "cell_type": "code",
   "execution_count": 4,
   "metadata": {},
   "outputs": [
    {
     "name": "stdout",
     "output_type": "stream",
     "text": [
      "0\n",
      "1\n",
      "2\n",
      "3\n",
      "4\n",
      "5\n",
      "6\n",
      "7\n",
      "8\n",
      "9\n"
     ]
    }
   ],
   "source": [
    "for abc in range(10):\n",
    "    print(abc) \n",
    "#루프인덱스는 이름이 바뀌어도 상관이 없음 꼭 i 필요 없음!"
   ]
  },
  {
   "cell_type": "code",
   "execution_count": 5,
   "metadata": {},
   "outputs": [
    {
     "name": "stdout",
     "output_type": "stream",
     "text": [
      "10\n",
      "9\n",
      "8\n",
      "7\n",
      "6\n",
      "5\n",
      "4\n",
      "3\n",
      "2\n"
     ]
    }
   ],
   "source": [
    "for abc in range(10,1,-1):\n",
    "    print(abc) "
   ]
  },
  {
   "cell_type": "markdown",
   "metadata": {},
   "source": [
    "for i in range()\n",
    "- range 함수가 들어간다는 건 결국 숫자가 반환된다는 뜻\n",
    "- range의 숫자만큼 루프인덱스가 반복할 코드를 출력하지만, 루프인덱스를 적으면 숫자를 출력한다."
   ]
  },
  {
   "cell_type": "code",
   "execution_count": 6,
   "metadata": {},
   "outputs": [
    {
     "name": "stdout",
     "output_type": "stream",
     "text": [
      "피곤하시죠.. 0\n",
      "피곤하시죠.. 1\n",
      "피곤하시죠.. 2\n",
      "피곤하시죠.. 3\n",
      "피곤하시죠.. 4\n",
      "피곤하시죠.. 5\n",
      "피곤하시죠.. 6\n",
      "피곤하시죠.. 7\n",
      "피곤하시죠.. 8\n",
      "피곤하시죠.. 9\n"
     ]
    }
   ],
   "source": [
    "for i in range(10):\n",
    "    print('피곤하시죠..',i)"
   ]
  },
  {
   "cell_type": "markdown",
   "metadata": {},
   "source": [
    "- 숫자가 출력된다는 것과 우리가 그렇게 강조했던 index 와 접목을 시킬 것이다."
   ]
  },
  {
   "cell_type": "code",
   "execution_count": 7,
   "metadata": {},
   "outputs": [],
   "source": [
    "a= ['사과','딸기','바나나','귤','감']"
   ]
  },
  {
   "cell_type": "code",
   "execution_count": 8,
   "metadata": {},
   "outputs": [
    {
     "data": {
      "text/plain": [
       "'사과'"
      ]
     },
     "execution_count": 8,
     "metadata": {},
     "output_type": "execute_result"
    }
   ],
   "source": [
    "a[0]"
   ]
  },
  {
   "cell_type": "code",
   "execution_count": 9,
   "metadata": {},
   "outputs": [
    {
     "data": {
      "text/plain": [
       "'딸기'"
      ]
     },
     "execution_count": 9,
     "metadata": {},
     "output_type": "execute_result"
    }
   ],
   "source": [
    "a[1]"
   ]
  },
  {
   "cell_type": "code",
   "execution_count": 10,
   "metadata": {},
   "outputs": [
    {
     "data": {
      "text/plain": [
       "'바나나'"
      ]
     },
     "execution_count": 10,
     "metadata": {},
     "output_type": "execute_result"
    }
   ],
   "source": [
    "a[2]"
   ]
  },
  {
   "cell_type": "markdown",
   "metadata": {},
   "source": [
    "- 루프인덱스와 인덱스를 접목시킬까?"
   ]
  },
  {
   "cell_type": "code",
   "execution_count": 11,
   "metadata": {},
   "outputs": [
    {
     "name": "stdout",
     "output_type": "stream",
     "text": [
      "사과\n",
      "딸기\n",
      "감\n"
     ]
    }
   ],
   "source": [
    "print(a[0])\n",
    "print(a[1])\n",
    "print(a[4])"
   ]
  },
  {
   "cell_type": "code",
   "execution_count": 12,
   "metadata": {},
   "outputs": [
    {
     "name": "stdout",
     "output_type": "stream",
     "text": [
      "사과\n",
      "딸기\n",
      "바나나\n",
      "귤\n",
      "감\n"
     ]
    }
   ],
   "source": [
    "for i in range(5):\n",
    "    print(a[i])"
   ]
  },
  {
   "cell_type": "markdown",
   "metadata": {},
   "source": [
    "### for i in range()로 끝나지 않고\n",
    "### for i in 시퀀스객체가 올 수 있다!!\n",
    "\n",
    "- 기존에는 range 반복문을 만들었다면, 이제는 시퀀스객체로도 반복문을 만들 수 있다."
   ]
  },
  {
   "cell_type": "code",
   "execution_count": 13,
   "metadata": {},
   "outputs": [
    {
     "name": "stdout",
     "output_type": "stream",
     "text": [
      "사과\n",
      "딸기\n",
      "바나나\n",
      "귤\n",
      "감\n"
     ]
    }
   ],
   "source": [
    "for i in a: # 시퀀스객체 a를 끝에 넣게 되면 루프인덱스는 해당 시퀀스객체의 모든 값을 가지고 온다. a 리스트 값을 가지고 옴.\n",
    "    print(i)"
   ]
  },
  {
   "cell_type": "code",
   "execution_count": 14,
   "metadata": {},
   "outputs": [
    {
     "name": "stdout",
     "output_type": "stream",
     "text": [
      "0\n",
      "1\n",
      "2\n",
      "3\n",
      "4\n",
      "5\n",
      "6\n",
      "7\n",
      "8\n",
      "9\n"
     ]
    }
   ],
   "source": [
    "for i in range(10):\n",
    "    print(i)"
   ]
  },
  {
   "cell_type": "code",
   "execution_count": 15,
   "metadata": {},
   "outputs": [
    {
     "name": "stdout",
     "output_type": "stream",
     "text": [
      "사과\n",
      "딸기\n",
      "바나나\n",
      "귤\n",
      "감\n"
     ]
    }
   ],
   "source": [
    "for i in a:\n",
    "    print(i)"
   ]
  },
  {
   "cell_type": "markdown",
   "metadata": {},
   "source": [
    "- range함수와 시퀀스객체를 이용해서 값을 출력할 순 없나요?\n",
    "- range(a)\n"
   ]
  },
  {
   "cell_type": "markdown",
   "metadata": {},
   "source": [
    "- range와 시퀀스객체를 이용해서 해당 시퀀스 객체의 모든 값을 불러오는 방법은 무엇일까?\n"
   ]
  },
  {
   "cell_type": "code",
   "execution_count": 16,
   "metadata": {},
   "outputs": [
    {
     "data": {
      "text/plain": [
       "5"
      ]
     },
     "execution_count": 16,
     "metadata": {},
     "output_type": "execute_result"
    }
   ],
   "source": [
    "len(a)# a의 길이가 나온다."
   ]
  },
  {
   "cell_type": "code",
   "execution_count": 17,
   "metadata": {},
   "outputs": [
    {
     "name": "stdout",
     "output_type": "stream",
     "text": [
      "0\n",
      "1\n",
      "2\n",
      "3\n",
      "4\n"
     ]
    }
   ],
   "source": [
    "for i in range(len(a)):\n",
    "    print(i)"
   ]
  },
  {
   "cell_type": "code",
   "execution_count": 18,
   "metadata": {},
   "outputs": [
    {
     "name": "stdout",
     "output_type": "stream",
     "text": [
      "0\n",
      "1\n",
      "2\n",
      "3\n",
      "4\n"
     ]
    }
   ],
   "source": [
    "for i in range(5):\n",
    "    print(i)"
   ]
  },
  {
   "cell_type": "code",
   "execution_count": 19,
   "metadata": {},
   "outputs": [
    {
     "name": "stdout",
     "output_type": "stream",
     "text": [
      "Python"
     ]
    }
   ],
   "source": [
    "for i in 'Python':\n",
    "    print(i, end='')"
   ]
  },
  {
   "cell_type": "code",
   "execution_count": 20,
   "metadata": {},
   "outputs": [],
   "source": [
    "c='Python'"
   ]
  },
  {
   "cell_type": "code",
   "execution_count": 21,
   "metadata": {},
   "outputs": [
    {
     "name": "stdout",
     "output_type": "stream",
     "text": [
      "012345"
     ]
    }
   ],
   "source": [
    "for i in range(len('Python')):\n",
    "    print(i, end='')"
   ]
  },
  {
   "cell_type": "code",
   "execution_count": 22,
   "metadata": {},
   "outputs": [
    {
     "name": "stdout",
     "output_type": "stream",
     "text": [
      "012345"
     ]
    }
   ],
   "source": [
    "for i in range(len(c)):\n",
    "    print(i, end='')"
   ]
  },
  {
   "cell_type": "code",
   "execution_count": 23,
   "metadata": {},
   "outputs": [
    {
     "name": "stdout",
     "output_type": "stream",
     "text": [
      "Python"
     ]
    }
   ],
   "source": [
    "for i in c:\n",
    "    print(i, end='')"
   ]
  },
  {
   "cell_type": "markdown",
   "metadata": {},
   "source": [
    "#### 구구단 만들기"
   ]
  },
  {
   "cell_type": "code",
   "execution_count": 24,
   "metadata": {},
   "outputs": [
    {
     "name": "stdout",
     "output_type": "stream",
     "text": [
      "9* 1 = 9\n",
      "9* 2 = 18\n",
      "9* 3 = 27\n",
      "9* 4 = 36\n",
      "9* 5 = 45\n",
      "9* 6 = 54\n",
      "9* 7 = 63\n",
      "9* 8 = 72\n",
      "9* 9 = 81\n"
     ]
    }
   ],
   "source": [
    "for i in range(1,10):\n",
    "    print('9*',i,'=',9*i)"
   ]
  },
  {
   "cell_type": "code",
   "execution_count": 25,
   "metadata": {},
   "outputs": [
    {
     "name": "stdout",
     "output_type": "stream",
     "text": [
      "0\n",
      "2\n",
      "4\n",
      "6\n",
      "8\n",
      "10\n",
      "12\n",
      "14\n",
      "16\n",
      "18\n",
      "20\n"
     ]
    }
   ],
   "source": [
    "#조건문 if\n",
    "for i in range(22):\n",
    "    if i % 2 ==0:\n",
    "        print(i)"
   ]
  },
  {
   "cell_type": "markdown",
   "metadata": {},
   "source": [
    "# while 반복문 \n",
    "\n",
    "- for문은 반복할 횟수를 우리가 정할 수 있고, 또 쉽게 지정할 수 있다.\n",
    "- while문은 작동원리가 참이면 계속 작동하고 거짓이면 작동하지 않는다.\n",
    "- True, False \n",
    "- while True이면 반복문은 작동하고 while문이 False 반복문은 종료된다.\n"
   ]
  },
  {
   "cell_type": "code",
   "execution_count": 26,
   "metadata": {},
   "outputs": [
    {
     "name": "stdout",
     "output_type": "stream",
     "text": [
      "for문은 처음이죠!? 0\n",
      "for문은 처음이죠!? 1\n",
      "for문은 처음이죠!? 2\n",
      "for문은 처음이죠!? 3\n",
      "for문은 처음이죠!? 4\n",
      "for문은 처음이죠!? 5\n",
      "for문은 처음이죠!? 6\n",
      "for문은 처음이죠!? 7\n",
      "for문은 처음이죠!? 8\n",
      "for문은 처음이죠!? 9\n"
     ]
    }
   ],
   "source": [
    "for i in range(10):\n",
    "    print('for문은 처음이죠!?',i)"
   ]
  },
  {
   "cell_type": "code",
   "execution_count": 27,
   "metadata": {},
   "outputs": [
    {
     "name": "stdout",
     "output_type": "stream",
     "text": [
      "while문은 처음이죠!? 0\n",
      "while문은 처음이죠!? 1\n",
      "while문은 처음이죠!? 2\n",
      "while문은 처음이죠!? 3\n",
      "while문은 처음이죠!? 4\n",
      "while문은 처음이죠!? 5\n",
      "while문은 처음이죠!? 6\n",
      "while문은 처음이죠!? 7\n",
      "while문은 처음이죠!? 8\n",
      "while문은 처음이죠!? 9\n"
     ]
    }
   ],
   "source": [
    "i = 0 # 초기식 -초기식에 숫자 0을 담는 이유는 정의하지 않으면 에러가 난다.\n",
    "while i < 10: #while 조건식\n",
    "    print('while문은 처음이죠!?', i) #반복할 코드\n",
    "    i += 1 #변화식 -무한루프에 빠지지 않기 위해 변화식을 넣는다."
   ]
  },
  {
   "cell_type": "code",
   "execution_count": 28,
   "metadata": {},
   "outputs": [],
   "source": [
    "#while문의 참과 거짓으로 반복문을 실행해 보면\n",
    "while False:\n",
    "    print('무한루프에 빠져라!')"
   ]
  },
  {
   "cell_type": "code",
   "execution_count": 29,
   "metadata": {},
   "outputs": [
    {
     "name": "stdout",
     "output_type": "stream",
     "text": [
      "False\n"
     ]
    }
   ],
   "source": [
    "x = 10\n",
    "print(x>10)"
   ]
  },
  {
   "cell_type": "markdown",
   "metadata": {},
   "source": [
    "## 변수에 수를 입력 받아서도 반복문 출력이 가능하다."
   ]
  },
  {
   "cell_type": "code",
   "execution_count": 1,
   "metadata": {},
   "outputs": [
    {
     "name": "stdout",
     "output_type": "stream",
     "text": [
      "반복할 횟수를 입력하세요: 5\n"
     ]
    }
   ],
   "source": [
    "cnt = int(input('반복할 횟수를 입력하세요: '))"
   ]
  },
  {
   "cell_type": "code",
   "execution_count": 2,
   "metadata": {},
   "outputs": [
    {
     "data": {
      "text/plain": [
       "5"
      ]
     },
     "execution_count": 2,
     "metadata": {},
     "output_type": "execute_result"
    }
   ],
   "source": [
    "cnt"
   ]
  },
  {
   "cell_type": "code",
   "execution_count": 3,
   "metadata": {},
   "outputs": [
    {
     "name": "stdout",
     "output_type": "stream",
     "text": [
      "0\n",
      "1\n",
      "2\n",
      "3\n",
      "4\n"
     ]
    }
   ],
   "source": [
    "for i in range(cnt):\n",
    "    print(i)"
   ]
  },
  {
   "cell_type": "code",
   "execution_count": 4,
   "metadata": {
    "scrolled": false
   },
   "outputs": [
    {
     "name": "stdout",
     "output_type": "stream",
     "text": [
      "출력해보자! 5\n",
      "출력해보자! 4\n",
      "출력해보자! 3\n",
      "출력해보자! 2\n",
      "출력해보자! 1\n"
     ]
    }
   ],
   "source": [
    "while cnt>0:\n",
    "    print('출력해보자!',cnt)\n",
    "    cnt -= 1"
   ]
  },
  {
   "cell_type": "markdown",
   "metadata": {},
   "source": [
    "### 랜덤 함수 사용해서 주사위 놀이 해보자!"
   ]
  },
  {
   "cell_type": "code",
   "execution_count": 5,
   "metadata": {},
   "outputs": [],
   "source": [
    "import random"
   ]
  },
  {
   "cell_type": "code",
   "execution_count": 6,
   "metadata": {},
   "outputs": [
    {
     "data": {
      "text/plain": [
       "0.5964459594768307"
      ]
     },
     "execution_count": 6,
     "metadata": {},
     "output_type": "execute_result"
    }
   ],
   "source": [
    "random.random()"
   ]
  },
  {
   "cell_type": "markdown",
   "metadata": {},
   "source": [
    "- random.randint(a,b) \n",
    "- a와 b사이의 값을 랜덤하게 생성한다."
   ]
  },
  {
   "cell_type": "code",
   "execution_count": 7,
   "metadata": {},
   "outputs": [
    {
     "data": {
      "text/plain": [
       "2"
      ]
     },
     "execution_count": 7,
     "metadata": {},
     "output_type": "execute_result"
    }
   ],
   "source": [
    "random.randint(1,6)"
   ]
  },
  {
   "cell_type": "markdown",
   "metadata": {},
   "source": [
    "## 주사위의 눈이 5가 나오면 멈추는 반복문을 만들어 볼까?\n",
    "- while문을 이용해서 5가 나오면 멈추는 코드를 만들어 보자!"
   ]
  },
  {
   "cell_type": "code",
   "execution_count": 8,
   "metadata": {},
   "outputs": [
    {
     "name": "stdout",
     "output_type": "stream",
     "text": [
      "1\n",
      "4\n",
      "6\n",
      "1\n",
      "6\n",
      "5\n"
     ]
    }
   ],
   "source": [
    "i = 0\n",
    "\n",
    "while i != 5:\n",
    "    i = random.randint(1,6)\n",
    "    \n",
    "    print(i)\n",
    "\n",
    "#1,2,3,4,6 은 참이고 5면 거짓이된다.\n"
   ]
  },
  {
   "cell_type": "code",
   "execution_count": 9,
   "metadata": {},
   "outputs": [
    {
     "data": {
      "text/plain": [
       "5"
      ]
     },
     "execution_count": 9,
     "metadata": {},
     "output_type": "execute_result"
    }
   ],
   "source": [
    "random.randint(1,6)"
   ]
  }
 ],
 "metadata": {
  "kernelspec": {
   "display_name": "Python 3 (ipykernel)",
   "language": "python",
   "name": "python3"
  },
  "language_info": {
   "codemirror_mode": {
    "name": "ipython",
    "version": 3
   },
   "file_extension": ".py",
   "mimetype": "text/x-python",
   "name": "python",
   "nbconvert_exporter": "python",
   "pygments_lexer": "ipython3",
   "version": "3.9.13"
  }
 },
 "nbformat": 4,
 "nbformat_minor": 4
}
