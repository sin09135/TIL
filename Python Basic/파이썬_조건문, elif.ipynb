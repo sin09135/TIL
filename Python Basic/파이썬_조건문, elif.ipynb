{
 "cells": [
  {
   "cell_type": "markdown",
   "id": "d792a13e",
   "metadata": {},
   "source": [
    "## 조건문 elif"
   ]
  },
  {
   "cell_type": "code",
   "execution_count": 1,
   "id": "55500a53",
   "metadata": {},
   "outputs": [
    {
     "name": "stdout",
     "output_type": "stream",
     "text": [
      "10입니다.\n"
     ]
    }
   ],
   "source": [
    "x = 10\n",
    "if x == 10:\n",
    "    print('10입니다.')"
   ]
  },
  {
   "cell_type": "code",
   "execution_count": 2,
   "id": "aa0a5ee9",
   "metadata": {},
   "outputs": [
    {
     "name": "stdout",
     "output_type": "stream",
     "text": [
      "10이 아닙니다.\n"
     ]
    }
   ],
   "source": [
    "x = 20\n",
    "if x ==10:\n",
    "    print('10입니다.')\n",
    "else:\n",
    "    print('10이 아닙니다.')\n"
   ]
  },
  {
   "cell_type": "code",
   "execution_count": 5,
   "id": "8d8eea25",
   "metadata": {},
   "outputs": [
    {
     "ename": "SyntaxError",
     "evalue": "invalid syntax (1786490891.py, line 3)",
     "output_type": "error",
     "traceback": [
      "\u001b[0;36m  File \u001b[0;32m\"/var/folders/nz/vk3v33x95bs4kf3ymy0z0my00000gn/T/ipykernel_988/1786490891.py\"\u001b[0;36m, line \u001b[0;32m3\u001b[0m\n\u001b[0;31m    - if조건식:\u001b[0m\n\u001b[0m            ^\u001b[0m\n\u001b[0;31mSyntaxError\u001b[0m\u001b[0;31m:\u001b[0m invalid syntax\n"
     ]
    }
   ],
   "source": [
    "##조건문은 if, elif, else 모두 사용해서 마무리 한다\n",
    "\n",
    "- if조건식:\n",
    "    - 해당코드\n",
    "- elif 조건식:\n",
    "    - 해당코드\n",
    "- else:\n",
    "    - 해당코드"
   ]
  },
  {
   "cell_type": "code",
   "execution_count": 6,
   "id": "d8ed825a",
   "metadata": {},
   "outputs": [
    {
     "name": "stdout",
     "output_type": "stream",
     "text": [
      "30입니다.\n"
     ]
    }
   ],
   "source": [
    "x = 30\n",
    "if x == 10:\n",
    "    print('10입니다.')\n",
    "elif x == 30:\n",
    "    print('30입니다.')\n",
    "else:\n",
    "    print('10이 아닙니다.')"
   ]
  },
  {
   "cell_type": "markdown",
   "id": "43f882e8",
   "metadata": {},
   "source": [
    "- if 문의 시작\n",
    "- if 워드파일, 엑셀파일 하나를 새롭게 여는 것\n",
    "- 하나의 작업을 끝내는 과정에서 워드파일 하나 열어서 그걸로 마무리 짓는게 가장 깔끔\n",
    "- if, if, 워드 파일을 여러개 열어서 작업을 한다는 개념\n",
    "- 비효울적, 내가 어떤 워드파일을 마무리하고 있는지 찾기도 어렵고\n",
    "- 워드파일을 열었으니 if 마무리 짓기 위해서는 elif, else 로 하나의 워드파일을 끝낸다.\n",
    "- 유저에게 input 데이터를 기반으로 아래 코드 if문 작성\n",
    "\n",
    "## 자판기 코드\n",
    "1번을 누르면 콜라\n",
    "2번을 누르면 사이다\n",
    "3번을 누르면 환타\n",
    "4번을 누르면 잔돈을 반환\n",
    "그외 다른 번호는 잘못 눌렀습니다."
   ]
  },
  {
   "cell_type": "code",
   "execution_count": 1,
   "id": "f03cb51b",
   "metadata": {},
   "outputs": [
    {
     "name": "stdout",
     "output_type": "stream",
     "text": [
      "번호를 선택해주세요1\n",
      "콜라\n"
     ]
    }
   ],
   "source": [
    "choose = int(input(\"번호를 선택해주세요\"))\n",
    "\n",
    "if choose== 1:\n",
    "    print(\"콜라\")\n",
    "elif choose== 2:\n",
    "    print(\"사이다\")\n",
    "elif choose== 3:\n",
    "    print(\"환타\")\n",
    "elif choose==4:\n",
    "    print(\"잔돈을 반환\")  \n",
    "else :\n",
    "    print(\"잘못 눌렀습니다.\")"
   ]
  },
  {
   "cell_type": "markdown",
   "id": "e5e7e18d",
   "metadata": {},
   "source": [
    "## 반복문 들어가기!\n",
    "- 반복적인 업무에 대한 비효울을 개선하고 효율적인 업무처리를 위해서 진행한다.\n",
    "- 반복문을 통한 전처리는 필수적"
   ]
  },
  {
   "cell_type": "code",
   "execution_count": 2,
   "id": "226a1bf0",
   "metadata": {},
   "outputs": [
    {
     "name": "stdout",
     "output_type": "stream",
     "text": [
      "안녕\n"
     ]
    }
   ],
   "source": [
    "print('안녕')"
   ]
  },
  {
   "cell_type": "code",
   "execution_count": 3,
   "id": "e1c5d598",
   "metadata": {},
   "outputs": [
    {
     "name": "stdout",
     "output_type": "stream",
     "text": [
      "안녕\n"
     ]
    },
    {
     "ename": "TypeError",
     "evalue": "unsupported operand type(s) for *: 'NoneType' and 'int'",
     "output_type": "error",
     "traceback": [
      "\u001b[0;31m---------------------------------------------------------------------------\u001b[0m",
      "\u001b[0;31mTypeError\u001b[0m                                 Traceback (most recent call last)",
      "\u001b[0;32m/var/folders/nz/vk3v33x95bs4kf3ymy0z0my00000gn/T/ipykernel_1463/3974683614.py\u001b[0m in \u001b[0;36m<module>\u001b[0;34m\u001b[0m\n\u001b[0;32m----> 1\u001b[0;31m \u001b[0mprint\u001b[0m\u001b[0;34m(\u001b[0m\u001b[0;34m'안녕'\u001b[0m\u001b[0;34m)\u001b[0m\u001b[0;34m*\u001b[0m\u001b[0;36m100\u001b[0m\u001b[0;34m\u001b[0m\u001b[0;34m\u001b[0m\u001b[0m\n\u001b[0m",
      "\u001b[0;31mTypeError\u001b[0m: unsupported operand type(s) for *: 'NoneType' and 'int'"
     ]
    }
   ],
   "source": [
    "print('안녕')*100"
   ]
  },
  {
   "cell_type": "code",
   "execution_count": 4,
   "id": "fe6c9011",
   "metadata": {},
   "outputs": [
    {
     "name": "stdout",
     "output_type": "stream",
     "text": [
      "안녕\n",
      "안녕\n",
      "안녕\n",
      "안녕\n",
      "안녕\n"
     ]
    }
   ],
   "source": [
    "print('안녕')\n",
    "print('안녕')\n",
    "print('안녕')\n",
    "print('안녕')\n",
    "print('안녕')"
   ]
  },
  {
   "cell_type": "markdown",
   "id": "e6a1bf8d",
   "metadata": {},
   "source": [
    "- 대부분 for 문을 사용합니다.\n",
    "- while 문도 있다."
   ]
  },
  {
   "cell_type": "markdown",
   "id": "1964ef6b",
   "metadata": {},
   "source": [
    "## for문"
   ]
  },
  {
   "cell_type": "markdown",
   "id": "2926368f",
   "metadata": {},
   "source": [
    "- for 변수 in range(횟수):\n",
    "    -반복할 코드\n",
    "- range(횟수) - 내가 원하는 반복할 코드를 진행할 횟수\n",
    "- i 루프인덱스\n",
    "- i 라는 녀석은 반복문을 일하는 친구\n",
    "- i 가 10번 print 를 만든다고 생각하면 된다.\n",
    "- i 일꾼의 개념\n",
    "- i는 그 무엇도 될 수 있다."
   ]
  },
  {
   "cell_type": "code",
   "execution_count": 5,
   "id": "a49628f6",
   "metadata": {},
   "outputs": [
    {
     "name": "stdout",
     "output_type": "stream",
     "text": [
      "시험 끝나고 다시 올거죠?\n",
      "시험 끝나고 다시 올거죠?\n",
      "시험 끝나고 다시 올거죠?\n",
      "시험 끝나고 다시 올거죠?\n",
      "시험 끝나고 다시 올거죠?\n",
      "시험 끝나고 다시 올거죠?\n",
      "시험 끝나고 다시 올거죠?\n",
      "시험 끝나고 다시 올거죠?\n",
      "시험 끝나고 다시 올거죠?\n",
      "시험 끝나고 다시 올거죠?\n"
     ]
    }
   ],
   "source": [
    "for i in range(10):\n",
    "    print('시험 끝나고 다시 올거죠?')"
   ]
  },
  {
   "cell_type": "code",
   "execution_count": 6,
   "id": "35dc39ff",
   "metadata": {},
   "outputs": [
    {
     "name": "stdout",
     "output_type": "stream",
     "text": [
      "시험 끝나고 다시 올거죠?\n",
      "시험 끝나고 다시 올거죠?\n",
      "시험 끝나고 다시 올거죠?\n",
      "시험 끝나고 다시 올거죠?\n",
      "시험 끝나고 다시 올거죠?\n",
      "시험 끝나고 다시 올거죠?\n",
      "시험 끝나고 다시 올거죠?\n",
      "시험 끝나고 다시 올거죠?\n",
      "시험 끝나고 다시 올거죠?\n",
      "시험 끝나고 다시 올거죠?\n"
     ]
    }
   ],
   "source": [
    "for j in range(10):\n",
    "    print('시험 끝나고 다시 올거죠?')"
   ]
  },
  {
   "cell_type": "code",
   "execution_count": 7,
   "id": "971daad7",
   "metadata": {},
   "outputs": [
    {
     "name": "stdout",
     "output_type": "stream",
     "text": [
      "시험 끝나고 다시 올거죠?\n",
      "시험 끝나고 다시 올거죠?\n",
      "시험 끝나고 다시 올거죠?\n",
      "시험 끝나고 다시 올거죠?\n",
      "시험 끝나고 다시 올거죠?\n",
      "시험 끝나고 다시 올거죠?\n",
      "시험 끝나고 다시 올거죠?\n",
      "시험 끝나고 다시 올거죠?\n",
      "시험 끝나고 다시 올거죠?\n",
      "시험 끝나고 다시 올거죠?\n"
     ]
    }
   ],
   "source": [
    "for abc in range(10):\n",
    "    print('시험 끝나고 다시 올거죠?')"
   ]
  },
  {
   "cell_type": "code",
   "execution_count": 9,
   "id": "3d52058b",
   "metadata": {},
   "outputs": [
    {
     "name": "stdout",
     "output_type": "stream",
     "text": [
      "짝수인가? 0\n",
      "짝수인가? 2\n",
      "짝수인가? 4\n",
      "짝수인가? 6\n",
      "짝수인가? 8\n"
     ]
    }
   ],
   "source": [
    "for i in range(0,10,2):\n",
    "    print('짝수인가?',i)"
   ]
  },
  {
   "cell_type": "code",
   "execution_count": 10,
   "id": "6a50aea3",
   "metadata": {},
   "outputs": [],
   "source": [
    "a = [1,2,3,4,5]"
   ]
  },
  {
   "cell_type": "code",
   "execution_count": 11,
   "id": "671cbc6b",
   "metadata": {},
   "outputs": [
    {
     "data": {
      "text/plain": [
       "1"
      ]
     },
     "execution_count": 11,
     "metadata": {},
     "output_type": "execute_result"
    }
   ],
   "source": [
    "a[0]"
   ]
  },
  {
   "cell_type": "code",
   "execution_count": 12,
   "id": "2a2517fe",
   "metadata": {},
   "outputs": [
    {
     "name": "stdout",
     "output_type": "stream",
     "text": [
      "9\n",
      "8\n",
      "7\n",
      "6\n",
      "5\n",
      "4\n",
      "3\n",
      "2\n",
      "1\n",
      "0\n"
     ]
    }
   ],
   "source": [
    "#증가폭을 감소하는 형태로 하는 함수\n",
    "for i in reversed(range(10)):\n",
    "    print(i)"
   ]
  },
  {
   "cell_type": "code",
   "execution_count": 13,
   "id": "c8169e1e",
   "metadata": {},
   "outputs": [
    {
     "name": "stdout",
     "output_type": "stream",
     "text": [
      "반복문 몇번 할거임?5\n"
     ]
    }
   ],
   "source": [
    "cnt = int(input('반복문 몇번 할거임?'))"
   ]
  },
  {
   "cell_type": "code",
   "execution_count": 14,
   "id": "9c334479",
   "metadata": {},
   "outputs": [
    {
     "data": {
      "text/plain": [
       "5"
      ]
     },
     "execution_count": 14,
     "metadata": {},
     "output_type": "execute_result"
    }
   ],
   "source": [
    "cnt"
   ]
  },
  {
   "cell_type": "code",
   "execution_count": 16,
   "id": "82550656",
   "metadata": {},
   "outputs": [
    {
     "name": "stdout",
     "output_type": "stream",
     "text": [
      "5번이래\n",
      "5번이래\n",
      "5번이래\n",
      "5번이래\n",
      "5번이래\n"
     ]
    }
   ],
   "source": [
    "for i in range(cnt):\n",
    "    print('5번이래')"
   ]
  },
  {
   "cell_type": "code",
   "execution_count": 17,
   "id": "776ef307",
   "metadata": {},
   "outputs": [],
   "source": [
    "a = [10,11]"
   ]
  },
  {
   "cell_type": "code",
   "execution_count": 18,
   "id": "753673d8",
   "metadata": {},
   "outputs": [
    {
     "ename": "TypeError",
     "evalue": "'list' object cannot be interpreted as an integer",
     "output_type": "error",
     "traceback": [
      "\u001b[0;31m---------------------------------------------------------------------------\u001b[0m",
      "\u001b[0;31mTypeError\u001b[0m                                 Traceback (most recent call last)",
      "\u001b[0;32m/var/folders/nz/vk3v33x95bs4kf3ymy0z0my00000gn/T/ipykernel_1463/1222041519.py\u001b[0m in \u001b[0;36m<module>\u001b[0;34m\u001b[0m\n\u001b[0;32m----> 1\u001b[0;31m \u001b[0;32mfor\u001b[0m \u001b[0mi\u001b[0m \u001b[0;32min\u001b[0m \u001b[0mrange\u001b[0m\u001b[0;34m(\u001b[0m\u001b[0ma\u001b[0m\u001b[0;34m)\u001b[0m\u001b[0;34m:\u001b[0m\u001b[0;34m\u001b[0m\u001b[0;34m\u001b[0m\u001b[0m\n\u001b[0m\u001b[1;32m      2\u001b[0m     \u001b[0mprint\u001b[0m\u001b[0;34m(\u001b[0m\u001b[0;34m'5번이래'\u001b[0m\u001b[0;34m)\u001b[0m\u001b[0;34m\u001b[0m\u001b[0;34m\u001b[0m\u001b[0m\n",
      "\u001b[0;31mTypeError\u001b[0m: 'list' object cannot be interpreted as an integer"
     ]
    }
   ],
   "source": [
    "for i in range(a):\n",
    "    print('5번이래')"
   ]
  },
  {
   "cell_type": "code",
   "execution_count": 19,
   "id": "c5cc49ee",
   "metadata": {},
   "outputs": [
    {
     "name": "stdout",
     "output_type": "stream",
     "text": [
      "5번이래\n",
      "5번이래\n"
     ]
    }
   ],
   "source": [
    "for i in range(len(a)):\n",
    "    print('5번이래')"
   ]
  },
  {
   "cell_type": "markdown",
   "id": "90a39abb",
   "metadata": {},
   "source": [
    "## 시퀀스객체를 반복문으로 불러오기\n",
    "- 데이터분석의 전처리를 위해서 반복문을 연습하는 것"
   ]
  },
  {
   "cell_type": "code",
   "execution_count": 20,
   "id": "d3de32f9",
   "metadata": {},
   "outputs": [],
   "source": [
    "#리스트로 불러오기"
   ]
  },
  {
   "cell_type": "code",
   "execution_count": 21,
   "id": "018e1278",
   "metadata": {},
   "outputs": [],
   "source": [
    "a = [100,200,300,400,500,600]"
   ]
  },
  {
   "cell_type": "code",
   "execution_count": 22,
   "id": "bd191e0b",
   "metadata": {},
   "outputs": [],
   "source": [
    "#리스트 안에 있는 값을 불러오고 싶다.."
   ]
  },
  {
   "cell_type": "code",
   "execution_count": 23,
   "id": "d1846be8",
   "metadata": {},
   "outputs": [
    {
     "name": "stdout",
     "output_type": "stream",
     "text": [
      "100\n",
      "200\n",
      "300\n",
      "400\n",
      "500\n",
      "600\n"
     ]
    }
   ],
   "source": [
    "for i in a: #시퀀스 객체를 바로 넣은 것\n",
    "    print(i)"
   ]
  },
  {
   "cell_type": "code",
   "execution_count": 24,
   "id": "f1f01b12",
   "metadata": {},
   "outputs": [
    {
     "name": "stdout",
     "output_type": "stream",
     "text": [
      "100\n",
      "200\n",
      "300\n",
      "400\n",
      "500\n",
      "600\n"
     ]
    }
   ],
   "source": [
    "for i in range(len(a)): #시퀀스객체를 len, range를 이용해서 전체 인덱스 숫자로 반환\n",
    "    print(a[i])"
   ]
  },
  {
   "cell_type": "markdown",
   "id": "b1434f6b",
   "metadata": {},
   "source": [
    "## 인덱스 기반으로 접근할 때는\n",
    "- range 함수에 숫자가 들어가야 한다.\n",
    "- 인덱스 기반으로 출력하기 위해서는 print문 안에 인덱스로 출력하는 코드를 작성해야 한다.\n",
    "- a[0]"
   ]
  },
  {
   "cell_type": "code",
   "execution_count": 25,
   "id": "e2c1de0f",
   "metadata": {},
   "outputs": [],
   "source": [
    "a=['문법기초반','문법응용반','분석기초반','분석중급반','분석고급반']"
   ]
  },
  {
   "cell_type": "code",
   "execution_count": 26,
   "id": "205297a5",
   "metadata": {},
   "outputs": [
    {
     "name": "stdout",
     "output_type": "stream",
     "text": [
      "문법기초반\n",
      "문법응용반\n",
      "분석기초반\n",
      "분석중급반\n",
      "분석고급반\n"
     ]
    }
   ],
   "source": [
    "#인덱스 기반 접근\n",
    "for i in range(5):\n",
    "    print(a[i])"
   ]
  },
  {
   "cell_type": "code",
   "execution_count": 27,
   "id": "e486657a",
   "metadata": {},
   "outputs": [
    {
     "name": "stdout",
     "output_type": "stream",
     "text": [
      "문법기초반\n",
      "문법응용반\n",
      "분석기초반\n",
      "분석중급반\n",
      "분석고급반\n"
     ]
    }
   ],
   "source": [
    "for i in a:\n",
    "    print(i)"
   ]
  },
  {
   "cell_type": "markdown",
   "id": "09df866a",
   "metadata": {},
   "source": [
    "## 문자열도 가능"
   ]
  },
  {
   "cell_type": "code",
   "execution_count": 28,
   "id": "c8f6c331",
   "metadata": {},
   "outputs": [
    {
     "name": "stdout",
     "output_type": "stream",
     "text": [
      "Python"
     ]
    }
   ],
   "source": [
    "for i in 'Python':\n",
    "    print(i, end = '')"
   ]
  },
  {
   "cell_type": "code",
   "execution_count": 29,
   "id": "b64ebe52",
   "metadata": {},
   "outputs": [
    {
     "name": "stdout",
     "output_type": "stream",
     "text": [
      "11* 1 = 11\n",
      "11* 2 = 22\n",
      "11* 3 = 33\n",
      "11* 4 = 44\n",
      "11* 5 = 55\n",
      "11* 6 = 66\n",
      "11* 7 = 77\n",
      "11* 8 = 88\n",
      "11* 9 = 99\n",
      "11* 10 = 110\n",
      "11* 11 = 121\n"
     ]
    }
   ],
   "source": [
    "#구구단\n",
    "for i in range(1,12):\n",
    "    print('11*',i,'=',11*i)"
   ]
  },
  {
   "cell_type": "code",
   "execution_count": 32,
   "id": "c6e05c39",
   "metadata": {},
   "outputs": [
    {
     "name": "stdout",
     "output_type": "stream",
     "text": [
      "11* 1 = 11\n",
      "11* 2 = 22\n",
      "11* 3 = 33\n",
      "11* 4 = 44\n",
      "11* 5 = 55\n",
      "11* 6 = 66\n",
      "11* 7 = 77\n",
      "11* 8 = 88\n",
      "11* 9 = 99\n",
      "11* 10 = 110\n",
      "11* 11 = 121\n",
      "11* 12 = 132\n"
     ]
    }
   ],
   "source": [
    "for i in range(12):\n",
    "    print('11*',i+1,'=',11*(i+1))"
   ]
  },
  {
   "cell_type": "code",
   "execution_count": 33,
   "id": "84434eb0",
   "metadata": {},
   "outputs": [
    {
     "name": "stdout",
     "output_type": "stream",
     "text": [
      "0\n",
      "2\n",
      "4\n",
      "6\n",
      "8\n"
     ]
    }
   ],
   "source": [
    "for i in range(10):\n",
    "    if i % 2 ==0:\n",
    "        print(i)"
   ]
  }
 ],
 "metadata": {
  "kernelspec": {
   "display_name": "Python 3 (ipykernel)",
   "language": "python",
   "name": "python3"
  },
  "language_info": {
   "codemirror_mode": {
    "name": "ipython",
    "version": 3
   },
   "file_extension": ".py",
   "mimetype": "text/x-python",
   "name": "python",
   "nbconvert_exporter": "python",
   "pygments_lexer": "ipython3",
   "version": "3.9.13"
  }
 },
 "nbformat": 4,
 "nbformat_minor": 5
}
