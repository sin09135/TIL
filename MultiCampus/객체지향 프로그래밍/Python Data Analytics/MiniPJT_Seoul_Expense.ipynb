{
 "cells": [
  {
   "cell_type": "markdown",
   "metadata": {
    "id": "JzyWan47ycgI"
   },
   "source": [
    "# 서울시 업무추진비 분석\n",
    "\n",
    "\n",
    "## https://opengov.seoul.go.kr\n",
    "## https://github.com/seoul-opengov/opengov"
   ]
  },
  {
   "cell_type": "markdown",
   "metadata": {
    "id": "l2fQt87xmtxe"
   },
   "source": [
    "# O. 한글폰트 설치 후 진행"
   ]
  },
  {
   "cell_type": "markdown",
   "metadata": {
    "id": "C68GD71Jm524"
   },
   "source": [
    "> ## 1) 한글 폰트 설치"
   ]
  },
  {
   "cell_type": "code",
   "execution_count": 1,
   "metadata": {
    "id": "uvR2Ud5yH8nM"
   },
   "outputs": [
    {
     "name": "stdout",
     "output_type": "stream",
     "text": [
      "zsh:1: command not found: apt-get\r\n"
     ]
    }
   ],
   "source": [
    "import matplotlib.font_manager as fm\n",
    "\n",
    "# Linux\n",
    "!apt-get -qq -y install fonts-nanum > /dev/null\n",
    "\n",
    "# Colab\n",
    "fontpath = '/usr/share/fonts/truetype/nanum/NanumBarunGothic.ttf'\n",
    "font = fm.FontProperties(fname = fontpath, size = 10)\n",
    "# fm._rebuild()\n",
    "!rm -rf ~/.cache/matplotlib -rf"
   ]
  },
  {
   "cell_type": "markdown",
   "metadata": {
    "id": "hg5568KEJFqe"
   },
   "source": [
    "> ## 2) <font color = 'red'>설치 후 '**런타임 다시 시작**'</font>\n",
    "\n",
    "* 런타임 강제 종료 후 다시 시작"
   ]
  },
  {
   "cell_type": "code",
   "execution_count": null,
   "metadata": {
    "id": "tOEwoWIRIFEd"
   },
   "outputs": [],
   "source": [
    "import os\n",
    "\n",
    "os.kill(os.getpid(), 9)"
   ]
  },
  {
   "cell_type": "markdown",
   "metadata": {
    "id": "CuIU7YN8nC_n"
   },
   "source": [
    "> ## 3) 한글 폰트 설정"
   ]
  },
  {
   "cell_type": "code",
   "execution_count": 1,
   "metadata": {
    "id": "Erl30qD_IK_g"
   },
   "outputs": [
    {
     "ename": "FileNotFoundError",
     "evalue": "[Errno 2] No such file or directory: '/usr/share/fonts/truetype/nanum/NanumGothicBold.ttf'",
     "output_type": "error",
     "traceback": [
      "\u001b[0;31m---------------------------------------------------------------------------\u001b[0m",
      "\u001b[0;31mFileNotFoundError\u001b[0m                         Traceback (most recent call last)",
      "\u001b[0;32m/var/folders/nz/vk3v33x95bs4kf3ymy0z0my00000gn/T/ipykernel_1128/397555031.py\u001b[0m in \u001b[0;36m<module>\u001b[0;34m\u001b[0m\n\u001b[1;32m      6\u001b[0m \u001b[0;34m\u001b[0m\u001b[0m\n\u001b[1;32m      7\u001b[0m \u001b[0mpath\u001b[0m \u001b[0;34m=\u001b[0m \u001b[0;34m'/usr/share/fonts/truetype/nanum/NanumGothicBold.ttf'\u001b[0m\u001b[0;34m\u001b[0m\u001b[0;34m\u001b[0m\u001b[0m\n\u001b[0;32m----> 8\u001b[0;31m \u001b[0mfont_name\u001b[0m \u001b[0;34m=\u001b[0m \u001b[0mfm\u001b[0m\u001b[0;34m.\u001b[0m\u001b[0mFontProperties\u001b[0m\u001b[0;34m(\u001b[0m\u001b[0mfname\u001b[0m \u001b[0;34m=\u001b[0m \u001b[0mpath\u001b[0m\u001b[0;34m,\u001b[0m \u001b[0msize\u001b[0m \u001b[0;34m=\u001b[0m \u001b[0;36m10\u001b[0m\u001b[0;34m)\u001b[0m\u001b[0;34m.\u001b[0m\u001b[0mget_name\u001b[0m\u001b[0;34m(\u001b[0m\u001b[0;34m)\u001b[0m\u001b[0;34m\u001b[0m\u001b[0;34m\u001b[0m\u001b[0m\n\u001b[0m\u001b[1;32m      9\u001b[0m \u001b[0mplt\u001b[0m\u001b[0;34m.\u001b[0m\u001b[0mrc\u001b[0m\u001b[0;34m(\u001b[0m\u001b[0;34m'font'\u001b[0m\u001b[0;34m,\u001b[0m \u001b[0mfamily\u001b[0m \u001b[0;34m=\u001b[0m \u001b[0mfont_name\u001b[0m\u001b[0;34m)\u001b[0m\u001b[0;34m\u001b[0m\u001b[0;34m\u001b[0m\u001b[0m\n\u001b[1;32m     10\u001b[0m \u001b[0;31m# fm._rebuild()\u001b[0m\u001b[0;34m\u001b[0m\u001b[0;34m\u001b[0m\u001b[0m\n",
      "\u001b[0;32m~/opt/anaconda3/lib/python3.9/site-packages/matplotlib/font_manager.py\u001b[0m in \u001b[0;36mget_name\u001b[0;34m(self)\u001b[0m\n\u001b[1;32m    735\u001b[0m         \u001b[0mReturn\u001b[0m \u001b[0mthe\u001b[0m \u001b[0mname\u001b[0m \u001b[0mof\u001b[0m \u001b[0mthe\u001b[0m \u001b[0mfont\u001b[0m \u001b[0mthat\u001b[0m \u001b[0mbest\u001b[0m \u001b[0mmatches\u001b[0m \u001b[0mthe\u001b[0m \u001b[0mfont\u001b[0m \u001b[0mproperties\u001b[0m\u001b[0;34m.\u001b[0m\u001b[0;34m\u001b[0m\u001b[0;34m\u001b[0m\u001b[0m\n\u001b[1;32m    736\u001b[0m         \"\"\"\n\u001b[0;32m--> 737\u001b[0;31m         \u001b[0;32mreturn\u001b[0m \u001b[0mget_font\u001b[0m\u001b[0;34m(\u001b[0m\u001b[0mfindfont\u001b[0m\u001b[0;34m(\u001b[0m\u001b[0mself\u001b[0m\u001b[0;34m)\u001b[0m\u001b[0;34m)\u001b[0m\u001b[0;34m.\u001b[0m\u001b[0mfamily_name\u001b[0m\u001b[0;34m\u001b[0m\u001b[0;34m\u001b[0m\u001b[0m\n\u001b[0m\u001b[1;32m    738\u001b[0m \u001b[0;34m\u001b[0m\u001b[0m\n\u001b[1;32m    739\u001b[0m     \u001b[0;32mdef\u001b[0m \u001b[0mget_style\u001b[0m\u001b[0;34m(\u001b[0m\u001b[0mself\u001b[0m\u001b[0;34m)\u001b[0m\u001b[0;34m:\u001b[0m\u001b[0;34m\u001b[0m\u001b[0;34m\u001b[0m\u001b[0m\n",
      "\u001b[0;32m~/opt/anaconda3/lib/python3.9/site-packages/matplotlib/font_manager.py\u001b[0m in \u001b[0;36mget_font\u001b[0;34m(filename, hinting_factor)\u001b[0m\n\u001b[1;32m   1422\u001b[0m         \u001b[0mhinting_factor\u001b[0m \u001b[0;34m=\u001b[0m \u001b[0mrcParams\u001b[0m\u001b[0;34m[\u001b[0m\u001b[0;34m'text.hinting_factor'\u001b[0m\u001b[0;34m]\u001b[0m\u001b[0;34m\u001b[0m\u001b[0;34m\u001b[0m\u001b[0m\n\u001b[1;32m   1423\u001b[0m     \u001b[0;31m# also key on the thread ID to prevent segfaults with multi-threading\u001b[0m\u001b[0;34m\u001b[0m\u001b[0;34m\u001b[0m\u001b[0m\n\u001b[0;32m-> 1424\u001b[0;31m     return _get_font(filename, hinting_factor,\n\u001b[0m\u001b[1;32m   1425\u001b[0m                      \u001b[0m_kerning_factor\u001b[0m\u001b[0;34m=\u001b[0m\u001b[0mrcParams\u001b[0m\u001b[0;34m[\u001b[0m\u001b[0;34m'text.kerning_factor'\u001b[0m\u001b[0;34m]\u001b[0m\u001b[0;34m,\u001b[0m\u001b[0;34m\u001b[0m\u001b[0;34m\u001b[0m\u001b[0m\n\u001b[1;32m   1426\u001b[0m                      thread_id=threading.get_ident())\n",
      "\u001b[0;32m~/opt/anaconda3/lib/python3.9/site-packages/matplotlib/font_manager.py\u001b[0m in \u001b[0;36m_get_font\u001b[0;34m(filename, hinting_factor, _kerning_factor, thread_id)\u001b[0m\n\u001b[1;32m   1403\u001b[0m \u001b[0;34m@\u001b[0m\u001b[0mlru_cache\u001b[0m\u001b[0;34m(\u001b[0m\u001b[0;36m64\u001b[0m\u001b[0;34m)\u001b[0m\u001b[0;34m\u001b[0m\u001b[0;34m\u001b[0m\u001b[0m\n\u001b[1;32m   1404\u001b[0m \u001b[0;32mdef\u001b[0m \u001b[0m_get_font\u001b[0m\u001b[0;34m(\u001b[0m\u001b[0mfilename\u001b[0m\u001b[0;34m,\u001b[0m \u001b[0mhinting_factor\u001b[0m\u001b[0;34m,\u001b[0m \u001b[0;34m*\u001b[0m\u001b[0;34m,\u001b[0m \u001b[0m_kerning_factor\u001b[0m\u001b[0;34m,\u001b[0m \u001b[0mthread_id\u001b[0m\u001b[0;34m)\u001b[0m\u001b[0;34m:\u001b[0m\u001b[0;34m\u001b[0m\u001b[0;34m\u001b[0m\u001b[0m\n\u001b[0;32m-> 1405\u001b[0;31m     return ft2font.FT2Font(\n\u001b[0m\u001b[1;32m   1406\u001b[0m         filename, hinting_factor, _kerning_factor=_kerning_factor)\n\u001b[1;32m   1407\u001b[0m \u001b[0;34m\u001b[0m\u001b[0m\n",
      "\u001b[0;31mFileNotFoundError\u001b[0m: [Errno 2] No such file or directory: '/usr/share/fonts/truetype/nanum/NanumGothicBold.ttf'"
     ]
    }
   ],
   "source": [
    "import matplotlib.pyplot as plt\n",
    "import matplotlib as mpl\n",
    "import matplotlib.font_manager as fm\n",
    "\n",
    "mpl.rcParams['axes.unicode_minus'] = False\n",
    "\n",
    "path = '/usr/share/fonts/truetype/nanum/NanumGothicBold.ttf'\n",
    "font_name = fm.FontProperties(fname = path, size = 10).get_name()\n",
    "plt.rc('font', family = font_name)\n",
    "# fm._rebuild()\n",
    "!rm -rf ~/.cache/matplotlib -rf"
   ]
  },
  {
   "cell_type": "markdown",
   "metadata": {
    "id": "V8NZLl5G12Eh"
   },
   "source": [
    "# I. 데이터 수집"
   ]
  },
  {
   "cell_type": "code",
   "execution_count": 2,
   "metadata": {
    "id": "RbPgODpVzdHI"
   },
   "outputs": [],
   "source": [
    "import warnings\n",
    "warnings.filterwarnings('ignore')"
   ]
  },
  {
   "cell_type": "markdown",
   "metadata": {
    "id": "bfOjVrPOjWSK"
   },
   "source": [
    "> ## 1) 파일 다운로드 함수 정의\n",
    "\n",
    "* 01. github 경로 지정\n",
    "* 02. 다운로드 폴더 지정\n",
    "* 03. 다운로드 폴더 확인 또는 생성\n",
    "* 04. 1월 ~ 12월 업무추진비 파일 다운로드"
   ]
  },
  {
   "cell_type": "code",
   "execution_count": 3,
   "metadata": {
    "id": "khHsf1UH0bKC"
   },
   "outputs": [],
   "source": [
    "import requests\n",
    "import os\n",
    "import pathlib\n",
    "\n",
    "def get_seoul_expense_list(extension, year, data_folder):\n",
    "\n",
    "    # 01\n",
    "    expense_list_year_url = 'https://github.com/seoul-opengov/opengov/raw/master/expense_list' + str(year) + '/'\n",
    "\n",
    "    # 02\n",
    "    expense_list_year_dir = data_folder + str(year) + '/'\n",
    "\n",
    "    # 03\n",
    "    if(os.path.isdir(expense_list_year_dir)):\n",
    "        print('폴더({0})가 존재합니다. {0}년 데이터의 다운로드를 시작합니다.'.format(year))\n",
    "    else:\n",
    "        print('폴더({0})를 생성했습니다. {0}년 데이터의 다운로드를 시작합니다.'.format(year))\n",
    "        pathlib.Path(expense_list_year_dir).mkdir(parents = True, exist_ok = True)\n",
    "\n",
    "    # 04\n",
    "    for k in range(12):\n",
    "        file_name = '{0}{1:02d}_expense_list.{2}'.format(year, k+1, extension)\n",
    "        url = expense_list_year_url + file_name\n",
    "        print(url)\n",
    "        r = requests.get(url)\n",
    "        with open(expense_list_year_dir + file_name, 'wb') as f:\n",
    "            f.write(r.content)"
   ]
  },
  {
   "cell_type": "markdown",
   "metadata": {
    "id": "ehnJrUlC51pZ"
   },
   "source": [
    "> ## 2) 함수 실행 옵션\n",
    "\n",
    "* 파일 타입 지정\n",
    "* 연도 지정(2017~2019)\n",
    "* 폴더 지정"
   ]
  },
  {
   "cell_type": "code",
   "execution_count": 4,
   "metadata": {
    "id": "BDop4bTlw-kP"
   },
   "outputs": [],
   "source": [
    "extension = 'csv'\n",
    "\n",
    "years = [2017, 2018, 2019]\n",
    "\n",
    "data_folder = 'data_folder_'"
   ]
  },
  {
   "cell_type": "markdown",
   "metadata": {
    "id": "EdDaOE-W6Ad0"
   },
   "source": [
    "> ## 3) 파일 다운로드 함수 실행"
   ]
  },
  {
   "cell_type": "code",
   "execution_count": 5,
   "metadata": {
    "colab": {
     "base_uri": "https://localhost:8080/"
    },
    "executionInfo": {
     "elapsed": 31378,
     "status": "ok",
     "timestamp": 1663915536309,
     "user": {
      "displayName": "이정구",
      "userId": "17400242557229223804"
     },
     "user_tz": -540
    },
    "id": "b1pJFJY5xMlF",
    "outputId": "167a9e66-7e2c-4752-ff71-ea68bdc28e2d"
   },
   "outputs": [
    {
     "name": "stdout",
     "output_type": "stream",
     "text": [
      "폴더(2017)를 생성했습니다. 2017년 데이터의 다운로드를 시작합니다.\n",
      "https://github.com/seoul-opengov/opengov/raw/master/expense_list2017/201701_expense_list.csv\n",
      "https://github.com/seoul-opengov/opengov/raw/master/expense_list2017/201702_expense_list.csv\n",
      "https://github.com/seoul-opengov/opengov/raw/master/expense_list2017/201703_expense_list.csv\n",
      "https://github.com/seoul-opengov/opengov/raw/master/expense_list2017/201704_expense_list.csv\n",
      "https://github.com/seoul-opengov/opengov/raw/master/expense_list2017/201705_expense_list.csv\n",
      "https://github.com/seoul-opengov/opengov/raw/master/expense_list2017/201706_expense_list.csv\n",
      "https://github.com/seoul-opengov/opengov/raw/master/expense_list2017/201707_expense_list.csv\n",
      "https://github.com/seoul-opengov/opengov/raw/master/expense_list2017/201708_expense_list.csv\n",
      "https://github.com/seoul-opengov/opengov/raw/master/expense_list2017/201709_expense_list.csv\n",
      "https://github.com/seoul-opengov/opengov/raw/master/expense_list2017/201710_expense_list.csv\n",
      "https://github.com/seoul-opengov/opengov/raw/master/expense_list2017/201711_expense_list.csv\n",
      "https://github.com/seoul-opengov/opengov/raw/master/expense_list2017/201712_expense_list.csv\n",
      "폴더(2018)를 생성했습니다. 2018년 데이터의 다운로드를 시작합니다.\n",
      "https://github.com/seoul-opengov/opengov/raw/master/expense_list2018/201801_expense_list.csv\n",
      "https://github.com/seoul-opengov/opengov/raw/master/expense_list2018/201802_expense_list.csv\n",
      "https://github.com/seoul-opengov/opengov/raw/master/expense_list2018/201803_expense_list.csv\n",
      "https://github.com/seoul-opengov/opengov/raw/master/expense_list2018/201804_expense_list.csv\n",
      "https://github.com/seoul-opengov/opengov/raw/master/expense_list2018/201805_expense_list.csv\n",
      "https://github.com/seoul-opengov/opengov/raw/master/expense_list2018/201806_expense_list.csv\n",
      "https://github.com/seoul-opengov/opengov/raw/master/expense_list2018/201807_expense_list.csv\n",
      "https://github.com/seoul-opengov/opengov/raw/master/expense_list2018/201808_expense_list.csv\n",
      "https://github.com/seoul-opengov/opengov/raw/master/expense_list2018/201809_expense_list.csv\n",
      "https://github.com/seoul-opengov/opengov/raw/master/expense_list2018/201810_expense_list.csv\n",
      "https://github.com/seoul-opengov/opengov/raw/master/expense_list2018/201811_expense_list.csv\n",
      "https://github.com/seoul-opengov/opengov/raw/master/expense_list2018/201812_expense_list.csv\n",
      "폴더(2019)를 생성했습니다. 2019년 데이터의 다운로드를 시작합니다.\n",
      "https://github.com/seoul-opengov/opengov/raw/master/expense_list2019/201901_expense_list.csv\n",
      "https://github.com/seoul-opengov/opengov/raw/master/expense_list2019/201902_expense_list.csv\n",
      "https://github.com/seoul-opengov/opengov/raw/master/expense_list2019/201903_expense_list.csv\n",
      "https://github.com/seoul-opengov/opengov/raw/master/expense_list2019/201904_expense_list.csv\n",
      "https://github.com/seoul-opengov/opengov/raw/master/expense_list2019/201905_expense_list.csv\n",
      "https://github.com/seoul-opengov/opengov/raw/master/expense_list2019/201906_expense_list.csv\n",
      "https://github.com/seoul-opengov/opengov/raw/master/expense_list2019/201907_expense_list.csv\n",
      "https://github.com/seoul-opengov/opengov/raw/master/expense_list2019/201908_expense_list.csv\n",
      "https://github.com/seoul-opengov/opengov/raw/master/expense_list2019/201909_expense_list.csv\n",
      "https://github.com/seoul-opengov/opengov/raw/master/expense_list2019/201910_expense_list.csv\n",
      "https://github.com/seoul-opengov/opengov/raw/master/expense_list2019/201911_expense_list.csv\n",
      "https://github.com/seoul-opengov/opengov/raw/master/expense_list2019/201912_expense_list.csv\n"
     ]
    }
   ],
   "source": [
    "for year in years:\n",
    "  get_seoul_expense_list(extension, year, data_folder)"
   ]
  },
  {
   "cell_type": "markdown",
   "metadata": {
    "id": "aKpsvshi6EKD"
   },
   "source": [
    "> ## 4) 다운로드 결과 확인"
   ]
  },
  {
   "cell_type": "code",
   "execution_count": 6,
   "metadata": {
    "colab": {
     "base_uri": "https://localhost:8080/"
    },
    "executionInfo": {
     "elapsed": 60,
     "status": "ok",
     "timestamp": 1663915536310,
     "user": {
      "displayName": "이정구",
      "userId": "17400242557229223804"
     },
     "user_tz": -540
    },
    "id": "oM2zylgz0Pna",
    "outputId": "24f09869-fb49-4323-c552-642a4116ccc8"
   },
   "outputs": [
    {
     "name": "stdout",
     "output_type": "stream",
     "text": [
      "data_folder_2017:\r\n",
      "total 54032\r\n",
      "-rw-r--r--  1 kimsinwoo  staff  2101932  7 11 09:49 201701_expense_list.csv\r\n",
      "-rw-r--r--  1 kimsinwoo  staff  2191463  7 11 09:50 201702_expense_list.csv\r\n",
      "-rw-r--r--  1 kimsinwoo  staff  2320233  7 11 09:50 201703_expense_list.csv\r\n",
      "-rw-r--r--  1 kimsinwoo  staff  2064545  7 11 09:50 201704_expense_list.csv\r\n",
      "-rw-r--r--  1 kimsinwoo  staff  2072997  7 11 09:50 201705_expense_list.csv\r\n",
      "-rw-r--r--  1 kimsinwoo  staff  2436396  7 11 09:50 201706_expense_list.csv\r\n",
      "-rw-r--r--  1 kimsinwoo  staff  2274618  7 11 09:50 201707_expense_list.csv\r\n",
      "-rw-r--r--  1 kimsinwoo  staff  2271758  7 11 09:50 201708_expense_list.csv\r\n",
      "-rw-r--r--  1 kimsinwoo  staff  2297135  7 11 09:50 201709_expense_list.csv\r\n",
      "-rw-r--r--  1 kimsinwoo  staff  2043312  7 11 09:50 201710_expense_list.csv\r\n",
      "-rw-r--r--  1 kimsinwoo  staff  2600188  7 11 09:50 201711_expense_list.csv\r\n",
      "-rw-r--r--  1 kimsinwoo  staff  2962735  7 11 09:50 201712_expense_list.csv\r\n",
      "\r\n",
      "data_folder_2018:\r\n",
      "total 57344\r\n",
      "-rw-r--r--  1 kimsinwoo  staff  2384105  7 11 09:50 201801_expense_list.csv\r\n",
      "-rw-r--r--  1 kimsinwoo  staff  2140712  7 11 09:50 201802_expense_list.csv\r\n",
      "-rw-r--r--  1 kimsinwoo  staff  2341018  7 11 09:50 201803_expense_list.csv\r\n",
      "-rw-r--r--  1 kimsinwoo  staff  2371427  7 11 09:50 201804_expense_list.csv\r\n",
      "-rw-r--r--  1 kimsinwoo  staff  2174724  7 11 09:50 201805_expense_list.csv\r\n",
      "-rw-r--r--  1 kimsinwoo  staff  2200840  7 11 09:50 201806_expense_list.csv\r\n",
      "-rw-r--r--  1 kimsinwoo  staff  2523642  7 11 09:50 201807_expense_list.csv\r\n",
      "-rw-r--r--  1 kimsinwoo  staff  2374994  7 11 09:50 201808_expense_list.csv\r\n",
      "-rw-r--r--  1 kimsinwoo  staff  2127882  7 11 09:50 201809_expense_list.csv\r\n",
      "-rw-r--r--  1 kimsinwoo  staff  2629462  7 11 09:50 201810_expense_list.csv\r\n",
      "-rw-r--r--  1 kimsinwoo  staff  2912043  7 11 09:50 201811_expense_list.csv\r\n",
      "-rw-r--r--  1 kimsinwoo  staff  3158601  7 11 09:50 201812_expense_list.csv\r\n",
      "\r\n",
      "data_folder_2019:\r\n",
      "total 60456\r\n",
      "-rw-r--r--  1 kimsinwoo  staff  2567789  7 11 09:50 201901_expense_list.csv\r\n",
      "-rw-r--r--  1 kimsinwoo  staff  2254140  7 11 09:50 201902_expense_list.csv\r\n",
      "-rw-r--r--  1 kimsinwoo  staff  2491410  7 11 09:50 201903_expense_list.csv\r\n",
      "-rw-r--r--  1 kimsinwoo  staff  2609914  7 11 09:50 201904_expense_list.csv\r\n",
      "-rw-r--r--  1 kimsinwoo  staff  2396247  7 11 09:50 201905_expense_list.csv\r\n",
      "-rw-r--r--  1 kimsinwoo  staff  2360821  7 11 09:50 201906_expense_list.csv\r\n",
      "-rw-r--r--  1 kimsinwoo  staff  2716107  7 11 09:50 201907_expense_list.csv\r\n",
      "-rw-r--r--  1 kimsinwoo  staff  2371337  7 11 09:50 201908_expense_list.csv\r\n",
      "-rw-r--r--  1 kimsinwoo  staff  2366976  7 11 09:50 201909_expense_list.csv\r\n",
      "-rw-r--r--  1 kimsinwoo  staff  2742090  7 11 09:50 201910_expense_list.csv\r\n",
      "-rw-r--r--  1 kimsinwoo  staff  2747034  7 11 09:50 201911_expense_list.csv\r\n",
      "-rw-r--r--  1 kimsinwoo  staff  3301721  7 11 09:50 201912_expense_list.csv\r\n"
     ]
    }
   ],
   "source": [
    "!ls -l data_folder_*"
   ]
  },
  {
   "cell_type": "markdown",
   "metadata": {
    "id": "AUBdjNIO2D_K"
   },
   "source": [
    "# II. 데이터 전처리"
   ]
  },
  {
   "cell_type": "markdown",
   "metadata": {
    "id": "VyPjW9PCKRJj"
   },
   "source": [
    "> ## 1) 파일 구조 및 정보 확인\n",
    "\n",
    "* 파일 한 개 사용"
   ]
  },
  {
   "cell_type": "code",
   "execution_count": 7,
   "metadata": {
    "colab": {
     "base_uri": "https://localhost:8080/"
    },
    "executionInfo": {
     "elapsed": 48,
     "status": "ok",
     "timestamp": 1663915536312,
     "user": {
      "displayName": "이정구",
      "userId": "17400242557229223804"
     },
     "user_tz": -540
    },
    "id": "Hixa3TSD0qPE",
    "outputId": "6d18df6a-bc61-4c40-b067-1ccf44ab17bb"
   },
   "outputs": [
    {
     "name": "stdout",
     "output_type": "stream",
     "text": [
      "<class 'pandas.core.frame.DataFrame'>\n",
      "RangeIndex: 5517 entries, 0 to 5516\n",
      "Data columns (total 20 columns):\n",
      " #   Column             Non-Null Count  Dtype  \n",
      "---  ------             --------------  -----  \n",
      " 0   nid                5517 non-null   int64  \n",
      " 1   title              5517 non-null   object \n",
      " 2   url                5517 non-null   object \n",
      " 3   dept_nm_lvl_1      5517 non-null   object \n",
      " 4   dept_nm_lvl_2      5517 non-null   object \n",
      " 5   dept_nm_lvl_3      4842 non-null   object \n",
      " 6   dept_nm_lvl_4      1350 non-null   object \n",
      " 7   dept_nm_lvl_5      252 non-null    object \n",
      " 8   exec_yr            5517 non-null   int64  \n",
      " 9   exec_month         5517 non-null   int64  \n",
      " 10  expense_budget     274 non-null    float64\n",
      " 11  expense_execution  202 non-null    float64\n",
      " 12  category           115 non-null    object \n",
      " 13  dept_nm_full       5517 non-null   object \n",
      " 14  exec_dt            5517 non-null   object \n",
      " 15  exec_loc           5467 non-null   object \n",
      " 16  exec_purpose       5516 non-null   object \n",
      " 17  target_nm          5486 non-null   object \n",
      " 18  payment_method     5514 non-null   object \n",
      " 19  exec_amount        5517 non-null   int64  \n",
      "dtypes: float64(2), int64(4), object(14)\n",
      "memory usage: 862.2+ KB\n"
     ]
    }
   ],
   "source": [
    "import pandas as pd\n",
    "\n",
    "df = pd.read_csv('data_folder_2017/201701_expense_list.csv')\n",
    "\n",
    "df.info()"
   ]
  },
  {
   "cell_type": "markdown",
   "metadata": {
    "id": "0TBl6lbv2L7n"
   },
   "source": [
    "> ## 2) 함수 정의\n",
    "\n",
    "* 열(Column) 이름 확인"
   ]
  },
  {
   "cell_type": "code",
   "execution_count": 8,
   "metadata": {
    "colab": {
     "base_uri": "https://localhost:8080/"
    },
    "executionInfo": {
     "elapsed": 41,
     "status": "ok",
     "timestamp": 1663915536313,
     "user": {
      "displayName": "이정구",
      "userId": "17400242557229223804"
     },
     "user_tz": -540
    },
    "id": "e-9Lnp_T2OcZ",
    "outputId": "596bf6c9-e45b-4b1b-afe5-b79e61855ffd"
   },
   "outputs": [
    {
     "data": {
      "text/plain": [
       "Index(['nid', 'title', 'url', 'dept_nm_lvl_1', 'dept_nm_lvl_2',\n",
       "       'dept_nm_lvl_3', 'dept_nm_lvl_4', 'dept_nm_lvl_5', 'exec_yr',\n",
       "       'exec_month', 'expense_budget', 'expense_execution', 'category',\n",
       "       'dept_nm_full', 'exec_dt', 'exec_loc', 'exec_purpose', 'target_nm',\n",
       "       'payment_method', 'exec_amount'],\n",
       "      dtype='object')"
      ]
     },
     "execution_count": 8,
     "metadata": {},
     "output_type": "execute_result"
    }
   ],
   "source": [
    "df.columns"
   ]
  },
  {
   "cell_type": "markdown",
   "metadata": {
    "id": "T9Yfcpi8JR3H"
   },
   "source": [
    "* 열(Column) 이름 변경 함수"
   ]
  },
  {
   "cell_type": "code",
   "execution_count": 9,
   "metadata": {
    "id": "8ekF0JVgKV91"
   },
   "outputs": [],
   "source": [
    "def change_csv_file_first_line_value(old_file_name, new_file_name):\n",
    "    # 읽기 모드 열기\n",
    "    with open(old_file_name, encoding = 'utf-8') as f:\n",
    "        # 한 줄씩 lines 리스트의 각 요소에 할당\n",
    "        lines = f.read().splitlines()\n",
    "\n",
    "    # 변경할 열(Column) 이름 지정\n",
    "    lines[0] = 'nid,제목,url,부서레벨1,부서레벨2,부서레벨3,부서레벨4,\\\n",
    "부서레벨5,집행연도,집행월,예산,집행,구분,부서명,\\\n",
    "집행일시,집행장소,집행목적,대상인원,결제방법,집행금액'\n",
    "\n",
    "    # 쓰기 모드 열기\n",
    "    with open(new_file_name, 'w', encoding = 'utf-8') as f:\n",
    "        # 리스트 각 요소 개행문자(\\n)로 연결해서 파일 저장\n",
    "        f.write('\\n'.join(lines))"
   ]
  },
  {
   "cell_type": "markdown",
   "metadata": {
    "id": "NIRoiApRbOad"
   },
   "source": [
    "* '_new' 추가한 새파일 저장 함수"
   ]
  },
  {
   "cell_type": "code",
   "execution_count": 10,
   "metadata": {
    "id": "58A1m8cJBdpm"
   },
   "outputs": [],
   "source": [
    "# 인자: 연도, 데이터 파일이 있는 폴더\n",
    "def change_year_csv_file_first_line_value(year, data_folder):\n",
    "\n",
    "    # 파일 폴더 지정\n",
    "    expense_list_year_dir = data_folder + str(year) + '/'\n",
    "\n",
    "    # 확장자 이름\n",
    "    extension = 'csv'\n",
    "\n",
    "    # 지정한 폴더에 있는 월별 업무추진비 파일에서 첫 번째 줄의 열 이름을 변경\n",
    "    for k in range(12):\n",
    "        # 기존 파일 이름\n",
    "        old_file_name = expense_list_year_dir + '{0}{1:02d}_expense_list.{2}'.format(year, k+1, extension)\n",
    "\n",
    "        # 새파일 이름\n",
    "        new_file_name = expense_list_year_dir + '{0}{1:02d}_expense_list_new.{2}'.format(year, k+1, extension)\n",
    "\n",
    "        # 열(Column) 이름 변경 함수\n",
    "        change_csv_file_first_line_value(old_file_name, new_file_name)"
   ]
  },
  {
   "cell_type": "markdown",
   "metadata": {
    "id": "ap8Z5wwhb2__"
   },
   "source": [
    "> ## 3) 함수 적용"
   ]
  },
  {
   "cell_type": "code",
   "execution_count": 11,
   "metadata": {
    "colab": {
     "base_uri": "https://localhost:8080/"
    },
    "executionInfo": {
     "elapsed": 30,
     "status": "ok",
     "timestamp": 1663915536958,
     "user": {
      "displayName": "이정구",
      "userId": "17400242557229223804"
     },
     "user_tz": -540
    },
    "id": "BrLhmlP4BsMb",
    "outputId": "b8be7d20-e798-46ab-8df0-cd9d0d401f7a"
   },
   "outputs": [
    {
     "name": "stdout",
     "output_type": "stream",
     "text": [
      "2017년 데이터의 첫 번째 줄의 열 이름을 변경해서 새 파일에 저장합니다.\n",
      "2018년 데이터의 첫 번째 줄의 열 이름을 변경해서 새 파일에 저장합니다.\n",
      "2019년 데이터의 첫 번째 줄의 열 이름을 변경해서 새 파일에 저장합니다.\n",
      "모든 데이터의 첫 번째 줄의 열 이름을 변경해서 새 파일로 저장했습니다.\n"
     ]
    }
   ],
   "source": [
    "data_folder = 'data_folder_'\n",
    "\n",
    "years = [2017, 2018, 2019]\n",
    "\n",
    "for year in years:\n",
    "    print('{}년 데이터의 첫 번째 줄의 열 이름을 변경해서 새 파일에 저장합니다.'.format(year))\n",
    "    change_year_csv_file_first_line_value(year, data_folder)\n",
    "\n",
    "print('모든 데이터의 첫 번째 줄의 열 이름을 변경해서 새 파일로 저장했습니다.')"
   ]
  },
  {
   "cell_type": "markdown",
   "metadata": {
    "id": "5XD5JoH5cJiQ"
   },
   "source": [
    "* 새파일 생성 확인"
   ]
  },
  {
   "cell_type": "code",
   "execution_count": 12,
   "metadata": {
    "colab": {
     "base_uri": "https://localhost:8080/"
    },
    "executionInfo": {
     "elapsed": 26,
     "status": "ok",
     "timestamp": 1663915536960,
     "user": {
      "displayName": "이정구",
      "userId": "17400242557229223804"
     },
     "user_tz": -540
    },
    "id": "YcYzBVJ3CF58",
    "outputId": "8030cc27-2c4b-4f8d-9a42-389da013433d"
   },
   "outputs": [
    {
     "name": "stdout",
     "output_type": "stream",
     "text": [
      "-rw-r--r--  1 kimsinwoo  staff  2101920  7 11 09:51 data_folder_2017/201701_expense_list_new.csv\r\n",
      "-rw-r--r--  1 kimsinwoo  staff  2191451  7 11 09:51 data_folder_2017/201702_expense_list_new.csv\r\n",
      "-rw-r--r--  1 kimsinwoo  staff  2320221  7 11 09:51 data_folder_2017/201703_expense_list_new.csv\r\n",
      "-rw-r--r--  1 kimsinwoo  staff  2064533  7 11 09:51 data_folder_2017/201704_expense_list_new.csv\r\n",
      "-rw-r--r--  1 kimsinwoo  staff  2072985  7 11 09:51 data_folder_2017/201705_expense_list_new.csv\r\n",
      "-rw-r--r--  1 kimsinwoo  staff  2436384  7 11 09:51 data_folder_2017/201706_expense_list_new.csv\r\n",
      "-rw-r--r--  1 kimsinwoo  staff  2274606  7 11 09:51 data_folder_2017/201707_expense_list_new.csv\r\n",
      "-rw-r--r--  1 kimsinwoo  staff  2271746  7 11 09:51 data_folder_2017/201708_expense_list_new.csv\r\n",
      "-rw-r--r--  1 kimsinwoo  staff  2297123  7 11 09:51 data_folder_2017/201709_expense_list_new.csv\r\n",
      "-rw-r--r--  1 kimsinwoo  staff  2043300  7 11 09:51 data_folder_2017/201710_expense_list_new.csv\r\n",
      "-rw-r--r--  1 kimsinwoo  staff  2600176  7 11 09:51 data_folder_2017/201711_expense_list_new.csv\r\n",
      "-rw-r--r--  1 kimsinwoo  staff  2962723  7 11 09:51 data_folder_2017/201712_expense_list_new.csv\r\n",
      "-rw-r--r--  1 kimsinwoo  staff  2384093  7 11 09:51 data_folder_2018/201801_expense_list_new.csv\r\n",
      "-rw-r--r--  1 kimsinwoo  staff  2140700  7 11 09:51 data_folder_2018/201802_expense_list_new.csv\r\n",
      "-rw-r--r--  1 kimsinwoo  staff  2341006  7 11 09:51 data_folder_2018/201803_expense_list_new.csv\r\n",
      "-rw-r--r--  1 kimsinwoo  staff  2371415  7 11 09:51 data_folder_2018/201804_expense_list_new.csv\r\n",
      "-rw-r--r--  1 kimsinwoo  staff  2174712  7 11 09:51 data_folder_2018/201805_expense_list_new.csv\r\n",
      "-rw-r--r--  1 kimsinwoo  staff  2200828  7 11 09:51 data_folder_2018/201806_expense_list_new.csv\r\n",
      "-rw-r--r--  1 kimsinwoo  staff  2523630  7 11 09:51 data_folder_2018/201807_expense_list_new.csv\r\n",
      "-rw-r--r--  1 kimsinwoo  staff  2374982  7 11 09:51 data_folder_2018/201808_expense_list_new.csv\r\n",
      "-rw-r--r--  1 kimsinwoo  staff  2127870  7 11 09:51 data_folder_2018/201809_expense_list_new.csv\r\n",
      "-rw-r--r--  1 kimsinwoo  staff  2629450  7 11 09:51 data_folder_2018/201810_expense_list_new.csv\r\n",
      "-rw-r--r--  1 kimsinwoo  staff  2912031  7 11 09:51 data_folder_2018/201811_expense_list_new.csv\r\n",
      "-rw-r--r--  1 kimsinwoo  staff  3158589  7 11 09:51 data_folder_2018/201812_expense_list_new.csv\r\n",
      "-rw-r--r--  1 kimsinwoo  staff  2567777  7 11 09:51 data_folder_2019/201901_expense_list_new.csv\r\n",
      "-rw-r--r--  1 kimsinwoo  staff  2254128  7 11 09:51 data_folder_2019/201902_expense_list_new.csv\r\n",
      "-rw-r--r--  1 kimsinwoo  staff  2491398  7 11 09:51 data_folder_2019/201903_expense_list_new.csv\r\n",
      "-rw-r--r--  1 kimsinwoo  staff  2609902  7 11 09:51 data_folder_2019/201904_expense_list_new.csv\r\n",
      "-rw-r--r--  1 kimsinwoo  staff  2396235  7 11 09:51 data_folder_2019/201905_expense_list_new.csv\r\n",
      "-rw-r--r--  1 kimsinwoo  staff  2360809  7 11 09:51 data_folder_2019/201906_expense_list_new.csv\r\n",
      "-rw-r--r--  1 kimsinwoo  staff  2716095  7 11 09:51 data_folder_2019/201907_expense_list_new.csv\r\n",
      "-rw-r--r--  1 kimsinwoo  staff  2371325  7 11 09:51 data_folder_2019/201908_expense_list_new.csv\r\n",
      "-rw-r--r--  1 kimsinwoo  staff  2366964  7 11 09:51 data_folder_2019/201909_expense_list_new.csv\r\n",
      "-rw-r--r--  1 kimsinwoo  staff  2742078  7 11 09:51 data_folder_2019/201910_expense_list_new.csv\r\n",
      "-rw-r--r--  1 kimsinwoo  staff  2747022  7 11 09:51 data_folder_2019/201911_expense_list_new.csv\r\n",
      "-rw-r--r--  1 kimsinwoo  staff  3301709  7 11 09:51 data_folder_2019/201912_expense_list_new.csv\r\n"
     ]
    }
   ],
   "source": [
    "!ls -l data_folder_*/*new.csv"
   ]
  },
  {
   "cell_type": "markdown",
   "metadata": {
    "id": "6S3YGS5WcO2m"
   },
   "source": [
    "* 열(Column) 이름 변경 확인"
   ]
  },
  {
   "cell_type": "code",
   "execution_count": 13,
   "metadata": {
    "colab": {
     "base_uri": "https://localhost:8080/"
    },
    "executionInfo": {
     "elapsed": 499,
     "status": "ok",
     "timestamp": 1663915537443,
     "user": {
      "displayName": "이정구",
      "userId": "17400242557229223804"
     },
     "user_tz": -540
    },
    "id": "u9lDIO_UCdd9",
    "outputId": "96448296-0d0b-45a5-ab80-5527da39655f"
   },
   "outputs": [
    {
     "data": {
      "text/plain": [
       "(Index(['nid', 'title', 'url', 'dept_nm_lvl_1', 'dept_nm_lvl_2',\n",
       "        'dept_nm_lvl_3', 'dept_nm_lvl_4', 'dept_nm_lvl_5', 'exec_yr',\n",
       "        'exec_month', 'expense_budget', 'expense_execution', 'category',\n",
       "        'dept_nm_full', 'exec_dt', 'exec_loc', 'exec_purpose', 'target_nm',\n",
       "        'payment_method', 'exec_amount'],\n",
       "       dtype='object'),\n",
       " Index(['nid', '제목', 'url', '부서레벨1', '부서레벨2', '부서레벨3', '부서레벨4', '부서레벨5', '집행연도',\n",
       "        '집행월', '예산', '집행', '구분', '부서명', '집행일시', '집행장소', '집행목적', '대상인원', '결제방법',\n",
       "        '집행금액'],\n",
       "       dtype='object'))"
      ]
     },
     "execution_count": 13,
     "metadata": {},
     "output_type": "execute_result"
    }
   ],
   "source": [
    "df_new = pd.read_csv('data_folder_2017/201701_expense_list_new.csv')\n",
    "\n",
    "df.columns, df_new.columns"
   ]
  },
  {
   "cell_type": "markdown",
   "metadata": {
    "id": "Fn004BDSPxrq"
   },
   "source": [
    "> ## 4) 결측치 확인\n",
    "\n",
    "* .info( ) 적용"
   ]
  },
  {
   "cell_type": "code",
   "execution_count": 14,
   "metadata": {
    "colab": {
     "base_uri": "https://localhost:8080/"
    },
    "executionInfo": {
     "elapsed": 31,
     "status": "ok",
     "timestamp": 1663915537445,
     "user": {
      "displayName": "이정구",
      "userId": "17400242557229223804"
     },
     "user_tz": -540
    },
    "id": "cbwn9CQ0P4vP",
    "outputId": "e018c0da-51f9-4dc8-bffd-525661380acd"
   },
   "outputs": [
    {
     "name": "stdout",
     "output_type": "stream",
     "text": [
      "<class 'pandas.core.frame.DataFrame'>\n",
      "RangeIndex: 5517 entries, 0 to 5516\n",
      "Data columns (total 20 columns):\n",
      " #   Column  Non-Null Count  Dtype  \n",
      "---  ------  --------------  -----  \n",
      " 0   nid     5517 non-null   int64  \n",
      " 1   제목      5517 non-null   object \n",
      " 2   url     5517 non-null   object \n",
      " 3   부서레벨1   5517 non-null   object \n",
      " 4   부서레벨2   5517 non-null   object \n",
      " 5   부서레벨3   4842 non-null   object \n",
      " 6   부서레벨4   1350 non-null   object \n",
      " 7   부서레벨5   252 non-null    object \n",
      " 8   집행연도    5517 non-null   int64  \n",
      " 9   집행월     5517 non-null   int64  \n",
      " 10  예산      274 non-null    float64\n",
      " 11  집행      202 non-null    float64\n",
      " 12  구분      115 non-null    object \n",
      " 13  부서명     5517 non-null   object \n",
      " 14  집행일시    5517 non-null   object \n",
      " 15  집행장소    5467 non-null   object \n",
      " 16  집행목적    5516 non-null   object \n",
      " 17  대상인원    5486 non-null   object \n",
      " 18  결제방법    5514 non-null   object \n",
      " 19  집행금액    5517 non-null   int64  \n",
      "dtypes: float64(2), int64(4), object(14)\n",
      "memory usage: 862.2+ KB\n"
     ]
    }
   ],
   "source": [
    "df_new.info()"
   ]
  },
  {
   "cell_type": "markdown",
   "metadata": {
    "id": "If5KGj3vKoFk"
   },
   "source": [
    "* isna( ) 적용\n",
    " - '부서레벨3', '부서레벨4', '부서레벨5', '예산', '집행', '구분'"
   ]
  },
  {
   "cell_type": "code",
   "execution_count": 16,
   "metadata": {
    "colab": {
     "base_uri": "https://localhost:8080/"
    },
    "executionInfo": {
     "elapsed": 24,
     "status": "ok",
     "timestamp": 1663915537446,
     "user": {
      "displayName": "이정구",
      "userId": "17400242557229223804"
     },
     "user_tz": -540
    },
    "id": "1nEwVYRTtY2M",
    "outputId": "a3e94084-83a6-4c3a-82ae-dcd7dbe28f59"
   },
   "outputs": [
    {
     "data": {
      "text/plain": [
       "nid         0\n",
       "제목          0\n",
       "url         0\n",
       "부서레벨1       0\n",
       "부서레벨2       0\n",
       "부서레벨3     675\n",
       "부서레벨4    4167\n",
       "부서레벨5    5265\n",
       "집행연도        0\n",
       "집행월         0\n",
       "예산       5243\n",
       "집행       5315\n",
       "구분       5402\n",
       "부서명         0\n",
       "집행일시        0\n",
       "집행장소       50\n",
       "집행목적        1\n",
       "대상인원       31\n",
       "결제방법        3\n",
       "집행금액        0\n",
       "dtype: int64"
      ]
     },
     "execution_count": 16,
     "metadata": {},
     "output_type": "execute_result"
    }
   ],
   "source": [
    "df_new.isna().sum(axis = 0)"
   ]
  },
  {
   "cell_type": "markdown",
   "metadata": {
    "id": "9Aan1Qtlgu2I"
   },
   "source": [
    "> ## 5) 연도별 파일 통합\n",
    "\n",
    "* 파일 통합 함수 정의"
   ]
  },
  {
   "cell_type": "code",
   "execution_count": 17,
   "metadata": {
    "id": "fY6dovAEg6kO"
   },
   "outputs": [],
   "source": [
    "def select_columns_save_file(year, data_folder, drop_columns_list):\n",
    "\n",
    "    expense_list_year_dir = data_folder + str(year) + '/'\n",
    "    expense_list_tidy_file = '{}_expense_list_tidy.csv'.format(year)\n",
    "    df_year = pd.DataFrame()\n",
    "\n",
    "    for k in range(12):\n",
    "        # 새파일 이름 지정\n",
    "        file_name = '{0}{1:02d}_expense_list_new.csv'.format(year, k+1)\n",
    "\n",
    "        # DtaFrame 형식으로 csv 데이터 불러오기\n",
    "        df_month = pd.read_csv(expense_list_year_dir + file_name)\n",
    "\n",
    "        # df_month 새로 추가해서 df_year에 다시 할당\n",
    "        df_year = df_year.append(df_month, ignore_index = True)\n",
    "\n",
    "    df_year_drop = df_year.drop(columns = drop_columns_list)\n",
    "    new_file_name = expense_list_year_dir + expense_list_tidy_file\n",
    "    df_year_drop.to_csv(new_file_name, index = False)\n",
    "\n",
    "    print('==> {} 파일 생성'.format(expense_list_tidy_file))"
   ]
  },
  {
   "cell_type": "markdown",
   "metadata": {
    "id": "-PD45gWvGm_m"
   },
   "source": [
    "* 함수 실행 옵션"
   ]
  },
  {
   "cell_type": "code",
   "execution_count": 18,
   "metadata": {
    "id": "z64Mq18HiBG6"
   },
   "outputs": [],
   "source": [
    "data_folder = 'data_folder_'\n",
    "\n",
    "years = [2017, 2018, 2019]\n",
    "\n",
    "drop_columns_list = ['nid', 'url', '부서레벨3', '부서레벨4', '부서레벨5', '예산', '집행', '구분']"
   ]
  },
  {
   "cell_type": "markdown",
   "metadata": {
    "id": "QIHcbLbRG7hq"
   },
   "source": [
    "* 파일 통합 함수 실행"
   ]
  },
  {
   "cell_type": "code",
   "execution_count": 19,
   "metadata": {
    "colab": {
     "base_uri": "https://localhost:8080/"
    },
    "executionInfo": {
     "elapsed": 2720,
     "status": "ok",
     "timestamp": 1663915540151,
     "user": {
      "displayName": "이정구",
      "userId": "17400242557229223804"
     },
     "user_tz": -540
    },
    "id": "6zJWzRxXiUeT",
    "outputId": "07e133fb-0473-45ab-9be4-f325048b0553"
   },
   "outputs": [
    {
     "name": "stdout",
     "output_type": "stream",
     "text": [
      "2017년 파일 통합중...\n",
      "==> 2017_expense_list_tidy.csv 파일 생성\n",
      "2018년 파일 통합중...\n",
      "==> 2018_expense_list_tidy.csv 파일 생성\n",
      "2019년 파일 통합중...\n",
      "==> 2019_expense_list_tidy.csv 파일 생성\n",
      "파일 통합 완료.\n"
     ]
    }
   ],
   "source": [
    "for year in years:\n",
    "    print('{}년 파일 통합중...'.format(year))\n",
    "    select_columns_save_file(year, data_folder, drop_columns_list)\n",
    "print('파일 통합 완료.')"
   ]
  },
  {
   "cell_type": "markdown",
   "metadata": {
    "id": "OSqYFG6IG_pK"
   },
   "source": [
    "* 생성된 통합 파일 확인"
   ]
  },
  {
   "cell_type": "code",
   "execution_count": 20,
   "metadata": {
    "colab": {
     "base_uri": "https://localhost:8080/"
    },
    "executionInfo": {
     "elapsed": 52,
     "status": "ok",
     "timestamp": 1663915540153,
     "user": {
      "displayName": "이정구",
      "userId": "17400242557229223804"
     },
     "user_tz": -540
    },
    "id": "m53-Zs40ltt5",
    "outputId": "ee126b0b-b8e3-42aa-fabc-469c71f61522"
   },
   "outputs": [
    {
     "name": "stdout",
     "output_type": "stream",
     "text": [
      "-rw-r--r--  1 kimsinwoo  staff  21435432  7 11 09:52 data_folder_2017/2017_expense_list_tidy.csv\r\n",
      "-rw-r--r--  1 kimsinwoo  staff  22940371  7 11 09:52 data_folder_2018/2018_expense_list_tidy.csv\r\n",
      "-rw-r--r--  1 kimsinwoo  staff  24385017  7 11 09:52 data_folder_2019/2019_expense_list_tidy.csv\r\n"
     ]
    }
   ],
   "source": [
    "!ls -l data_folder_*/*tidy*"
   ]
  },
  {
   "cell_type": "markdown",
   "metadata": {
    "id": "E0IaNhG2HEEW"
   },
   "source": [
    "* 2017 통합 파일 정보"
   ]
  },
  {
   "cell_type": "code",
   "execution_count": 21,
   "metadata": {
    "colab": {
     "base_uri": "https://localhost:8080/"
    },
    "executionInfo": {
     "elapsed": 767,
     "status": "ok",
     "timestamp": 1663915540880,
     "user": {
      "displayName": "이정구",
      "userId": "17400242557229223804"
     },
     "user_tz": -540
    },
    "id": "2blpUflUl_J8",
    "outputId": "219a4161-7d2c-4ae0-da58-047db40a81d9"
   },
   "outputs": [
    {
     "name": "stdout",
     "output_type": "stream",
     "text": [
      "<class 'pandas.core.frame.DataFrame'>\n",
      "RangeIndex: 70132 entries, 0 to 70131\n",
      "Data columns (total 12 columns):\n",
      " #   Column  Non-Null Count  Dtype \n",
      "---  ------  --------------  ----- \n",
      " 0   제목      70132 non-null  object\n",
      " 1   부서레벨1   70132 non-null  object\n",
      " 2   부서레벨2   70074 non-null  object\n",
      " 3   집행연도    70132 non-null  int64 \n",
      " 4   집행월     70132 non-null  int64 \n",
      " 5   부서명     70053 non-null  object\n",
      " 6   집행일시    70132 non-null  object\n",
      " 7   집행장소    69360 non-null  object\n",
      " 8   집행목적    70110 non-null  object\n",
      " 9   대상인원    69597 non-null  object\n",
      " 10  결제방법    69929 non-null  object\n",
      " 11  집행금액    70132 non-null  int64 \n",
      "dtypes: int64(3), object(9)\n",
      "memory usage: 6.4+ MB\n"
     ]
    }
   ],
   "source": [
    "df_2017 = pd.read_csv('data_folder_2017/2017_expense_list_tidy.csv')\n",
    "\n",
    "df_2017.info()"
   ]
  },
  {
   "cell_type": "markdown",
   "metadata": {
    "id": "DDn7ywZRDuSL"
   },
   "source": [
    "> ## 6) 전체 파일 통합\n",
    "\n",
    "* DataFrame : df_expense_all"
   ]
  },
  {
   "cell_type": "code",
   "execution_count": 22,
   "metadata": {
    "id": "kSnSarAiefzc"
   },
   "outputs": [],
   "source": [
    "import pandas as pd"
   ]
  },
  {
   "cell_type": "code",
   "execution_count": 23,
   "metadata": {
    "id": "PuUoZ1TXDtuD"
   },
   "outputs": [],
   "source": [
    "data_folder = 'data_folder_'\n",
    "\n",
    "years = [2017, 2018, 2019]\n",
    "\n",
    "df_expense_all = pd.DataFrame()\n",
    "\n",
    "\n",
    "for year in years:\n",
    "    expense_list_year_dir = data_folder + str(year) + '/'\n",
    "    expense_list_tidy_file = '{}_expense_list_tidy.csv'.format(year)\n",
    "\n",
    "    path_file_name = expense_list_year_dir + expense_list_tidy_file\n",
    "\n",
    "    df_expense = pd.read_csv(path_file_name)\n",
    "    df_expense_all = df_expense_all.append(df_expense, ignore_index = True)"
   ]
  },
  {
   "cell_type": "markdown",
   "metadata": {
    "id": "jfSZ4kfoIAG7"
   },
   "source": [
    "* 전체 통합 DataFrame 확인"
   ]
  },
  {
   "cell_type": "code",
   "execution_count": 24,
   "metadata": {
    "colab": {
     "base_uri": "https://localhost:8080/"
    },
    "executionInfo": {
     "elapsed": 407,
     "status": "ok",
     "timestamp": 1663915541765,
     "user": {
      "displayName": "이정구",
      "userId": "17400242557229223804"
     },
     "user_tz": -540
    },
    "id": "pmCQxoFLEQPV",
    "outputId": "081c954f-a01c-47b2-c287-590c043ee2b1"
   },
   "outputs": [
    {
     "name": "stdout",
     "output_type": "stream",
     "text": [
      "<class 'pandas.core.frame.DataFrame'>\n",
      "RangeIndex: 216557 entries, 0 to 216556\n",
      "Data columns (total 12 columns):\n",
      " #   Column  Non-Null Count   Dtype \n",
      "---  ------  --------------   ----- \n",
      " 0   제목      216557 non-null  object\n",
      " 1   부서레벨1   216557 non-null  object\n",
      " 2   부서레벨2   216273 non-null  object\n",
      " 3   집행연도    216557 non-null  int64 \n",
      " 4   집행월     216557 non-null  int64 \n",
      " 5   부서명     216478 non-null  object\n",
      " 6   집행일시    216557 non-null  object\n",
      " 7   집행장소    214401 non-null  object\n",
      " 8   집행목적    216535 non-null  object\n",
      " 9   대상인원    215535 non-null  object\n",
      " 10  결제방법    216354 non-null  object\n",
      " 11  집행금액    216557 non-null  int64 \n",
      "dtypes: int64(3), object(9)\n",
      "memory usage: 19.8+ MB\n"
     ]
    }
   ],
   "source": [
    "df_expense_all.info()"
   ]
  },
  {
   "cell_type": "markdown",
   "metadata": {
    "id": "qrh9WQOEIG6t"
   },
   "source": [
    "* 'seoulExpense.csv' 파일 저장"
   ]
  },
  {
   "cell_type": "code",
   "execution_count": 25,
   "metadata": {
    "id": "QAC7-H1fEcsj"
   },
   "outputs": [],
   "source": [
    "df_expense_all.to_csv('seoulExpense.csv')"
   ]
  },
  {
   "cell_type": "markdown",
   "metadata": {
    "id": "KnbJFy2s2_DY"
   },
   "source": [
    "# III.  데이터 분석"
   ]
  },
  {
   "cell_type": "markdown",
   "metadata": {
    "id": "LdgXUtwMKzmR"
   },
   "source": [
    "> ## 1) 연도별 집행횟수\n",
    "\n",
    "* 연도별 .value_count( )"
   ]
  },
  {
   "cell_type": "code",
   "execution_count": 29,
   "metadata": {
    "scrolled": true
   },
   "outputs": [
    {
     "data": {
      "text/plain": [
       "2019    74207\n",
       "2018    72218\n",
       "2017    70132\n",
       "Name: 집행연도, dtype: int64"
      ]
     },
     "execution_count": 29,
     "metadata": {},
     "output_type": "execute_result"
    }
   ],
   "source": [
    "df_expense_all['집행연도'].value_counts()"
   ]
  },
  {
   "cell_type": "markdown",
   "metadata": {
    "id": "NruTYmXQYS7m"
   },
   "source": [
    "* 막대그래프 시각화"
   ]
  },
  {
   "cell_type": "code",
   "execution_count": 30,
   "metadata": {},
   "outputs": [],
   "source": [
    "import seaborn as sns\n",
    "import matplotlib.pyplot as plt"
   ]
  },
  {
   "cell_type": "code",
   "execution_count": 31,
   "metadata": {
    "scrolled": true
   },
   "outputs": [
    {
     "data": {
      "text/html": [
       "<div>\n",
       "<style scoped>\n",
       "    .dataframe tbody tr th:only-of-type {\n",
       "        vertical-align: middle;\n",
       "    }\n",
       "\n",
       "    .dataframe tbody tr th {\n",
       "        vertical-align: top;\n",
       "    }\n",
       "\n",
       "    .dataframe thead th {\n",
       "        text-align: right;\n",
       "    }\n",
       "</style>\n",
       "<table border=\"1\" class=\"dataframe\">\n",
       "  <thead>\n",
       "    <tr style=\"text-align: right;\">\n",
       "      <th></th>\n",
       "      <th>제목</th>\n",
       "      <th>부서레벨1</th>\n",
       "      <th>부서레벨2</th>\n",
       "      <th>집행연도</th>\n",
       "      <th>집행월</th>\n",
       "      <th>부서명</th>\n",
       "      <th>집행일시</th>\n",
       "      <th>집행장소</th>\n",
       "      <th>집행목적</th>\n",
       "      <th>대상인원</th>\n",
       "      <th>결제방법</th>\n",
       "      <th>집행금액</th>\n",
       "    </tr>\n",
       "  </thead>\n",
       "  <tbody>\n",
       "    <tr>\n",
       "      <th>0</th>\n",
       "      <td>2017년 1월 장애인복지정책과 업무추진비 집행내역</td>\n",
       "      <td>서울시본청</td>\n",
       "      <td>복지본부</td>\n",
       "      <td>2017</td>\n",
       "      <td>1</td>\n",
       "      <td>복지본부 장애인복지정책과</td>\n",
       "      <td>2017-01-26 13:10</td>\n",
       "      <td>동해일식 (중구 무교동)</td>\n",
       "      <td>기본소득과 장애인복지 논의간담회</td>\n",
       "      <td>장애인복지정책팀장 외 2명</td>\n",
       "      <td>카드</td>\n",
       "      <td>76000</td>\n",
       "    </tr>\n",
       "    <tr>\n",
       "      <th>1</th>\n",
       "      <td>2017년 1월 장애인복지정책과 업무추진비 집행내역</td>\n",
       "      <td>서울시본청</td>\n",
       "      <td>복지본부</td>\n",
       "      <td>2017</td>\n",
       "      <td>1</td>\n",
       "      <td>복지본부 장애인복지정책과</td>\n",
       "      <td>2017-01-25 22:41</td>\n",
       "      <td>김앤장 (중구 무교로)</td>\n",
       "      <td>장애인단체 활동지원 논의간담회</td>\n",
       "      <td>장애인복지정책과장 외 3명</td>\n",
       "      <td>카드</td>\n",
       "      <td>102000</td>\n",
       "    </tr>\n",
       "    <tr>\n",
       "      <th>2</th>\n",
       "      <td>2017년 1월 장애인복지정책과 업무추진비 집행내역</td>\n",
       "      <td>서울시본청</td>\n",
       "      <td>복지본부</td>\n",
       "      <td>2017</td>\n",
       "      <td>1</td>\n",
       "      <td>복지본부 장애인복지정책과</td>\n",
       "      <td>2017-01-24 12:35</td>\n",
       "      <td>왕왕생고기 (중구 을지로)</td>\n",
       "      <td>장애인 기본돌봄 복지시책 논의간담회</td>\n",
       "      <td>장애인복지정책팀장외7명</td>\n",
       "      <td>카드</td>\n",
       "      <td>80000</td>\n",
       "    </tr>\n",
       "    <tr>\n",
       "      <th>3</th>\n",
       "      <td>2017년 1월 장애인복지정책과 업무추진비 집행내역</td>\n",
       "      <td>서울시본청</td>\n",
       "      <td>복지본부</td>\n",
       "      <td>2017</td>\n",
       "      <td>1</td>\n",
       "      <td>복지본부 장애인복지정책과</td>\n",
       "      <td>2017-01-24 12:23</td>\n",
       "      <td>서울불고기 (중구 남대문로)</td>\n",
       "      <td>서울시일자리통합지원센터 운영개선 논의간담회</td>\n",
       "      <td>장애인복지정책과장외5명</td>\n",
       "      <td>카드</td>\n",
       "      <td>112000</td>\n",
       "    </tr>\n",
       "    <tr>\n",
       "      <th>4</th>\n",
       "      <td>2017년 1월 장애인복지정책과 업무추진비 집행내역</td>\n",
       "      <td>서울시본청</td>\n",
       "      <td>복지본부</td>\n",
       "      <td>2017</td>\n",
       "      <td>1</td>\n",
       "      <td>복지본부 장애인복지정책과</td>\n",
       "      <td>2017-01-23 15:10</td>\n",
       "      <td>서울시청신매점</td>\n",
       "      <td>부서운영에 필요한 음료수 구매</td>\n",
       "      <td>장애인복지정책과직원</td>\n",
       "      <td>카드</td>\n",
       "      <td>16000</td>\n",
       "    </tr>\n",
       "  </tbody>\n",
       "</table>\n",
       "</div>"
      ],
      "text/plain": [
       "                             제목  부서레벨1 부서레벨2  집행연도  집행월            부서명  \\\n",
       "0  2017년 1월 장애인복지정책과 업무추진비 집행내역  서울시본청  복지본부  2017    1  복지본부 장애인복지정책과   \n",
       "1  2017년 1월 장애인복지정책과 업무추진비 집행내역  서울시본청  복지본부  2017    1  복지본부 장애인복지정책과   \n",
       "2  2017년 1월 장애인복지정책과 업무추진비 집행내역  서울시본청  복지본부  2017    1  복지본부 장애인복지정책과   \n",
       "3  2017년 1월 장애인복지정책과 업무추진비 집행내역  서울시본청  복지본부  2017    1  복지본부 장애인복지정책과   \n",
       "4  2017년 1월 장애인복지정책과 업무추진비 집행내역  서울시본청  복지본부  2017    1  복지본부 장애인복지정책과   \n",
       "\n",
       "               집행일시             집행장소                     집행목적            대상인원  \\\n",
       "0  2017-01-26 13:10    동해일식 (중구 무교동)        기본소득과 장애인복지 논의간담회  장애인복지정책팀장 외 2명   \n",
       "1  2017-01-25 22:41     김앤장 (중구 무교로)         장애인단체 활동지원 논의간담회  장애인복지정책과장 외 3명   \n",
       "2  2017-01-24 12:35   왕왕생고기 (중구 을지로)      장애인 기본돌봄 복지시책 논의간담회    장애인복지정책팀장외7명   \n",
       "3  2017-01-24 12:23  서울불고기 (중구 남대문로)  서울시일자리통합지원센터 운영개선 논의간담회    장애인복지정책과장외5명   \n",
       "4  2017-01-23 15:10          서울시청신매점         부서운영에 필요한 음료수 구매      장애인복지정책과직원   \n",
       "\n",
       "  결제방법    집행금액  \n",
       "0   카드   76000  \n",
       "1   카드  102000  \n",
       "2   카드   80000  \n",
       "3   카드  112000  \n",
       "4   카드   16000  "
      ]
     },
     "execution_count": 31,
     "metadata": {},
     "output_type": "execute_result"
    }
   ],
   "source": [
    "df_expense_all.head()"
   ]
  },
  {
   "cell_type": "code",
   "execution_count": 32,
   "metadata": {},
   "outputs": [
    {
     "data": {
      "image/png": "[encoded data removed]",
      "text/plain": [
       "<Figure size 1000x700 with 1 Axes>"
      ]
     },
     "metadata": {},
     "output_type": "display_data"
    }
   ],
   "source": [
    "plt.figure(figsize = (10,7))\n",
    "sns.countplot(data = df_expense_all, x = '집행연도')\n",
    "plt.show()"
   ]
  },
  {
   "cell_type": "code",
   "execution_count": null,
   "metadata": {},
   "outputs": [],
   "source": []
  },
  {
   "cell_type": "code",
   "execution_count": null,
   "metadata": {
    "colab": {
     "base_uri": "https://localhost:8080/",
     "height": 455
    },
    "executionInfo": {
     "elapsed": 32,
     "status": "ok",
     "timestamp": 1663915543096,
     "user": {
      "displayName": "이정구",
      "userId": "17400242557229223804"
     },
     "user_tz": -540
    },
    "id": "n6dJeDtQJL3u",
    "outputId": "38970e71-bd4d-4b10-a4fa-8ff49706aea8"
   },
   "outputs": [
    {
     "data": {
      "image/png": "[encoded data removed]",
      "text/plain": [
       "<Figure size 720x504 with 1 Axes>"
      ]
     },
     "metadata": {
      "needs_background": "light"
     },
     "output_type": "display_data"
    }
   ],
   "source": []
  },
  {
   "cell_type": "markdown",
   "metadata": {
    "id": "vmLTAb8_3bin"
   },
   "source": [
    "> ## 2) 연도별 집행금액\n",
    "\n",
    "* 연도별 .pivot_table( )"
   ]
  },
  {
   "cell_type": "code",
   "execution_count": 47,
   "metadata": {},
   "outputs": [
    {
     "data": {
      "text/html": [
       "<div>\n",
       "<style scoped>\n",
       "    .dataframe tbody tr th:only-of-type {\n",
       "        vertical-align: middle;\n",
       "    }\n",
       "\n",
       "    .dataframe tbody tr th {\n",
       "        vertical-align: top;\n",
       "    }\n",
       "\n",
       "    .dataframe thead th {\n",
       "        text-align: right;\n",
       "    }\n",
       "</style>\n",
       "<table border=\"1\" class=\"dataframe\">\n",
       "  <thead>\n",
       "    <tr style=\"text-align: right;\">\n",
       "      <th></th>\n",
       "      <th>집행금액</th>\n",
       "    </tr>\n",
       "    <tr>\n",
       "      <th>집행연도</th>\n",
       "      <th></th>\n",
       "    </tr>\n",
       "  </thead>\n",
       "  <tbody>\n",
       "    <tr>\n",
       "      <th>2017</th>\n",
       "      <td>9076941387</td>\n",
       "    </tr>\n",
       "    <tr>\n",
       "      <th>2018</th>\n",
       "      <td>9937556542</td>\n",
       "    </tr>\n",
       "    <tr>\n",
       "      <th>2019</th>\n",
       "      <td>10532330632</td>\n",
       "    </tr>\n",
       "  </tbody>\n",
       "</table>\n",
       "</div>"
      ],
      "text/plain": [
       "             집행금액\n",
       "집행연도             \n",
       "2017   9076941387\n",
       "2018   9937556542\n",
       "2019  10532330632"
      ]
     },
     "execution_count": 47,
     "metadata": {},
     "output_type": "execute_result"
    }
   ],
   "source": [
    "df1 = pd.pivot_table(df_expense_all,index = '집행연도',values = '집행금액',aggfunc = 'sum')\n",
    "df1 "
   ]
  },
  {
   "cell_type": "markdown",
   "metadata": {
    "id": "SzZNYH4RYhoI"
   },
   "source": [
    "* 막대그래프 시각화"
   ]
  },
  {
   "cell_type": "code",
   "execution_count": 58,
   "metadata": {},
   "outputs": [
    {
     "data": {
      "text/plain": [
       "<AxesSubplot:xlabel='집행연도'>"
      ]
     },
     "execution_count": 58,
     "metadata": {},
     "output_type": "execute_result"
    },
    {
     "data": {
      "image/png": "[encoded data removed]",
      "text/plain": [
       "<Figure size 640x480 with 1 Axes>"
      ]
     },
     "metadata": {},
     "output_type": "display_data"
    }
   ],
   "source": [
    "df1.plot(kind = 'bar')"
   ]
  },
  {
   "cell_type": "code",
   "execution_count": null,
   "metadata": {
    "colab": {
     "base_uri": "https://localhost:8080/",
     "height": 451
    },
    "executionInfo": {
     "elapsed": 746,
     "status": "ok",
     "timestamp": 1663915543817,
     "user": {
      "displayName": "이정구",
      "userId": "17400242557229223804"
     },
     "user_tz": -540
    },
    "id": "Uw5kB54iLDCr",
    "outputId": "211cbd5f-993f-4058-b138-708fa3fc30e1"
   },
   "outputs": [
    {
     "data": {
      "image/png": "[encoded data removed]",
      "text/plain": [
       "<Figure size 720x504 with 1 Axes>"
      ]
     },
     "metadata": {
      "needs_background": "light"
     },
     "output_type": "display_data"
    }
   ],
   "source": []
  },
  {
   "cell_type": "markdown",
   "metadata": {
    "id": "xdPtHPkUR0FS"
   },
   "source": [
    "> ## 3) 월별 집행금액\n",
    "\n",
    "* 월별 .pivot_table( )"
   ]
  },
  {
   "cell_type": "code",
   "execution_count": 55,
   "metadata": {
    "colab": {
     "base_uri": "https://localhost:8080/",
     "height": 457
    },
    "executionInfo": {
     "elapsed": 44,
     "status": "ok",
     "timestamp": 1663915543818,
     "user": {
      "displayName": "이정구",
      "userId": "17400242557229223804"
     },
     "user_tz": -540
    },
    "id": "lPrOsweWR-bX",
    "outputId": "11d4ff89-703a-44d5-ed6f-0c9a481f771d"
   },
   "outputs": [
    {
     "data": {
      "text/html": [
       "<div>\n",
       "<style scoped>\n",
       "    .dataframe tbody tr th:only-of-type {\n",
       "        vertical-align: middle;\n",
       "    }\n",
       "\n",
       "    .dataframe tbody tr th {\n",
       "        vertical-align: top;\n",
       "    }\n",
       "\n",
       "    .dataframe thead th {\n",
       "        text-align: right;\n",
       "    }\n",
       "</style>\n",
       "<table border=\"1\" class=\"dataframe\">\n",
       "  <thead>\n",
       "    <tr style=\"text-align: right;\">\n",
       "      <th></th>\n",
       "      <th>집행금액</th>\n",
       "    </tr>\n",
       "    <tr>\n",
       "      <th>집행월</th>\n",
       "      <th></th>\n",
       "    </tr>\n",
       "  </thead>\n",
       "  <tbody>\n",
       "    <tr>\n",
       "      <th>1</th>\n",
       "      <td>2328469179</td>\n",
       "    </tr>\n",
       "    <tr>\n",
       "      <th>2</th>\n",
       "      <td>2250971737</td>\n",
       "    </tr>\n",
       "    <tr>\n",
       "      <th>3</th>\n",
       "      <td>2314589911</td>\n",
       "    </tr>\n",
       "    <tr>\n",
       "      <th>4</th>\n",
       "      <td>2153704599</td>\n",
       "    </tr>\n",
       "    <tr>\n",
       "      <th>5</th>\n",
       "      <td>2063883588</td>\n",
       "    </tr>\n",
       "    <tr>\n",
       "      <th>6</th>\n",
       "      <td>2224855495</td>\n",
       "    </tr>\n",
       "    <tr>\n",
       "      <th>7</th>\n",
       "      <td>2372256669</td>\n",
       "    </tr>\n",
       "    <tr>\n",
       "      <th>8</th>\n",
       "      <td>2153716469</td>\n",
       "    </tr>\n",
       "    <tr>\n",
       "      <th>9</th>\n",
       "      <td>2417217365</td>\n",
       "    </tr>\n",
       "    <tr>\n",
       "      <th>10</th>\n",
       "      <td>2326108698</td>\n",
       "    </tr>\n",
       "    <tr>\n",
       "      <th>11</th>\n",
       "      <td>2719921484</td>\n",
       "    </tr>\n",
       "    <tr>\n",
       "      <th>12</th>\n",
       "      <td>4221133367</td>\n",
       "    </tr>\n",
       "  </tbody>\n",
       "</table>\n",
       "</div>"
      ],
      "text/plain": [
       "           집행금액\n",
       "집행월            \n",
       "1    2328469179\n",
       "2    2250971737\n",
       "3    2314589911\n",
       "4    2153704599\n",
       "5    2063883588\n",
       "6    2224855495\n",
       "7    2372256669\n",
       "8    2153716469\n",
       "9    2417217365\n",
       "10   2326108698\n",
       "11   2719921484\n",
       "12   4221133367"
      ]
     },
     "execution_count": 55,
     "metadata": {},
     "output_type": "execute_result"
    }
   ],
   "source": [
    "df2 = pd.pivot_table(df_expense_all,index = '집행월',values = '집행금액',aggfunc = 'sum')\n",
    "df2"
   ]
  },
  {
   "cell_type": "markdown",
   "metadata": {
    "id": "Qn8w78TyYrN-"
   },
   "source": [
    "* 연별/월별 .pivot_table( )"
   ]
  },
  {
   "cell_type": "code",
   "execution_count": 56,
   "metadata": {},
   "outputs": [
    {
     "data": {
      "text/html": [
       "<div>\n",
       "<style scoped>\n",
       "    .dataframe tbody tr th:only-of-type {\n",
       "        vertical-align: middle;\n",
       "    }\n",
       "\n",
       "    .dataframe tbody tr th {\n",
       "        vertical-align: top;\n",
       "    }\n",
       "\n",
       "    .dataframe thead th {\n",
       "        text-align: right;\n",
       "    }\n",
       "</style>\n",
       "<table border=\"1\" class=\"dataframe\">\n",
       "  <thead>\n",
       "    <tr style=\"text-align: right;\">\n",
       "      <th>집행연도</th>\n",
       "      <th>2017</th>\n",
       "      <th>2018</th>\n",
       "      <th>2019</th>\n",
       "    </tr>\n",
       "    <tr>\n",
       "      <th>집행월</th>\n",
       "      <th></th>\n",
       "      <th></th>\n",
       "      <th></th>\n",
       "    </tr>\n",
       "  </thead>\n",
       "  <tbody>\n",
       "    <tr>\n",
       "      <th>1</th>\n",
       "      <td>710368860</td>\n",
       "      <td>735587570</td>\n",
       "      <td>882512749</td>\n",
       "    </tr>\n",
       "    <tr>\n",
       "      <th>2</th>\n",
       "      <td>712679864</td>\n",
       "      <td>769360005</td>\n",
       "      <td>768931868</td>\n",
       "    </tr>\n",
       "    <tr>\n",
       "      <th>3</th>\n",
       "      <td>737250454</td>\n",
       "      <td>761059010</td>\n",
       "      <td>816280447</td>\n",
       "    </tr>\n",
       "    <tr>\n",
       "      <th>4</th>\n",
       "      <td>635265805</td>\n",
       "      <td>703781418</td>\n",
       "      <td>814657376</td>\n",
       "    </tr>\n",
       "    <tr>\n",
       "      <th>5</th>\n",
       "      <td>647582378</td>\n",
       "      <td>669044701</td>\n",
       "      <td>747256509</td>\n",
       "    </tr>\n",
       "    <tr>\n",
       "      <th>6</th>\n",
       "      <td>758257342</td>\n",
       "      <td>690652154</td>\n",
       "      <td>775945999</td>\n",
       "    </tr>\n",
       "    <tr>\n",
       "      <th>7</th>\n",
       "      <td>701604626</td>\n",
       "      <td>788926477</td>\n",
       "      <td>881725566</td>\n",
       "    </tr>\n",
       "    <tr>\n",
       "      <th>8</th>\n",
       "      <td>661174850</td>\n",
       "      <td>730290532</td>\n",
       "      <td>762251087</td>\n",
       "    </tr>\n",
       "    <tr>\n",
       "      <th>9</th>\n",
       "      <td>806170700</td>\n",
       "      <td>769404957</td>\n",
       "      <td>841641708</td>\n",
       "    </tr>\n",
       "    <tr>\n",
       "      <th>10</th>\n",
       "      <td>637219943</td>\n",
       "      <td>827022975</td>\n",
       "      <td>861865780</td>\n",
       "    </tr>\n",
       "    <tr>\n",
       "      <th>11</th>\n",
       "      <td>843619171</td>\n",
       "      <td>960310221</td>\n",
       "      <td>915992092</td>\n",
       "    </tr>\n",
       "    <tr>\n",
       "      <th>12</th>\n",
       "      <td>1225747394</td>\n",
       "      <td>1532116522</td>\n",
       "      <td>1463269451</td>\n",
       "    </tr>\n",
       "  </tbody>\n",
       "</table>\n",
       "</div>"
      ],
      "text/plain": [
       "집행연도        2017        2018        2019\n",
       "집행월                                     \n",
       "1      710368860   735587570   882512749\n",
       "2      712679864   769360005   768931868\n",
       "3      737250454   761059010   816280447\n",
       "4      635265805   703781418   814657376\n",
       "5      647582378   669044701   747256509\n",
       "6      758257342   690652154   775945999\n",
       "7      701604626   788926477   881725566\n",
       "8      661174850   730290532   762251087\n",
       "9      806170700   769404957   841641708\n",
       "10     637219943   827022975   861865780\n",
       "11     843619171   960310221   915992092\n",
       "12    1225747394  1532116522  1463269451"
      ]
     },
     "execution_count": 56,
     "metadata": {},
     "output_type": "execute_result"
    }
   ],
   "source": [
    "df3 = pd.pivot_table(df_expense_all,index = '집행월',columns = '집행연도',values = '집행금액',aggfunc = 'sum')\n",
    "df3"
   ]
  },
  {
   "cell_type": "markdown",
   "metadata": {
    "id": "NOjbrw1hY2my"
   },
   "source": [
    "* 막대그래프 시각화"
   ]
  },
  {
   "cell_type": "code",
   "execution_count": 61,
   "metadata": {},
   "outputs": [
    {
     "ename": "ValueError",
     "evalue": "Could not interpret input '집행연도'",
     "output_type": "error",
     "traceback": [
      "\u001b[0;31m---------------------------------------------------------------------------\u001b[0m",
      "\u001b[0;31mValueError\u001b[0m                                Traceback (most recent call last)",
      "\u001b[0;32m/var/folders/nz/vk3v33x95bs4kf3ymy0z0my00000gn/T/ipykernel_1128/3921828956.py\u001b[0m in \u001b[0;36m<module>\u001b[0;34m\u001b[0m\n\u001b[1;32m      1\u001b[0m \u001b[0mplt\u001b[0m\u001b[0;34m.\u001b[0m\u001b[0mfigure\u001b[0m\u001b[0;34m(\u001b[0m\u001b[0mfigsize\u001b[0m \u001b[0;34m=\u001b[0m \u001b[0;34m(\u001b[0m\u001b[0;36m10\u001b[0m\u001b[0;34m,\u001b[0m\u001b[0;36m7\u001b[0m\u001b[0;34m)\u001b[0m\u001b[0;34m)\u001b[0m\u001b[0;34m\u001b[0m\u001b[0;34m\u001b[0m\u001b[0m\n\u001b[0;32m----> 2\u001b[0;31m sns.countplot(data = df3,\n\u001b[0m\u001b[1;32m      3\u001b[0m              x = '집행연도')\n\u001b[1;32m      4\u001b[0m \u001b[0mplt\u001b[0m\u001b[0;34m.\u001b[0m\u001b[0mshow\u001b[0m\u001b[0;34m\u001b[0m\u001b[0;34m\u001b[0m\u001b[0m\n",
      "\u001b[0;32m~/opt/anaconda3/lib/python3.9/site-packages/seaborn/_decorators.py\u001b[0m in \u001b[0;36minner_f\u001b[0;34m(*args, **kwargs)\u001b[0m\n\u001b[1;32m     44\u001b[0m             )\n\u001b[1;32m     45\u001b[0m         \u001b[0mkwargs\u001b[0m\u001b[0;34m.\u001b[0m\u001b[0mupdate\u001b[0m\u001b[0;34m(\u001b[0m\u001b[0;34m{\u001b[0m\u001b[0mk\u001b[0m\u001b[0;34m:\u001b[0m \u001b[0marg\u001b[0m \u001b[0;32mfor\u001b[0m \u001b[0mk\u001b[0m\u001b[0;34m,\u001b[0m \u001b[0marg\u001b[0m \u001b[0;32min\u001b[0m \u001b[0mzip\u001b[0m\u001b[0;34m(\u001b[0m\u001b[0msig\u001b[0m\u001b[0;34m.\u001b[0m\u001b[0mparameters\u001b[0m\u001b[0;34m,\u001b[0m \u001b[0margs\u001b[0m\u001b[0;34m)\u001b[0m\u001b[0;34m}\u001b[0m\u001b[0;34m)\u001b[0m\u001b[0;34m\u001b[0m\u001b[0;34m\u001b[0m\u001b[0m\n\u001b[0;32m---> 46\u001b[0;31m         \u001b[0;32mreturn\u001b[0m \u001b[0mf\u001b[0m\u001b[0;34m(\u001b[0m\u001b[0;34m**\u001b[0m\u001b[0mkwargs\u001b[0m\u001b[0;34m)\u001b[0m\u001b[0;34m\u001b[0m\u001b[0;34m\u001b[0m\u001b[0m\n\u001b[0m\u001b[1;32m     47\u001b[0m     \u001b[0;32mreturn\u001b[0m \u001b[0minner_f\u001b[0m\u001b[0;34m\u001b[0m\u001b[0;34m\u001b[0m\u001b[0m\n\u001b[1;32m     48\u001b[0m \u001b[0;34m\u001b[0m\u001b[0m\n",
      "\u001b[0;32m~/opt/anaconda3/lib/python3.9/site-packages/seaborn/categorical.py\u001b[0m in \u001b[0;36mcountplot\u001b[0;34m(x, y, hue, data, order, hue_order, orient, color, palette, saturation, dodge, ax, **kwargs)\u001b[0m\n\u001b[1;32m   3596\u001b[0m         \u001b[0;32mraise\u001b[0m \u001b[0mValueError\u001b[0m\u001b[0;34m(\u001b[0m\u001b[0;34m\"Cannot pass values for both `x` and `y`\"\u001b[0m\u001b[0;34m)\u001b[0m\u001b[0;34m\u001b[0m\u001b[0;34m\u001b[0m\u001b[0m\n\u001b[1;32m   3597\u001b[0m \u001b[0;34m\u001b[0m\u001b[0m\n\u001b[0;32m-> 3598\u001b[0;31m     plotter = _CountPlotter(\n\u001b[0m\u001b[1;32m   3599\u001b[0m         \u001b[0mx\u001b[0m\u001b[0;34m,\u001b[0m \u001b[0my\u001b[0m\u001b[0;34m,\u001b[0m \u001b[0mhue\u001b[0m\u001b[0;34m,\u001b[0m \u001b[0mdata\u001b[0m\u001b[0;34m,\u001b[0m \u001b[0morder\u001b[0m\u001b[0;34m,\u001b[0m \u001b[0mhue_order\u001b[0m\u001b[0;34m,\u001b[0m\u001b[0;34m\u001b[0m\u001b[0;34m\u001b[0m\u001b[0m\n\u001b[1;32m   3600\u001b[0m         \u001b[0mestimator\u001b[0m\u001b[0;34m,\u001b[0m \u001b[0mci\u001b[0m\u001b[0;34m,\u001b[0m \u001b[0mn_boot\u001b[0m\u001b[0;34m,\u001b[0m \u001b[0munits\u001b[0m\u001b[0;34m,\u001b[0m \u001b[0mseed\u001b[0m\u001b[0;34m,\u001b[0m\u001b[0;34m\u001b[0m\u001b[0;34m\u001b[0m\u001b[0m\n",
      "\u001b[0;32m~/opt/anaconda3/lib/python3.9/site-packages/seaborn/categorical.py\u001b[0m in \u001b[0;36m__init__\u001b[0;34m(self, x, y, hue, data, order, hue_order, estimator, ci, n_boot, units, seed, orient, color, palette, saturation, errcolor, errwidth, capsize, dodge)\u001b[0m\n\u001b[1;32m   1582\u001b[0m                  errwidth, capsize, dodge):\n\u001b[1;32m   1583\u001b[0m         \u001b[0;34m\"\"\"Initialize the plotter.\"\"\"\u001b[0m\u001b[0;34m\u001b[0m\u001b[0;34m\u001b[0m\u001b[0m\n\u001b[0;32m-> 1584\u001b[0;31m         self.establish_variables(x, y, hue, data, orient,\n\u001b[0m\u001b[1;32m   1585\u001b[0m                                  order, hue_order, units)\n\u001b[1;32m   1586\u001b[0m         \u001b[0mself\u001b[0m\u001b[0;34m.\u001b[0m\u001b[0mestablish_colors\u001b[0m\u001b[0;34m(\u001b[0m\u001b[0mcolor\u001b[0m\u001b[0;34m,\u001b[0m \u001b[0mpalette\u001b[0m\u001b[0;34m,\u001b[0m \u001b[0msaturation\u001b[0m\u001b[0;34m)\u001b[0m\u001b[0;34m\u001b[0m\u001b[0;34m\u001b[0m\u001b[0m\n",
      "\u001b[0;32m~/opt/anaconda3/lib/python3.9/site-packages/seaborn/categorical.py\u001b[0m in \u001b[0;36mestablish_variables\u001b[0;34m(self, x, y, hue, data, orient, order, hue_order, units)\u001b[0m\n\u001b[1;32m    151\u001b[0m                 \u001b[0;32mif\u001b[0m \u001b[0misinstance\u001b[0m\u001b[0;34m(\u001b[0m\u001b[0mvar\u001b[0m\u001b[0;34m,\u001b[0m \u001b[0mstr\u001b[0m\u001b[0;34m)\u001b[0m\u001b[0;34m:\u001b[0m\u001b[0;34m\u001b[0m\u001b[0;34m\u001b[0m\u001b[0m\n\u001b[1;32m    152\u001b[0m                     \u001b[0merr\u001b[0m \u001b[0;34m=\u001b[0m \u001b[0;34m\"Could not interpret input '{}'\"\u001b[0m\u001b[0;34m.\u001b[0m\u001b[0mformat\u001b[0m\u001b[0;34m(\u001b[0m\u001b[0mvar\u001b[0m\u001b[0;34m)\u001b[0m\u001b[0;34m\u001b[0m\u001b[0;34m\u001b[0m\u001b[0m\n\u001b[0;32m--> 153\u001b[0;31m                     \u001b[0;32mraise\u001b[0m \u001b[0mValueError\u001b[0m\u001b[0;34m(\u001b[0m\u001b[0merr\u001b[0m\u001b[0;34m)\u001b[0m\u001b[0;34m\u001b[0m\u001b[0;34m\u001b[0m\u001b[0m\n\u001b[0m\u001b[1;32m    154\u001b[0m \u001b[0;34m\u001b[0m\u001b[0m\n\u001b[1;32m    155\u001b[0m             \u001b[0;31m# Figure out the plotting orientation\u001b[0m\u001b[0;34m\u001b[0m\u001b[0;34m\u001b[0m\u001b[0m\n",
      "\u001b[0;31mValueError\u001b[0m: Could not interpret input '집행연도'"
     ]
    },
    {
     "data": {
      "text/plain": [
       "<Figure size 1000x700 with 0 Axes>"
      ]
     },
     "metadata": {},
     "output_type": "display_data"
    }
   ],
   "source": [
    "plt.figure(figsize = (10,7))\n",
    "sns.countplot(data = df3,\n",
    "             x = '집행연도')\n",
    "plt.show"
   ]
  },
  {
   "cell_type": "code",
   "execution_count": null,
   "metadata": {
    "colab": {
     "base_uri": "https://localhost:8080/",
     "height": 456
    },
    "executionInfo": {
     "elapsed": 41,
     "status": "ok",
     "timestamp": 1663915543822,
     "user": {
      "displayName": "이정구",
      "userId": "17400242557229223804"
     },
     "user_tz": -540
    },
    "id": "Rzt2SlIMMOIq",
    "outputId": "8fb13653-ac88-4c54-c3e0-82af76e3f610"
   },
   "outputs": [
    {
     "data": {
      "image/png": "[encoded data removed]",
      "text/plain": [
       "<Figure size 720x504 with 1 Axes>"
      ]
     },
     "metadata": {
      "needs_background": "light"
     },
     "output_type": "display_data"
    }
   ],
   "source": []
  },
  {
   "cell_type": "markdown",
   "metadata": {
    "id": "Bmj-nvVFSZQL"
   },
   "source": [
    "> ## 4) 부서별 집행금액\n",
    "\n",
    "* 부서별_level1 .pivot_table( )"
   ]
  },
  {
   "cell_type": "code",
   "execution_count": 64,
   "metadata": {},
   "outputs": [
    {
     "data": {
      "text/html": [
       "<div>\n",
       "<style scoped>\n",
       "    .dataframe tbody tr th:only-of-type {\n",
       "        vertical-align: middle;\n",
       "    }\n",
       "\n",
       "    .dataframe tbody tr th {\n",
       "        vertical-align: top;\n",
       "    }\n",
       "\n",
       "    .dataframe thead th {\n",
       "        text-align: right;\n",
       "    }\n",
       "</style>\n",
       "<table border=\"1\" class=\"dataframe\">\n",
       "  <thead>\n",
       "    <tr style=\"text-align: right;\">\n",
       "      <th></th>\n",
       "      <th>집행금액</th>\n",
       "    </tr>\n",
       "    <tr>\n",
       "      <th>부서레벨1</th>\n",
       "      <th></th>\n",
       "    </tr>\n",
       "  </thead>\n",
       "  <tbody>\n",
       "    <tr>\n",
       "      <th>사업소</th>\n",
       "      <td>6552128899</td>\n",
       "    </tr>\n",
       "    <tr>\n",
       "      <th>서울시본청</th>\n",
       "      <td>16606242519</td>\n",
       "    </tr>\n",
       "    <tr>\n",
       "      <th>소방재난본부(소방서)</th>\n",
       "      <td>5147645293</td>\n",
       "    </tr>\n",
       "    <tr>\n",
       "      <th>의회사무처</th>\n",
       "      <td>1240811850</td>\n",
       "    </tr>\n",
       "  </tbody>\n",
       "</table>\n",
       "</div>"
      ],
      "text/plain": [
       "                    집행금액\n",
       "부서레벨1                   \n",
       "사업소           6552128899\n",
       "서울시본청        16606242519\n",
       "소방재난본부(소방서)   5147645293\n",
       "의회사무처         1240811850"
      ]
     },
     "execution_count": 64,
     "metadata": {},
     "output_type": "execute_result"
    }
   ],
   "source": [
    "df4 = pd.pivot_table(df_expense_all, index = '부서레벨1',values = '집행금액', aggfunc = 'sum')\n",
    "df4"
   ]
  },
  {
   "cell_type": "markdown",
   "metadata": {
    "id": "v9ldThBxZDd_"
   },
   "source": [
    "* 부서별_level2 .pivot_table( )"
   ]
  },
  {
   "cell_type": "code",
   "execution_count": 65,
   "metadata": {
    "colab": {
     "base_uri": "https://localhost:8080/",
     "height": 455
    },
    "executionInfo": {
     "elapsed": 37,
     "status": "ok",
     "timestamp": 1663915543824,
     "user": {
      "displayName": "이정구",
      "userId": "17400242557229223804"
     },
     "user_tz": -540
    },
    "id": "d9uyT9g_QDHz",
    "outputId": "e11cbb93-266d-401f-8e1d-914b963706f2"
   },
   "outputs": [
    {
     "data": {
      "text/html": [
       "<div>\n",
       "<style scoped>\n",
       "    .dataframe tbody tr th:only-of-type {\n",
       "        vertical-align: middle;\n",
       "    }\n",
       "\n",
       "    .dataframe tbody tr th {\n",
       "        vertical-align: top;\n",
       "    }\n",
       "\n",
       "    .dataframe thead th {\n",
       "        text-align: right;\n",
       "    }\n",
       "</style>\n",
       "<table border=\"1\" class=\"dataframe\">\n",
       "  <thead>\n",
       "    <tr style=\"text-align: right;\">\n",
       "      <th></th>\n",
       "      <th>집행금액</th>\n",
       "    </tr>\n",
       "    <tr>\n",
       "      <th>부서레벨2</th>\n",
       "      <th></th>\n",
       "    </tr>\n",
       "  </thead>\n",
       "  <tbody>\n",
       "    <tr>\n",
       "      <th>119특수구조단</th>\n",
       "      <td>119225100</td>\n",
       "    </tr>\n",
       "    <tr>\n",
       "      <th>감사위원회</th>\n",
       "      <td>343281170</td>\n",
       "    </tr>\n",
       "    <tr>\n",
       "      <th>강남소방서</th>\n",
       "      <td>229660520</td>\n",
       "    </tr>\n",
       "    <tr>\n",
       "      <th>강동소방서</th>\n",
       "      <td>188773330</td>\n",
       "    </tr>\n",
       "    <tr>\n",
       "      <th>강북소방서</th>\n",
       "      <td>167700000</td>\n",
       "    </tr>\n",
       "    <tr>\n",
       "      <th>...</th>\n",
       "      <td>...</td>\n",
       "    </tr>\n",
       "    <tr>\n",
       "      <th>행정2부시장</th>\n",
       "      <td>522277598</td>\n",
       "    </tr>\n",
       "    <tr>\n",
       "      <th>행정국</th>\n",
       "      <td>1320839804</td>\n",
       "    </tr>\n",
       "    <tr>\n",
       "      <th>행정자치위원회</th>\n",
       "      <td>57397750</td>\n",
       "    </tr>\n",
       "    <tr>\n",
       "      <th>행정자치전문위원실</th>\n",
       "      <td>38221340</td>\n",
       "    </tr>\n",
       "    <tr>\n",
       "      <th>환경수자원전문위원실</th>\n",
       "      <td>24264210</td>\n",
       "    </tr>\n",
       "  </tbody>\n",
       "</table>\n",
       "<p>137 rows × 1 columns</p>\n",
       "</div>"
      ],
      "text/plain": [
       "                  집행금액\n",
       "부서레벨2                 \n",
       "119특수구조단     119225100\n",
       "감사위원회        343281170\n",
       "강남소방서        229660520\n",
       "강동소방서        188773330\n",
       "강북소방서        167700000\n",
       "...                ...\n",
       "행정2부시장       522277598\n",
       "행정국         1320839804\n",
       "행정자치위원회       57397750\n",
       "행정자치전문위원실     38221340\n",
       "환경수자원전문위원실    24264210\n",
       "\n",
       "[137 rows x 1 columns]"
      ]
     },
     "execution_count": 65,
     "metadata": {},
     "output_type": "execute_result"
    }
   ],
   "source": [
    "df5 = pd.pivot_table(df_expense_all, index = '부서레벨2',values = '집행금액', aggfunc = 'sum')\n",
    "df5"
   ]
  },
  {
   "cell_type": "markdown",
   "metadata": {
    "id": "2uMCo79bZGX1"
   },
   "source": [
    "* 집행금액별 내림차순 정렬"
   ]
  },
  {
   "cell_type": "code",
   "execution_count": 67,
   "metadata": {
    "colab": {
     "base_uri": "https://localhost:8080/",
     "height": 394
    },
    "executionInfo": {
     "elapsed": 37,
     "status": "ok",
     "timestamp": 1663915543826,
     "user": {
      "displayName": "이정구",
      "userId": "17400242557229223804"
     },
     "user_tz": -540
    },
    "id": "a4aUCqEyQb7E",
    "outputId": "f1f68795-bff9-4dff-c0c5-9f29d9e54752"
   },
   "outputs": [
    {
     "data": {
      "text/html": [
       "<div>\n",
       "<style scoped>\n",
       "    .dataframe tbody tr th:only-of-type {\n",
       "        vertical-align: middle;\n",
       "    }\n",
       "\n",
       "    .dataframe tbody tr th {\n",
       "        vertical-align: top;\n",
       "    }\n",
       "\n",
       "    .dataframe thead th {\n",
       "        text-align: right;\n",
       "    }\n",
       "</style>\n",
       "<table border=\"1\" class=\"dataframe\">\n",
       "  <thead>\n",
       "    <tr style=\"text-align: right;\">\n",
       "      <th></th>\n",
       "      <th>집행금액</th>\n",
       "    </tr>\n",
       "    <tr>\n",
       "      <th>부서레벨1</th>\n",
       "      <th></th>\n",
       "    </tr>\n",
       "  </thead>\n",
       "  <tbody>\n",
       "    <tr>\n",
       "      <th>의회사무처</th>\n",
       "      <td>1240811850</td>\n",
       "    </tr>\n",
       "    <tr>\n",
       "      <th>소방재난본부(소방서)</th>\n",
       "      <td>5147645293</td>\n",
       "    </tr>\n",
       "    <tr>\n",
       "      <th>사업소</th>\n",
       "      <td>6552128899</td>\n",
       "    </tr>\n",
       "    <tr>\n",
       "      <th>서울시본청</th>\n",
       "      <td>16606242519</td>\n",
       "    </tr>\n",
       "  </tbody>\n",
       "</table>\n",
       "</div>"
      ],
      "text/plain": [
       "                    집행금액\n",
       "부서레벨1                   \n",
       "의회사무처         1240811850\n",
       "소방재난본부(소방서)   5147645293\n",
       "사업소           6552128899\n",
       "서울시본청        16606242519"
      ]
     },
     "execution_count": 67,
     "metadata": {},
     "output_type": "execute_result"
    }
   ],
   "source": [
    "df4.sort_values(by = '집행금액',inplace = False)\n",
    "df4"
   ]
  },
  {
   "cell_type": "markdown",
   "metadata": {
    "id": "IlFUakUGZMEq"
   },
   "source": [
    "* 막대그래프 시각화"
   ]
  },
  {
   "cell_type": "code",
   "execution_count": null,
   "metadata": {
    "colab": {
     "base_uri": "https://localhost:8080/",
     "height": 507
    },
    "executionInfo": {
     "elapsed": 595,
     "status": "ok",
     "timestamp": 1663915544386,
     "user": {
      "displayName": "이정구",
      "userId": "17400242557229223804"
     },
     "user_tz": -540
    },
    "id": "R-BSjsyAQx_X",
    "outputId": "8fef7446-6be7-4304-fd56-68557833f733"
   },
   "outputs": [
    {
     "data": {
      "image/png": "[encoded data removed]",
      "text/plain": [
       "<Figure size 720x504 with 1 Axes>"
      ]
     },
     "metadata": {
      "needs_background": "light"
     },
     "output_type": "display_data"
    }
   ],
   "source": []
  },
  {
   "cell_type": "markdown",
   "metadata": {
    "id": "dSkxWXJ9ZOTa"
   },
   "source": [
    "* 워드클라우드 시각화"
   ]
  },
  {
   "cell_type": "code",
   "execution_count": null,
   "metadata": {
    "colab": {
     "base_uri": "https://localhost:8080/",
     "height": 520
    },
    "executionInfo": {
     "elapsed": 1411,
     "status": "ok",
     "timestamp": 1663915545783,
     "user": {
      "displayName": "이정구",
      "userId": "17400242557229223804"
     },
     "user_tz": -540
    },
    "id": "J7XccJE8RQ-c",
    "outputId": "47943eda-ffd2-4bb4-d345-bb2c7964e56d"
   },
   "outputs": [
    {
     "data": {
      "image/png": "[encoded data removed]",
      "text/plain": [
       "<Figure size 1008x648 with 1 Axes>"
      ]
     },
     "metadata": {
      "needs_background": "light"
     },
     "output_type": "display_data"
    }
   ],
   "source": [
    "from wordcloud import WordCloud\n",
    "\n",
    "korean_font_path = '/usr/share/fonts/truetype/nanum/NanumBarunGothic.ttf'\n",
    "\n",
    "wc = WordCloud(font_path = korean_font_path,\n",
    "               background_color='white',\n",
    "               width = 800, height = 600)\n",
    "\n",
    "frequencies = dept_level2_total['집행금액']\n",
    "\n",
    "wordcloud_image = wc.generate_from_frequencies(frequencies)\n",
    "\n",
    "plt.figure(figsize=(14, 9))\n",
    "plt.axis('off')\n",
    "plt.imshow(wordcloud_image, interpolation = 'bilinear')\n",
    "plt.show()"
   ]
  },
  {
   "cell_type": "markdown",
   "metadata": {
    "id": "n-eV-dUKS_8I"
   },
   "source": [
    "> ## 5) 요일별 집행횟수\n",
    "\n",
    "* 시간정보 확인"
   ]
  },
  {
   "cell_type": "code",
   "execution_count": null,
   "metadata": {
    "colab": {
     "base_uri": "https://localhost:8080/"
    },
    "executionInfo": {
     "elapsed": 48,
     "status": "ok",
     "timestamp": 1663915545784,
     "user": {
      "displayName": "이정구",
      "userId": "17400242557229223804"
     },
     "user_tz": -540
    },
    "id": "jMQfm8hJTEwH",
    "outputId": "3a74cea5-e461-4ccf-f6f5-e3cac0a7e33d"
   },
   "outputs": [
    {
     "data": {
      "text/plain": [
       "array(['2017-01-26 13:10', '2017-01-25 22:41', '2017-01-24 12:35', ...,\n",
       "       '2019-12-19 11:34', '2019-12-16 12:39', '2019-12-03 17:35'],\n",
       "      dtype=object)"
      ]
     },
     "execution_count": 37,
     "metadata": {},
     "output_type": "execute_result"
    }
   ],
   "source": [
    "df_expense_all['집행일시'].values"
   ]
  },
  {
   "cell_type": "markdown",
   "metadata": {
    "id": "ptkMrmOOZXfK"
   },
   "source": [
    "* pd.to_datetime( ) 변환"
   ]
  },
  {
   "cell_type": "code",
   "execution_count": null,
   "metadata": {
    "colab": {
     "base_uri": "https://localhost:8080/"
    },
    "executionInfo": {
     "elapsed": 40,
     "status": "ok",
     "timestamp": 1663915545785,
     "user": {
      "displayName": "이정구",
      "userId": "17400242557229223804"
     },
     "user_tz": -540
    },
    "id": "568eU4S_L10B",
    "outputId": "3b582d45-b54e-4edc-be87-9f3983ea24cd"
   },
   "outputs": [
    {
     "data": {
      "text/plain": [
       "array(['2017-01-26T13:10:00.000000000', '2017-01-25T22:41:00.000000000',\n",
       "       '2017-01-24T12:35:00.000000000', ...,\n",
       "       '2019-12-19T11:34:00.000000000', '2019-12-16T12:39:00.000000000',\n",
       "       '2019-12-03T17:35:00.000000000'], dtype='datetime64[ns]')"
      ]
     },
     "execution_count": 38,
     "metadata": {},
     "output_type": "execute_result"
    }
   ],
   "source": [
    "expense_date_time = pd.to_datetime(df_expense_all['집행일시'])\n",
    "\n",
    "expense_date_time.values"
   ]
  },
  {
   "cell_type": "markdown",
   "metadata": {
    "id": "qT3uaPL-Zji3"
   },
   "source": [
    "* '집행일시_요일' 행(Column) 추가\n",
    " - dt.weekday : 날짜를 요일로 변환"
   ]
  },
  {
   "cell_type": "code",
   "execution_count": null,
   "metadata": {
    "id": "txPmETxQVAIS"
   },
   "outputs": [],
   "source": [
    "week_day_name = ['월', '화', '수', '목', '금', '토', '일']\n",
    "\n",
    "df_expense_all['집행일시_요일'] = [week_day_name[weekday] for weekday in expense_date_time.dt.weekday]"
   ]
  },
  {
   "cell_type": "markdown",
   "metadata": {
    "id": "hTRbcbFmZ-AV"
   },
   "source": [
    "* 추가 정보 확인"
   ]
  },
  {
   "cell_type": "code",
   "execution_count": null,
   "metadata": {
    "colab": {
     "base_uri": "https://localhost:8080/",
     "height": 354
    },
    "executionInfo": {
     "elapsed": 33,
     "status": "ok",
     "timestamp": 1663915545787,
     "user": {
      "displayName": "이정구",
      "userId": "17400242557229223804"
     },
     "user_tz": -540
    },
    "id": "wYQVEYRKXiU-",
    "outputId": "42a2e8df-41dd-43b6-96e0-d80d3cab1d78"
   },
   "outputs": [
    {
     "data": {
      "text/html": [
       "\n",
       "  <div id=\"df-960d7678-c36f-4e03-8204-a0f235ded544\">\n",
       "    <div class=\"colab-df-container\">\n",
       "      <div>\n",
       "<style scoped>\n",
       "    .dataframe tbody tr th:only-of-type {\n",
       "        vertical-align: middle;\n",
       "    }\n",
       "\n",
       "    .dataframe tbody tr th {\n",
       "        vertical-align: top;\n",
       "    }\n",
       "\n",
       "    .dataframe thead th {\n",
       "        text-align: right;\n",
       "    }\n",
       "</style>\n",
       "<table border=\"1\" class=\"dataframe\">\n",
       "  <thead>\n",
       "    <tr style=\"text-align: right;\">\n",
       "      <th></th>\n",
       "      <th>제목</th>\n",
       "      <th>부서레벨1</th>\n",
       "      <th>부서레벨2</th>\n",
       "      <th>집행연도</th>\n",
       "      <th>집행월</th>\n",
       "      <th>부서명</th>\n",
       "      <th>집행일시</th>\n",
       "      <th>집행장소</th>\n",
       "      <th>집행목적</th>\n",
       "      <th>대상인원</th>\n",
       "      <th>결제방법</th>\n",
       "      <th>집행금액</th>\n",
       "      <th>집행일시_요일</th>\n",
       "    </tr>\n",
       "  </thead>\n",
       "  <tbody>\n",
       "    <tr>\n",
       "      <th>0</th>\n",
       "      <td>2017년 1월 장애인복지정책과 업무추진비 집행내역</td>\n",
       "      <td>서울시본청</td>\n",
       "      <td>복지본부</td>\n",
       "      <td>2017</td>\n",
       "      <td>1</td>\n",
       "      <td>복지본부 장애인복지정책과</td>\n",
       "      <td>2017-01-26 13:10</td>\n",
       "      <td>동해일식 (중구 무교동)</td>\n",
       "      <td>기본소득과 장애인복지 논의간담회</td>\n",
       "      <td>장애인복지정책팀장 외 2명</td>\n",
       "      <td>카드</td>\n",
       "      <td>76000</td>\n",
       "      <td>목</td>\n",
       "    </tr>\n",
       "    <tr>\n",
       "      <th>1</th>\n",
       "      <td>2017년 1월 장애인복지정책과 업무추진비 집행내역</td>\n",
       "      <td>서울시본청</td>\n",
       "      <td>복지본부</td>\n",
       "      <td>2017</td>\n",
       "      <td>1</td>\n",
       "      <td>복지본부 장애인복지정책과</td>\n",
       "      <td>2017-01-25 22:41</td>\n",
       "      <td>김앤장 (중구 무교로)</td>\n",
       "      <td>장애인단체 활동지원 논의간담회</td>\n",
       "      <td>장애인복지정책과장 외 3명</td>\n",
       "      <td>카드</td>\n",
       "      <td>102000</td>\n",
       "      <td>수</td>\n",
       "    </tr>\n",
       "    <tr>\n",
       "      <th>2</th>\n",
       "      <td>2017년 1월 장애인복지정책과 업무추진비 집행내역</td>\n",
       "      <td>서울시본청</td>\n",
       "      <td>복지본부</td>\n",
       "      <td>2017</td>\n",
       "      <td>1</td>\n",
       "      <td>복지본부 장애인복지정책과</td>\n",
       "      <td>2017-01-24 12:35</td>\n",
       "      <td>왕왕생고기 (중구 을지로)</td>\n",
       "      <td>장애인 기본돌봄 복지시책 논의간담회</td>\n",
       "      <td>장애인복지정책팀장외7명</td>\n",
       "      <td>카드</td>\n",
       "      <td>80000</td>\n",
       "      <td>화</td>\n",
       "    </tr>\n",
       "    <tr>\n",
       "      <th>3</th>\n",
       "      <td>2017년 1월 장애인복지정책과 업무추진비 집행내역</td>\n",
       "      <td>서울시본청</td>\n",
       "      <td>복지본부</td>\n",
       "      <td>2017</td>\n",
       "      <td>1</td>\n",
       "      <td>복지본부 장애인복지정책과</td>\n",
       "      <td>2017-01-24 12:23</td>\n",
       "      <td>서울불고기 (중구 남대문로)</td>\n",
       "      <td>서울시일자리통합지원센터 운영개선 논의간담회</td>\n",
       "      <td>장애인복지정책과장외5명</td>\n",
       "      <td>카드</td>\n",
       "      <td>112000</td>\n",
       "      <td>화</td>\n",
       "    </tr>\n",
       "    <tr>\n",
       "      <th>4</th>\n",
       "      <td>2017년 1월 장애인복지정책과 업무추진비 집행내역</td>\n",
       "      <td>서울시본청</td>\n",
       "      <td>복지본부</td>\n",
       "      <td>2017</td>\n",
       "      <td>1</td>\n",
       "      <td>복지본부 장애인복지정책과</td>\n",
       "      <td>2017-01-23 15:10</td>\n",
       "      <td>서울시청신매점</td>\n",
       "      <td>부서운영에 필요한 음료수 구매</td>\n",
       "      <td>장애인복지정책과직원</td>\n",
       "      <td>카드</td>\n",
       "      <td>16000</td>\n",
       "      <td>월</td>\n",
       "    </tr>\n",
       "  </tbody>\n",
       "</table>\n",
       "</div>\n",
       "      <button class=\"colab-df-convert\" onclick=\"convertToInteractive('df-960d7678-c36f-4e03-8204-a0f235ded544')\"\n",
       "              title=\"Convert this dataframe to an interactive table.\"\n",
       "              style=\"display:none;\">\n",
       "        \n",
       "  <svg xmlns=\"http://www.w3.org/2000/svg\" height=\"24px\"viewBox=\"0 0 24 24\"\n",
       "       width=\"24px\">\n",
       "    <path d=\"M0 0h24v24H0V0z\" fill=\"none\"/>\n",
       "    <path d=\"M18.56 5.44l.94 2.06.94-2.06 2.06-.94-2.06-.94-.94-2.06-.94 2.06-2.06.94zm-11 1L8.5 8.5l.94-2.06 2.06-.94-2.06-.94L8.5 2.5l-.94 2.06-2.06.94zm10 10l.94 2.06.94-2.06 2.06-.94-2.06-.94-.94-2.06-.94 2.06-2.06.94z\"/><path d=\"M17.41 7.96l-1.37-1.37c-.4-.4-.92-.59-1.43-.59-.52 0-1.04.2-1.43.59L10.3 9.45l-7.72 7.72c-.78.78-.78 2.05 0 2.83L4 21.41c.39.39.9.59 1.41.59.51 0 1.02-.2 1.41-.59l7.78-7.78 2.81-2.81c.8-.78.8-2.07 0-2.86zM5.41 20L4 18.59l7.72-7.72 1.47 1.35L5.41 20z\"/>\n",
       "  </svg>\n",
       "      </button>\n",
       "      \n",
       "  <style>\n",
       "    .colab-df-container {\n",
       "      display:flex;\n",
       "      flex-wrap:wrap;\n",
       "      gap: 12px;\n",
       "    }\n",
       "\n",
       "    .colab-df-convert {\n",
       "      background-color: #E8F0FE;\n",
       "      border: none;\n",
       "      border-radius: 50%;\n",
       "      cursor: pointer;\n",
       "      display: none;\n",
       "      fill: #1967D2;\n",
       "      height: 32px;\n",
       "      padding: 0 0 0 0;\n",
       "      width: 32px;\n",
       "    }\n",
       "\n",
       "    .colab-df-convert:hover {\n",
       "      background-color: #E2EBFA;\n",
       "      box-shadow: 0px 1px 2px rgba(60, 64, 67, 0.3), 0px 1px 3px 1px rgba(60, 64, 67, 0.15);\n",
       "      fill: #174EA6;\n",
       "    }\n",
       "\n",
       "    [theme=dark] .colab-df-convert {\n",
       "      background-color: #3B4455;\n",
       "      fill: #D2E3FC;\n",
       "    }\n",
       "\n",
       "    [theme=dark] .colab-df-convert:hover {\n",
       "      background-color: #434B5C;\n",
       "      box-shadow: 0px 1px 3px 1px rgba(0, 0, 0, 0.15);\n",
       "      filter: drop-shadow(0px 1px 2px rgba(0, 0, 0, 0.3));\n",
       "      fill: #FFFFFF;\n",
       "    }\n",
       "  </style>\n",
       "\n",
       "      <script>\n",
       "        const buttonEl =\n",
       "          document.querySelector('#df-960d7678-c36f-4e03-8204-a0f235ded544 button.colab-df-convert');\n",
       "        buttonEl.style.display =\n",
       "          google.colab.kernel.accessAllowed ? 'block' : 'none';\n",
       "\n",
       "        async function convertToInteractive(key) {\n",
       "          const element = document.querySelector('#df-960d7678-c36f-4e03-8204-a0f235ded544');\n",
       "          const dataTable =\n",
       "            await google.colab.kernel.invokeFunction('convertToInteractive',\n",
       "                                                     [key], {});\n",
       "          if (!dataTable) return;\n",
       "\n",
       "          const docLinkHtml = 'Like what you see? Visit the ' +\n",
       "            '<a target=\"_blank\" href=https://colab.research.google.com/notebooks/data_table.ipynb>data table notebook</a>'\n",
       "            + ' to learn more about interactive tables.';\n",
       "          element.innerHTML = '';\n",
       "          dataTable['output_type'] = 'display_data';\n",
       "          await google.colab.output.renderOutput(dataTable, element);\n",
       "          const docLink = document.createElement('div');\n",
       "          docLink.innerHTML = docLinkHtml;\n",
       "          element.appendChild(docLink);\n",
       "        }\n",
       "      </script>\n",
       "    </div>\n",
       "  </div>\n",
       "  "
      ],
      "text/plain": [
       "                             제목  부서레벨1 부서레벨2  집행연도  집행월            부서명  \\\n",
       "0  2017년 1월 장애인복지정책과 업무추진비 집행내역  서울시본청  복지본부  2017    1  복지본부 장애인복지정책과   \n",
       "1  2017년 1월 장애인복지정책과 업무추진비 집행내역  서울시본청  복지본부  2017    1  복지본부 장애인복지정책과   \n",
       "2  2017년 1월 장애인복지정책과 업무추진비 집행내역  서울시본청  복지본부  2017    1  복지본부 장애인복지정책과   \n",
       "3  2017년 1월 장애인복지정책과 업무추진비 집행내역  서울시본청  복지본부  2017    1  복지본부 장애인복지정책과   \n",
       "4  2017년 1월 장애인복지정책과 업무추진비 집행내역  서울시본청  복지본부  2017    1  복지본부 장애인복지정책과   \n",
       "\n",
       "               집행일시             집행장소                     집행목적            대상인원  \\\n",
       "0  2017-01-26 13:10    동해일식 (중구 무교동)        기본소득과 장애인복지 논의간담회  장애인복지정책팀장 외 2명   \n",
       "1  2017-01-25 22:41     김앤장 (중구 무교로)         장애인단체 활동지원 논의간담회  장애인복지정책과장 외 3명   \n",
       "2  2017-01-24 12:35   왕왕생고기 (중구 을지로)      장애인 기본돌봄 복지시책 논의간담회    장애인복지정책팀장외7명   \n",
       "3  2017-01-24 12:23  서울불고기 (중구 남대문로)  서울시일자리통합지원센터 운영개선 논의간담회    장애인복지정책과장외5명   \n",
       "4  2017-01-23 15:10          서울시청신매점         부서운영에 필요한 음료수 구매      장애인복지정책과직원   \n",
       "\n",
       "  결제방법    집행금액 집행일시_요일  \n",
       "0   카드   76000       목  \n",
       "1   카드  102000       수  \n",
       "2   카드   80000       화  \n",
       "3   카드  112000       화  \n",
       "4   카드   16000       월  "
      ]
     },
     "execution_count": 40,
     "metadata": {},
     "output_type": "execute_result"
    }
   ],
   "source": [
    "df_expense_all.head()"
   ]
  },
  {
   "cell_type": "markdown",
   "metadata": {
    "id": "q-oYl5MFaCud"
   },
   "source": [
    "* 요일별 집행횟수 확인"
   ]
  },
  {
   "cell_type": "code",
   "execution_count": null,
   "metadata": {
    "colab": {
     "base_uri": "https://localhost:8080/"
    },
    "executionInfo": {
     "elapsed": 31,
     "status": "ok",
     "timestamp": 1663915545788,
     "user": {
      "displayName": "이정구",
      "userId": "17400242557229223804"
     },
     "user_tz": -540
    },
    "id": "b5KfpZ8KWGru",
    "outputId": "27c40c49-0c2c-4514-cfec-08ad039f3e3c"
   },
   "outputs": [
    {
     "data": {
      "text/plain": [
       "목    45683\n",
       "화    43812\n",
       "수    42343\n",
       "금    41381\n",
       "월    39498\n",
       "토     2238\n",
       "일     1602\n",
       "Name: 집행일시_요일, dtype: int64"
      ]
     },
     "execution_count": 41,
     "metadata": {},
     "output_type": "execute_result"
    }
   ],
   "source": [
    "expense_weekday = df_expense_all['집행일시_요일'].value_counts()\n",
    "\n",
    "expense_weekday"
   ]
  },
  {
   "cell_type": "markdown",
   "metadata": {
    "id": "RvNSAU-0aO_Y"
   },
   "source": [
    "* 요일순 정렬 : .reindex( )"
   ]
  },
  {
   "cell_type": "code",
   "execution_count": null,
   "metadata": {
    "colab": {
     "base_uri": "https://localhost:8080/"
    },
    "executionInfo": {
     "elapsed": 25,
     "status": "ok",
     "timestamp": 1663915545789,
     "user": {
      "displayName": "이정구",
      "userId": "17400242557229223804"
     },
     "user_tz": -540
    },
    "id": "FHHooIM6V91Q",
    "outputId": "a4d34a7e-ffc7-47a3-e1d8-ef19ebdfaa29"
   },
   "outputs": [
    {
     "data": {
      "text/plain": [
       "월    39498\n",
       "화    43812\n",
       "수    42343\n",
       "목    45683\n",
       "금    41381\n",
       "토     2238\n",
       "일     1602\n",
       "Name: 집행일시_요일, dtype: int64"
      ]
     },
     "execution_count": 42,
     "metadata": {},
     "output_type": "execute_result"
    }
   ],
   "source": [
    "expense_weekday = expense_weekday.reindex(index = week_day_name)\n",
    "\n",
    "expense_weekday"
   ]
  },
  {
   "cell_type": "markdown",
   "metadata": {
    "id": "94D3HoiIaYZG"
   },
   "source": [
    "* 막대그래프 시각화"
   ]
  },
  {
   "cell_type": "code",
   "execution_count": null,
   "metadata": {
    "colab": {
     "base_uri": "https://localhost:8080/",
     "height": 457
    },
    "executionInfo": {
     "elapsed": 878,
     "status": "ok",
     "timestamp": 1663915546648,
     "user": {
      "displayName": "이정구",
      "userId": "17400242557229223804"
     },
     "user_tz": -540
    },
    "id": "Isiz74dfVxQQ",
    "outputId": "36820df0-00c0-4002-e1dc-bccfcf8d20fe"
   },
   "outputs": [
    {
     "data": {
      "image/png": "[encoded data removed]",
      "text/plain": [
       "<Figure size 720x504 with 1 Axes>"
      ]
     },
     "metadata": {
      "needs_background": "light"
     },
     "output_type": "display_data"
    }
   ],
   "source": [
    "expense_weekday.plot.bar(rot = 0, figsize = (10, 7))\n",
    "plt.title('요일별 업무추진비 집행 횟수')\n",
    "plt.xlabel('요일')\n",
    "plt.ylabel('집행 횟수')\n",
    "plt.show()"
   ]
  },
  {
   "cell_type": "markdown",
   "metadata": {
    "id": "VcPyVEByVrWh"
   },
   "source": [
    "> ## 6) 시간별 집행횟수\n",
    "\n",
    "* '집행일시_시간' 행(Column) 추가\n",
    " - dt.hour : 날짜를 시간으로 변환"
   ]
  },
  {
   "cell_type": "code",
   "execution_count": null,
   "metadata": {
    "id": "4UWj-ayeVR89"
   },
   "outputs": [],
   "source": [
    "df_expense_all['집행일시_시간'] = [hour for hour in expense_date_time.dt.hour]"
   ]
  },
  {
   "cell_type": "markdown",
   "metadata": {
    "id": "sx2xGHqQatk_"
   },
   "source": [
    "* 추가 정보 확인"
   ]
  },
  {
   "cell_type": "code",
   "execution_count": null,
   "metadata": {
    "colab": {
     "base_uri": "https://localhost:8080/",
     "height": 354
    },
    "executionInfo": {
     "elapsed": 75,
     "status": "ok",
     "timestamp": 1663915546653,
     "user": {
      "displayName": "이정구",
      "userId": "17400242557229223804"
     },
     "user_tz": -540
    },
    "id": "95jXqUW7VY7b",
    "outputId": "0c9bec1f-ad07-4753-d3f1-d46d715ddcb3"
   },
   "outputs": [
    {
     "data": {
      "text/html": [
       "\n",
       "  <div id=\"df-9d6f92e6-0328-47c0-85a0-70ebe678ce34\">\n",
       "    <div class=\"colab-df-container\">\n",
       "      <div>\n",
       "<style scoped>\n",
       "    .dataframe tbody tr th:only-of-type {\n",
       "        vertical-align: middle;\n",
       "    }\n",
       "\n",
       "    .dataframe tbody tr th {\n",
       "        vertical-align: top;\n",
       "    }\n",
       "\n",
       "    .dataframe thead th {\n",
       "        text-align: right;\n",
       "    }\n",
       "</style>\n",
       "<table border=\"1\" class=\"dataframe\">\n",
       "  <thead>\n",
       "    <tr style=\"text-align: right;\">\n",
       "      <th></th>\n",
       "      <th>제목</th>\n",
       "      <th>부서레벨1</th>\n",
       "      <th>부서레벨2</th>\n",
       "      <th>집행연도</th>\n",
       "      <th>집행월</th>\n",
       "      <th>부서명</th>\n",
       "      <th>집행일시</th>\n",
       "      <th>집행장소</th>\n",
       "      <th>집행목적</th>\n",
       "      <th>대상인원</th>\n",
       "      <th>결제방법</th>\n",
       "      <th>집행금액</th>\n",
       "      <th>집행일시_요일</th>\n",
       "      <th>집행일시_시간</th>\n",
       "    </tr>\n",
       "  </thead>\n",
       "  <tbody>\n",
       "    <tr>\n",
       "      <th>0</th>\n",
       "      <td>2017년 1월 장애인복지정책과 업무추진비 집행내역</td>\n",
       "      <td>서울시본청</td>\n",
       "      <td>복지본부</td>\n",
       "      <td>2017</td>\n",
       "      <td>1</td>\n",
       "      <td>복지본부 장애인복지정책과</td>\n",
       "      <td>2017-01-26 13:10</td>\n",
       "      <td>동해일식 (중구 무교동)</td>\n",
       "      <td>기본소득과 장애인복지 논의간담회</td>\n",
       "      <td>장애인복지정책팀장 외 2명</td>\n",
       "      <td>카드</td>\n",
       "      <td>76000</td>\n",
       "      <td>목</td>\n",
       "      <td>13</td>\n",
       "    </tr>\n",
       "    <tr>\n",
       "      <th>1</th>\n",
       "      <td>2017년 1월 장애인복지정책과 업무추진비 집행내역</td>\n",
       "      <td>서울시본청</td>\n",
       "      <td>복지본부</td>\n",
       "      <td>2017</td>\n",
       "      <td>1</td>\n",
       "      <td>복지본부 장애인복지정책과</td>\n",
       "      <td>2017-01-25 22:41</td>\n",
       "      <td>김앤장 (중구 무교로)</td>\n",
       "      <td>장애인단체 활동지원 논의간담회</td>\n",
       "      <td>장애인복지정책과장 외 3명</td>\n",
       "      <td>카드</td>\n",
       "      <td>102000</td>\n",
       "      <td>수</td>\n",
       "      <td>22</td>\n",
       "    </tr>\n",
       "    <tr>\n",
       "      <th>2</th>\n",
       "      <td>2017년 1월 장애인복지정책과 업무추진비 집행내역</td>\n",
       "      <td>서울시본청</td>\n",
       "      <td>복지본부</td>\n",
       "      <td>2017</td>\n",
       "      <td>1</td>\n",
       "      <td>복지본부 장애인복지정책과</td>\n",
       "      <td>2017-01-24 12:35</td>\n",
       "      <td>왕왕생고기 (중구 을지로)</td>\n",
       "      <td>장애인 기본돌봄 복지시책 논의간담회</td>\n",
       "      <td>장애인복지정책팀장외7명</td>\n",
       "      <td>카드</td>\n",
       "      <td>80000</td>\n",
       "      <td>화</td>\n",
       "      <td>12</td>\n",
       "    </tr>\n",
       "    <tr>\n",
       "      <th>3</th>\n",
       "      <td>2017년 1월 장애인복지정책과 업무추진비 집행내역</td>\n",
       "      <td>서울시본청</td>\n",
       "      <td>복지본부</td>\n",
       "      <td>2017</td>\n",
       "      <td>1</td>\n",
       "      <td>복지본부 장애인복지정책과</td>\n",
       "      <td>2017-01-24 12:23</td>\n",
       "      <td>서울불고기 (중구 남대문로)</td>\n",
       "      <td>서울시일자리통합지원센터 운영개선 논의간담회</td>\n",
       "      <td>장애인복지정책과장외5명</td>\n",
       "      <td>카드</td>\n",
       "      <td>112000</td>\n",
       "      <td>화</td>\n",
       "      <td>12</td>\n",
       "    </tr>\n",
       "    <tr>\n",
       "      <th>4</th>\n",
       "      <td>2017년 1월 장애인복지정책과 업무추진비 집행내역</td>\n",
       "      <td>서울시본청</td>\n",
       "      <td>복지본부</td>\n",
       "      <td>2017</td>\n",
       "      <td>1</td>\n",
       "      <td>복지본부 장애인복지정책과</td>\n",
       "      <td>2017-01-23 15:10</td>\n",
       "      <td>서울시청신매점</td>\n",
       "      <td>부서운영에 필요한 음료수 구매</td>\n",
       "      <td>장애인복지정책과직원</td>\n",
       "      <td>카드</td>\n",
       "      <td>16000</td>\n",
       "      <td>월</td>\n",
       "      <td>15</td>\n",
       "    </tr>\n",
       "  </tbody>\n",
       "</table>\n",
       "</div>\n",
       "      <button class=\"colab-df-convert\" onclick=\"convertToInteractive('df-9d6f92e6-0328-47c0-85a0-70ebe678ce34')\"\n",
       "              title=\"Convert this dataframe to an interactive table.\"\n",
       "              style=\"display:none;\">\n",
       "        \n",
       "  <svg xmlns=\"http://www.w3.org/2000/svg\" height=\"24px\"viewBox=\"0 0 24 24\"\n",
       "       width=\"24px\">\n",
       "    <path d=\"M0 0h24v24H0V0z\" fill=\"none\"/>\n",
       "    <path d=\"M18.56 5.44l.94 2.06.94-2.06 2.06-.94-2.06-.94-.94-2.06-.94 2.06-2.06.94zm-11 1L8.5 8.5l.94-2.06 2.06-.94-2.06-.94L8.5 2.5l-.94 2.06-2.06.94zm10 10l.94 2.06.94-2.06 2.06-.94-2.06-.94-.94-2.06-.94 2.06-2.06.94z\"/><path d=\"M17.41 7.96l-1.37-1.37c-.4-.4-.92-.59-1.43-.59-.52 0-1.04.2-1.43.59L10.3 9.45l-7.72 7.72c-.78.78-.78 2.05 0 2.83L4 21.41c.39.39.9.59 1.41.59.51 0 1.02-.2 1.41-.59l7.78-7.78 2.81-2.81c.8-.78.8-2.07 0-2.86zM5.41 20L4 18.59l7.72-7.72 1.47 1.35L5.41 20z\"/>\n",
       "  </svg>\n",
       "      </button>\n",
       "      \n",
       "  <style>\n",
       "    .colab-df-container {\n",
       "      display:flex;\n",
       "      flex-wrap:wrap;\n",
       "      gap: 12px;\n",
       "    }\n",
       "\n",
       "    .colab-df-convert {\n",
       "      background-color: #E8F0FE;\n",
       "      border: none;\n",
       "      border-radius: 50%;\n",
       "      cursor: pointer;\n",
       "      display: none;\n",
       "      fill: #1967D2;\n",
       "      height: 32px;\n",
       "      padding: 0 0 0 0;\n",
       "      width: 32px;\n",
       "    }\n",
       "\n",
       "    .colab-df-convert:hover {\n",
       "      background-color: #E2EBFA;\n",
       "      box-shadow: 0px 1px 2px rgba(60, 64, 67, 0.3), 0px 1px 3px 1px rgba(60, 64, 67, 0.15);\n",
       "      fill: #174EA6;\n",
       "    }\n",
       "\n",
       "    [theme=dark] .colab-df-convert {\n",
       "      background-color: #3B4455;\n",
       "      fill: #D2E3FC;\n",
       "    }\n",
       "\n",
       "    [theme=dark] .colab-df-convert:hover {\n",
       "      background-color: #434B5C;\n",
       "      box-shadow: 0px 1px 3px 1px rgba(0, 0, 0, 0.15);\n",
       "      filter: drop-shadow(0px 1px 2px rgba(0, 0, 0, 0.3));\n",
       "      fill: #FFFFFF;\n",
       "    }\n",
       "  </style>\n",
       "\n",
       "      <script>\n",
       "        const buttonEl =\n",
       "          document.querySelector('#df-9d6f92e6-0328-47c0-85a0-70ebe678ce34 button.colab-df-convert');\n",
       "        buttonEl.style.display =\n",
       "          google.colab.kernel.accessAllowed ? 'block' : 'none';\n",
       "\n",
       "        async function convertToInteractive(key) {\n",
       "          const element = document.querySelector('#df-9d6f92e6-0328-47c0-85a0-70ebe678ce34');\n",
       "          const dataTable =\n",
       "            await google.colab.kernel.invokeFunction('convertToInteractive',\n",
       "                                                     [key], {});\n",
       "          if (!dataTable) return;\n",
       "\n",
       "          const docLinkHtml = 'Like what you see? Visit the ' +\n",
       "            '<a target=\"_blank\" href=https://colab.research.google.com/notebooks/data_table.ipynb>data table notebook</a>'\n",
       "            + ' to learn more about interactive tables.';\n",
       "          element.innerHTML = '';\n",
       "          dataTable['output_type'] = 'display_data';\n",
       "          await google.colab.output.renderOutput(dataTable, element);\n",
       "          const docLink = document.createElement('div');\n",
       "          docLink.innerHTML = docLinkHtml;\n",
       "          element.appendChild(docLink);\n",
       "        }\n",
       "      </script>\n",
       "    </div>\n",
       "  </div>\n",
       "  "
      ],
      "text/plain": [
       "                             제목  부서레벨1 부서레벨2  집행연도  집행월            부서명  \\\n",
       "0  2017년 1월 장애인복지정책과 업무추진비 집행내역  서울시본청  복지본부  2017    1  복지본부 장애인복지정책과   \n",
       "1  2017년 1월 장애인복지정책과 업무추진비 집행내역  서울시본청  복지본부  2017    1  복지본부 장애인복지정책과   \n",
       "2  2017년 1월 장애인복지정책과 업무추진비 집행내역  서울시본청  복지본부  2017    1  복지본부 장애인복지정책과   \n",
       "3  2017년 1월 장애인복지정책과 업무추진비 집행내역  서울시본청  복지본부  2017    1  복지본부 장애인복지정책과   \n",
       "4  2017년 1월 장애인복지정책과 업무추진비 집행내역  서울시본청  복지본부  2017    1  복지본부 장애인복지정책과   \n",
       "\n",
       "               집행일시             집행장소                     집행목적            대상인원  \\\n",
       "0  2017-01-26 13:10    동해일식 (중구 무교동)        기본소득과 장애인복지 논의간담회  장애인복지정책팀장 외 2명   \n",
       "1  2017-01-25 22:41     김앤장 (중구 무교로)         장애인단체 활동지원 논의간담회  장애인복지정책과장 외 3명   \n",
       "2  2017-01-24 12:35   왕왕생고기 (중구 을지로)      장애인 기본돌봄 복지시책 논의간담회    장애인복지정책팀장외7명   \n",
       "3  2017-01-24 12:23  서울불고기 (중구 남대문로)  서울시일자리통합지원센터 운영개선 논의간담회    장애인복지정책과장외5명   \n",
       "4  2017-01-23 15:10          서울시청신매점         부서운영에 필요한 음료수 구매      장애인복지정책과직원   \n",
       "\n",
       "  결제방법    집행금액 집행일시_요일  집행일시_시간  \n",
       "0   카드   76000       목       13  \n",
       "1   카드  102000       수       22  \n",
       "2   카드   80000       화       12  \n",
       "3   카드  112000       화       12  \n",
       "4   카드   16000       월       15  "
      ]
     },
     "execution_count": 45,
     "metadata": {},
     "output_type": "execute_result"
    }
   ],
   "source": [
    "df_expense_all.head()"
   ]
  },
  {
   "cell_type": "markdown",
   "metadata": {
    "id": "2Eal3vaJa0O7"
   },
   "source": [
    "* 시간별 집행횟수 확인"
   ]
  },
  {
   "cell_type": "code",
   "execution_count": null,
   "metadata": {
    "colab": {
     "base_uri": "https://localhost:8080/"
    },
    "executionInfo": {
     "elapsed": 74,
     "status": "ok",
     "timestamp": 1663915546655,
     "user": {
      "displayName": "이정구",
      "userId": "17400242557229223804"
     },
     "user_tz": -540
    },
    "id": "vpi8tSpyWXaY",
    "outputId": "8b9bd185-e281-4c44-83e0-3f5f1c364a6f"
   },
   "outputs": [
    {
     "data": {
      "text/plain": [
       "12    87518\n",
       "20    23013\n",
       "13    20990\n",
       "19    16766\n",
       "21    12210\n",
       "11     8356\n",
       "14     8311\n",
       "15     7168\n",
       "10     5824\n",
       "18     5783\n",
       "16     5169\n",
       "0      4919\n",
       "9      3486\n",
       "17     2889\n",
       "22     2563\n",
       "8       875\n",
       "7       412\n",
       "23      128\n",
       "1        44\n",
       "6        42\n",
       "3        27\n",
       "4        26\n",
       "5        19\n",
       "2        19\n",
       "Name: 집행일시_시간, dtype: int64"
      ]
     },
     "execution_count": 46,
     "metadata": {},
     "output_type": "execute_result"
    }
   ],
   "source": [
    "expense_hour_num = df_expense_all['집행일시_시간'].value_counts()\n",
    "\n",
    "expense_hour_num"
   ]
  },
  {
   "cell_type": "markdown",
   "metadata": {
    "id": "xjZrZwmsa9eF"
   },
   "source": [
    "* 시간순 정렬 : .reindex( )\n",
    " - 8시 기준"
   ]
  },
  {
   "cell_type": "code",
   "execution_count": null,
   "metadata": {
    "colab": {
     "base_uri": "https://localhost:8080/"
    },
    "executionInfo": {
     "elapsed": 69,
     "status": "ok",
     "timestamp": 1663915546657,
     "user": {
      "displayName": "이정구",
      "userId": "17400242557229223804"
     },
     "user_tz": -540
    },
    "id": "Z-V3nzIlWdEr",
    "outputId": "5230bcee-d1b7-499c-cf00-5ae4c4a8b8f8"
   },
   "outputs": [
    {
     "data": {
      "text/plain": [
       "8       875\n",
       "9      3486\n",
       "10     5824\n",
       "11     8356\n",
       "12    87518\n",
       "13    20990\n",
       "14     8311\n",
       "15     7168\n",
       "16     5169\n",
       "17     2889\n",
       "18     5783\n",
       "19    16766\n",
       "20    23013\n",
       "21    12210\n",
       "22     2563\n",
       "23      128\n",
       "0      4919\n",
       "1        44\n",
       "2        19\n",
       "3        27\n",
       "4        26\n",
       "5        19\n",
       "6        42\n",
       "7       412\n",
       "Name: 집행일시_시간, dtype: int64"
      ]
     },
     "execution_count": 47,
     "metadata": {},
     "output_type": "execute_result"
    }
   ],
   "source": [
    "work_hour = [ (k+8)%24 for k in range(24)]\n",
    "expense_hour_num = expense_hour_num.reindex(index = work_hour)\n",
    "\n",
    "expense_hour_num"
   ]
  },
  {
   "cell_type": "markdown",
   "metadata": {
    "id": "iw4ds6jTbEtj"
   },
   "source": [
    "* 막대그래프 시각화"
   ]
  },
  {
   "cell_type": "code",
   "execution_count": null,
   "metadata": {
    "colab": {
     "base_uri": "https://localhost:8080/",
     "height": 456
    },
    "executionInfo": {
     "elapsed": 64,
     "status": "ok",
     "timestamp": 1663915546659,
     "user": {
      "displayName": "이정구",
      "userId": "17400242557229223804"
     },
     "user_tz": -540
    },
    "id": "-ZxObZG3Wi0x",
    "outputId": "3ffa1060-3c49-46cb-d24e-382ade8db379"
   },
   "outputs": [
    {
     "data": {
      "image/png": "[encoded data removed]",
      "text/plain": [
       "<Figure size 720x504 with 1 Axes>"
      ]
     },
     "metadata": {
      "needs_background": "light"
     },
     "output_type": "display_data"
    }
   ],
   "source": [
    "expense_hour_num.plot.bar(rot = 0, figsize = (10, 7))\n",
    "plt.title('시간별 업무추진비 집행 횟수')\n",
    "plt.xlabel('집행 시간')\n",
    "plt.ylabel('집행 횟수')\n",
    "plt.show()"
   ]
  },
  {
   "cell_type": "markdown",
   "metadata": {
    "id": "xhKEvMO4XS2s"
   },
   "source": [
    "> ## 7) 시간별 집행금액\n",
    "\n",
    "* 시간별 .pivot_table( )"
   ]
  },
  {
   "cell_type": "code",
   "execution_count": null,
   "metadata": {
    "colab": {
     "base_uri": "https://localhost:8080/",
     "height": 237
    },
    "executionInfo": {
     "elapsed": 62,
     "status": "ok",
     "timestamp": 1663915546660,
     "user": {
      "displayName": "이정구",
      "userId": "17400242557229223804"
     },
     "user_tz": -540
    },
    "id": "QYM9l2G6W9U8",
    "outputId": "dddff780-a6eb-45e9-e980-c0635883d338"
   },
   "outputs": [
    {
     "data": {
      "text/html": [
       "\n",
       "  <div id=\"df-566e969f-1659-4356-baa7-543d975674d4\">\n",
       "    <div class=\"colab-df-container\">\n",
       "      <div>\n",
       "<style scoped>\n",
       "    .dataframe tbody tr th:only-of-type {\n",
       "        vertical-align: middle;\n",
       "    }\n",
       "\n",
       "    .dataframe tbody tr th {\n",
       "        vertical-align: top;\n",
       "    }\n",
       "\n",
       "    .dataframe thead th {\n",
       "        text-align: right;\n",
       "    }\n",
       "</style>\n",
       "<table border=\"1\" class=\"dataframe\">\n",
       "  <thead>\n",
       "    <tr style=\"text-align: right;\">\n",
       "      <th></th>\n",
       "      <th>집행금액</th>\n",
       "    </tr>\n",
       "    <tr>\n",
       "      <th>집행일시_시간</th>\n",
       "      <th></th>\n",
       "    </tr>\n",
       "  </thead>\n",
       "  <tbody>\n",
       "    <tr>\n",
       "      <th>0</th>\n",
       "      <td>842523116</td>\n",
       "    </tr>\n",
       "    <tr>\n",
       "      <th>1</th>\n",
       "      <td>7024161</td>\n",
       "    </tr>\n",
       "    <tr>\n",
       "      <th>2</th>\n",
       "      <td>2265190</td>\n",
       "    </tr>\n",
       "    <tr>\n",
       "      <th>3</th>\n",
       "      <td>7215762</td>\n",
       "    </tr>\n",
       "    <tr>\n",
       "      <th>4</th>\n",
       "      <td>5818431</td>\n",
       "    </tr>\n",
       "  </tbody>\n",
       "</table>\n",
       "</div>\n",
       "      <button class=\"colab-df-convert\" onclick=\"convertToInteractive('df-566e969f-1659-4356-baa7-543d975674d4')\"\n",
       "              title=\"Convert this dataframe to an interactive table.\"\n",
       "              style=\"display:none;\">\n",
       "        \n",
       "  <svg xmlns=\"http://www.w3.org/2000/svg\" height=\"24px\"viewBox=\"0 0 24 24\"\n",
       "       width=\"24px\">\n",
       "    <path d=\"M0 0h24v24H0V0z\" fill=\"none\"/>\n",
       "    <path d=\"M18.56 5.44l.94 2.06.94-2.06 2.06-.94-2.06-.94-.94-2.06-.94 2.06-2.06.94zm-11 1L8.5 8.5l.94-2.06 2.06-.94-2.06-.94L8.5 2.5l-.94 2.06-2.06.94zm10 10l.94 2.06.94-2.06 2.06-.94-2.06-.94-.94-2.06-.94 2.06-2.06.94z\"/><path d=\"M17.41 7.96l-1.37-1.37c-.4-.4-.92-.59-1.43-.59-.52 0-1.04.2-1.43.59L10.3 9.45l-7.72 7.72c-.78.78-.78 2.05 0 2.83L4 21.41c.39.39.9.59 1.41.59.51 0 1.02-.2 1.41-.59l7.78-7.78 2.81-2.81c.8-.78.8-2.07 0-2.86zM5.41 20L4 18.59l7.72-7.72 1.47 1.35L5.41 20z\"/>\n",
       "  </svg>\n",
       "      </button>\n",
       "      \n",
       "  <style>\n",
       "    .colab-df-container {\n",
       "      display:flex;\n",
       "      flex-wrap:wrap;\n",
       "      gap: 12px;\n",
       "    }\n",
       "\n",
       "    .colab-df-convert {\n",
       "      background-color: #E8F0FE;\n",
       "      border: none;\n",
       "      border-radius: 50%;\n",
       "      cursor: pointer;\n",
       "      display: none;\n",
       "      fill: #1967D2;\n",
       "      height: 32px;\n",
       "      padding: 0 0 0 0;\n",
       "      width: 32px;\n",
       "    }\n",
       "\n",
       "    .colab-df-convert:hover {\n",
       "      background-color: #E2EBFA;\n",
       "      box-shadow: 0px 1px 2px rgba(60, 64, 67, 0.3), 0px 1px 3px 1px rgba(60, 64, 67, 0.15);\n",
       "      fill: #174EA6;\n",
       "    }\n",
       "\n",
       "    [theme=dark] .colab-df-convert {\n",
       "      background-color: #3B4455;\n",
       "      fill: #D2E3FC;\n",
       "    }\n",
       "\n",
       "    [theme=dark] .colab-df-convert:hover {\n",
       "      background-color: #434B5C;\n",
       "      box-shadow: 0px 1px 3px 1px rgba(0, 0, 0, 0.15);\n",
       "      filter: drop-shadow(0px 1px 2px rgba(0, 0, 0, 0.3));\n",
       "      fill: #FFFFFF;\n",
       "    }\n",
       "  </style>\n",
       "\n",
       "      <script>\n",
       "        const buttonEl =\n",
       "          document.querySelector('#df-566e969f-1659-4356-baa7-543d975674d4 button.colab-df-convert');\n",
       "        buttonEl.style.display =\n",
       "          google.colab.kernel.accessAllowed ? 'block' : 'none';\n",
       "\n",
       "        async function convertToInteractive(key) {\n",
       "          const element = document.querySelector('#df-566e969f-1659-4356-baa7-543d975674d4');\n",
       "          const dataTable =\n",
       "            await google.colab.kernel.invokeFunction('convertToInteractive',\n",
       "                                                     [key], {});\n",
       "          if (!dataTable) return;\n",
       "\n",
       "          const docLinkHtml = 'Like what you see? Visit the ' +\n",
       "            '<a target=\"_blank\" href=https://colab.research.google.com/notebooks/data_table.ipynb>data table notebook</a>'\n",
       "            + ' to learn more about interactive tables.';\n",
       "          element.innerHTML = '';\n",
       "          dataTable['output_type'] = 'display_data';\n",
       "          await google.colab.output.renderOutput(dataTable, element);\n",
       "          const docLink = document.createElement('div');\n",
       "          docLink.innerHTML = docLinkHtml;\n",
       "          element.appendChild(docLink);\n",
       "        }\n",
       "      </script>\n",
       "    </div>\n",
       "  </div>\n",
       "  "
      ],
      "text/plain": [
       "              집행금액\n",
       "집행일시_시간           \n",
       "0        842523116\n",
       "1          7024161\n",
       "2          2265190\n",
       "3          7215762\n",
       "4          5818431"
      ]
     },
     "execution_count": 49,
     "metadata": {},
     "output_type": "execute_result"
    }
   ],
   "source": []
  },
  {
   "cell_type": "markdown",
   "metadata": {
    "id": "FE5jng3mbZdH"
   },
   "source": [
    "* 막대그래프 시각화"
   ]
  },
  {
   "cell_type": "code",
   "execution_count": null,
   "metadata": {
    "colab": {
     "base_uri": "https://localhost:8080/",
     "height": 456
    },
    "executionInfo": {
     "elapsed": 61,
     "status": "ok",
     "timestamp": 1663915546662,
     "user": {
      "displayName": "이정구",
      "userId": "17400242557229223804"
     },
     "user_tz": -540
    },
    "id": "S6lCUvvlXB3d",
    "outputId": "b81df589-2d6b-4eeb-dbbb-6ca788e4c66d"
   },
   "outputs": [
    {
     "data": {
      "image/png": "[encoded data removed]",
      "text/plain": [
       "<Figure size 720x504 with 1 Axes>"
      ]
     },
     "metadata": {
      "needs_background": "light"
     },
     "output_type": "display_data"
    }
   ],
   "source": []
  },
  {
   "cell_type": "markdown",
   "metadata": {
    "id": "f80fdt-H0Cai"
   },
   "source": [
    "#\n",
    "#\n",
    "#\n",
    "# End Of Document\n",
    "#\n",
    "#\n",
    "#"
   ]
  }
 ],
 "metadata": {
  "colab": {
   "provenance": []
  },
  "kernelspec": {
   "display_name": "Python 3 (ipykernel)",
   "language": "python",
   "name": "python3"
  },
  "language_info": {
   "codemirror_mode": {
    "name": "ipython",
    "version": 3
   },
   "file_extension": ".py",
   "mimetype": "text/x-python",
   "name": "python",
   "nbconvert_exporter": "python",
   "pygments_lexer": "ipython3",
   "version": "3.9.13"
  }
 },
 "nbformat": 4,
 "nbformat_minor": 1
}
