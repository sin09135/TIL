{
  "cells": [
    {
      "cell_type": "markdown",
      "metadata": {
        "id": "6fcNJ9ngWdao"
      },
      "source": [
        "이 노트북은 [케라스 창시자에게 배우는 딥러닝 2판](https://tensorflow.blog/kerasdl2/)의 예제 코드를 담고 있습니다.\n",
        "\n",
        "<table align=\"left\">\n",
        "    <tr>\n",
        "        <td>\n",
        "            <a href=\"https://colab.research.google.com/github/rickiepark/deep-learning-with-python-2nd/blob/main/chapter09_part02_modern-convnet-architecture-patterns.ipynb\" target=\"_parent\"><img src=\"https://colab.research.google.com/assets/colab-badge.svg\" alt=\"Open In Colab\"/></a>\n",
        "        </td>\n",
        "    </tr>\n",
        "</table>"
      ]
    },
    {
      "cell_type": "markdown",
      "metadata": {
        "id": "V6vyo9pMWdar"
      },
      "source": [
        "## 최신 컨브넷 아키텍처 패턴"
      ]
    },
    {
      "cell_type": "markdown",
      "metadata": {
        "id": "wRLUswhpWdar"
      },
      "source": [
        "### 모듈화, 계층화 그리고 재사용"
      ]
    },
    {
      "cell_type": "markdown",
      "metadata": {
        "id": "DrVGd0xfWdas"
      },
      "source": [
        "### 잔차 연결"
      ]
    },
    {
      "cell_type": "markdown",
      "metadata": {
        "id": "z3p_4BtQWdas"
      },
      "source": [
        "**필터 개수가 변경되는 잔차 블록**"
      ]
    },
    {
      "cell_type": "code",
      "execution_count": null,
      "metadata": {
        "id": "_sMjx-EsWdas"
      },
      "outputs": [],
      "source": [
        "from tensorflow import keras\n",
        "from tensorflow.keras import layers\n",
        "\n",
        "inputs = keras.Input(shape=(32, 32, 3))\n",
        "x = layers.Conv2D(32, 3, activation=\"relu\")(inputs)\n",
        "residual = x\n",
        "x = layers.Conv2D(64, 3, activation=\"relu\", padding=\"same\")(x)\n",
        "residual = layers.Conv2D(64, 1)(residual)\n",
        "x = layers.add([x, residual])"
      ]
    },
    {
      "cell_type": "markdown",
      "metadata": {
        "id": "0qicvVeLWdav"
      },
      "source": [
        "**최대 풀링 층을 가진 잔차 블록**"
      ]
    },
    {
      "cell_type": "code",
      "execution_count": null,
      "metadata": {
        "id": "VujtXbBHWdav"
      },
      "outputs": [],
      "source": [
        "inputs = keras.Input(shape=(32, 32, 3))\n",
        "x = layers.Conv2D(32, 3, activation=\"relu\")(inputs)\n",
        "residual = x\n",
        "x = layers.Conv2D(64, 3, activation=\"relu\", padding=\"same\")(x)\n",
        "x = layers.MaxPooling2D(2, padding=\"same\")(x)\n",
        "residual = layers.Conv2D(64, 1, strides=2)(residual)\n",
        "x = layers.add([x, residual])"
      ]
    },
    {
      "cell_type": "code",
      "execution_count": null,
      "metadata": {
        "colab": {
          "base_uri": "https://localhost:8080/"
        },
        "id": "gqRZwb1eWdaw",
        "outputId": "57b03e03-d47b-4ca0-81c7-97cc2046e6bc"
      },
      "outputs": [
        {
          "name": "stdout",
          "output_type": "stream",
          "text": [
            "Model: \"model\"\n",
            "__________________________________________________________________________________________________\n",
            " Layer (type)                   Output Shape         Param #     Connected to                     \n",
            "==================================================================================================\n",
            " input_3 (InputLayer)           [(None, 32, 32, 3)]  0           []                               \n",
            "                                                                                                  \n",
            " rescaling (Rescaling)          (None, 32, 32, 3)    0           ['input_3[0][0]']                \n",
            "                                                                                                  \n",
            " conv2d_6 (Conv2D)              (None, 32, 32, 32)   896         ['rescaling[0][0]']              \n",
            "                                                                                                  \n",
            " conv2d_7 (Conv2D)              (None, 32, 32, 32)   9248        ['conv2d_6[0][0]']               \n",
            "                                                                                                  \n",
            " max_pooling2d_1 (MaxPooling2D)  (None, 16, 16, 32)  0           ['conv2d_7[0][0]']               \n",
            "                                                                                                  \n",
            " conv2d_8 (Conv2D)              (None, 16, 16, 32)   128         ['rescaling[0][0]']              \n",
            "                                                                                                  \n",
            " add_2 (Add)                    (None, 16, 16, 32)   0           ['max_pooling2d_1[0][0]',        \n",
            "                                                                  'conv2d_8[0][0]']               \n",
            "                                                                                                  \n",
            " conv2d_9 (Conv2D)              (None, 16, 16, 64)   18496       ['add_2[0][0]']                  \n",
            "                                                                                                  \n",
            " conv2d_10 (Conv2D)             (None, 16, 16, 64)   36928       ['conv2d_9[0][0]']               \n",
            "                                                                                                  \n",
            " max_pooling2d_2 (MaxPooling2D)  (None, 8, 8, 64)    0           ['conv2d_10[0][0]']              \n",
            "                                                                                                  \n",
            " conv2d_11 (Conv2D)             (None, 8, 8, 64)     2112        ['add_2[0][0]']                  \n",
            "                                                                                                  \n",
            " add_3 (Add)                    (None, 8, 8, 64)     0           ['max_pooling2d_2[0][0]',        \n",
            "                                                                  'conv2d_11[0][0]']              \n",
            "                                                                                                  \n",
            " conv2d_12 (Conv2D)             (None, 8, 8, 128)    73856       ['add_3[0][0]']                  \n",
            "                                                                                                  \n",
            " conv2d_13 (Conv2D)             (None, 8, 8, 128)    147584      ['conv2d_12[0][0]']              \n",
            "                                                                                                  \n",
            " conv2d_14 (Conv2D)             (None, 8, 8, 128)    8320        ['add_3[0][0]']                  \n",
            "                                                                                                  \n",
            " add_4 (Add)                    (None, 8, 8, 128)    0           ['conv2d_13[0][0]',              \n",
            "                                                                  'conv2d_14[0][0]']              \n",
            "                                                                                                  \n",
            " global_average_pooling2d (Glob  (None, 128)         0           ['add_4[0][0]']                  \n",
            " alAveragePooling2D)                                                                              \n",
            "                                                                                                  \n",
            " dense (Dense)                  (None, 1)            129         ['global_average_pooling2d[0][0]'\n",
            "                                                                 ]                                \n",
            "                                                                                                  \n",
            "==================================================================================================\n",
            "Total params: 297,697\n",
            "Trainable params: 297,697\n",
            "Non-trainable params: 0\n",
            "__________________________________________________________________________________________________\n"
          ]
        }
      ],
      "source": [
        "inputs = keras.Input(shape=(32, 32, 3))\n",
        "x = layers.Rescaling(1./255)(inputs)\n",
        "\n",
        "def residual_block(x, filters, pooling=False):\n",
        "    residual = x\n",
        "    x = layers.Conv2D(filters, 3, activation=\"relu\", padding=\"same\")(x)\n",
        "    x = layers.Conv2D(filters, 3, activation=\"relu\", padding=\"same\")(x)\n",
        "    if pooling:\n",
        "        x = layers.MaxPooling2D(2, padding=\"same\")(x)\n",
        "        residual = layers.Conv2D(filters, 1, strides=2)(residual)\n",
        "    elif filters != residual.shape[-1]:\n",
        "        residual = layers.Conv2D(filters, 1)(residual)\n",
        "    x = layers.add([x, residual])\n",
        "    return x\n",
        "\n",
        "x = residual_block(x, filters=32, pooling=True)\n",
        "x = residual_block(x, filters=64, pooling=True)\n",
        "x = residual_block(x, filters=128, pooling=False)\n",
        "\n",
        "x = layers.GlobalAveragePooling2D()(x)\n",
        "outputs = layers.Dense(1, activation=\"sigmoid\")(x)\n",
        "model = keras.Model(inputs=inputs, outputs=outputs)\n",
        "model.summary()"
      ]
    },
    {
      "cell_type": "markdown",
      "metadata": {
        "id": "2yTgvoeKWdaw"
      },
      "source": [
        "### 배치 정규화"
      ]
    },
    {
      "cell_type": "markdown",
      "metadata": {
        "id": "JPKA2OB7Wdax"
      },
      "source": [
        "### 깊이별 분리 합성곱"
      ]
    },
    {
      "cell_type": "markdown",
      "metadata": {
        "id": "RkVCpdH6Wdax"
      },
      "source": [
        "### Xception 유사 모델에 모두 적용하기"
      ]
    },
    {
      "cell_type": "markdown",
      "metadata": {
        "id": "rJP0kj1tRe_e"
      },
      "source": [
        "캐글에서 dogs-vs-cats 데이터셋을 다운로드하려면 캐글에 가입해야 한 후 생성한 API 키를 사용해야 합니다. 이런 과정이 번거롭다면 다음 명령으로 구글 드라이브에서 직접 다운로드할 수 있습니다.\n",
        "\n",
        "```python\n",
        "import gdown\n",
        "gdown.download(id='18uC7WTuEXKJDDxbj-Jq6EjzpFrgE7IAd', output='dogs-vs-cats.zip')\n",
        "```\n",
        "\n",
        "그다음 아래 2개의 코드 셀을 건너 뛰고 바로 `unzip` 명령을 실행하세요."
      ]
    },
    {
      "cell_type": "code",
      "execution_count": null,
      "metadata": {
        "colab": {
          "base_uri": "https://localhost:8080/",
          "height": 94
        },
        "id": "9kwJ5oLAWdax",
        "outputId": "4ebc2aca-6006-4f85-e2af-dcbabef15806"
      },
      "outputs": [
        {
          "data": {
            "text/html": [
              "\n",
              "     <input type=\"file\" id=\"files-bbd90135-6061-4c26-b20b-4bdc6e3e08c6\" name=\"files[]\" multiple disabled\n",
              "        style=\"border:none\" />\n",
              "     <output id=\"result-bbd90135-6061-4c26-b20b-4bdc6e3e08c6\">\n",
              "      Upload widget is only available when the cell has been executed in the\n",
              "      current browser session. Please rerun this cell to enable.\n",
              "      </output>\n",
              "      <script>// Copyright 2017 Google LLC\n",
              "//\n",
              "// Licensed under the Apache License, Version 2.0 (the \"License\");\n",
              "// you may not use this file except in compliance with the License.\n",
              "// You may obtain a copy of the License at\n",
              "//\n",
              "//      http://www.apache.org/licenses/LICENSE-2.0\n",
              "//\n",
              "// Unless required by applicable law or agreed to in writing, software\n",
              "// distributed under the License is distributed on an \"AS IS\" BASIS,\n",
              "// WITHOUT WARRANTIES OR CONDITIONS OF ANY KIND, either express or implied.\n",
              "// See the License for the specific language governing permissions and\n",
              "// limitations under the License.\n",
              "\n",
              "/**\n",
              " * @fileoverview Helpers for google.colab Python module.\n",
              " */\n",
              "(function(scope) {\n",
              "function span(text, styleAttributes = {}) {\n",
              "  const element = document.createElement('span');\n",
              "  element.textContent = text;\n",
              "  for (const key of Object.keys(styleAttributes)) {\n",
              "    element.style[key] = styleAttributes[key];\n",
              "  }\n",
              "  return element;\n",
              "}\n",
              "\n",
              "// Max number of bytes which will be uploaded at a time.\n",
              "const MAX_PAYLOAD_SIZE = 100 * 1024;\n",
              "\n",
              "function _uploadFiles(inputId, outputId) {\n",
              "  const steps = uploadFilesStep(inputId, outputId);\n",
              "  const outputElement = document.getElementById(outputId);\n",
              "  // Cache steps on the outputElement to make it available for the next call\n",
              "  // to uploadFilesContinue from Python.\n",
              "  outputElement.steps = steps;\n",
              "\n",
              "  return _uploadFilesContinue(outputId);\n",
              "}\n",
              "\n",
              "// This is roughly an async generator (not supported in the browser yet),\n",
              "// where there are multiple asynchronous steps and the Python side is going\n",
              "// to poll for completion of each step.\n",
              "// This uses a Promise to block the python side on completion of each step,\n",
              "// then passes the result of the previous step as the input to the next step.\n",
              "function _uploadFilesContinue(outputId) {\n",
              "  const outputElement = document.getElementById(outputId);\n",
              "  const steps = outputElement.steps;\n",
              "\n",
              "  const next = steps.next(outputElement.lastPromiseValue);\n",
              "  return Promise.resolve(next.value.promise).then((value) => {\n",
              "    // Cache the last promise value to make it available to the next\n",
              "    // step of the generator.\n",
              "    outputElement.lastPromiseValue = value;\n",
              "    return next.value.response;\n",
              "  });\n",
              "}\n",
              "\n",
              "/**\n",
              " * Generator function which is called between each async step of the upload\n",
              " * process.\n",
              " * @param {string} inputId Element ID of the input file picker element.\n",
              " * @param {string} outputId Element ID of the output display.\n",
              " * @return {!Iterable<!Object>} Iterable of next steps.\n",
              " */\n",
              "function* uploadFilesStep(inputId, outputId) {\n",
              "  const inputElement = document.getElementById(inputId);\n",
              "  inputElement.disabled = false;\n",
              "\n",
              "  const outputElement = document.getElementById(outputId);\n",
              "  outputElement.innerHTML = '';\n",
              "\n",
              "  const pickedPromise = new Promise((resolve) => {\n",
              "    inputElement.addEventListener('change', (e) => {\n",
              "      resolve(e.target.files);\n",
              "    });\n",
              "  });\n",
              "\n",
              "  const cancel = document.createElement('button');\n",
              "  inputElement.parentElement.appendChild(cancel);\n",
              "  cancel.textContent = 'Cancel upload';\n",
              "  const cancelPromise = new Promise((resolve) => {\n",
              "    cancel.onclick = () => {\n",
              "      resolve(null);\n",
              "    };\n",
              "  });\n",
              "\n",
              "  // Wait for the user to pick the files.\n",
              "  const files = yield {\n",
              "    promise: Promise.race([pickedPromise, cancelPromise]),\n",
              "    response: {\n",
              "      action: 'starting',\n",
              "    }\n",
              "  };\n",
              "\n",
              "  cancel.remove();\n",
              "\n",
              "  // Disable the input element since further picks are not allowed.\n",
              "  inputElement.disabled = true;\n",
              "\n",
              "  if (!files) {\n",
              "    return {\n",
              "      response: {\n",
              "        action: 'complete',\n",
              "      }\n",
              "    };\n",
              "  }\n",
              "\n",
              "  for (const file of files) {\n",
              "    const li = document.createElement('li');\n",
              "    li.append(span(file.name, {fontWeight: 'bold'}));\n",
              "    li.append(span(\n",
              "        `(${file.type || 'n/a'}) - ${file.size} bytes, ` +\n",
              "        `last modified: ${\n",
              "            file.lastModifiedDate ? file.lastModifiedDate.toLocaleDateString() :\n",
              "                                    'n/a'} - `));\n",
              "    const percent = span('0% done');\n",
              "    li.appendChild(percent);\n",
              "\n",
              "    outputElement.appendChild(li);\n",
              "\n",
              "    const fileDataPromise = new Promise((resolve) => {\n",
              "      const reader = new FileReader();\n",
              "      reader.onload = (e) => {\n",
              "        resolve(e.target.result);\n",
              "      };\n",
              "      reader.readAsArrayBuffer(file);\n",
              "    });\n",
              "    // Wait for the data to be ready.\n",
              "    let fileData = yield {\n",
              "      promise: fileDataPromise,\n",
              "      response: {\n",
              "        action: 'continue',\n",
              "      }\n",
              "    };\n",
              "\n",
              "    // Use a chunked sending to avoid message size limits. See b/62115660.\n",
              "    let position = 0;\n",
              "    do {\n",
              "      const length = Math.min(fileData.byteLength - position, MAX_PAYLOAD_SIZE);\n",
              "      const chunk = new Uint8Array(fileData, position, length);\n",
              "      position += length;\n",
              "\n",
              "      const base64 = btoa(String.fromCharCode.apply(null, chunk));\n",
              "      yield {\n",
              "        response: {\n",
              "          action: 'append',\n",
              "          file: file.name,\n",
              "          data: base64,\n",
              "        },\n",
              "      };\n",
              "\n",
              "      let percentDone = fileData.byteLength === 0 ?\n",
              "          100 :\n",
              "          Math.round((position / fileData.byteLength) * 100);\n",
              "      percent.textContent = `${percentDone}% done`;\n",
              "\n",
              "    } while (position < fileData.byteLength);\n",
              "  }\n",
              "\n",
              "  // All done.\n",
              "  yield {\n",
              "    response: {\n",
              "      action: 'complete',\n",
              "    }\n",
              "  };\n",
              "}\n",
              "\n",
              "scope.google = scope.google || {};\n",
              "scope.google.colab = scope.google.colab || {};\n",
              "scope.google.colab._files = {\n",
              "  _uploadFiles,\n",
              "  _uploadFilesContinue,\n",
              "};\n",
              "})(self);\n",
              "</script> "
            ],
            "text/plain": [
              "<IPython.core.display.HTML object>"
            ]
          },
          "metadata": {},
          "output_type": "display_data"
        },
        {
          "name": "stdout",
          "output_type": "stream",
          "text": [
            "Saving kaggle.json to kaggle.json\n"
          ]
        },
        {
          "data": {
            "text/plain": [
              "{'kaggle.json': b'{\"username\":\"j2hoon85\",\"key\":\"03740f6c07a62021d92e271419a1afb2\"}'}"
            ]
          },
          "execution_count": 4,
          "metadata": {},
          "output_type": "execute_result"
        }
      ],
      "source": [
        "# kaggle.json 파일을 업로드하세요.\n",
        "from google.colab import files\n",
        "files.upload()"
      ]
    },
    {
      "cell_type": "code",
      "execution_count": null,
      "metadata": {
        "colab": {
          "base_uri": "https://localhost:8080/"
        },
        "id": "ZSOaTdZ7Re_f",
        "outputId": "8a9156cd-35a2-41c0-abdb-0a7c03d266ee"
      },
      "outputs": [
        {
          "name": "stdout",
          "output_type": "stream",
          "text": [
            "Downloading dogs-vs-cats.zip to /content\n",
            " 98% 799M/812M [00:03<00:00, 119MB/s]\n",
            "100% 812M/812M [00:03<00:00, 222MB/s]\n"
          ]
        }
      ],
      "source": [
        "!mkdir ~/.kaggle\n",
        "!cp kaggle.json ~/.kaggle/\n",
        "!chmod 600 ~/.kaggle/kaggle.json\n",
        "!kaggle competitions download -c dogs-vs-cats"
      ]
    },
    {
      "cell_type": "code",
      "execution_count": null,
      "metadata": {
        "id": "HQRYmlcoWdax"
      },
      "outputs": [],
      "source": [
        "!unzip -qq dogs-vs-cats.zip\n",
        "!unzip -qq train.zip"
      ]
    },
    {
      "cell_type": "code",
      "execution_count": null,
      "metadata": {
        "colab": {
          "base_uri": "https://localhost:8080/"
        },
        "id": "1TQ1jwjAWday",
        "outputId": "a56cf388-25ce-4c52-b789-151ca450e40c"
      },
      "outputs": [
        {
          "name": "stdout",
          "output_type": "stream",
          "text": [
            "Found 2000 files belonging to 2 classes.\n",
            "Found 1000 files belonging to 2 classes.\n",
            "Found 2000 files belonging to 2 classes.\n"
          ]
        }
      ],
      "source": [
        "import os, shutil, pathlib\n",
        "from tensorflow.keras.utils import image_dataset_from_directory\n",
        "\n",
        "original_dir = pathlib.Path(\"train\")\n",
        "new_base_dir = pathlib.Path(\"cats_vs_dogs_small\")\n",
        "\n",
        "def make_subset(subset_name, start_index, end_index):\n",
        "    for category in (\"cat\", \"dog\"):\n",
        "        dir = new_base_dir / subset_name / category\n",
        "        os.makedirs(dir)\n",
        "        fnames = [f\"{category}.{i}.jpg\" for i in range(start_index, end_index)]\n",
        "        for fname in fnames:\n",
        "            shutil.copyfile(src=original_dir / fname,\n",
        "                            dst=dir / fname)\n",
        "\n",
        "make_subset(\"train\", start_index=0, end_index=1000)\n",
        "make_subset(\"validation\", start_index=1000, end_index=1500)\n",
        "make_subset(\"test\", start_index=1500, end_index=2500)\n",
        "\n",
        "train_dataset = image_dataset_from_directory(\n",
        "    new_base_dir / \"train\",\n",
        "    image_size=(180, 180),\n",
        "    batch_size=32)\n",
        "validation_dataset = image_dataset_from_directory(\n",
        "    new_base_dir / \"validation\",\n",
        "    image_size=(180, 180),\n",
        "    batch_size=32)\n",
        "test_dataset = image_dataset_from_directory(\n",
        "    new_base_dir / \"test\",\n",
        "    image_size=(180, 180),\n",
        "    batch_size=32)"
      ]
    },
    {
      "cell_type": "code",
      "execution_count": null,
      "metadata": {
        "id": "ocyuOyHbWday"
      },
      "outputs": [],
      "source": [
        "data_augmentation = keras.Sequential(\n",
        "    [\n",
        "        layers.RandomFlip(\"horizontal\"),\n",
        "        layers.RandomRotation(0.1),\n",
        "        layers.RandomZoom(0.2),\n",
        "    ]\n",
        ")"
      ]
    },
    {
      "cell_type": "code",
      "execution_count": null,
      "metadata": {
        "id": "-qBdzynbWday"
      },
      "outputs": [],
      "source": [
        "inputs = keras.Input(shape=(180, 180, 3))\n",
        "x = data_augmentation(inputs)\n",
        "\n",
        "x = layers.Rescaling(1./255)(x)\n",
        "x = layers.Conv2D(filters=32, kernel_size=5, use_bias=False)(x)\n",
        "\n",
        "for size in [32, 64, 128, 256, 512]:\n",
        "    residual = x\n",
        "\n",
        "    x = layers.BatchNormalization()(x)\n",
        "    x = layers.Activation(\"relu\")(x)\n",
        "    x = layers.SeparableConv2D(size, 3, padding=\"same\", use_bias=False)(x)\n",
        "\n",
        "    x = layers.BatchNormalization()(x)\n",
        "    x = layers.Activation(\"relu\")(x)\n",
        "    x = layers.SeparableConv2D(size, 3, padding=\"same\", use_bias=False)(x)\n",
        "\n",
        "    x = layers.MaxPooling2D(3, strides=2, padding=\"same\")(x)\n",
        "\n",
        "    residual = layers.Conv2D(\n",
        "        size, 1, strides=2, padding=\"same\", use_bias=False)(residual)\n",
        "    x = layers.add([x, residual])\n",
        "\n",
        "x = layers.GlobalAveragePooling2D()(x)\n",
        "x = layers.Dropout(0.5)(x)\n",
        "outputs = layers.Dense(1, activation=\"sigmoid\")(x)\n",
        "model = keras.Model(inputs=inputs, outputs=outputs)"
      ]
    },
    {
      "cell_type": "code",
      "execution_count": null,
      "metadata": {
        "colab": {
          "background_save": true,
          "base_uri": "https://localhost:8080/"
        },
        "id": "p4rMrBCmWdaz",
        "outputId": "fed6be5f-2ccc-4e1c-c6d6-31d2eeab53da"
      },
      "outputs": [
        {
          "name": "stdout",
          "output_type": "stream",
          "text": [
            "Epoch 1/100\n",
            "63/63 [==============================] - 29s 170ms/step - loss: 0.6970 - accuracy: 0.5535 - val_loss: 0.6945 - val_accuracy: 0.5000\n",
            "Epoch 2/100\n",
            "63/63 [==============================] - 9s 137ms/step - loss: 0.6583 - accuracy: 0.6145 - val_loss: 0.6963 - val_accuracy: 0.5000\n",
            "Epoch 3/100\n",
            "63/63 [==============================] - 9s 135ms/step - loss: 0.6358 - accuracy: 0.6400 - val_loss: 0.6938 - val_accuracy: 0.5000\n",
            "Epoch 4/100\n",
            "63/63 [==============================] - 9s 145ms/step - loss: 0.6205 - accuracy: 0.6710 - val_loss: 0.7015 - val_accuracy: 0.5000\n",
            "Epoch 5/100\n",
            "63/63 [==============================] - 9s 137ms/step - loss: 0.6013 - accuracy: 0.6780 - val_loss: 0.7674 - val_accuracy: 0.5000\n",
            "Epoch 6/100\n",
            "63/63 [==============================] - 9s 136ms/step - loss: 0.5816 - accuracy: 0.6965 - val_loss: 0.7750 - val_accuracy: 0.5000\n",
            "Epoch 7/100\n",
            "63/63 [==============================] - 9s 138ms/step - loss: 0.5573 - accuracy: 0.7190 - val_loss: 0.8173 - val_accuracy: 0.5190\n",
            "Epoch 8/100\n",
            "63/63 [==============================] - 10s 147ms/step - loss: 0.5478 - accuracy: 0.7320 - val_loss: 1.1816 - val_accuracy: 0.5400\n",
            "Epoch 9/100\n",
            "63/63 [==============================] - 9s 137ms/step - loss: 0.5490 - accuracy: 0.7220 - val_loss: 0.7274 - val_accuracy: 0.5760\n",
            "Epoch 10/100\n",
            "63/63 [==============================] - 9s 140ms/step - loss: 0.5297 - accuracy: 0.7455 - val_loss: 0.9995 - val_accuracy: 0.5830\n",
            "Epoch 11/100\n",
            "63/63 [==============================] - 9s 144ms/step - loss: 0.5130 - accuracy: 0.7475 - val_loss: 0.6176 - val_accuracy: 0.6570\n",
            "Epoch 12/100\n",
            "63/63 [==============================] - 9s 145ms/step - loss: 0.5094 - accuracy: 0.7585 - val_loss: 0.7244 - val_accuracy: 0.6570\n",
            "Epoch 13/100\n",
            "63/63 [==============================] - 10s 153ms/step - loss: 0.4920 - accuracy: 0.7685 - val_loss: 1.2939 - val_accuracy: 0.5120\n",
            "Epoch 14/100\n",
            "63/63 [==============================] - 9s 139ms/step - loss: 0.4879 - accuracy: 0.7745 - val_loss: 0.5691 - val_accuracy: 0.7050\n",
            "Epoch 15/100\n",
            "63/63 [==============================] - 9s 142ms/step - loss: 0.4644 - accuracy: 0.7820 - val_loss: 0.5903 - val_accuracy: 0.7050\n",
            "Epoch 16/100\n",
            "63/63 [==============================] - 9s 141ms/step - loss: 0.4566 - accuracy: 0.7870 - val_loss: 0.5897 - val_accuracy: 0.7360\n",
            "Epoch 17/100\n",
            "63/63 [==============================] - 10s 150ms/step - loss: 0.4477 - accuracy: 0.7935 - val_loss: 0.7676 - val_accuracy: 0.6810\n",
            "Epoch 18/100\n",
            "63/63 [==============================] - 9s 139ms/step - loss: 0.4367 - accuracy: 0.8050 - val_loss: 2.4801 - val_accuracy: 0.5700\n",
            "Epoch 19/100\n",
            "63/63 [==============================] - 9s 143ms/step - loss: 0.4170 - accuracy: 0.8145 - val_loss: 0.5466 - val_accuracy: 0.7360\n",
            "Epoch 20/100\n",
            "63/63 [==============================] - 9s 143ms/step - loss: 0.4195 - accuracy: 0.8035 - val_loss: 0.8019 - val_accuracy: 0.6640\n",
            "Epoch 21/100\n",
            "63/63 [==============================] - 9s 145ms/step - loss: 0.4082 - accuracy: 0.8160 - val_loss: 0.4448 - val_accuracy: 0.7910\n",
            "Epoch 22/100\n",
            "63/63 [==============================] - 10s 159ms/step - loss: 0.4020 - accuracy: 0.8185 - val_loss: 0.5088 - val_accuracy: 0.7560\n",
            "Epoch 23/100\n",
            "63/63 [==============================] - 9s 140ms/step - loss: 0.4083 - accuracy: 0.8105 - val_loss: 0.4310 - val_accuracy: 0.8020\n",
            "Epoch 24/100\n",
            "63/63 [==============================] - 9s 140ms/step - loss: 0.3680 - accuracy: 0.8480 - val_loss: 0.5265 - val_accuracy: 0.7530\n",
            "Epoch 25/100\n",
            "63/63 [==============================] - 10s 148ms/step - loss: 0.3739 - accuracy: 0.8335 - val_loss: 0.5720 - val_accuracy: 0.7490\n",
            "Epoch 26/100\n",
            "63/63 [==============================] - 9s 140ms/step - loss: 0.3482 - accuracy: 0.8505 - val_loss: 0.9956 - val_accuracy: 0.7130\n",
            "Epoch 27/100\n",
            "63/63 [==============================] - 9s 141ms/step - loss: 0.3546 - accuracy: 0.8455 - val_loss: 2.8952 - val_accuracy: 0.5170\n",
            "Epoch 28/100\n",
            "63/63 [==============================] - 9s 142ms/step - loss: 0.3623 - accuracy: 0.8410 - val_loss: 0.8451 - val_accuracy: 0.6850\n",
            "Epoch 29/100\n",
            "63/63 [==============================] - 10s 149ms/step - loss: 0.3424 - accuracy: 0.8600 - val_loss: 0.5005 - val_accuracy: 0.7670\n",
            "Epoch 30/100\n",
            "63/63 [==============================] - 10s 157ms/step - loss: 0.3408 - accuracy: 0.8585 - val_loss: 0.5635 - val_accuracy: 0.7790\n",
            "Epoch 31/100\n",
            "63/63 [==============================] - 9s 138ms/step - loss: 0.3223 - accuracy: 0.8610 - val_loss: 0.5520 - val_accuracy: 0.7480\n",
            "Epoch 32/100\n",
            "63/63 [==============================] - 9s 141ms/step - loss: 0.2934 - accuracy: 0.8745 - val_loss: 0.4930 - val_accuracy: 0.8270\n",
            "Epoch 33/100\n",
            "63/63 [==============================] - 9s 141ms/step - loss: 0.2988 - accuracy: 0.8740 - val_loss: 0.4072 - val_accuracy: 0.8170\n",
            "Epoch 34/100\n",
            "63/63 [==============================] - 10s 158ms/step - loss: 0.3135 - accuracy: 0.8675 - val_loss: 0.5331 - val_accuracy: 0.7840\n",
            "Epoch 35/100\n",
            "63/63 [==============================] - 9s 139ms/step - loss: 0.2869 - accuracy: 0.8800 - val_loss: 0.5840 - val_accuracy: 0.7880\n",
            "Epoch 36/100\n",
            "63/63 [==============================] - 9s 141ms/step - loss: 0.2920 - accuracy: 0.8795 - val_loss: 1.0693 - val_accuracy: 0.6500\n",
            "Epoch 37/100\n",
            "63/63 [==============================] - 9s 142ms/step - loss: 0.2901 - accuracy: 0.8810 - val_loss: 0.4930 - val_accuracy: 0.8110\n",
            "Epoch 38/100\n",
            "63/63 [==============================] - 10s 151ms/step - loss: 0.2806 - accuracy: 0.8820 - val_loss: 1.7926 - val_accuracy: 0.5930\n",
            "Epoch 39/100\n",
            "63/63 [==============================] - 9s 138ms/step - loss: 0.2810 - accuracy: 0.8775 - val_loss: 1.5750 - val_accuracy: 0.6030\n",
            "Epoch 40/100\n",
            "63/63 [==============================] - 9s 141ms/step - loss: 0.2775 - accuracy: 0.8885 - val_loss: 0.4565 - val_accuracy: 0.7970\n",
            "Epoch 41/100\n",
            "63/63 [==============================] - 9s 140ms/step - loss: 0.2576 - accuracy: 0.8920 - val_loss: 0.4691 - val_accuracy: 0.8160\n",
            "Epoch 42/100\n",
            "63/63 [==============================] - 9s 139ms/step - loss: 0.2612 - accuracy: 0.8895 - val_loss: 0.3750 - val_accuracy: 0.8600\n",
            "Epoch 43/100\n",
            "63/63 [==============================] - 9s 138ms/step - loss: 0.2454 - accuracy: 0.8940 - val_loss: 1.0983 - val_accuracy: 0.6810\n",
            "Epoch 44/100\n",
            "63/63 [==============================] - 9s 138ms/step - loss: 0.2500 - accuracy: 0.9005 - val_loss: 0.3944 - val_accuracy: 0.8410\n",
            "Epoch 45/100\n",
            "63/63 [==============================] - 9s 137ms/step - loss: 0.2411 - accuracy: 0.9000 - val_loss: 0.5959 - val_accuracy: 0.8110\n",
            "Epoch 46/100\n",
            "63/63 [==============================] - 9s 139ms/step - loss: 0.2235 - accuracy: 0.9065 - val_loss: 0.4557 - val_accuracy: 0.8400\n",
            "Epoch 47/100\n",
            "63/63 [==============================] - 9s 140ms/step - loss: 0.2240 - accuracy: 0.9150 - val_loss: 0.6059 - val_accuracy: 0.8040\n",
            "Epoch 48/100\n",
            "63/63 [==============================] - 9s 139ms/step - loss: 0.2298 - accuracy: 0.9060 - val_loss: 0.5612 - val_accuracy: 0.7810\n",
            "Epoch 49/100\n",
            "63/63 [==============================] - 9s 139ms/step - loss: 0.2251 - accuracy: 0.9060 - val_loss: 0.3904 - val_accuracy: 0.8440\n",
            "Epoch 50/100\n",
            "63/63 [==============================] - 10s 148ms/step - loss: 0.2225 - accuracy: 0.9050 - val_loss: 0.4206 - val_accuracy: 0.8260\n",
            "Epoch 51/100\n",
            "63/63 [==============================] - 9s 138ms/step - loss: 0.2052 - accuracy: 0.9155 - val_loss: 0.5969 - val_accuracy: 0.7960\n",
            "Epoch 52/100\n",
            "63/63 [==============================] - 9s 140ms/step - loss: 0.2147 - accuracy: 0.9105 - val_loss: 0.4954 - val_accuracy: 0.8150\n",
            "Epoch 53/100\n",
            "63/63 [==============================] - 9s 140ms/step - loss: 0.2034 - accuracy: 0.9160 - val_loss: 0.3315 - val_accuracy: 0.8620\n",
            "Epoch 54/100\n",
            "63/63 [==============================] - 10s 159ms/step - loss: 0.1850 - accuracy: 0.9265 - val_loss: 0.7898 - val_accuracy: 0.7990\n",
            "Epoch 55/100\n",
            "63/63 [==============================] - 9s 143ms/step - loss: 0.1738 - accuracy: 0.9240 - val_loss: 0.5464 - val_accuracy: 0.8170\n",
            "Epoch 56/100\n",
            "63/63 [==============================] - 10s 157ms/step - loss: 0.2063 - accuracy: 0.9190 - val_loss: 1.1510 - val_accuracy: 0.6560\n",
            "Epoch 57/100\n",
            "63/63 [==============================] - 9s 138ms/step - loss: 0.1910 - accuracy: 0.9280 - val_loss: 0.3035 - val_accuracy: 0.8860\n",
            "Epoch 58/100\n",
            "63/63 [==============================] - 9s 140ms/step - loss: 0.1854 - accuracy: 0.9280 - val_loss: 0.3656 - val_accuracy: 0.8500\n",
            "Epoch 59/100\n",
            "63/63 [==============================] - 9s 139ms/step - loss: 0.2131 - accuracy: 0.9100 - val_loss: 0.4206 - val_accuracy: 0.8310\n",
            "Epoch 60/100\n",
            "63/63 [==============================] - 9s 140ms/step - loss: 0.1852 - accuracy: 0.9250 - val_loss: 0.5055 - val_accuracy: 0.8340\n",
            "Epoch 61/100\n",
            "63/63 [==============================] - 9s 142ms/step - loss: 0.1629 - accuracy: 0.9345 - val_loss: 0.2688 - val_accuracy: 0.8920\n",
            "Epoch 62/100\n",
            "63/63 [==============================] - 9s 138ms/step - loss: 0.1619 - accuracy: 0.9345 - val_loss: 0.6078 - val_accuracy: 0.7760\n",
            "Epoch 63/100\n",
            "63/63 [==============================] - 9s 140ms/step - loss: 0.1540 - accuracy: 0.9390 - val_loss: 1.3793 - val_accuracy: 0.6900\n",
            "Epoch 64/100\n",
            "63/63 [==============================] - 9s 140ms/step - loss: 0.1639 - accuracy: 0.9395 - val_loss: 0.3164 - val_accuracy: 0.8820\n",
            "Epoch 65/100\n",
            "63/63 [==============================] - 9s 139ms/step - loss: 0.1713 - accuracy: 0.9300 - val_loss: 0.4010 - val_accuracy: 0.8590\n",
            "Epoch 66/100\n",
            "63/63 [==============================] - 9s 140ms/step - loss: 0.1580 - accuracy: 0.9325 - val_loss: 0.3280 - val_accuracy: 0.8860\n",
            "Epoch 67/100\n",
            "63/63 [==============================] - 9s 138ms/step - loss: 0.1658 - accuracy: 0.9340 - val_loss: 0.4857 - val_accuracy: 0.8170\n",
            "Epoch 68/100\n",
            "63/63 [==============================] - 9s 139ms/step - loss: 0.1697 - accuracy: 0.9310 - val_loss: 1.7949 - val_accuracy: 0.5720\n",
            "Epoch 69/100\n",
            "63/63 [==============================] - 9s 140ms/step - loss: 0.1483 - accuracy: 0.9410 - val_loss: 0.6700 - val_accuracy: 0.8060\n",
            "Epoch 70/100\n",
            "63/63 [==============================] - 9s 139ms/step - loss: 0.1521 - accuracy: 0.9430 - val_loss: 0.3551 - val_accuracy: 0.8630\n",
            "Epoch 71/100\n",
            "63/63 [==============================] - 9s 147ms/step - loss: 0.1551 - accuracy: 0.9415 - val_loss: 0.3730 - val_accuracy: 0.8740\n",
            "Epoch 72/100\n",
            "63/63 [==============================] - 9s 138ms/step - loss: 0.1460 - accuracy: 0.9405 - val_loss: 0.3864 - val_accuracy: 0.8740\n",
            "Epoch 73/100\n",
            "63/63 [==============================] - 9s 138ms/step - loss: 0.1459 - accuracy: 0.9410 - val_loss: 0.7641 - val_accuracy: 0.7950\n",
            "Epoch 74/100\n",
            "63/63 [==============================] - 9s 140ms/step - loss: 0.1452 - accuracy: 0.9420 - val_loss: 0.5967 - val_accuracy: 0.8110\n",
            "Epoch 75/100\n",
            "63/63 [==============================] - 9s 140ms/step - loss: 0.1385 - accuracy: 0.9470 - val_loss: 0.4504 - val_accuracy: 0.8640\n",
            "Epoch 76/100\n",
            "63/63 [==============================] - 9s 139ms/step - loss: 0.1375 - accuracy: 0.9490 - val_loss: 0.4676 - val_accuracy: 0.8270\n",
            "Epoch 77/100\n",
            "63/63 [==============================] - 10s 158ms/step - loss: 0.1522 - accuracy: 0.9420 - val_loss: 0.9354 - val_accuracy: 0.7490\n",
            "Epoch 78/100\n",
            "63/63 [==============================] - 9s 138ms/step - loss: 0.1434 - accuracy: 0.9395 - val_loss: 0.5717 - val_accuracy: 0.8300\n",
            "Epoch 79/100\n",
            "63/63 [==============================] - 9s 140ms/step - loss: 0.1515 - accuracy: 0.9405 - val_loss: 2.6470 - val_accuracy: 0.6120\n",
            "Epoch 80/100\n",
            "63/63 [==============================] - 9s 140ms/step - loss: 0.1446 - accuracy: 0.9445 - val_loss: 0.6295 - val_accuracy: 0.8170\n",
            "Epoch 81/100\n",
            "63/63 [==============================] - 9s 139ms/step - loss: 0.1380 - accuracy: 0.9425 - val_loss: 0.6582 - val_accuracy: 0.8280\n",
            "Epoch 82/100\n",
            "63/63 [==============================] - 10s 148ms/step - loss: 0.1264 - accuracy: 0.9475 - val_loss: 0.4055 - val_accuracy: 0.8780\n",
            "Epoch 83/100\n",
            "63/63 [==============================] - 9s 137ms/step - loss: 0.1219 - accuracy: 0.9510 - val_loss: 0.3089 - val_accuracy: 0.9040\n",
            "Epoch 84/100\n",
            "63/63 [==============================] - 9s 137ms/step - loss: 0.1261 - accuracy: 0.9510 - val_loss: 0.3212 - val_accuracy: 0.9070\n",
            "Epoch 85/100\n",
            "63/63 [==============================] - 9s 139ms/step - loss: 0.1491 - accuracy: 0.9505 - val_loss: 0.3732 - val_accuracy: 0.8940\n",
            "Epoch 86/100\n",
            "63/63 [==============================] - 9s 141ms/step - loss: 0.1219 - accuracy: 0.9465 - val_loss: 0.4165 - val_accuracy: 0.8730\n",
            "Epoch 87/100\n",
            "63/63 [==============================] - 9s 139ms/step - loss: 0.1375 - accuracy: 0.9470 - val_loss: 0.8452 - val_accuracy: 0.8000\n",
            "Epoch 88/100\n",
            "63/63 [==============================] - 10s 158ms/step - loss: 0.1192 - accuracy: 0.9585 - val_loss: 0.2878 - val_accuracy: 0.9070\n",
            "Epoch 89/100\n",
            "63/63 [==============================] - 9s 138ms/step - loss: 0.1263 - accuracy: 0.9510 - val_loss: 0.4171 - val_accuracy: 0.8710\n",
            "Epoch 90/100\n",
            "63/63 [==============================] - 9s 139ms/step - loss: 0.1183 - accuracy: 0.9555 - val_loss: 0.4876 - val_accuracy: 0.8710\n",
            "Epoch 91/100\n",
            "63/63 [==============================] - 9s 139ms/step - loss: 0.1032 - accuracy: 0.9615 - val_loss: 0.2780 - val_accuracy: 0.9090\n",
            "Epoch 92/100\n",
            "63/63 [==============================] - 9s 140ms/step - loss: 0.1077 - accuracy: 0.9580 - val_loss: 0.3746 - val_accuracy: 0.8840\n",
            "Epoch 93/100\n",
            "63/63 [==============================] - 9s 145ms/step - loss: 0.1087 - accuracy: 0.9600 - val_loss: 0.3971 - val_accuracy: 0.8960\n",
            "Epoch 94/100\n",
            "63/63 [==============================] - 9s 138ms/step - loss: 0.1102 - accuracy: 0.9580 - val_loss: 0.3266 - val_accuracy: 0.8790\n",
            "Epoch 95/100\n",
            "63/63 [==============================] - 9s 137ms/step - loss: 0.1387 - accuracy: 0.9520 - val_loss: 0.9442 - val_accuracy: 0.7480\n",
            "Epoch 96/100\n",
            "63/63 [==============================] - 9s 140ms/step - loss: 0.1006 - accuracy: 0.9635 - val_loss: 0.3057 - val_accuracy: 0.9020\n",
            "Epoch 97/100\n",
            "63/63 [==============================] - 9s 139ms/step - loss: 0.1150 - accuracy: 0.9565 - val_loss: 0.3673 - val_accuracy: 0.8930\n",
            "Epoch 98/100\n",
            "63/63 [==============================] - 9s 139ms/step - loss: 0.1023 - accuracy: 0.9600 - val_loss: 0.3244 - val_accuracy: 0.8950\n",
            "Epoch 99/100\n",
            "63/63 [==============================] - 9s 139ms/step - loss: 0.1280 - accuracy: 0.9520 - val_loss: 1.7125 - val_accuracy: 0.7170\n",
            "Epoch 100/100\n",
            "63/63 [==============================] - 10s 158ms/step - loss: 0.0948 - accuracy: 0.9650 - val_loss: 0.3396 - val_accuracy: 0.8870\n"
          ]
        }
      ],
      "source": [
        "model.compile(loss=\"binary_crossentropy\",\n",
        "              optimizer=\"rmsprop\",\n",
        "              metrics=[\"accuracy\"])\n",
        "history = model.fit(\n",
        "    train_dataset,\n",
        "    epochs=100,\n",
        "    validation_data=validation_dataset)"
      ]
    },
    {
      "cell_type": "code",
      "execution_count": null,
      "metadata": {
        "colab": {
          "background_save": true
        },
        "id": "EF7VzM_58F_-",
        "outputId": "66bdae5d-5d93-4e45-93e6-6cd7de7624cf"
      },
      "outputs": [
        {
          "data": {
            "image/png": "[encoded data removed]",
            "text/plain": [
              "<Figure size 640x480 with 1 Axes>"
            ]
          },
          "metadata": {},
          "output_type": "display_data"
        },
        {
          "data": {
            "image/png": "[encoded data removed]",
            "text/plain": [
              "<Figure size 640x480 with 1 Axes>"
            ]
          },
          "metadata": {},
          "output_type": "display_data"
        }
      ],
      "source": [
        "import matplotlib.pyplot as plt\n",
        "accuracy = history.history[\"accuracy\"]\n",
        "val_accuracy = history.history[\"val_accuracy\"]\n",
        "loss = history.history[\"loss\"]\n",
        "val_loss = history.history[\"val_loss\"]\n",
        "epochs = range(1, len(accuracy) + 1)\n",
        "plt.plot(epochs, accuracy, \"bo\", label=\"Training accuracy\")\n",
        "plt.plot(epochs, val_accuracy, \"b\", label=\"Validation accuracy\")\n",
        "plt.title(\"Training and validation accuracy\")\n",
        "plt.legend()\n",
        "plt.figure()\n",
        "plt.plot(epochs, loss, \"bo\", label=\"Training loss\")\n",
        "plt.plot(epochs, val_loss, \"b\", label=\"Validation loss\")\n",
        "plt.title(\"Training and validation loss\")\n",
        "plt.legend()\n",
        "plt.show()"
      ]
    }
  ],
  "metadata": {
    "accelerator": "GPU",
    "colab": {
      "provenance": []
    },
    "kernelspec": {
      "display_name": "default:Python",
      "language": "python",
      "name": "conda-env-default-py"
    },
    "language_info": {
      "codemirror_mode": {
        "name": "ipython",
        "version": 3
      },
      "file_extension": ".py",
      "mimetype": "text/x-python",
      "name": "python",
      "nbconvert_exporter": "python",
      "pygments_lexer": "ipython3",
      "version": "3.9.10"
    }
  },
  "nbformat": 4,
  "nbformat_minor": 0
}