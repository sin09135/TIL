{
  "nbformat": 4,
  "nbformat_minor": 0,
  "metadata": {
    "colab": {
      "provenance": [],
      "gpuType": "T4"
    },
    "kernelspec": {
      "name": "python3",
      "display_name": "Python 3"
    },
    "language_info": {
      "name": "python"
    },
    "accelerator": "GPU"
  },
  "cells": [
    {
      "cell_type": "code",
      "execution_count": 1,
      "metadata": {
        "id": "BXUF-VzoV3sJ"
      },
      "outputs": [],
      "source": [
        "# 딥러닝 할 떄는 t4 GPU 로 설정해놓고 진행"
      ]
    },
    {
      "cell_type": "markdown",
      "source": [
        "## 데이터 불러오기"
      ],
      "metadata": {
        "id": "q7xTfG_XWhsw"
      }
    },
    {
      "cell_type": "code",
      "source": [
        "from tensorflow.keras.datasets import mnist\n",
        "(train_images, train_labels),(test_images, test_labels) = mnist.load_data()"
      ],
      "metadata": {
        "colab": {
          "base_uri": "https://localhost:8080/"
        },
        "id": "7yDr3Z7zWjCh",
        "outputId": "fc6bda21-4122-499e-c79a-a03092954a62"
      },
      "execution_count": 1,
      "outputs": [
        {
          "output_type": "stream",
          "name": "stdout",
          "text": [
            "Downloading data from https://storage.googleapis.com/tensorflow/tf-keras-datasets/mnist.npz\n",
            "11490434/11490434 [==============================] - 1s 0us/step\n"
          ]
        }
      ]
    },
    {
      "cell_type": "markdown",
      "source": [
        "## 데이터 형태 확인"
      ],
      "metadata": {
        "id": "_QphhENmW-wg"
      }
    },
    {
      "cell_type": "code",
      "source": [
        "train_images.shape # 3차원 배열"
      ],
      "metadata": {
        "colab": {
          "base_uri": "https://localhost:8080/"
        },
        "id": "4-1mw2-2W6SR",
        "outputId": "6e356603-d5c1-4a99-ce1f-243a1927e38f"
      },
      "execution_count": 2,
      "outputs": [
        {
          "output_type": "execute_result",
          "data": {
            "text/plain": [
              "(60000, 28, 28)"
            ]
          },
          "metadata": {},
          "execution_count": 2
        }
      ]
    },
    {
      "cell_type": "code",
      "source": [
        "len(train_labels)"
      ],
      "metadata": {
        "colab": {
          "base_uri": "https://localhost:8080/"
        },
        "id": "REH48nQdXDDX",
        "outputId": "2423fc57-e9ba-450d-8889-a29d3fec6b33"
      },
      "execution_count": 3,
      "outputs": [
        {
          "output_type": "execute_result",
          "data": {
            "text/plain": [
              "60000"
            ]
          },
          "metadata": {},
          "execution_count": 3
        }
      ]
    },
    {
      "cell_type": "code",
      "source": [
        "train_labels[:5]"
      ],
      "metadata": {
        "colab": {
          "base_uri": "https://localhost:8080/"
        },
        "id": "I1bcL2L3XOAZ",
        "outputId": "d004b494-7e0a-4c8a-c4a1-7c5cd878d4cf"
      },
      "execution_count": 4,
      "outputs": [
        {
          "output_type": "execute_result",
          "data": {
            "text/plain": [
              "array([5, 0, 4, 1, 9], dtype=uint8)"
            ]
          },
          "metadata": {},
          "execution_count": 4
        }
      ]
    },
    {
      "cell_type": "code",
      "source": [
        "test_images.shape # 3차원 배열"
      ],
      "metadata": {
        "colab": {
          "base_uri": "https://localhost:8080/"
        },
        "id": "hYtSERrmXUgh",
        "outputId": "4826dcf1-1025-49a9-801a-dfa8c509982f"
      },
      "execution_count": 5,
      "outputs": [
        {
          "output_type": "execute_result",
          "data": {
            "text/plain": [
              "(10000, 28, 28)"
            ]
          },
          "metadata": {},
          "execution_count": 5
        }
      ]
    },
    {
      "cell_type": "code",
      "source": [
        "test_labels"
      ],
      "metadata": {
        "colab": {
          "base_uri": "https://localhost:8080/"
        },
        "id": "TtA8E8VBXcuP",
        "outputId": "2c4808cc-2ecc-46ea-d567-4eef67f59403"
      },
      "execution_count": 6,
      "outputs": [
        {
          "output_type": "execute_result",
          "data": {
            "text/plain": [
              "array([7, 2, 1, ..., 4, 5, 6], dtype=uint8)"
            ]
          },
          "metadata": {},
          "execution_count": 6
        }
      ]
    },
    {
      "cell_type": "markdown",
      "source": [
        "## 신경망 구조"
      ],
      "metadata": {
        "id": "1yy03a2uXv3F"
      }
    },
    {
      "cell_type": "code",
      "source": [
        "from tensorflow import keras\n",
        "from tensorflow.keras import layers\n",
        "\n",
        "model = keras.Sequential([\n",
        "    layers.Dense(512, activation = \"relu\"), # 입력\n",
        "    layers.Dense(10, activation = 'softmax')# 출력. 10이 의미하는 것은 예측할 범주의 개수\n",
        "                                            # 수치 예측의 경우에는 숫자 하나\n",
        "])"
      ],
      "metadata": {
        "id": "TUbE-s1pXyJ2"
      },
      "execution_count": 7,
      "outputs": []
    },
    {
      "cell_type": "markdown",
      "source": [
        "## 컴파일 단계\n",
        "- 어떤 형태로 훈련을 시킬 것이냐를 정의\n",
        "- 경사하강법 : 기울기를 찾는데, step 을 어떤 식으로 정의하는 것\n",
        "- 경사하강법의 종류도 되게 많음"
      ],
      "metadata": {
        "id": "RwrBfhimZWwk"
      }
    },
    {
      "cell_type": "code",
      "source": [
        "model.compile(optimizer = \"rmsprop\",\n",
        "              loss = \"sparse_categorical_crossentropy\",\n",
        "              metrics = [\"accuracy\"])"
      ],
      "metadata": {
        "id": "vsH-zL2uYRRS"
      },
      "execution_count": 8,
      "outputs": []
    },
    {
      "cell_type": "markdown",
      "source": [
        "## 이미지 데이터 준비\n",
        "- 데이터를 모델에 맞는 크기로 변경\n",
        "  + 주의, 이 때. 데이터 타입 변경(연산할 때, 데이터타입 매칭으로 인한 오류가 발생할 수 있음)\n",
        "  + 기본값 float64, 텐서플로 기본값 float32"
      ],
      "metadata": {
        "id": "zXM02O0wamPB"
      }
    },
    {
      "cell_type": "code",
      "source": [
        "train_images = train_images.reshape((60000,28*28))\n",
        "train_images = train_images.astype(\"float32\") / 255\n",
        "test_images = test_images.reshape((10000,28*28))\n",
        "test_images = test_images.astype(\"float32\") / 255\n",
        "\n",
        "train_images.shape, test_images.shape"
      ],
      "metadata": {
        "colab": {
          "base_uri": "https://localhost:8080/"
        },
        "id": "hcTu4G7AbPJ-",
        "outputId": "9f68ac05-286e-45c8-fd8f-1ec8cefb802c"
      },
      "execution_count": 9,
      "outputs": [
        {
          "output_type": "execute_result",
          "data": {
            "text/plain": [
              "((60000, 784), (10000, 784))"
            ]
          },
          "metadata": {},
          "execution_count": 9
        }
      ]
    },
    {
      "cell_type": "code",
      "source": [
        "model.fit(train_images, train_labels, epochs = 5, batch_size = 128)"
      ],
      "metadata": {
        "colab": {
          "base_uri": "https://localhost:8080/"
        },
        "id": "Za20TNf5b3wG",
        "outputId": "96ebd963-4f57-48da-cd4f-64c1adf4a476"
      },
      "execution_count": 10,
      "outputs": [
        {
          "output_type": "stream",
          "name": "stdout",
          "text": [
            "Epoch 1/5\n",
            "469/469 [==============================] - 6s 3ms/step - loss: 0.2659 - accuracy: 0.9238\n",
            "Epoch 2/5\n",
            "469/469 [==============================] - 1s 3ms/step - loss: 0.1074 - accuracy: 0.9677\n",
            "Epoch 3/5\n",
            "469/469 [==============================] - 1s 3ms/step - loss: 0.0695 - accuracy: 0.9796\n",
            "Epoch 4/5\n",
            "469/469 [==============================] - 1s 3ms/step - loss: 0.0506 - accuracy: 0.9848\n",
            "Epoch 5/5\n",
            "469/469 [==============================] - 1s 3ms/step - loss: 0.0370 - accuracy: 0.9892\n"
          ]
        },
        {
          "output_type": "execute_result",
          "data": {
            "text/plain": [
              "<keras.callbacks.History at 0x7914ee12b190>"
            ]
          },
          "metadata": {},
          "execution_count": 10
        }
      ]
    },
    {
      "cell_type": "code",
      "source": [
        "test_digits = test_images[0:10]\n",
        "predictions = model.predict(test_digits)\n",
        "predictions[0]"
      ],
      "metadata": {
        "colab": {
          "base_uri": "https://localhost:8080/"
        },
        "id": "JyeyOy6zcCL6",
        "outputId": "3aaa24e2-4843-4ebc-9bfb-d0c64ee1f511"
      },
      "execution_count": 11,
      "outputs": [
        {
          "output_type": "stream",
          "name": "stdout",
          "text": [
            "1/1 [==============================] - 0s 67ms/step\n"
          ]
        },
        {
          "output_type": "execute_result",
          "data": {
            "text/plain": [
              "array([3.39344020e-08, 2.29528023e-08, 1.19436445e-05, 2.83659265e-05,\n",
              "       1.62059411e-11, 1.76055384e-08, 3.11062916e-12, 9.99958754e-01,\n",
              "       4.95462132e-07, 2.98618062e-07], dtype=float32)"
            ]
          },
          "metadata": {},
          "execution_count": 11
        }
      ]
    },
    {
      "cell_type": "code",
      "source": [
        "predictions[0].argmax()"
      ],
      "metadata": {
        "colab": {
          "base_uri": "https://localhost:8080/"
        },
        "id": "KJXktQG9cT-v",
        "outputId": "b07e4838-fe2a-4e94-e973-ccddd748dec8"
      },
      "execution_count": 12,
      "outputs": [
        {
          "output_type": "execute_result",
          "data": {
            "text/plain": [
              "7"
            ]
          },
          "metadata": {},
          "execution_count": 12
        }
      ]
    },
    {
      "cell_type": "code",
      "source": [
        "predictions[0][7]"
      ],
      "metadata": {
        "colab": {
          "base_uri": "https://localhost:8080/"
        },
        "id": "cvaBKElqcdFd",
        "outputId": "13ce88fe-d9ed-4106-9904-d8e1f2f359bd"
      },
      "execution_count": 13,
      "outputs": [
        {
          "output_type": "execute_result",
          "data": {
            "text/plain": [
              "0.99995875"
            ]
          },
          "metadata": {},
          "execution_count": 13
        }
      ]
    },
    {
      "cell_type": "code",
      "source": [
        "test_labels[0]"
      ],
      "metadata": {
        "colab": {
          "base_uri": "https://localhost:8080/"
        },
        "id": "Iw5xx4ynckk9",
        "outputId": "4225a2c1-e62f-4208-fe95-a1a014a2fe54"
      },
      "execution_count": 14,
      "outputs": [
        {
          "output_type": "execute_result",
          "data": {
            "text/plain": [
              "7"
            ]
          },
          "metadata": {},
          "execution_count": 14
        }
      ]
    },
    {
      "cell_type": "code",
      "source": [
        "test_loss, test_acc = model.evaluate(test_images, test_labels)\n",
        "print(f\"테스트 정확도 : {test_acc}\")"
      ],
      "metadata": {
        "colab": {
          "base_uri": "https://localhost:8080/"
        },
        "id": "wv5wGiV2coz2",
        "outputId": "5095aa71-ed68-45e4-8c90-80523d3a7aa9"
      },
      "execution_count": 15,
      "outputs": [
        {
          "output_type": "stream",
          "name": "stdout",
          "text": [
            "313/313 [==============================] - 1s 3ms/step - loss: 0.0642 - accuracy: 0.9803\n",
            "테스트 정확도 : 0.9803000092506409\n"
          ]
        }
      ]
    },
    {
      "cell_type": "markdown",
      "source": [
        "- 정형데이터 활용\n",
        "  + 전통적이 머신러닝(LightGBBM, 선형회귀)\n",
        "  + 최신 딥러딩\n",
        "\n",
        "- 알고리즘 차이\n",
        "  + 딥러닝 : 궁극적인 목적, 기울기만 찾음 끝, 오차 최소화 해석이 굉장히 난해해짐\n",
        "  + tabluar deep learning. tabnet\n",
        "\n",
        "- 이미지, 텍스트 비정형 데이터\n",
        "  + 어떻게 하면 분류 정확도를 높일지만 고민하면 됨\n",
        "  + 딥러닝, 설명할 것이 없음(머신러닝은 해석이 필요함)\n",
        "\n",
        "\n",
        "- 평가지표로 설명함!\n",
        "\n"
      ],
      "metadata": {
        "id": "xR6BA7IZv3MU"
      }
    },
    {
      "cell_type": "markdown",
      "source": [
        "## 기본 문법"
      ],
      "metadata": {
        "id": "2uuS-aEdyTcW"
      }
    },
    {
      "cell_type": "markdown",
      "source": [
        "### 스칼라(랭크 -0 텐서)"
      ],
      "metadata": {
        "id": "5X-SmEITyWS3"
      }
    },
    {
      "cell_type": "code",
      "source": [
        "import numpy as np\n",
        "x = np.array(12) # 스칼라 (값 1개)\n",
        "x"
      ],
      "metadata": {
        "colab": {
          "base_uri": "https://localhost:8080/"
        },
        "id": "_B8k8BxFyRc-",
        "outputId": "5b71c407-c229-4da3-b6fa-b3c44d42a813"
      },
      "execution_count": 16,
      "outputs": [
        {
          "output_type": "execute_result",
          "data": {
            "text/plain": [
              "array(12)"
            ]
          },
          "metadata": {},
          "execution_count": 16
        }
      ]
    },
    {
      "cell_type": "code",
      "source": [
        "x.ndim"
      ],
      "metadata": {
        "colab": {
          "base_uri": "https://localhost:8080/"
        },
        "id": "pMfTCiEWyl_j",
        "outputId": "79c0a695-37c0-49b1-a4fa-4e59c382e573"
      },
      "execution_count": 17,
      "outputs": [
        {
          "output_type": "execute_result",
          "data": {
            "text/plain": [
              "0"
            ]
          },
          "metadata": {},
          "execution_count": 17
        }
      ]
    },
    {
      "cell_type": "markdown",
      "source": [
        "### 벡터(랭크 - 1- 텐서)"
      ],
      "metadata": {
        "id": "utRdQE77yrhy"
      }
    },
    {
      "cell_type": "code",
      "source": [
        "x = np.array([12,3,6,14,7])\n",
        "x"
      ],
      "metadata": {
        "colab": {
          "base_uri": "https://localhost:8080/"
        },
        "id": "kkotQ3x2yo5d",
        "outputId": "7a0c79cc-42c1-4e1d-d437-7116606e6f98"
      },
      "execution_count": 18,
      "outputs": [
        {
          "output_type": "execute_result",
          "data": {
            "text/plain": [
              "array([12,  3,  6, 14,  7])"
            ]
          },
          "metadata": {},
          "execution_count": 18
        }
      ]
    },
    {
      "cell_type": "code",
      "source": [
        "x.shape, x.ndim # 1차원 배열 = 랭크-1 텐서 = 벡터"
      ],
      "metadata": {
        "colab": {
          "base_uri": "https://localhost:8080/"
        },
        "id": "CxRf1wrcyygc",
        "outputId": "b6445a3a-eba4-4e29-dcef-b25c8216778f"
      },
      "execution_count": 19,
      "outputs": [
        {
          "output_type": "execute_result",
          "data": {
            "text/plain": [
              "((5,), 1)"
            ]
          },
          "metadata": {},
          "execution_count": 19
        }
      ]
    },
    {
      "cell_type": "markdown",
      "source": [
        "## 행렬(랭크-2텐서)"
      ],
      "metadata": {
        "id": "cv7vfhRBzaAj"
      }
    },
    {
      "cell_type": "code",
      "source": [
        "x = np.array([[5, 78, 2, 34, 0],\n",
        "              [6, 79, 3, 35, 1],\n",
        "              [7, 80, 4, 36, 2]])\n",
        "\n",
        "x.shape, x.ndim # 2차원 배열 = 랭크-2텐서 = 행렬"
      ],
      "metadata": {
        "colab": {
          "base_uri": "https://localhost:8080/"
        },
        "id": "7nfRWCPoy7lX",
        "outputId": "d55917c2-b97c-4f83-f78a-9b874f552ba4"
      },
      "execution_count": 20,
      "outputs": [
        {
          "output_type": "execute_result",
          "data": {
            "text/plain": [
              "((3, 5), 2)"
            ]
          },
          "metadata": {},
          "execution_count": 20
        }
      ]
    },
    {
      "cell_type": "markdown",
      "source": [
        "### 랭크-3텐서 더 높은 랭크의 텐서"
      ],
      "metadata": {
        "id": "fK14Dsa2zHbl"
      }
    },
    {
      "cell_type": "code",
      "source": [
        "x = np.array([[[5, 78, 2, 34, 0],\n",
        "               [6, 79, 3, 35, 1],\n",
        "               [7, 80, 4, 36, 2]],\n",
        "              [[5, 78, 2, 34, 0],\n",
        "               [6, 79, 3, 35, 1],\n",
        "               [7, 80, 4, 36, 2]],\n",
        "              [[5, 78, 2, 34, 0],\n",
        "               [6, 79, 3, 35, 1],\n",
        "               [7, 80, 4, 36, 2]]])\n",
        "\n",
        "x.shape, x.ndim"
      ],
      "metadata": {
        "colab": {
          "base_uri": "https://localhost:8080/"
        },
        "id": "p768qMlQzAeG",
        "outputId": "c3e1e9c8-7877-4fd3-af1e-8d705b48f257"
      },
      "execution_count": 22,
      "outputs": [
        {
          "output_type": "execute_result",
          "data": {
            "text/plain": [
              "((3, 3, 5), 3)"
            ]
          },
          "metadata": {},
          "execution_count": 22
        }
      ]
    },
    {
      "cell_type": "markdown",
      "source": [
        "## 데이터 다시보기"
      ],
      "metadata": {
        "id": "Kr2zYAXh0HDU"
      }
    },
    {
      "cell_type": "code",
      "source": [
        "from tensorflow.keras.datasets import mnist\n",
        "(train_images, train_labels),(test_images, test_labels) = mnist.load_data()"
      ],
      "metadata": {
        "id": "IaToQFryzkdL"
      },
      "execution_count": 23,
      "outputs": []
    },
    {
      "cell_type": "code",
      "source": [
        "(train_images, train_labels),(test_images, test_labels) = mnist.load_data()"
      ],
      "metadata": {
        "id": "G2TM5hzS0Lp5"
      },
      "execution_count": 24,
      "outputs": []
    },
    {
      "cell_type": "code",
      "source": [
        "train_images.ndim"
      ],
      "metadata": {
        "colab": {
          "base_uri": "https://localhost:8080/"
        },
        "id": "VvRk4gbH0W9m",
        "outputId": "fb7e26ea-1fa9-4fe4-ec45-96d72eae923a"
      },
      "execution_count": 25,
      "outputs": [
        {
          "output_type": "execute_result",
          "data": {
            "text/plain": [
              "3"
            ]
          },
          "metadata": {},
          "execution_count": 25
        }
      ]
    },
    {
      "cell_type": "code",
      "source": [
        "train_images.shape"
      ],
      "metadata": {
        "colab": {
          "base_uri": "https://localhost:8080/"
        },
        "id": "CzV0eCOC0aKB",
        "outputId": "c18d94f3-5023-4aa0-bfbd-9bf25981df52"
      },
      "execution_count": 26,
      "outputs": [
        {
          "output_type": "execute_result",
          "data": {
            "text/plain": [
              "(60000, 28, 28)"
            ]
          },
          "metadata": {},
          "execution_count": 26
        }
      ]
    },
    {
      "cell_type": "code",
      "source": [
        "train_images.dtype"
      ],
      "metadata": {
        "colab": {
          "base_uri": "https://localhost:8080/"
        },
        "id": "QXtnCsfc0d2O",
        "outputId": "71b52038-f8d4-4bf7-9625-31762b4cfdaa"
      },
      "execution_count": 27,
      "outputs": [
        {
          "output_type": "execute_result",
          "data": {
            "text/plain": [
              "dtype('uint8')"
            ]
          },
          "metadata": {},
          "execution_count": 27
        }
      ]
    },
    {
      "cell_type": "markdown",
      "source": [
        "### 이미지 출력"
      ],
      "metadata": {
        "id": "vsQpgOGL0zcF"
      }
    },
    {
      "cell_type": "code",
      "source": [
        "import matplotlib.pyplot as plt\n",
        "digit = train_images[4]\n",
        "plt.imshow(digit, cmap = plt.cm.binary)\n",
        "plt.show()"
      ],
      "metadata": {
        "colab": {
          "base_uri": "https://localhost:8080/",
          "height": 430
        },
        "id": "-mSs576F0gMG",
        "outputId": "9fa5eb28-4234-4766-9ef5-bca05e89c4a5"
      },
      "execution_count": 30,
      "outputs": [
        {
          "output_type": "display_data",
          "data": {
            "text/plain": [
              "<Figure size 640x480 with 1 Axes>"
            ],
            "image/png": "[encoded data removed]"
          },
          "metadata": {}
        }
      ]
    },
    {
      "cell_type": "code",
      "source": [
        "import matplotlib.pyplot as plt\n",
        "digit = train_images[4]\n",
        "#plt.imshow(digit, cmap = plt.cm.binary)\n",
        "plt.show()"
      ],
      "metadata": {
        "id": "NY4Fhfes1CtN"
      },
      "execution_count": 31,
      "outputs": []
    },
    {
      "cell_type": "code",
      "source": [
        "train_labels[4]"
      ],
      "metadata": {
        "colab": {
          "base_uri": "https://localhost:8080/"
        },
        "id": "hljIcW5Q1QVe",
        "outputId": "6610bae3-7494-4098-c1d9-65bd43414237"
      },
      "execution_count": 32,
      "outputs": [
        {
          "output_type": "execute_result",
          "data": {
            "text/plain": [
              "9"
            ]
          },
          "metadata": {},
          "execution_count": 32
        }
      ]
    },
    {
      "cell_type": "markdown",
      "source": [
        "## 넘파이로 텐서 조작하기"
      ],
      "metadata": {
        "id": "sOh3nRtH1c_L"
      }
    },
    {
      "cell_type": "markdown",
      "source": [
        "- 슬라이싱"
      ],
      "metadata": {
        "id": "xuYhij7V1hjA"
      }
    },
    {
      "cell_type": "code",
      "source": [
        "my_slice = train_images[10:100] # 90개의 이미지를 가져오겠다.(추천하지 않는 방식)\n",
        "my_slice.shape"
      ],
      "metadata": {
        "colab": {
          "base_uri": "https://localhost:8080/"
        },
        "id": "aQzTCWIM1VHm",
        "outputId": "82df2dc9-cb44-4aff-ce06-6b237500ca50"
      },
      "execution_count": 33,
      "outputs": [
        {
          "output_type": "execute_result",
          "data": {
            "text/plain": [
              "(90, 28, 28)"
            ]
          },
          "metadata": {},
          "execution_count": 33
        }
      ]
    },
    {
      "cell_type": "code",
      "source": [
        "my_slice = train_images[10:100,:,:]\n",
        "my_slice.shape"
      ],
      "metadata": {
        "colab": {
          "base_uri": "https://localhost:8080/"
        },
        "id": "4AGj_-bN2Aaf",
        "outputId": "db2a671d-7873-4d4c-a60e-cf1259feea38"
      },
      "execution_count": 35,
      "outputs": [
        {
          "output_type": "execute_result",
          "data": {
            "text/plain": [
              "(90, 28, 28)"
            ]
          },
          "metadata": {},
          "execution_count": 35
        }
      ]
    },
    {
      "cell_type": "code",
      "source": [
        "my_slice = train_images[10:100,0:28,0:28]\n",
        "my_slice.shape"
      ],
      "metadata": {
        "colab": {
          "base_uri": "https://localhost:8080/"
        },
        "id": "R-WD9-2S2ON0",
        "outputId": "ca7da4bb-afeb-4f45-9f1a-74079440a6d7"
      },
      "execution_count": 36,
      "outputs": [
        {
          "output_type": "execute_result",
          "data": {
            "text/plain": [
              "(90, 28, 28)"
            ]
          },
          "metadata": {},
          "execution_count": 36
        }
      ]
    },
    {
      "cell_type": "code",
      "source": [
        "my_slice = train_images[:,14:,14:] # 오른쪽 아래\n",
        "my_slice.shape"
      ],
      "metadata": {
        "colab": {
          "base_uri": "https://localhost:8080/"
        },
        "id": "0d0VjHv62ZQE",
        "outputId": "c03509bb-a19a-41ab-d735-d89c7de0497f"
      },
      "execution_count": 37,
      "outputs": [
        {
          "output_type": "execute_result",
          "data": {
            "text/plain": [
              "(60000, 14, 14)"
            ]
          },
          "metadata": {},
          "execution_count": 37
        }
      ]
    },
    {
      "cell_type": "code",
      "source": [
        "my_slice = train_images[:,7:-7,7:-7]\n",
        "my_slice.shape"
      ],
      "metadata": {
        "colab": {
          "base_uri": "https://localhost:8080/"
        },
        "id": "luJFsMav2tgC",
        "outputId": "fa7d8f36-6478-4142-f0aa-0933ad750675"
      },
      "execution_count": 38,
      "outputs": [
        {
          "output_type": "execute_result",
          "data": {
            "text/plain": [
              "(60000, 14, 14)"
            ]
          },
          "metadata": {},
          "execution_count": 38
        }
      ]
    },
    {
      "cell_type": "markdown",
      "source": [
        "## 배치데이터\n",
        "- 딥러닝 모델은 한번에 전체 데이터셋을 처리하지 않는다.\n",
        "- 대신 데이터를 작은 배치로 나눈다."
      ],
      "metadata": {
        "id": "XvZh4WWX3MWo"
      }
    },
    {
      "cell_type": "code",
      "source": [
        "batch = train_images[:128] # 이미지 개수를 나눔"
      ],
      "metadata": {
        "id": "JHcSLAdI2z5c"
      },
      "execution_count": 39,
      "outputs": []
    },
    {
      "cell_type": "markdown",
      "source": [
        "## 텐서 연산"
      ],
      "metadata": {
        "id": "uwNgSPLO7JHM"
      }
    },
    {
      "cell_type": "code",
      "source": [
        "#keras.layers.Dense(512, activation = \"relu\")"
      ],
      "metadata": {
        "id": "amRFDRIR6rva"
      },
      "execution_count": null,
      "outputs": []
    },
    {
      "cell_type": "code",
      "source": [
        "# relu 함수 구현\n",
        "def naive_relu(x):\n",
        "  assert len(x.shape) == 2\n",
        "  x = x.copy() # 입력 텐서 자체를 바꾸지 않고 복사한다.\n",
        "  for i in range(x.shape[0]):\n",
        "    for j in range(x.shape[1]):\n",
        "      x[i,j] = max(x[i,j],0)\n",
        "    return x\n",
        "\n",
        "def naive_add(x,y):\n",
        "  assert len(x.shape) == 2 # 2차원 배열\n",
        "  assert x.shape == y.shape\n",
        "  x = x.copy()\n",
        "  for i in range(x.shape[0]):\n",
        "    for j in range(x.shape[1]):\n",
        "      x[i,j] += y[i,j]\n",
        "  return x"
      ],
      "metadata": {
        "id": "UiZ4T0RN8PcZ"
      },
      "execution_count": 40,
      "outputs": []
    },
    {
      "cell_type": "markdown",
      "source": [
        "- 원소별 연산"
      ],
      "metadata": {
        "id": "ahNBf-f583Qb"
      }
    },
    {
      "cell_type": "code",
      "source": [
        "import time\n",
        "\n",
        "x = np.random.random((20,100))\n",
        "y = np.random.random((20,100))\n",
        "\n",
        "t0 = time.time()\n",
        "for _ in range(1000):\n",
        "  z = x + y # 각각 원소별 덧셈\n",
        "  z = np.maximum(z, 0.) # 원소별 렐루 함수\n",
        "print(\"걸린 시간: {0:.2f} s\".format(time.time() - t0))"
      ],
      "metadata": {
        "colab": {
          "base_uri": "https://localhost:8080/"
        },
        "id": "XluRBa0w82Mj",
        "outputId": "418a8572-4541-4df2-d090-ecb1d19fefad"
      },
      "execution_count": 44,
      "outputs": [
        {
          "output_type": "stream",
          "name": "stdout",
          "text": [
            "걸린 시간: 0.01 s\n"
          ]
        }
      ]
    },
    {
      "cell_type": "code",
      "source": [
        "t0 = time.time()\n",
        "for _ in range(1000):\n",
        "  z = naive_add(x,y)\n",
        "  z = naive_relu(z)\n",
        "print(\"걸린 시간: {0:.2f} s\".format(time.time() - t0))"
      ],
      "metadata": {
        "colab": {
          "base_uri": "https://localhost:8080/"
        },
        "id": "41erY-Z69ky-",
        "outputId": "1bec7dc5-9577-4aa6-e181-6114fda77a6c"
      },
      "execution_count": 45,
      "outputs": [
        {
          "output_type": "stream",
          "name": "stdout",
          "text": [
            "걸린 시간: 1.41 s\n"
          ]
        }
      ]
    },
    {
      "cell_type": "markdown",
      "source": [
        "## 브로드캐스팅\n",
        "- 참고 : https://numpy.org/doc/stable/user/basics.broadcasting.html"
      ],
      "metadata": {
        "id": "s7Mxke9P-icu"
      }
    },
    {
      "cell_type": "code",
      "source": [
        "import numpy as np\n",
        "x = np.random.random((32,10)) # x는 크기가 23,10 인 행렬\n",
        "y = np.random.random((10, )) # 1차원 벡터\n",
        "y"
      ],
      "metadata": {
        "colab": {
          "base_uri": "https://localhost:8080/"
        },
        "id": "x4jo0tRb-lcy",
        "outputId": "2dc1c3de-d468-46f7-c243-698341d520b4"
      },
      "execution_count": 46,
      "outputs": [
        {
          "output_type": "execute_result",
          "data": {
            "text/plain": [
              "array([0.33763271, 0.93061194, 0.36615942, 0.80917576, 0.26603757,\n",
              "       0.06598352, 0.83965856, 0.5249002 , 0.84582808, 0.93059129])"
            ]
          },
          "metadata": {},
          "execution_count": 46
        }
      ]
    },
    {
      "cell_type": "code",
      "source": [
        "y = np.expand_dims(y, axis = 0) # 2차원 행렬\n",
        "y.shape, y.ndim"
      ],
      "metadata": {
        "colab": {
          "base_uri": "https://localhost:8080/"
        },
        "id": "Gcf8CKtd-2y9",
        "outputId": "020ebc69-fa3c-46e6-c499-2b4af24524e0"
      },
      "execution_count": 48,
      "outputs": [
        {
          "output_type": "execute_result",
          "data": {
            "text/plain": [
              "((1, 1, 10), 3)"
            ]
          },
          "metadata": {},
          "execution_count": 48
        }
      ]
    },
    {
      "cell_type": "code",
      "source": [
        "Y = np.concatenate([y]*32, axis = 0)\n",
        "Y.shape, y.ndim"
      ],
      "metadata": {
        "colab": {
          "base_uri": "https://localhost:8080/"
        },
        "id": "Y8hoBU_7-_dd",
        "outputId": "8d7d1ffc-8671-4ee4-c82b-0c7a4bd4da8f"
      },
      "execution_count": 49,
      "outputs": [
        {
          "output_type": "execute_result",
          "data": {
            "text/plain": [
              "((32, 1, 10), 3)"
            ]
          },
          "metadata": {},
          "execution_count": 49
        }
      ]
    },
    {
      "cell_type": "code",
      "source": [
        "def naive_add_matrix_and_vector(x, y):\n",
        "    assert len(x.shape) == 2 # x는 랭크-2 넘파이 배열\n",
        "    assert len(y.shape) == 1 # y는 넘파이 벡터\n",
        "    assert x.shape[1] == y.shape[0]\n",
        "    x = x.copy() # 입력 텐서 자체를 바꾸지 않도록 복사\n",
        "    for i in range(x.shape[0]):\n",
        "        for j in range(x.shape[1]):\n",
        "            x[i, j] += y[j]\n",
        "    return x"
      ],
      "metadata": {
        "id": "hPvn46Ou_bXa"
      },
      "execution_count": 50,
      "outputs": []
    },
    {
      "cell_type": "code",
      "source": [
        "# p.79\n",
        "import numpy as np\n",
        "x = np.random.random((64,3,32,10)) # 4차원\n",
        "y = np.random.random((32,10)) # 배열 다름 2차원\n",
        "\n",
        "z = np.maximum(x,y) # 4차원"
      ],
      "metadata": {
        "id": "BhRvijba_4Op"
      },
      "execution_count": 53,
      "outputs": []
    },
    {
      "cell_type": "code",
      "source": [
        "z.shape, x.shape, x.ndim"
      ],
      "metadata": {
        "colab": {
          "base_uri": "https://localhost:8080/"
        },
        "id": "fKmG-NJQAHKx",
        "outputId": "1e2d639d-a8fd-42c1-9013-f7aecd8c5d40"
      },
      "execution_count": 54,
      "outputs": [
        {
          "output_type": "execute_result",
          "data": {
            "text/plain": [
              "((64, 3, 32, 10), (64, 3, 32, 10), 4)"
            ]
          },
          "metadata": {},
          "execution_count": 54
        }
      ]
    },
    {
      "cell_type": "markdown",
      "source": [
        "## 텐서 곱셈"
      ],
      "metadata": {
        "id": "7nP3PNo0AmIX"
      }
    },
    {
      "cell_type": "code",
      "source": [
        "# 행렬곱셈 np.dot p.79\n",
        "x = np.random.random((32,))\n",
        "y = np.random.random((32,))\n",
        "z = np.dot(x,y)\n",
        "\n",
        "z"
      ],
      "metadata": {
        "colab": {
          "base_uri": "https://localhost:8080/"
        },
        "id": "7GrmiFJjAK-9",
        "outputId": "03add127-a8e7-478f-8420-2b3ca4478f72"
      },
      "execution_count": 55,
      "outputs": [
        {
          "output_type": "execute_result",
          "data": {
            "text/plain": [
              "8.96179820244026"
            ]
          },
          "metadata": {},
          "execution_count": 55
        }
      ]
    },
    {
      "cell_type": "markdown",
      "source": [
        "- 점곱연산"
      ],
      "metadata": {
        "id": "B4LqP5xcBNhm"
      }
    },
    {
      "cell_type": "code",
      "source": [
        "def naive_vector_dot(x, y):\n",
        "    assert len(x.shape) == 1\n",
        "    assert len(y.shape) == 1\n",
        "    assert x.shape[0] == y.shape[0]\n",
        "    z = 0.\n",
        "    for i in range(x.shape[0]):\n",
        "        z += x[i] * y[i]\n",
        "    return z"
      ],
      "metadata": {
        "id": "jpOo36DDBG0N"
      },
      "execution_count": 56,
      "outputs": []
    },
    {
      "cell_type": "code",
      "source": [
        "naive_vector_dot(x,y)"
      ],
      "metadata": {
        "colab": {
          "base_uri": "https://localhost:8080/"
        },
        "id": "yZT6t83tBVgV",
        "outputId": "54e016bf-4260-4cbe-b9ab-a4468f419019"
      },
      "execution_count": 57,
      "outputs": [
        {
          "output_type": "execute_result",
          "data": {
            "text/plain": [
              "8.96179820244026"
            ]
          },
          "metadata": {},
          "execution_count": 57
        }
      ]
    },
    {
      "cell_type": "markdown",
      "source": [
        "- 행렬과 벡터를 행렬곱 하는 메서드를 만듦"
      ],
      "metadata": {
        "id": "d5ZC7IhbBsF9"
      }
    },
    {
      "cell_type": "code",
      "source": [
        "def naive_matrix_vector_dot(x, y):\n",
        "    assert len(x.shape) == 2\n",
        "    assert len(y.shape) == 1\n",
        "    assert x.shape[1] == y.shape[0]\n",
        "    z = np.zeros(x.shape[0])\n",
        "    for i in range(x.shape[0]):\n",
        "        for j in range(x.shape[1]):\n",
        "            z[i] += x[i, j] * y[j]\n",
        "    return z"
      ],
      "metadata": {
        "id": "_crfzl7vBwbE"
      },
      "execution_count": 58,
      "outputs": []
    },
    {
      "cell_type": "markdown",
      "source": [
        "- 기존에 만든 함수를 재사용해서 표현"
      ],
      "metadata": {
        "id": "5DwDh-d2CVhd"
      }
    },
    {
      "cell_type": "code",
      "source": [
        "def naive_matrix_vector_dot(x, y):\n",
        "    z = np.zeros(x.shape[0])\n",
        "    for i in range(x.shape[0]):\n",
        "        z[i] = naive_vector_dot(x[i, :], y)\n",
        "    return z"
      ],
      "metadata": {
        "id": "rQA_g7nyBzSn"
      },
      "execution_count": 59,
      "outputs": []
    },
    {
      "cell_type": "markdown",
      "source": [
        "- 행렬곱 연산 함수를 구현함"
      ],
      "metadata": {
        "id": "8j9pvC3wCd3B"
      }
    },
    {
      "cell_type": "code",
      "source": [
        "def naive_matrix_dot(x, y):\n",
        "    assert len(x.shape) == 2\n",
        "    assert len(y.shape) == 2\n",
        "    assert x.shape[1] == y.shape[0]\n",
        "    z = np.zeros((x.shape[0], y.shape[1]))\n",
        "    for i in range(x.shape[0]):\n",
        "        for j in range(y.shape[1]):\n",
        "            row_x = x[i, :]\n",
        "            column_y = y[:, j]\n",
        "            z[i, j] = naive_vector_dot(row_x, column_y)\n",
        "    return z"
      ],
      "metadata": {
        "id": "yN_DFFUxCfrJ"
      },
      "execution_count": 60,
      "outputs": []
    },
    {
      "cell_type": "markdown",
      "source": [
        "- 텐서플로는 행렬곱 연산을 기반으로 한다!"
      ],
      "metadata": {
        "id": "cKpWSo4gCuFI"
      }
    },
    {
      "cell_type": "code",
      "source": [
        "x = np.random.random((64,32))\n",
        "y = np.random.random((32,16))\n",
        "z = np.random.random((16,8))\n",
        "\n",
        "result = naive_matrix_dot(x,y)\n",
        "naive_matrix_dot(result,z)"
      ],
      "metadata": {
        "colab": {
          "base_uri": "https://localhost:8080/"
        },
        "id": "qHNgDnEWCw09",
        "outputId": "2fe5c83e-d598-48d4-ac56-7fb620d11fb4"
      },
      "execution_count": 67,
      "outputs": [
        {
          "output_type": "execute_result",
          "data": {
            "text/plain": [
              "array([[77.08428049, 64.75332027, 58.41072953, 77.24384348, 59.37736606,\n",
              "        70.08532746, 75.89024607, 78.34790539],\n",
              "       [71.30243229, 59.75488918, 53.2955698 , 71.75078871, 55.30575321,\n",
              "        64.72070822, 70.05850477, 72.20456633],\n",
              "       [61.77862865, 51.71909874, 48.46777334, 64.49349413, 48.49761407,\n",
              "        57.31443476, 61.98717186, 62.77012295],\n",
              "       [72.32343151, 60.02684615, 56.20292603, 74.34693682, 56.17660289,\n",
              "        66.58312724, 72.13358679, 73.25891618],\n",
              "       [83.08130784, 69.00265533, 63.20847309, 85.36284788, 64.3317925 ,\n",
              "        75.23235039, 82.66061191, 84.64384508],\n",
              "       [71.08709021, 59.73215215, 53.57739165, 73.44907646, 54.92985374,\n",
              "        63.9569153 , 70.56848509, 72.78294553],\n",
              "       [66.63851733, 57.03027712, 50.09475436, 67.21847096, 51.52600977,\n",
              "        59.85032103, 65.87495464, 68.64409635],\n",
              "       [63.11804564, 52.64641758, 48.31077145, 65.60458419, 48.23690725,\n",
              "        57.58040016, 62.70457428, 64.66516369],\n",
              "       [71.1386545 , 59.65851188, 54.1743676 , 73.22691829, 54.34072277,\n",
              "        64.97441158, 71.35894484, 73.38529734],\n",
              "       [71.7342333 , 60.68879511, 54.28716967, 73.59064512, 55.6242105 ,\n",
              "        64.49172868, 70.41222352, 73.4842819 ],\n",
              "       [75.21051883, 62.4666233 , 56.51593794, 76.54461299, 58.15133103,\n",
              "        68.17006403, 74.33026138, 75.90570862],\n",
              "       [83.52717507, 69.0110736 , 62.99420304, 84.20849118, 64.11617966,\n",
              "        76.01276546, 82.09191672, 84.80308748],\n",
              "       [74.22705643, 62.13901842, 56.4359707 , 74.94358544, 56.70697378,\n",
              "        67.22918837, 73.58117206, 76.11410187],\n",
              "       [87.28073879, 73.36379409, 66.71346267, 88.07185661, 66.9440052 ,\n",
              "        79.18086254, 86.2188388 , 89.96026281],\n",
              "       [72.36375492, 60.39074084, 54.95069853, 74.13713162, 55.88934709,\n",
              "        65.79083062, 71.29155907, 73.69324071],\n",
              "       [72.73987145, 61.2756698 , 54.98490893, 74.77602824, 56.08637025,\n",
              "        65.91569612, 72.22224154, 74.16590461],\n",
              "       [87.18763483, 73.12755402, 67.81447616, 90.03725182, 68.29977359,\n",
              "        80.15033605, 87.1765162 , 88.96045447],\n",
              "       [86.80086591, 73.10713353, 65.67096277, 88.11838873, 67.40947381,\n",
              "        78.10491193, 85.68281851, 88.72152532],\n",
              "       [73.44146339, 61.01507115, 55.78347335, 74.66605535, 56.35938127,\n",
              "        67.002048  , 72.55175373, 74.54260985],\n",
              "       [76.10558241, 63.86332052, 58.11005351, 76.68714115, 60.17499235,\n",
              "        69.23103138, 74.25730629, 77.07420486],\n",
              "       [79.72278968, 66.80841191, 60.34406742, 81.56112605, 62.54483478,\n",
              "        72.36762132, 79.0371533 , 81.22307425],\n",
              "       [80.67958394, 68.37309727, 60.74554984, 80.74384123, 61.48569244,\n",
              "        72.91383274, 79.41011609, 83.7353091 ],\n",
              "       [79.34863551, 67.30215032, 62.33797088, 81.15525506, 61.30230659,\n",
              "        73.86748108, 79.65278953, 81.75951458],\n",
              "       [85.4040877 , 71.77984059, 64.88409613, 86.98054473, 65.93009088,\n",
              "        77.35171007, 84.03854106, 87.64795533],\n",
              "       [78.69018539, 65.61930098, 59.49946001, 80.3905773 , 60.62914009,\n",
              "        71.3936359 , 77.81997299, 80.13387822],\n",
              "       [73.91607629, 61.09161122, 56.97378219, 76.95093678, 57.17180476,\n",
              "        67.1944337 , 73.50811322, 75.58649238],\n",
              "       [73.04982324, 61.22475675, 55.55931349, 74.34289502, 56.16092243,\n",
              "        66.57690939, 72.46362479, 75.03619762],\n",
              "       [70.67732906, 59.8680942 , 54.67689874, 71.55518423, 55.01095224,\n",
              "        64.32906625, 70.18374214, 72.81784316],\n",
              "       [67.57655816, 55.38532478, 50.81725575, 68.6178787 , 52.78239606,\n",
              "        61.03827144, 65.55520856, 68.06199719],\n",
              "       [81.33731315, 67.58742928, 62.3613557 , 83.57971345, 63.47486522,\n",
              "        75.16027933, 81.15934685, 82.82729376],\n",
              "       [78.80519261, 65.18992283, 59.43270939, 81.10321189, 62.07006431,\n",
              "        70.92652109, 77.68490246, 79.66426324],\n",
              "       [73.70000893, 61.55235828, 54.75337908, 75.25745442, 56.47999703,\n",
              "        66.0944757 , 72.57607844, 75.18069926],\n",
              "       [64.9164667 , 53.44772874, 48.0840806 , 66.01185492, 50.09119178,\n",
              "        58.1792793 , 63.42713851, 65.28150783],\n",
              "       [65.6478065 , 54.9253132 , 49.41043565, 67.04415993, 50.86501938,\n",
              "        59.73540025, 65.00018278, 65.85707535],\n",
              "       [87.42717763, 72.64825832, 66.37244012, 89.34020482, 67.3582141 ,\n",
              "        79.37498362, 86.74261895, 89.52383279],\n",
              "       [65.38630329, 54.70037803, 49.64703203, 65.83833412, 50.71192672,\n",
              "        58.77621211, 63.89886808, 66.94558024],\n",
              "       [62.23384189, 51.5093362 , 47.89246232, 64.72402941, 47.46422584,\n",
              "        57.64734548, 62.09591231, 63.19191561],\n",
              "       [68.78757086, 57.79379414, 50.44164159, 69.474439  , 52.17246751,\n",
              "        61.2915099 , 67.71464167, 70.50130488],\n",
              "       [74.65226553, 62.97769524, 56.82353605, 74.78849466, 57.86269192,\n",
              "        67.45720901, 73.11192578, 76.10838447],\n",
              "       [56.81245815, 47.4935036 , 43.38214258, 57.23429839, 43.32654112,\n",
              "        51.85103074, 56.11157173, 57.78734692],\n",
              "       [64.2907813 , 53.26782389, 49.26096615, 66.46378076, 49.76362092,\n",
              "        58.5764981 , 64.51799508, 65.46430058],\n",
              "       [74.81008038, 62.6280599 , 55.6780955 , 75.70878251, 58.05569043,\n",
              "        66.92971497, 73.2468944 , 75.687993  ],\n",
              "       [67.21395252, 56.89153414, 50.6051213 , 67.95876079, 52.25780571,\n",
              "        60.74189832, 66.39337173, 68.53567743],\n",
              "       [79.73409805, 66.54010558, 60.50930784, 81.83225257, 62.23347704,\n",
              "        71.8023717 , 78.48128146, 81.05034424],\n",
              "       [73.66643468, 62.09622745, 56.61866466, 75.471808  , 57.8581348 ,\n",
              "        67.06638686, 72.60669391, 75.33653827],\n",
              "       [75.84667814, 64.1153416 , 58.89176567, 77.31953025, 59.22731986,\n",
              "        69.75724326, 75.41404886, 77.89249343],\n",
              "       [83.99303532, 71.70062777, 64.99206725, 85.72841653, 65.33233371,\n",
              "        76.79001974, 83.3052812 , 87.14900803],\n",
              "       [71.29835591, 58.89474289, 54.44087379, 73.78999485, 55.97334767,\n",
              "        64.45724399, 70.15384748, 72.37354893],\n",
              "       [73.8978961 , 61.29670638, 55.94204066, 74.11322504, 57.15824809,\n",
              "        67.05168851, 71.88766752, 75.1169882 ],\n",
              "       [69.41764589, 58.03445388, 52.29264768, 70.94195953, 53.73448448,\n",
              "        62.96275661, 68.07810708, 71.12797244],\n",
              "       [80.49821785, 67.42683274, 60.7927957 , 81.9982959 , 61.56433029,\n",
              "        72.59396631, 79.54448063, 83.1077321 ],\n",
              "       [78.17936741, 64.86099451, 58.02897125, 80.5839217 , 59.61826066,\n",
              "        69.37142885, 77.15456363, 79.89368335],\n",
              "       [76.87162515, 63.5828935 , 57.89891265, 77.37306871, 58.54829326,\n",
              "        69.5741238 , 75.47756209, 78.37485898],\n",
              "       [74.43154381, 61.71750388, 56.25912919, 76.78414671, 57.81750581,\n",
              "        66.79007465, 73.25512841, 75.82791005],\n",
              "       [71.05085586, 59.5696741 , 54.51938073, 72.62647582, 54.57779105,\n",
              "        64.5155575 , 70.31016427, 72.94713022],\n",
              "       [75.82760394, 63.64000453, 57.09995269, 76.8654006 , 58.11878448,\n",
              "        68.08838735, 74.25058221, 77.68761971],\n",
              "       [87.19256479, 73.1184966 , 66.07153327, 89.01734618, 67.60809199,\n",
              "        79.22299891, 87.01603522, 88.77677891],\n",
              "       [96.43059028, 81.49852062, 73.32843188, 96.91977951, 74.53521697,\n",
              "        87.57733159, 94.83529493, 99.10407696],\n",
              "       [58.45541606, 49.18230133, 44.14887208, 58.98326551, 45.22191537,\n",
              "        52.34029567, 57.51556812, 60.50872959],\n",
              "       [79.65711138, 66.30978481, 59.68050817, 82.50603084, 61.53701104,\n",
              "        71.68787215, 78.54443784, 80.95326874],\n",
              "       [72.83502751, 61.22765449, 54.95411768, 74.90840666, 56.36569681,\n",
              "        65.93141382, 71.91773413, 74.46426886],\n",
              "       [80.31524366, 67.8244522 , 61.31933407, 81.93075947, 62.13470493,\n",
              "        73.38907217, 79.46643078, 83.08698777],\n",
              "       [78.29817491, 64.82761517, 59.13881725, 80.46028271, 60.08075745,\n",
              "        71.03669445, 77.48022851, 80.10916109],\n",
              "       [76.97971685, 64.92962512, 59.07255991, 77.93412501, 60.38300902,\n",
              "        70.4223298 , 76.01673156, 78.52136655]])"
            ]
          },
          "metadata": {},
          "execution_count": 67
        }
      ]
    },
    {
      "cell_type": "markdown",
      "source": [
        "## 텐서 크기 변환"
      ],
      "metadata": {
        "id": "-I40quhDD6Ov"
      }
    },
    {
      "cell_type": "code",
      "source": [
        "train_images = train_images.reshape((60000, 28*28))"
      ],
      "metadata": {
        "id": "5mQT4KtsC-62"
      },
      "execution_count": 68,
      "outputs": []
    },
    {
      "cell_type": "code",
      "source": [
        "x = np.array([[0.,1.],\n",
        "              [2.,3.],\n",
        "              [4.,5.]])\n",
        "x.shape"
      ],
      "metadata": {
        "colab": {
          "base_uri": "https://localhost:8080/"
        },
        "id": "jgG2MXc0EMxR",
        "outputId": "3f3c7cea-63e0-44ff-8021-d6420d0e0af3"
      },
      "execution_count": 70,
      "outputs": [
        {
          "output_type": "execute_result",
          "data": {
            "text/plain": [
              "(3, 2)"
            ]
          },
          "metadata": {},
          "execution_count": 70
        }
      ]
    },
    {
      "cell_type": "code",
      "source": [
        "x.reshape(3,2,1,1,1).ndim"
      ],
      "metadata": {
        "colab": {
          "base_uri": "https://localhost:8080/"
        },
        "id": "Nn_JiNRpEevh",
        "outputId": "a65a21df-c4a7-4271-ea22-e4ffb201f2de"
      },
      "execution_count": 71,
      "outputs": [
        {
          "output_type": "execute_result",
          "data": {
            "text/plain": [
              "5"
            ]
          },
          "metadata": {},
          "execution_count": 71
        }
      ]
    },
    {
      "cell_type": "code",
      "source": [
        "x = np.zeros((300,20))\n",
        "x = np.transpose(x)\n",
        "x.shape"
      ],
      "metadata": {
        "colab": {
          "base_uri": "https://localhost:8080/"
        },
        "id": "3pRfhomGElAO",
        "outputId": "6d90d4d9-9e7a-4957-8136-0e6a371b27ac"
      },
      "execution_count": 72,
      "outputs": [
        {
          "output_type": "execute_result",
          "data": {
            "text/plain": [
              "(20, 300)"
            ]
          },
          "metadata": {},
          "execution_count": 72
        }
      ]
    },
    {
      "cell_type": "code",
      "source": [],
      "metadata": {
        "id": "UNrf9_7UEy0Q"
      },
      "execution_count": null,
      "outputs": []
    }
  ]
}