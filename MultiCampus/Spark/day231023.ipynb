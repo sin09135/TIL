{
  "nbformat": 4,
  "nbformat_minor": 0,
  "metadata": {
    "colab": {
      "provenance": []
    },
    "kernelspec": {
      "name": "python3",
      "display_name": "Python 3"
    },
    "language_info": {
      "name": "python"
    }
  },
  "cells": [
    {
      "cell_type": "markdown",
      "source": [
        "## Google Drive 연동"
      ],
      "metadata": {
        "id": "0Fkp18_H6Zxs"
      }
    },
    {
      "cell_type": "code",
      "execution_count": null,
      "metadata": {
        "colab": {
          "base_uri": "https://localhost:8080/"
        },
        "id": "6NfrqMtO6VfY",
        "outputId": "7c942aef-22b6-4bcc-bae1-746cafae1bd0"
      },
      "outputs": [
        {
          "output_type": "stream",
          "name": "stdout",
          "text": [
            "Drive already mounted at /content/drive; to attempt to forcibly remount, call drive.mount(\"/content/drive\", force_remount=True).\n"
          ]
        }
      ],
      "source": [
        "from google.colab import drive\n",
        "drive.mount('/content/drive')"
      ]
    },
    {
      "cell_type": "markdown",
      "source": [
        "## JAVA 설치\n",
        "- JVM 실행 위해서는 JAVA 설치 필수"
      ],
      "metadata": {
        "id": "TWc13EXL7MkZ"
      }
    },
    {
      "cell_type": "code",
      "source": [
        "!apt-get install openjdk-8-jdk-headless -qq > /dev/null"
      ],
      "metadata": {
        "id": "t1w-tjRK7VQA"
      },
      "execution_count": null,
      "outputs": []
    },
    {
      "cell_type": "markdown",
      "source": [
        "## Spark 설치\n",
        "- 기존 : Web Link를 통해서 다운로드 받은 후, 압축파일 풀기\n",
        "- 오늘 : 구글 드라이브에서 파일을 가져오기"
      ],
      "metadata": {
        "id": "38SQ_PiA7dQk"
      }
    },
    {
      "cell_type": "code",
      "source": [
        "%cd /content/drive/MyDrive/Colab Notebooks/2023/멀티캠퍼스/spark"
      ],
      "metadata": {
        "colab": {
          "base_uri": "https://localhost:8080/"
        },
        "id": "vBkVQ8MN72ls",
        "outputId": "a3719e71-8417-4be8-ed8d-1047ec664533"
      },
      "execution_count": null,
      "outputs": [
        {
          "output_type": "stream",
          "name": "stdout",
          "text": [
            "/content/drive/MyDrive/Colab Notebooks/2023/멀티캠퍼스/spark\n"
          ]
        }
      ]
    },
    {
      "cell_type": "code",
      "source": [
        "!pwd"
      ],
      "metadata": {
        "colab": {
          "base_uri": "https://localhost:8080/"
        },
        "id": "nIItvnWl7-_A",
        "outputId": "21c88472-df56-4020-ce28-ad06f561f35d"
      },
      "execution_count": null,
      "outputs": [
        {
          "output_type": "stream",
          "name": "stdout",
          "text": [
            "/content/drive/MyDrive/Colab Notebooks/2023/멀티캠퍼스/spark\n"
          ]
        }
      ]
    },
    {
      "cell_type": "code",
      "source": [
        "!ls"
      ],
      "metadata": {
        "colab": {
          "base_uri": "https://localhost:8080/"
        },
        "id": "g9BWWsKT8Byj",
        "outputId": "9fe6cf4e-800c-4021-d76b-6acb991b102a"
      },
      "execution_count": null,
      "outputs": [
        {
          "output_type": "stream",
          "name": "stdout",
          "text": [
            " ch02   chapter02\t\t       'Spark Tutorial Template.ipynb'\n",
            " ch03   ml\t\t\t        스파크00프로젝트.ipynb\n",
            " ch04   spark-3.1.1-bin-hadoop2.7.tgz  '스파크 구글코랩 템플릿.ipynb'\n"
          ]
        }
      ]
    },
    {
      "cell_type": "code",
      "source": [
        "!cp -r spark-3.1.1-bin-hadoop2.7.tgz /content"
      ],
      "metadata": {
        "id": "7YKJJSeg8S26"
      },
      "execution_count": null,
      "outputs": []
    },
    {
      "cell_type": "code",
      "source": [
        "%cd /content/"
      ],
      "metadata": {
        "colab": {
          "base_uri": "https://localhost:8080/"
        },
        "id": "5wIfNZdF8m2D",
        "outputId": "138f44ed-d14b-4c9f-c162-48c41a06fb2e"
      },
      "execution_count": null,
      "outputs": [
        {
          "output_type": "stream",
          "name": "stdout",
          "text": [
            "/content\n"
          ]
        }
      ]
    },
    {
      "cell_type": "code",
      "source": [
        "!pwd"
      ],
      "metadata": {
        "colab": {
          "base_uri": "https://localhost:8080/"
        },
        "id": "X1vfvhn-8pLM",
        "outputId": "d4e06ef1-4552-4e35-b24c-c2d8b434fa64"
      },
      "execution_count": null,
      "outputs": [
        {
          "output_type": "stream",
          "name": "stdout",
          "text": [
            "/content\n"
          ]
        }
      ]
    },
    {
      "cell_type": "code",
      "source": [
        "!ls"
      ],
      "metadata": {
        "colab": {
          "base_uri": "https://localhost:8080/"
        },
        "id": "drs7uAAm86QC",
        "outputId": "1537f1ab-1fb2-4aec-9036-8a16f1ab4214"
      },
      "execution_count": null,
      "outputs": [
        {
          "output_type": "stream",
          "name": "stdout",
          "text": [
            "drive  ngrok-stable-linux-amd64.zip  spark-3.1.1-bin-hadoop2.7\n",
            "ngrok  sample_data\t\t     spark-3.1.1-bin-hadoop2.7.tgz\n"
          ]
        }
      ]
    },
    {
      "cell_type": "code",
      "source": [
        "!tar xf spark-3.1.1-bin-hadoop2.7.tgz > /dev/null"
      ],
      "metadata": {
        "id": "R1z9gS3y9BMu"
      },
      "execution_count": null,
      "outputs": []
    },
    {
      "cell_type": "markdown",
      "source": [
        "## 환경변수 설정\n",
        "- 일반적으로 vi 편집기를 활용해서 작업\n",
        "- 구글코랩 : os 라이브러리 사용해서 환경변수 지정"
      ],
      "metadata": {
        "id": "Kf53Hjn69KV6"
      }
    },
    {
      "cell_type": "code",
      "source": [
        "import os\n",
        "os.environ[\"JAVA_HOME\"] = \"/usr/lib/jvm/java-8-openjdk-amd64\"\n",
        "os.environ[\"SPARK_HOME\"] = \"/content/spark-3.1.1-bin-hadoop2.7\""
      ],
      "metadata": {
        "id": "3O1EmzFV9Smm"
      },
      "execution_count": null,
      "outputs": []
    },
    {
      "cell_type": "markdown",
      "source": [
        "## PySpark 설치"
      ],
      "metadata": {
        "id": "OUcqhw4d9lCc"
      }
    },
    {
      "cell_type": "code",
      "source": [
        "!pip install -q pyspark==3.1.1"
      ],
      "metadata": {
        "id": "93KAagdX9oXY"
      },
      "execution_count": null,
      "outputs": []
    },
    {
      "cell_type": "markdown",
      "source": [
        "## Ngrok 설정\n",
        "- 회원가입해서 Token을 받는다.\n",
        "- 싸이트 : https://ngrok.com/\n"
      ],
      "metadata": {
        "id": "6mz--p65-_91"
      }
    },
    {
      "cell_type": "code",
      "source": [
        "!wget https://bin.equinox.io/c/4VmDzA7iaHb/ngrok-stable-linux-amd64.zip &> /dev/null\n",
        "!unzip ngrok-stable-linux-amd64.zip &> /dev/null"
      ],
      "metadata": {
        "id": "3GgRgOep_Ng1"
      },
      "execution_count": null,
      "outputs": []
    },
    {
      "cell_type": "code",
      "source": [
        "!pip install pyngrok"
      ],
      "metadata": {
        "colab": {
          "base_uri": "https://localhost:8080/"
        },
        "id": "ed7IonzG_REX",
        "outputId": "09ef0bf5-6d59-4e07-b105-3c4232a94453"
      },
      "execution_count": null,
      "outputs": [
        {
          "output_type": "stream",
          "name": "stdout",
          "text": [
            "Requirement already satisfied: pyngrok in /usr/local/lib/python3.10/dist-packages (7.0.0)\n",
            "Requirement already satisfied: PyYAML in /usr/local/lib/python3.10/dist-packages (from pyngrok) (6.0.1)\n"
          ]
        }
      ]
    },
    {
      "cell_type": "code",
      "source": [
        "!./ngrok authtoken 7551hxosxCMUhFXL2A18g_7WXBHeNkUZ1Sg9eSgM7Kd"
      ],
      "metadata": {
        "colab": {
          "base_uri": "https://localhost:8080/"
        },
        "id": "4zhh-u81_WPY",
        "outputId": "82a39b7c-e7d1-4940-af38-62f33f259f59"
      },
      "execution_count": null,
      "outputs": [
        {
          "output_type": "stream",
          "name": "stdout",
          "text": [
            "Authtoken saved to configuration file: /root/.ngrok2/ngrok.yml\n"
          ]
        }
      ]
    },
    {
      "cell_type": "markdown",
      "source": [
        "## 테스트"
      ],
      "metadata": {
        "id": "9IWaHmen97UQ"
      }
    },
    {
      "cell_type": "code",
      "source": [
        "from pyspark.sql import SparkSession\n",
        "spark = SparkSession.builder.appName('mulCamp28').config('spark.ui.port', '4050').getOrCreate()\n",
        "spark"
      ],
      "metadata": {
        "colab": {
          "base_uri": "https://localhost:8080/",
          "height": 222
        },
        "id": "U6xh0DzS-EY9",
        "outputId": "9748ca61-cd15-41b0-d21a-6b2ff28df047"
      },
      "execution_count": null,
      "outputs": [
        {
          "output_type": "execute_result",
          "data": {
            "text/plain": [
              "<pyspark.sql.session.SparkSession at 0x7ebf2c618640>"
            ],
            "text/html": [
              "\n",
              "            <div>\n",
              "                <p><b>SparkSession - in-memory</b></p>\n",
              "                \n",
              "        <div>\n",
              "            <p><b>SparkContext</b></p>\n",
              "\n",
              "            <p><a href=\"http://4bf9f8b94104:4050\">Spark UI</a></p>\n",
              "\n",
              "            <dl>\n",
              "              <dt>Version</dt>\n",
              "                <dd><code>v3.1.1</code></dd>\n",
              "              <dt>Master</dt>\n",
              "                <dd><code>local[*]</code></dd>\n",
              "              <dt>AppName</dt>\n",
              "                <dd><code>mulCamp28</code></dd>\n",
              "            </dl>\n",
              "        </div>\n",
              "        \n",
              "            </div>\n",
              "        "
            ]
          },
          "metadata": {},
          "execution_count": 51
        }
      ]
    },
    {
      "cell_type": "code",
      "source": [
        "strings = spark.read.text(\"/content/spark-3.1.1-bin-hadoop2.7/README.md\")\n",
        "print(strings)\n",
        "print(type(strings))"
      ],
      "metadata": {
        "colab": {
          "base_uri": "https://localhost:8080/"
        },
        "id": "FJwQfVkUIK9t",
        "outputId": "d0cda888-f2fc-4de2-ad5f-8ebbb69ae403"
      },
      "execution_count": null,
      "outputs": [
        {
          "output_type": "stream",
          "name": "stdout",
          "text": [
            "DataFrame[value: string]\n",
            "<class 'pyspark.sql.dataframe.DataFrame'>\n"
          ]
        }
      ]
    },
    {
      "cell_type": "code",
      "source": [
        "filtered = strings.filter(strings.value.contains(\"Spark\"))\n",
        "print(filtered)\n",
        "print(type(filtered))"
      ],
      "metadata": {
        "colab": {
          "base_uri": "https://localhost:8080/"
        },
        "id": "bsAul9O8IuGe",
        "outputId": "b77548c3-caed-4ec0-8535-5170fd1f376b"
      },
      "execution_count": null,
      "outputs": [
        {
          "output_type": "stream",
          "name": "stdout",
          "text": [
            "DataFrame[value: string]\n",
            "<class 'pyspark.sql.dataframe.DataFrame'>\n"
          ]
        }
      ]
    },
    {
      "cell_type": "code",
      "source": [
        "!ls"
      ],
      "metadata": {
        "colab": {
          "base_uri": "https://localhost:8080/"
        },
        "id": "VztN9XNOJCAy",
        "outputId": "cc0b89b5-0476-40c4-ad91-4f9cf8b0258f"
      },
      "execution_count": null,
      "outputs": [
        {
          "output_type": "stream",
          "name": "stdout",
          "text": [
            "drive  ngrok-stable-linux-amd64.zip    sample_data\t\t  spark-3.1.1-bin-hadoop2.7.tgz\n",
            "ngrok  ngrok-stable-linux-amd64.zip.1  spark-3.1.1-bin-hadoop2.7\n"
          ]
        }
      ]
    },
    {
      "cell_type": "code",
      "source": [
        "# !cat spark-3.1.1-bin-hadoop2.7/README.md"
      ],
      "metadata": {
        "id": "_L_LCxpVJE2r"
      },
      "execution_count": null,
      "outputs": []
    },
    {
      "cell_type": "code",
      "source": [
        "filtered.count()"
      ],
      "metadata": {
        "colab": {
          "base_uri": "https://localhost:8080/"
        },
        "id": "uGgavVDUI2M_",
        "outputId": "bb17dd80-6675-44b2-f67a-7755398f9f58"
      },
      "execution_count": null,
      "outputs": [
        {
          "output_type": "execute_result",
          "data": {
            "text/plain": [
              "19"
            ]
          },
          "metadata": {},
          "execution_count": 59
        }
      ]
    },
    {
      "cell_type": "markdown",
      "source": [
        "## CSV 파일 불러오기\n",
        "- CSV 포맷으로 파일 읽어서 데이터프레임에 저장함\n",
        "- 스키마 추론, 쉼표로 구분된 컬럼 이름이 제공되는 헤더가 있음 지정"
      ],
      "metadata": {
        "id": "nS7z5DVnM85W"
      }
    },
    {
      "cell_type": "markdown",
      "source": [
        "### 교재"
      ],
      "metadata": {
        "id": "lXDqEaaUWx26"
      }
    },
    {
      "cell_type": "code",
      "source": [
        "if len(sys.argv)\n",
        "# 터미널에서 mnmcount.py data/mnm_dataset.csv / GCP 클라우드에서, 간단한 테스트"
      ],
      "metadata": {
        "id": "8mPF_FEvWy2O"
      },
      "execution_count": null,
      "outputs": []
    },
    {
      "cell_type": "code",
      "source": [],
      "metadata": {
        "id": "rtv3ME5bW8xz"
      },
      "execution_count": null,
      "outputs": []
    },
    {
      "cell_type": "code",
      "source": [
        "mnm_file = '/content/drive/MyDrive/Colab Notebooks/2023/멀티캠퍼스/spark/chapter02/data/mnm_dataset.csv'\n",
        "\n",
        "mnm_df = spark.read.format('csv').option(\"header\", \"true\").option(\"inferSchema\", \"true\").load(mnm_file)\n",
        "mnm_df.show(n=10, truncate=False) # show, pandas head()"
      ],
      "metadata": {
        "colab": {
          "base_uri": "https://localhost:8080/"
        },
        "id": "_WBzACk7M_zy",
        "outputId": "d47c891e-e080-4183-9164-ee12996f4d27"
      },
      "execution_count": null,
      "outputs": [
        {
          "output_type": "stream",
          "name": "stdout",
          "text": [
            "+-----+------+-----+\n",
            "|State|Color |Count|\n",
            "+-----+------+-----+\n",
            "|TX   |Red   |20   |\n",
            "|NV   |Blue  |66   |\n",
            "|CO   |Blue  |79   |\n",
            "|OR   |Blue  |71   |\n",
            "|WA   |Yellow|93   |\n",
            "|WY   |Blue  |16   |\n",
            "|CA   |Yellow|53   |\n",
            "|WA   |Green |60   |\n",
            "|OR   |Green |71   |\n",
            "|TX   |Green |68   |\n",
            "+-----+------+-----+\n",
            "only showing top 10 rows\n",
            "\n"
          ]
        }
      ]
    },
    {
      "cell_type": "markdown",
      "source": [
        "- GROUP BY State별, Color별 갯수를 요약해보자"
      ],
      "metadata": {
        "id": "WLponLDgPTsi"
      }
    },
    {
      "cell_type": "code",
      "source": [
        "count_mnm_df = mnm_df.select(\"State\", \"Color\", \"Count\").groupBy(\"State\", \"Color\").sum(\"Count\").orderBy(\"sum(Count)\", ascending=False)\n",
        "count_mnm_df.show(n = 2, truncate=False)"
      ],
      "metadata": {
        "colab": {
          "base_uri": "https://localhost:8080/"
        },
        "id": "0sIVDrKhPcQ0",
        "outputId": "8bf8bec8-7cb1-4f0e-dea5-0cf5a9103bf1"
      },
      "execution_count": null,
      "outputs": [
        {
          "output_type": "stream",
          "name": "stdout",
          "text": [
            "+-----+------+----------+\n",
            "|State|Color |sum(Count)|\n",
            "+-----+------+----------+\n",
            "|CA   |Yellow|100956    |\n",
            "|WA   |Green |96486     |\n",
            "+-----+------+----------+\n",
            "only showing top 2 rows\n",
            "\n"
          ]
        }
      ]
    },
    {
      "cell_type": "code",
      "source": [
        "count_mnm_df.count() # 행의 갯수"
      ],
      "metadata": {
        "colab": {
          "base_uri": "https://localhost:8080/"
        },
        "id": "1mBzgKhvP5j8",
        "outputId": "3f17232d-8a3b-488a-df08-263f2923581d"
      },
      "execution_count": null,
      "outputs": [
        {
          "output_type": "execute_result",
          "data": {
            "text/plain": [
              "60"
            ]
          },
          "metadata": {},
          "execution_count": 69
        }
      ]
    },
    {
      "cell_type": "markdown",
      "source": [
        "- CA만 확인하자"
      ],
      "metadata": {
        "id": "oLPf9j-fRUQl"
      }
    },
    {
      "cell_type": "code",
      "source": [
        "ca_count_mnm_df = mnm_df.select('*')\\\n",
        "  .where(mnm_df.State == 'CA')\\\n",
        "  .groupBy(\"State\", \"Color\")\\\n",
        "  .sum(\"Count\")\\\n",
        "  .orderBy(\"sum(Count)\", ascending=False)\n",
        "\n",
        "ca_count_mnm_df.show()"
      ],
      "metadata": {
        "colab": {
          "base_uri": "https://localhost:8080/"
        },
        "id": "0MkvE1YZRZDK",
        "outputId": "148c348c-eb00-46c5-c803-69a66d4847d2"
      },
      "execution_count": null,
      "outputs": [
        {
          "output_type": "stream",
          "name": "stdout",
          "text": [
            "+-----+------+----------+\n",
            "|State| Color|sum(Count)|\n",
            "+-----+------+----------+\n",
            "|   CA|Yellow|    100956|\n",
            "|   CA| Brown|     95762|\n",
            "|   CA| Green|     93505|\n",
            "|   CA|   Red|     91527|\n",
            "|   CA|Orange|     90311|\n",
            "|   CA|  Blue|     89123|\n",
            "+-----+------+----------+\n",
            "\n"
          ]
        }
      ]
    },
    {
      "cell_type": "code",
      "source": [
        "ca_count_mnm_df.count()"
      ],
      "metadata": {
        "colab": {
          "base_uri": "https://localhost:8080/"
        },
        "id": "gKeeFt0PSAGJ",
        "outputId": "27b80ed2-e7aa-40ad-daa9-3eff58ec0513"
      },
      "execution_count": null,
      "outputs": [
        {
          "output_type": "execute_result",
          "data": {
            "text/plain": [
              "6"
            ]
          },
          "metadata": {},
          "execution_count": 73
        }
      ]
    },
    {
      "cell_type": "markdown",
      "source": [],
      "metadata": {
        "id": "Td7AxFf9Naxb"
      }
    },
    {
      "cell_type": "code",
      "source": [
        "get_ipython().system_raw('./ngrok http 4050 &')\n",
        "!curl -s http://localhost:4040/api/tunnels"
      ],
      "metadata": {
        "id": "gBRVCsrk_roC"
      },
      "execution_count": null,
      "outputs": []
    },
    {
      "cell_type": "code",
      "source": [
        "!curl -s http://localhost:4040/api/tunnels | python3 -c \\\n",
        "    \"import sys, json; print(json.load(sys.stdin)['tunnels'][0]['public_url'])\""
      ],
      "metadata": {
        "colab": {
          "base_uri": "https://localhost:8080/"
        },
        "id": "gZX_6WcsETzN",
        "outputId": "8b0568ad-d338-4cb3-a7c1-640eacbc6336"
      },
      "execution_count": null,
      "outputs": [
        {
          "output_type": "stream",
          "name": "stdout",
          "text": [
            "http://4c95-34-139-255-88.ngrok-free.app\n"
          ]
        }
      ]
    },
    {
      "cell_type": "markdown",
      "source": [
        "## Spark 종료"
      ],
      "metadata": {
        "id": "t1YeYdBxAiQ-"
      }
    },
    {
      "cell_type": "code",
      "source": [
        "# spark.stop()"
      ],
      "metadata": {
        "id": "DamSP18CAu_w"
      },
      "execution_count": null,
      "outputs": []
    },
    {
      "cell_type": "code",
      "source": [],
      "metadata": {
        "id": "jhb3BJxjAhHJ"
      },
      "execution_count": null,
      "outputs": []
    }
  ]
}