{
  "cells": [
    {
      "cell_type": "markdown",
      "metadata": {
        "id": "KiKA8QiQCPlI"
      },
      "source": [
        "# Case Study - NewYork Airbnb Price\n"
      ]
    },
    {
      "cell_type": "markdown",
      "source": [
        "## Google Drive 연동"
      ],
      "metadata": {
        "id": "V9XOjTi8Cf09"
      }
    },
    {
      "cell_type": "code",
      "source": [
        "from google.colab import drive\n",
        "drive.mount(\"/content/drive\")"
      ],
      "metadata": {
        "colab": {
          "base_uri": "https://localhost:8080/"
        },
        "id": "ghhns-C8Ci_x",
        "outputId": "3032037b-8999-4c9c-870e-dac5574ca7d5"
      },
      "execution_count": 1,
      "outputs": [
        {
          "output_type": "stream",
          "name": "stdout",
          "text": [
            "Mounted at /content/drive\n"
          ]
        }
      ]
    },
    {
      "cell_type": "markdown",
      "source": [
        "## JAVA 설치"
      ],
      "metadata": {
        "id": "WS9HlCaTCvPz"
      }
    },
    {
      "cell_type": "code",
      "source": [
        "!apt-get install openjdk-8-jdk-headless -qq > /dev/null"
      ],
      "metadata": {
        "id": "mp9inZQBCwok"
      },
      "execution_count": 2,
      "outputs": []
    },
    {
      "cell_type": "markdown",
      "source": [
        "## Spark 설치"
      ],
      "metadata": {
        "id": "ZoocZDfHCzZz"
      }
    },
    {
      "cell_type": "code",
      "source": [
        "%cd /content/drive/MyDrive/Colab Notebooks/2023/멀티캠퍼스/spark\n",
        "!cp -r spark-3.1.1-bin-hadoop2.7.tgz /content\n",
        "%cd /content/\n",
        "!tar xf spark-3.1.1-bin-hadoop2.7.tgz > /dev/null"
      ],
      "metadata": {
        "id": "XQn9S-WDC3pZ",
        "colab": {
          "base_uri": "https://localhost:8080/"
        },
        "outputId": "9cd4bf6a-98e1-4feb-b691-8e5c34b2c223"
      },
      "execution_count": 3,
      "outputs": [
        {
          "output_type": "stream",
          "name": "stdout",
          "text": [
            "/content/drive/MyDrive/Colab Notebooks/2023/멀티캠퍼스/spark\n",
            "/content\n"
          ]
        }
      ]
    },
    {
      "cell_type": "markdown",
      "source": [
        "## 환경 세팅"
      ],
      "metadata": {
        "id": "eKj0XoU7C5r0"
      }
    },
    {
      "cell_type": "code",
      "source": [
        "import os\n",
        "os.environ[\"JAVA_HOME\"] = \"/usr/lib/jvm/java-8-openjdk-amd64\"\n",
        "os.environ[\"SPARK_HOME\"] = \"/content/spark-3.1.1-bin-hadoop2.7\""
      ],
      "metadata": {
        "id": "Ea5rhh_pC8hZ"
      },
      "execution_count": 4,
      "outputs": []
    },
    {
      "cell_type": "markdown",
      "source": [
        "## PySpark 설치"
      ],
      "metadata": {
        "id": "crDv-2PvCXcL"
      }
    },
    {
      "cell_type": "code",
      "source": [
        "!pip install -q pyspark==3.1.1"
      ],
      "metadata": {
        "id": "slxLnVWBCWGA",
        "colab": {
          "base_uri": "https://localhost:8080/"
        },
        "outputId": "722c9004-609e-4df9-fb53-03bc2caea8de"
      },
      "execution_count": 5,
      "outputs": [
        {
          "output_type": "stream",
          "name": "stdout",
          "text": [
            "\u001b[2K     \u001b[90m━━━━━━━━━━━━━━━━━━━━━━━━━━━━━━━━━━━━━━━━\u001b[0m \u001b[32m212.3/212.3 MB\u001b[0m \u001b[31m4.2 MB/s\u001b[0m eta \u001b[36m0:00:00\u001b[0m\n",
            "\u001b[?25h  Preparing metadata (setup.py) ... \u001b[?25l\u001b[?25hdone\n",
            "\u001b[2K     \u001b[90m━━━━━━━━━━━━━━━━━━━━━━━━━━━━━━━━━━━━━━━━\u001b[0m \u001b[32m198.6/198.6 kB\u001b[0m \u001b[31m13.9 MB/s\u001b[0m eta \u001b[36m0:00:00\u001b[0m\n",
            "\u001b[?25h  Building wheel for pyspark (setup.py) ... \u001b[?25l\u001b[?25hdone\n"
          ]
        }
      ]
    },
    {
      "cell_type": "markdown",
      "source": [
        "## 필요 라이브러리 불러오기\n",
        "- 머신러닝 기본코드 작성"
      ],
      "metadata": {
        "id": "Wk2I-AuyDiNp"
      }
    },
    {
      "cell_type": "code",
      "execution_count": 6,
      "metadata": {
        "id": "XavHrIdYCPlL"
      },
      "outputs": [],
      "source": [
        "from pyspark.sql import SparkSession\n",
        "from pyspark.ml.feature import VectorAssembler, StringIndexer\n",
        "from pyspark.sql.functions import *\n",
        "from pyspark.sql.functions import udf\n",
        "from pyspark.sql.types import FloatType, IntegerType\n",
        "import matplotlib.pyplot as plt\n",
        "from pyspark.ml import Pipeline\n",
        "from pyspark.ml.feature import OneHotEncoder\n",
        "from pyspark.ml.feature import MinMaxScaler\n",
        "from pyspark.ml.evaluation import RegressionEvaluator\n",
        "from pyspark.ml.regression import LinearRegression\n",
        "from pyspark.ml.tuning import ParamGridBuilder, TrainValidationSplit\n",
        "from pyspark.ml.evaluation import RegressionEvaluator\n",
        "from pyspark.ml.regression import DecisionTreeRegressor\n",
        "from pyspark.ml.regression import GBTRegressor\n",
        "from pyspark.ml.regression import RandomForestRegressor\n",
        "from pyspark.ml.regression import FMRegressor"
      ]
    },
    {
      "cell_type": "markdown",
      "source": [
        "- Feature Engineering\n",
        "  + VectorAssembler는 여러 특징 열을 단일 벡터 열로 조립하는 데 사용됩니다.\n",
        "  + StringIndexer는 범주형 변수를 숫자 값으로 변환하는 데 사용됩니다.\n",
        "  + OneHotEncoder는 범주형 변수를 원핫 인코딩하는 데 사용됩니다.\n",
        "  + MinMaxScaler는 특징값을 특정 범위(일반적으로 [0, 1])로 스케일링합니다.\n",
        "\n",
        "- Build regression models 는 모두 다양한 회귀 작업에 사용할 수 있는 서로 다른 회귀 모델임\n",
        "  + LinearRegression\n",
        "  + DecisionTreeRegressor\n",
        "  + RandomForestRegressor\n",
        "- 파이프라인은 일련의 데이터 변환 및 모델링 단계를 정의하는 데 사용됩니다. 일반적으로 Feature Engineering, Model Training 및 Model Evaluation 단계가 포함됨\n",
        "\n",
        "- `TrainValidationSplit`는 하이퍼파라미터 튜닝 및 모델 선택에 사용되는 학습 세트와 유효성 검사 세트로 데이터를 분할하는 데 사용됨\n",
        "\n",
        "- `RegressionEvaluator`는 RMSE, MAE 등과 같은 메트릭을 사용하여 회귀 모델의 성능을 평가하는 데 사용\n",
        "\n",
        "- 마지막으로 파이프라인을 데이터에 맞추고 모델 선택 프로세스를 수행하는데, 여기에는 일반적으로 특정 회귀 작업에 가장 적합한 모델을 찾기 위해 다양한 모델과 하이퍼파라미터를 시도하는 것이 포함됩니다.\n"
      ],
      "metadata": {
        "id": "pakcG8p0D9Tf"
      }
    },
    {
      "cell_type": "markdown",
      "source": [
        "## 데이터 불러오기\n",
        "- 데이터는 `Airbnb` 데이터셋이며, 출처는 아래와 같음.\n",
        "  + 출처 : https://www.kaggle.com/datasets/dgomonov/new-york-city-airbnb-open-data"
      ],
      "metadata": {
        "id": "grrL3eaBF1qi"
      }
    },
    {
      "cell_type": "code",
      "execution_count": 7,
      "metadata": {
        "colab": {
          "base_uri": "https://localhost:8080/"
        },
        "id": "u5WYdJRQCPlN",
        "outputId": "b297fa35-6e79-438e-8b69-81eaf024f2d2"
      },
      "outputs": [
        {
          "output_type": "stream",
          "name": "stdout",
          "text": [
            "+----+--------------------+-------+---------+-------------------+-------------+--------+---------+---------------+-----+--------------+-----------------+-----------+-----------------+------------------------------+----------------+\n",
            "|  id|                name|host_id|host_name|neighbourhood_group|neighbourhood|latitude|longitude|      room_type|price|minimum_nights|number_of_reviews|last_review|reviews_per_month|calculated_host_listings_count|availability_365|\n",
            "+----+--------------------+-------+---------+-------------------+-------------+--------+---------+---------------+-----+--------------+-----------------+-----------+-----------------+------------------------------+----------------+\n",
            "|2539|Clean & quiet apt...|   2787|     John|           Brooklyn|   Kensington|40.64749|-73.97237|   Private room|  149|             1|                9| 2018-10-19|             0.21|                             6|             365|\n",
            "|2595|Skylit Midtown Ca...|   2845| Jennifer|          Manhattan|      Midtown|40.75362|-73.98377|Entire home/apt|  225|             1|               45| 2019-05-21|             0.38|                             2|             355|\n",
            "|3647|THE VILLAGE OF HA...|   4632|Elisabeth|          Manhattan|       Harlem|40.80902| -73.9419|   Private room|  150|             3|                0|       null|             null|                             1|             365|\n",
            "+----+--------------------+-------+---------+-------------------+-------------+--------+---------+---------------+-----+--------------+-----------------+-----------+-----------------+------------------------------+----------------+\n",
            "only showing top 3 rows\n",
            "\n"
          ]
        }
      ],
      "source": [
        "sc = SparkSession.builder.appName('mulCamp28').config('spark.ui.port', '4050').getOrCreate()\n",
        "DATA_PATH = '/content/drive/MyDrive/Colab Notebooks/2023/멀티캠퍼스/spark/머신러닝/data/'\n",
        "df = sc.read.csv(DATA_PATH + \"airbnb.csv\", header=True)\n",
        "df.show(3)"
      ]
    },
    {
      "cell_type": "markdown",
      "source": [
        "- 데이터 확인"
      ],
      "metadata": {
        "id": "pMhrl0M5HFSV"
      }
    },
    {
      "cell_type": "code",
      "execution_count": 8,
      "metadata": {
        "colab": {
          "base_uri": "https://localhost:8080/"
        },
        "id": "lAFPMyp5CPlO",
        "outputId": "3c6a158c-9725-4bc8-a490-1f66bfb80a5a"
      },
      "outputs": [
        {
          "output_type": "stream",
          "name": "stdout",
          "text": [
            "root\n",
            " |-- id: string (nullable = true)\n",
            " |-- name: string (nullable = true)\n",
            " |-- host_id: string (nullable = true)\n",
            " |-- host_name: string (nullable = true)\n",
            " |-- neighbourhood_group: string (nullable = true)\n",
            " |-- neighbourhood: string (nullable = true)\n",
            " |-- latitude: string (nullable = true)\n",
            " |-- longitude: string (nullable = true)\n",
            " |-- room_type: string (nullable = true)\n",
            " |-- price: string (nullable = true)\n",
            " |-- minimum_nights: string (nullable = true)\n",
            " |-- number_of_reviews: string (nullable = true)\n",
            " |-- last_review: string (nullable = true)\n",
            " |-- reviews_per_month: string (nullable = true)\n",
            " |-- calculated_host_listings_count: string (nullable = true)\n",
            " |-- availability_365: string (nullable = true)\n",
            "\n"
          ]
        }
      ],
      "source": [
        "df.printSchema()"
      ]
    },
    {
      "cell_type": "code",
      "execution_count": 9,
      "metadata": {
        "colab": {
          "base_uri": "https://localhost:8080/"
        },
        "id": "t1mHCZf8CPlP",
        "outputId": "02add293-34f6-421e-a4b3-962cdac4c597"
      },
      "outputs": [
        {
          "output_type": "execute_result",
          "data": {
            "text/plain": [
              "[('id', 'string'),\n",
              " ('name', 'string'),\n",
              " ('host_id', 'string'),\n",
              " ('host_name', 'string'),\n",
              " ('neighbourhood_group', 'string'),\n",
              " ('neighbourhood', 'string'),\n",
              " ('latitude', 'string'),\n",
              " ('longitude', 'string'),\n",
              " ('room_type', 'string'),\n",
              " ('price', 'string'),\n",
              " ('minimum_nights', 'string'),\n",
              " ('number_of_reviews', 'string'),\n",
              " ('last_review', 'string'),\n",
              " ('reviews_per_month', 'string'),\n",
              " ('calculated_host_listings_count', 'string'),\n",
              " ('availability_365', 'string')]"
            ]
          },
          "metadata": {},
          "execution_count": 9
        }
      ],
      "source": [
        "df.dtypes"
      ]
    },
    {
      "cell_type": "markdown",
      "source": [
        "## 데이터 가공 및 변환"
      ],
      "metadata": {
        "id": "wGCITMDVHWgR"
      }
    },
    {
      "cell_type": "markdown",
      "metadata": {
        "id": "gjdpfaFBCPlP"
      },
      "source": [
        "### 주요 컬럼 추출"
      ]
    },
    {
      "cell_type": "code",
      "execution_count": 10,
      "metadata": {
        "id": "NuwFbYmPCPlP"
      },
      "outputs": [],
      "source": [
        "df2 = df.select('neighbourhood_group', 'neighbourhood', 'room_type', 'price', \\\n",
        "               'minimum_nights','number_of_reviews', 'last_review', 'reviews_per_month', \\\n",
        "               'calculated_host_listings_count', 'availability_365', 'latitude', 'longitude')"
      ]
    },
    {
      "cell_type": "markdown",
      "metadata": {
        "id": "secCA5WnCPlQ"
      },
      "source": [
        "### 데이터 형변환\n",
        "- last_review 컬럼을 문자열에서 날짜로 변환한다."
      ]
    },
    {
      "cell_type": "code",
      "execution_count": 11,
      "metadata": {
        "colab": {
          "base_uri": "https://localhost:8080/"
        },
        "id": "ViSa20snCPlQ",
        "outputId": "a84187df-7fff-4cdc-edac-28771af57789"
      },
      "outputs": [
        {
          "output_type": "stream",
          "name": "stdout",
          "text": [
            "+-------------------+-------------+---------------+-----+--------------+-----------------+-----------+-----------------+------------------------------+----------------+--------+---------+\n",
            "|neighbourhood_group|neighbourhood|      room_type|price|minimum_nights|number_of_reviews|last_review|reviews_per_month|calculated_host_listings_count|availability_365|latitude|longitude|\n",
            "+-------------------+-------------+---------------+-----+--------------+-----------------+-----------+-----------------+------------------------------+----------------+--------+---------+\n",
            "|           Brooklyn|   Kensington|   Private room|  149|             1|                9| 2018-10-19|             0.21|                             6|             365|40.64749|-73.97237|\n",
            "|          Manhattan|      Midtown|Entire home/apt|  225|             1|               45| 2019-05-21|             0.38|                             2|             355|40.75362|-73.98377|\n",
            "|          Manhattan|       Harlem|   Private room|  150|             3|                0|       null|             null|                             1|             365|40.80902| -73.9419|\n",
            "|           Brooklyn| Clinton Hill|Entire home/apt|   89|             1|              270| 2019-07-05|             4.64|                             1|             194|40.68514|-73.95976|\n",
            "|          Manhattan|  East Harlem|Entire home/apt|   80|            10|                9| 2018-11-19|             0.10|                             1|               0|40.79851|-73.94399|\n",
            "+-------------------+-------------+---------------+-----+--------------+-----------------+-----------+-----------------+------------------------------+----------------+--------+---------+\n",
            "only showing top 5 rows\n",
            "\n"
          ]
        }
      ],
      "source": [
        "df2 = df2.withColumn(\"last_review\", to_date(df2.last_review, 'yyyy-MM-dd'))\n",
        "df2.show(5)"
      ]
    },
    {
      "cell_type": "code",
      "execution_count": 12,
      "metadata": {
        "colab": {
          "base_uri": "https://localhost:8080/"
        },
        "id": "HPVjLxRGCPlR",
        "outputId": "5d60bdba-9cb4-4197-d4e2-586a22a323fb"
      },
      "outputs": [
        {
          "output_type": "execute_result",
          "data": {
            "text/plain": [
              "[('neighbourhood_group', 'string'),\n",
              " ('neighbourhood', 'string'),\n",
              " ('room_type', 'string'),\n",
              " ('price', 'string'),\n",
              " ('minimum_nights', 'string'),\n",
              " ('number_of_reviews', 'string'),\n",
              " ('last_review', 'date'),\n",
              " ('reviews_per_month', 'string'),\n",
              " ('calculated_host_listings_count', 'string'),\n",
              " ('availability_365', 'string'),\n",
              " ('latitude', 'string'),\n",
              " ('longitude', 'string')]"
            ]
          },
          "metadata": {},
          "execution_count": 12
        }
      ],
      "source": [
        "df2.dtypes"
      ]
    },
    {
      "cell_type": "markdown",
      "metadata": {
        "id": "qjjntNwQCPlR"
      },
      "source": [
        "- last_review의 열에서 가장 마지막 리뷰 날짜 값을 반환"
      ]
    },
    {
      "cell_type": "code",
      "execution_count": 13,
      "metadata": {
        "colab": {
          "base_uri": "https://localhost:8080/"
        },
        "id": "p7LlaeaHCPlS",
        "outputId": "1bff5284-929e-4c25-a072-80e1be7c41d7"
      },
      "outputs": [
        {
          "output_type": "execute_result",
          "data": {
            "text/plain": [
              "datetime.date(2019, 7, 8)"
            ]
          },
          "metadata": {},
          "execution_count": 13
        }
      ],
      "source": [
        "max_date = df2.select(max(\"last_review\")).collect()\n",
        "max_date[0][0]"
      ]
    },
    {
      "cell_type": "code",
      "source": [
        "# DataFrame을 SQL에서 사용할 수 있도록 변환\n",
        "df2.createOrReplaceTempView(\"myTable\")\n",
        "result = sc.sql(\"SELECT MAX(last_review) FROM myTable\")\n",
        "result.show()"
      ],
      "metadata": {
        "colab": {
          "base_uri": "https://localhost:8080/"
        },
        "id": "Eyh6U8kkImMw",
        "outputId": "b50b8d7e-6a50-4680-98d5-fe8a88a66e73"
      },
      "execution_count": 14,
      "outputs": [
        {
          "output_type": "stream",
          "name": "stdout",
          "text": [
            "+----------------+\n",
            "|max(last_review)|\n",
            "+----------------+\n",
            "|      2019-07-08|\n",
            "+----------------+\n",
            "\n"
          ]
        }
      ]
    },
    {
      "cell_type": "code",
      "source": [
        "lit(max_date[0][0])"
      ],
      "metadata": {
        "colab": {
          "base_uri": "https://localhost:8080/"
        },
        "id": "ZF0GXoYJKH9L",
        "outputId": "e49806dc-0c42-4cce-a5a3-ce0c0cd34594"
      },
      "execution_count": 15,
      "outputs": [
        {
          "output_type": "execute_result",
          "data": {
            "text/plain": [
              "Column<'DATE '2019-07-08''>"
            ]
          },
          "metadata": {},
          "execution_count": 15
        }
      ]
    },
    {
      "cell_type": "markdown",
      "source": [
        "- PySpark lit 함수는 Literal 값을 생성하는 데 사용됩니다."
      ],
      "metadata": {
        "id": "1atbMKoXKNct"
      }
    },
    {
      "cell_type": "code",
      "execution_count": 16,
      "metadata": {
        "colab": {
          "base_uri": "https://localhost:8080/"
        },
        "id": "BYqRSXbkCPlS",
        "outputId": "b5bf244a-0034-4362-a98e-1dbc8cd821d4"
      },
      "outputs": [
        {
          "output_type": "execute_result",
          "data": {
            "text/plain": [
              "Column<'datediff(DATE '2019-07-08', DATE '2019-07-08')'>"
            ]
          },
          "metadata": {},
          "execution_count": 16
        }
      ],
      "source": [
        "datediff(lit(max_date[0][0]),lit(max_date[0][0]))"
      ]
    },
    {
      "cell_type": "markdown",
      "source": [
        "- 제공한 코드는 두 개의 lit 함수와 max_date 값을 사용하여 두 개의 동일한 날짜 값 사이의 일수 차이를 계산하는 datediff 함수를 사용함\n",
        "- 이 원리를 사용하여 마지막 리뷰가 업데이트된 날로부터 며칠이 지났는지 계산할 수 있습니다. 이 열을 'diff_in_days'라고 부를 수 있음."
      ],
      "metadata": {
        "id": "JoKTtGrrKEr-"
      }
    },
    {
      "cell_type": "markdown",
      "metadata": {
        "id": "k4KWplTiCPlS"
      },
      "source": []
    },
    {
      "cell_type": "code",
      "execution_count": 17,
      "metadata": {
        "colab": {
          "base_uri": "https://localhost:8080/"
        },
        "id": "qgHwlsqfCPlS",
        "outputId": "136b234b-a192-4d67-f671-9b6650661417"
      },
      "outputs": [
        {
          "output_type": "stream",
          "name": "stdout",
          "text": [
            "+-------------------+-------------+---------------+-----+--------------+-----------------+-----------+-----------------+------------------------------+----------------+--------+---------+------------+\n",
            "|neighbourhood_group|neighbourhood|      room_type|price|minimum_nights|number_of_reviews|last_review|reviews_per_month|calculated_host_listings_count|availability_365|latitude|longitude|diff_in_days|\n",
            "+-------------------+-------------+---------------+-----+--------------+-----------------+-----------+-----------------+------------------------------+----------------+--------+---------+------------+\n",
            "|           Brooklyn|   Kensington|   Private room|  149|             1|                9| 2018-10-19|             0.21|                             6|             365|40.64749|-73.97237|         262|\n",
            "|          Manhattan|      Midtown|Entire home/apt|  225|             1|               45| 2019-05-21|             0.38|                             2|             355|40.75362|-73.98377|          48|\n",
            "|          Manhattan|       Harlem|   Private room|  150|             3|                0|       null|             null|                             1|             365|40.80902| -73.9419|        null|\n",
            "|           Brooklyn| Clinton Hill|Entire home/apt|   89|             1|              270| 2019-07-05|             4.64|                             1|             194|40.68514|-73.95976|           3|\n",
            "|          Manhattan|  East Harlem|Entire home/apt|   80|            10|                9| 2018-11-19|             0.10|                             1|               0|40.79851|-73.94399|         231|\n",
            "+-------------------+-------------+---------------+-----+--------------+-----------------+-----------+-----------------+------------------------------+----------------+--------+---------+------------+\n",
            "only showing top 5 rows\n",
            "\n"
          ]
        }
      ],
      "source": [
        "df2 = df2.withColumn(\"diff_in_days\", datediff(lit(max_date[0][0]), col(\"last_review\")))\n",
        "df2.show(5)"
      ]
    },
    {
      "cell_type": "markdown",
      "metadata": {
        "id": "RPkDhCH6CPlT"
      },
      "source": [
        "### 인코딩 변환\n",
        "- diff_in_days 컬럼 값을 범주형 변수로 인코딩\n"
      ]
    },
    {
      "cell_type": "code",
      "execution_count": 18,
      "metadata": {
        "id": "gM_61DdPCPlT"
      },
      "outputs": [],
      "source": [
        "def date_replacement(date):\n",
        "    if date is None:\n",
        "        return \"never\"\n",
        "    elif date <=3:\n",
        "        return \"three_days_ago\"\n",
        "    elif date <= 7:\n",
        "        return \"last_week_ago\"\n",
        "    elif date <= 30:\n",
        "        return \"last_month_ago\"\n",
        "    elif date <= 183:\n",
        "        return \"half_year_ago\"\n",
        "    elif date <= 365:\n",
        "        return \"one_year_ago\"\n",
        "    elif date <= 1825:\n",
        "        return \"5_years_ago\"\n",
        "    else:\n",
        "        return \"never\""
      ]
    },
    {
      "cell_type": "markdown",
      "source": [
        "- date_replacement(date) : 단일 인자인 날짜를 받는 Python 함수이다. 이 함수는 특정 조건에 따라 날짜의 차이를 나타내는 숫자 값(날짜)을 특정 문자열 레이블에 매핑하는 데 사용된다. 조건은 일의 차이를 다양한 시간 간격으로 분류하는 데 사용된다."
      ],
      "metadata": {
        "id": "wru_SNRDRoAu"
      }
    },
    {
      "cell_type": "code",
      "source": [
        "convertUDF = udf(lambda z: date_replacement(z), StringType())\n",
        "\n",
        "df2 = df2.withColumn(\"diff_in_days\", convertUDF(df2.diff_in_days))\n",
        "df2.show(5)"
      ],
      "metadata": {
        "colab": {
          "base_uri": "https://localhost:8080/"
        },
        "id": "nSLUx3UwRkj4",
        "outputId": "2a3b073c-20fd-47ea-90b3-b7b77ec92119"
      },
      "execution_count": 19,
      "outputs": [
        {
          "output_type": "stream",
          "name": "stdout",
          "text": [
            "+-------------------+-------------+---------------+-----+--------------+-----------------+-----------+-----------------+------------------------------+----------------+--------+---------+--------------+\n",
            "|neighbourhood_group|neighbourhood|      room_type|price|minimum_nights|number_of_reviews|last_review|reviews_per_month|calculated_host_listings_count|availability_365|latitude|longitude|  diff_in_days|\n",
            "+-------------------+-------------+---------------+-----+--------------+-----------------+-----------+-----------------+------------------------------+----------------+--------+---------+--------------+\n",
            "|           Brooklyn|   Kensington|   Private room|  149|             1|                9| 2018-10-19|             0.21|                             6|             365|40.64749|-73.97237|  one_year_ago|\n",
            "|          Manhattan|      Midtown|Entire home/apt|  225|             1|               45| 2019-05-21|             0.38|                             2|             355|40.75362|-73.98377| half_year_ago|\n",
            "|          Manhattan|       Harlem|   Private room|  150|             3|                0|       null|             null|                             1|             365|40.80902| -73.9419|         never|\n",
            "|           Brooklyn| Clinton Hill|Entire home/apt|   89|             1|              270| 2019-07-05|             4.64|                             1|             194|40.68514|-73.95976|three_days_ago|\n",
            "|          Manhattan|  East Harlem|Entire home/apt|   80|            10|                9| 2018-11-19|             0.10|                             1|               0|40.79851|-73.94399|  one_year_ago|\n",
            "+-------------------+-------------+---------------+-----+--------------+-----------------+-----------+-----------------+------------------------------+----------------+--------+---------+--------------+\n",
            "only showing top 5 rows\n",
            "\n"
          ]
        }
      ]
    },
    {
      "cell_type": "markdown",
      "source": [
        "- 사용자 정의함수 `date_replacement` 파이썬 함수를 래핑하는 파이스파크 UDF(사용자 정의 함수) 이다. 이 함수는 UDF가 StringType 타입의 인수를 받도록 지정한다.\n",
        "- `df2 = df2.withColumn(\"diff_in_days\", convertUDF(df2.diff_in_days))`는 데이터프레임 df2의 \"diff_in_days\" 컬럼에 UDF를 적용하고 date_replacement 함수에 의해 생성된 레이블이 포함된 \"diff_in_days\"라는 새 열을 생성합니다."
      ],
      "metadata": {
        "id": "3bSV7yrkRuZW"
      }
    },
    {
      "cell_type": "markdown",
      "metadata": {
        "id": "4AqMmrI3CPlT"
      },
      "source": [
        "### 문자열 변환\n",
        "- 모든 문자열 유형 열을 정수 및 부동 소수점으로 타입 변환하기"
      ]
    },
    {
      "cell_type": "code",
      "execution_count": 20,
      "metadata": {
        "id": "fqbLBLnxCPlT"
      },
      "outputs": [],
      "source": [
        "df2 = df2.withColumn(\"price\", df2[\"price\"].cast(IntegerType()))\n",
        "df2 = df2.withColumn(\"minimum_nights\", df2[\"minimum_nights\"].cast(IntegerType()))\n",
        "df2 = df2.withColumn(\"number_of_reviews\", df2[\"number_of_reviews\"].cast(IntegerType()))\n",
        "df2 = df2.withColumn(\"reviews_per_month\", df2[\"reviews_per_month\"].cast(FloatType()))\n",
        "df2 = df2.withColumn(\"calculated_host_listings_count\", df2[\"calculated_host_listings_count\"].cast(IntegerType()))\n",
        "df2 = df2.withColumn(\"availability_365\", df2[\"availability_365\"].cast(IntegerType()))\n",
        "df2 = df2.withColumn(\"latitude\", df2[\"latitude\"].cast(FloatType()))\n",
        "df2 = df2.withColumn(\"longitude\", df2[\"longitude\"].cast(FloatType()))"
      ]
    },
    {
      "cell_type": "markdown",
      "metadata": {
        "id": "pZf-e4W3CPlT"
      },
      "source": [
        "### 결측치 처리\n",
        "- `reviews_per_month` 컬럼의 Null 값을 0으로 변환"
      ]
    },
    {
      "cell_type": "code",
      "execution_count": 21,
      "metadata": {
        "colab": {
          "base_uri": "https://localhost:8080/"
        },
        "id": "LpvUEqejCPlU",
        "outputId": "a4c4efa5-0746-41df-a301-10763fc97b8d"
      },
      "outputs": [
        {
          "output_type": "stream",
          "name": "stdout",
          "text": [
            "+-------------------+-------------+---------------+-----+--------------+-----------------+-----------+-----------------+------------------------------+----------------+--------+---------+--------------+\n",
            "|neighbourhood_group|neighbourhood|      room_type|price|minimum_nights|number_of_reviews|last_review|reviews_per_month|calculated_host_listings_count|availability_365|latitude|longitude|  diff_in_days|\n",
            "+-------------------+-------------+---------------+-----+--------------+-----------------+-----------+-----------------+------------------------------+----------------+--------+---------+--------------+\n",
            "|           Brooklyn|   Kensington|   Private room|  149|             1|                9| 2018-10-19|             0.21|                             6|             365|40.64749|-73.97237|  one_year_ago|\n",
            "|          Manhattan|      Midtown|Entire home/apt|  225|             1|               45| 2019-05-21|             0.38|                             2|             355|40.75362|-73.98377| half_year_ago|\n",
            "|          Manhattan|       Harlem|   Private room|  150|             3|                0|       null|             null|                             1|             365|40.80902| -73.9419|         never|\n",
            "|           Brooklyn| Clinton Hill|Entire home/apt|   89|             1|              270| 2019-07-05|             4.64|                             1|             194|40.68514|-73.95976|three_days_ago|\n",
            "|          Manhattan|  East Harlem|Entire home/apt|   80|            10|                9| 2018-11-19|              0.1|                             1|               0|40.79851|-73.94399|  one_year_ago|\n",
            "+-------------------+-------------+---------------+-----+--------------+-----------------+-----------+-----------------+------------------------------+----------------+--------+---------+--------------+\n",
            "only showing top 5 rows\n",
            "\n"
          ]
        }
      ],
      "source": [
        "df2.show(5)"
      ]
    },
    {
      "cell_type": "code",
      "execution_count": 22,
      "metadata": {
        "id": "UC0wZtpaCPlU"
      },
      "outputs": [],
      "source": [
        "df2 = df2.na.fill(value=0, subset=[\"reviews_per_month\"])"
      ]
    },
    {
      "cell_type": "code",
      "execution_count": 23,
      "metadata": {
        "colab": {
          "base_uri": "https://localhost:8080/"
        },
        "id": "36Iqwjb0CPlU",
        "outputId": "b3b355de-40ff-4b33-bd61-0e959f700917"
      },
      "outputs": [
        {
          "output_type": "stream",
          "name": "stdout",
          "text": [
            "+-------------------+-------------+---------------+-----+--------------+-----------------+-----------+-----------------+------------------------------+----------------+--------+---------+--------------+\n",
            "|neighbourhood_group|neighbourhood|      room_type|price|minimum_nights|number_of_reviews|last_review|reviews_per_month|calculated_host_listings_count|availability_365|latitude|longitude|  diff_in_days|\n",
            "+-------------------+-------------+---------------+-----+--------------+-----------------+-----------+-----------------+------------------------------+----------------+--------+---------+--------------+\n",
            "|           Brooklyn|   Kensington|   Private room|  149|             1|                9| 2018-10-19|             0.21|                             6|             365|40.64749|-73.97237|  one_year_ago|\n",
            "|          Manhattan|      Midtown|Entire home/apt|  225|             1|               45| 2019-05-21|             0.38|                             2|             355|40.75362|-73.98377| half_year_ago|\n",
            "|          Manhattan|       Harlem|   Private room|  150|             3|                0|       null|              0.0|                             1|             365|40.80902| -73.9419|         never|\n",
            "|           Brooklyn| Clinton Hill|Entire home/apt|   89|             1|              270| 2019-07-05|             4.64|                             1|             194|40.68514|-73.95976|three_days_ago|\n",
            "|          Manhattan|  East Harlem|Entire home/apt|   80|            10|                9| 2018-11-19|              0.1|                             1|               0|40.79851|-73.94399|  one_year_ago|\n",
            "+-------------------+-------------+---------------+-----+--------------+-----------------+-----------+-----------------+------------------------------+----------------+--------+---------+--------------+\n",
            "only showing top 5 rows\n",
            "\n"
          ]
        }
      ],
      "source": [
        "df2.show(5)"
      ]
    },
    {
      "cell_type": "code",
      "execution_count": 24,
      "metadata": {
        "colab": {
          "base_uri": "https://localhost:8080/"
        },
        "id": "sVnM3sANCPlU",
        "outputId": "e2cddaec-da7f-48a3-995b-c3d45dfc54dd"
      },
      "outputs": [
        {
          "output_type": "execute_result",
          "data": {
            "text/plain": [
              "[('neighbourhood_group', 'string'),\n",
              " ('neighbourhood', 'string'),\n",
              " ('room_type', 'string'),\n",
              " ('price', 'int'),\n",
              " ('minimum_nights', 'int'),\n",
              " ('number_of_reviews', 'int'),\n",
              " ('last_review', 'date'),\n",
              " ('reviews_per_month', 'float'),\n",
              " ('calculated_host_listings_count', 'int'),\n",
              " ('availability_365', 'int'),\n",
              " ('latitude', 'float'),\n",
              " ('longitude', 'float'),\n",
              " ('diff_in_days', 'string')]"
            ]
          },
          "metadata": {},
          "execution_count": 24
        }
      ],
      "source": [
        "df2.dtypes"
      ]
    },
    {
      "cell_type": "markdown",
      "source": [
        "- 그 외의 결측치는 제거한다."
      ],
      "metadata": {
        "id": "j7WuGQhYTRj2"
      }
    },
    {
      "cell_type": "code",
      "execution_count": 25,
      "metadata": {
        "colab": {
          "base_uri": "https://localhost:8080/"
        },
        "id": "fIYmlJa2CPlU",
        "outputId": "a9027d1b-442d-4207-d5c5-2a2f1dd95c1e"
      },
      "outputs": [
        {
          "output_type": "stream",
          "name": "stdout",
          "text": [
            "+-------------------+-------------+---------------+-----+--------------+-----------------+-----------+-----------------+------------------------------+----------------+--------+---------+--------------+\n",
            "|neighbourhood_group|neighbourhood|      room_type|price|minimum_nights|number_of_reviews|last_review|reviews_per_month|calculated_host_listings_count|availability_365|latitude|longitude|  diff_in_days|\n",
            "+-------------------+-------------+---------------+-----+--------------+-----------------+-----------+-----------------+------------------------------+----------------+--------+---------+--------------+\n",
            "|           Brooklyn|   Kensington|   Private room|  149|             1|                9| 2018-10-19|             0.21|                             6|             365|40.64749|-73.97237|  one_year_ago|\n",
            "|          Manhattan|      Midtown|Entire home/apt|  225|             1|               45| 2019-05-21|             0.38|                             2|             355|40.75362|-73.98377| half_year_ago|\n",
            "|           Brooklyn| Clinton Hill|Entire home/apt|   89|             1|              270| 2019-07-05|             4.64|                             1|             194|40.68514|-73.95976|three_days_ago|\n",
            "|          Manhattan|  East Harlem|Entire home/apt|   80|            10|                9| 2018-11-19|              0.1|                             1|               0|40.79851|-73.94399|  one_year_ago|\n",
            "|          Manhattan|  Murray Hill|Entire home/apt|  200|             3|               74| 2019-06-22|             0.59|                             1|             129|40.74767|  -73.975|last_month_ago|\n",
            "+-------------------+-------------+---------------+-----+--------------+-----------------+-----------+-----------------+------------------------------+----------------+--------+---------+--------------+\n",
            "only showing top 5 rows\n",
            "\n"
          ]
        }
      ],
      "source": [
        "df2 = df2.na.drop(how=\"any\")\n",
        "df2.show(5)"
      ]
    },
    {
      "cell_type": "markdown",
      "metadata": {
        "id": "LdgbxcGOCPlV"
      },
      "source": [
        "### 상관관계 차트\n",
        "- pandas로 변환 후, 상관관계를 차트로 작성한다."
      ]
    },
    {
      "cell_type": "code",
      "execution_count": 26,
      "metadata": {
        "colab": {
          "base_uri": "https://localhost:8080/",
          "height": 374
        },
        "id": "ejjmWh4jCPlV",
        "outputId": "ec5c338b-d5ee-49d8-8340-44b5152ffe74"
      },
      "outputs": [
        {
          "output_type": "stream",
          "name": "stderr",
          "text": [
            "<ipython-input-26-148bfa38fa0f>:2: FutureWarning: The default value of numeric_only in DataFrame.corr is deprecated. In a future version, it will default to False. Select only valid columns or specify the value of numeric_only to silence this warning.\n",
            "  df_viz.corr().style.background_gradient(cmap='coolwarm').set_precision(2)\n",
            "<ipython-input-26-148bfa38fa0f>:2: FutureWarning: this method is deprecated in favour of `Styler.format(precision=..)`\n",
            "  df_viz.corr().style.background_gradient(cmap='coolwarm').set_precision(2)\n"
          ]
        },
        {
          "output_type": "execute_result",
          "data": {
            "text/plain": [
              "<pandas.io.formats.style.Styler at 0x7d4e20680d90>"
            ],
            "text/html": [
              "<style type=\"text/css\">\n",
              "#T_cbf92_row0_col0, #T_cbf92_row1_col1, #T_cbf92_row2_col2, #T_cbf92_row3_col3, #T_cbf92_row4_col4, #T_cbf92_row5_col5, #T_cbf92_row6_col6, #T_cbf92_row7_col7 {\n",
              "  background-color: #b40426;\n",
              "  color: #f1f1f1;\n",
              "}\n",
              "#T_cbf92_row0_col1, #T_cbf92_row6_col1 {\n",
              "  background-color: #6384eb;\n",
              "  color: #f1f1f1;\n",
              "}\n",
              "#T_cbf92_row0_col2, #T_cbf92_row2_col4 {\n",
              "  background-color: #4358cb;\n",
              "  color: #f1f1f1;\n",
              "}\n",
              "#T_cbf92_row0_col3 {\n",
              "  background-color: #536edd;\n",
              "  color: #f1f1f1;\n",
              "}\n",
              "#T_cbf92_row0_col4 {\n",
              "  background-color: #6485ec;\n",
              "  color: #f1f1f1;\n",
              "}\n",
              "#T_cbf92_row0_col5, #T_cbf92_row4_col3, #T_cbf92_row6_col3 {\n",
              "  background-color: #5977e3;\n",
              "  color: #f1f1f1;\n",
              "}\n",
              "#T_cbf92_row0_col6, #T_cbf92_row4_col7 {\n",
              "  background-color: #4a63d3;\n",
              "  color: #f1f1f1;\n",
              "}\n",
              "#T_cbf92_row0_col7, #T_cbf92_row1_col2, #T_cbf92_row1_col3, #T_cbf92_row3_col1, #T_cbf92_row5_col6, #T_cbf92_row6_col5, #T_cbf92_row7_col0, #T_cbf92_row7_col4 {\n",
              "  background-color: #3b4cc0;\n",
              "  color: #f1f1f1;\n",
              "}\n",
              "#T_cbf92_row1_col0 {\n",
              "  background-color: #6c8ff1;\n",
              "  color: #f1f1f1;\n",
              "}\n",
              "#T_cbf92_row1_col4 {\n",
              "  background-color: #6b8df0;\n",
              "  color: #f1f1f1;\n",
              "}\n",
              "#T_cbf92_row1_col5, #T_cbf92_row7_col5 {\n",
              "  background-color: #6180e9;\n",
              "  color: #f1f1f1;\n",
              "}\n",
              "#T_cbf92_row1_col6, #T_cbf92_row2_col1 {\n",
              "  background-color: #485fd1;\n",
              "  color: #f1f1f1;\n",
              "}\n",
              "#T_cbf92_row1_col7, #T_cbf92_row6_col4 {\n",
              "  background-color: #5572df;\n",
              "  color: #f1f1f1;\n",
              "}\n",
              "#T_cbf92_row2_col0 {\n",
              "  background-color: #5a78e4;\n",
              "  color: #f1f1f1;\n",
              "}\n",
              "#T_cbf92_row2_col3 {\n",
              "  background-color: #f2cbb7;\n",
              "  color: #000000;\n",
              "}\n",
              "#T_cbf92_row2_col5 {\n",
              "  background-color: #80a3fa;\n",
              "  color: #f1f1f1;\n",
              "}\n",
              "#T_cbf92_row2_col6 {\n",
              "  background-color: #3e51c5;\n",
              "  color: #f1f1f1;\n",
              "}\n",
              "#T_cbf92_row2_col7, #T_cbf92_row4_col0 {\n",
              "  background-color: #7597f6;\n",
              "  color: #f1f1f1;\n",
              "}\n",
              "#T_cbf92_row3_col0, #T_cbf92_row7_col6 {\n",
              "  background-color: #5b7ae5;\n",
              "  color: #f1f1f1;\n",
              "}\n",
              "#T_cbf92_row3_col2 {\n",
              "  background-color: #efcfbf;\n",
              "  color: #000000;\n",
              "}\n",
              "#T_cbf92_row3_col4 {\n",
              "  background-color: #516ddb;\n",
              "  color: #f1f1f1;\n",
              "}\n",
              "#T_cbf92_row3_col5, #T_cbf92_row4_col5, #T_cbf92_row5_col0, #T_cbf92_row5_col1 {\n",
              "  background-color: #7b9ff9;\n",
              "  color: #f1f1f1;\n",
              "}\n",
              "#T_cbf92_row3_col6, #T_cbf92_row4_col2 {\n",
              "  background-color: #3d50c3;\n",
              "  color: #f1f1f1;\n",
              "}\n",
              "#T_cbf92_row3_col7 {\n",
              "  background-color: #90b2fe;\n",
              "  color: #000000;\n",
              "}\n",
              "#T_cbf92_row4_col1 {\n",
              "  background-color: #7295f4;\n",
              "  color: #f1f1f1;\n",
              "}\n",
              "#T_cbf92_row4_col6 {\n",
              "  background-color: #4257c9;\n",
              "  color: #f1f1f1;\n",
              "}\n",
              "#T_cbf92_row5_col2 {\n",
              "  background-color: #8badfd;\n",
              "  color: #000000;\n",
              "}\n",
              "#T_cbf92_row5_col3 {\n",
              "  background-color: #94b6ff;\n",
              "  color: #000000;\n",
              "}\n",
              "#T_cbf92_row5_col4 {\n",
              "  background-color: #8db0fe;\n",
              "  color: #000000;\n",
              "}\n",
              "#T_cbf92_row5_col7 {\n",
              "  background-color: #84a7fc;\n",
              "  color: #f1f1f1;\n",
              "}\n",
              "#T_cbf92_row6_col0 {\n",
              "  background-color: #6e90f2;\n",
              "  color: #f1f1f1;\n",
              "}\n",
              "#T_cbf92_row6_col2 {\n",
              "  background-color: #4b64d5;\n",
              "  color: #f1f1f1;\n",
              "}\n",
              "#T_cbf92_row6_col7 {\n",
              "  background-color: #7ea1fa;\n",
              "  color: #f1f1f1;\n",
              "}\n",
              "#T_cbf92_row7_col1 {\n",
              "  background-color: #4c66d6;\n",
              "  color: #f1f1f1;\n",
              "}\n",
              "#T_cbf92_row7_col2 {\n",
              "  background-color: #5e7de7;\n",
              "  color: #f1f1f1;\n",
              "}\n",
              "#T_cbf92_row7_col3 {\n",
              "  background-color: #88abfd;\n",
              "  color: #000000;\n",
              "}\n",
              "</style>\n",
              "<table id=\"T_cbf92\" class=\"dataframe\">\n",
              "  <thead>\n",
              "    <tr>\n",
              "      <th class=\"blank level0\" >&nbsp;</th>\n",
              "      <th id=\"T_cbf92_level0_col0\" class=\"col_heading level0 col0\" >price</th>\n",
              "      <th id=\"T_cbf92_level0_col1\" class=\"col_heading level0 col1\" >minimum_nights</th>\n",
              "      <th id=\"T_cbf92_level0_col2\" class=\"col_heading level0 col2\" >number_of_reviews</th>\n",
              "      <th id=\"T_cbf92_level0_col3\" class=\"col_heading level0 col3\" >reviews_per_month</th>\n",
              "      <th id=\"T_cbf92_level0_col4\" class=\"col_heading level0 col4\" >calculated_host_listings_count</th>\n",
              "      <th id=\"T_cbf92_level0_col5\" class=\"col_heading level0 col5\" >availability_365</th>\n",
              "      <th id=\"T_cbf92_level0_col6\" class=\"col_heading level0 col6\" >latitude</th>\n",
              "      <th id=\"T_cbf92_level0_col7\" class=\"col_heading level0 col7\" >longitude</th>\n",
              "    </tr>\n",
              "  </thead>\n",
              "  <tbody>\n",
              "    <tr>\n",
              "      <th id=\"T_cbf92_level0_row0\" class=\"row_heading level0 row0\" >price</th>\n",
              "      <td id=\"T_cbf92_row0_col0\" class=\"data row0 col0\" >1.00</td>\n",
              "      <td id=\"T_cbf92_row0_col1\" class=\"data row0 col1\" >0.03</td>\n",
              "      <td id=\"T_cbf92_row0_col2\" class=\"data row0 col2\" >-0.04</td>\n",
              "      <td id=\"T_cbf92_row0_col3\" class=\"data row0 col3\" >-0.03</td>\n",
              "      <td id=\"T_cbf92_row0_col4\" class=\"data row0 col4\" >0.05</td>\n",
              "      <td id=\"T_cbf92_row0_col5\" class=\"data row0 col5\" >0.08</td>\n",
              "      <td id=\"T_cbf92_row0_col6\" class=\"data row0 col6\" >0.03</td>\n",
              "      <td id=\"T_cbf92_row0_col7\" class=\"data row0 col7\" >-0.16</td>\n",
              "    </tr>\n",
              "    <tr>\n",
              "      <th id=\"T_cbf92_level0_row1\" class=\"row_heading level0 row1\" >minimum_nights</th>\n",
              "      <td id=\"T_cbf92_row1_col0\" class=\"data row1 col0\" >0.03</td>\n",
              "      <td id=\"T_cbf92_row1_col1\" class=\"data row1 col1\" >1.00</td>\n",
              "      <td id=\"T_cbf92_row1_col2\" class=\"data row1 col2\" >-0.07</td>\n",
              "      <td id=\"T_cbf92_row1_col3\" class=\"data row1 col3\" >-0.12</td>\n",
              "      <td id=\"T_cbf92_row1_col4\" class=\"data row1 col4\" >0.07</td>\n",
              "      <td id=\"T_cbf92_row1_col5\" class=\"data row1 col5\" >0.10</td>\n",
              "      <td id=\"T_cbf92_row1_col6\" class=\"data row1 col6\" >0.03</td>\n",
              "      <td id=\"T_cbf92_row1_col7\" class=\"data row1 col7\" >-0.06</td>\n",
              "    </tr>\n",
              "    <tr>\n",
              "      <th id=\"T_cbf92_level0_row2\" class=\"row_heading level0 row2\" >number_of_reviews</th>\n",
              "      <td id=\"T_cbf92_row2_col0\" class=\"data row2 col0\" >-0.04</td>\n",
              "      <td id=\"T_cbf92_row2_col1\" class=\"data row2 col1\" >-0.07</td>\n",
              "      <td id=\"T_cbf92_row2_col2\" class=\"data row2 col2\" >1.00</td>\n",
              "      <td id=\"T_cbf92_row2_col3\" class=\"data row2 col3\" >0.55</td>\n",
              "      <td id=\"T_cbf92_row2_col4\" class=\"data row2 col4\" >-0.06</td>\n",
              "      <td id=\"T_cbf92_row2_col5\" class=\"data row2 col5\" >0.19</td>\n",
              "      <td id=\"T_cbf92_row2_col6\" class=\"data row2 col6\" >-0.01</td>\n",
              "      <td id=\"T_cbf92_row2_col7\" class=\"data row2 col7\" >0.05</td>\n",
              "    </tr>\n",
              "    <tr>\n",
              "      <th id=\"T_cbf92_level0_row3\" class=\"row_heading level0 row3\" >reviews_per_month</th>\n",
              "      <td id=\"T_cbf92_row3_col0\" class=\"data row3 col0\" >-0.03</td>\n",
              "      <td id=\"T_cbf92_row3_col1\" class=\"data row3 col1\" >-0.12</td>\n",
              "      <td id=\"T_cbf92_row3_col2\" class=\"data row3 col2\" >0.55</td>\n",
              "      <td id=\"T_cbf92_row3_col3\" class=\"data row3 col3\" >1.00</td>\n",
              "      <td id=\"T_cbf92_row3_col4\" class=\"data row3 col4\" >-0.01</td>\n",
              "      <td id=\"T_cbf92_row3_col5\" class=\"data row3 col5\" >0.18</td>\n",
              "      <td id=\"T_cbf92_row3_col6\" class=\"data row3 col6\" >-0.01</td>\n",
              "      <td id=\"T_cbf92_row3_col7\" class=\"data row3 col7\" >0.14</td>\n",
              "    </tr>\n",
              "    <tr>\n",
              "      <th id=\"T_cbf92_level0_row4\" class=\"row_heading level0 row4\" >calculated_host_listings_count</th>\n",
              "      <td id=\"T_cbf92_row4_col0\" class=\"data row4 col0\" >0.05</td>\n",
              "      <td id=\"T_cbf92_row4_col1\" class=\"data row4 col1\" >0.07</td>\n",
              "      <td id=\"T_cbf92_row4_col2\" class=\"data row4 col2\" >-0.06</td>\n",
              "      <td id=\"T_cbf92_row4_col3\" class=\"data row4 col3\" >-0.01</td>\n",
              "      <td id=\"T_cbf92_row4_col4\" class=\"data row4 col4\" >1.00</td>\n",
              "      <td id=\"T_cbf92_row4_col5\" class=\"data row4 col5\" >0.18</td>\n",
              "      <td id=\"T_cbf92_row4_col6\" class=\"data row4 col6\" >0.00</td>\n",
              "      <td id=\"T_cbf92_row4_col7\" class=\"data row4 col7\" >-0.09</td>\n",
              "    </tr>\n",
              "    <tr>\n",
              "      <th id=\"T_cbf92_level0_row5\" class=\"row_heading level0 row5\" >availability_365</th>\n",
              "      <td id=\"T_cbf92_row5_col0\" class=\"data row5 col0\" >0.08</td>\n",
              "      <td id=\"T_cbf92_row5_col1\" class=\"data row5 col1\" >0.10</td>\n",
              "      <td id=\"T_cbf92_row5_col2\" class=\"data row5 col2\" >0.19</td>\n",
              "      <td id=\"T_cbf92_row5_col3\" class=\"data row5 col3\" >0.18</td>\n",
              "      <td id=\"T_cbf92_row5_col4\" class=\"data row5 col4\" >0.18</td>\n",
              "      <td id=\"T_cbf92_row5_col5\" class=\"data row5 col5\" >1.00</td>\n",
              "      <td id=\"T_cbf92_row5_col6\" class=\"data row5 col6\" >-0.02</td>\n",
              "      <td id=\"T_cbf92_row5_col7\" class=\"data row5 col7\" >0.10</td>\n",
              "    </tr>\n",
              "    <tr>\n",
              "      <th id=\"T_cbf92_level0_row6\" class=\"row_heading level0 row6\" >latitude</th>\n",
              "      <td id=\"T_cbf92_row6_col0\" class=\"data row6 col0\" >0.03</td>\n",
              "      <td id=\"T_cbf92_row6_col1\" class=\"data row6 col1\" >0.03</td>\n",
              "      <td id=\"T_cbf92_row6_col2\" class=\"data row6 col2\" >-0.01</td>\n",
              "      <td id=\"T_cbf92_row6_col3\" class=\"data row6 col3\" >-0.01</td>\n",
              "      <td id=\"T_cbf92_row6_col4\" class=\"data row6 col4\" >0.00</td>\n",
              "      <td id=\"T_cbf92_row6_col5\" class=\"data row6 col5\" >-0.02</td>\n",
              "      <td id=\"T_cbf92_row6_col6\" class=\"data row6 col6\" >1.00</td>\n",
              "      <td id=\"T_cbf92_row6_col7\" class=\"data row6 col7\" >0.09</td>\n",
              "    </tr>\n",
              "    <tr>\n",
              "      <th id=\"T_cbf92_level0_row7\" class=\"row_heading level0 row7\" >longitude</th>\n",
              "      <td id=\"T_cbf92_row7_col0\" class=\"data row7 col0\" >-0.16</td>\n",
              "      <td id=\"T_cbf92_row7_col1\" class=\"data row7 col1\" >-0.06</td>\n",
              "      <td id=\"T_cbf92_row7_col2\" class=\"data row7 col2\" >0.05</td>\n",
              "      <td id=\"T_cbf92_row7_col3\" class=\"data row7 col3\" >0.14</td>\n",
              "      <td id=\"T_cbf92_row7_col4\" class=\"data row7 col4\" >-0.09</td>\n",
              "      <td id=\"T_cbf92_row7_col5\" class=\"data row7 col5\" >0.10</td>\n",
              "      <td id=\"T_cbf92_row7_col6\" class=\"data row7 col6\" >0.09</td>\n",
              "      <td id=\"T_cbf92_row7_col7\" class=\"data row7 col7\" >1.00</td>\n",
              "    </tr>\n",
              "  </tbody>\n",
              "</table>\n"
            ]
          },
          "metadata": {},
          "execution_count": 26
        }
      ],
      "source": [
        "df_viz = df2.toPandas()\n",
        "df_viz.corr().style.background_gradient(cmap='coolwarm').set_precision(2)"
      ]
    },
    {
      "cell_type": "markdown",
      "metadata": {
        "id": "TjdDqvRuCPlV"
      },
      "source": [
        "### Boxplot\n",
        "- BoxPlot도 그려본다."
      ]
    },
    {
      "cell_type": "code",
      "execution_count": 27,
      "metadata": {
        "colab": {
          "base_uri": "https://localhost:8080/",
          "height": 430
        },
        "id": "lp1z12zlCPlV",
        "outputId": "3a43c40f-3da7-4d49-8ad8-457c7d8c83cc"
      },
      "outputs": [
        {
          "output_type": "display_data",
          "data": {
            "text/plain": [
              "<Figure size 640x480 with 1 Axes>"
            ],
            "image/png": "[encoded data removed]"
          },
          "metadata": {}
        }
      ],
      "source": [
        "plt.boxplot(df_viz[['price']])\n",
        "plt.show()"
      ]
    },
    {
      "cell_type": "code",
      "execution_count": 28,
      "metadata": {
        "colab": {
          "base_uri": "https://localhost:8080/",
          "height": 430
        },
        "id": "0SuvGJAqCPlV",
        "outputId": "088e2a7d-074b-42ff-dba6-23844023a199"
      },
      "outputs": [
        {
          "output_type": "display_data",
          "data": {
            "text/plain": [
              "<Figure size 640x480 with 1 Axes>"
            ],
            "image/png": "[encoded data removed]"
          },
          "metadata": {}
        }
      ],
      "source": [
        "fig, ax = plt.subplots()\n",
        "ax.violinplot(df_viz[['price']])\n",
        "plt.show()"
      ]
    },
    {
      "cell_type": "markdown",
      "metadata": {
        "id": "DPFU5buWCPlV"
      },
      "source": [
        "### 이상치 제거\n",
        "-  price > 250 이상인 것은 제거한다."
      ]
    },
    {
      "cell_type": "code",
      "execution_count": 29,
      "metadata": {
        "colab": {
          "base_uri": "https://localhost:8080/",
          "height": 522
        },
        "id": "4mNFICBvCPlW",
        "outputId": "5c1c14a1-7673-47a7-e73b-704db5d04b28"
      },
      "outputs": [
        {
          "output_type": "display_data",
          "data": {
            "text/plain": [
              "<Figure size 1000x600 with 2 Axes>"
            ],
            "image/png": "[encoded data removed]"
          },
          "metadata": {}
        }
      ],
      "source": [
        "fig, ax = plt.subplots(ncols = 2, figsize=(10, 6))\n",
        "df_viz[df_viz['price']>250].price.hist(bins=40, ax = ax[0])\n",
        "df_viz[df_viz['price']<=250].price.hist(bins=40, ax = ax[1])\n",
        "plt.show()"
      ]
    },
    {
      "cell_type": "code",
      "execution_count": 30,
      "metadata": {
        "id": "V225j_1oCPlV"
      },
      "outputs": [],
      "source": [
        "df2 = df2.filter(df2.price<=250)"
      ]
    },
    {
      "cell_type": "markdown",
      "metadata": {
        "id": "oYaTA6ilCPlW"
      },
      "source": [
        "- 제거된 데이터의 숫자는 약 3,520개이다."
      ]
    },
    {
      "cell_type": "code",
      "execution_count": 31,
      "metadata": {
        "colab": {
          "base_uri": "https://localhost:8080/"
        },
        "id": "xsrxymr_CPlW",
        "outputId": "862ed77c-112c-4519-efcd-72e309273b32"
      },
      "outputs": [
        {
          "output_type": "execute_result",
          "data": {
            "text/plain": [
              "3520"
            ]
          },
          "metadata": {},
          "execution_count": 31
        }
      ],
      "source": [
        "df_viz[df_viz['price']>250].price.value_counts().sum()"
      ]
    },
    {
      "cell_type": "markdown",
      "metadata": {
        "id": "eQnCluZnCPlW"
      },
      "source": [
        "- 제거 후, 히스토그램은 다음과 같음"
      ]
    },
    {
      "cell_type": "code",
      "execution_count": 32,
      "metadata": {
        "colab": {
          "base_uri": "https://localhost:8080/",
          "height": 448
        },
        "id": "bmdnUBCdCPlW",
        "outputId": "a6484e71-2858-4116-ac67-cc3d28ad8aa1"
      },
      "outputs": [
        {
          "output_type": "execute_result",
          "data": {
            "text/plain": [
              "<Axes: >"
            ]
          },
          "metadata": {},
          "execution_count": 32
        },
        {
          "output_type": "display_data",
          "data": {
            "text/plain": [
              "<Figure size 640x480 with 1 Axes>"
            ],
            "image/png": "[encoded data removed]"
          },
          "metadata": {}
        }
      ],
      "source": [
        "df_viz[df_viz['price']<=250].price.hist()"
      ]
    },
    {
      "cell_type": "code",
      "execution_count": 33,
      "metadata": {
        "id": "SnZqRcUuCPlW"
      },
      "outputs": [],
      "source": [
        "# 렌트비가 0원인것도 제외\n",
        "df2 = df2.filter(df2.price!=0)"
      ]
    },
    {
      "cell_type": "code",
      "execution_count": 34,
      "metadata": {
        "colab": {
          "base_uri": "https://localhost:8080/"
        },
        "id": "17hqa8LHCPlW",
        "outputId": "9a820d57-f0d1-4059-b80d-8c22a39eeb6a"
      },
      "outputs": [
        {
          "output_type": "execute_result",
          "data": {
            "text/plain": [
              "[('neighbourhood_group', 'string'),\n",
              " ('neighbourhood', 'string'),\n",
              " ('room_type', 'string'),\n",
              " ('price', 'int'),\n",
              " ('minimum_nights', 'int'),\n",
              " ('number_of_reviews', 'int'),\n",
              " ('last_review', 'date'),\n",
              " ('reviews_per_month', 'float'),\n",
              " ('calculated_host_listings_count', 'int'),\n",
              " ('availability_365', 'int'),\n",
              " ('latitude', 'float'),\n",
              " ('longitude', 'float'),\n",
              " ('diff_in_days', 'string')]"
            ]
          },
          "metadata": {},
          "execution_count": 34
        }
      ],
      "source": [
        "df2.dtypes"
      ]
    },
    {
      "cell_type": "markdown",
      "metadata": {
        "id": "HaYmYra5CPlb"
      },
      "source": [
        "## Pipelines 활용\n",
        "- neighbourhood, room type and diff_in_days 컬럼 인코딩 변환"
      ]
    },
    {
      "cell_type": "markdown",
      "metadata": {
        "id": "uwkIPj4FCPlc"
      },
      "source": [
        "### Stringindexer & then one-hot encoding\n",
        "- 문자열 컬럼 변환을 위해 StringIndexer를 사용한다."
      ]
    },
    {
      "cell_type": "code",
      "source": [
        "# Sample data with a categorical column \"category\"\n",
        "temp_data = [(0, \"cat\"), (1, \"dog\"), (2, \"fish\"), (3, \"dog\"), (4, \"cat\")]\n",
        "temp_df = sc.createDataFrame(temp_data, [\"id\", \"category\"])\n",
        "temp_df.show()"
      ],
      "metadata": {
        "colab": {
          "base_uri": "https://localhost:8080/"
        },
        "id": "doEsrDRFXDCI",
        "outputId": "ee0a70d8-f260-4e70-8b63-af0f06f8068e"
      },
      "execution_count": 35,
      "outputs": [
        {
          "output_type": "stream",
          "name": "stdout",
          "text": [
            "+---+--------+\n",
            "| id|category|\n",
            "+---+--------+\n",
            "|  0|     cat|\n",
            "|  1|     dog|\n",
            "|  2|    fish|\n",
            "|  3|     dog|\n",
            "|  4|     cat|\n",
            "+---+--------+\n",
            "\n"
          ]
        }
      ]
    },
    {
      "cell_type": "code",
      "source": [
        "# Define the stages for the Pipeline\n",
        "stringIndexer = StringIndexer(inputCol=\"category\", outputCol=\"categoryIndex\")\n",
        "encoder = OneHotEncoder(inputCol=\"categoryIndex\", outputCol=\"categoryOneHot\")\n",
        "\n",
        "# Create a list of stages for the Pipeline\n",
        "stages = [stringIndexer, encoder]\n",
        "\n",
        "# Create a Pipeline with the defined stages\n",
        "pipeline = Pipeline(stages=stages)\n",
        "\n",
        "# Fit the pipeline to the data\n",
        "model = pipeline.fit(temp_df)\n",
        "\n",
        "# Transform the data using the fitted pipeline\n",
        "transformed_df = model.transform(temp_df)\n",
        "\n",
        "# Show the transformed data\n",
        "transformed_df.show()"
      ],
      "metadata": {
        "colab": {
          "base_uri": "https://localhost:8080/"
        },
        "id": "0Q0GKV4GXPDa",
        "outputId": "a9b665ed-b63b-42ff-943a-22e519d025d9"
      },
      "execution_count": 36,
      "outputs": [
        {
          "output_type": "stream",
          "name": "stdout",
          "text": [
            "+---+--------+-------------+--------------+\n",
            "| id|category|categoryIndex|categoryOneHot|\n",
            "+---+--------+-------------+--------------+\n",
            "|  0|     cat|          0.0| (2,[0],[1.0])|\n",
            "|  1|     dog|          1.0| (2,[1],[1.0])|\n",
            "|  2|    fish|          2.0|     (2,[],[])|\n",
            "|  3|     dog|          1.0| (2,[1],[1.0])|\n",
            "|  4|     cat|          0.0| (2,[0],[1.0])|\n",
            "+---+--------+-------------+--------------+\n",
            "\n"
          ]
        }
      ]
    },
    {
      "cell_type": "markdown",
      "source": [
        "- `StringIndexer` 는 각 카테고리에 고유한 인덱스를 할당하여 \"카테고리\" 열을 숫자 값으로 변환하는 데 사용됩니다. \"categoryIndex\"라는 새 열을 생성합니다.\n",
        "- `OneHotEncoder`는 문자열 인덱서에서 생성된 숫자 인덱스를 원핫 인코딩된 벡터로 변환하는 데 사용됩니다. 이 인코더는 \"categoryOneHot\"이라는 이름의 새 열을 생성합니다.\n",
        "- 정의된 StringIndexer 및 OneHotEncoder 스테이지가 포함된 stages, stages 목록을 생성합니다.\n",
        "- pipeline 객체를 생성한다.\n",
        "- pipeline 객체를 적용하여 DataFrame을 변환한 뒤, transform()을 적용한다."
      ],
      "metadata": {
        "id": "9eqCmTn4X1HI"
      }
    },
    {
      "cell_type": "code",
      "execution_count": 37,
      "metadata": {
        "id": "IFJNFlJuCPlc",
        "outputId": "f6c73992-fe94-4a96-a8fc-17cee086fbf4",
        "colab": {
          "base_uri": "https://localhost:8080/"
        }
      },
      "outputs": [
        {
          "output_type": "stream",
          "name": "stdout",
          "text": [
            "+-------------------+-------------+---------------+-----+--------------+-----------------+-----------+-----------------+------------------------------+----------------+--------+---------+--------------+---+----+---+----+-------------+----------------+-------------+-------------+\n",
            "|neighbourhood_group|neighbourhood|      room_type|price|minimum_nights|number_of_reviews|last_review|reviews_per_month|calculated_host_listings_count|availability_365|latitude|longitude|  diff_in_days|ng1|  n1|rt1|dfd1|          ngv|              nv|          rtv|         dfdv|\n",
            "+-------------------+-------------+---------------+-----+--------------+-----------------+-----------+-----------------+------------------------------+----------------+--------+---------+--------------+---+----+---+----+-------------+----------------+-------------+-------------+\n",
            "|           Brooklyn|   Kensington|   Private room|  149|             1|                9| 2018-10-19|             0.21|                             6|             365|40.64749|-73.97237|  one_year_ago|0.0|49.0|0.0| 3.0|(4,[0],[1.0])|(217,[49],[1.0])|(2,[0],[1.0])|(6,[3],[1.0])|\n",
            "|          Manhattan|      Midtown|Entire home/apt|  225|             1|               45| 2019-05-21|             0.38|                             2|             355|40.75362|-73.98377| half_year_ago|1.0|13.0|1.0| 2.0|(4,[1],[1.0])|(217,[13],[1.0])|(2,[1],[1.0])|(6,[2],[1.0])|\n",
            "|           Brooklyn| Clinton Hill|Entire home/apt|   89|             1|              270| 2019-07-05|             4.64|                             1|             194|40.68514|-73.95976|three_days_ago|0.0|19.0|1.0| 5.0|(4,[0],[1.0])|(217,[19],[1.0])|(2,[1],[1.0])|(6,[5],[1.0])|\n",
            "|          Manhattan|  East Harlem|Entire home/apt|   80|            10|                9| 2018-11-19|              0.1|                             1|               0|40.79851|-73.94399|  one_year_ago|1.0| 9.0|1.0| 3.0|(4,[1],[1.0])| (217,[9],[1.0])|(2,[1],[1.0])|(6,[3],[1.0])|\n",
            "|          Manhattan|  Murray Hill|Entire home/apt|  200|             3|               74| 2019-06-22|             0.59|                             1|             129|40.74767|  -73.975|last_month_ago|1.0|33.0|1.0| 0.0|(4,[1],[1.0])|(217,[33],[1.0])|(2,[1],[1.0])|(6,[0],[1.0])|\n",
            "+-------------------+-------------+---------------+-----+--------------+-----------------+-----------+-----------------+------------------------------+----------------+--------+---------+--------------+---+----+---+----+-------------+----------------+-------------+-------------+\n",
            "only showing top 5 rows\n",
            "\n"
          ]
        }
      ],
      "source": [
        "ng_indexer = StringIndexer(inputCol=\"neighbourhood_group\", outputCol=\"ng1\")\n",
        "n_indexer = StringIndexer(inputCol=\"neighbourhood\", outputCol=\"n1\")\n",
        "rt_indexer = StringIndexer(inputCol=\"room_type\", outputCol=\"rt1\")\n",
        "dfd_indexer = StringIndexer(inputCol=\"diff_in_days\", outputCol=\"dfd1\")\n",
        "\n",
        "ng_onehot = OneHotEncoder(inputCol=\"ng1\", outputCol=\"ngv\")\n",
        "n_onehot = OneHotEncoder(inputCol=\"n1\", outputCol=\"nv\")\n",
        "rt_onehot = OneHotEncoder(inputCol=\"rt1\", outputCol=\"rtv\")\n",
        "dfd_onehot = OneHotEncoder(inputCol=\"dfd1\", outputCol=\"dfdv\")\n",
        "\n",
        "pipeline = Pipeline(stages=[ng_indexer, n_indexer, rt_indexer, dfd_indexer, \\\n",
        "                            ng_onehot, n_onehot, rt_onehot, dfd_onehot])\n",
        "df3 = pipeline.fit(df2).transform(df2)\n",
        "df3.show(5)"
      ]
    },
    {
      "cell_type": "code",
      "execution_count": 38,
      "metadata": {
        "id": "3etlPTuECPlc",
        "outputId": "51e185cb-8f36-4149-85cc-935a85acdfe3",
        "colab": {
          "base_uri": "https://localhost:8080/"
        }
      },
      "outputs": [
        {
          "output_type": "execute_result",
          "data": {
            "text/plain": [
              "[('neighbourhood_group', 'string'),\n",
              " ('neighbourhood', 'string'),\n",
              " ('room_type', 'string'),\n",
              " ('price', 'int'),\n",
              " ('minimum_nights', 'int'),\n",
              " ('number_of_reviews', 'int'),\n",
              " ('last_review', 'date'),\n",
              " ('reviews_per_month', 'float'),\n",
              " ('calculated_host_listings_count', 'int'),\n",
              " ('availability_365', 'int'),\n",
              " ('latitude', 'float'),\n",
              " ('longitude', 'float'),\n",
              " ('diff_in_days', 'string'),\n",
              " ('ng1', 'double'),\n",
              " ('n1', 'double'),\n",
              " ('rt1', 'double'),\n",
              " ('dfd1', 'double'),\n",
              " ('ngv', 'vector'),\n",
              " ('nv', 'vector'),\n",
              " ('rtv', 'vector'),\n",
              " ('dfdv', 'vector')]"
            ]
          },
          "metadata": {},
          "execution_count": 38
        }
      ],
      "source": [
        "df3.dtypes"
      ]
    },
    {
      "cell_type": "markdown",
      "metadata": {
        "id": "Hg-9b0lHCPlc"
      },
      "source": [
        "## Vectorizing features\n",
        "- 여러 컬럼을 단일 특징 벡터 열로 합치기 위해 PySpark에서 VectorAssembler를 사용하는 방법을 보여준다."
      ]
    },
    {
      "cell_type": "code",
      "execution_count": 39,
      "metadata": {
        "id": "qVbyoDfiCPlc",
        "outputId": "a2716e2d-052e-4032-d284-65692828fee1",
        "colab": {
          "base_uri": "https://localhost:8080/"
        }
      },
      "outputs": [
        {
          "output_type": "stream",
          "name": "stdout",
          "text": [
            "+-------------------+------------------+---------------+-----+--------------+-----------------+-----------+-----------------+------------------------------+----------------+--------+---------+--------------+---+----+---+----+-------------+----------------+-------------+-------------+--------------------+\n",
            "|neighbourhood_group|     neighbourhood|      room_type|price|minimum_nights|number_of_reviews|last_review|reviews_per_month|calculated_host_listings_count|availability_365|latitude|longitude|  diff_in_days|ng1|  n1|rt1|dfd1|          ngv|              nv|          rtv|         dfdv|            features|\n",
            "+-------------------+------------------+---------------+-----+--------------+-----------------+-----------+-----------------+------------------------------+----------------+--------+---------+--------------+---+----+---+----+-------------+----------------+-------------+-------------+--------------------+\n",
            "|           Brooklyn|        Kensington|   Private room|  149|             1|                9| 2018-10-19|             0.21|                             6|             365|40.64749|-73.97237|  one_year_ago|0.0|49.0|0.0| 3.0|(4,[0],[1.0])|(217,[49],[1.0])|(2,[0],[1.0])|(6,[3],[1.0])|(236,[0,1,2,3,4,5...|\n",
            "|          Manhattan|           Midtown|Entire home/apt|  225|             1|               45| 2019-05-21|             0.38|                             2|             355|40.75362|-73.98377| half_year_ago|1.0|13.0|1.0| 2.0|(4,[1],[1.0])|(217,[13],[1.0])|(2,[1],[1.0])|(6,[2],[1.0])|(236,[0,1,2,3,4,6...|\n",
            "|           Brooklyn|      Clinton Hill|Entire home/apt|   89|             1|              270| 2019-07-05|             4.64|                             1|             194|40.68514|-73.95976|three_days_ago|0.0|19.0|1.0| 5.0|(4,[0],[1.0])|(217,[19],[1.0])|(2,[1],[1.0])|(6,[5],[1.0])|(236,[0,1,2,3,4,5...|\n",
            "|          Manhattan|       East Harlem|Entire home/apt|   80|            10|                9| 2018-11-19|              0.1|                             1|               0|40.79851|-73.94399|  one_year_ago|1.0| 9.0|1.0| 3.0|(4,[1],[1.0])| (217,[9],[1.0])|(2,[1],[1.0])|(6,[3],[1.0])|(236,[0,1,2,3,6,1...|\n",
            "|          Manhattan|       Murray Hill|Entire home/apt|  200|             3|               74| 2019-06-22|             0.59|                             1|             129|40.74767|  -73.975|last_month_ago|1.0|33.0|1.0| 0.0|(4,[1],[1.0])|(217,[33],[1.0])|(2,[1],[1.0])|(6,[0],[1.0])|(236,[0,1,2,3,4,6...|\n",
            "|           Brooklyn|Bedford-Stuyvesant|   Private room|   60|            45|               49| 2017-10-05|              0.4|                             1|               0|40.68688|-73.95596|   5_years_ago|0.0| 0.0|0.0| 1.0|(4,[0],[1.0])| (217,[0],[1.0])|(2,[0],[1.0])|(6,[1],[1.0])|(236,[0,1,2,3,5,9...|\n",
            "|          Manhattan|    Hell's Kitchen|   Private room|   79|             2|              430| 2019-06-24|             3.47|                             1|             220|40.76489|-73.98493|last_month_ago|1.0| 5.0|0.0| 0.0|(4,[1],[1.0])| (217,[5],[1.0])|(2,[0],[1.0])|(6,[0],[1.0])|(236,[0,1,2,3,4,6...|\n",
            "|          Manhattan|   Upper West Side|   Private room|   79|             2|              118| 2017-07-21|             0.99|                             1|               0|40.80178|-73.96723|   5_years_ago|1.0| 6.0|0.0| 1.0|(4,[1],[1.0])| (217,[6],[1.0])|(2,[0],[1.0])|(6,[1],[1.0])|(236,[0,1,2,3,6,9...|\n",
            "|          Manhattan|         Chinatown|Entire home/apt|  150|             1|              160| 2019-06-09|             1.33|                             4|             188|40.71344|-73.99037|last_month_ago|1.0|29.0|1.0| 0.0|(4,[1],[1.0])|(217,[29],[1.0])|(2,[1],[1.0])|(6,[0],[1.0])|(236,[0,1,2,3,4,6...|\n",
            "|          Manhattan|   Upper West Side|Entire home/apt|  135|             5|               53| 2019-06-22|             0.43|                             1|               6|40.80316|-73.96545|last_month_ago|1.0| 6.0|1.0| 0.0|(4,[1],[1.0])| (217,[6],[1.0])|(2,[1],[1.0])|(6,[0],[1.0])|(236,[0,1,2,3,4,6...|\n",
            "|          Manhattan|    Hell's Kitchen|   Private room|   85|             2|              188| 2019-06-23|              1.5|                             1|              39|40.76076|-73.98867|last_month_ago|1.0| 5.0|0.0| 0.0|(4,[1],[1.0])| (217,[5],[1.0])|(2,[0],[1.0])|(6,[0],[1.0])|(236,[0,1,2,3,4,6...|\n",
            "|           Brooklyn|       South Slope|   Private room|   89|             4|              167| 2019-06-24|             1.34|                             3|             314|40.66829|-73.98779|last_month_ago|0.0|37.0|0.0| 0.0|(4,[0],[1.0])|(217,[37],[1.0])|(2,[0],[1.0])|(6,[0],[1.0])|(236,[0,1,2,3,4,5...|\n",
            "|          Manhattan|   Upper West Side|   Private room|   85|             2|              113| 2019-07-05|             0.91|                             1|             333|40.79826|-73.96113|three_days_ago|1.0| 6.0|0.0| 5.0|(4,[1],[1.0])| (217,[6],[1.0])|(2,[0],[1.0])|(6,[5],[1.0])|(236,[0,1,2,3,4,6...|\n",
            "|          Manhattan|      West Village|Entire home/apt|  120|            90|               27| 2018-10-31|             0.22|                             1|               0| 40.7353|-74.00525|  one_year_ago|1.0|17.0|1.0| 3.0|(4,[1],[1.0])|(217,[17],[1.0])|(2,[1],[1.0])|(6,[3],[1.0])|(236,[0,1,2,3,6,1...|\n",
            "|           Brooklyn|      Williamsburg|Entire home/apt|  140|             2|              148| 2019-06-29|              1.2|                             1|              46|40.70837|-73.95352|last_month_ago|0.0| 1.0|1.0| 0.0|(4,[0],[1.0])| (217,[1],[1.0])|(2,[1],[1.0])|(6,[0],[1.0])|(236,[0,1,2,3,4,5...|\n",
            "|           Brooklyn|       Fort Greene|Entire home/apt|  215|             2|              198| 2019-06-28|             1.72|                             1|             321|40.69169|-73.97185|last_month_ago|0.0|23.0|1.0| 0.0|(4,[0],[1.0])|(217,[23],[1.0])|(2,[1],[1.0])|(6,[0],[1.0])|(236,[0,1,2,3,4,5...|\n",
            "|          Manhattan|           Chelsea|   Private room|  140|             1|              260| 2019-07-01|             2.12|                             1|              12|40.74192|-73.99501| last_week_ago|1.0|15.0|0.0| 4.0|(4,[1],[1.0])|(217,[15],[1.0])|(2,[0],[1.0])|(6,[4],[1.0])|(236,[0,1,2,3,4,6...|\n",
            "|           Brooklyn|     Crown Heights|Entire home/apt|   99|             3|               53| 2019-06-22|             4.44|                             1|              21|40.67592|-73.94694|last_month_ago|0.0| 8.0|1.0| 0.0|(4,[0],[1.0])| (217,[8],[1.0])|(2,[1],[1.0])|(6,[0],[1.0])|(236,[0,1,2,3,4,5...|\n",
            "|           Brooklyn|        Park Slope|   Private room|  130|             2|              130| 2019-07-01|             1.09|                             6|             347|40.68069|-73.97706| last_week_ago|0.0|24.0|0.0| 4.0|(4,[0],[1.0])|(217,[24],[1.0])|(2,[0],[1.0])|(6,[4],[1.0])|(236,[0,1,2,3,4,5...|\n",
            "|           Brooklyn|        Park Slope|   Private room|   80|             1|               39| 2019-01-01|             0.37|                             6|             364|40.67989|-73.97798|  one_year_ago|0.0|24.0|0.0| 3.0|(4,[0],[1.0])|(217,[24],[1.0])|(2,[0],[1.0])|(6,[3],[1.0])|(236,[0,1,2,3,4,5...|\n",
            "+-------------------+------------------+---------------+-----+--------------+-----------------+-----------+-----------------+------------------------------+----------------+--------+---------+--------------+---+----+---+----+-------------+----------------+-------------+-------------+--------------------+\n",
            "only showing top 20 rows\n",
            "\n"
          ]
        }
      ],
      "source": [
        "va = VectorAssembler(inputCols = \\\n",
        "                     ['minimum_nights', 'number_of_reviews', 'reviews_per_month', \\\n",
        "                      'calculated_host_listings_count', 'availability_365', \\\n",
        "                      'ngv','rtv', 'nv', 'dfdv', 'latitude', 'longitude'], outputCol = 'features')\n",
        "df4 = va.transform(df3)\n",
        "df4.show()"
      ]
    },
    {
      "cell_type": "code",
      "source": [
        "df4x = df4.select(['features', 'price'])\n",
        "df4x.show(5)"
      ],
      "metadata": {
        "id": "URYJ3UVcujNK",
        "colab": {
          "base_uri": "https://localhost:8080/"
        },
        "outputId": "fa661a43-00d0-480c-ed12-b328cb741e58"
      },
      "execution_count": 40,
      "outputs": [
        {
          "output_type": "stream",
          "name": "stdout",
          "text": [
            "+--------------------+-----+\n",
            "|            features|price|\n",
            "+--------------------+-----+\n",
            "|(236,[0,1,2,3,4,5...|  149|\n",
            "|(236,[0,1,2,3,4,6...|  225|\n",
            "|(236,[0,1,2,3,4,5...|   89|\n",
            "|(236,[0,1,2,3,6,1...|   80|\n",
            "|(236,[0,1,2,3,4,6...|  200|\n",
            "+--------------------+-----+\n",
            "only showing top 5 rows\n",
            "\n"
          ]
        }
      ]
    },
    {
      "cell_type": "markdown",
      "metadata": {
        "id": "042Qf2jjCPlc"
      },
      "source": [
        "### MinMax Scaler\n",
        "- 수치 데이터를 모두 MinMax Scaler로 변환한다."
      ]
    },
    {
      "cell_type": "code",
      "execution_count": 41,
      "metadata": {
        "id": "MQf6JStGCPld",
        "outputId": "0df4bb4f-756c-4890-934b-9b3d046eaccc",
        "colab": {
          "base_uri": "https://localhost:8080/"
        }
      },
      "outputs": [
        {
          "output_type": "stream",
          "name": "stdout",
          "text": [
            "+--------------------+-----+--------------------+\n",
            "|            features|price|      scaledFeatures|\n",
            "+--------------------+-----+--------------------+\n",
            "|(236,[0,1,2,3,4,5...|  149|(236,[1,2,3,4,5,9...|\n",
            "|(236,[0,1,2,3,4,6...|  225|(236,[1,2,3,4,6,1...|\n",
            "|(236,[0,1,2,3,4,5...|   89|(236,[1,2,4,5,10,...|\n",
            "|(236,[0,1,2,3,6,1...|   80|(236,[0,1,2,6,10,...|\n",
            "|(236,[0,1,2,3,4,6...|  200|(236,[0,1,2,4,6,1...|\n",
            "+--------------------+-----+--------------------+\n",
            "only showing top 5 rows\n",
            "\n"
          ]
        }
      ],
      "source": [
        "scaler = MinMaxScaler(inputCol=\"features\", outputCol=\"scaledFeatures\")\n",
        "scalerModel = scaler.fit(df4x)\n",
        "df4 = scalerModel.transform(df4x)\n",
        "df4.show(5)"
      ]
    },
    {
      "cell_type": "markdown",
      "source": [
        "- 최종적인 컬럼을 위해 적절하게 컬럼명을 변경한다."
      ],
      "metadata": {
        "id": "LZBD6mpvu-pG"
      }
    },
    {
      "cell_type": "code",
      "execution_count": 42,
      "metadata": {
        "id": "iCN15eHaCPld",
        "outputId": "b2f4251a-8b5e-41b9-ce13-89c0fe7cc9cf",
        "colab": {
          "base_uri": "https://localhost:8080/"
        }
      },
      "outputs": [
        {
          "output_type": "stream",
          "name": "stdout",
          "text": [
            "+--------------------+-----+\n",
            "|            features|label|\n",
            "+--------------------+-----+\n",
            "|(236,[1,2,3,4,5,9...|  149|\n",
            "|(236,[1,2,3,4,6,1...|  225|\n",
            "+--------------------+-----+\n",
            "only showing top 2 rows\n",
            "\n"
          ]
        }
      ],
      "source": [
        "df4 = df4.select('scaledFeatures', 'price')\n",
        "df4 = df4.withColumnRenamed(\"scaledFeatures\",\"features\")\n",
        "df4 = df4.withColumnRenamed(\"price\",\"label\")\n",
        "df4.show(2)"
      ]
    },
    {
      "cell_type": "markdown",
      "source": [
        "## 데이터 내보내기\n",
        "- 1차 가공을 완료하면 데이터를 외부에 저장하도록 한다."
      ],
      "metadata": {
        "id": "lQ2HmgiGvG5t"
      }
    },
    {
      "cell_type": "code",
      "execution_count": 43,
      "metadata": {
        "id": "PtswD54uCPld"
      },
      "outputs": [],
      "source": [
        "df4.repartition(1).write.parquet(DATA_PATH + \"saved_231025.parquet\")"
      ]
    },
    {
      "cell_type": "markdown",
      "source": [
        "## 데이터 다시 불러오기"
      ],
      "metadata": {
        "id": "pe0upxkEvv7t"
      }
    },
    {
      "cell_type": "code",
      "execution_count": 44,
      "metadata": {
        "id": "t18ug8GaCPld",
        "outputId": "3ad0c044-def4-461a-ebbd-205f41f89db6",
        "colab": {
          "base_uri": "https://localhost:8080/"
        }
      },
      "outputs": [
        {
          "output_type": "stream",
          "name": "stdout",
          "text": [
            "+--------------------+-----+\n",
            "|            features|label|\n",
            "+--------------------+-----+\n",
            "|(236,[1,2,3,4,5,9...|  149|\n",
            "|(236,[1,2,3,4,6,1...|  225|\n",
            "|(236,[1,2,4,5,10,...|   89|\n",
            "|(236,[0,1,2,6,10,...|   80|\n",
            "|(236,[0,1,2,4,6,1...|  200|\n",
            "+--------------------+-----+\n",
            "only showing top 5 rows\n",
            "\n"
          ]
        }
      ],
      "source": [
        "df5 = sc.read.load(DATA_PATH + \"saved_231025.parquet\")\n",
        "df5.show(5)"
      ]
    },
    {
      "cell_type": "markdown",
      "metadata": {
        "id": "QJIsIKSMCPld"
      },
      "source": [
        "## Train-Test split\n",
        "- 훈련 데이터와 테스트 데이터로 분리한다."
      ]
    },
    {
      "cell_type": "code",
      "execution_count": 45,
      "metadata": {
        "id": "VZoi3ggDCPld"
      },
      "outputs": [],
      "source": [
        "splits = df4.randomSplit([0.7, 0.3], seed=12345)\n",
        "train_df = splits[0]\n",
        "test_df = splits[1]"
      ]
    },
    {
      "cell_type": "markdown",
      "metadata": {
        "id": "rie0HvsBCPle"
      },
      "source": [
        "# Linear Regression without Feature Engineering"
      ]
    },
    {
      "cell_type": "code",
      "execution_count": 46,
      "metadata": {
        "id": "x0lQtk7vCPle",
        "colab": {
          "base_uri": "https://localhost:8080/"
        },
        "outputId": "adaa7425-b096-48d6-efe4-a99596477d63"
      },
      "outputs": [
        {
          "output_type": "stream",
          "name": "stdout",
          "text": [
            "R Squared (R2) on test data = 0.141252\n",
            "RMSE (R2) on test data = 184.995\n"
          ]
        }
      ],
      "source": [
        "df3_raw = df.select('neighbourhood_group', 'neighbourhood', 'room_type', 'price', \\\n",
        "               'minimum_nights','number_of_reviews', 'reviews_per_month', \\\n",
        "               'calculated_host_listings_count', 'availability_365', 'latitude', 'longitude')\n",
        "\n",
        "df3_raw = df3_raw.na.drop(\"any\")\n",
        "\n",
        "df3_raw = df3_raw.withColumn(\"price\", df3_raw[\"price\"].cast(IntegerType()))\n",
        "df3_raw = df3_raw.withColumn(\"minimum_nights\", df3_raw[\"minimum_nights\"].cast(IntegerType()))\n",
        "df3_raw = df3_raw.withColumn(\"number_of_reviews\", df3_raw[\"number_of_reviews\"].cast(IntegerType()))\n",
        "df3_raw = df3_raw.withColumn(\"reviews_per_month\", df3_raw[\"reviews_per_month\"].cast(FloatType()))\n",
        "df3_raw = df3_raw.withColumn(\"calculated_host_listings_count\", df3_raw[\"calculated_host_listings_count\"].cast(IntegerType()))\n",
        "df3_raw = df3_raw.withColumn(\"availability_365\", df3_raw[\"availability_365\"].cast(IntegerType()))\n",
        "df3_raw = df3_raw.withColumn(\"latitude\", df3_raw[\"latitude\"].cast(FloatType()))\n",
        "df3_raw = df3_raw.withColumn(\"longitude\", df3_raw[\"longitude\"].cast(FloatType()))\n",
        "\n",
        "\n",
        "df3_raw = df3_raw.na.drop(\"any\")\n",
        "\n",
        "pipeline = Pipeline(stages=[ng_indexer, n_indexer, rt_indexer, \\\n",
        "                            ng_onehot, n_onehot, rt_onehot])\n",
        "df4_raw = pipeline.fit(df3_raw).transform(df3_raw)\n",
        "\n",
        "va1 = VectorAssembler(inputCols = \\\n",
        "                     ['minimum_nights', 'number_of_reviews', 'reviews_per_month', \\\n",
        "                        'calculated_host_listings_count', 'availability_365', \\\n",
        "                      'ngv','rtv', 'nv', 'latitude', 'longitude'], outputCol = 'features')\n",
        "\n",
        "df5_raw = va1.transform(df4_raw)\n",
        "df5x_raw = df5_raw.select(['features', 'price'])\n",
        "\n",
        "splits_raw = df5x_raw.randomSplit([0.7, 0.3], seed=12345)\n",
        "train_df_raw = splits_raw[0]\n",
        "test_df_raw = splits_raw[1]\n",
        "#print(train_df_raw.collect()[5])\n",
        "\n",
        "lr_raw = LinearRegression(featuresCol = 'features', labelCol='price')\n",
        "lr_model_raw = lr_raw.fit(train_df_raw)\n",
        "fullPredictions_raw = lr_model_raw.transform(test_df_raw).cache()\n",
        "lr_evaluator_raw = RegressionEvaluator(predictionCol=\"prediction\", labelCol=\"price\",metricName=\"r2\")\n",
        "print(\"R Squared (R2) on test data = %g\" % lr_evaluator_raw.evaluate(fullPredictions_raw))\n",
        "lr_evaluator_raw = RegressionEvaluator(predictionCol=\"prediction\", labelCol=\"price\",metricName=\"rmse\")\n",
        "print(\"RMSE (R2) on test data = %g\" % lr_evaluator_raw.evaluate(fullPredictions_raw))"
      ]
    },
    {
      "cell_type": "markdown",
      "metadata": {
        "id": "naDsRX1-CPle"
      },
      "source": [
        "# Linear Regression on Feature Engineered data"
      ]
    },
    {
      "cell_type": "code",
      "execution_count": 47,
      "metadata": {
        "id": "HOc65gedCPle"
      },
      "outputs": [],
      "source": [
        "lr = LinearRegression(featuresCol = 'features', labelCol='label')\n",
        "lr_model = lr.fit(train_df)\n",
        "#print(\"Coefficients: \" + str(lr_model.coefficients))\n",
        "#print(\"Intercept: \" + str(lr_model.intercept))"
      ]
    },
    {
      "cell_type": "code",
      "execution_count": 48,
      "metadata": {
        "id": "ngVh0VLfCPle",
        "colab": {
          "base_uri": "https://localhost:8080/"
        },
        "outputId": "335f79e3-e24e-4e8e-9cd5-1343df3ca569"
      },
      "outputs": [
        {
          "output_type": "stream",
          "name": "stdout",
          "text": [
            "Linear Regression RMSE: 37.193762\n",
            "Linear Regression R2: 0.564775\n"
          ]
        }
      ],
      "source": [
        "trainingSummary = lr_model.summary\n",
        "print(\"Linear Regression RMSE: %f\" % trainingSummary.rootMeanSquaredError)\n",
        "print(\"Linear Regression R2: %f\" % trainingSummary.r2)"
      ]
    },
    {
      "cell_type": "code",
      "execution_count": 49,
      "metadata": {
        "scrolled": false,
        "id": "Zj7OFYXdCPlf",
        "colab": {
          "base_uri": "https://localhost:8080/"
        },
        "outputId": "e70bb4cb-b084-4c21-9fd3-0eb010426269"
      },
      "outputs": [
        {
          "output_type": "stream",
          "name": "stdout",
          "text": [
            "DataFrame[features: vector, label: int, prediction: double]\n",
            "+-----------------+-----+--------------------+\n",
            "|       prediction|label|            features|\n",
            "+-----------------+-----+--------------------+\n",
            "|66.27420250247772|   70|(236,[0,1,2,3,4,5...|\n",
            "|82.27083455913379|   49|(236,[0,1,2,3,4,5...|\n",
            "|62.06087881951285|   65|(236,[0,1,2,3,4,5...|\n",
            "|84.09239291832705|   43|(236,[0,1,2,3,4,5...|\n",
            "| 77.8318133320393|   55|(236,[0,1,2,3,4,5...|\n",
            "+-----------------+-----+--------------------+\n",
            "only showing top 5 rows\n",
            "\n"
          ]
        }
      ],
      "source": [
        "# TEST Results\n",
        "fullPredictions = lr_model.transform(test_df).cache()\n",
        "print(fullPredictions)\n",
        "fullPredictions.select(\"prediction\",\"label\",\"features\").show(5)"
      ]
    },
    {
      "cell_type": "code",
      "execution_count": 50,
      "metadata": {
        "id": "miQO5GzHCPlf",
        "colab": {
          "base_uri": "https://localhost:8080/"
        },
        "outputId": "e0e3d982-acf1-4b0d-8a96-5e260a5ed706"
      },
      "outputs": [
        {
          "output_type": "stream",
          "name": "stdout",
          "text": [
            "R Squared (R2) on test data = 0.563509\n",
            "RMSE (R2) on test data = 36.9113\n"
          ]
        }
      ],
      "source": [
        "lr_evaluator = RegressionEvaluator(predictionCol=\"prediction\", labelCol=\"label\",metricName=\"r2\")\n",
        "print(\"R Squared (R2) on test data = %g\" % lr_evaluator.evaluate(fullPredictions))\n",
        "lr_evaluator = RegressionEvaluator(predictionCol=\"prediction\", labelCol=\"label\",metricName=\"rmse\")\n",
        "print(\"RMSE (R2) on test data = %g\" % lr_evaluator.evaluate(fullPredictions))\n",
        "rmse = lr_evaluator.evaluate(fullPredictions)"
      ]
    },
    {
      "cell_type": "code",
      "execution_count": 51,
      "metadata": {
        "id": "47pgbuQvCPlf",
        "colab": {
          "base_uri": "https://localhost:8080/",
          "height": 35
        },
        "outputId": "ec4a316c-df97-4651-d8b8-4be06d1b5cd9"
      },
      "outputs": [
        {
          "output_type": "execute_result",
          "data": {
            "text/plain": [
              "'36.911281'"
            ],
            "application/vnd.google.colaboratory.intrinsic+json": {
              "type": "string"
            }
          },
          "metadata": {},
          "execution_count": 51
        }
      ],
      "source": [
        "\"%2f\"%rmse"
      ]
    },
    {
      "cell_type": "code",
      "execution_count": 52,
      "metadata": {
        "id": "EAnvBYn0CPlf",
        "colab": {
          "base_uri": "https://localhost:8080/",
          "height": 35
        },
        "outputId": "a6741980-b4a9-4f4a-b17d-23dd0a1a3ab7"
      },
      "outputs": [
        {
          "output_type": "execute_result",
          "data": {
            "text/plain": [
              "'36.91'"
            ],
            "application/vnd.google.colaboratory.intrinsic+json": {
              "type": "string"
            }
          },
          "metadata": {},
          "execution_count": 52
        }
      ],
      "source": [
        "\"{:.2f}\".format(rmse)"
      ]
    },
    {
      "cell_type": "markdown",
      "metadata": {
        "id": "8APSUpDRCPlf"
      },
      "source": [
        "# Linear Regression using HyperParameter Tuning"
      ]
    },
    {
      "cell_type": "code",
      "execution_count": 53,
      "metadata": {
        "id": "m6wVxGfGCPlf",
        "colab": {
          "base_uri": "https://localhost:8080/"
        },
        "outputId": "b3e82fb6-e172-4f08-95f6-947bb9ca1d3e"
      },
      "outputs": [
        {
          "output_type": "stream",
          "name": "stdout",
          "text": [
            "R Squared (R2) on test data = 0.561017\n",
            "RMSE (R2) on test data = 37.1934\n"
          ]
        }
      ],
      "source": [
        "train, test = df4.randomSplit([0.7, 0.3], seed=2)\n",
        "\n",
        "lr = LinearRegression(maxIter=10)\n",
        "\n",
        "paramGrid = ParamGridBuilder()\\\n",
        "    .addGrid(lr.regParam, [0.1, 0.01]) \\\n",
        "    .addGrid(lr.fitIntercept, [False, True])\\\n",
        "    .addGrid(lr.elasticNetParam, [0.0, 0.5, 1.0])\\\n",
        "    .build()\n",
        "\n",
        "tvs = TrainValidationSplit(estimator=lr,\n",
        "                           estimatorParamMaps=paramGrid,\n",
        "                           evaluator=RegressionEvaluator(),\n",
        "                           trainRatio=0.7)\n",
        "\n",
        "model = tvs.fit(train)\n",
        "\n",
        "preds = model.transform(test)\\\n",
        "    .select(\"features\", \"label\", \"prediction\")"
      ]
    },
    {
      "cell_type": "code",
      "source": [
        "from pyspark.ml.evaluation import RegressionEvaluator\n",
        "lr_evaluator = RegressionEvaluator(predictionCol=\"prediction\", labelCol=\"label\",metricName=\"r2\")\n",
        "print(\"R Squared (R2) on test data = %g\" % lr_evaluator.evaluate(preds))\n",
        "lr_evaluator = RegressionEvaluator(predictionCol=\"prediction\", labelCol=\"label\",metricName=\"rmse\")\n",
        "print(\"RMSE (R2) on test data = %g\" % lr_evaluator.evaluate(preds))"
      ],
      "metadata": {
        "id": "RZzNWLk0ZCcd"
      },
      "execution_count": null,
      "outputs": []
    },
    {
      "cell_type": "markdown",
      "metadata": {
        "id": "EEYJmQRlCPlg"
      },
      "source": [
        "# Decision Tree Regressor"
      ]
    },
    {
      "cell_type": "code",
      "execution_count": 54,
      "metadata": {
        "id": "EmYKxksQCPlg",
        "colab": {
          "base_uri": "https://localhost:8080/"
        },
        "outputId": "0ba984b0-b204-479d-fb21-d38fb3659fd5"
      },
      "outputs": [
        {
          "output_type": "stream",
          "name": "stdout",
          "text": [
            "R Squared (R2) on test data = 0.543221\n",
            "RMSE on test data = 37.7593\n"
          ]
        }
      ],
      "source": [
        "dt = DecisionTreeRegressor(featuresCol = 'features', labelCol='label')\n",
        "dt_model = dt.fit(train_df)\n",
        "dtPrediction = dt_model.transform(test_df)\n",
        "dt_evaluator = RegressionEvaluator(predictionCol=\"prediction\", labelCol=\"label\",metricName=\"r2\")\n",
        "print(\"R Squared (R2) on test data = %g\" % dt_evaluator.evaluate(dtPrediction))\n",
        "dt_evaluator = RegressionEvaluator(predictionCol=\"prediction\", labelCol=\"label\",metricName=\"rmse\")\n",
        "print(\"RMSE on test data = %g\" % dt_evaluator.evaluate(dtPrediction))"
      ]
    },
    {
      "cell_type": "code",
      "execution_count": 55,
      "metadata": {
        "id": "es-FtyWNCPlg",
        "colab": {
          "base_uri": "https://localhost:8080/"
        },
        "outputId": "fd513b28-e830-4ce0-a6aa-2a517eaf1174"
      },
      "outputs": [
        {
          "output_type": "stream",
          "name": "stdout",
          "text": [
            "+--------------------+-----+-----------------+\n",
            "|            features|label|       prediction|\n",
            "+--------------------+-----+-----------------+\n",
            "|(236,[0,1,2,3,4,5...|   70|65.46760391198045|\n",
            "|(236,[0,1,2,3,4,5...|   49|65.46760391198045|\n",
            "|(236,[0,1,2,3,4,5...|   65|65.46760391198045|\n",
            "|(236,[0,1,2,3,4,5...|   43|65.46760391198045|\n",
            "|(236,[0,1,2,3,4,5...|   55|65.46760391198045|\n",
            "+--------------------+-----+-----------------+\n",
            "only showing top 5 rows\n",
            "\n"
          ]
        }
      ],
      "source": [
        "dtPrediction.show(5)"
      ]
    }
  ],
  "metadata": {
    "kernelspec": {
      "display_name": "Python 3",
      "language": "python",
      "name": "python3"
    },
    "language_info": {
      "codemirror_mode": {
        "name": "ipython",
        "version": 3
      },
      "file_extension": ".py",
      "mimetype": "text/x-python",
      "name": "python",
      "nbconvert_exporter": "python",
      "pygments_lexer": "ipython3",
      "version": "3.8.5"
    },
    "colab": {
      "provenance": []
    }
  },
  "nbformat": 4,
  "nbformat_minor": 0
}