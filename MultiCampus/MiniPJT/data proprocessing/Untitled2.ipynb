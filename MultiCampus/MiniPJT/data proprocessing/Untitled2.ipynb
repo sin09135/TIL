{
 "cells": [
  {
   "cell_type": "markdown",
   "id": "d0193b50-cf03-42a5-9b87-9efeada24fb6",
   "metadata": {},
   "source": [
    "# 모델링 평가 지표 개선"
   ]
  },
  {
   "cell_type": "code",
   "execution_count": 1,
   "id": "74d1a244-55c7-4e54-a2e7-82737c56e033",
   "metadata": {
    "tags": []
   },
   "outputs": [],
   "source": [
    "import pandas as pd\n",
    "import numpy as np\n",
    "\n",
    "#시각화, 한글폰트\n",
    "%matplotlib inline  \n",
    "import matplotlib.pyplot as plt\n",
    "from matplotlib import rc\n",
    "import seaborn as sns\n",
    "\n",
    "# 맥 기본 폰트 중 사용\n",
    "rc('font', family='AppleGothic') \n",
    "plt.rcParams['axes.unicode_minus'] = False\n"
   ]
  },
  {
   "cell_type": "markdown",
   "id": "83b3e0ba-aac5-4d0a-bc55-bfaabdc5d1fc",
   "metadata": {},
   "source": [
    "데이터 불러오기\n",
    "- 면적당 전처리 완료 파일 가공\n",
    "- 파생변수 전처리 완료 파일 가공"
   ]
  },
  {
   "cell_type": "code",
   "execution_count": null,
   "id": "93bd4c47-fccf-42fa-b32f-6e1588710780",
   "metadata": {},
   "outputs": [],
   "source": [
    "df = "
   ]
  }
 ],
 "metadata": {
  "kernelspec": {
   "display_name": "Python 3 (ipykernel)",
   "language": "python",
   "name": "python3"
  },
  "language_info": {
   "codemirror_mode": {
    "name": "ipython",
    "version": 3
   },
   "file_extension": ".py",
   "mimetype": "text/x-python",
   "name": "python",
   "nbconvert_exporter": "python",
   "pygments_lexer": "ipython3",
   "version": "3.11.4"
  }
 },
 "nbformat": 4,
 "nbformat_minor": 5
}
